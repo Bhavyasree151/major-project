{
 "cells": [
  {
   "cell_type": "code",
   "execution_count": 1,
   "id": "26d6c88f",
   "metadata": {},
   "outputs": [
    {
     "name": "stdout",
     "output_type": "stream",
     "text": [
      "Requirement already satisfied: ultralytics in c:\\users\\bhavy\\anaconda32\\lib\\site-packages (8.3.73)\n",
      "Requirement already satisfied: numpy<=2.1.1,>=1.23.0 in c:\\users\\bhavy\\anaconda32\\lib\\site-packages (from ultralytics) (1.26.4)\n",
      "Requirement already satisfied: matplotlib>=3.3.0 in c:\\users\\bhavy\\anaconda32\\lib\\site-packages (from ultralytics) (3.7.2)\n",
      "Requirement already satisfied: opencv-python>=4.6.0 in c:\\users\\bhavy\\anaconda32\\lib\\site-packages (from ultralytics) (4.9.0.80)\n",
      "Requirement already satisfied: pillow>=7.1.2 in c:\\users\\bhavy\\anaconda32\\lib\\site-packages (from ultralytics) (11.1.0)\n",
      "Requirement already satisfied: pyyaml>=5.3.1 in c:\\users\\bhavy\\anaconda32\\lib\\site-packages (from ultralytics) (6.0)\n",
      "Requirement already satisfied: requests>=2.23.0 in c:\\users\\bhavy\\anaconda32\\lib\\site-packages (from ultralytics) (2.32.3)\n",
      "Requirement already satisfied: scipy>=1.4.1 in c:\\users\\bhavy\\anaconda32\\lib\\site-packages (from ultralytics) (1.11.1)\n",
      "Requirement already satisfied: torch>=1.8.0 in c:\\users\\bhavy\\anaconda32\\lib\\site-packages (from ultralytics) (2.2.2)\n",
      "Requirement already satisfied: torchvision>=0.9.0 in c:\\users\\bhavy\\anaconda32\\lib\\site-packages (from ultralytics) (0.17.2)\n",
      "Requirement already satisfied: tqdm>=4.64.0 in c:\\users\\bhavy\\anaconda32\\lib\\site-packages (from ultralytics) (4.67.1)\n",
      "Requirement already satisfied: psutil in c:\\users\\bhavy\\anaconda32\\lib\\site-packages (from ultralytics) (5.9.0)\n",
      "Requirement already satisfied: py-cpuinfo in c:\\users\\bhavy\\anaconda32\\lib\\site-packages (from ultralytics) (8.0.0)\n",
      "Requirement already satisfied: pandas>=1.1.4 in c:\\users\\bhavy\\anaconda32\\lib\\site-packages (from ultralytics) (2.0.3)\n",
      "Requirement already satisfied: seaborn>=0.11.0 in c:\\users\\bhavy\\anaconda32\\lib\\site-packages (from ultralytics) (0.12.2)\n",
      "Requirement already satisfied: ultralytics-thop>=2.0.0 in c:\\users\\bhavy\\anaconda32\\lib\\site-packages (from ultralytics) (2.0.14)\n",
      "Requirement already satisfied: contourpy>=1.0.1 in c:\\users\\bhavy\\anaconda32\\lib\\site-packages (from matplotlib>=3.3.0->ultralytics) (1.0.5)\n",
      "Requirement already satisfied: cycler>=0.10 in c:\\users\\bhavy\\anaconda32\\lib\\site-packages (from matplotlib>=3.3.0->ultralytics) (0.11.0)\n",
      "Requirement already satisfied: fonttools>=4.22.0 in c:\\users\\bhavy\\anaconda32\\lib\\site-packages (from matplotlib>=3.3.0->ultralytics) (4.25.0)\n",
      "Requirement already satisfied: kiwisolver>=1.0.1 in c:\\users\\bhavy\\anaconda32\\lib\\site-packages (from matplotlib>=3.3.0->ultralytics) (1.4.4)\n",
      "Requirement already satisfied: packaging>=20.0 in c:\\users\\bhavy\\anaconda32\\lib\\site-packages (from matplotlib>=3.3.0->ultralytics) (23.1)\n",
      "Requirement already satisfied: pyparsing<3.1,>=2.3.1 in c:\\users\\bhavy\\anaconda32\\lib\\site-packages (from matplotlib>=3.3.0->ultralytics) (3.0.9)\n",
      "Requirement already satisfied: python-dateutil>=2.7 in c:\\users\\bhavy\\anaconda32\\lib\\site-packages (from matplotlib>=3.3.0->ultralytics) (2.8.2)\n",
      "Requirement already satisfied: pytz>=2020.1 in c:\\users\\bhavy\\anaconda32\\lib\\site-packages (from pandas>=1.1.4->ultralytics) (2023.3.post1)\n",
      "Requirement already satisfied: tzdata>=2022.1 in c:\\users\\bhavy\\anaconda32\\lib\\site-packages (from pandas>=1.1.4->ultralytics) (2023.3)\n",
      "Requirement already satisfied: charset-normalizer<4,>=2 in c:\\users\\bhavy\\anaconda32\\lib\\site-packages (from requests>=2.23.0->ultralytics) (2.0.4)\n",
      "Requirement already satisfied: idna<4,>=2.5 in c:\\users\\bhavy\\anaconda32\\lib\\site-packages (from requests>=2.23.0->ultralytics) (3.7)\n",
      "Requirement already satisfied: urllib3<3,>=1.21.1 in c:\\users\\bhavy\\anaconda32\\lib\\site-packages (from requests>=2.23.0->ultralytics) (1.26.16)\n",
      "Requirement already satisfied: certifi>=2017.4.17 in c:\\users\\bhavy\\anaconda32\\lib\\site-packages (from requests>=2.23.0->ultralytics) (2024.2.2)\n",
      "Requirement already satisfied: filelock in c:\\users\\bhavy\\anaconda32\\lib\\site-packages (from torch>=1.8.0->ultralytics) (3.9.0)\n",
      "Requirement already satisfied: typing-extensions>=4.8.0 in c:\\users\\bhavy\\anaconda32\\lib\\site-packages (from torch>=1.8.0->ultralytics) (4.12.2)\n",
      "Requirement already satisfied: sympy in c:\\users\\bhavy\\anaconda32\\lib\\site-packages (from torch>=1.8.0->ultralytics) (1.11.1)\n",
      "Requirement already satisfied: networkx in c:\\users\\bhavy\\anaconda32\\lib\\site-packages (from torch>=1.8.0->ultralytics) (3.1)\n",
      "Requirement already satisfied: jinja2 in c:\\users\\bhavy\\anaconda32\\lib\\site-packages (from torch>=1.8.0->ultralytics) (3.1.2)\n",
      "Requirement already satisfied: fsspec in c:\\users\\bhavy\\anaconda32\\lib\\site-packages (from torch>=1.8.0->ultralytics) (2023.4.0)\n",
      "Requirement already satisfied: colorama in c:\\users\\bhavy\\anaconda32\\lib\\site-packages (from tqdm>=4.64.0->ultralytics) (0.4.6)\n",
      "Requirement already satisfied: six>=1.5 in c:\\users\\bhavy\\anaconda32\\lib\\site-packages (from python-dateutil>=2.7->matplotlib>=3.3.0->ultralytics) (1.16.0)\n",
      "Requirement already satisfied: MarkupSafe>=2.0 in c:\\users\\bhavy\\anaconda32\\lib\\site-packages (from jinja2->torch>=1.8.0->ultralytics) (2.1.1)\n",
      "Requirement already satisfied: mpmath>=0.19 in c:\\users\\bhavy\\anaconda32\\lib\\site-packages (from sympy->torch>=1.8.0->ultralytics) (1.3.0)\n"
     ]
    },
    {
     "name": "stderr",
     "output_type": "stream",
     "text": [
      "WARNING: Ignoring invalid distribution ~ip (C:\\Users\\bhavy\\AppData\\Roaming\\Python\\Python311\\site-packages)\n",
      "WARNING: Ignoring invalid distribution ~ip (C:\\Users\\bhavy\\AppData\\Roaming\\Python\\Python311\\site-packages)\n",
      "WARNING: Ignoring invalid distribution ~ip (C:\\Users\\bhavy\\AppData\\Roaming\\Python\\Python311\\site-packages)\n",
      "WARNING: Ignoring invalid distribution ~ip (C:\\Users\\bhavy\\AppData\\Roaming\\Python\\Python311\\site-packages)\n",
      "WARNING: Ignoring invalid distribution ~ip (C:\\Users\\bhavy\\AppData\\Roaming\\Python\\Python311\\site-packages)\n"
     ]
    },
    {
     "name": "stdout",
     "output_type": "stream",
     "text": [
      "Looking in indexes: https://download.pytorch.org/whl/cu118\n",
      "Requirement already satisfied: torch in c:\\users\\bhavy\\anaconda32\\lib\\site-packages (2.2.2)\n",
      "Requirement already satisfied: torchvision in c:\\users\\bhavy\\anaconda32\\lib\\site-packages (0.17.2)\n",
      "Requirement already satisfied: torchaudio in c:\\users\\bhavy\\anaconda32\\lib\\site-packages (2.2.2)\n",
      "Requirement already satisfied: filelock in c:\\users\\bhavy\\anaconda32\\lib\\site-packages (from torch) (3.9.0)\n",
      "Requirement already satisfied: typing-extensions>=4.8.0 in c:\\users\\bhavy\\anaconda32\\lib\\site-packages (from torch) (4.12.2)\n",
      "Requirement already satisfied: sympy in c:\\users\\bhavy\\anaconda32\\lib\\site-packages (from torch) (1.11.1)\n",
      "Requirement already satisfied: networkx in c:\\users\\bhavy\\anaconda32\\lib\\site-packages (from torch) (3.1)\n",
      "Requirement already satisfied: jinja2 in c:\\users\\bhavy\\anaconda32\\lib\\site-packages (from torch) (3.1.2)\n",
      "Requirement already satisfied: fsspec in c:\\users\\bhavy\\anaconda32\\lib\\site-packages (from torch) (2023.4.0)\n",
      "Requirement already satisfied: numpy in c:\\users\\bhavy\\anaconda32\\lib\\site-packages (from torchvision) (1.26.4)\n",
      "Requirement already satisfied: pillow!=8.3.*,>=5.3.0 in c:\\users\\bhavy\\anaconda32\\lib\\site-packages (from torchvision) (11.1.0)\n",
      "Requirement already satisfied: MarkupSafe>=2.0 in c:\\users\\bhavy\\anaconda32\\lib\\site-packages (from jinja2->torch) (2.1.1)\n",
      "Requirement already satisfied: mpmath>=0.19 in c:\\users\\bhavy\\anaconda32\\lib\\site-packages (from sympy->torch) (1.3.0)\n"
     ]
    },
    {
     "name": "stderr",
     "output_type": "stream",
     "text": [
      "WARNING: Ignoring invalid distribution ~ip (C:\\Users\\bhavy\\AppData\\Roaming\\Python\\Python311\\site-packages)\n",
      "WARNING: Ignoring invalid distribution ~ip (C:\\Users\\bhavy\\AppData\\Roaming\\Python\\Python311\\site-packages)\n",
      "WARNING: Ignoring invalid distribution ~ip (C:\\Users\\bhavy\\AppData\\Roaming\\Python\\Python311\\site-packages)\n",
      "WARNING: Ignoring invalid distribution ~ip (C:\\Users\\bhavy\\AppData\\Roaming\\Python\\Python311\\site-packages)\n",
      "WARNING: Ignoring invalid distribution ~ip (C:\\Users\\bhavy\\AppData\\Roaming\\Python\\Python311\\site-packages)\n"
     ]
    },
    {
     "name": "stdout",
     "output_type": "stream",
     "text": [
      "Requirement already satisfied: opencv-python in c:\\users\\bhavy\\anaconda32\\lib\\site-packages (4.9.0.80)\n",
      "Requirement already satisfied: numpy in c:\\users\\bhavy\\anaconda32\\lib\\site-packages (1.26.4)\n",
      "Requirement already satisfied: monodepth2 in c:\\users\\bhavy\\anaconda32\\lib\\site-packages (1.0.0)\n"
     ]
    },
    {
     "name": "stderr",
     "output_type": "stream",
     "text": [
      "WARNING: Ignoring invalid distribution ~ip (C:\\Users\\bhavy\\AppData\\Roaming\\Python\\Python311\\site-packages)\n",
      "WARNING: Ignoring invalid distribution ~ip (C:\\Users\\bhavy\\AppData\\Roaming\\Python\\Python311\\site-packages)\n",
      "WARNING: Ignoring invalid distribution ~ip (C:\\Users\\bhavy\\AppData\\Roaming\\Python\\Python311\\site-packages)\n",
      "WARNING: Ignoring invalid distribution ~ip (C:\\Users\\bhavy\\AppData\\Roaming\\Python\\Python311\\site-packages)\n",
      "WARNING: Ignoring invalid distribution ~ip (C:\\Users\\bhavy\\AppData\\Roaming\\Python\\Python311\\site-packages)\n"
     ]
    }
   ],
   "source": [
    "!pip install ultralytics\n",
    "!pip install torch torchvision torchaudio --index-url https://download.pytorch.org/whl/cu118\n",
    "!pip install opencv-python numpy monodepth2\n"
   ]
  },
  {
   "cell_type": "code",
   "execution_count": 2,
   "id": "95273996",
   "metadata": {},
   "outputs": [
    {
     "name": "stdout",
     "output_type": "stream",
     "text": [
      "C:\\Users\\bhavy\\yolov5\n"
     ]
    },
    {
     "name": "stderr",
     "output_type": "stream",
     "text": [
      "fatal: destination path 'yolov5' already exists and is not an empty directory.\n"
     ]
    },
    {
     "name": "stdout",
     "output_type": "stream",
     "text": [
      "Requirement already satisfied: gitpython>=3.1.30 in c:\\users\\bhavy\\anaconda32\\lib\\site-packages (from -r requirements.txt (line 5)) (3.1.44)\n",
      "Requirement already satisfied: matplotlib>=3.3 in c:\\users\\bhavy\\anaconda32\\lib\\site-packages (from -r requirements.txt (line 6)) (3.7.2)\n",
      "Requirement already satisfied: numpy>=1.23.5 in c:\\users\\bhavy\\anaconda32\\lib\\site-packages (from -r requirements.txt (line 7)) (1.26.4)\n",
      "Requirement already satisfied: opencv-python>=4.1.1 in c:\\users\\bhavy\\anaconda32\\lib\\site-packages (from -r requirements.txt (line 8)) (4.9.0.80)\n",
      "Requirement already satisfied: pillow>=10.3.0 in c:\\users\\bhavy\\anaconda32\\lib\\site-packages (from -r requirements.txt (line 9)) (11.1.0)\n",
      "Requirement already satisfied: psutil in c:\\users\\bhavy\\anaconda32\\lib\\site-packages (from -r requirements.txt (line 10)) (5.9.0)\n",
      "Requirement already satisfied: PyYAML>=5.3.1 in c:\\users\\bhavy\\anaconda32\\lib\\site-packages (from -r requirements.txt (line 11)) (6.0)\n",
      "Requirement already satisfied: requests>=2.32.2 in c:\\users\\bhavy\\anaconda32\\lib\\site-packages (from -r requirements.txt (line 12)) (2.32.3)\n",
      "Requirement already satisfied: scipy>=1.4.1 in c:\\users\\bhavy\\anaconda32\\lib\\site-packages (from -r requirements.txt (line 13)) (1.11.1)\n",
      "Requirement already satisfied: thop>=0.1.1 in c:\\users\\bhavy\\anaconda32\\lib\\site-packages (from -r requirements.txt (line 14)) (0.1.1.post2209072238)\n",
      "Requirement already satisfied: torch>=1.8.0 in c:\\users\\bhavy\\anaconda32\\lib\\site-packages (from -r requirements.txt (line 15)) (2.2.2)\n",
      "Requirement already satisfied: torchvision>=0.9.0 in c:\\users\\bhavy\\anaconda32\\lib\\site-packages (from -r requirements.txt (line 16)) (0.17.2)\n",
      "Requirement already satisfied: tqdm>=4.66.3 in c:\\users\\bhavy\\anaconda32\\lib\\site-packages (from -r requirements.txt (line 17)) (4.67.1)\n",
      "Requirement already satisfied: ultralytics>=8.2.34 in c:\\users\\bhavy\\anaconda32\\lib\\site-packages (from -r requirements.txt (line 18)) (8.3.73)\n",
      "Requirement already satisfied: pandas>=1.1.4 in c:\\users\\bhavy\\anaconda32\\lib\\site-packages (from -r requirements.txt (line 27)) (2.0.3)\n",
      "Requirement already satisfied: seaborn>=0.11.0 in c:\\users\\bhavy\\anaconda32\\lib\\site-packages (from -r requirements.txt (line 28)) (0.12.2)\n",
      "Requirement already satisfied: setuptools>=70.0.0 in c:\\users\\bhavy\\anaconda32\\lib\\site-packages (from -r requirements.txt (line 42)) (75.8.0)\n",
      "Requirement already satisfied: gitdb<5,>=4.0.1 in c:\\users\\bhavy\\anaconda32\\lib\\site-packages (from gitpython>=3.1.30->-r requirements.txt (line 5)) (4.0.12)\n",
      "Requirement already satisfied: contourpy>=1.0.1 in c:\\users\\bhavy\\anaconda32\\lib\\site-packages (from matplotlib>=3.3->-r requirements.txt (line 6)) (1.0.5)\n",
      "Requirement already satisfied: cycler>=0.10 in c:\\users\\bhavy\\anaconda32\\lib\\site-packages (from matplotlib>=3.3->-r requirements.txt (line 6)) (0.11.0)\n",
      "Requirement already satisfied: fonttools>=4.22.0 in c:\\users\\bhavy\\anaconda32\\lib\\site-packages (from matplotlib>=3.3->-r requirements.txt (line 6)) (4.25.0)\n",
      "Requirement already satisfied: kiwisolver>=1.0.1 in c:\\users\\bhavy\\anaconda32\\lib\\site-packages (from matplotlib>=3.3->-r requirements.txt (line 6)) (1.4.4)\n",
      "Requirement already satisfied: packaging>=20.0 in c:\\users\\bhavy\\anaconda32\\lib\\site-packages (from matplotlib>=3.3->-r requirements.txt (line 6)) (23.1)\n",
      "Requirement already satisfied: pyparsing<3.1,>=2.3.1 in c:\\users\\bhavy\\anaconda32\\lib\\site-packages (from matplotlib>=3.3->-r requirements.txt (line 6)) (3.0.9)\n",
      "Requirement already satisfied: python-dateutil>=2.7 in c:\\users\\bhavy\\anaconda32\\lib\\site-packages (from matplotlib>=3.3->-r requirements.txt (line 6)) (2.8.2)\n",
      "Requirement already satisfied: charset-normalizer<4,>=2 in c:\\users\\bhavy\\anaconda32\\lib\\site-packages (from requests>=2.32.2->-r requirements.txt (line 12)) (2.0.4)\n",
      "Requirement already satisfied: idna<4,>=2.5 in c:\\users\\bhavy\\anaconda32\\lib\\site-packages (from requests>=2.32.2->-r requirements.txt (line 12)) (3.7)\n",
      "Requirement already satisfied: urllib3<3,>=1.21.1 in c:\\users\\bhavy\\anaconda32\\lib\\site-packages (from requests>=2.32.2->-r requirements.txt (line 12)) (1.26.16)\n",
      "Requirement already satisfied: certifi>=2017.4.17 in c:\\users\\bhavy\\anaconda32\\lib\\site-packages (from requests>=2.32.2->-r requirements.txt (line 12)) (2024.2.2)\n",
      "Requirement already satisfied: filelock in c:\\users\\bhavy\\anaconda32\\lib\\site-packages (from torch>=1.8.0->-r requirements.txt (line 15)) (3.9.0)\n",
      "Requirement already satisfied: typing-extensions>=4.8.0 in c:\\users\\bhavy\\anaconda32\\lib\\site-packages (from torch>=1.8.0->-r requirements.txt (line 15)) (4.12.2)\n",
      "Requirement already satisfied: sympy in c:\\users\\bhavy\\anaconda32\\lib\\site-packages (from torch>=1.8.0->-r requirements.txt (line 15)) (1.11.1)\n",
      "Requirement already satisfied: networkx in c:\\users\\bhavy\\anaconda32\\lib\\site-packages (from torch>=1.8.0->-r requirements.txt (line 15)) (3.1)\n",
      "Requirement already satisfied: jinja2 in c:\\users\\bhavy\\anaconda32\\lib\\site-packages (from torch>=1.8.0->-r requirements.txt (line 15)) (3.1.2)\n",
      "Requirement already satisfied: fsspec in c:\\users\\bhavy\\anaconda32\\lib\\site-packages (from torch>=1.8.0->-r requirements.txt (line 15)) (2023.4.0)\n",
      "Requirement already satisfied: colorama in c:\\users\\bhavy\\anaconda32\\lib\\site-packages (from tqdm>=4.66.3->-r requirements.txt (line 17)) (0.4.6)\n",
      "Requirement already satisfied: py-cpuinfo in c:\\users\\bhavy\\anaconda32\\lib\\site-packages (from ultralytics>=8.2.34->-r requirements.txt (line 18)) (8.0.0)\n",
      "Requirement already satisfied: ultralytics-thop>=2.0.0 in c:\\users\\bhavy\\anaconda32\\lib\\site-packages (from ultralytics>=8.2.34->-r requirements.txt (line 18)) (2.0.14)\n",
      "Requirement already satisfied: pytz>=2020.1 in c:\\users\\bhavy\\anaconda32\\lib\\site-packages (from pandas>=1.1.4->-r requirements.txt (line 27)) (2023.3.post1)\n",
      "Requirement already satisfied: tzdata>=2022.1 in c:\\users\\bhavy\\anaconda32\\lib\\site-packages (from pandas>=1.1.4->-r requirements.txt (line 27)) (2023.3)\n",
      "Requirement already satisfied: smmap<6,>=3.0.1 in c:\\users\\bhavy\\anaconda32\\lib\\site-packages (from gitdb<5,>=4.0.1->gitpython>=3.1.30->-r requirements.txt (line 5)) (5.0.2)\n",
      "Requirement already satisfied: six>=1.5 in c:\\users\\bhavy\\anaconda32\\lib\\site-packages (from python-dateutil>=2.7->matplotlib>=3.3->-r requirements.txt (line 6)) (1.16.0)\n",
      "Requirement already satisfied: MarkupSafe>=2.0 in c:\\users\\bhavy\\anaconda32\\lib\\site-packages (from jinja2->torch>=1.8.0->-r requirements.txt (line 15)) (2.1.1)\n",
      "Requirement already satisfied: mpmath>=0.19 in c:\\users\\bhavy\\anaconda32\\lib\\site-packages (from sympy->torch>=1.8.0->-r requirements.txt (line 15)) (1.3.0)\n"
     ]
    },
    {
     "name": "stderr",
     "output_type": "stream",
     "text": [
      "WARNING: Ignoring invalid distribution ~ip (C:\\Users\\bhavy\\AppData\\Roaming\\Python\\Python311\\site-packages)\n",
      "WARNING: Ignoring invalid distribution ~ip (C:\\Users\\bhavy\\AppData\\Roaming\\Python\\Python311\\site-packages)\n",
      "WARNING: Ignoring invalid distribution ~ip (C:\\Users\\bhavy\\AppData\\Roaming\\Python\\Python311\\site-packages)\n",
      "WARNING: Ignoring invalid distribution ~ip (C:\\Users\\bhavy\\AppData\\Roaming\\Python\\Python311\\site-packages)\n",
      "WARNING: Ignoring invalid distribution ~ip (C:\\Users\\bhavy\\AppData\\Roaming\\Python\\Python311\\site-packages)\n"
     ]
    }
   ],
   "source": [
    "# Clone YOLOv5 repository\n",
    "!git clone https://github.com/ultralytics/yolov5.git\n",
    "\n",
    "# Change directory to yolov5\n",
    "%cd yolov5\n",
    "\n",
    "# Install dependencies\n",
    "!pip install -r requirements.txt\n"
   ]
  },
  {
   "cell_type": "code",
   "execution_count": 3,
   "id": "76bac5ba",
   "metadata": {},
   "outputs": [],
   "source": [
    "import os\n",
    "import random\n",
    "import shutil\n",
    "from pathlib import Path\n",
    "\n",
    "# Define paths\n",
    "base_dir = r\"D:\\majorproj\\kitti_hyb\"\n",
    "images_dir = Path(base_dir) / \"images\"\n",
    "labels_dir = Path(base_dir) / \"labels\"\n",
    "\n",
    "# Output directories\n",
    "splits = ['train', 'val', 'test']\n",
    "split_ratio = {'train': 0.7, 'val': 0.2, 'test': 0.1}\n",
    "\n",
    "for split in splits:\n",
    "    os.makedirs(images_dir / split, exist_ok=True)\n",
    "    os.makedirs(labels_dir / split, exist_ok=True)\n",
    "\n",
    "# Get all image files (assume .jpg or .png, change extension if needed)\n",
    "image_files = list(images_dir.glob(\"*.jpg\")) + list(images_dir.glob(\"*.png\"))\n",
    "random.shuffle(image_files)\n",
    "\n",
    "# Calculate number of files per split\n",
    "total = len(image_files)\n",
    "train_end = int(split_ratio['train'] * total)\n",
    "val_end = train_end + int(split_ratio['val'] * total)\n",
    "\n",
    "split_files = {\n",
    "    'train': image_files[:train_end],\n",
    "    'val': image_files[train_end:val_end],\n",
    "    'test': image_files[val_end:]\n",
    "}\n",
    "\n",
    "# Move files\n",
    "for split, files in split_files.items():\n",
    "    for img_path in files:\n",
    "        # Move image\n",
    "        shutil.move(str(img_path), str(images_dir / split / img_path.name))\n",
    "\n",
    "        # Move corresponding label (assumes same name but with .txt extension)\n",
    "        label_name = img_path.stem + \".txt\"\n",
    "        label_path = labels_dir / label_name\n",
    "\n",
    "        if label_path.exists():\n",
    "            shutil.move(str(label_path), str(labels_dir / split / label_name))\n",
    "        else:\n",
    "            print(f\"Warning: Label not found for {img_path.name}\")\n"
   ]
  },
  {
   "cell_type": "code",
   "execution_count": 4,
   "id": "05ea5ea7",
   "metadata": {},
   "outputs": [
    {
     "name": "stdout",
     "output_type": "stream",
     "text": [
      "New https://pypi.org/project/ultralytics/8.3.105 available  Update with 'pip install -U ultralytics'\n",
      "Ultralytics 8.3.73  Python-3.11.5 torch-2.2.2 CPU (12th Gen Intel Core(TM) i5-1240P)\n",
      "\u001b[34m\u001b[1mengine\\trainer: \u001b[0mtask=detect, mode=train, model=yolov8s.pt, data=D:\\majorproj\\kitti_hyb\\data.yaml, epochs=50, time=None, patience=100, batch=16, imgsz=640, save=True, save_period=-1, cache=False, device=None, workers=4, project=None, name=train19, exist_ok=False, pretrained=True, optimizer=auto, verbose=True, seed=0, deterministic=True, single_cls=False, rect=False, cos_lr=False, close_mosaic=10, resume=False, amp=True, fraction=1.0, profile=False, freeze=None, multi_scale=False, overlap_mask=True, mask_ratio=4, dropout=0.0, val=True, split=val, save_json=False, save_hybrid=False, conf=None, iou=0.7, max_det=300, half=False, dnn=False, plots=True, source=None, vid_stride=1, stream_buffer=False, visualize=False, augment=False, agnostic_nms=False, classes=None, retina_masks=False, embed=None, show=False, save_frames=False, save_txt=False, save_conf=False, save_crop=False, show_labels=True, show_conf=True, show_boxes=True, line_width=None, format=torchscript, keras=False, optimize=False, int8=False, dynamic=False, simplify=True, opset=None, workspace=None, nms=False, lr0=0.01, lrf=0.01, momentum=0.937, weight_decay=0.0005, warmup_epochs=3.0, warmup_momentum=0.8, warmup_bias_lr=0.1, box=7.5, cls=0.5, dfl=1.5, pose=12.0, kobj=1.0, nbs=64, hsv_h=0.015, hsv_s=0.7, hsv_v=0.4, degrees=0.0, translate=0.1, scale=0.5, shear=0.0, perspective=0.0, flipud=0.0, fliplr=0.5, bgr=0.0, mosaic=1.0, mixup=0.0, copy_paste=0.0, copy_paste_mode=flip, auto_augment=randaugment, erasing=0.4, crop_fraction=1.0, cfg=None, tracker=botsort.yaml, save_dir=runs\\detect\\train19\n",
      "WARNING:tensorflow:From C:\\Users\\bhavy\\anaconda32\\Lib\\site-packages\\keras\\src\\losses.py:2976: The name tf.losses.sparse_softmax_cross_entropy is deprecated. Please use tf.compat.v1.losses.sparse_softmax_cross_entropy instead.\n",
      "\n",
      "Overriding model.yaml nc=80 with nc=9\n",
      "\n",
      "                   from  n    params  module                                       arguments                     \n",
      "  0                  -1  1       928  ultralytics.nn.modules.conv.Conv             [3, 32, 3, 2]                 \n",
      "  1                  -1  1     18560  ultralytics.nn.modules.conv.Conv             [32, 64, 3, 2]                \n",
      "  2                  -1  1     29056  ultralytics.nn.modules.block.C2f             [64, 64, 1, True]             \n",
      "  3                  -1  1     73984  ultralytics.nn.modules.conv.Conv             [64, 128, 3, 2]               \n",
      "  4                  -1  2    197632  ultralytics.nn.modules.block.C2f             [128, 128, 2, True]           \n",
      "  5                  -1  1    295424  ultralytics.nn.modules.conv.Conv             [128, 256, 3, 2]              \n",
      "  6                  -1  2    788480  ultralytics.nn.modules.block.C2f             [256, 256, 2, True]           \n",
      "  7                  -1  1   1180672  ultralytics.nn.modules.conv.Conv             [256, 512, 3, 2]              \n",
      "  8                  -1  1   1838080  ultralytics.nn.modules.block.C2f             [512, 512, 1, True]           \n",
      "  9                  -1  1    656896  ultralytics.nn.modules.block.SPPF            [512, 512, 5]                 \n",
      " 10                  -1  1         0  torch.nn.modules.upsampling.Upsample         [None, 2, 'nearest']          \n",
      " 11             [-1, 6]  1         0  ultralytics.nn.modules.conv.Concat           [1]                           \n",
      " 12                  -1  1    591360  ultralytics.nn.modules.block.C2f             [768, 256, 1]                 \n",
      " 13                  -1  1         0  torch.nn.modules.upsampling.Upsample         [None, 2, 'nearest']          \n",
      " 14             [-1, 4]  1         0  ultralytics.nn.modules.conv.Concat           [1]                           \n",
      " 15                  -1  1    148224  ultralytics.nn.modules.block.C2f             [384, 128, 1]                 \n",
      " 16                  -1  1    147712  ultralytics.nn.modules.conv.Conv             [128, 128, 3, 2]              \n",
      " 17            [-1, 12]  1         0  ultralytics.nn.modules.conv.Concat           [1]                           \n",
      " 18                  -1  1    493056  ultralytics.nn.modules.block.C2f             [384, 256, 1]                 \n",
      " 19                  -1  1    590336  ultralytics.nn.modules.conv.Conv             [256, 256, 3, 2]              \n",
      " 20             [-1, 9]  1         0  ultralytics.nn.modules.conv.Concat           [1]                           \n",
      " 21                  -1  1   1969152  ultralytics.nn.modules.block.C2f             [768, 512, 1]                 \n",
      " 22        [15, 18, 21]  1   2119531  ultralytics.nn.modules.head.Detect           [9, [128, 256, 512]]          \n",
      "Model summary: 225 layers, 11,139,083 parameters, 11,139,067 gradients, 28.7 GFLOPs\n",
      "\n",
      "Transferred 349/355 items from pretrained weights\n",
      "\u001b[34m\u001b[1mTensorBoard: \u001b[0mStart with 'tensorboard --logdir runs\\detect\\train19', view at http://localhost:6006/\n",
      "Freezing layer 'model.22.dfl.conv.weight'\n"
     ]
    },
    {
     "name": "stderr",
     "output_type": "stream",
     "text": [
      "\u001b[34m\u001b[1mtrain: \u001b[0mScanning D:\\majorproj\\kitti_hyb\\labels\\train.cache... 163 images, 0 backgrounds, 0 corrupt: 100%|██████████| 163\u001b[0m\n"
     ]
    },
    {
     "name": "stdout",
     "output_type": "stream",
     "text": [
      "\u001b[34m\u001b[1malbumentations: \u001b[0mBlur(p=0.01, blur_limit=(3, 7)), MedianBlur(p=0.01, blur_limit=(3, 7)), ToGray(p=0.01, num_output_channels=3, method='weighted_average'), CLAHE(p=0.01, clip_limit=(1.0, 4.0), tile_grid_size=(8, 8))\n"
     ]
    },
    {
     "name": "stderr",
     "output_type": "stream",
     "text": [
      "C:\\Users\\bhavy\\anaconda32\\Lib\\site-packages\\albumentations\\__init__.py:28: UserWarning: A new version of Albumentations is available: '2.0.5' (you have '2.0.3'). Upgrade using: pip install -U albumentations. To disable automatic update checks, set the environment variable NO_ALBUMENTATIONS_UPDATE to 1.\n",
      "  check_for_updates()\n",
      "\u001b[34m\u001b[1mval: \u001b[0mScanning D:\\majorproj\\kitti_hyb\\labels\\val.cache... 46 images, 0 backgrounds, 0 corrupt: 100%|██████████| 46/46 [0\u001b[0m\n"
     ]
    },
    {
     "name": "stdout",
     "output_type": "stream",
     "text": [
      "Plotting labels to runs\\detect\\train19\\labels.jpg... \n",
      "\u001b[34m\u001b[1moptimizer:\u001b[0m 'optimizer=auto' found, ignoring 'lr0=0.01' and 'momentum=0.937' and determining best 'optimizer', 'lr0' and 'momentum' automatically... \n",
      "\u001b[34m\u001b[1moptimizer:\u001b[0m AdamW(lr=0.000769, momentum=0.9) with parameter groups 57 weight(decay=0.0), 64 weight(decay=0.0005), 63 bias(decay=0.0)\n",
      "\u001b[34m\u001b[1mTensorBoard: \u001b[0mmodel graph visualization added \n",
      "Image sizes 640 train, 640 val\n",
      "Using 0 dataloader workers\n",
      "Logging results to \u001b[1mruns\\detect\\train19\u001b[0m\n",
      "Starting training for 50 epochs...\n",
      "\n",
      "      Epoch    GPU_mem   box_loss   cls_loss   dfl_loss  Instances       Size\n"
     ]
    },
    {
     "name": "stderr",
     "output_type": "stream",
     "text": [
      "       1/50         0G      1.575      6.168      1.245         18        640: 100%|██████████| 11/11 [04:47<00:00, 26.\n",
      "                 Class     Images  Instances      Box(P          R      mAP50  mAP50-95): 100%|██████████| 2/2 [00:17<0"
     ]
    },
    {
     "name": "stdout",
     "output_type": "stream",
     "text": [
      "                   all         46        243      0.209      0.222      0.226      0.143\n"
     ]
    },
    {
     "name": "stderr",
     "output_type": "stream",
     "text": [
      "\n"
     ]
    },
    {
     "name": "stdout",
     "output_type": "stream",
     "text": [
      "\n",
      "      Epoch    GPU_mem   box_loss   cls_loss   dfl_loss  Instances       Size\n"
     ]
    },
    {
     "name": "stderr",
     "output_type": "stream",
     "text": [
      "       2/50         0G      1.421      1.974      1.122         15        640: 100%|██████████| 11/11 [03:40<00:00, 20.\n",
      "                 Class     Images  Instances      Box(P          R      mAP50  mAP50-95): 100%|██████████| 2/2 [00:11<0"
     ]
    },
    {
     "name": "stdout",
     "output_type": "stream",
     "text": [
      "                   all         46        243      0.649      0.308      0.288      0.172\n"
     ]
    },
    {
     "name": "stderr",
     "output_type": "stream",
     "text": [
      "\n"
     ]
    },
    {
     "name": "stdout",
     "output_type": "stream",
     "text": [
      "\n",
      "      Epoch    GPU_mem   box_loss   cls_loss   dfl_loss  Instances       Size\n"
     ]
    },
    {
     "name": "stderr",
     "output_type": "stream",
     "text": [
      "       3/50         0G      1.327      1.468      1.079         29        640: 100%|██████████| 11/11 [212:56:01<00:00,\n",
      "                 Class     Images  Instances      Box(P          R      mAP50  mAP50-95): 100%|██████████| 2/2 [00:09<0"
     ]
    },
    {
     "name": "stdout",
     "output_type": "stream",
     "text": [
      "                   all         46        243      0.401      0.478      0.407      0.199\n"
     ]
    },
    {
     "name": "stderr",
     "output_type": "stream",
     "text": [
      "\n"
     ]
    },
    {
     "name": "stdout",
     "output_type": "stream",
     "text": [
      "\n",
      "      Epoch    GPU_mem   box_loss   cls_loss   dfl_loss  Instances       Size\n"
     ]
    },
    {
     "name": "stderr",
     "output_type": "stream",
     "text": [
      "       4/50         0G      1.345      1.239      1.076         23        640: 100%|██████████| 11/11 [03:18<00:00, 18.\n",
      "                 Class     Images  Instances      Box(P          R      mAP50  mAP50-95): 100%|██████████| 2/2 [00:10<0"
     ]
    },
    {
     "name": "stdout",
     "output_type": "stream",
     "text": [
      "                   all         46        243      0.699      0.369      0.473      0.218\n"
     ]
    },
    {
     "name": "stderr",
     "output_type": "stream",
     "text": [
      "\n"
     ]
    },
    {
     "name": "stdout",
     "output_type": "stream",
     "text": [
      "\n",
      "      Epoch    GPU_mem   box_loss   cls_loss   dfl_loss  Instances       Size\n"
     ]
    },
    {
     "name": "stderr",
     "output_type": "stream",
     "text": [
      "       5/50         0G      1.332       1.19       1.05         47        640: 100%|██████████| 11/11 [04:27<00:00, 24.\n",
      "                 Class     Images  Instances      Box(P          R      mAP50  mAP50-95): 100%|██████████| 2/2 [00:09<0"
     ]
    },
    {
     "name": "stdout",
     "output_type": "stream",
     "text": [
      "                   all         46        243      0.718      0.422      0.494      0.241\n"
     ]
    },
    {
     "name": "stderr",
     "output_type": "stream",
     "text": [
      "\n"
     ]
    },
    {
     "name": "stdout",
     "output_type": "stream",
     "text": [
      "\n",
      "      Epoch    GPU_mem   box_loss   cls_loss   dfl_loss  Instances       Size\n"
     ]
    },
    {
     "name": "stderr",
     "output_type": "stream",
     "text": [
      "       6/50         0G      1.288      1.094      1.059         31        640: 100%|██████████| 11/11 [04:07<00:00, 22.\n",
      "                 Class     Images  Instances      Box(P          R      mAP50  mAP50-95): 100%|██████████| 2/2 [00:09<0"
     ]
    },
    {
     "name": "stdout",
     "output_type": "stream",
     "text": [
      "                   all         46        243      0.707      0.442      0.484      0.231\n"
     ]
    },
    {
     "name": "stderr",
     "output_type": "stream",
     "text": [
      "\n"
     ]
    },
    {
     "name": "stdout",
     "output_type": "stream",
     "text": [
      "\n",
      "      Epoch    GPU_mem   box_loss   cls_loss   dfl_loss  Instances       Size\n"
     ]
    },
    {
     "name": "stderr",
     "output_type": "stream",
     "text": [
      "       7/50         0G      1.232      1.041       1.04         26        640: 100%|██████████| 11/11 [03:52<00:00, 21.\n",
      "                 Class     Images  Instances      Box(P          R      mAP50  mAP50-95): 100%|██████████| 2/2 [00:08<0"
     ]
    },
    {
     "name": "stdout",
     "output_type": "stream",
     "text": [
      "                   all         46        243      0.463      0.394      0.407      0.223\n"
     ]
    },
    {
     "name": "stderr",
     "output_type": "stream",
     "text": [
      "\n"
     ]
    },
    {
     "name": "stdout",
     "output_type": "stream",
     "text": [
      "\n",
      "      Epoch    GPU_mem   box_loss   cls_loss   dfl_loss  Instances       Size\n"
     ]
    },
    {
     "name": "stderr",
     "output_type": "stream",
     "text": [
      "       8/50         0G      1.277     0.9902      1.077         33        640: 100%|██████████| 11/11 [03:49<00:00, 20.\n",
      "                 Class     Images  Instances      Box(P          R      mAP50  mAP50-95): 100%|██████████| 2/2 [00:09<0"
     ]
    },
    {
     "name": "stdout",
     "output_type": "stream",
     "text": [
      "                   all         46        243      0.636      0.364      0.403      0.214\n"
     ]
    },
    {
     "name": "stderr",
     "output_type": "stream",
     "text": [
      "\n"
     ]
    },
    {
     "name": "stdout",
     "output_type": "stream",
     "text": [
      "\n",
      "      Epoch    GPU_mem   box_loss   cls_loss   dfl_loss  Instances       Size\n"
     ]
    },
    {
     "name": "stderr",
     "output_type": "stream",
     "text": [
      "       9/50         0G       1.25     0.9905      1.076         24        640: 100%|██████████| 11/11 [03:28<00:00, 18.\n",
      "                 Class     Images  Instances      Box(P          R      mAP50  mAP50-95): 100%|██████████| 2/2 [00:08<0"
     ]
    },
    {
     "name": "stdout",
     "output_type": "stream",
     "text": [
      "                   all         46        243      0.781      0.313      0.427      0.235\n"
     ]
    },
    {
     "name": "stderr",
     "output_type": "stream",
     "text": [
      "\n"
     ]
    },
    {
     "name": "stdout",
     "output_type": "stream",
     "text": [
      "\n",
      "      Epoch    GPU_mem   box_loss   cls_loss   dfl_loss  Instances       Size\n"
     ]
    },
    {
     "name": "stderr",
     "output_type": "stream",
     "text": [
      "      10/50         0G      1.213     0.9217       1.02         22        640: 100%|██████████| 11/11 [03:34<00:00, 19.\n",
      "                 Class     Images  Instances      Box(P          R      mAP50  mAP50-95): 100%|██████████| 2/2 [00:07<0"
     ]
    },
    {
     "name": "stdout",
     "output_type": "stream",
     "text": [
      "                   all         46        243      0.807      0.391      0.454      0.244\n"
     ]
    },
    {
     "name": "stderr",
     "output_type": "stream",
     "text": [
      "\n"
     ]
    },
    {
     "name": "stdout",
     "output_type": "stream",
     "text": [
      "\n",
      "      Epoch    GPU_mem   box_loss   cls_loss   dfl_loss  Instances       Size\n"
     ]
    },
    {
     "name": "stderr",
     "output_type": "stream",
     "text": [
      "      11/50         0G      1.255     0.9438       1.05          9        640: 100%|██████████| 11/11 [03:02<00:00, 16.\n",
      "                 Class     Images  Instances      Box(P          R      mAP50  mAP50-95): 100%|██████████| 2/2 [00:07<0"
     ]
    },
    {
     "name": "stdout",
     "output_type": "stream",
     "text": [
      "                   all         46        243      0.625       0.43      0.504      0.265\n"
     ]
    },
    {
     "name": "stderr",
     "output_type": "stream",
     "text": [
      "\n"
     ]
    },
    {
     "name": "stdout",
     "output_type": "stream",
     "text": [
      "\n",
      "      Epoch    GPU_mem   box_loss   cls_loss   dfl_loss  Instances       Size\n"
     ]
    },
    {
     "name": "stderr",
     "output_type": "stream",
     "text": [
      "      12/50         0G      1.175       0.88      1.009         23        640: 100%|██████████| 11/11 [03:22<00:00, 18.\n",
      "                 Class     Images  Instances      Box(P          R      mAP50  mAP50-95): 100%|██████████| 2/2 [00:07<0"
     ]
    },
    {
     "name": "stdout",
     "output_type": "stream",
     "text": [
      "                   all         46        243      0.603      0.406      0.462      0.249\n"
     ]
    },
    {
     "name": "stderr",
     "output_type": "stream",
     "text": [
      "\n"
     ]
    },
    {
     "name": "stdout",
     "output_type": "stream",
     "text": [
      "\n",
      "      Epoch    GPU_mem   box_loss   cls_loss   dfl_loss  Instances       Size\n"
     ]
    },
    {
     "name": "stderr",
     "output_type": "stream",
     "text": [
      "      13/50         0G      1.171     0.8906      1.006         12        640: 100%|██████████| 11/11 [03:30<00:00, 19.\n",
      "                 Class     Images  Instances      Box(P          R      mAP50  mAP50-95): 100%|██████████| 2/2 [00:08<0"
     ]
    },
    {
     "name": "stdout",
     "output_type": "stream",
     "text": [
      "                   all         46        243       0.69      0.381      0.459      0.248\n"
     ]
    },
    {
     "name": "stderr",
     "output_type": "stream",
     "text": [
      "\n"
     ]
    },
    {
     "name": "stdout",
     "output_type": "stream",
     "text": [
      "\n",
      "      Epoch    GPU_mem   box_loss   cls_loss   dfl_loss  Instances       Size\n"
     ]
    },
    {
     "name": "stderr",
     "output_type": "stream",
     "text": [
      "      14/50         0G      1.199     0.8572      1.028         38        640: 100%|██████████| 11/11 [03:38<00:00, 19.\n",
      "                 Class     Images  Instances      Box(P          R      mAP50  mAP50-95): 100%|██████████| 2/2 [00:06<0"
     ]
    },
    {
     "name": "stdout",
     "output_type": "stream",
     "text": [
      "                   all         46        243      0.705      0.344      0.425      0.257\n"
     ]
    },
    {
     "name": "stderr",
     "output_type": "stream",
     "text": [
      "\n"
     ]
    },
    {
     "name": "stdout",
     "output_type": "stream",
     "text": [
      "\n",
      "      Epoch    GPU_mem   box_loss   cls_loss   dfl_loss  Instances       Size\n"
     ]
    },
    {
     "name": "stderr",
     "output_type": "stream",
     "text": [
      "      15/50         0G       1.08     0.7802      1.006         18        640: 100%|██████████| 11/11 [03:45<00:00, 20.\n",
      "                 Class     Images  Instances      Box(P          R      mAP50  mAP50-95): 100%|██████████| 2/2 [00:08<0"
     ]
    },
    {
     "name": "stdout",
     "output_type": "stream",
     "text": [
      "                   all         46        243      0.688      0.368       0.42      0.273\n"
     ]
    },
    {
     "name": "stderr",
     "output_type": "stream",
     "text": [
      "\n"
     ]
    },
    {
     "name": "stdout",
     "output_type": "stream",
     "text": [
      "\n",
      "      Epoch    GPU_mem   box_loss   cls_loss   dfl_loss  Instances       Size\n"
     ]
    },
    {
     "name": "stderr",
     "output_type": "stream",
     "text": [
      "      16/50         0G      1.177     0.8305      1.032         39        640: 100%|██████████| 11/11 [03:43<00:00, 20.\n",
      "                 Class     Images  Instances      Box(P          R      mAP50  mAP50-95): 100%|██████████| 2/2 [00:08<0"
     ]
    },
    {
     "name": "stdout",
     "output_type": "stream",
     "text": [
      "                   all         46        243      0.523      0.461      0.503      0.293\n"
     ]
    },
    {
     "name": "stderr",
     "output_type": "stream",
     "text": [
      "\n"
     ]
    },
    {
     "name": "stdout",
     "output_type": "stream",
     "text": [
      "\n",
      "      Epoch    GPU_mem   box_loss   cls_loss   dfl_loss  Instances       Size\n"
     ]
    },
    {
     "name": "stderr",
     "output_type": "stream",
     "text": [
      "      17/50         0G      1.139     0.7917      0.996         54        640: 100%|██████████| 11/11 [03:53<00:00, 21.\n",
      "                 Class     Images  Instances      Box(P          R      mAP50  mAP50-95): 100%|██████████| 2/2 [00:08<0"
     ]
    },
    {
     "name": "stdout",
     "output_type": "stream",
     "text": [
      "                   all         46        243      0.516      0.413      0.484      0.299\n"
     ]
    },
    {
     "name": "stderr",
     "output_type": "stream",
     "text": [
      "\n"
     ]
    },
    {
     "name": "stdout",
     "output_type": "stream",
     "text": [
      "\n",
      "      Epoch    GPU_mem   box_loss   cls_loss   dfl_loss  Instances       Size\n"
     ]
    },
    {
     "name": "stderr",
     "output_type": "stream",
     "text": [
      "      18/50         0G      1.105     0.7842     0.9929         25        640: 100%|██████████| 11/11 [03:25<00:00, 18.\n",
      "                 Class     Images  Instances      Box(P          R      mAP50  mAP50-95): 100%|██████████| 2/2 [00:09<0"
     ]
    },
    {
     "name": "stdout",
     "output_type": "stream",
     "text": [
      "                   all         46        243      0.609      0.401      0.477      0.291\n"
     ]
    },
    {
     "name": "stderr",
     "output_type": "stream",
     "text": [
      "\n"
     ]
    },
    {
     "name": "stdout",
     "output_type": "stream",
     "text": [
      "\n",
      "      Epoch    GPU_mem   box_loss   cls_loss   dfl_loss  Instances       Size\n"
     ]
    },
    {
     "name": "stderr",
     "output_type": "stream",
     "text": [
      "      19/50         0G      1.105      0.774     0.9875         21        640: 100%|██████████| 11/11 [03:28<00:00, 18.\n",
      "                 Class     Images  Instances      Box(P          R      mAP50  mAP50-95): 100%|██████████| 2/2 [00:08<0"
     ]
    },
    {
     "name": "stdout",
     "output_type": "stream",
     "text": [
      "                   all         46        243      0.642       0.39      0.479      0.293\n"
     ]
    },
    {
     "name": "stderr",
     "output_type": "stream",
     "text": [
      "\n"
     ]
    },
    {
     "name": "stdout",
     "output_type": "stream",
     "text": [
      "\n",
      "      Epoch    GPU_mem   box_loss   cls_loss   dfl_loss  Instances       Size\n"
     ]
    },
    {
     "name": "stderr",
     "output_type": "stream",
     "text": [
      "      20/50         0G      1.076     0.7427      1.001         19        640: 100%|██████████| 11/11 [03:11<00:00, 17.\n",
      "                 Class     Images  Instances      Box(P          R      mAP50  mAP50-95): 100%|██████████| 2/2 [00:07<0"
     ]
    },
    {
     "name": "stdout",
     "output_type": "stream",
     "text": [
      "                   all         46        243      0.502      0.523      0.539      0.333\n"
     ]
    },
    {
     "name": "stderr",
     "output_type": "stream",
     "text": [
      "\n"
     ]
    },
    {
     "name": "stdout",
     "output_type": "stream",
     "text": [
      "\n",
      "      Epoch    GPU_mem   box_loss   cls_loss   dfl_loss  Instances       Size\n"
     ]
    },
    {
     "name": "stderr",
     "output_type": "stream",
     "text": [
      "      21/50         0G      1.074     0.7245      1.031         14        640: 100%|██████████| 11/11 [03:43<00:00, 20.\n",
      "                 Class     Images  Instances      Box(P          R      mAP50  mAP50-95): 100%|██████████| 2/2 [00:07<0"
     ]
    },
    {
     "name": "stdout",
     "output_type": "stream",
     "text": [
      "                   all         46        243      0.546      0.545      0.564      0.334\n"
     ]
    },
    {
     "name": "stderr",
     "output_type": "stream",
     "text": [
      "\n"
     ]
    },
    {
     "name": "stdout",
     "output_type": "stream",
     "text": [
      "\n",
      "      Epoch    GPU_mem   box_loss   cls_loss   dfl_loss  Instances       Size\n"
     ]
    },
    {
     "name": "stderr",
     "output_type": "stream",
     "text": [
      "      22/50         0G      1.089     0.7541     0.9766          6        640: 100%|██████████| 11/11 [03:28<00:00, 18.\n",
      "                 Class     Images  Instances      Box(P          R      mAP50  mAP50-95): 100%|██████████| 2/2 [00:07<0"
     ]
    },
    {
     "name": "stdout",
     "output_type": "stream",
     "text": [
      "                   all         46        243      0.547      0.442      0.503      0.309\n"
     ]
    },
    {
     "name": "stderr",
     "output_type": "stream",
     "text": [
      "\n"
     ]
    },
    {
     "name": "stdout",
     "output_type": "stream",
     "text": [
      "\n",
      "      Epoch    GPU_mem   box_loss   cls_loss   dfl_loss  Instances       Size\n"
     ]
    },
    {
     "name": "stderr",
     "output_type": "stream",
     "text": [
      "      23/50         0G     0.9959     0.6725     0.9603         26        640: 100%|██████████| 11/11 [03:17<00:00, 17.\n",
      "                 Class     Images  Instances      Box(P          R      mAP50  mAP50-95): 100%|██████████| 2/2 [00:07<0"
     ]
    },
    {
     "name": "stdout",
     "output_type": "stream",
     "text": [
      "                   all         46        243       0.84      0.504      0.592      0.323\n"
     ]
    },
    {
     "name": "stderr",
     "output_type": "stream",
     "text": [
      "\n"
     ]
    },
    {
     "name": "stdout",
     "output_type": "stream",
     "text": [
      "\n",
      "      Epoch    GPU_mem   box_loss   cls_loss   dfl_loss  Instances       Size\n"
     ]
    },
    {
     "name": "stderr",
     "output_type": "stream",
     "text": [
      "      24/50         0G      1.079     0.7351     0.9862         36        640: 100%|██████████| 11/11 [03:04<00:00, 16.\n",
      "                 Class     Images  Instances      Box(P          R      mAP50  mAP50-95): 100%|██████████| 2/2 [00:06<0"
     ]
    },
    {
     "name": "stdout",
     "output_type": "stream",
     "text": [
      "                   all         46        243      0.824      0.522      0.586      0.304\n"
     ]
    },
    {
     "name": "stderr",
     "output_type": "stream",
     "text": [
      "\n"
     ]
    },
    {
     "name": "stdout",
     "output_type": "stream",
     "text": [
      "\n",
      "      Epoch    GPU_mem   box_loss   cls_loss   dfl_loss  Instances       Size\n"
     ]
    },
    {
     "name": "stderr",
     "output_type": "stream",
     "text": [
      "      25/50         0G      1.075      0.711     0.9912         15        640: 100%|██████████| 11/11 [03:23<00:00, 18.\n",
      "                 Class     Images  Instances      Box(P          R      mAP50  mAP50-95): 100%|██████████| 2/2 [00:05<0"
     ]
    },
    {
     "name": "stdout",
     "output_type": "stream",
     "text": [
      "                   all         46        243       0.88      0.494      0.597      0.324\n"
     ]
    },
    {
     "name": "stderr",
     "output_type": "stream",
     "text": [
      "\n"
     ]
    },
    {
     "name": "stdout",
     "output_type": "stream",
     "text": [
      "\n",
      "      Epoch    GPU_mem   box_loss   cls_loss   dfl_loss  Instances       Size\n"
     ]
    },
    {
     "name": "stderr",
     "output_type": "stream",
     "text": [
      "      26/50         0G      1.024     0.6796     0.9554         30        640: 100%|██████████| 11/11 [02:24<00:00, 13.\n",
      "                 Class     Images  Instances      Box(P          R      mAP50  mAP50-95): 100%|██████████| 2/2 [00:05<0"
     ]
    },
    {
     "name": "stdout",
     "output_type": "stream",
     "text": [
      "                   all         46        243      0.638      0.543      0.579      0.343\n"
     ]
    },
    {
     "name": "stderr",
     "output_type": "stream",
     "text": [
      "\n"
     ]
    },
    {
     "name": "stdout",
     "output_type": "stream",
     "text": [
      "\n",
      "      Epoch    GPU_mem   box_loss   cls_loss   dfl_loss  Instances       Size\n"
     ]
    },
    {
     "name": "stderr",
     "output_type": "stream",
     "text": [
      "      27/50         0G          1     0.6636     0.9473         44        640: 100%|██████████| 11/11 [03:44<00:00, 20.\n",
      "                 Class     Images  Instances      Box(P          R      mAP50  mAP50-95): 100%|██████████| 2/2 [00:07<0"
     ]
    },
    {
     "name": "stdout",
     "output_type": "stream",
     "text": [
      "                   all         46        243      0.846      0.529        0.6      0.367\n"
     ]
    },
    {
     "name": "stderr",
     "output_type": "stream",
     "text": [
      "\n"
     ]
    },
    {
     "name": "stdout",
     "output_type": "stream",
     "text": [
      "\n",
      "      Epoch    GPU_mem   box_loss   cls_loss   dfl_loss  Instances       Size\n"
     ]
    },
    {
     "name": "stderr",
     "output_type": "stream",
     "text": [
      "      28/50         0G     0.9945     0.6677     0.9621         22        640: 100%|██████████| 11/11 [03:27<00:00, 18.\n",
      "                 Class     Images  Instances      Box(P          R      mAP50  mAP50-95): 100%|██████████| 2/2 [00:08<0"
     ]
    },
    {
     "name": "stdout",
     "output_type": "stream",
     "text": [
      "                   all         46        243      0.716      0.523      0.581      0.344\n"
     ]
    },
    {
     "name": "stderr",
     "output_type": "stream",
     "text": [
      "\n"
     ]
    },
    {
     "name": "stdout",
     "output_type": "stream",
     "text": [
      "\n",
      "      Epoch    GPU_mem   box_loss   cls_loss   dfl_loss  Instances       Size\n"
     ]
    },
    {
     "name": "stderr",
     "output_type": "stream",
     "text": [
      "      29/50         0G     0.9943     0.6511     0.9613         16        640: 100%|██████████| 11/11 [03:23<00:00, 18.\n",
      "                 Class     Images  Instances      Box(P          R      mAP50  mAP50-95): 100%|██████████| 2/2 [00:07<0"
     ]
    },
    {
     "name": "stdout",
     "output_type": "stream",
     "text": [
      "                   all         46        243      0.854      0.522      0.602      0.335\n"
     ]
    },
    {
     "name": "stderr",
     "output_type": "stream",
     "text": [
      "\n"
     ]
    },
    {
     "name": "stdout",
     "output_type": "stream",
     "text": [
      "\n",
      "      Epoch    GPU_mem   box_loss   cls_loss   dfl_loss  Instances       Size\n"
     ]
    },
    {
     "name": "stderr",
     "output_type": "stream",
     "text": [
      "      30/50         0G     0.9933      0.659     0.9599         39        640: 100%|██████████| 11/11 [04:11<00:00, 22.\n",
      "                 Class     Images  Instances      Box(P          R      mAP50  mAP50-95): 100%|██████████| 2/2 [00:06<0"
     ]
    },
    {
     "name": "stdout",
     "output_type": "stream",
     "text": [
      "                   all         46        243      0.768      0.507       0.57      0.334\n"
     ]
    },
    {
     "name": "stderr",
     "output_type": "stream",
     "text": [
      "\n"
     ]
    },
    {
     "name": "stdout",
     "output_type": "stream",
     "text": [
      "\n",
      "      Epoch    GPU_mem   box_loss   cls_loss   dfl_loss  Instances       Size\n"
     ]
    },
    {
     "name": "stderr",
     "output_type": "stream",
     "text": [
      "      31/50         0G     0.9403     0.6397     0.9406         21        640: 100%|██████████| 11/11 [03:49<00:00, 20.\n",
      "                 Class     Images  Instances      Box(P          R      mAP50  mAP50-95): 100%|██████████| 2/2 [00:09<0"
     ]
    },
    {
     "name": "stdout",
     "output_type": "stream",
     "text": [
      "                   all         46        243      0.764      0.492      0.578      0.346\n"
     ]
    },
    {
     "name": "stderr",
     "output_type": "stream",
     "text": [
      "\n"
     ]
    },
    {
     "name": "stdout",
     "output_type": "stream",
     "text": [
      "\n",
      "      Epoch    GPU_mem   box_loss   cls_loss   dfl_loss  Instances       Size\n"
     ]
    },
    {
     "name": "stderr",
     "output_type": "stream",
     "text": [
      "      32/50         0G     0.9491     0.6015     0.9277         19        640: 100%|██████████| 11/11 [03:33<00:00, 19.\n",
      "                 Class     Images  Instances      Box(P          R      mAP50  mAP50-95): 100%|██████████| 2/2 [00:07<0"
     ]
    },
    {
     "name": "stdout",
     "output_type": "stream",
     "text": [
      "                   all         46        243      0.779      0.523      0.575      0.356\n"
     ]
    },
    {
     "name": "stderr",
     "output_type": "stream",
     "text": [
      "\n"
     ]
    },
    {
     "name": "stdout",
     "output_type": "stream",
     "text": [
      "\n",
      "      Epoch    GPU_mem   box_loss   cls_loss   dfl_loss  Instances       Size\n"
     ]
    },
    {
     "name": "stderr",
     "output_type": "stream",
     "text": [
      "      33/50         0G     0.9665     0.6328     0.9353         23        640: 100%|██████████| 11/11 [02:15<00:00, 12.\n",
      "                 Class     Images  Instances      Box(P          R      mAP50  mAP50-95): 100%|██████████| 2/2 [00:07<0"
     ]
    },
    {
     "name": "stdout",
     "output_type": "stream",
     "text": [
      "                   all         46        243      0.873      0.512      0.608      0.387\n"
     ]
    },
    {
     "name": "stderr",
     "output_type": "stream",
     "text": [
      "\n"
     ]
    },
    {
     "name": "stdout",
     "output_type": "stream",
     "text": [
      "\n",
      "      Epoch    GPU_mem   box_loss   cls_loss   dfl_loss  Instances       Size\n"
     ]
    },
    {
     "name": "stderr",
     "output_type": "stream",
     "text": [
      "      34/50         0G      0.906     0.6125     0.9239         33        640: 100%|██████████| 11/11 [03:38<00:00, 19.\n",
      "                 Class     Images  Instances      Box(P          R      mAP50  mAP50-95): 100%|██████████| 2/2 [00:08<0"
     ]
    },
    {
     "name": "stdout",
     "output_type": "stream",
     "text": [
      "                   all         46        243      0.914      0.501      0.626      0.383\n"
     ]
    },
    {
     "name": "stderr",
     "output_type": "stream",
     "text": [
      "\n"
     ]
    },
    {
     "name": "stdout",
     "output_type": "stream",
     "text": [
      "\n",
      "      Epoch    GPU_mem   box_loss   cls_loss   dfl_loss  Instances       Size\n"
     ]
    },
    {
     "name": "stderr",
     "output_type": "stream",
     "text": [
      "      35/50         0G     0.9198     0.6001     0.9232         41        640: 100%|██████████| 11/11 [03:38<00:00, 19.\n",
      "                 Class     Images  Instances      Box(P          R      mAP50  mAP50-95): 100%|██████████| 2/2 [00:08<0"
     ]
    },
    {
     "name": "stdout",
     "output_type": "stream",
     "text": [
      "                   all         46        243      0.801      0.607      0.634      0.367\n"
     ]
    },
    {
     "name": "stderr",
     "output_type": "stream",
     "text": [
      "\n"
     ]
    },
    {
     "name": "stdout",
     "output_type": "stream",
     "text": [
      "\n",
      "      Epoch    GPU_mem   box_loss   cls_loss   dfl_loss  Instances       Size\n"
     ]
    },
    {
     "name": "stderr",
     "output_type": "stream",
     "text": [
      "      36/50         0G     0.9279     0.6083     0.9319         31        640: 100%|██████████| 11/11 [03:31<00:00, 19.\n",
      "                 Class     Images  Instances      Box(P          R      mAP50  mAP50-95): 100%|██████████| 2/2 [00:08<0"
     ]
    },
    {
     "name": "stdout",
     "output_type": "stream",
     "text": [
      "                   all         46        243      0.748       0.47      0.582      0.363\n"
     ]
    },
    {
     "name": "stderr",
     "output_type": "stream",
     "text": [
      "\n"
     ]
    },
    {
     "name": "stdout",
     "output_type": "stream",
     "text": [
      "\n",
      "      Epoch    GPU_mem   box_loss   cls_loss   dfl_loss  Instances       Size\n"
     ]
    },
    {
     "name": "stderr",
     "output_type": "stream",
     "text": [
      "      37/50         0G     0.8639     0.5721     0.9305         32        640: 100%|██████████| 11/11 [03:36<00:00, 19.\n",
      "                 Class     Images  Instances      Box(P          R      mAP50  mAP50-95): 100%|██████████| 2/2 [00:08<0"
     ]
    },
    {
     "name": "stdout",
     "output_type": "stream",
     "text": [
      "                   all         46        243      0.591      0.636      0.603      0.372\n"
     ]
    },
    {
     "name": "stderr",
     "output_type": "stream",
     "text": [
      "\n"
     ]
    },
    {
     "name": "stdout",
     "output_type": "stream",
     "text": [
      "\n",
      "      Epoch    GPU_mem   box_loss   cls_loss   dfl_loss  Instances       Size\n"
     ]
    },
    {
     "name": "stderr",
     "output_type": "stream",
     "text": [
      "      38/50         0G     0.8967     0.6065     0.9325         10        640: 100%|██████████| 11/11 [03:56<00:00, 21.\n",
      "                 Class     Images  Instances      Box(P          R      mAP50  mAP50-95): 100%|██████████| 2/2 [00:08<0"
     ]
    },
    {
     "name": "stdout",
     "output_type": "stream",
     "text": [
      "                   all         46        243      0.627      0.577      0.595      0.378\n"
     ]
    },
    {
     "name": "stderr",
     "output_type": "stream",
     "text": [
      "\n"
     ]
    },
    {
     "name": "stdout",
     "output_type": "stream",
     "text": [
      "\n",
      "      Epoch    GPU_mem   box_loss   cls_loss   dfl_loss  Instances       Size\n"
     ]
    },
    {
     "name": "stderr",
     "output_type": "stream",
     "text": [
      "      39/50         0G     0.8883     0.5818     0.9255         30        640: 100%|██████████| 11/11 [04:04<00:00, 22.\n",
      "                 Class     Images  Instances      Box(P          R      mAP50  mAP50-95): 100%|██████████| 2/2 [00:09<0"
     ]
    },
    {
     "name": "stdout",
     "output_type": "stream",
     "text": [
      "                   all         46        243      0.753       0.53      0.609      0.375\n"
     ]
    },
    {
     "name": "stderr",
     "output_type": "stream",
     "text": [
      "\n"
     ]
    },
    {
     "name": "stdout",
     "output_type": "stream",
     "text": [
      "\n",
      "      Epoch    GPU_mem   box_loss   cls_loss   dfl_loss  Instances       Size\n"
     ]
    },
    {
     "name": "stderr",
     "output_type": "stream",
     "text": [
      "      40/50         0G     0.8948      0.568     0.9331         29        640: 100%|██████████| 11/11 [03:52<00:00, 21.\n",
      "                 Class     Images  Instances      Box(P          R      mAP50  mAP50-95): 100%|██████████| 2/2 [00:09<0"
     ]
    },
    {
     "name": "stdout",
     "output_type": "stream",
     "text": [
      "                   all         46        243      0.838      0.516      0.613      0.392\n"
     ]
    },
    {
     "name": "stderr",
     "output_type": "stream",
     "text": [
      "\n"
     ]
    },
    {
     "name": "stdout",
     "output_type": "stream",
     "text": [
      "Closing dataloader mosaic\n",
      "\u001b[34m\u001b[1malbumentations: \u001b[0mBlur(p=0.01, blur_limit=(3, 7)), MedianBlur(p=0.01, blur_limit=(3, 7)), ToGray(p=0.01, num_output_channels=3, method='weighted_average'), CLAHE(p=0.01, clip_limit=(1.0, 4.0), tile_grid_size=(8, 8))\n",
      "\n",
      "      Epoch    GPU_mem   box_loss   cls_loss   dfl_loss  Instances       Size\n"
     ]
    },
    {
     "name": "stderr",
     "output_type": "stream",
     "text": [
      "      41/50         0G     0.9082     0.6151     0.9354         18        640: 100%|██████████| 11/11 [04:44<00:00, 25.\n",
      "                 Class     Images  Instances      Box(P          R      mAP50  mAP50-95): 100%|██████████| 2/2 [00:08<0"
     ]
    },
    {
     "name": "stdout",
     "output_type": "stream",
     "text": [
      "                   all         46        243      0.789      0.546      0.617      0.351\n"
     ]
    },
    {
     "name": "stderr",
     "output_type": "stream",
     "text": [
      "\n"
     ]
    },
    {
     "name": "stdout",
     "output_type": "stream",
     "text": [
      "\n",
      "      Epoch    GPU_mem   box_loss   cls_loss   dfl_loss  Instances       Size\n"
     ]
    },
    {
     "name": "stderr",
     "output_type": "stream",
     "text": [
      "      42/50         0G     0.9153     0.5963      0.892         29        640: 100%|██████████| 11/11 [03:36<00:00, 19.\n",
      "                 Class     Images  Instances      Box(P          R      mAP50  mAP50-95): 100%|██████████| 2/2 [00:08<0"
     ]
    },
    {
     "name": "stdout",
     "output_type": "stream",
     "text": [
      "                   all         46        243      0.843      0.489      0.595      0.337\n"
     ]
    },
    {
     "name": "stderr",
     "output_type": "stream",
     "text": [
      "\n"
     ]
    },
    {
     "name": "stdout",
     "output_type": "stream",
     "text": [
      "\n",
      "      Epoch    GPU_mem   box_loss   cls_loss   dfl_loss  Instances       Size\n"
     ]
    },
    {
     "name": "stderr",
     "output_type": "stream",
     "text": [
      "      43/50         0G     0.8588     0.5783     0.9091          5        640: 100%|██████████| 11/11 [03:37<00:00, 19.\n",
      "                 Class     Images  Instances      Box(P          R      mAP50  mAP50-95): 100%|██████████| 2/2 [00:08<0"
     ]
    },
    {
     "name": "stdout",
     "output_type": "stream",
     "text": [
      "                   all         46        243      0.497      0.617      0.533      0.328\n"
     ]
    },
    {
     "name": "stderr",
     "output_type": "stream",
     "text": [
      "\n"
     ]
    },
    {
     "name": "stdout",
     "output_type": "stream",
     "text": [
      "\n",
      "      Epoch    GPU_mem   box_loss   cls_loss   dfl_loss  Instances       Size\n"
     ]
    },
    {
     "name": "stderr",
     "output_type": "stream",
     "text": [
      "      44/50         0G     0.8214     0.5513     0.8919          6        640: 100%|██████████| 11/11 [05:06<00:00, 27.\n",
      "                 Class     Images  Instances      Box(P          R      mAP50  mAP50-95): 100%|██████████| 2/2 [00:10<0"
     ]
    },
    {
     "name": "stdout",
     "output_type": "stream",
     "text": [
      "                   all         46        243      0.471      0.608      0.514      0.319\n"
     ]
    },
    {
     "name": "stderr",
     "output_type": "stream",
     "text": [
      "\n"
     ]
    },
    {
     "name": "stdout",
     "output_type": "stream",
     "text": [
      "\n",
      "      Epoch    GPU_mem   box_loss   cls_loss   dfl_loss  Instances       Size\n"
     ]
    },
    {
     "name": "stderr",
     "output_type": "stream",
     "text": [
      "      45/50         0G     0.8689     0.5526     0.9303         12        640: 100%|██████████| 11/11 [04:12<00:00, 22.\n",
      "                 Class     Images  Instances      Box(P          R      mAP50  mAP50-95): 100%|██████████| 2/2 [00:09<0"
     ]
    },
    {
     "name": "stdout",
     "output_type": "stream",
     "text": [
      "                   all         46        243      0.475      0.598      0.512      0.318\n"
     ]
    },
    {
     "name": "stderr",
     "output_type": "stream",
     "text": [
      "\n"
     ]
    },
    {
     "name": "stdout",
     "output_type": "stream",
     "text": [
      "\n",
      "      Epoch    GPU_mem   box_loss   cls_loss   dfl_loss  Instances       Size\n"
     ]
    },
    {
     "name": "stderr",
     "output_type": "stream",
     "text": [
      "      46/50         0G     0.8396     0.5287     0.9017         16        640: 100%|██████████| 11/11 [03:43<00:00, 20.\n",
      "                 Class     Images  Instances      Box(P          R      mAP50  mAP50-95): 100%|██████████| 2/2 [00:09<0"
     ]
    },
    {
     "name": "stdout",
     "output_type": "stream",
     "text": [
      "                   all         46        243      0.585      0.542      0.533      0.333\n"
     ]
    },
    {
     "name": "stderr",
     "output_type": "stream",
     "text": [
      "\n"
     ]
    },
    {
     "name": "stdout",
     "output_type": "stream",
     "text": [
      "\n",
      "      Epoch    GPU_mem   box_loss   cls_loss   dfl_loss  Instances       Size\n"
     ]
    },
    {
     "name": "stderr",
     "output_type": "stream",
     "text": [
      "      47/50         0G     0.8681     0.5523     0.9121         10        640: 100%|██████████| 11/11 [03:53<00:00, 21.\n",
      "                 Class     Images  Instances      Box(P          R      mAP50  mAP50-95): 100%|██████████| 2/2 [00:09<0"
     ]
    },
    {
     "name": "stdout",
     "output_type": "stream",
     "text": [
      "                   all         46        243      0.552      0.537      0.534      0.331\n"
     ]
    },
    {
     "name": "stderr",
     "output_type": "stream",
     "text": [
      "\n"
     ]
    },
    {
     "name": "stdout",
     "output_type": "stream",
     "text": [
      "\n",
      "      Epoch    GPU_mem   box_loss   cls_loss   dfl_loss  Instances       Size\n"
     ]
    },
    {
     "name": "stderr",
     "output_type": "stream",
     "text": [
      "      48/50         0G     0.8234     0.5298     0.8943         24        640: 100%|██████████| 11/11 [03:46<00:00, 20.\n",
      "                 Class     Images  Instances      Box(P          R      mAP50  mAP50-95): 100%|██████████| 2/2 [00:05<0"
     ]
    },
    {
     "name": "stdout",
     "output_type": "stream",
     "text": [
      "                   all         46        243      0.504       0.59      0.529      0.331\n"
     ]
    },
    {
     "name": "stderr",
     "output_type": "stream",
     "text": [
      "\n"
     ]
    },
    {
     "name": "stdout",
     "output_type": "stream",
     "text": [
      "\n",
      "      Epoch    GPU_mem   box_loss   cls_loss   dfl_loss  Instances       Size\n"
     ]
    },
    {
     "name": "stderr",
     "output_type": "stream",
     "text": [
      "      49/50         0G     0.8378     0.5323     0.8914         26        640: 100%|██████████| 11/11 [03:32<00:00, 19.\n",
      "                 Class     Images  Instances      Box(P          R      mAP50  mAP50-95): 100%|██████████| 2/2 [00:08<0"
     ]
    },
    {
     "name": "stdout",
     "output_type": "stream",
     "text": [
      "                   all         46        243      0.537      0.578      0.533      0.345\n"
     ]
    },
    {
     "name": "stderr",
     "output_type": "stream",
     "text": [
      "\n"
     ]
    },
    {
     "name": "stdout",
     "output_type": "stream",
     "text": [
      "\n",
      "      Epoch    GPU_mem   box_loss   cls_loss   dfl_loss  Instances       Size\n"
     ]
    },
    {
     "name": "stderr",
     "output_type": "stream",
     "text": [
      "      50/50         0G     0.7699     0.4941     0.8827          9        640: 100%|██████████| 11/11 [03:35<00:00, 19.\n",
      "                 Class     Images  Instances      Box(P          R      mAP50  mAP50-95): 100%|██████████| 2/2 [00:09<0"
     ]
    },
    {
     "name": "stdout",
     "output_type": "stream",
     "text": [
      "                   all         46        243       0.55      0.574      0.532      0.347\n"
     ]
    },
    {
     "name": "stderr",
     "output_type": "stream",
     "text": [
      "\n"
     ]
    },
    {
     "name": "stdout",
     "output_type": "stream",
     "text": [
      "\n",
      "50 epochs completed in 216.148 hours.\n",
      "Optimizer stripped from runs\\detect\\train19\\weights\\last.pt, 22.5MB\n",
      "Optimizer stripped from runs\\detect\\train19\\weights\\best.pt, 22.5MB\n",
      "\n",
      "Validating runs\\detect\\train19\\weights\\best.pt...\n",
      "Ultralytics 8.3.73  Python-3.11.5 torch-2.2.2 CPU (12th Gen Intel Core(TM) i5-1240P)\n",
      "Model summary (fused): 168 layers, 11,129,067 parameters, 0 gradients, 28.5 GFLOPs\n"
     ]
    },
    {
     "name": "stderr",
     "output_type": "stream",
     "text": [
      "                 Class     Images  Instances      Box(P          R      mAP50  mAP50-95): 100%|██████████| 2/2 [00:08<0\n"
     ]
    },
    {
     "name": "stdout",
     "output_type": "stream",
     "text": [
      "                   all         46        243      0.838      0.516      0.613      0.392\n",
      "                   Car         44        224      0.825      0.719      0.824      0.564\n",
      "                   Van          9         15      0.689      0.333      0.507      0.285\n",
      "                 Truck          4          4          1      0.497      0.508      0.327\n",
      "Speed: 1.8ms preprocess, 140.1ms inference, 0.0ms loss, 0.8ms postprocess per image\n",
      "Results saved to \u001b[1mruns\\detect\\train19\u001b[0m\n"
     ]
    },
    {
     "data": {
      "text/plain": [
       "ultralytics.utils.metrics.DetMetrics object with attributes:\n",
       "\n",
       "ap_class_index: array([0, 1, 2])\n",
       "box: ultralytics.utils.metrics.Metric object\n",
       "confusion_matrix: <ultralytics.utils.metrics.ConfusionMatrix object at 0x0000027463B78F90>\n",
       "curves: ['Precision-Recall(B)', 'F1-Confidence(B)', 'Precision-Confidence(B)', 'Recall-Confidence(B)']\n",
       "curves_results: [[array([          0,    0.001001,    0.002002,    0.003003,    0.004004,    0.005005,    0.006006,    0.007007,    0.008008,    0.009009,     0.01001,    0.011011,    0.012012,    0.013013,    0.014014,    0.015015,    0.016016,    0.017017,    0.018018,    0.019019,     0.02002,    0.021021,    0.022022,    0.023023,\n",
       "          0.024024,    0.025025,    0.026026,    0.027027,    0.028028,    0.029029,     0.03003,    0.031031,    0.032032,    0.033033,    0.034034,    0.035035,    0.036036,    0.037037,    0.038038,    0.039039,     0.04004,    0.041041,    0.042042,    0.043043,    0.044044,    0.045045,    0.046046,    0.047047,\n",
       "          0.048048,    0.049049,     0.05005,    0.051051,    0.052052,    0.053053,    0.054054,    0.055055,    0.056056,    0.057057,    0.058058,    0.059059,     0.06006,    0.061061,    0.062062,    0.063063,    0.064064,    0.065065,    0.066066,    0.067067,    0.068068,    0.069069,     0.07007,    0.071071,\n",
       "          0.072072,    0.073073,    0.074074,    0.075075,    0.076076,    0.077077,    0.078078,    0.079079,     0.08008,    0.081081,    0.082082,    0.083083,    0.084084,    0.085085,    0.086086,    0.087087,    0.088088,    0.089089,     0.09009,    0.091091,    0.092092,    0.093093,    0.094094,    0.095095,\n",
       "          0.096096,    0.097097,    0.098098,    0.099099,      0.1001,      0.1011,      0.1021,      0.1031,      0.1041,     0.10511,     0.10611,     0.10711,     0.10811,     0.10911,     0.11011,     0.11111,     0.11211,     0.11311,     0.11411,     0.11512,     0.11612,     0.11712,     0.11812,     0.11912,\n",
       "           0.12012,     0.12112,     0.12212,     0.12312,     0.12412,     0.12513,     0.12613,     0.12713,     0.12813,     0.12913,     0.13013,     0.13113,     0.13213,     0.13313,     0.13413,     0.13514,     0.13614,     0.13714,     0.13814,     0.13914,     0.14014,     0.14114,     0.14214,     0.14314,\n",
       "           0.14414,     0.14515,     0.14615,     0.14715,     0.14815,     0.14915,     0.15015,     0.15115,     0.15215,     0.15315,     0.15415,     0.15516,     0.15616,     0.15716,     0.15816,     0.15916,     0.16016,     0.16116,     0.16216,     0.16316,     0.16416,     0.16517,     0.16617,     0.16717,\n",
       "           0.16817,     0.16917,     0.17017,     0.17117,     0.17217,     0.17317,     0.17417,     0.17518,     0.17618,     0.17718,     0.17818,     0.17918,     0.18018,     0.18118,     0.18218,     0.18318,     0.18418,     0.18519,     0.18619,     0.18719,     0.18819,     0.18919,     0.19019,     0.19119,\n",
       "           0.19219,     0.19319,     0.19419,      0.1952,      0.1962,      0.1972,      0.1982,      0.1992,      0.2002,      0.2012,      0.2022,      0.2032,      0.2042,     0.20521,     0.20621,     0.20721,     0.20821,     0.20921,     0.21021,     0.21121,     0.21221,     0.21321,     0.21421,     0.21522,\n",
       "           0.21622,     0.21722,     0.21822,     0.21922,     0.22022,     0.22122,     0.22222,     0.22322,     0.22422,     0.22523,     0.22623,     0.22723,     0.22823,     0.22923,     0.23023,     0.23123,     0.23223,     0.23323,     0.23423,     0.23524,     0.23624,     0.23724,     0.23824,     0.23924,\n",
       "           0.24024,     0.24124,     0.24224,     0.24324,     0.24424,     0.24525,     0.24625,     0.24725,     0.24825,     0.24925,     0.25025,     0.25125,     0.25225,     0.25325,     0.25425,     0.25526,     0.25626,     0.25726,     0.25826,     0.25926,     0.26026,     0.26126,     0.26226,     0.26326,\n",
       "           0.26426,     0.26527,     0.26627,     0.26727,     0.26827,     0.26927,     0.27027,     0.27127,     0.27227,     0.27327,     0.27427,     0.27528,     0.27628,     0.27728,     0.27828,     0.27928,     0.28028,     0.28128,     0.28228,     0.28328,     0.28428,     0.28529,     0.28629,     0.28729,\n",
       "           0.28829,     0.28929,     0.29029,     0.29129,     0.29229,     0.29329,     0.29429,      0.2953,      0.2963,      0.2973,      0.2983,      0.2993,      0.3003,      0.3013,      0.3023,      0.3033,      0.3043,     0.30531,     0.30631,     0.30731,     0.30831,     0.30931,     0.31031,     0.31131,\n",
       "           0.31231,     0.31331,     0.31431,     0.31532,     0.31632,     0.31732,     0.31832,     0.31932,     0.32032,     0.32132,     0.32232,     0.32332,     0.32432,     0.32533,     0.32633,     0.32733,     0.32833,     0.32933,     0.33033,     0.33133,     0.33233,     0.33333,     0.33433,     0.33534,\n",
       "           0.33634,     0.33734,     0.33834,     0.33934,     0.34034,     0.34134,     0.34234,     0.34334,     0.34434,     0.34535,     0.34635,     0.34735,     0.34835,     0.34935,     0.35035,     0.35135,     0.35235,     0.35335,     0.35435,     0.35536,     0.35636,     0.35736,     0.35836,     0.35936,\n",
       "           0.36036,     0.36136,     0.36236,     0.36336,     0.36436,     0.36537,     0.36637,     0.36737,     0.36837,     0.36937,     0.37037,     0.37137,     0.37237,     0.37337,     0.37437,     0.37538,     0.37638,     0.37738,     0.37838,     0.37938,     0.38038,     0.38138,     0.38238,     0.38338,\n",
       "           0.38438,     0.38539,     0.38639,     0.38739,     0.38839,     0.38939,     0.39039,     0.39139,     0.39239,     0.39339,     0.39439,      0.3954,      0.3964,      0.3974,      0.3984,      0.3994,      0.4004,      0.4014,      0.4024,      0.4034,      0.4044,     0.40541,     0.40641,     0.40741,\n",
       "           0.40841,     0.40941,     0.41041,     0.41141,     0.41241,     0.41341,     0.41441,     0.41542,     0.41642,     0.41742,     0.41842,     0.41942,     0.42042,     0.42142,     0.42242,     0.42342,     0.42442,     0.42543,     0.42643,     0.42743,     0.42843,     0.42943,     0.43043,     0.43143,\n",
       "           0.43243,     0.43343,     0.43443,     0.43544,     0.43644,     0.43744,     0.43844,     0.43944,     0.44044,     0.44144,     0.44244,     0.44344,     0.44444,     0.44545,     0.44645,     0.44745,     0.44845,     0.44945,     0.45045,     0.45145,     0.45245,     0.45345,     0.45445,     0.45546,\n",
       "           0.45646,     0.45746,     0.45846,     0.45946,     0.46046,     0.46146,     0.46246,     0.46346,     0.46446,     0.46547,     0.46647,     0.46747,     0.46847,     0.46947,     0.47047,     0.47147,     0.47247,     0.47347,     0.47447,     0.47548,     0.47648,     0.47748,     0.47848,     0.47948,\n",
       "           0.48048,     0.48148,     0.48248,     0.48348,     0.48448,     0.48549,     0.48649,     0.48749,     0.48849,     0.48949,     0.49049,     0.49149,     0.49249,     0.49349,     0.49449,      0.4955,      0.4965,      0.4975,      0.4985,      0.4995,      0.5005,      0.5015,      0.5025,      0.5035,\n",
       "            0.5045,     0.50551,     0.50651,     0.50751,     0.50851,     0.50951,     0.51051,     0.51151,     0.51251,     0.51351,     0.51451,     0.51552,     0.51652,     0.51752,     0.51852,     0.51952,     0.52052,     0.52152,     0.52252,     0.52352,     0.52452,     0.52553,     0.52653,     0.52753,\n",
       "           0.52853,     0.52953,     0.53053,     0.53153,     0.53253,     0.53353,     0.53453,     0.53554,     0.53654,     0.53754,     0.53854,     0.53954,     0.54054,     0.54154,     0.54254,     0.54354,     0.54454,     0.54555,     0.54655,     0.54755,     0.54855,     0.54955,     0.55055,     0.55155,\n",
       "           0.55255,     0.55355,     0.55455,     0.55556,     0.55656,     0.55756,     0.55856,     0.55956,     0.56056,     0.56156,     0.56256,     0.56356,     0.56456,     0.56557,     0.56657,     0.56757,     0.56857,     0.56957,     0.57057,     0.57157,     0.57257,     0.57357,     0.57457,     0.57558,\n",
       "           0.57658,     0.57758,     0.57858,     0.57958,     0.58058,     0.58158,     0.58258,     0.58358,     0.58458,     0.58559,     0.58659,     0.58759,     0.58859,     0.58959,     0.59059,     0.59159,     0.59259,     0.59359,     0.59459,      0.5956,      0.5966,      0.5976,      0.5986,      0.5996,\n",
       "            0.6006,      0.6016,      0.6026,      0.6036,      0.6046,     0.60561,     0.60661,     0.60761,     0.60861,     0.60961,     0.61061,     0.61161,     0.61261,     0.61361,     0.61461,     0.61562,     0.61662,     0.61762,     0.61862,     0.61962,     0.62062,     0.62162,     0.62262,     0.62362,\n",
       "           0.62462,     0.62563,     0.62663,     0.62763,     0.62863,     0.62963,     0.63063,     0.63163,     0.63263,     0.63363,     0.63463,     0.63564,     0.63664,     0.63764,     0.63864,     0.63964,     0.64064,     0.64164,     0.64264,     0.64364,     0.64464,     0.64565,     0.64665,     0.64765,\n",
       "           0.64865,     0.64965,     0.65065,     0.65165,     0.65265,     0.65365,     0.65465,     0.65566,     0.65666,     0.65766,     0.65866,     0.65966,     0.66066,     0.66166,     0.66266,     0.66366,     0.66466,     0.66567,     0.66667,     0.66767,     0.66867,     0.66967,     0.67067,     0.67167,\n",
       "           0.67267,     0.67367,     0.67467,     0.67568,     0.67668,     0.67768,     0.67868,     0.67968,     0.68068,     0.68168,     0.68268,     0.68368,     0.68468,     0.68569,     0.68669,     0.68769,     0.68869,     0.68969,     0.69069,     0.69169,     0.69269,     0.69369,     0.69469,      0.6957,\n",
       "            0.6967,      0.6977,      0.6987,      0.6997,      0.7007,      0.7017,      0.7027,      0.7037,      0.7047,     0.70571,     0.70671,     0.70771,     0.70871,     0.70971,     0.71071,     0.71171,     0.71271,     0.71371,     0.71471,     0.71572,     0.71672,     0.71772,     0.71872,     0.71972,\n",
       "           0.72072,     0.72172,     0.72272,     0.72372,     0.72472,     0.72573,     0.72673,     0.72773,     0.72873,     0.72973,     0.73073,     0.73173,     0.73273,     0.73373,     0.73473,     0.73574,     0.73674,     0.73774,     0.73874,     0.73974,     0.74074,     0.74174,     0.74274,     0.74374,\n",
       "           0.74474,     0.74575,     0.74675,     0.74775,     0.74875,     0.74975,     0.75075,     0.75175,     0.75275,     0.75375,     0.75475,     0.75576,     0.75676,     0.75776,     0.75876,     0.75976,     0.76076,     0.76176,     0.76276,     0.76376,     0.76476,     0.76577,     0.76677,     0.76777,\n",
       "           0.76877,     0.76977,     0.77077,     0.77177,     0.77277,     0.77377,     0.77477,     0.77578,     0.77678,     0.77778,     0.77878,     0.77978,     0.78078,     0.78178,     0.78278,     0.78378,     0.78478,     0.78579,     0.78679,     0.78779,     0.78879,     0.78979,     0.79079,     0.79179,\n",
       "           0.79279,     0.79379,     0.79479,      0.7958,      0.7968,      0.7978,      0.7988,      0.7998,      0.8008,      0.8018,      0.8028,      0.8038,      0.8048,     0.80581,     0.80681,     0.80781,     0.80881,     0.80981,     0.81081,     0.81181,     0.81281,     0.81381,     0.81481,     0.81582,\n",
       "           0.81682,     0.81782,     0.81882,     0.81982,     0.82082,     0.82182,     0.82282,     0.82382,     0.82482,     0.82583,     0.82683,     0.82783,     0.82883,     0.82983,     0.83083,     0.83183,     0.83283,     0.83383,     0.83483,     0.83584,     0.83684,     0.83784,     0.83884,     0.83984,\n",
       "           0.84084,     0.84184,     0.84284,     0.84384,     0.84484,     0.84585,     0.84685,     0.84785,     0.84885,     0.84985,     0.85085,     0.85185,     0.85285,     0.85385,     0.85485,     0.85586,     0.85686,     0.85786,     0.85886,     0.85986,     0.86086,     0.86186,     0.86286,     0.86386,\n",
       "           0.86486,     0.86587,     0.86687,     0.86787,     0.86887,     0.86987,     0.87087,     0.87187,     0.87287,     0.87387,     0.87487,     0.87588,     0.87688,     0.87788,     0.87888,     0.87988,     0.88088,     0.88188,     0.88288,     0.88388,     0.88488,     0.88589,     0.88689,     0.88789,\n",
       "           0.88889,     0.88989,     0.89089,     0.89189,     0.89289,     0.89389,     0.89489,      0.8959,      0.8969,      0.8979,      0.8989,      0.8999,      0.9009,      0.9019,      0.9029,      0.9039,      0.9049,     0.90591,     0.90691,     0.90791,     0.90891,     0.90991,     0.91091,     0.91191,\n",
       "           0.91291,     0.91391,     0.91491,     0.91592,     0.91692,     0.91792,     0.91892,     0.91992,     0.92092,     0.92192,     0.92292,     0.92392,     0.92492,     0.92593,     0.92693,     0.92793,     0.92893,     0.92993,     0.93093,     0.93193,     0.93293,     0.93393,     0.93493,     0.93594,\n",
       "           0.93694,     0.93794,     0.93894,     0.93994,     0.94094,     0.94194,     0.94294,     0.94394,     0.94494,     0.94595,     0.94695,     0.94795,     0.94895,     0.94995,     0.95095,     0.95195,     0.95295,     0.95395,     0.95495,     0.95596,     0.95696,     0.95796,     0.95896,     0.95996,\n",
       "           0.96096,     0.96196,     0.96296,     0.96396,     0.96496,     0.96597,     0.96697,     0.96797,     0.96897,     0.96997,     0.97097,     0.97197,     0.97297,     0.97397,     0.97497,     0.97598,     0.97698,     0.97798,     0.97898,     0.97998,     0.98098,     0.98198,     0.98298,     0.98398,\n",
       "           0.98498,     0.98599,     0.98699,     0.98799,     0.98899,     0.98999,     0.99099,     0.99199,     0.99299,     0.99399,     0.99499,       0.996,       0.997,       0.998,       0.999,           1]), array([[          1,           1,           1, ...,   0.0067198,   0.0033599,           0],\n",
       "       [          1,           1,           1, ...,  0.00042445,  0.00021223,           0],\n",
       "       [          1,           1,           1, ...,  0.00012133,  6.0667e-05,           0]]), 'Recall', 'Precision'], [array([          0,    0.001001,    0.002002,    0.003003,    0.004004,    0.005005,    0.006006,    0.007007,    0.008008,    0.009009,     0.01001,    0.011011,    0.012012,    0.013013,    0.014014,    0.015015,    0.016016,    0.017017,    0.018018,    0.019019,     0.02002,    0.021021,    0.022022,    0.023023,\n",
       "          0.024024,    0.025025,    0.026026,    0.027027,    0.028028,    0.029029,     0.03003,    0.031031,    0.032032,    0.033033,    0.034034,    0.035035,    0.036036,    0.037037,    0.038038,    0.039039,     0.04004,    0.041041,    0.042042,    0.043043,    0.044044,    0.045045,    0.046046,    0.047047,\n",
       "          0.048048,    0.049049,     0.05005,    0.051051,    0.052052,    0.053053,    0.054054,    0.055055,    0.056056,    0.057057,    0.058058,    0.059059,     0.06006,    0.061061,    0.062062,    0.063063,    0.064064,    0.065065,    0.066066,    0.067067,    0.068068,    0.069069,     0.07007,    0.071071,\n",
       "          0.072072,    0.073073,    0.074074,    0.075075,    0.076076,    0.077077,    0.078078,    0.079079,     0.08008,    0.081081,    0.082082,    0.083083,    0.084084,    0.085085,    0.086086,    0.087087,    0.088088,    0.089089,     0.09009,    0.091091,    0.092092,    0.093093,    0.094094,    0.095095,\n",
       "          0.096096,    0.097097,    0.098098,    0.099099,      0.1001,      0.1011,      0.1021,      0.1031,      0.1041,     0.10511,     0.10611,     0.10711,     0.10811,     0.10911,     0.11011,     0.11111,     0.11211,     0.11311,     0.11411,     0.11512,     0.11612,     0.11712,     0.11812,     0.11912,\n",
       "           0.12012,     0.12112,     0.12212,     0.12312,     0.12412,     0.12513,     0.12613,     0.12713,     0.12813,     0.12913,     0.13013,     0.13113,     0.13213,     0.13313,     0.13413,     0.13514,     0.13614,     0.13714,     0.13814,     0.13914,     0.14014,     0.14114,     0.14214,     0.14314,\n",
       "           0.14414,     0.14515,     0.14615,     0.14715,     0.14815,     0.14915,     0.15015,     0.15115,     0.15215,     0.15315,     0.15415,     0.15516,     0.15616,     0.15716,     0.15816,     0.15916,     0.16016,     0.16116,     0.16216,     0.16316,     0.16416,     0.16517,     0.16617,     0.16717,\n",
       "           0.16817,     0.16917,     0.17017,     0.17117,     0.17217,     0.17317,     0.17417,     0.17518,     0.17618,     0.17718,     0.17818,     0.17918,     0.18018,     0.18118,     0.18218,     0.18318,     0.18418,     0.18519,     0.18619,     0.18719,     0.18819,     0.18919,     0.19019,     0.19119,\n",
       "           0.19219,     0.19319,     0.19419,      0.1952,      0.1962,      0.1972,      0.1982,      0.1992,      0.2002,      0.2012,      0.2022,      0.2032,      0.2042,     0.20521,     0.20621,     0.20721,     0.20821,     0.20921,     0.21021,     0.21121,     0.21221,     0.21321,     0.21421,     0.21522,\n",
       "           0.21622,     0.21722,     0.21822,     0.21922,     0.22022,     0.22122,     0.22222,     0.22322,     0.22422,     0.22523,     0.22623,     0.22723,     0.22823,     0.22923,     0.23023,     0.23123,     0.23223,     0.23323,     0.23423,     0.23524,     0.23624,     0.23724,     0.23824,     0.23924,\n",
       "           0.24024,     0.24124,     0.24224,     0.24324,     0.24424,     0.24525,     0.24625,     0.24725,     0.24825,     0.24925,     0.25025,     0.25125,     0.25225,     0.25325,     0.25425,     0.25526,     0.25626,     0.25726,     0.25826,     0.25926,     0.26026,     0.26126,     0.26226,     0.26326,\n",
       "           0.26426,     0.26527,     0.26627,     0.26727,     0.26827,     0.26927,     0.27027,     0.27127,     0.27227,     0.27327,     0.27427,     0.27528,     0.27628,     0.27728,     0.27828,     0.27928,     0.28028,     0.28128,     0.28228,     0.28328,     0.28428,     0.28529,     0.28629,     0.28729,\n",
       "           0.28829,     0.28929,     0.29029,     0.29129,     0.29229,     0.29329,     0.29429,      0.2953,      0.2963,      0.2973,      0.2983,      0.2993,      0.3003,      0.3013,      0.3023,      0.3033,      0.3043,     0.30531,     0.30631,     0.30731,     0.30831,     0.30931,     0.31031,     0.31131,\n",
       "           0.31231,     0.31331,     0.31431,     0.31532,     0.31632,     0.31732,     0.31832,     0.31932,     0.32032,     0.32132,     0.32232,     0.32332,     0.32432,     0.32533,     0.32633,     0.32733,     0.32833,     0.32933,     0.33033,     0.33133,     0.33233,     0.33333,     0.33433,     0.33534,\n",
       "           0.33634,     0.33734,     0.33834,     0.33934,     0.34034,     0.34134,     0.34234,     0.34334,     0.34434,     0.34535,     0.34635,     0.34735,     0.34835,     0.34935,     0.35035,     0.35135,     0.35235,     0.35335,     0.35435,     0.35536,     0.35636,     0.35736,     0.35836,     0.35936,\n",
       "           0.36036,     0.36136,     0.36236,     0.36336,     0.36436,     0.36537,     0.36637,     0.36737,     0.36837,     0.36937,     0.37037,     0.37137,     0.37237,     0.37337,     0.37437,     0.37538,     0.37638,     0.37738,     0.37838,     0.37938,     0.38038,     0.38138,     0.38238,     0.38338,\n",
       "           0.38438,     0.38539,     0.38639,     0.38739,     0.38839,     0.38939,     0.39039,     0.39139,     0.39239,     0.39339,     0.39439,      0.3954,      0.3964,      0.3974,      0.3984,      0.3994,      0.4004,      0.4014,      0.4024,      0.4034,      0.4044,     0.40541,     0.40641,     0.40741,\n",
       "           0.40841,     0.40941,     0.41041,     0.41141,     0.41241,     0.41341,     0.41441,     0.41542,     0.41642,     0.41742,     0.41842,     0.41942,     0.42042,     0.42142,     0.42242,     0.42342,     0.42442,     0.42543,     0.42643,     0.42743,     0.42843,     0.42943,     0.43043,     0.43143,\n",
       "           0.43243,     0.43343,     0.43443,     0.43544,     0.43644,     0.43744,     0.43844,     0.43944,     0.44044,     0.44144,     0.44244,     0.44344,     0.44444,     0.44545,     0.44645,     0.44745,     0.44845,     0.44945,     0.45045,     0.45145,     0.45245,     0.45345,     0.45445,     0.45546,\n",
       "           0.45646,     0.45746,     0.45846,     0.45946,     0.46046,     0.46146,     0.46246,     0.46346,     0.46446,     0.46547,     0.46647,     0.46747,     0.46847,     0.46947,     0.47047,     0.47147,     0.47247,     0.47347,     0.47447,     0.47548,     0.47648,     0.47748,     0.47848,     0.47948,\n",
       "           0.48048,     0.48148,     0.48248,     0.48348,     0.48448,     0.48549,     0.48649,     0.48749,     0.48849,     0.48949,     0.49049,     0.49149,     0.49249,     0.49349,     0.49449,      0.4955,      0.4965,      0.4975,      0.4985,      0.4995,      0.5005,      0.5015,      0.5025,      0.5035,\n",
       "            0.5045,     0.50551,     0.50651,     0.50751,     0.50851,     0.50951,     0.51051,     0.51151,     0.51251,     0.51351,     0.51451,     0.51552,     0.51652,     0.51752,     0.51852,     0.51952,     0.52052,     0.52152,     0.52252,     0.52352,     0.52452,     0.52553,     0.52653,     0.52753,\n",
       "           0.52853,     0.52953,     0.53053,     0.53153,     0.53253,     0.53353,     0.53453,     0.53554,     0.53654,     0.53754,     0.53854,     0.53954,     0.54054,     0.54154,     0.54254,     0.54354,     0.54454,     0.54555,     0.54655,     0.54755,     0.54855,     0.54955,     0.55055,     0.55155,\n",
       "           0.55255,     0.55355,     0.55455,     0.55556,     0.55656,     0.55756,     0.55856,     0.55956,     0.56056,     0.56156,     0.56256,     0.56356,     0.56456,     0.56557,     0.56657,     0.56757,     0.56857,     0.56957,     0.57057,     0.57157,     0.57257,     0.57357,     0.57457,     0.57558,\n",
       "           0.57658,     0.57758,     0.57858,     0.57958,     0.58058,     0.58158,     0.58258,     0.58358,     0.58458,     0.58559,     0.58659,     0.58759,     0.58859,     0.58959,     0.59059,     0.59159,     0.59259,     0.59359,     0.59459,      0.5956,      0.5966,      0.5976,      0.5986,      0.5996,\n",
       "            0.6006,      0.6016,      0.6026,      0.6036,      0.6046,     0.60561,     0.60661,     0.60761,     0.60861,     0.60961,     0.61061,     0.61161,     0.61261,     0.61361,     0.61461,     0.61562,     0.61662,     0.61762,     0.61862,     0.61962,     0.62062,     0.62162,     0.62262,     0.62362,\n",
       "           0.62462,     0.62563,     0.62663,     0.62763,     0.62863,     0.62963,     0.63063,     0.63163,     0.63263,     0.63363,     0.63463,     0.63564,     0.63664,     0.63764,     0.63864,     0.63964,     0.64064,     0.64164,     0.64264,     0.64364,     0.64464,     0.64565,     0.64665,     0.64765,\n",
       "           0.64865,     0.64965,     0.65065,     0.65165,     0.65265,     0.65365,     0.65465,     0.65566,     0.65666,     0.65766,     0.65866,     0.65966,     0.66066,     0.66166,     0.66266,     0.66366,     0.66466,     0.66567,     0.66667,     0.66767,     0.66867,     0.66967,     0.67067,     0.67167,\n",
       "           0.67267,     0.67367,     0.67467,     0.67568,     0.67668,     0.67768,     0.67868,     0.67968,     0.68068,     0.68168,     0.68268,     0.68368,     0.68468,     0.68569,     0.68669,     0.68769,     0.68869,     0.68969,     0.69069,     0.69169,     0.69269,     0.69369,     0.69469,      0.6957,\n",
       "            0.6967,      0.6977,      0.6987,      0.6997,      0.7007,      0.7017,      0.7027,      0.7037,      0.7047,     0.70571,     0.70671,     0.70771,     0.70871,     0.70971,     0.71071,     0.71171,     0.71271,     0.71371,     0.71471,     0.71572,     0.71672,     0.71772,     0.71872,     0.71972,\n",
       "           0.72072,     0.72172,     0.72272,     0.72372,     0.72472,     0.72573,     0.72673,     0.72773,     0.72873,     0.72973,     0.73073,     0.73173,     0.73273,     0.73373,     0.73473,     0.73574,     0.73674,     0.73774,     0.73874,     0.73974,     0.74074,     0.74174,     0.74274,     0.74374,\n",
       "           0.74474,     0.74575,     0.74675,     0.74775,     0.74875,     0.74975,     0.75075,     0.75175,     0.75275,     0.75375,     0.75475,     0.75576,     0.75676,     0.75776,     0.75876,     0.75976,     0.76076,     0.76176,     0.76276,     0.76376,     0.76476,     0.76577,     0.76677,     0.76777,\n",
       "           0.76877,     0.76977,     0.77077,     0.77177,     0.77277,     0.77377,     0.77477,     0.77578,     0.77678,     0.77778,     0.77878,     0.77978,     0.78078,     0.78178,     0.78278,     0.78378,     0.78478,     0.78579,     0.78679,     0.78779,     0.78879,     0.78979,     0.79079,     0.79179,\n",
       "           0.79279,     0.79379,     0.79479,      0.7958,      0.7968,      0.7978,      0.7988,      0.7998,      0.8008,      0.8018,      0.8028,      0.8038,      0.8048,     0.80581,     0.80681,     0.80781,     0.80881,     0.80981,     0.81081,     0.81181,     0.81281,     0.81381,     0.81481,     0.81582,\n",
       "           0.81682,     0.81782,     0.81882,     0.81982,     0.82082,     0.82182,     0.82282,     0.82382,     0.82482,     0.82583,     0.82683,     0.82783,     0.82883,     0.82983,     0.83083,     0.83183,     0.83283,     0.83383,     0.83483,     0.83584,     0.83684,     0.83784,     0.83884,     0.83984,\n",
       "           0.84084,     0.84184,     0.84284,     0.84384,     0.84484,     0.84585,     0.84685,     0.84785,     0.84885,     0.84985,     0.85085,     0.85185,     0.85285,     0.85385,     0.85485,     0.85586,     0.85686,     0.85786,     0.85886,     0.85986,     0.86086,     0.86186,     0.86286,     0.86386,\n",
       "           0.86486,     0.86587,     0.86687,     0.86787,     0.86887,     0.86987,     0.87087,     0.87187,     0.87287,     0.87387,     0.87487,     0.87588,     0.87688,     0.87788,     0.87888,     0.87988,     0.88088,     0.88188,     0.88288,     0.88388,     0.88488,     0.88589,     0.88689,     0.88789,\n",
       "           0.88889,     0.88989,     0.89089,     0.89189,     0.89289,     0.89389,     0.89489,      0.8959,      0.8969,      0.8979,      0.8989,      0.8999,      0.9009,      0.9019,      0.9029,      0.9039,      0.9049,     0.90591,     0.90691,     0.90791,     0.90891,     0.90991,     0.91091,     0.91191,\n",
       "           0.91291,     0.91391,     0.91491,     0.91592,     0.91692,     0.91792,     0.91892,     0.91992,     0.92092,     0.92192,     0.92292,     0.92392,     0.92492,     0.92593,     0.92693,     0.92793,     0.92893,     0.92993,     0.93093,     0.93193,     0.93293,     0.93393,     0.93493,     0.93594,\n",
       "           0.93694,     0.93794,     0.93894,     0.93994,     0.94094,     0.94194,     0.94294,     0.94394,     0.94494,     0.94595,     0.94695,     0.94795,     0.94895,     0.94995,     0.95095,     0.95195,     0.95295,     0.95395,     0.95495,     0.95596,     0.95696,     0.95796,     0.95896,     0.95996,\n",
       "           0.96096,     0.96196,     0.96296,     0.96396,     0.96496,     0.96597,     0.96697,     0.96797,     0.96897,     0.96997,     0.97097,     0.97197,     0.97297,     0.97397,     0.97497,     0.97598,     0.97698,     0.97798,     0.97898,     0.97998,     0.98098,     0.98198,     0.98298,     0.98398,\n",
       "           0.98498,     0.98599,     0.98699,     0.98799,     0.98899,     0.98999,     0.99099,     0.99199,     0.99299,     0.99399,     0.99499,       0.996,       0.997,       0.998,       0.999,           1]), array([[    0.30221,     0.30229,     0.37778, ...,           0,           0,           0],\n",
       "       [   0.080537,    0.080537,     0.13675, ...,           0,           0,           0],\n",
       "       [   0.029703,    0.029703,    0.053598, ...,           0,           0,           0]]), 'Confidence', 'F1'], [array([          0,    0.001001,    0.002002,    0.003003,    0.004004,    0.005005,    0.006006,    0.007007,    0.008008,    0.009009,     0.01001,    0.011011,    0.012012,    0.013013,    0.014014,    0.015015,    0.016016,    0.017017,    0.018018,    0.019019,     0.02002,    0.021021,    0.022022,    0.023023,\n",
       "          0.024024,    0.025025,    0.026026,    0.027027,    0.028028,    0.029029,     0.03003,    0.031031,    0.032032,    0.033033,    0.034034,    0.035035,    0.036036,    0.037037,    0.038038,    0.039039,     0.04004,    0.041041,    0.042042,    0.043043,    0.044044,    0.045045,    0.046046,    0.047047,\n",
       "          0.048048,    0.049049,     0.05005,    0.051051,    0.052052,    0.053053,    0.054054,    0.055055,    0.056056,    0.057057,    0.058058,    0.059059,     0.06006,    0.061061,    0.062062,    0.063063,    0.064064,    0.065065,    0.066066,    0.067067,    0.068068,    0.069069,     0.07007,    0.071071,\n",
       "          0.072072,    0.073073,    0.074074,    0.075075,    0.076076,    0.077077,    0.078078,    0.079079,     0.08008,    0.081081,    0.082082,    0.083083,    0.084084,    0.085085,    0.086086,    0.087087,    0.088088,    0.089089,     0.09009,    0.091091,    0.092092,    0.093093,    0.094094,    0.095095,\n",
       "          0.096096,    0.097097,    0.098098,    0.099099,      0.1001,      0.1011,      0.1021,      0.1031,      0.1041,     0.10511,     0.10611,     0.10711,     0.10811,     0.10911,     0.11011,     0.11111,     0.11211,     0.11311,     0.11411,     0.11512,     0.11612,     0.11712,     0.11812,     0.11912,\n",
       "           0.12012,     0.12112,     0.12212,     0.12312,     0.12412,     0.12513,     0.12613,     0.12713,     0.12813,     0.12913,     0.13013,     0.13113,     0.13213,     0.13313,     0.13413,     0.13514,     0.13614,     0.13714,     0.13814,     0.13914,     0.14014,     0.14114,     0.14214,     0.14314,\n",
       "           0.14414,     0.14515,     0.14615,     0.14715,     0.14815,     0.14915,     0.15015,     0.15115,     0.15215,     0.15315,     0.15415,     0.15516,     0.15616,     0.15716,     0.15816,     0.15916,     0.16016,     0.16116,     0.16216,     0.16316,     0.16416,     0.16517,     0.16617,     0.16717,\n",
       "           0.16817,     0.16917,     0.17017,     0.17117,     0.17217,     0.17317,     0.17417,     0.17518,     0.17618,     0.17718,     0.17818,     0.17918,     0.18018,     0.18118,     0.18218,     0.18318,     0.18418,     0.18519,     0.18619,     0.18719,     0.18819,     0.18919,     0.19019,     0.19119,\n",
       "           0.19219,     0.19319,     0.19419,      0.1952,      0.1962,      0.1972,      0.1982,      0.1992,      0.2002,      0.2012,      0.2022,      0.2032,      0.2042,     0.20521,     0.20621,     0.20721,     0.20821,     0.20921,     0.21021,     0.21121,     0.21221,     0.21321,     0.21421,     0.21522,\n",
       "           0.21622,     0.21722,     0.21822,     0.21922,     0.22022,     0.22122,     0.22222,     0.22322,     0.22422,     0.22523,     0.22623,     0.22723,     0.22823,     0.22923,     0.23023,     0.23123,     0.23223,     0.23323,     0.23423,     0.23524,     0.23624,     0.23724,     0.23824,     0.23924,\n",
       "           0.24024,     0.24124,     0.24224,     0.24324,     0.24424,     0.24525,     0.24625,     0.24725,     0.24825,     0.24925,     0.25025,     0.25125,     0.25225,     0.25325,     0.25425,     0.25526,     0.25626,     0.25726,     0.25826,     0.25926,     0.26026,     0.26126,     0.26226,     0.26326,\n",
       "           0.26426,     0.26527,     0.26627,     0.26727,     0.26827,     0.26927,     0.27027,     0.27127,     0.27227,     0.27327,     0.27427,     0.27528,     0.27628,     0.27728,     0.27828,     0.27928,     0.28028,     0.28128,     0.28228,     0.28328,     0.28428,     0.28529,     0.28629,     0.28729,\n",
       "           0.28829,     0.28929,     0.29029,     0.29129,     0.29229,     0.29329,     0.29429,      0.2953,      0.2963,      0.2973,      0.2983,      0.2993,      0.3003,      0.3013,      0.3023,      0.3033,      0.3043,     0.30531,     0.30631,     0.30731,     0.30831,     0.30931,     0.31031,     0.31131,\n",
       "           0.31231,     0.31331,     0.31431,     0.31532,     0.31632,     0.31732,     0.31832,     0.31932,     0.32032,     0.32132,     0.32232,     0.32332,     0.32432,     0.32533,     0.32633,     0.32733,     0.32833,     0.32933,     0.33033,     0.33133,     0.33233,     0.33333,     0.33433,     0.33534,\n",
       "           0.33634,     0.33734,     0.33834,     0.33934,     0.34034,     0.34134,     0.34234,     0.34334,     0.34434,     0.34535,     0.34635,     0.34735,     0.34835,     0.34935,     0.35035,     0.35135,     0.35235,     0.35335,     0.35435,     0.35536,     0.35636,     0.35736,     0.35836,     0.35936,\n",
       "           0.36036,     0.36136,     0.36236,     0.36336,     0.36436,     0.36537,     0.36637,     0.36737,     0.36837,     0.36937,     0.37037,     0.37137,     0.37237,     0.37337,     0.37437,     0.37538,     0.37638,     0.37738,     0.37838,     0.37938,     0.38038,     0.38138,     0.38238,     0.38338,\n",
       "           0.38438,     0.38539,     0.38639,     0.38739,     0.38839,     0.38939,     0.39039,     0.39139,     0.39239,     0.39339,     0.39439,      0.3954,      0.3964,      0.3974,      0.3984,      0.3994,      0.4004,      0.4014,      0.4024,      0.4034,      0.4044,     0.40541,     0.40641,     0.40741,\n",
       "           0.40841,     0.40941,     0.41041,     0.41141,     0.41241,     0.41341,     0.41441,     0.41542,     0.41642,     0.41742,     0.41842,     0.41942,     0.42042,     0.42142,     0.42242,     0.42342,     0.42442,     0.42543,     0.42643,     0.42743,     0.42843,     0.42943,     0.43043,     0.43143,\n",
       "           0.43243,     0.43343,     0.43443,     0.43544,     0.43644,     0.43744,     0.43844,     0.43944,     0.44044,     0.44144,     0.44244,     0.44344,     0.44444,     0.44545,     0.44645,     0.44745,     0.44845,     0.44945,     0.45045,     0.45145,     0.45245,     0.45345,     0.45445,     0.45546,\n",
       "           0.45646,     0.45746,     0.45846,     0.45946,     0.46046,     0.46146,     0.46246,     0.46346,     0.46446,     0.46547,     0.46647,     0.46747,     0.46847,     0.46947,     0.47047,     0.47147,     0.47247,     0.47347,     0.47447,     0.47548,     0.47648,     0.47748,     0.47848,     0.47948,\n",
       "           0.48048,     0.48148,     0.48248,     0.48348,     0.48448,     0.48549,     0.48649,     0.48749,     0.48849,     0.48949,     0.49049,     0.49149,     0.49249,     0.49349,     0.49449,      0.4955,      0.4965,      0.4975,      0.4985,      0.4995,      0.5005,      0.5015,      0.5025,      0.5035,\n",
       "            0.5045,     0.50551,     0.50651,     0.50751,     0.50851,     0.50951,     0.51051,     0.51151,     0.51251,     0.51351,     0.51451,     0.51552,     0.51652,     0.51752,     0.51852,     0.51952,     0.52052,     0.52152,     0.52252,     0.52352,     0.52452,     0.52553,     0.52653,     0.52753,\n",
       "           0.52853,     0.52953,     0.53053,     0.53153,     0.53253,     0.53353,     0.53453,     0.53554,     0.53654,     0.53754,     0.53854,     0.53954,     0.54054,     0.54154,     0.54254,     0.54354,     0.54454,     0.54555,     0.54655,     0.54755,     0.54855,     0.54955,     0.55055,     0.55155,\n",
       "           0.55255,     0.55355,     0.55455,     0.55556,     0.55656,     0.55756,     0.55856,     0.55956,     0.56056,     0.56156,     0.56256,     0.56356,     0.56456,     0.56557,     0.56657,     0.56757,     0.56857,     0.56957,     0.57057,     0.57157,     0.57257,     0.57357,     0.57457,     0.57558,\n",
       "           0.57658,     0.57758,     0.57858,     0.57958,     0.58058,     0.58158,     0.58258,     0.58358,     0.58458,     0.58559,     0.58659,     0.58759,     0.58859,     0.58959,     0.59059,     0.59159,     0.59259,     0.59359,     0.59459,      0.5956,      0.5966,      0.5976,      0.5986,      0.5996,\n",
       "            0.6006,      0.6016,      0.6026,      0.6036,      0.6046,     0.60561,     0.60661,     0.60761,     0.60861,     0.60961,     0.61061,     0.61161,     0.61261,     0.61361,     0.61461,     0.61562,     0.61662,     0.61762,     0.61862,     0.61962,     0.62062,     0.62162,     0.62262,     0.62362,\n",
       "           0.62462,     0.62563,     0.62663,     0.62763,     0.62863,     0.62963,     0.63063,     0.63163,     0.63263,     0.63363,     0.63463,     0.63564,     0.63664,     0.63764,     0.63864,     0.63964,     0.64064,     0.64164,     0.64264,     0.64364,     0.64464,     0.64565,     0.64665,     0.64765,\n",
       "           0.64865,     0.64965,     0.65065,     0.65165,     0.65265,     0.65365,     0.65465,     0.65566,     0.65666,     0.65766,     0.65866,     0.65966,     0.66066,     0.66166,     0.66266,     0.66366,     0.66466,     0.66567,     0.66667,     0.66767,     0.66867,     0.66967,     0.67067,     0.67167,\n",
       "           0.67267,     0.67367,     0.67467,     0.67568,     0.67668,     0.67768,     0.67868,     0.67968,     0.68068,     0.68168,     0.68268,     0.68368,     0.68468,     0.68569,     0.68669,     0.68769,     0.68869,     0.68969,     0.69069,     0.69169,     0.69269,     0.69369,     0.69469,      0.6957,\n",
       "            0.6967,      0.6977,      0.6987,      0.6997,      0.7007,      0.7017,      0.7027,      0.7037,      0.7047,     0.70571,     0.70671,     0.70771,     0.70871,     0.70971,     0.71071,     0.71171,     0.71271,     0.71371,     0.71471,     0.71572,     0.71672,     0.71772,     0.71872,     0.71972,\n",
       "           0.72072,     0.72172,     0.72272,     0.72372,     0.72472,     0.72573,     0.72673,     0.72773,     0.72873,     0.72973,     0.73073,     0.73173,     0.73273,     0.73373,     0.73473,     0.73574,     0.73674,     0.73774,     0.73874,     0.73974,     0.74074,     0.74174,     0.74274,     0.74374,\n",
       "           0.74474,     0.74575,     0.74675,     0.74775,     0.74875,     0.74975,     0.75075,     0.75175,     0.75275,     0.75375,     0.75475,     0.75576,     0.75676,     0.75776,     0.75876,     0.75976,     0.76076,     0.76176,     0.76276,     0.76376,     0.76476,     0.76577,     0.76677,     0.76777,\n",
       "           0.76877,     0.76977,     0.77077,     0.77177,     0.77277,     0.77377,     0.77477,     0.77578,     0.77678,     0.77778,     0.77878,     0.77978,     0.78078,     0.78178,     0.78278,     0.78378,     0.78478,     0.78579,     0.78679,     0.78779,     0.78879,     0.78979,     0.79079,     0.79179,\n",
       "           0.79279,     0.79379,     0.79479,      0.7958,      0.7968,      0.7978,      0.7988,      0.7998,      0.8008,      0.8018,      0.8028,      0.8038,      0.8048,     0.80581,     0.80681,     0.80781,     0.80881,     0.80981,     0.81081,     0.81181,     0.81281,     0.81381,     0.81481,     0.81582,\n",
       "           0.81682,     0.81782,     0.81882,     0.81982,     0.82082,     0.82182,     0.82282,     0.82382,     0.82482,     0.82583,     0.82683,     0.82783,     0.82883,     0.82983,     0.83083,     0.83183,     0.83283,     0.83383,     0.83483,     0.83584,     0.83684,     0.83784,     0.83884,     0.83984,\n",
       "           0.84084,     0.84184,     0.84284,     0.84384,     0.84484,     0.84585,     0.84685,     0.84785,     0.84885,     0.84985,     0.85085,     0.85185,     0.85285,     0.85385,     0.85485,     0.85586,     0.85686,     0.85786,     0.85886,     0.85986,     0.86086,     0.86186,     0.86286,     0.86386,\n",
       "           0.86486,     0.86587,     0.86687,     0.86787,     0.86887,     0.86987,     0.87087,     0.87187,     0.87287,     0.87387,     0.87487,     0.87588,     0.87688,     0.87788,     0.87888,     0.87988,     0.88088,     0.88188,     0.88288,     0.88388,     0.88488,     0.88589,     0.88689,     0.88789,\n",
       "           0.88889,     0.88989,     0.89089,     0.89189,     0.89289,     0.89389,     0.89489,      0.8959,      0.8969,      0.8979,      0.8989,      0.8999,      0.9009,      0.9019,      0.9029,      0.9039,      0.9049,     0.90591,     0.90691,     0.90791,     0.90891,     0.90991,     0.91091,     0.91191,\n",
       "           0.91291,     0.91391,     0.91491,     0.91592,     0.91692,     0.91792,     0.91892,     0.91992,     0.92092,     0.92192,     0.92292,     0.92392,     0.92492,     0.92593,     0.92693,     0.92793,     0.92893,     0.92993,     0.93093,     0.93193,     0.93293,     0.93393,     0.93493,     0.93594,\n",
       "           0.93694,     0.93794,     0.93894,     0.93994,     0.94094,     0.94194,     0.94294,     0.94394,     0.94494,     0.94595,     0.94695,     0.94795,     0.94895,     0.94995,     0.95095,     0.95195,     0.95295,     0.95395,     0.95495,     0.95596,     0.95696,     0.95796,     0.95896,     0.95996,\n",
       "           0.96096,     0.96196,     0.96296,     0.96396,     0.96496,     0.96597,     0.96697,     0.96797,     0.96897,     0.96997,     0.97097,     0.97197,     0.97297,     0.97397,     0.97497,     0.97598,     0.97698,     0.97798,     0.97898,     0.97998,     0.98098,     0.98198,     0.98298,     0.98398,\n",
       "           0.98498,     0.98599,     0.98699,     0.98799,     0.98899,     0.98999,     0.99099,     0.99199,     0.99299,     0.99399,     0.99499,       0.996,       0.997,       0.998,       0.999,           1]), array([[    0.17981,     0.17987,     0.23627, ...,           1,           1,           1],\n",
       "       [   0.042403,    0.042403,    0.074767, ...,           1,           1,           1],\n",
       "       [   0.015152,    0.015152,    0.027792, ...,           1,           1,           1]]), 'Confidence', 'Precision'], [array([          0,    0.001001,    0.002002,    0.003003,    0.004004,    0.005005,    0.006006,    0.007007,    0.008008,    0.009009,     0.01001,    0.011011,    0.012012,    0.013013,    0.014014,    0.015015,    0.016016,    0.017017,    0.018018,    0.019019,     0.02002,    0.021021,    0.022022,    0.023023,\n",
       "          0.024024,    0.025025,    0.026026,    0.027027,    0.028028,    0.029029,     0.03003,    0.031031,    0.032032,    0.033033,    0.034034,    0.035035,    0.036036,    0.037037,    0.038038,    0.039039,     0.04004,    0.041041,    0.042042,    0.043043,    0.044044,    0.045045,    0.046046,    0.047047,\n",
       "          0.048048,    0.049049,     0.05005,    0.051051,    0.052052,    0.053053,    0.054054,    0.055055,    0.056056,    0.057057,    0.058058,    0.059059,     0.06006,    0.061061,    0.062062,    0.063063,    0.064064,    0.065065,    0.066066,    0.067067,    0.068068,    0.069069,     0.07007,    0.071071,\n",
       "          0.072072,    0.073073,    0.074074,    0.075075,    0.076076,    0.077077,    0.078078,    0.079079,     0.08008,    0.081081,    0.082082,    0.083083,    0.084084,    0.085085,    0.086086,    0.087087,    0.088088,    0.089089,     0.09009,    0.091091,    0.092092,    0.093093,    0.094094,    0.095095,\n",
       "          0.096096,    0.097097,    0.098098,    0.099099,      0.1001,      0.1011,      0.1021,      0.1031,      0.1041,     0.10511,     0.10611,     0.10711,     0.10811,     0.10911,     0.11011,     0.11111,     0.11211,     0.11311,     0.11411,     0.11512,     0.11612,     0.11712,     0.11812,     0.11912,\n",
       "           0.12012,     0.12112,     0.12212,     0.12312,     0.12412,     0.12513,     0.12613,     0.12713,     0.12813,     0.12913,     0.13013,     0.13113,     0.13213,     0.13313,     0.13413,     0.13514,     0.13614,     0.13714,     0.13814,     0.13914,     0.14014,     0.14114,     0.14214,     0.14314,\n",
       "           0.14414,     0.14515,     0.14615,     0.14715,     0.14815,     0.14915,     0.15015,     0.15115,     0.15215,     0.15315,     0.15415,     0.15516,     0.15616,     0.15716,     0.15816,     0.15916,     0.16016,     0.16116,     0.16216,     0.16316,     0.16416,     0.16517,     0.16617,     0.16717,\n",
       "           0.16817,     0.16917,     0.17017,     0.17117,     0.17217,     0.17317,     0.17417,     0.17518,     0.17618,     0.17718,     0.17818,     0.17918,     0.18018,     0.18118,     0.18218,     0.18318,     0.18418,     0.18519,     0.18619,     0.18719,     0.18819,     0.18919,     0.19019,     0.19119,\n",
       "           0.19219,     0.19319,     0.19419,      0.1952,      0.1962,      0.1972,      0.1982,      0.1992,      0.2002,      0.2012,      0.2022,      0.2032,      0.2042,     0.20521,     0.20621,     0.20721,     0.20821,     0.20921,     0.21021,     0.21121,     0.21221,     0.21321,     0.21421,     0.21522,\n",
       "           0.21622,     0.21722,     0.21822,     0.21922,     0.22022,     0.22122,     0.22222,     0.22322,     0.22422,     0.22523,     0.22623,     0.22723,     0.22823,     0.22923,     0.23023,     0.23123,     0.23223,     0.23323,     0.23423,     0.23524,     0.23624,     0.23724,     0.23824,     0.23924,\n",
       "           0.24024,     0.24124,     0.24224,     0.24324,     0.24424,     0.24525,     0.24625,     0.24725,     0.24825,     0.24925,     0.25025,     0.25125,     0.25225,     0.25325,     0.25425,     0.25526,     0.25626,     0.25726,     0.25826,     0.25926,     0.26026,     0.26126,     0.26226,     0.26326,\n",
       "           0.26426,     0.26527,     0.26627,     0.26727,     0.26827,     0.26927,     0.27027,     0.27127,     0.27227,     0.27327,     0.27427,     0.27528,     0.27628,     0.27728,     0.27828,     0.27928,     0.28028,     0.28128,     0.28228,     0.28328,     0.28428,     0.28529,     0.28629,     0.28729,\n",
       "           0.28829,     0.28929,     0.29029,     0.29129,     0.29229,     0.29329,     0.29429,      0.2953,      0.2963,      0.2973,      0.2983,      0.2993,      0.3003,      0.3013,      0.3023,      0.3033,      0.3043,     0.30531,     0.30631,     0.30731,     0.30831,     0.30931,     0.31031,     0.31131,\n",
       "           0.31231,     0.31331,     0.31431,     0.31532,     0.31632,     0.31732,     0.31832,     0.31932,     0.32032,     0.32132,     0.32232,     0.32332,     0.32432,     0.32533,     0.32633,     0.32733,     0.32833,     0.32933,     0.33033,     0.33133,     0.33233,     0.33333,     0.33433,     0.33534,\n",
       "           0.33634,     0.33734,     0.33834,     0.33934,     0.34034,     0.34134,     0.34234,     0.34334,     0.34434,     0.34535,     0.34635,     0.34735,     0.34835,     0.34935,     0.35035,     0.35135,     0.35235,     0.35335,     0.35435,     0.35536,     0.35636,     0.35736,     0.35836,     0.35936,\n",
       "           0.36036,     0.36136,     0.36236,     0.36336,     0.36436,     0.36537,     0.36637,     0.36737,     0.36837,     0.36937,     0.37037,     0.37137,     0.37237,     0.37337,     0.37437,     0.37538,     0.37638,     0.37738,     0.37838,     0.37938,     0.38038,     0.38138,     0.38238,     0.38338,\n",
       "           0.38438,     0.38539,     0.38639,     0.38739,     0.38839,     0.38939,     0.39039,     0.39139,     0.39239,     0.39339,     0.39439,      0.3954,      0.3964,      0.3974,      0.3984,      0.3994,      0.4004,      0.4014,      0.4024,      0.4034,      0.4044,     0.40541,     0.40641,     0.40741,\n",
       "           0.40841,     0.40941,     0.41041,     0.41141,     0.41241,     0.41341,     0.41441,     0.41542,     0.41642,     0.41742,     0.41842,     0.41942,     0.42042,     0.42142,     0.42242,     0.42342,     0.42442,     0.42543,     0.42643,     0.42743,     0.42843,     0.42943,     0.43043,     0.43143,\n",
       "           0.43243,     0.43343,     0.43443,     0.43544,     0.43644,     0.43744,     0.43844,     0.43944,     0.44044,     0.44144,     0.44244,     0.44344,     0.44444,     0.44545,     0.44645,     0.44745,     0.44845,     0.44945,     0.45045,     0.45145,     0.45245,     0.45345,     0.45445,     0.45546,\n",
       "           0.45646,     0.45746,     0.45846,     0.45946,     0.46046,     0.46146,     0.46246,     0.46346,     0.46446,     0.46547,     0.46647,     0.46747,     0.46847,     0.46947,     0.47047,     0.47147,     0.47247,     0.47347,     0.47447,     0.47548,     0.47648,     0.47748,     0.47848,     0.47948,\n",
       "           0.48048,     0.48148,     0.48248,     0.48348,     0.48448,     0.48549,     0.48649,     0.48749,     0.48849,     0.48949,     0.49049,     0.49149,     0.49249,     0.49349,     0.49449,      0.4955,      0.4965,      0.4975,      0.4985,      0.4995,      0.5005,      0.5015,      0.5025,      0.5035,\n",
       "            0.5045,     0.50551,     0.50651,     0.50751,     0.50851,     0.50951,     0.51051,     0.51151,     0.51251,     0.51351,     0.51451,     0.51552,     0.51652,     0.51752,     0.51852,     0.51952,     0.52052,     0.52152,     0.52252,     0.52352,     0.52452,     0.52553,     0.52653,     0.52753,\n",
       "           0.52853,     0.52953,     0.53053,     0.53153,     0.53253,     0.53353,     0.53453,     0.53554,     0.53654,     0.53754,     0.53854,     0.53954,     0.54054,     0.54154,     0.54254,     0.54354,     0.54454,     0.54555,     0.54655,     0.54755,     0.54855,     0.54955,     0.55055,     0.55155,\n",
       "           0.55255,     0.55355,     0.55455,     0.55556,     0.55656,     0.55756,     0.55856,     0.55956,     0.56056,     0.56156,     0.56256,     0.56356,     0.56456,     0.56557,     0.56657,     0.56757,     0.56857,     0.56957,     0.57057,     0.57157,     0.57257,     0.57357,     0.57457,     0.57558,\n",
       "           0.57658,     0.57758,     0.57858,     0.57958,     0.58058,     0.58158,     0.58258,     0.58358,     0.58458,     0.58559,     0.58659,     0.58759,     0.58859,     0.58959,     0.59059,     0.59159,     0.59259,     0.59359,     0.59459,      0.5956,      0.5966,      0.5976,      0.5986,      0.5996,\n",
       "            0.6006,      0.6016,      0.6026,      0.6036,      0.6046,     0.60561,     0.60661,     0.60761,     0.60861,     0.60961,     0.61061,     0.61161,     0.61261,     0.61361,     0.61461,     0.61562,     0.61662,     0.61762,     0.61862,     0.61962,     0.62062,     0.62162,     0.62262,     0.62362,\n",
       "           0.62462,     0.62563,     0.62663,     0.62763,     0.62863,     0.62963,     0.63063,     0.63163,     0.63263,     0.63363,     0.63463,     0.63564,     0.63664,     0.63764,     0.63864,     0.63964,     0.64064,     0.64164,     0.64264,     0.64364,     0.64464,     0.64565,     0.64665,     0.64765,\n",
       "           0.64865,     0.64965,     0.65065,     0.65165,     0.65265,     0.65365,     0.65465,     0.65566,     0.65666,     0.65766,     0.65866,     0.65966,     0.66066,     0.66166,     0.66266,     0.66366,     0.66466,     0.66567,     0.66667,     0.66767,     0.66867,     0.66967,     0.67067,     0.67167,\n",
       "           0.67267,     0.67367,     0.67467,     0.67568,     0.67668,     0.67768,     0.67868,     0.67968,     0.68068,     0.68168,     0.68268,     0.68368,     0.68468,     0.68569,     0.68669,     0.68769,     0.68869,     0.68969,     0.69069,     0.69169,     0.69269,     0.69369,     0.69469,      0.6957,\n",
       "            0.6967,      0.6977,      0.6987,      0.6997,      0.7007,      0.7017,      0.7027,      0.7037,      0.7047,     0.70571,     0.70671,     0.70771,     0.70871,     0.70971,     0.71071,     0.71171,     0.71271,     0.71371,     0.71471,     0.71572,     0.71672,     0.71772,     0.71872,     0.71972,\n",
       "           0.72072,     0.72172,     0.72272,     0.72372,     0.72472,     0.72573,     0.72673,     0.72773,     0.72873,     0.72973,     0.73073,     0.73173,     0.73273,     0.73373,     0.73473,     0.73574,     0.73674,     0.73774,     0.73874,     0.73974,     0.74074,     0.74174,     0.74274,     0.74374,\n",
       "           0.74474,     0.74575,     0.74675,     0.74775,     0.74875,     0.74975,     0.75075,     0.75175,     0.75275,     0.75375,     0.75475,     0.75576,     0.75676,     0.75776,     0.75876,     0.75976,     0.76076,     0.76176,     0.76276,     0.76376,     0.76476,     0.76577,     0.76677,     0.76777,\n",
       "           0.76877,     0.76977,     0.77077,     0.77177,     0.77277,     0.77377,     0.77477,     0.77578,     0.77678,     0.77778,     0.77878,     0.77978,     0.78078,     0.78178,     0.78278,     0.78378,     0.78478,     0.78579,     0.78679,     0.78779,     0.78879,     0.78979,     0.79079,     0.79179,\n",
       "           0.79279,     0.79379,     0.79479,      0.7958,      0.7968,      0.7978,      0.7988,      0.7998,      0.8008,      0.8018,      0.8028,      0.8038,      0.8048,     0.80581,     0.80681,     0.80781,     0.80881,     0.80981,     0.81081,     0.81181,     0.81281,     0.81381,     0.81481,     0.81582,\n",
       "           0.81682,     0.81782,     0.81882,     0.81982,     0.82082,     0.82182,     0.82282,     0.82382,     0.82482,     0.82583,     0.82683,     0.82783,     0.82883,     0.82983,     0.83083,     0.83183,     0.83283,     0.83383,     0.83483,     0.83584,     0.83684,     0.83784,     0.83884,     0.83984,\n",
       "           0.84084,     0.84184,     0.84284,     0.84384,     0.84484,     0.84585,     0.84685,     0.84785,     0.84885,     0.84985,     0.85085,     0.85185,     0.85285,     0.85385,     0.85485,     0.85586,     0.85686,     0.85786,     0.85886,     0.85986,     0.86086,     0.86186,     0.86286,     0.86386,\n",
       "           0.86486,     0.86587,     0.86687,     0.86787,     0.86887,     0.86987,     0.87087,     0.87187,     0.87287,     0.87387,     0.87487,     0.87588,     0.87688,     0.87788,     0.87888,     0.87988,     0.88088,     0.88188,     0.88288,     0.88388,     0.88488,     0.88589,     0.88689,     0.88789,\n",
       "           0.88889,     0.88989,     0.89089,     0.89189,     0.89289,     0.89389,     0.89489,      0.8959,      0.8969,      0.8979,      0.8989,      0.8999,      0.9009,      0.9019,      0.9029,      0.9039,      0.9049,     0.90591,     0.90691,     0.90791,     0.90891,     0.90991,     0.91091,     0.91191,\n",
       "           0.91291,     0.91391,     0.91491,     0.91592,     0.91692,     0.91792,     0.91892,     0.91992,     0.92092,     0.92192,     0.92292,     0.92392,     0.92492,     0.92593,     0.92693,     0.92793,     0.92893,     0.92993,     0.93093,     0.93193,     0.93293,     0.93393,     0.93493,     0.93594,\n",
       "           0.93694,     0.93794,     0.93894,     0.93994,     0.94094,     0.94194,     0.94294,     0.94394,     0.94494,     0.94595,     0.94695,     0.94795,     0.94895,     0.94995,     0.95095,     0.95195,     0.95295,     0.95395,     0.95495,     0.95596,     0.95696,     0.95796,     0.95896,     0.95996,\n",
       "           0.96096,     0.96196,     0.96296,     0.96396,     0.96496,     0.96597,     0.96697,     0.96797,     0.96897,     0.96997,     0.97097,     0.97197,     0.97297,     0.97397,     0.97497,     0.97598,     0.97698,     0.97798,     0.97898,     0.97998,     0.98098,     0.98198,     0.98298,     0.98398,\n",
       "           0.98498,     0.98599,     0.98699,     0.98799,     0.98899,     0.98999,     0.99099,     0.99199,     0.99299,     0.99399,     0.99499,       0.996,       0.997,       0.998,       0.999,           1]), array([[    0.94643,     0.94643,     0.94196, ...,           0,           0,           0],\n",
       "       [        0.8,         0.8,         0.8, ...,           0,           0,           0],\n",
       "       [       0.75,        0.75,        0.75, ...,           0,           0,           0]]), 'Confidence', 'Recall']]\n",
       "fitness: 0.41409825069442857\n",
       "keys: ['metrics/precision(B)', 'metrics/recall(B)', 'metrics/mAP50(B)', 'metrics/mAP50-95(B)']\n",
       "maps: array([    0.56433,     0.28459,      0.3271,     0.39201,     0.39201,     0.39201,     0.39201,     0.39201,     0.39201])\n",
       "names: {0: 'Car', 1: 'Van', 2: 'Truck', 3: 'Pedestrian', 4: 'Person_sitting', 5: 'Cyclist', 6: 'Tram', 7: 'Misc', 8: 'DontCare'}\n",
       "plot: True\n",
       "results_dict: {'metrics/precision(B)': 0.837925685324706, 'metrics/recall(B)': 0.5164103508175162, 'metrics/mAP50(B)': 0.6129311138775169, 'metrics/mAP50-95(B)': 0.3920057103407521, 'fitness': 0.41409825069442857}\n",
       "save_dir: WindowsPath('runs/detect/train19')\n",
       "speed: {'preprocess': 1.8040408258852751, 'inference': 140.10864237080452, 'loss': 0.0, 'postprocess': 0.760918078215226}\n",
       "task: 'detect'"
      ]
     },
     "execution_count": 4,
     "metadata": {},
     "output_type": "execute_result"
    }
   ],
   "source": [
    "from ultralytics import YOLO\n",
    "\n",
    "# Load YOLOv8 model\n",
    "model = YOLO(\"yolov8s.pt\")  # Use a pre-trained YOLOv8 model\n",
    "\n",
    "# Train YOLOv8 on the custom dataset\n",
    "model.train(\n",
    "    data=\"D:\\majorproj\\kitti_hyb\\data.yaml\",  # Path to dataset\n",
    "    epochs=50,  # Number of epochs\n",
    "    imgsz=640,  # Image size\n",
    "    batch=16,  # Batch size\n",
    "    workers=4  # Number of workers\n",
    ")\n"
   ]
  },
  {
   "cell_type": "code",
   "execution_count": 5,
   "id": "03a57470",
   "metadata": {},
   "outputs": [
    {
     "name": "stdout",
     "output_type": "stream",
     "text": [
      "PRO TIP  Replace 'model=yolov5s.pt' with new 'model=yolov5su.pt'.\n",
      "YOLOv5 'u' models are trained with https://github.com/ultralytics/ultralytics and feature improved performance vs standard YOLOv5 models trained with https://github.com/ultralytics/yolov5.\n",
      "\n",
      "New https://pypi.org/project/ultralytics/8.3.111 available  Update with 'pip install -U ultralytics'\n",
      "Ultralytics 8.3.73  Python-3.11.5 torch-2.2.2 CPU (12th Gen Intel Core(TM) i5-1240P)\n",
      "\u001b[34m\u001b[1mengine\\trainer: \u001b[0mtask=detect, mode=train, model=yolov5s.pt, data=D:\\majorproj\\kitti_hyb\\data.yaml, epochs=50, time=None, patience=100, batch=16, imgsz=640, save=True, save_period=-1, cache=False, device=None, workers=8, project=None, name=train22, exist_ok=False, pretrained=True, optimizer=auto, verbose=True, seed=0, deterministic=True, single_cls=False, rect=False, cos_lr=False, close_mosaic=10, resume=False, amp=True, fraction=1.0, profile=False, freeze=None, multi_scale=False, overlap_mask=True, mask_ratio=4, dropout=0.0, val=True, split=val, save_json=False, save_hybrid=False, conf=None, iou=0.7, max_det=300, half=False, dnn=False, plots=True, source=None, vid_stride=1, stream_buffer=False, visualize=False, augment=False, agnostic_nms=False, classes=None, retina_masks=False, embed=None, show=False, save_frames=False, save_txt=False, save_conf=False, save_crop=False, show_labels=True, show_conf=True, show_boxes=True, line_width=None, format=torchscript, keras=False, optimize=False, int8=False, dynamic=False, simplify=True, opset=None, workspace=None, nms=False, lr0=0.01, lrf=0.01, momentum=0.937, weight_decay=0.0005, warmup_epochs=3.0, warmup_momentum=0.8, warmup_bias_lr=0.1, box=7.5, cls=0.5, dfl=1.5, pose=12.0, kobj=1.0, nbs=64, hsv_h=0.015, hsv_s=0.7, hsv_v=0.4, degrees=0.0, translate=0.1, scale=0.5, shear=0.0, perspective=0.0, flipud=0.0, fliplr=0.5, bgr=0.0, mosaic=1.0, mixup=0.0, copy_paste=0.0, copy_paste_mode=flip, auto_augment=randaugment, erasing=0.4, crop_fraction=1.0, cfg=None, tracker=botsort.yaml, save_dir=runs\\detect\\train22\n",
      "Overriding model.yaml nc=80 with nc=9\n",
      "\n",
      "                   from  n    params  module                                       arguments                     \n",
      "  0                  -1  1      3520  ultralytics.nn.modules.conv.Conv             [3, 32, 6, 2, 2]              \n",
      "  1                  -1  1     18560  ultralytics.nn.modules.conv.Conv             [32, 64, 3, 2]                \n",
      "  2                  -1  1     18816  ultralytics.nn.modules.block.C3              [64, 64, 1]                   \n",
      "  3                  -1  1     73984  ultralytics.nn.modules.conv.Conv             [64, 128, 3, 2]               \n",
      "  4                  -1  2    115712  ultralytics.nn.modules.block.C3              [128, 128, 2]                 \n",
      "  5                  -1  1    295424  ultralytics.nn.modules.conv.Conv             [128, 256, 3, 2]              \n",
      "  6                  -1  3    625152  ultralytics.nn.modules.block.C3              [256, 256, 3]                 \n",
      "  7                  -1  1   1180672  ultralytics.nn.modules.conv.Conv             [256, 512, 3, 2]              \n",
      "  8                  -1  1   1182720  ultralytics.nn.modules.block.C3              [512, 512, 1]                 \n",
      "  9                  -1  1    656896  ultralytics.nn.modules.block.SPPF            [512, 512, 5]                 \n",
      " 10                  -1  1    131584  ultralytics.nn.modules.conv.Conv             [512, 256, 1, 1]              \n",
      " 11                  -1  1         0  torch.nn.modules.upsampling.Upsample         [None, 2, 'nearest']          \n",
      " 12             [-1, 6]  1         0  ultralytics.nn.modules.conv.Concat           [1]                           \n",
      " 13                  -1  1    361984  ultralytics.nn.modules.block.C3              [512, 256, 1, False]          \n",
      " 14                  -1  1     33024  ultralytics.nn.modules.conv.Conv             [256, 128, 1, 1]              \n",
      " 15                  -1  1         0  torch.nn.modules.upsampling.Upsample         [None, 2, 'nearest']          \n",
      " 16             [-1, 4]  1         0  ultralytics.nn.modules.conv.Concat           [1]                           \n",
      " 17                  -1  1     90880  ultralytics.nn.modules.block.C3              [256, 128, 1, False]          \n",
      " 18                  -1  1    147712  ultralytics.nn.modules.conv.Conv             [128, 128, 3, 2]              \n",
      " 19            [-1, 14]  1         0  ultralytics.nn.modules.conv.Concat           [1]                           \n",
      " 20                  -1  1    296448  ultralytics.nn.modules.block.C3              [256, 256, 1, False]          \n",
      " 21                  -1  1    590336  ultralytics.nn.modules.conv.Conv             [256, 256, 3, 2]              \n",
      " 22            [-1, 10]  1         0  ultralytics.nn.modules.conv.Concat           [1]                           \n",
      " 23                  -1  1   1182720  ultralytics.nn.modules.block.C3              [512, 512, 1, False]          \n",
      " 24        [17, 20, 23]  1   2119531  ultralytics.nn.modules.head.Detect           [9, [128, 256, 512]]          \n",
      "YOLOv5s summary: 262 layers, 9,125,675 parameters, 9,125,659 gradients, 24.1 GFLOPs\n",
      "\n",
      "Transferred 421/427 items from pretrained weights\n",
      "\u001b[34m\u001b[1mTensorBoard: \u001b[0mStart with 'tensorboard --logdir runs\\detect\\train22', view at http://localhost:6006/\n",
      "Freezing layer 'model.24.dfl.conv.weight'\n"
     ]
    },
    {
     "name": "stderr",
     "output_type": "stream",
     "text": [
      "\u001b[34m\u001b[1mtrain: \u001b[0mScanning D:\\majorproj\\kitti_hyb\\labels\\train.cache... 163 images, 0 backgrounds, 0 corrupt: 100%|██████████| 163\u001b[0m"
     ]
    },
    {
     "name": "stdout",
     "output_type": "stream",
     "text": [
      "\u001b[34m\u001b[1malbumentations: \u001b[0mBlur(p=0.01, blur_limit=(3, 7)), MedianBlur(p=0.01, blur_limit=(3, 7)), ToGray(p=0.01, num_output_channels=3, method='weighted_average'), CLAHE(p=0.01, clip_limit=(1.0, 4.0), tile_grid_size=(8, 8))\n"
     ]
    },
    {
     "name": "stderr",
     "output_type": "stream",
     "text": [
      "\n",
      "\u001b[34m\u001b[1mval: \u001b[0mScanning D:\\majorproj\\kitti_hyb\\labels\\val.cache... 46 images, 0 backgrounds, 0 corrupt: 100%|██████████| 46/46 [0\u001b[0m\n"
     ]
    },
    {
     "name": "stdout",
     "output_type": "stream",
     "text": [
      "Plotting labels to runs\\detect\\train22\\labels.jpg... \n",
      "\u001b[34m\u001b[1moptimizer:\u001b[0m 'optimizer=auto' found, ignoring 'lr0=0.01' and 'momentum=0.937' and determining best 'optimizer', 'lr0' and 'momentum' automatically... \n",
      "\u001b[34m\u001b[1moptimizer:\u001b[0m AdamW(lr=0.000769, momentum=0.9) with parameter groups 69 weight(decay=0.0), 76 weight(decay=0.0005), 75 bias(decay=0.0)\n",
      "\u001b[34m\u001b[1mTensorBoard: \u001b[0mmodel graph visualization added \n",
      "Image sizes 640 train, 640 val\n",
      "Using 0 dataloader workers\n",
      "Logging results to \u001b[1mruns\\detect\\train22\u001b[0m\n",
      "Starting training for 50 epochs...\n",
      "\n",
      "      Epoch    GPU_mem   box_loss   cls_loss   dfl_loss  Instances       Size\n"
     ]
    },
    {
     "name": "stderr",
     "output_type": "stream",
     "text": [
      "       1/50         0G      1.541      3.965      1.192         18        640: 100%|██████████| 11/11 [03:44<00:00, 20.\n",
      "                 Class     Images  Instances      Box(P          R      mAP50  mAP50-95): 100%|██████████| 2/2 [00:09<0"
     ]
    },
    {
     "name": "stdout",
     "output_type": "stream",
     "text": [
      "                   all         46        243      0.869       0.29      0.324      0.186\n"
     ]
    },
    {
     "name": "stderr",
     "output_type": "stream",
     "text": [
      "\n"
     ]
    },
    {
     "name": "stdout",
     "output_type": "stream",
     "text": [
      "\n",
      "      Epoch    GPU_mem   box_loss   cls_loss   dfl_loss  Instances       Size\n"
     ]
    },
    {
     "name": "stderr",
     "output_type": "stream",
     "text": [
      "       2/50         0G       1.43      1.667      1.119         15        640: 100%|██████████| 11/11 [03:30<00:00, 19.\n",
      "                 Class     Images  Instances      Box(P          R      mAP50  mAP50-95): 100%|██████████| 2/2 [00:09<0"
     ]
    },
    {
     "name": "stdout",
     "output_type": "stream",
     "text": [
      "                   all         46        243      0.828      0.292      0.357        0.2\n"
     ]
    },
    {
     "name": "stderr",
     "output_type": "stream",
     "text": [
      "\n"
     ]
    },
    {
     "name": "stdout",
     "output_type": "stream",
     "text": [
      "\n",
      "      Epoch    GPU_mem   box_loss   cls_loss   dfl_loss  Instances       Size\n"
     ]
    },
    {
     "name": "stderr",
     "output_type": "stream",
     "text": [
      "       3/50         0G      1.336      1.324      1.076         29        640: 100%|██████████| 11/11 [03:30<00:00, 19.\n",
      "                 Class     Images  Instances      Box(P          R      mAP50  mAP50-95): 100%|██████████| 2/2 [00:09<0"
     ]
    },
    {
     "name": "stdout",
     "output_type": "stream",
     "text": [
      "                   all         46        243      0.459      0.483      0.419      0.235\n"
     ]
    },
    {
     "name": "stderr",
     "output_type": "stream",
     "text": [
      "\n"
     ]
    },
    {
     "name": "stdout",
     "output_type": "stream",
     "text": [
      "\n",
      "      Epoch    GPU_mem   box_loss   cls_loss   dfl_loss  Instances       Size\n"
     ]
    },
    {
     "name": "stderr",
     "output_type": "stream",
     "text": [
      "       4/50         0G      1.344      1.167      1.078         23        640: 100%|██████████| 11/11 [03:34<00:00, 19.\n",
      "                 Class     Images  Instances      Box(P          R      mAP50  mAP50-95): 100%|██████████| 2/2 [00:08<0"
     ]
    },
    {
     "name": "stdout",
     "output_type": "stream",
     "text": [
      "                   all         46        243      0.629      0.416      0.462      0.242\n"
     ]
    },
    {
     "name": "stderr",
     "output_type": "stream",
     "text": [
      "\n"
     ]
    },
    {
     "name": "stdout",
     "output_type": "stream",
     "text": [
      "\n",
      "      Epoch    GPU_mem   box_loss   cls_loss   dfl_loss  Instances       Size\n"
     ]
    },
    {
     "name": "stderr",
     "output_type": "stream",
     "text": [
      "       5/50         0G      1.384      1.204      1.063         47        640: 100%|██████████| 11/11 [03:14<00:00, 17.\n",
      "                 Class     Images  Instances      Box(P          R      mAP50  mAP50-95): 100%|██████████| 2/2 [00:08<0"
     ]
    },
    {
     "name": "stdout",
     "output_type": "stream",
     "text": [
      "                   all         46        243      0.559      0.408      0.437      0.265\n"
     ]
    },
    {
     "name": "stderr",
     "output_type": "stream",
     "text": [
      "\n"
     ]
    },
    {
     "name": "stdout",
     "output_type": "stream",
     "text": [
      "\n",
      "      Epoch    GPU_mem   box_loss   cls_loss   dfl_loss  Instances       Size\n"
     ]
    },
    {
     "name": "stderr",
     "output_type": "stream",
     "text": [
      "       6/50         0G      1.334      1.117      1.069         31        640: 100%|██████████| 11/11 [03:24<00:00, 18.\n",
      "                 Class     Images  Instances      Box(P          R      mAP50  mAP50-95): 100%|██████████| 2/2 [00:07<0"
     ]
    },
    {
     "name": "stdout",
     "output_type": "stream",
     "text": [
      "                   all         46        243      0.477      0.446      0.408      0.225\n"
     ]
    },
    {
     "name": "stderr",
     "output_type": "stream",
     "text": [
      "\n"
     ]
    },
    {
     "name": "stdout",
     "output_type": "stream",
     "text": [
      "\n",
      "      Epoch    GPU_mem   box_loss   cls_loss   dfl_loss  Instances       Size\n"
     ]
    },
    {
     "name": "stderr",
     "output_type": "stream",
     "text": [
      "       7/50         0G      1.268      1.065      1.047         26        640: 100%|██████████| 11/11 [03:22<00:00, 18.\n",
      "                 Class     Images  Instances      Box(P          R      mAP50  mAP50-95): 100%|██████████| 2/2 [00:08<0"
     ]
    },
    {
     "name": "stdout",
     "output_type": "stream",
     "text": [
      "                   all         46        243      0.333      0.364      0.363      0.198\n"
     ]
    },
    {
     "name": "stderr",
     "output_type": "stream",
     "text": [
      "\n"
     ]
    },
    {
     "name": "stdout",
     "output_type": "stream",
     "text": [
      "\n",
      "      Epoch    GPU_mem   box_loss   cls_loss   dfl_loss  Instances       Size\n"
     ]
    },
    {
     "name": "stderr",
     "output_type": "stream",
     "text": [
      "       8/50         0G      1.308      1.027      1.081         33        640: 100%|██████████| 11/11 [03:28<00:00, 18.\n",
      "                 Class     Images  Instances      Box(P          R      mAP50  mAP50-95): 100%|██████████| 2/2 [00:07<0"
     ]
    },
    {
     "name": "stdout",
     "output_type": "stream",
     "text": [
      "                   all         46        243        0.4      0.578      0.442       0.22\n"
     ]
    },
    {
     "name": "stderr",
     "output_type": "stream",
     "text": [
      "\n"
     ]
    },
    {
     "name": "stdout",
     "output_type": "stream",
     "text": [
      "\n",
      "      Epoch    GPU_mem   box_loss   cls_loss   dfl_loss  Instances       Size\n"
     ]
    },
    {
     "name": "stderr",
     "output_type": "stream",
     "text": [
      "       9/50         0G       1.27      1.024      1.081         24        640: 100%|██████████| 11/11 [03:18<00:00, 18.\n",
      "                 Class     Images  Instances      Box(P          R      mAP50  mAP50-95): 100%|██████████| 2/2 [00:07<0"
     ]
    },
    {
     "name": "stdout",
     "output_type": "stream",
     "text": [
      "                   all         46        243      0.623      0.377      0.447      0.221\n"
     ]
    },
    {
     "name": "stderr",
     "output_type": "stream",
     "text": [
      "\n"
     ]
    },
    {
     "name": "stdout",
     "output_type": "stream",
     "text": [
      "\n",
      "      Epoch    GPU_mem   box_loss   cls_loss   dfl_loss  Instances       Size\n"
     ]
    },
    {
     "name": "stderr",
     "output_type": "stream",
     "text": [
      "      10/50         0G      1.234     0.9926      1.029         22        640: 100%|██████████| 11/11 [03:13<00:00, 17.\n",
      "                 Class     Images  Instances      Box(P          R      mAP50  mAP50-95): 100%|██████████| 2/2 [00:07<0"
     ]
    },
    {
     "name": "stdout",
     "output_type": "stream",
     "text": [
      "                   all         46        243      0.592      0.425      0.465      0.266\n"
     ]
    },
    {
     "name": "stderr",
     "output_type": "stream",
     "text": [
      "\n"
     ]
    },
    {
     "name": "stdout",
     "output_type": "stream",
     "text": [
      "\n",
      "      Epoch    GPU_mem   box_loss   cls_loss   dfl_loss  Instances       Size\n"
     ]
    },
    {
     "name": "stderr",
     "output_type": "stream",
     "text": [
      "      11/50         0G      1.331      1.043      1.084          9        640: 100%|██████████| 11/11 [03:20<00:00, 18.\n",
      "                 Class     Images  Instances      Box(P          R      mAP50  mAP50-95): 100%|██████████| 2/2 [00:07<0"
     ]
    },
    {
     "name": "stdout",
     "output_type": "stream",
     "text": [
      "                   all         46        243      0.584      0.439      0.452      0.267\n"
     ]
    },
    {
     "name": "stderr",
     "output_type": "stream",
     "text": [
      "\n"
     ]
    },
    {
     "name": "stdout",
     "output_type": "stream",
     "text": [
      "\n",
      "      Epoch    GPU_mem   box_loss   cls_loss   dfl_loss  Instances       Size\n"
     ]
    },
    {
     "name": "stderr",
     "output_type": "stream",
     "text": [
      "      12/50         0G      1.253      0.933       1.03         23        640: 100%|██████████| 11/11 [03:20<00:00, 18.\n",
      "                 Class     Images  Instances      Box(P          R      mAP50  mAP50-95): 100%|██████████| 2/2 [00:08<0"
     ]
    },
    {
     "name": "stdout",
     "output_type": "stream",
     "text": [
      "                   all         46        243      0.716      0.443      0.522      0.297\n"
     ]
    },
    {
     "name": "stderr",
     "output_type": "stream",
     "text": [
      "\n"
     ]
    },
    {
     "name": "stdout",
     "output_type": "stream",
     "text": [
      "\n",
      "      Epoch    GPU_mem   box_loss   cls_loss   dfl_loss  Instances       Size\n"
     ]
    },
    {
     "name": "stderr",
     "output_type": "stream",
     "text": [
      "      13/50         0G      1.246     0.9667      1.033         12        640: 100%|██████████| 11/11 [03:27<00:00, 18.\n",
      "                 Class     Images  Instances      Box(P          R      mAP50  mAP50-95): 100%|██████████| 2/2 [00:08<0"
     ]
    },
    {
     "name": "stdout",
     "output_type": "stream",
     "text": [
      "                   all         46        243      0.769      0.576      0.588      0.314\n"
     ]
    },
    {
     "name": "stderr",
     "output_type": "stream",
     "text": [
      "\n"
     ]
    },
    {
     "name": "stdout",
     "output_type": "stream",
     "text": [
      "\n",
      "      Epoch    GPU_mem   box_loss   cls_loss   dfl_loss  Instances       Size\n"
     ]
    },
    {
     "name": "stderr",
     "output_type": "stream",
     "text": [
      "      14/50         0G      1.242     0.9125      1.036         38        640: 100%|██████████| 11/11 [03:14<00:00, 17.\n",
      "                 Class     Images  Instances      Box(P          R      mAP50  mAP50-95): 100%|██████████| 2/2 [00:07<0"
     ]
    },
    {
     "name": "stdout",
     "output_type": "stream",
     "text": [
      "                   all         46        243      0.588      0.453       0.51      0.282\n"
     ]
    },
    {
     "name": "stderr",
     "output_type": "stream",
     "text": [
      "\n"
     ]
    },
    {
     "name": "stdout",
     "output_type": "stream",
     "text": [
      "\n",
      "      Epoch    GPU_mem   box_loss   cls_loss   dfl_loss  Instances       Size\n"
     ]
    },
    {
     "name": "stderr",
     "output_type": "stream",
     "text": [
      "      15/50         0G      1.118     0.8258      1.027         18        640: 100%|██████████| 11/11 [03:22<00:00, 18.\n",
      "                 Class     Images  Instances      Box(P          R      mAP50  mAP50-95): 100%|██████████| 2/2 [00:08<0"
     ]
    },
    {
     "name": "stdout",
     "output_type": "stream",
     "text": [
      "                   all         46        243      0.682       0.42      0.496      0.288\n"
     ]
    },
    {
     "name": "stderr",
     "output_type": "stream",
     "text": [
      "\n"
     ]
    },
    {
     "name": "stdout",
     "output_type": "stream",
     "text": [
      "\n",
      "      Epoch    GPU_mem   box_loss   cls_loss   dfl_loss  Instances       Size\n"
     ]
    },
    {
     "name": "stderr",
     "output_type": "stream",
     "text": [
      "      16/50         0G      1.245     0.8741      1.055         39        640: 100%|██████████| 11/11 [03:26<00:00, 18.\n",
      "                 Class     Images  Instances      Box(P          R      mAP50  mAP50-95): 100%|██████████| 2/2 [00:07<0"
     ]
    },
    {
     "name": "stdout",
     "output_type": "stream",
     "text": [
      "                   all         46        243      0.657      0.471      0.503      0.317\n"
     ]
    },
    {
     "name": "stderr",
     "output_type": "stream",
     "text": [
      "\n"
     ]
    },
    {
     "name": "stdout",
     "output_type": "stream",
     "text": [
      "\n",
      "      Epoch    GPU_mem   box_loss   cls_loss   dfl_loss  Instances       Size\n"
     ]
    },
    {
     "name": "stderr",
     "output_type": "stream",
     "text": [
      "      17/50         0G      1.197     0.8402      1.012         54        640: 100%|██████████| 11/11 [03:14<00:00, 17.\n",
      "                 Class     Images  Instances      Box(P          R      mAP50  mAP50-95): 100%|██████████| 2/2 [00:07<0"
     ]
    },
    {
     "name": "stdout",
     "output_type": "stream",
     "text": [
      "                   all         46        243      0.547      0.389      0.461      0.296\n"
     ]
    },
    {
     "name": "stderr",
     "output_type": "stream",
     "text": [
      "\n"
     ]
    },
    {
     "name": "stdout",
     "output_type": "stream",
     "text": [
      "\n",
      "      Epoch    GPU_mem   box_loss   cls_loss   dfl_loss  Instances       Size\n"
     ]
    },
    {
     "name": "stderr",
     "output_type": "stream",
     "text": [
      "      18/50         0G      1.163      0.817      1.011         25        640: 100%|██████████| 11/11 [03:22<00:00, 18.\n",
      "                 Class     Images  Instances      Box(P          R      mAP50  mAP50-95): 100%|██████████| 2/2 [00:07<0"
     ]
    },
    {
     "name": "stdout",
     "output_type": "stream",
     "text": [
      "                   all         46        243      0.759      0.413      0.516      0.311\n"
     ]
    },
    {
     "name": "stderr",
     "output_type": "stream",
     "text": [
      "\n"
     ]
    },
    {
     "name": "stdout",
     "output_type": "stream",
     "text": [
      "\n",
      "      Epoch    GPU_mem   box_loss   cls_loss   dfl_loss  Instances       Size\n"
     ]
    },
    {
     "name": "stderr",
     "output_type": "stream",
     "text": [
      "      19/50         0G      1.138     0.8017     0.9896         21        640: 100%|██████████| 11/11 [03:19<00:00, 18.\n",
      "                 Class     Images  Instances      Box(P          R      mAP50  mAP50-95): 100%|██████████| 2/2 [00:07<0"
     ]
    },
    {
     "name": "stdout",
     "output_type": "stream",
     "text": [
      "                   all         46        243      0.819      0.457      0.605      0.359\n"
     ]
    },
    {
     "name": "stderr",
     "output_type": "stream",
     "text": [
      "\n"
     ]
    },
    {
     "name": "stdout",
     "output_type": "stream",
     "text": [
      "\n",
      "      Epoch    GPU_mem   box_loss   cls_loss   dfl_loss  Instances       Size\n"
     ]
    },
    {
     "name": "stderr",
     "output_type": "stream",
     "text": [
      "      20/50         0G      1.113     0.7963      1.008         19        640: 100%|██████████| 11/11 [03:16<00:00, 17.\n",
      "                 Class     Images  Instances      Box(P          R      mAP50  mAP50-95): 100%|██████████| 2/2 [00:07<0"
     ]
    },
    {
     "name": "stdout",
     "output_type": "stream",
     "text": [
      "                   all         46        243       0.71      0.434      0.509      0.328\n"
     ]
    },
    {
     "name": "stderr",
     "output_type": "stream",
     "text": [
      "\n"
     ]
    },
    {
     "name": "stdout",
     "output_type": "stream",
     "text": [
      "\n",
      "      Epoch    GPU_mem   box_loss   cls_loss   dfl_loss  Instances       Size\n"
     ]
    },
    {
     "name": "stderr",
     "output_type": "stream",
     "text": [
      "      21/50         0G      1.081     0.7733      1.009         14        640: 100%|██████████| 11/11 [03:24<00:00, 18.\n",
      "                 Class     Images  Instances      Box(P          R      mAP50  mAP50-95): 100%|██████████| 2/2 [00:08<0"
     ]
    },
    {
     "name": "stdout",
     "output_type": "stream",
     "text": [
      "                   all         46        243      0.751      0.398      0.501      0.295\n"
     ]
    },
    {
     "name": "stderr",
     "output_type": "stream",
     "text": [
      "\n"
     ]
    },
    {
     "name": "stdout",
     "output_type": "stream",
     "text": [
      "\n",
      "      Epoch    GPU_mem   box_loss   cls_loss   dfl_loss  Instances       Size\n"
     ]
    },
    {
     "name": "stderr",
     "output_type": "stream",
     "text": [
      "      22/50         0G      1.125     0.8239      0.982          6        640: 100%|██████████| 11/11 [03:18<00:00, 18.\n",
      "                 Class     Images  Instances      Box(P          R      mAP50  mAP50-95): 100%|██████████| 2/2 [00:07<0"
     ]
    },
    {
     "name": "stdout",
     "output_type": "stream",
     "text": [
      "                   all         46        243      0.672      0.385      0.487      0.294\n"
     ]
    },
    {
     "name": "stderr",
     "output_type": "stream",
     "text": [
      "\n"
     ]
    },
    {
     "name": "stdout",
     "output_type": "stream",
     "text": [
      "\n",
      "      Epoch    GPU_mem   box_loss   cls_loss   dfl_loss  Instances       Size\n"
     ]
    },
    {
     "name": "stderr",
     "output_type": "stream",
     "text": [
      "      23/50         0G      1.018     0.7181     0.9659         26        640: 100%|██████████| 11/11 [03:17<00:00, 17.\n",
      "                 Class     Images  Instances      Box(P          R      mAP50  mAP50-95): 100%|██████████| 2/2 [00:07<0"
     ]
    },
    {
     "name": "stdout",
     "output_type": "stream",
     "text": [
      "                   all         46        243      0.693       0.35      0.494      0.315\n"
     ]
    },
    {
     "name": "stderr",
     "output_type": "stream",
     "text": [
      "\n"
     ]
    },
    {
     "name": "stdout",
     "output_type": "stream",
     "text": [
      "\n",
      "      Epoch    GPU_mem   box_loss   cls_loss   dfl_loss  Instances       Size\n"
     ]
    },
    {
     "name": "stderr",
     "output_type": "stream",
     "text": [
      "      24/50         0G      1.135     0.7872      1.001         36        640: 100%|██████████| 11/11 [03:16<00:00, 17.\n",
      "                 Class     Images  Instances      Box(P          R      mAP50  mAP50-95): 100%|██████████| 2/2 [00:07<0"
     ]
    },
    {
     "name": "stdout",
     "output_type": "stream",
     "text": [
      "                   all         46        243      0.601      0.384      0.448      0.277\n"
     ]
    },
    {
     "name": "stderr",
     "output_type": "stream",
     "text": [
      "\n"
     ]
    },
    {
     "name": "stdout",
     "output_type": "stream",
     "text": [
      "\n",
      "      Epoch    GPU_mem   box_loss   cls_loss   dfl_loss  Instances       Size\n"
     ]
    },
    {
     "name": "stderr",
     "output_type": "stream",
     "text": [
      "      25/50         0G      1.087     0.7463       0.99         15        640: 100%|██████████| 11/11 [03:16<00:00, 17.\n",
      "                 Class     Images  Instances      Box(P          R      mAP50  mAP50-95): 100%|██████████| 2/2 [00:07<0"
     ]
    },
    {
     "name": "stdout",
     "output_type": "stream",
     "text": [
      "                   all         46        243      0.548       0.43      0.472      0.287\n"
     ]
    },
    {
     "name": "stderr",
     "output_type": "stream",
     "text": [
      "\n"
     ]
    },
    {
     "name": "stdout",
     "output_type": "stream",
     "text": [
      "\n",
      "      Epoch    GPU_mem   box_loss   cls_loss   dfl_loss  Instances       Size\n"
     ]
    },
    {
     "name": "stderr",
     "output_type": "stream",
     "text": [
      "      26/50         0G      1.062     0.7227     0.9719         30        640: 100%|██████████| 11/11 [03:17<00:00, 17.\n",
      "                 Class     Images  Instances      Box(P          R      mAP50  mAP50-95): 100%|██████████| 2/2 [00:07<0"
     ]
    },
    {
     "name": "stdout",
     "output_type": "stream",
     "text": [
      "                   all         46        243      0.589      0.486      0.529      0.324\n"
     ]
    },
    {
     "name": "stderr",
     "output_type": "stream",
     "text": [
      "\n"
     ]
    },
    {
     "name": "stdout",
     "output_type": "stream",
     "text": [
      "\n",
      "      Epoch    GPU_mem   box_loss   cls_loss   dfl_loss  Instances       Size\n"
     ]
    },
    {
     "name": "stderr",
     "output_type": "stream",
     "text": [
      "      27/50         0G      1.039     0.7161     0.9626         44        640: 100%|██████████| 11/11 [03:10<00:00, 17.\n",
      "                 Class     Images  Instances      Box(P          R      mAP50  mAP50-95): 100%|██████████| 2/2 [00:07<0"
     ]
    },
    {
     "name": "stdout",
     "output_type": "stream",
     "text": [
      "                   all         46        243      0.692      0.466      0.503      0.331\n"
     ]
    },
    {
     "name": "stderr",
     "output_type": "stream",
     "text": [
      "\n"
     ]
    },
    {
     "name": "stdout",
     "output_type": "stream",
     "text": [
      "\n",
      "      Epoch    GPU_mem   box_loss   cls_loss   dfl_loss  Instances       Size\n"
     ]
    },
    {
     "name": "stderr",
     "output_type": "stream",
     "text": [
      "      28/50         0G      1.023     0.7023     0.9777         22        640: 100%|██████████| 11/11 [03:10<00:00, 17.\n",
      "                 Class     Images  Instances      Box(P          R      mAP50  mAP50-95): 100%|██████████| 2/2 [00:07<0"
     ]
    },
    {
     "name": "stdout",
     "output_type": "stream",
     "text": [
      "                   all         46        243      0.662      0.417       0.49      0.311\n"
     ]
    },
    {
     "name": "stderr",
     "output_type": "stream",
     "text": [
      "\n"
     ]
    },
    {
     "name": "stdout",
     "output_type": "stream",
     "text": [
      "\n",
      "      Epoch    GPU_mem   box_loss   cls_loss   dfl_loss  Instances       Size\n"
     ]
    },
    {
     "name": "stderr",
     "output_type": "stream",
     "text": [
      "      29/50         0G      1.016     0.6766     0.9692         16        640: 100%|██████████| 11/11 [02:58<00:00, 16.\n",
      "                 Class     Images  Instances      Box(P          R      mAP50  mAP50-95): 100%|██████████| 2/2 [00:07<0"
     ]
    },
    {
     "name": "stdout",
     "output_type": "stream",
     "text": [
      "                   all         46        243      0.552      0.463      0.487      0.312\n"
     ]
    },
    {
     "name": "stderr",
     "output_type": "stream",
     "text": [
      "\n"
     ]
    },
    {
     "name": "stdout",
     "output_type": "stream",
     "text": [
      "\n",
      "      Epoch    GPU_mem   box_loss   cls_loss   dfl_loss  Instances       Size\n"
     ]
    },
    {
     "name": "stderr",
     "output_type": "stream",
     "text": [
      "      30/50         0G       1.03     0.6968     0.9729         39        640: 100%|██████████| 11/11 [02:25<00:00, 13.\n",
      "                 Class     Images  Instances      Box(P          R      mAP50  mAP50-95): 100%|██████████| 2/2 [00:04<0"
     ]
    },
    {
     "name": "stdout",
     "output_type": "stream",
     "text": [
      "                   all         46        243      0.563      0.476      0.515      0.324\n"
     ]
    },
    {
     "name": "stderr",
     "output_type": "stream",
     "text": [
      "\n"
     ]
    },
    {
     "name": "stdout",
     "output_type": "stream",
     "text": [
      "\n",
      "      Epoch    GPU_mem   box_loss   cls_loss   dfl_loss  Instances       Size\n"
     ]
    },
    {
     "name": "stderr",
     "output_type": "stream",
     "text": [
      "      31/50         0G     0.9968     0.6887     0.9596         21        640: 100%|██████████| 11/11 [02:46<00:00, 15.\n",
      "                 Class     Images  Instances      Box(P          R      mAP50  mAP50-95): 100%|██████████| 2/2 [00:07<0"
     ]
    },
    {
     "name": "stdout",
     "output_type": "stream",
     "text": [
      "                   all         46        243       0.59      0.456      0.484      0.301\n"
     ]
    },
    {
     "name": "stderr",
     "output_type": "stream",
     "text": [
      "\n"
     ]
    },
    {
     "name": "stdout",
     "output_type": "stream",
     "text": [
      "\n",
      "      Epoch    GPU_mem   box_loss   cls_loss   dfl_loss  Instances       Size\n"
     ]
    },
    {
     "name": "stderr",
     "output_type": "stream",
     "text": [
      "      32/50         0G     0.9779     0.6456     0.9388         19        640: 100%|██████████| 11/11 [03:30<00:00, 19.\n",
      "                 Class     Images  Instances      Box(P          R      mAP50  mAP50-95): 100%|██████████| 2/2 [00:08<0"
     ]
    },
    {
     "name": "stdout",
     "output_type": "stream",
     "text": [
      "                   all         46        243      0.581      0.437      0.461      0.313\n"
     ]
    },
    {
     "name": "stderr",
     "output_type": "stream",
     "text": [
      "\n"
     ]
    },
    {
     "name": "stdout",
     "output_type": "stream",
     "text": [
      "\n",
      "      Epoch    GPU_mem   box_loss   cls_loss   dfl_loss  Instances       Size\n"
     ]
    },
    {
     "name": "stderr",
     "output_type": "stream",
     "text": [
      "      33/50         0G     0.9812     0.6582     0.9421         23        640: 100%|██████████| 11/11 [03:50<00:00, 20.\n",
      "                 Class     Images  Instances      Box(P          R      mAP50  mAP50-95): 100%|██████████| 2/2 [00:07<0"
     ]
    },
    {
     "name": "stdout",
     "output_type": "stream",
     "text": [
      "                   all         46        243      0.609      0.477      0.511      0.324\n"
     ]
    },
    {
     "name": "stderr",
     "output_type": "stream",
     "text": [
      "\n"
     ]
    },
    {
     "name": "stdout",
     "output_type": "stream",
     "text": [
      "\n",
      "      Epoch    GPU_mem   box_loss   cls_loss   dfl_loss  Instances       Size\n"
     ]
    },
    {
     "name": "stderr",
     "output_type": "stream",
     "text": [
      "      34/50         0G     0.9264     0.6467     0.9321         33        640: 100%|██████████| 11/11 [03:23<00:00, 18.\n",
      "                 Class     Images  Instances      Box(P          R      mAP50  mAP50-95): 100%|██████████| 2/2 [00:07<0"
     ]
    },
    {
     "name": "stdout",
     "output_type": "stream",
     "text": [
      "                   all         46        243      0.675      0.444      0.533      0.328\n"
     ]
    },
    {
     "name": "stderr",
     "output_type": "stream",
     "text": [
      "\n"
     ]
    },
    {
     "name": "stdout",
     "output_type": "stream",
     "text": [
      "\n",
      "      Epoch    GPU_mem   box_loss   cls_loss   dfl_loss  Instances       Size\n"
     ]
    },
    {
     "name": "stderr",
     "output_type": "stream",
     "text": [
      "      35/50         0G     0.9716     0.6367     0.9408         41        640: 100%|██████████| 11/11 [03:33<00:00, 19.\n",
      "                 Class     Images  Instances      Box(P          R      mAP50  mAP50-95): 100%|██████████| 2/2 [00:08<0"
     ]
    },
    {
     "name": "stdout",
     "output_type": "stream",
     "text": [
      "                   all         46        243      0.736      0.458      0.541      0.331\n"
     ]
    },
    {
     "name": "stderr",
     "output_type": "stream",
     "text": [
      "\n"
     ]
    },
    {
     "name": "stdout",
     "output_type": "stream",
     "text": [
      "\n",
      "      Epoch    GPU_mem   box_loss   cls_loss   dfl_loss  Instances       Size\n"
     ]
    },
    {
     "name": "stderr",
     "output_type": "stream",
     "text": [
      "      36/50         0G     0.9923     0.6375     0.9506         31        640: 100%|██████████| 11/11 [03:32<00:00, 19.\n",
      "                 Class     Images  Instances      Box(P          R      mAP50  mAP50-95): 100%|██████████| 2/2 [00:06<0"
     ]
    },
    {
     "name": "stdout",
     "output_type": "stream",
     "text": [
      "                   all         46        243      0.791      0.456      0.545       0.35\n"
     ]
    },
    {
     "name": "stderr",
     "output_type": "stream",
     "text": [
      "\n"
     ]
    },
    {
     "name": "stdout",
     "output_type": "stream",
     "text": [
      "\n",
      "      Epoch    GPU_mem   box_loss   cls_loss   dfl_loss  Instances       Size\n"
     ]
    },
    {
     "name": "stderr",
     "output_type": "stream",
     "text": [
      "      37/50         0G     0.9176     0.6048      0.945         32        640: 100%|██████████| 11/11 [03:19<00:00, 18.\n",
      "                 Class     Images  Instances      Box(P          R      mAP50  mAP50-95): 100%|██████████| 2/2 [00:07<0"
     ]
    },
    {
     "name": "stdout",
     "output_type": "stream",
     "text": [
      "                   all         46        243      0.787      0.455      0.546      0.365\n"
     ]
    },
    {
     "name": "stderr",
     "output_type": "stream",
     "text": [
      "\n"
     ]
    },
    {
     "name": "stdout",
     "output_type": "stream",
     "text": [
      "\n",
      "      Epoch    GPU_mem   box_loss   cls_loss   dfl_loss  Instances       Size\n"
     ]
    },
    {
     "name": "stderr",
     "output_type": "stream",
     "text": [
      "      38/50         0G     0.9373     0.6189     0.9414         10        640: 100%|██████████| 11/11 [03:12<00:00, 17.\n",
      "                 Class     Images  Instances      Box(P          R      mAP50  mAP50-95): 100%|██████████| 2/2 [00:07<0"
     ]
    },
    {
     "name": "stdout",
     "output_type": "stream",
     "text": [
      "                   all         46        243       0.63       0.47      0.536      0.361\n"
     ]
    },
    {
     "name": "stderr",
     "output_type": "stream",
     "text": [
      "\n"
     ]
    },
    {
     "name": "stdout",
     "output_type": "stream",
     "text": [
      "\n",
      "      Epoch    GPU_mem   box_loss   cls_loss   dfl_loss  Instances       Size\n"
     ]
    },
    {
     "name": "stderr",
     "output_type": "stream",
     "text": [
      "      39/50         0G     0.9157     0.6031     0.9323         30        640: 100%|██████████| 11/11 [2:30:05<00:00, 8\n",
      "                 Class     Images  Instances      Box(P          R      mAP50  mAP50-95): 100%|██████████| 2/2 [00:06<0"
     ]
    },
    {
     "name": "stdout",
     "output_type": "stream",
     "text": [
      "                   all         46        243      0.591      0.504      0.553      0.371\n"
     ]
    },
    {
     "name": "stderr",
     "output_type": "stream",
     "text": [
      "\n"
     ]
    },
    {
     "name": "stdout",
     "output_type": "stream",
     "text": [
      "\n",
      "      Epoch    GPU_mem   box_loss   cls_loss   dfl_loss  Instances       Size\n"
     ]
    },
    {
     "name": "stderr",
     "output_type": "stream",
     "text": [
      "      40/50         0G     0.9309     0.6087     0.9427         29        640: 100%|██████████| 11/11 [03:03<00:00, 16.\n",
      "                 Class     Images  Instances      Box(P          R      mAP50  mAP50-95): 100%|██████████| 2/2 [00:07<0"
     ]
    },
    {
     "name": "stdout",
     "output_type": "stream",
     "text": [
      "                   all         46        243      0.676      0.499       0.57      0.375\n"
     ]
    },
    {
     "name": "stderr",
     "output_type": "stream",
     "text": [
      "\n"
     ]
    },
    {
     "name": "stdout",
     "output_type": "stream",
     "text": [
      "Closing dataloader mosaic\n",
      "\u001b[34m\u001b[1malbumentations: \u001b[0mBlur(p=0.01, blur_limit=(3, 7)), MedianBlur(p=0.01, blur_limit=(3, 7)), ToGray(p=0.01, num_output_channels=3, method='weighted_average'), CLAHE(p=0.01, clip_limit=(1.0, 4.0), tile_grid_size=(8, 8))\n",
      "\n",
      "      Epoch    GPU_mem   box_loss   cls_loss   dfl_loss  Instances       Size\n"
     ]
    },
    {
     "name": "stderr",
     "output_type": "stream",
     "text": [
      "      41/50         0G     0.9396     0.7103     0.9392         18        640: 100%|██████████| 11/11 [17:46:28<00:00, \n",
      "                 Class     Images  Instances      Box(P          R      mAP50  mAP50-95): 100%|██████████| 2/2 [00:06<0"
     ]
    },
    {
     "name": "stdout",
     "output_type": "stream",
     "text": [
      "                   all         46        243      0.575      0.468      0.531      0.367\n"
     ]
    },
    {
     "name": "stderr",
     "output_type": "stream",
     "text": [
      "\n"
     ]
    },
    {
     "name": "stdout",
     "output_type": "stream",
     "text": [
      "\n",
      "      Epoch    GPU_mem   box_loss   cls_loss   dfl_loss  Instances       Size\n"
     ]
    },
    {
     "name": "stderr",
     "output_type": "stream",
     "text": [
      "      42/50         0G     0.9439      0.664     0.9018         29        640: 100%|██████████| 11/11 [03:19<00:00, 18.\n",
      "                 Class     Images  Instances      Box(P          R      mAP50  mAP50-95): 100%|██████████| 2/2 [00:06<0"
     ]
    },
    {
     "name": "stdout",
     "output_type": "stream",
     "text": [
      "                   all         46        243      0.609      0.413      0.519      0.355\n"
     ]
    },
    {
     "name": "stderr",
     "output_type": "stream",
     "text": [
      "\n"
     ]
    },
    {
     "name": "stdout",
     "output_type": "stream",
     "text": [
      "\n",
      "      Epoch    GPU_mem   box_loss   cls_loss   dfl_loss  Instances       Size\n"
     ]
    },
    {
     "name": "stderr",
     "output_type": "stream",
     "text": [
      "      43/50         0G     0.8773      0.627     0.9152          5        640: 100%|██████████| 11/11 [03:15<00:00, 17.\n",
      "                 Class     Images  Instances      Box(P          R      mAP50  mAP50-95): 100%|██████████| 2/2 [00:07<0"
     ]
    },
    {
     "name": "stdout",
     "output_type": "stream",
     "text": [
      "                   all         46        243      0.663      0.502      0.562      0.362\n"
     ]
    },
    {
     "name": "stderr",
     "output_type": "stream",
     "text": [
      "\n"
     ]
    },
    {
     "name": "stdout",
     "output_type": "stream",
     "text": [
      "\n",
      "      Epoch    GPU_mem   box_loss   cls_loss   dfl_loss  Instances       Size\n"
     ]
    },
    {
     "name": "stderr",
     "output_type": "stream",
     "text": [
      "      44/50         0G     0.8429     0.5796     0.8971          6        640: 100%|██████████| 11/11 [03:12<00:00, 17.\n",
      "                 Class     Images  Instances      Box(P          R      mAP50  mAP50-95): 100%|██████████| 2/2 [00:05<0"
     ]
    },
    {
     "name": "stdout",
     "output_type": "stream",
     "text": [
      "                   all         46        243      0.708      0.487      0.568       0.36\n"
     ]
    },
    {
     "name": "stderr",
     "output_type": "stream",
     "text": [
      "\n"
     ]
    },
    {
     "name": "stdout",
     "output_type": "stream",
     "text": [
      "\n",
      "      Epoch    GPU_mem   box_loss   cls_loss   dfl_loss  Instances       Size\n"
     ]
    },
    {
     "name": "stderr",
     "output_type": "stream",
     "text": [
      "      45/50         0G     0.8985     0.5959     0.9364         12        640: 100%|██████████| 11/11 [03:20<00:00, 18.\n",
      "                 Class     Images  Instances      Box(P          R      mAP50  mAP50-95): 100%|██████████| 2/2 [00:07<0"
     ]
    },
    {
     "name": "stdout",
     "output_type": "stream",
     "text": [
      "                   all         46        243       0.72      0.466       0.57      0.362\n"
     ]
    },
    {
     "name": "stderr",
     "output_type": "stream",
     "text": [
      "\n"
     ]
    },
    {
     "name": "stdout",
     "output_type": "stream",
     "text": [
      "\n",
      "      Epoch    GPU_mem   box_loss   cls_loss   dfl_loss  Instances       Size\n"
     ]
    },
    {
     "name": "stderr",
     "output_type": "stream",
     "text": [
      "      46/50         0G      0.865     0.5809     0.9049         16        640: 100%|██████████| 11/11 [03:02<00:00, 16.\n",
      "                 Class     Images  Instances      Box(P          R      mAP50  mAP50-95): 100%|██████████| 2/2 [00:06<0"
     ]
    },
    {
     "name": "stdout",
     "output_type": "stream",
     "text": [
      "                   all         46        243      0.601      0.509      0.551      0.363\n"
     ]
    },
    {
     "name": "stderr",
     "output_type": "stream",
     "text": [
      "\n"
     ]
    },
    {
     "name": "stdout",
     "output_type": "stream",
     "text": [
      "\n",
      "      Epoch    GPU_mem   box_loss   cls_loss   dfl_loss  Instances       Size\n"
     ]
    },
    {
     "name": "stderr",
     "output_type": "stream",
     "text": [
      "      47/50         0G     0.8823     0.5801     0.9149         10        640: 100%|██████████| 11/11 [02:51<00:00, 15.\n",
      "                 Class     Images  Instances      Box(P          R      mAP50  mAP50-95): 100%|██████████| 2/2 [00:06<0"
     ]
    },
    {
     "name": "stdout",
     "output_type": "stream",
     "text": [
      "                   all         46        243      0.682      0.447      0.528      0.351\n"
     ]
    },
    {
     "name": "stderr",
     "output_type": "stream",
     "text": [
      "\n"
     ]
    },
    {
     "name": "stdout",
     "output_type": "stream",
     "text": [
      "\n",
      "      Epoch    GPU_mem   box_loss   cls_loss   dfl_loss  Instances       Size\n"
     ]
    },
    {
     "name": "stderr",
     "output_type": "stream",
     "text": [
      "      48/50         0G     0.8715     0.5682     0.9077         24        640: 100%|██████████| 11/11 [02:37<00:00, 14.\n",
      "                 Class     Images  Instances      Box(P          R      mAP50  mAP50-95): 100%|██████████| 2/2 [00:03<0"
     ]
    },
    {
     "name": "stdout",
     "output_type": "stream",
     "text": [
      "                   all         46        243       0.68      0.446      0.525      0.356\n"
     ]
    },
    {
     "name": "stderr",
     "output_type": "stream",
     "text": [
      "\n"
     ]
    },
    {
     "name": "stdout",
     "output_type": "stream",
     "text": [
      "\n",
      "      Epoch    GPU_mem   box_loss   cls_loss   dfl_loss  Instances       Size\n"
     ]
    },
    {
     "name": "stderr",
     "output_type": "stream",
     "text": [
      "      49/50         0G     0.8967       0.57     0.9088         26        640: 100%|██████████| 11/11 [01:47<00:00,  9.\n",
      "                 Class     Images  Instances      Box(P          R      mAP50  mAP50-95): 100%|██████████| 2/2 [00:06<0"
     ]
    },
    {
     "name": "stdout",
     "output_type": "stream",
     "text": [
      "                   all         46        243      0.679       0.44      0.527      0.353\n"
     ]
    },
    {
     "name": "stderr",
     "output_type": "stream",
     "text": [
      "\n"
     ]
    },
    {
     "name": "stdout",
     "output_type": "stream",
     "text": [
      "\n",
      "      Epoch    GPU_mem   box_loss   cls_loss   dfl_loss  Instances       Size\n"
     ]
    },
    {
     "name": "stderr",
     "output_type": "stream",
     "text": [
      "      50/50         0G     0.8313     0.5377     0.8986          9        640: 100%|██████████| 11/11 [02:55<00:00, 15.\n",
      "                 Class     Images  Instances      Box(P          R      mAP50  mAP50-95): 100%|██████████| 2/2 [00:07<0"
     ]
    },
    {
     "name": "stdout",
     "output_type": "stream",
     "text": [
      "                   all         46        243      0.592      0.483      0.532      0.356\n"
     ]
    },
    {
     "name": "stderr",
     "output_type": "stream",
     "text": [
      "\n"
     ]
    },
    {
     "name": "stdout",
     "output_type": "stream",
     "text": [
      "\n",
      "50 epochs completed in 23.123 hours.\n",
      "Optimizer stripped from runs\\detect\\train22\\weights\\last.pt, 18.5MB\n",
      "Optimizer stripped from runs\\detect\\train22\\weights\\best.pt, 18.5MB\n",
      "\n",
      "Validating runs\\detect\\train22\\weights\\best.pt...\n",
      "Ultralytics 8.3.73  Python-3.11.5 torch-2.2.2 CPU (12th Gen Intel Core(TM) i5-1240P)\n",
      "YOLOv5s summary (fused): 193 layers, 9,115,019 parameters, 0 gradients, 23.8 GFLOPs\n"
     ]
    },
    {
     "name": "stderr",
     "output_type": "stream",
     "text": [
      "                 Class     Images  Instances      Box(P          R      mAP50  mAP50-95): 100%|██████████| 2/2 [00:06<0\n"
     ]
    },
    {
     "name": "stdout",
     "output_type": "stream",
     "text": [
      "                   all         46        243      0.675      0.499      0.571      0.374\n",
      "                   Car         44        224      0.765      0.781      0.824       0.56\n",
      "                   Van          9         15      0.972      0.467      0.626      0.333\n",
      "                 Truck          4          4      0.288       0.25      0.262      0.229\n",
      "Speed: 1.0ms preprocess, 109.8ms inference, 0.0ms loss, 0.8ms postprocess per image\n",
      "Results saved to \u001b[1mruns\\detect\\train22\u001b[0m\n"
     ]
    },
    {
     "data": {
      "text/plain": [
       "ultralytics.utils.metrics.DetMetrics object with attributes:\n",
       "\n",
       "ap_class_index: array([0, 1, 2])\n",
       "box: ultralytics.utils.metrics.Metric object\n",
       "confusion_matrix: <ultralytics.utils.metrics.ConfusionMatrix object at 0x0000027463BF6190>\n",
       "curves: ['Precision-Recall(B)', 'F1-Confidence(B)', 'Precision-Confidence(B)', 'Recall-Confidence(B)']\n",
       "curves_results: [[array([          0,    0.001001,    0.002002,    0.003003,    0.004004,    0.005005,    0.006006,    0.007007,    0.008008,    0.009009,     0.01001,    0.011011,    0.012012,    0.013013,    0.014014,    0.015015,    0.016016,    0.017017,    0.018018,    0.019019,     0.02002,    0.021021,    0.022022,    0.023023,\n",
       "          0.024024,    0.025025,    0.026026,    0.027027,    0.028028,    0.029029,     0.03003,    0.031031,    0.032032,    0.033033,    0.034034,    0.035035,    0.036036,    0.037037,    0.038038,    0.039039,     0.04004,    0.041041,    0.042042,    0.043043,    0.044044,    0.045045,    0.046046,    0.047047,\n",
       "          0.048048,    0.049049,     0.05005,    0.051051,    0.052052,    0.053053,    0.054054,    0.055055,    0.056056,    0.057057,    0.058058,    0.059059,     0.06006,    0.061061,    0.062062,    0.063063,    0.064064,    0.065065,    0.066066,    0.067067,    0.068068,    0.069069,     0.07007,    0.071071,\n",
       "          0.072072,    0.073073,    0.074074,    0.075075,    0.076076,    0.077077,    0.078078,    0.079079,     0.08008,    0.081081,    0.082082,    0.083083,    0.084084,    0.085085,    0.086086,    0.087087,    0.088088,    0.089089,     0.09009,    0.091091,    0.092092,    0.093093,    0.094094,    0.095095,\n",
       "          0.096096,    0.097097,    0.098098,    0.099099,      0.1001,      0.1011,      0.1021,      0.1031,      0.1041,     0.10511,     0.10611,     0.10711,     0.10811,     0.10911,     0.11011,     0.11111,     0.11211,     0.11311,     0.11411,     0.11512,     0.11612,     0.11712,     0.11812,     0.11912,\n",
       "           0.12012,     0.12112,     0.12212,     0.12312,     0.12412,     0.12513,     0.12613,     0.12713,     0.12813,     0.12913,     0.13013,     0.13113,     0.13213,     0.13313,     0.13413,     0.13514,     0.13614,     0.13714,     0.13814,     0.13914,     0.14014,     0.14114,     0.14214,     0.14314,\n",
       "           0.14414,     0.14515,     0.14615,     0.14715,     0.14815,     0.14915,     0.15015,     0.15115,     0.15215,     0.15315,     0.15415,     0.15516,     0.15616,     0.15716,     0.15816,     0.15916,     0.16016,     0.16116,     0.16216,     0.16316,     0.16416,     0.16517,     0.16617,     0.16717,\n",
       "           0.16817,     0.16917,     0.17017,     0.17117,     0.17217,     0.17317,     0.17417,     0.17518,     0.17618,     0.17718,     0.17818,     0.17918,     0.18018,     0.18118,     0.18218,     0.18318,     0.18418,     0.18519,     0.18619,     0.18719,     0.18819,     0.18919,     0.19019,     0.19119,\n",
       "           0.19219,     0.19319,     0.19419,      0.1952,      0.1962,      0.1972,      0.1982,      0.1992,      0.2002,      0.2012,      0.2022,      0.2032,      0.2042,     0.20521,     0.20621,     0.20721,     0.20821,     0.20921,     0.21021,     0.21121,     0.21221,     0.21321,     0.21421,     0.21522,\n",
       "           0.21622,     0.21722,     0.21822,     0.21922,     0.22022,     0.22122,     0.22222,     0.22322,     0.22422,     0.22523,     0.22623,     0.22723,     0.22823,     0.22923,     0.23023,     0.23123,     0.23223,     0.23323,     0.23423,     0.23524,     0.23624,     0.23724,     0.23824,     0.23924,\n",
       "           0.24024,     0.24124,     0.24224,     0.24324,     0.24424,     0.24525,     0.24625,     0.24725,     0.24825,     0.24925,     0.25025,     0.25125,     0.25225,     0.25325,     0.25425,     0.25526,     0.25626,     0.25726,     0.25826,     0.25926,     0.26026,     0.26126,     0.26226,     0.26326,\n",
       "           0.26426,     0.26527,     0.26627,     0.26727,     0.26827,     0.26927,     0.27027,     0.27127,     0.27227,     0.27327,     0.27427,     0.27528,     0.27628,     0.27728,     0.27828,     0.27928,     0.28028,     0.28128,     0.28228,     0.28328,     0.28428,     0.28529,     0.28629,     0.28729,\n",
       "           0.28829,     0.28929,     0.29029,     0.29129,     0.29229,     0.29329,     0.29429,      0.2953,      0.2963,      0.2973,      0.2983,      0.2993,      0.3003,      0.3013,      0.3023,      0.3033,      0.3043,     0.30531,     0.30631,     0.30731,     0.30831,     0.30931,     0.31031,     0.31131,\n",
       "           0.31231,     0.31331,     0.31431,     0.31532,     0.31632,     0.31732,     0.31832,     0.31932,     0.32032,     0.32132,     0.32232,     0.32332,     0.32432,     0.32533,     0.32633,     0.32733,     0.32833,     0.32933,     0.33033,     0.33133,     0.33233,     0.33333,     0.33433,     0.33534,\n",
       "           0.33634,     0.33734,     0.33834,     0.33934,     0.34034,     0.34134,     0.34234,     0.34334,     0.34434,     0.34535,     0.34635,     0.34735,     0.34835,     0.34935,     0.35035,     0.35135,     0.35235,     0.35335,     0.35435,     0.35536,     0.35636,     0.35736,     0.35836,     0.35936,\n",
       "           0.36036,     0.36136,     0.36236,     0.36336,     0.36436,     0.36537,     0.36637,     0.36737,     0.36837,     0.36937,     0.37037,     0.37137,     0.37237,     0.37337,     0.37437,     0.37538,     0.37638,     0.37738,     0.37838,     0.37938,     0.38038,     0.38138,     0.38238,     0.38338,\n",
       "           0.38438,     0.38539,     0.38639,     0.38739,     0.38839,     0.38939,     0.39039,     0.39139,     0.39239,     0.39339,     0.39439,      0.3954,      0.3964,      0.3974,      0.3984,      0.3994,      0.4004,      0.4014,      0.4024,      0.4034,      0.4044,     0.40541,     0.40641,     0.40741,\n",
       "           0.40841,     0.40941,     0.41041,     0.41141,     0.41241,     0.41341,     0.41441,     0.41542,     0.41642,     0.41742,     0.41842,     0.41942,     0.42042,     0.42142,     0.42242,     0.42342,     0.42442,     0.42543,     0.42643,     0.42743,     0.42843,     0.42943,     0.43043,     0.43143,\n",
       "           0.43243,     0.43343,     0.43443,     0.43544,     0.43644,     0.43744,     0.43844,     0.43944,     0.44044,     0.44144,     0.44244,     0.44344,     0.44444,     0.44545,     0.44645,     0.44745,     0.44845,     0.44945,     0.45045,     0.45145,     0.45245,     0.45345,     0.45445,     0.45546,\n",
       "           0.45646,     0.45746,     0.45846,     0.45946,     0.46046,     0.46146,     0.46246,     0.46346,     0.46446,     0.46547,     0.46647,     0.46747,     0.46847,     0.46947,     0.47047,     0.47147,     0.47247,     0.47347,     0.47447,     0.47548,     0.47648,     0.47748,     0.47848,     0.47948,\n",
       "           0.48048,     0.48148,     0.48248,     0.48348,     0.48448,     0.48549,     0.48649,     0.48749,     0.48849,     0.48949,     0.49049,     0.49149,     0.49249,     0.49349,     0.49449,      0.4955,      0.4965,      0.4975,      0.4985,      0.4995,      0.5005,      0.5015,      0.5025,      0.5035,\n",
       "            0.5045,     0.50551,     0.50651,     0.50751,     0.50851,     0.50951,     0.51051,     0.51151,     0.51251,     0.51351,     0.51451,     0.51552,     0.51652,     0.51752,     0.51852,     0.51952,     0.52052,     0.52152,     0.52252,     0.52352,     0.52452,     0.52553,     0.52653,     0.52753,\n",
       "           0.52853,     0.52953,     0.53053,     0.53153,     0.53253,     0.53353,     0.53453,     0.53554,     0.53654,     0.53754,     0.53854,     0.53954,     0.54054,     0.54154,     0.54254,     0.54354,     0.54454,     0.54555,     0.54655,     0.54755,     0.54855,     0.54955,     0.55055,     0.55155,\n",
       "           0.55255,     0.55355,     0.55455,     0.55556,     0.55656,     0.55756,     0.55856,     0.55956,     0.56056,     0.56156,     0.56256,     0.56356,     0.56456,     0.56557,     0.56657,     0.56757,     0.56857,     0.56957,     0.57057,     0.57157,     0.57257,     0.57357,     0.57457,     0.57558,\n",
       "           0.57658,     0.57758,     0.57858,     0.57958,     0.58058,     0.58158,     0.58258,     0.58358,     0.58458,     0.58559,     0.58659,     0.58759,     0.58859,     0.58959,     0.59059,     0.59159,     0.59259,     0.59359,     0.59459,      0.5956,      0.5966,      0.5976,      0.5986,      0.5996,\n",
       "            0.6006,      0.6016,      0.6026,      0.6036,      0.6046,     0.60561,     0.60661,     0.60761,     0.60861,     0.60961,     0.61061,     0.61161,     0.61261,     0.61361,     0.61461,     0.61562,     0.61662,     0.61762,     0.61862,     0.61962,     0.62062,     0.62162,     0.62262,     0.62362,\n",
       "           0.62462,     0.62563,     0.62663,     0.62763,     0.62863,     0.62963,     0.63063,     0.63163,     0.63263,     0.63363,     0.63463,     0.63564,     0.63664,     0.63764,     0.63864,     0.63964,     0.64064,     0.64164,     0.64264,     0.64364,     0.64464,     0.64565,     0.64665,     0.64765,\n",
       "           0.64865,     0.64965,     0.65065,     0.65165,     0.65265,     0.65365,     0.65465,     0.65566,     0.65666,     0.65766,     0.65866,     0.65966,     0.66066,     0.66166,     0.66266,     0.66366,     0.66466,     0.66567,     0.66667,     0.66767,     0.66867,     0.66967,     0.67067,     0.67167,\n",
       "           0.67267,     0.67367,     0.67467,     0.67568,     0.67668,     0.67768,     0.67868,     0.67968,     0.68068,     0.68168,     0.68268,     0.68368,     0.68468,     0.68569,     0.68669,     0.68769,     0.68869,     0.68969,     0.69069,     0.69169,     0.69269,     0.69369,     0.69469,      0.6957,\n",
       "            0.6967,      0.6977,      0.6987,      0.6997,      0.7007,      0.7017,      0.7027,      0.7037,      0.7047,     0.70571,     0.70671,     0.70771,     0.70871,     0.70971,     0.71071,     0.71171,     0.71271,     0.71371,     0.71471,     0.71572,     0.71672,     0.71772,     0.71872,     0.71972,\n",
       "           0.72072,     0.72172,     0.72272,     0.72372,     0.72472,     0.72573,     0.72673,     0.72773,     0.72873,     0.72973,     0.73073,     0.73173,     0.73273,     0.73373,     0.73473,     0.73574,     0.73674,     0.73774,     0.73874,     0.73974,     0.74074,     0.74174,     0.74274,     0.74374,\n",
       "           0.74474,     0.74575,     0.74675,     0.74775,     0.74875,     0.74975,     0.75075,     0.75175,     0.75275,     0.75375,     0.75475,     0.75576,     0.75676,     0.75776,     0.75876,     0.75976,     0.76076,     0.76176,     0.76276,     0.76376,     0.76476,     0.76577,     0.76677,     0.76777,\n",
       "           0.76877,     0.76977,     0.77077,     0.77177,     0.77277,     0.77377,     0.77477,     0.77578,     0.77678,     0.77778,     0.77878,     0.77978,     0.78078,     0.78178,     0.78278,     0.78378,     0.78478,     0.78579,     0.78679,     0.78779,     0.78879,     0.78979,     0.79079,     0.79179,\n",
       "           0.79279,     0.79379,     0.79479,      0.7958,      0.7968,      0.7978,      0.7988,      0.7998,      0.8008,      0.8018,      0.8028,      0.8038,      0.8048,     0.80581,     0.80681,     0.80781,     0.80881,     0.80981,     0.81081,     0.81181,     0.81281,     0.81381,     0.81481,     0.81582,\n",
       "           0.81682,     0.81782,     0.81882,     0.81982,     0.82082,     0.82182,     0.82282,     0.82382,     0.82482,     0.82583,     0.82683,     0.82783,     0.82883,     0.82983,     0.83083,     0.83183,     0.83283,     0.83383,     0.83483,     0.83584,     0.83684,     0.83784,     0.83884,     0.83984,\n",
       "           0.84084,     0.84184,     0.84284,     0.84384,     0.84484,     0.84585,     0.84685,     0.84785,     0.84885,     0.84985,     0.85085,     0.85185,     0.85285,     0.85385,     0.85485,     0.85586,     0.85686,     0.85786,     0.85886,     0.85986,     0.86086,     0.86186,     0.86286,     0.86386,\n",
       "           0.86486,     0.86587,     0.86687,     0.86787,     0.86887,     0.86987,     0.87087,     0.87187,     0.87287,     0.87387,     0.87487,     0.87588,     0.87688,     0.87788,     0.87888,     0.87988,     0.88088,     0.88188,     0.88288,     0.88388,     0.88488,     0.88589,     0.88689,     0.88789,\n",
       "           0.88889,     0.88989,     0.89089,     0.89189,     0.89289,     0.89389,     0.89489,      0.8959,      0.8969,      0.8979,      0.8989,      0.8999,      0.9009,      0.9019,      0.9029,      0.9039,      0.9049,     0.90591,     0.90691,     0.90791,     0.90891,     0.90991,     0.91091,     0.91191,\n",
       "           0.91291,     0.91391,     0.91491,     0.91592,     0.91692,     0.91792,     0.91892,     0.91992,     0.92092,     0.92192,     0.92292,     0.92392,     0.92492,     0.92593,     0.92693,     0.92793,     0.92893,     0.92993,     0.93093,     0.93193,     0.93293,     0.93393,     0.93493,     0.93594,\n",
       "           0.93694,     0.93794,     0.93894,     0.93994,     0.94094,     0.94194,     0.94294,     0.94394,     0.94494,     0.94595,     0.94695,     0.94795,     0.94895,     0.94995,     0.95095,     0.95195,     0.95295,     0.95395,     0.95495,     0.95596,     0.95696,     0.95796,     0.95896,     0.95996,\n",
       "           0.96096,     0.96196,     0.96296,     0.96396,     0.96496,     0.96597,     0.96697,     0.96797,     0.96897,     0.96997,     0.97097,     0.97197,     0.97297,     0.97397,     0.97497,     0.97598,     0.97698,     0.97798,     0.97898,     0.97998,     0.98098,     0.98198,     0.98298,     0.98398,\n",
       "           0.98498,     0.98599,     0.98699,     0.98799,     0.98899,     0.98999,     0.99099,     0.99199,     0.99299,     0.99399,     0.99499,       0.996,       0.997,       0.998,       0.999,           1]), array([[          1,           1,           1, ...,   0.0052668,   0.0026334,           0],\n",
       "       [          1,           1,           1, ...,  0.00054524,  0.00027262,           0],\n",
       "       [          1,           1,           1, ...,  6.7294e-05,  3.3647e-05,           0]]), 'Recall', 'Precision'], [array([          0,    0.001001,    0.002002,    0.003003,    0.004004,    0.005005,    0.006006,    0.007007,    0.008008,    0.009009,     0.01001,    0.011011,    0.012012,    0.013013,    0.014014,    0.015015,    0.016016,    0.017017,    0.018018,    0.019019,     0.02002,    0.021021,    0.022022,    0.023023,\n",
       "          0.024024,    0.025025,    0.026026,    0.027027,    0.028028,    0.029029,     0.03003,    0.031031,    0.032032,    0.033033,    0.034034,    0.035035,    0.036036,    0.037037,    0.038038,    0.039039,     0.04004,    0.041041,    0.042042,    0.043043,    0.044044,    0.045045,    0.046046,    0.047047,\n",
       "          0.048048,    0.049049,     0.05005,    0.051051,    0.052052,    0.053053,    0.054054,    0.055055,    0.056056,    0.057057,    0.058058,    0.059059,     0.06006,    0.061061,    0.062062,    0.063063,    0.064064,    0.065065,    0.066066,    0.067067,    0.068068,    0.069069,     0.07007,    0.071071,\n",
       "          0.072072,    0.073073,    0.074074,    0.075075,    0.076076,    0.077077,    0.078078,    0.079079,     0.08008,    0.081081,    0.082082,    0.083083,    0.084084,    0.085085,    0.086086,    0.087087,    0.088088,    0.089089,     0.09009,    0.091091,    0.092092,    0.093093,    0.094094,    0.095095,\n",
       "          0.096096,    0.097097,    0.098098,    0.099099,      0.1001,      0.1011,      0.1021,      0.1031,      0.1041,     0.10511,     0.10611,     0.10711,     0.10811,     0.10911,     0.11011,     0.11111,     0.11211,     0.11311,     0.11411,     0.11512,     0.11612,     0.11712,     0.11812,     0.11912,\n",
       "           0.12012,     0.12112,     0.12212,     0.12312,     0.12412,     0.12513,     0.12613,     0.12713,     0.12813,     0.12913,     0.13013,     0.13113,     0.13213,     0.13313,     0.13413,     0.13514,     0.13614,     0.13714,     0.13814,     0.13914,     0.14014,     0.14114,     0.14214,     0.14314,\n",
       "           0.14414,     0.14515,     0.14615,     0.14715,     0.14815,     0.14915,     0.15015,     0.15115,     0.15215,     0.15315,     0.15415,     0.15516,     0.15616,     0.15716,     0.15816,     0.15916,     0.16016,     0.16116,     0.16216,     0.16316,     0.16416,     0.16517,     0.16617,     0.16717,\n",
       "           0.16817,     0.16917,     0.17017,     0.17117,     0.17217,     0.17317,     0.17417,     0.17518,     0.17618,     0.17718,     0.17818,     0.17918,     0.18018,     0.18118,     0.18218,     0.18318,     0.18418,     0.18519,     0.18619,     0.18719,     0.18819,     0.18919,     0.19019,     0.19119,\n",
       "           0.19219,     0.19319,     0.19419,      0.1952,      0.1962,      0.1972,      0.1982,      0.1992,      0.2002,      0.2012,      0.2022,      0.2032,      0.2042,     0.20521,     0.20621,     0.20721,     0.20821,     0.20921,     0.21021,     0.21121,     0.21221,     0.21321,     0.21421,     0.21522,\n",
       "           0.21622,     0.21722,     0.21822,     0.21922,     0.22022,     0.22122,     0.22222,     0.22322,     0.22422,     0.22523,     0.22623,     0.22723,     0.22823,     0.22923,     0.23023,     0.23123,     0.23223,     0.23323,     0.23423,     0.23524,     0.23624,     0.23724,     0.23824,     0.23924,\n",
       "           0.24024,     0.24124,     0.24224,     0.24324,     0.24424,     0.24525,     0.24625,     0.24725,     0.24825,     0.24925,     0.25025,     0.25125,     0.25225,     0.25325,     0.25425,     0.25526,     0.25626,     0.25726,     0.25826,     0.25926,     0.26026,     0.26126,     0.26226,     0.26326,\n",
       "           0.26426,     0.26527,     0.26627,     0.26727,     0.26827,     0.26927,     0.27027,     0.27127,     0.27227,     0.27327,     0.27427,     0.27528,     0.27628,     0.27728,     0.27828,     0.27928,     0.28028,     0.28128,     0.28228,     0.28328,     0.28428,     0.28529,     0.28629,     0.28729,\n",
       "           0.28829,     0.28929,     0.29029,     0.29129,     0.29229,     0.29329,     0.29429,      0.2953,      0.2963,      0.2973,      0.2983,      0.2993,      0.3003,      0.3013,      0.3023,      0.3033,      0.3043,     0.30531,     0.30631,     0.30731,     0.30831,     0.30931,     0.31031,     0.31131,\n",
       "           0.31231,     0.31331,     0.31431,     0.31532,     0.31632,     0.31732,     0.31832,     0.31932,     0.32032,     0.32132,     0.32232,     0.32332,     0.32432,     0.32533,     0.32633,     0.32733,     0.32833,     0.32933,     0.33033,     0.33133,     0.33233,     0.33333,     0.33433,     0.33534,\n",
       "           0.33634,     0.33734,     0.33834,     0.33934,     0.34034,     0.34134,     0.34234,     0.34334,     0.34434,     0.34535,     0.34635,     0.34735,     0.34835,     0.34935,     0.35035,     0.35135,     0.35235,     0.35335,     0.35435,     0.35536,     0.35636,     0.35736,     0.35836,     0.35936,\n",
       "           0.36036,     0.36136,     0.36236,     0.36336,     0.36436,     0.36537,     0.36637,     0.36737,     0.36837,     0.36937,     0.37037,     0.37137,     0.37237,     0.37337,     0.37437,     0.37538,     0.37638,     0.37738,     0.37838,     0.37938,     0.38038,     0.38138,     0.38238,     0.38338,\n",
       "           0.38438,     0.38539,     0.38639,     0.38739,     0.38839,     0.38939,     0.39039,     0.39139,     0.39239,     0.39339,     0.39439,      0.3954,      0.3964,      0.3974,      0.3984,      0.3994,      0.4004,      0.4014,      0.4024,      0.4034,      0.4044,     0.40541,     0.40641,     0.40741,\n",
       "           0.40841,     0.40941,     0.41041,     0.41141,     0.41241,     0.41341,     0.41441,     0.41542,     0.41642,     0.41742,     0.41842,     0.41942,     0.42042,     0.42142,     0.42242,     0.42342,     0.42442,     0.42543,     0.42643,     0.42743,     0.42843,     0.42943,     0.43043,     0.43143,\n",
       "           0.43243,     0.43343,     0.43443,     0.43544,     0.43644,     0.43744,     0.43844,     0.43944,     0.44044,     0.44144,     0.44244,     0.44344,     0.44444,     0.44545,     0.44645,     0.44745,     0.44845,     0.44945,     0.45045,     0.45145,     0.45245,     0.45345,     0.45445,     0.45546,\n",
       "           0.45646,     0.45746,     0.45846,     0.45946,     0.46046,     0.46146,     0.46246,     0.46346,     0.46446,     0.46547,     0.46647,     0.46747,     0.46847,     0.46947,     0.47047,     0.47147,     0.47247,     0.47347,     0.47447,     0.47548,     0.47648,     0.47748,     0.47848,     0.47948,\n",
       "           0.48048,     0.48148,     0.48248,     0.48348,     0.48448,     0.48549,     0.48649,     0.48749,     0.48849,     0.48949,     0.49049,     0.49149,     0.49249,     0.49349,     0.49449,      0.4955,      0.4965,      0.4975,      0.4985,      0.4995,      0.5005,      0.5015,      0.5025,      0.5035,\n",
       "            0.5045,     0.50551,     0.50651,     0.50751,     0.50851,     0.50951,     0.51051,     0.51151,     0.51251,     0.51351,     0.51451,     0.51552,     0.51652,     0.51752,     0.51852,     0.51952,     0.52052,     0.52152,     0.52252,     0.52352,     0.52452,     0.52553,     0.52653,     0.52753,\n",
       "           0.52853,     0.52953,     0.53053,     0.53153,     0.53253,     0.53353,     0.53453,     0.53554,     0.53654,     0.53754,     0.53854,     0.53954,     0.54054,     0.54154,     0.54254,     0.54354,     0.54454,     0.54555,     0.54655,     0.54755,     0.54855,     0.54955,     0.55055,     0.55155,\n",
       "           0.55255,     0.55355,     0.55455,     0.55556,     0.55656,     0.55756,     0.55856,     0.55956,     0.56056,     0.56156,     0.56256,     0.56356,     0.56456,     0.56557,     0.56657,     0.56757,     0.56857,     0.56957,     0.57057,     0.57157,     0.57257,     0.57357,     0.57457,     0.57558,\n",
       "           0.57658,     0.57758,     0.57858,     0.57958,     0.58058,     0.58158,     0.58258,     0.58358,     0.58458,     0.58559,     0.58659,     0.58759,     0.58859,     0.58959,     0.59059,     0.59159,     0.59259,     0.59359,     0.59459,      0.5956,      0.5966,      0.5976,      0.5986,      0.5996,\n",
       "            0.6006,      0.6016,      0.6026,      0.6036,      0.6046,     0.60561,     0.60661,     0.60761,     0.60861,     0.60961,     0.61061,     0.61161,     0.61261,     0.61361,     0.61461,     0.61562,     0.61662,     0.61762,     0.61862,     0.61962,     0.62062,     0.62162,     0.62262,     0.62362,\n",
       "           0.62462,     0.62563,     0.62663,     0.62763,     0.62863,     0.62963,     0.63063,     0.63163,     0.63263,     0.63363,     0.63463,     0.63564,     0.63664,     0.63764,     0.63864,     0.63964,     0.64064,     0.64164,     0.64264,     0.64364,     0.64464,     0.64565,     0.64665,     0.64765,\n",
       "           0.64865,     0.64965,     0.65065,     0.65165,     0.65265,     0.65365,     0.65465,     0.65566,     0.65666,     0.65766,     0.65866,     0.65966,     0.66066,     0.66166,     0.66266,     0.66366,     0.66466,     0.66567,     0.66667,     0.66767,     0.66867,     0.66967,     0.67067,     0.67167,\n",
       "           0.67267,     0.67367,     0.67467,     0.67568,     0.67668,     0.67768,     0.67868,     0.67968,     0.68068,     0.68168,     0.68268,     0.68368,     0.68468,     0.68569,     0.68669,     0.68769,     0.68869,     0.68969,     0.69069,     0.69169,     0.69269,     0.69369,     0.69469,      0.6957,\n",
       "            0.6967,      0.6977,      0.6987,      0.6997,      0.7007,      0.7017,      0.7027,      0.7037,      0.7047,     0.70571,     0.70671,     0.70771,     0.70871,     0.70971,     0.71071,     0.71171,     0.71271,     0.71371,     0.71471,     0.71572,     0.71672,     0.71772,     0.71872,     0.71972,\n",
       "           0.72072,     0.72172,     0.72272,     0.72372,     0.72472,     0.72573,     0.72673,     0.72773,     0.72873,     0.72973,     0.73073,     0.73173,     0.73273,     0.73373,     0.73473,     0.73574,     0.73674,     0.73774,     0.73874,     0.73974,     0.74074,     0.74174,     0.74274,     0.74374,\n",
       "           0.74474,     0.74575,     0.74675,     0.74775,     0.74875,     0.74975,     0.75075,     0.75175,     0.75275,     0.75375,     0.75475,     0.75576,     0.75676,     0.75776,     0.75876,     0.75976,     0.76076,     0.76176,     0.76276,     0.76376,     0.76476,     0.76577,     0.76677,     0.76777,\n",
       "           0.76877,     0.76977,     0.77077,     0.77177,     0.77277,     0.77377,     0.77477,     0.77578,     0.77678,     0.77778,     0.77878,     0.77978,     0.78078,     0.78178,     0.78278,     0.78378,     0.78478,     0.78579,     0.78679,     0.78779,     0.78879,     0.78979,     0.79079,     0.79179,\n",
       "           0.79279,     0.79379,     0.79479,      0.7958,      0.7968,      0.7978,      0.7988,      0.7998,      0.8008,      0.8018,      0.8028,      0.8038,      0.8048,     0.80581,     0.80681,     0.80781,     0.80881,     0.80981,     0.81081,     0.81181,     0.81281,     0.81381,     0.81481,     0.81582,\n",
       "           0.81682,     0.81782,     0.81882,     0.81982,     0.82082,     0.82182,     0.82282,     0.82382,     0.82482,     0.82583,     0.82683,     0.82783,     0.82883,     0.82983,     0.83083,     0.83183,     0.83283,     0.83383,     0.83483,     0.83584,     0.83684,     0.83784,     0.83884,     0.83984,\n",
       "           0.84084,     0.84184,     0.84284,     0.84384,     0.84484,     0.84585,     0.84685,     0.84785,     0.84885,     0.84985,     0.85085,     0.85185,     0.85285,     0.85385,     0.85485,     0.85586,     0.85686,     0.85786,     0.85886,     0.85986,     0.86086,     0.86186,     0.86286,     0.86386,\n",
       "           0.86486,     0.86587,     0.86687,     0.86787,     0.86887,     0.86987,     0.87087,     0.87187,     0.87287,     0.87387,     0.87487,     0.87588,     0.87688,     0.87788,     0.87888,     0.87988,     0.88088,     0.88188,     0.88288,     0.88388,     0.88488,     0.88589,     0.88689,     0.88789,\n",
       "           0.88889,     0.88989,     0.89089,     0.89189,     0.89289,     0.89389,     0.89489,      0.8959,      0.8969,      0.8979,      0.8989,      0.8999,      0.9009,      0.9019,      0.9029,      0.9039,      0.9049,     0.90591,     0.90691,     0.90791,     0.90891,     0.90991,     0.91091,     0.91191,\n",
       "           0.91291,     0.91391,     0.91491,     0.91592,     0.91692,     0.91792,     0.91892,     0.91992,     0.92092,     0.92192,     0.92292,     0.92392,     0.92492,     0.92593,     0.92693,     0.92793,     0.92893,     0.92993,     0.93093,     0.93193,     0.93293,     0.93393,     0.93493,     0.93594,\n",
       "           0.93694,     0.93794,     0.93894,     0.93994,     0.94094,     0.94194,     0.94294,     0.94394,     0.94494,     0.94595,     0.94695,     0.94795,     0.94895,     0.94995,     0.95095,     0.95195,     0.95295,     0.95395,     0.95495,     0.95596,     0.95696,     0.95796,     0.95896,     0.95996,\n",
       "           0.96096,     0.96196,     0.96296,     0.96396,     0.96496,     0.96597,     0.96697,     0.96797,     0.96897,     0.96997,     0.97097,     0.97197,     0.97297,     0.97397,     0.97497,     0.97598,     0.97698,     0.97798,     0.97898,     0.97998,     0.98098,     0.98198,     0.98298,     0.98398,\n",
       "           0.98498,     0.98599,     0.98699,     0.98799,     0.98899,     0.98999,     0.99099,     0.99199,     0.99299,     0.99399,     0.99499,       0.996,       0.997,       0.998,       0.999,           1]), array([[    0.26276,     0.26285,     0.33883, ...,           0,           0,           0],\n",
       "       [   0.069705,    0.069705,     0.11686, ...,           0,           0,           0],\n",
       "       [    0.01662,     0.01662,    0.021222, ...,           0,           0,           0]]), 'Confidence', 'F1'], [array([          0,    0.001001,    0.002002,    0.003003,    0.004004,    0.005005,    0.006006,    0.007007,    0.008008,    0.009009,     0.01001,    0.011011,    0.012012,    0.013013,    0.014014,    0.015015,    0.016016,    0.017017,    0.018018,    0.019019,     0.02002,    0.021021,    0.022022,    0.023023,\n",
       "          0.024024,    0.025025,    0.026026,    0.027027,    0.028028,    0.029029,     0.03003,    0.031031,    0.032032,    0.033033,    0.034034,    0.035035,    0.036036,    0.037037,    0.038038,    0.039039,     0.04004,    0.041041,    0.042042,    0.043043,    0.044044,    0.045045,    0.046046,    0.047047,\n",
       "          0.048048,    0.049049,     0.05005,    0.051051,    0.052052,    0.053053,    0.054054,    0.055055,    0.056056,    0.057057,    0.058058,    0.059059,     0.06006,    0.061061,    0.062062,    0.063063,    0.064064,    0.065065,    0.066066,    0.067067,    0.068068,    0.069069,     0.07007,    0.071071,\n",
       "          0.072072,    0.073073,    0.074074,    0.075075,    0.076076,    0.077077,    0.078078,    0.079079,     0.08008,    0.081081,    0.082082,    0.083083,    0.084084,    0.085085,    0.086086,    0.087087,    0.088088,    0.089089,     0.09009,    0.091091,    0.092092,    0.093093,    0.094094,    0.095095,\n",
       "          0.096096,    0.097097,    0.098098,    0.099099,      0.1001,      0.1011,      0.1021,      0.1031,      0.1041,     0.10511,     0.10611,     0.10711,     0.10811,     0.10911,     0.11011,     0.11111,     0.11211,     0.11311,     0.11411,     0.11512,     0.11612,     0.11712,     0.11812,     0.11912,\n",
       "           0.12012,     0.12112,     0.12212,     0.12312,     0.12412,     0.12513,     0.12613,     0.12713,     0.12813,     0.12913,     0.13013,     0.13113,     0.13213,     0.13313,     0.13413,     0.13514,     0.13614,     0.13714,     0.13814,     0.13914,     0.14014,     0.14114,     0.14214,     0.14314,\n",
       "           0.14414,     0.14515,     0.14615,     0.14715,     0.14815,     0.14915,     0.15015,     0.15115,     0.15215,     0.15315,     0.15415,     0.15516,     0.15616,     0.15716,     0.15816,     0.15916,     0.16016,     0.16116,     0.16216,     0.16316,     0.16416,     0.16517,     0.16617,     0.16717,\n",
       "           0.16817,     0.16917,     0.17017,     0.17117,     0.17217,     0.17317,     0.17417,     0.17518,     0.17618,     0.17718,     0.17818,     0.17918,     0.18018,     0.18118,     0.18218,     0.18318,     0.18418,     0.18519,     0.18619,     0.18719,     0.18819,     0.18919,     0.19019,     0.19119,\n",
       "           0.19219,     0.19319,     0.19419,      0.1952,      0.1962,      0.1972,      0.1982,      0.1992,      0.2002,      0.2012,      0.2022,      0.2032,      0.2042,     0.20521,     0.20621,     0.20721,     0.20821,     0.20921,     0.21021,     0.21121,     0.21221,     0.21321,     0.21421,     0.21522,\n",
       "           0.21622,     0.21722,     0.21822,     0.21922,     0.22022,     0.22122,     0.22222,     0.22322,     0.22422,     0.22523,     0.22623,     0.22723,     0.22823,     0.22923,     0.23023,     0.23123,     0.23223,     0.23323,     0.23423,     0.23524,     0.23624,     0.23724,     0.23824,     0.23924,\n",
       "           0.24024,     0.24124,     0.24224,     0.24324,     0.24424,     0.24525,     0.24625,     0.24725,     0.24825,     0.24925,     0.25025,     0.25125,     0.25225,     0.25325,     0.25425,     0.25526,     0.25626,     0.25726,     0.25826,     0.25926,     0.26026,     0.26126,     0.26226,     0.26326,\n",
       "           0.26426,     0.26527,     0.26627,     0.26727,     0.26827,     0.26927,     0.27027,     0.27127,     0.27227,     0.27327,     0.27427,     0.27528,     0.27628,     0.27728,     0.27828,     0.27928,     0.28028,     0.28128,     0.28228,     0.28328,     0.28428,     0.28529,     0.28629,     0.28729,\n",
       "           0.28829,     0.28929,     0.29029,     0.29129,     0.29229,     0.29329,     0.29429,      0.2953,      0.2963,      0.2973,      0.2983,      0.2993,      0.3003,      0.3013,      0.3023,      0.3033,      0.3043,     0.30531,     0.30631,     0.30731,     0.30831,     0.30931,     0.31031,     0.31131,\n",
       "           0.31231,     0.31331,     0.31431,     0.31532,     0.31632,     0.31732,     0.31832,     0.31932,     0.32032,     0.32132,     0.32232,     0.32332,     0.32432,     0.32533,     0.32633,     0.32733,     0.32833,     0.32933,     0.33033,     0.33133,     0.33233,     0.33333,     0.33433,     0.33534,\n",
       "           0.33634,     0.33734,     0.33834,     0.33934,     0.34034,     0.34134,     0.34234,     0.34334,     0.34434,     0.34535,     0.34635,     0.34735,     0.34835,     0.34935,     0.35035,     0.35135,     0.35235,     0.35335,     0.35435,     0.35536,     0.35636,     0.35736,     0.35836,     0.35936,\n",
       "           0.36036,     0.36136,     0.36236,     0.36336,     0.36436,     0.36537,     0.36637,     0.36737,     0.36837,     0.36937,     0.37037,     0.37137,     0.37237,     0.37337,     0.37437,     0.37538,     0.37638,     0.37738,     0.37838,     0.37938,     0.38038,     0.38138,     0.38238,     0.38338,\n",
       "           0.38438,     0.38539,     0.38639,     0.38739,     0.38839,     0.38939,     0.39039,     0.39139,     0.39239,     0.39339,     0.39439,      0.3954,      0.3964,      0.3974,      0.3984,      0.3994,      0.4004,      0.4014,      0.4024,      0.4034,      0.4044,     0.40541,     0.40641,     0.40741,\n",
       "           0.40841,     0.40941,     0.41041,     0.41141,     0.41241,     0.41341,     0.41441,     0.41542,     0.41642,     0.41742,     0.41842,     0.41942,     0.42042,     0.42142,     0.42242,     0.42342,     0.42442,     0.42543,     0.42643,     0.42743,     0.42843,     0.42943,     0.43043,     0.43143,\n",
       "           0.43243,     0.43343,     0.43443,     0.43544,     0.43644,     0.43744,     0.43844,     0.43944,     0.44044,     0.44144,     0.44244,     0.44344,     0.44444,     0.44545,     0.44645,     0.44745,     0.44845,     0.44945,     0.45045,     0.45145,     0.45245,     0.45345,     0.45445,     0.45546,\n",
       "           0.45646,     0.45746,     0.45846,     0.45946,     0.46046,     0.46146,     0.46246,     0.46346,     0.46446,     0.46547,     0.46647,     0.46747,     0.46847,     0.46947,     0.47047,     0.47147,     0.47247,     0.47347,     0.47447,     0.47548,     0.47648,     0.47748,     0.47848,     0.47948,\n",
       "           0.48048,     0.48148,     0.48248,     0.48348,     0.48448,     0.48549,     0.48649,     0.48749,     0.48849,     0.48949,     0.49049,     0.49149,     0.49249,     0.49349,     0.49449,      0.4955,      0.4965,      0.4975,      0.4985,      0.4995,      0.5005,      0.5015,      0.5025,      0.5035,\n",
       "            0.5045,     0.50551,     0.50651,     0.50751,     0.50851,     0.50951,     0.51051,     0.51151,     0.51251,     0.51351,     0.51451,     0.51552,     0.51652,     0.51752,     0.51852,     0.51952,     0.52052,     0.52152,     0.52252,     0.52352,     0.52452,     0.52553,     0.52653,     0.52753,\n",
       "           0.52853,     0.52953,     0.53053,     0.53153,     0.53253,     0.53353,     0.53453,     0.53554,     0.53654,     0.53754,     0.53854,     0.53954,     0.54054,     0.54154,     0.54254,     0.54354,     0.54454,     0.54555,     0.54655,     0.54755,     0.54855,     0.54955,     0.55055,     0.55155,\n",
       "           0.55255,     0.55355,     0.55455,     0.55556,     0.55656,     0.55756,     0.55856,     0.55956,     0.56056,     0.56156,     0.56256,     0.56356,     0.56456,     0.56557,     0.56657,     0.56757,     0.56857,     0.56957,     0.57057,     0.57157,     0.57257,     0.57357,     0.57457,     0.57558,\n",
       "           0.57658,     0.57758,     0.57858,     0.57958,     0.58058,     0.58158,     0.58258,     0.58358,     0.58458,     0.58559,     0.58659,     0.58759,     0.58859,     0.58959,     0.59059,     0.59159,     0.59259,     0.59359,     0.59459,      0.5956,      0.5966,      0.5976,      0.5986,      0.5996,\n",
       "            0.6006,      0.6016,      0.6026,      0.6036,      0.6046,     0.60561,     0.60661,     0.60761,     0.60861,     0.60961,     0.61061,     0.61161,     0.61261,     0.61361,     0.61461,     0.61562,     0.61662,     0.61762,     0.61862,     0.61962,     0.62062,     0.62162,     0.62262,     0.62362,\n",
       "           0.62462,     0.62563,     0.62663,     0.62763,     0.62863,     0.62963,     0.63063,     0.63163,     0.63263,     0.63363,     0.63463,     0.63564,     0.63664,     0.63764,     0.63864,     0.63964,     0.64064,     0.64164,     0.64264,     0.64364,     0.64464,     0.64565,     0.64665,     0.64765,\n",
       "           0.64865,     0.64965,     0.65065,     0.65165,     0.65265,     0.65365,     0.65465,     0.65566,     0.65666,     0.65766,     0.65866,     0.65966,     0.66066,     0.66166,     0.66266,     0.66366,     0.66466,     0.66567,     0.66667,     0.66767,     0.66867,     0.66967,     0.67067,     0.67167,\n",
       "           0.67267,     0.67367,     0.67467,     0.67568,     0.67668,     0.67768,     0.67868,     0.67968,     0.68068,     0.68168,     0.68268,     0.68368,     0.68468,     0.68569,     0.68669,     0.68769,     0.68869,     0.68969,     0.69069,     0.69169,     0.69269,     0.69369,     0.69469,      0.6957,\n",
       "            0.6967,      0.6977,      0.6987,      0.6997,      0.7007,      0.7017,      0.7027,      0.7037,      0.7047,     0.70571,     0.70671,     0.70771,     0.70871,     0.70971,     0.71071,     0.71171,     0.71271,     0.71371,     0.71471,     0.71572,     0.71672,     0.71772,     0.71872,     0.71972,\n",
       "           0.72072,     0.72172,     0.72272,     0.72372,     0.72472,     0.72573,     0.72673,     0.72773,     0.72873,     0.72973,     0.73073,     0.73173,     0.73273,     0.73373,     0.73473,     0.73574,     0.73674,     0.73774,     0.73874,     0.73974,     0.74074,     0.74174,     0.74274,     0.74374,\n",
       "           0.74474,     0.74575,     0.74675,     0.74775,     0.74875,     0.74975,     0.75075,     0.75175,     0.75275,     0.75375,     0.75475,     0.75576,     0.75676,     0.75776,     0.75876,     0.75976,     0.76076,     0.76176,     0.76276,     0.76376,     0.76476,     0.76577,     0.76677,     0.76777,\n",
       "           0.76877,     0.76977,     0.77077,     0.77177,     0.77277,     0.77377,     0.77477,     0.77578,     0.77678,     0.77778,     0.77878,     0.77978,     0.78078,     0.78178,     0.78278,     0.78378,     0.78478,     0.78579,     0.78679,     0.78779,     0.78879,     0.78979,     0.79079,     0.79179,\n",
       "           0.79279,     0.79379,     0.79479,      0.7958,      0.7968,      0.7978,      0.7988,      0.7998,      0.8008,      0.8018,      0.8028,      0.8038,      0.8048,     0.80581,     0.80681,     0.80781,     0.80881,     0.80981,     0.81081,     0.81181,     0.81281,     0.81381,     0.81481,     0.81582,\n",
       "           0.81682,     0.81782,     0.81882,     0.81982,     0.82082,     0.82182,     0.82282,     0.82382,     0.82482,     0.82583,     0.82683,     0.82783,     0.82883,     0.82983,     0.83083,     0.83183,     0.83283,     0.83383,     0.83483,     0.83584,     0.83684,     0.83784,     0.83884,     0.83984,\n",
       "           0.84084,     0.84184,     0.84284,     0.84384,     0.84484,     0.84585,     0.84685,     0.84785,     0.84885,     0.84985,     0.85085,     0.85185,     0.85285,     0.85385,     0.85485,     0.85586,     0.85686,     0.85786,     0.85886,     0.85986,     0.86086,     0.86186,     0.86286,     0.86386,\n",
       "           0.86486,     0.86587,     0.86687,     0.86787,     0.86887,     0.86987,     0.87087,     0.87187,     0.87287,     0.87387,     0.87487,     0.87588,     0.87688,     0.87788,     0.87888,     0.87988,     0.88088,     0.88188,     0.88288,     0.88388,     0.88488,     0.88589,     0.88689,     0.88789,\n",
       "           0.88889,     0.88989,     0.89089,     0.89189,     0.89289,     0.89389,     0.89489,      0.8959,      0.8969,      0.8979,      0.8989,      0.8999,      0.9009,      0.9019,      0.9029,      0.9039,      0.9049,     0.90591,     0.90691,     0.90791,     0.90891,     0.90991,     0.91091,     0.91191,\n",
       "           0.91291,     0.91391,     0.91491,     0.91592,     0.91692,     0.91792,     0.91892,     0.91992,     0.92092,     0.92192,     0.92292,     0.92392,     0.92492,     0.92593,     0.92693,     0.92793,     0.92893,     0.92993,     0.93093,     0.93193,     0.93293,     0.93393,     0.93493,     0.93594,\n",
       "           0.93694,     0.93794,     0.93894,     0.93994,     0.94094,     0.94194,     0.94294,     0.94394,     0.94494,     0.94595,     0.94695,     0.94795,     0.94895,     0.94995,     0.95095,     0.95195,     0.95295,     0.95395,     0.95495,     0.95596,     0.95696,     0.95796,     0.95896,     0.95996,\n",
       "           0.96096,     0.96196,     0.96296,     0.96396,     0.96496,     0.96597,     0.96697,     0.96797,     0.96897,     0.96997,     0.97097,     0.97197,     0.97297,     0.97397,     0.97497,     0.97598,     0.97698,     0.97798,     0.97898,     0.97998,     0.98098,     0.98198,     0.98298,     0.98398,\n",
       "           0.98498,     0.98599,     0.98699,     0.98799,     0.98899,     0.98999,     0.99099,     0.99199,     0.99299,     0.99399,     0.99499,       0.996,       0.997,       0.998,       0.999,           1]), array([[    0.15268,     0.15274,     0.20679, ...,           1,           1,           1],\n",
       "       [   0.036313,    0.036313,    0.062651, ...,           1,           1,           1],\n",
       "       [  0.0084034,   0.0084034,    0.010841, ...,           1,           1,           1]]), 'Confidence', 'Precision'], [array([          0,    0.001001,    0.002002,    0.003003,    0.004004,    0.005005,    0.006006,    0.007007,    0.008008,    0.009009,     0.01001,    0.011011,    0.012012,    0.013013,    0.014014,    0.015015,    0.016016,    0.017017,    0.018018,    0.019019,     0.02002,    0.021021,    0.022022,    0.023023,\n",
       "          0.024024,    0.025025,    0.026026,    0.027027,    0.028028,    0.029029,     0.03003,    0.031031,    0.032032,    0.033033,    0.034034,    0.035035,    0.036036,    0.037037,    0.038038,    0.039039,     0.04004,    0.041041,    0.042042,    0.043043,    0.044044,    0.045045,    0.046046,    0.047047,\n",
       "          0.048048,    0.049049,     0.05005,    0.051051,    0.052052,    0.053053,    0.054054,    0.055055,    0.056056,    0.057057,    0.058058,    0.059059,     0.06006,    0.061061,    0.062062,    0.063063,    0.064064,    0.065065,    0.066066,    0.067067,    0.068068,    0.069069,     0.07007,    0.071071,\n",
       "          0.072072,    0.073073,    0.074074,    0.075075,    0.076076,    0.077077,    0.078078,    0.079079,     0.08008,    0.081081,    0.082082,    0.083083,    0.084084,    0.085085,    0.086086,    0.087087,    0.088088,    0.089089,     0.09009,    0.091091,    0.092092,    0.093093,    0.094094,    0.095095,\n",
       "          0.096096,    0.097097,    0.098098,    0.099099,      0.1001,      0.1011,      0.1021,      0.1031,      0.1041,     0.10511,     0.10611,     0.10711,     0.10811,     0.10911,     0.11011,     0.11111,     0.11211,     0.11311,     0.11411,     0.11512,     0.11612,     0.11712,     0.11812,     0.11912,\n",
       "           0.12012,     0.12112,     0.12212,     0.12312,     0.12412,     0.12513,     0.12613,     0.12713,     0.12813,     0.12913,     0.13013,     0.13113,     0.13213,     0.13313,     0.13413,     0.13514,     0.13614,     0.13714,     0.13814,     0.13914,     0.14014,     0.14114,     0.14214,     0.14314,\n",
       "           0.14414,     0.14515,     0.14615,     0.14715,     0.14815,     0.14915,     0.15015,     0.15115,     0.15215,     0.15315,     0.15415,     0.15516,     0.15616,     0.15716,     0.15816,     0.15916,     0.16016,     0.16116,     0.16216,     0.16316,     0.16416,     0.16517,     0.16617,     0.16717,\n",
       "           0.16817,     0.16917,     0.17017,     0.17117,     0.17217,     0.17317,     0.17417,     0.17518,     0.17618,     0.17718,     0.17818,     0.17918,     0.18018,     0.18118,     0.18218,     0.18318,     0.18418,     0.18519,     0.18619,     0.18719,     0.18819,     0.18919,     0.19019,     0.19119,\n",
       "           0.19219,     0.19319,     0.19419,      0.1952,      0.1962,      0.1972,      0.1982,      0.1992,      0.2002,      0.2012,      0.2022,      0.2032,      0.2042,     0.20521,     0.20621,     0.20721,     0.20821,     0.20921,     0.21021,     0.21121,     0.21221,     0.21321,     0.21421,     0.21522,\n",
       "           0.21622,     0.21722,     0.21822,     0.21922,     0.22022,     0.22122,     0.22222,     0.22322,     0.22422,     0.22523,     0.22623,     0.22723,     0.22823,     0.22923,     0.23023,     0.23123,     0.23223,     0.23323,     0.23423,     0.23524,     0.23624,     0.23724,     0.23824,     0.23924,\n",
       "           0.24024,     0.24124,     0.24224,     0.24324,     0.24424,     0.24525,     0.24625,     0.24725,     0.24825,     0.24925,     0.25025,     0.25125,     0.25225,     0.25325,     0.25425,     0.25526,     0.25626,     0.25726,     0.25826,     0.25926,     0.26026,     0.26126,     0.26226,     0.26326,\n",
       "           0.26426,     0.26527,     0.26627,     0.26727,     0.26827,     0.26927,     0.27027,     0.27127,     0.27227,     0.27327,     0.27427,     0.27528,     0.27628,     0.27728,     0.27828,     0.27928,     0.28028,     0.28128,     0.28228,     0.28328,     0.28428,     0.28529,     0.28629,     0.28729,\n",
       "           0.28829,     0.28929,     0.29029,     0.29129,     0.29229,     0.29329,     0.29429,      0.2953,      0.2963,      0.2973,      0.2983,      0.2993,      0.3003,      0.3013,      0.3023,      0.3033,      0.3043,     0.30531,     0.30631,     0.30731,     0.30831,     0.30931,     0.31031,     0.31131,\n",
       "           0.31231,     0.31331,     0.31431,     0.31532,     0.31632,     0.31732,     0.31832,     0.31932,     0.32032,     0.32132,     0.32232,     0.32332,     0.32432,     0.32533,     0.32633,     0.32733,     0.32833,     0.32933,     0.33033,     0.33133,     0.33233,     0.33333,     0.33433,     0.33534,\n",
       "           0.33634,     0.33734,     0.33834,     0.33934,     0.34034,     0.34134,     0.34234,     0.34334,     0.34434,     0.34535,     0.34635,     0.34735,     0.34835,     0.34935,     0.35035,     0.35135,     0.35235,     0.35335,     0.35435,     0.35536,     0.35636,     0.35736,     0.35836,     0.35936,\n",
       "           0.36036,     0.36136,     0.36236,     0.36336,     0.36436,     0.36537,     0.36637,     0.36737,     0.36837,     0.36937,     0.37037,     0.37137,     0.37237,     0.37337,     0.37437,     0.37538,     0.37638,     0.37738,     0.37838,     0.37938,     0.38038,     0.38138,     0.38238,     0.38338,\n",
       "           0.38438,     0.38539,     0.38639,     0.38739,     0.38839,     0.38939,     0.39039,     0.39139,     0.39239,     0.39339,     0.39439,      0.3954,      0.3964,      0.3974,      0.3984,      0.3994,      0.4004,      0.4014,      0.4024,      0.4034,      0.4044,     0.40541,     0.40641,     0.40741,\n",
       "           0.40841,     0.40941,     0.41041,     0.41141,     0.41241,     0.41341,     0.41441,     0.41542,     0.41642,     0.41742,     0.41842,     0.41942,     0.42042,     0.42142,     0.42242,     0.42342,     0.42442,     0.42543,     0.42643,     0.42743,     0.42843,     0.42943,     0.43043,     0.43143,\n",
       "           0.43243,     0.43343,     0.43443,     0.43544,     0.43644,     0.43744,     0.43844,     0.43944,     0.44044,     0.44144,     0.44244,     0.44344,     0.44444,     0.44545,     0.44645,     0.44745,     0.44845,     0.44945,     0.45045,     0.45145,     0.45245,     0.45345,     0.45445,     0.45546,\n",
       "           0.45646,     0.45746,     0.45846,     0.45946,     0.46046,     0.46146,     0.46246,     0.46346,     0.46446,     0.46547,     0.46647,     0.46747,     0.46847,     0.46947,     0.47047,     0.47147,     0.47247,     0.47347,     0.47447,     0.47548,     0.47648,     0.47748,     0.47848,     0.47948,\n",
       "           0.48048,     0.48148,     0.48248,     0.48348,     0.48448,     0.48549,     0.48649,     0.48749,     0.48849,     0.48949,     0.49049,     0.49149,     0.49249,     0.49349,     0.49449,      0.4955,      0.4965,      0.4975,      0.4985,      0.4995,      0.5005,      0.5015,      0.5025,      0.5035,\n",
       "            0.5045,     0.50551,     0.50651,     0.50751,     0.50851,     0.50951,     0.51051,     0.51151,     0.51251,     0.51351,     0.51451,     0.51552,     0.51652,     0.51752,     0.51852,     0.51952,     0.52052,     0.52152,     0.52252,     0.52352,     0.52452,     0.52553,     0.52653,     0.52753,\n",
       "           0.52853,     0.52953,     0.53053,     0.53153,     0.53253,     0.53353,     0.53453,     0.53554,     0.53654,     0.53754,     0.53854,     0.53954,     0.54054,     0.54154,     0.54254,     0.54354,     0.54454,     0.54555,     0.54655,     0.54755,     0.54855,     0.54955,     0.55055,     0.55155,\n",
       "           0.55255,     0.55355,     0.55455,     0.55556,     0.55656,     0.55756,     0.55856,     0.55956,     0.56056,     0.56156,     0.56256,     0.56356,     0.56456,     0.56557,     0.56657,     0.56757,     0.56857,     0.56957,     0.57057,     0.57157,     0.57257,     0.57357,     0.57457,     0.57558,\n",
       "           0.57658,     0.57758,     0.57858,     0.57958,     0.58058,     0.58158,     0.58258,     0.58358,     0.58458,     0.58559,     0.58659,     0.58759,     0.58859,     0.58959,     0.59059,     0.59159,     0.59259,     0.59359,     0.59459,      0.5956,      0.5966,      0.5976,      0.5986,      0.5996,\n",
       "            0.6006,      0.6016,      0.6026,      0.6036,      0.6046,     0.60561,     0.60661,     0.60761,     0.60861,     0.60961,     0.61061,     0.61161,     0.61261,     0.61361,     0.61461,     0.61562,     0.61662,     0.61762,     0.61862,     0.61962,     0.62062,     0.62162,     0.62262,     0.62362,\n",
       "           0.62462,     0.62563,     0.62663,     0.62763,     0.62863,     0.62963,     0.63063,     0.63163,     0.63263,     0.63363,     0.63463,     0.63564,     0.63664,     0.63764,     0.63864,     0.63964,     0.64064,     0.64164,     0.64264,     0.64364,     0.64464,     0.64565,     0.64665,     0.64765,\n",
       "           0.64865,     0.64965,     0.65065,     0.65165,     0.65265,     0.65365,     0.65465,     0.65566,     0.65666,     0.65766,     0.65866,     0.65966,     0.66066,     0.66166,     0.66266,     0.66366,     0.66466,     0.66567,     0.66667,     0.66767,     0.66867,     0.66967,     0.67067,     0.67167,\n",
       "           0.67267,     0.67367,     0.67467,     0.67568,     0.67668,     0.67768,     0.67868,     0.67968,     0.68068,     0.68168,     0.68268,     0.68368,     0.68468,     0.68569,     0.68669,     0.68769,     0.68869,     0.68969,     0.69069,     0.69169,     0.69269,     0.69369,     0.69469,      0.6957,\n",
       "            0.6967,      0.6977,      0.6987,      0.6997,      0.7007,      0.7017,      0.7027,      0.7037,      0.7047,     0.70571,     0.70671,     0.70771,     0.70871,     0.70971,     0.71071,     0.71171,     0.71271,     0.71371,     0.71471,     0.71572,     0.71672,     0.71772,     0.71872,     0.71972,\n",
       "           0.72072,     0.72172,     0.72272,     0.72372,     0.72472,     0.72573,     0.72673,     0.72773,     0.72873,     0.72973,     0.73073,     0.73173,     0.73273,     0.73373,     0.73473,     0.73574,     0.73674,     0.73774,     0.73874,     0.73974,     0.74074,     0.74174,     0.74274,     0.74374,\n",
       "           0.74474,     0.74575,     0.74675,     0.74775,     0.74875,     0.74975,     0.75075,     0.75175,     0.75275,     0.75375,     0.75475,     0.75576,     0.75676,     0.75776,     0.75876,     0.75976,     0.76076,     0.76176,     0.76276,     0.76376,     0.76476,     0.76577,     0.76677,     0.76777,\n",
       "           0.76877,     0.76977,     0.77077,     0.77177,     0.77277,     0.77377,     0.77477,     0.77578,     0.77678,     0.77778,     0.77878,     0.77978,     0.78078,     0.78178,     0.78278,     0.78378,     0.78478,     0.78579,     0.78679,     0.78779,     0.78879,     0.78979,     0.79079,     0.79179,\n",
       "           0.79279,     0.79379,     0.79479,      0.7958,      0.7968,      0.7978,      0.7988,      0.7998,      0.8008,      0.8018,      0.8028,      0.8038,      0.8048,     0.80581,     0.80681,     0.80781,     0.80881,     0.80981,     0.81081,     0.81181,     0.81281,     0.81381,     0.81481,     0.81582,\n",
       "           0.81682,     0.81782,     0.81882,     0.81982,     0.82082,     0.82182,     0.82282,     0.82382,     0.82482,     0.82583,     0.82683,     0.82783,     0.82883,     0.82983,     0.83083,     0.83183,     0.83283,     0.83383,     0.83483,     0.83584,     0.83684,     0.83784,     0.83884,     0.83984,\n",
       "           0.84084,     0.84184,     0.84284,     0.84384,     0.84484,     0.84585,     0.84685,     0.84785,     0.84885,     0.84985,     0.85085,     0.85185,     0.85285,     0.85385,     0.85485,     0.85586,     0.85686,     0.85786,     0.85886,     0.85986,     0.86086,     0.86186,     0.86286,     0.86386,\n",
       "           0.86486,     0.86587,     0.86687,     0.86787,     0.86887,     0.86987,     0.87087,     0.87187,     0.87287,     0.87387,     0.87487,     0.87588,     0.87688,     0.87788,     0.87888,     0.87988,     0.88088,     0.88188,     0.88288,     0.88388,     0.88488,     0.88589,     0.88689,     0.88789,\n",
       "           0.88889,     0.88989,     0.89089,     0.89189,     0.89289,     0.89389,     0.89489,      0.8959,      0.8969,      0.8979,      0.8989,      0.8999,      0.9009,      0.9019,      0.9029,      0.9039,      0.9049,     0.90591,     0.90691,     0.90791,     0.90891,     0.90991,     0.91091,     0.91191,\n",
       "           0.91291,     0.91391,     0.91491,     0.91592,     0.91692,     0.91792,     0.91892,     0.91992,     0.92092,     0.92192,     0.92292,     0.92392,     0.92492,     0.92593,     0.92693,     0.92793,     0.92893,     0.92993,     0.93093,     0.93193,     0.93293,     0.93393,     0.93493,     0.93594,\n",
       "           0.93694,     0.93794,     0.93894,     0.93994,     0.94094,     0.94194,     0.94294,     0.94394,     0.94494,     0.94595,     0.94695,     0.94795,     0.94895,     0.94995,     0.95095,     0.95195,     0.95295,     0.95395,     0.95495,     0.95596,     0.95696,     0.95796,     0.95896,     0.95996,\n",
       "           0.96096,     0.96196,     0.96296,     0.96396,     0.96496,     0.96597,     0.96697,     0.96797,     0.96897,     0.96997,     0.97097,     0.97197,     0.97297,     0.97397,     0.97497,     0.97598,     0.97698,     0.97798,     0.97898,     0.97998,     0.98098,     0.98198,     0.98298,     0.98398,\n",
       "           0.98498,     0.98599,     0.98699,     0.98799,     0.98899,     0.98999,     0.99099,     0.99199,     0.99299,     0.99399,     0.99499,       0.996,       0.997,       0.998,       0.999,           1]), array([[    0.94196,     0.94196,      0.9375, ...,           0,           0,           0],\n",
       "       [    0.86667,     0.86667,     0.86667, ...,           0,           0,           0],\n",
       "       [       0.75,        0.75,         0.5, ...,           0,           0,           0]]), 'Confidence', 'Recall']]\n",
       "fitness: 0.39374998153857155\n",
       "keys: ['metrics/precision(B)', 'metrics/recall(B)', 'metrics/mAP50(B)', 'metrics/mAP50-95(B)']\n",
       "maps: array([    0.56017,     0.33272,     0.22936,     0.37408,     0.37408,     0.37408,     0.37408,     0.37408,     0.37408])\n",
       "names: {0: 'Car', 1: 'Van', 2: 'Truck', 3: 'Pedestrian', 4: 'Person_sitting', 5: 'Cyclist', 6: 'Tram', 7: 'Misc', 8: 'DontCare'}\n",
       "plot: True\n",
       "results_dict: {'metrics/precision(B)': 0.6751390605365636, 'metrics/recall(B)': 0.4993055555555556, 'metrics/mAP50(B)': 0.5707386400162671, 'metrics/mAP50-95(B)': 0.3740845750410498, 'fitness': 0.39374998153857155}\n",
       "save_dir: WindowsPath('runs/detect/train22')\n",
       "speed: {'preprocess': 1.0208824406499448, 'inference': 109.78712206301482, 'loss': 0.0, 'postprocess': 0.8259597031966499}\n",
       "task: 'detect'"
      ]
     },
     "execution_count": 5,
     "metadata": {},
     "output_type": "execute_result"
    }
   ],
   "source": [
    "from ultralytics import YOLO\n",
    "\n",
    "# Load YOLOv5 model (you can use yolov5n.pt, yolov5s.pt, yolov5m.pt, etc.)\n",
    "model = YOLO(\"yolov5s.pt\")  # 's' is small, change to 'm' or 'l' for bigger models\n",
    "\n",
    "# Train YOLOv5 model\n",
    "model.train(data=\"D:\\majorproj\\kitti_hyb\\data.yaml\", epochs=50, imgsz=640, batch=16)\n"
   ]
  },
  {
   "cell_type": "code",
   "execution_count": 6,
   "id": "c91407b4",
   "metadata": {},
   "outputs": [
    {
     "name": "stdout",
     "output_type": "stream",
     "text": [
      "\n",
      "image 1/24 D:\\majorproj\\kitti_hyb\\images\\test\\000012.png: 224x640 (no detections), 367.3ms\n",
      "image 2/24 D:\\majorproj\\kitti_hyb\\images\\test\\000030.png: 224x640 1 Car, 235.7ms\n",
      "image 3/24 D:\\majorproj\\kitti_hyb\\images\\test\\000044.png: 224x640 2 Cars, 190.0ms\n",
      "image 4/24 D:\\majorproj\\kitti_hyb\\images\\test\\000071.png: 224x640 1 Car, 204.0ms\n",
      "image 5/24 D:\\majorproj\\kitti_hyb\\images\\test\\000086.png: 224x640 3 Cars, 209.1ms\n",
      "image 6/24 D:\\majorproj\\kitti_hyb\\images\\test\\000098.png: 224x640 4 Cars, 213.0ms\n",
      "image 7/24 D:\\majorproj\\kitti_hyb\\images\\test\\000105.png: 224x640 1 Car, 211.0ms\n",
      "image 8/24 D:\\majorproj\\kitti_hyb\\images\\test\\000122.png: 224x640 1 Car, 1 Van, 190.0ms\n",
      "image 9/24 D:\\majorproj\\kitti_hyb\\images\\test\\000129.png: 224x640 6 Cars, 200.0ms\n",
      "image 10/24 D:\\majorproj\\kitti_hyb\\images\\test\\000136.png: 224x640 4 Cars, 208.9ms\n",
      "image 11/24 D:\\majorproj\\kitti_hyb\\images\\test\\000140.png: 224x640 5 Cars, 202.3ms\n",
      "image 12/24 D:\\majorproj\\kitti_hyb\\images\\test\\000155.png: 224x640 5 Cars, 233.4ms\n",
      "image 13/24 D:\\majorproj\\kitti_hyb\\images\\test\\000159.png: 224x640 11 Cars, 220.5ms\n",
      "image 14/24 D:\\majorproj\\kitti_hyb\\images\\test\\000164.png: 224x640 3 Cars, 214.0ms\n",
      "image 15/24 D:\\majorproj\\kitti_hyb\\images\\test\\000165.png: 224x640 7 Cars, 207.1ms\n",
      "image 16/24 D:\\majorproj\\kitti_hyb\\images\\test\\000192.png: 224x640 4 Cars, 200.0ms\n",
      "image 17/24 D:\\majorproj\\kitti_hyb\\images\\test\\000204.png: 224x640 3 Cars, 217.3ms\n",
      "image 18/24 D:\\majorproj\\kitti_hyb\\images\\test\\000253.png: 224x640 2 Cars, 207.6ms\n",
      "image 19/24 D:\\majorproj\\kitti_hyb\\images\\test\\000255.png: 224x640 2 Cars, 206.8ms\n",
      "image 20/24 D:\\majorproj\\kitti_hyb\\images\\test\\000262.png: 224x640 6 Cars, 208.0ms\n",
      "image 21/24 D:\\majorproj\\kitti_hyb\\images\\test\\000277.png: 224x640 4 Vans, 201.0ms\n",
      "image 22/24 D:\\majorproj\\kitti_hyb\\images\\test\\000279.png: 224x640 5 Cars, 210.0ms\n",
      "image 23/24 D:\\majorproj\\kitti_hyb\\images\\test\\000281.png: 224x640 1 Car, 223.2ms\n",
      "image 24/24 D:\\majorproj\\kitti_hyb\\images\\test\\000294.png: 224x640 1 Van, 202.1ms\n",
      "Speed: 2.8ms preprocess, 215.9ms inference, 2.5ms postprocess per image at shape (1, 3, 224, 640)\n",
      "Results saved to \u001b[1mruns\\detect\\predict17\u001b[0m\n",
      "23 labels saved to runs\\detect\\predict17\\labels\n"
     ]
    }
   ],
   "source": [
    "# Load YOLOv8 model\n",
    "from ultralytics import YOLO\n",
    "\n",
    "# Load trained model\n",
    "yolo8_model = YOLO(\"C:/Users/bhavy/yolov5/runs/detect/train16/weights/best.pt\")\n",
    "\n",
    "# Run inference with label saving enabled\n",
    "results8 = yolo8_model.predict(\"D:/majorproj/kitti_hyb/images/test\", save=True, save_txt=True, conf=0.5)\n"
   ]
  },
  {
   "cell_type": "code",
   "execution_count": 7,
   "id": "f11f98a7",
   "metadata": {},
   "outputs": [
    {
     "name": "stdout",
     "output_type": "stream",
     "text": [
      "Current Directory: C:\\Users\\bhavy\\yolov5\n"
     ]
    }
   ],
   "source": [
    "import os\n",
    "\n",
    "# Change directory to YOLOv5\n",
    "os.chdir(\"C:/Users/bhavy/yolov5\")\n",
    "\n",
    "# Confirm current directory\n",
    "print(\"Current Directory:\", os.getcwd())\n"
   ]
  },
  {
   "cell_type": "code",
   "execution_count": 8,
   "id": "986a7d34",
   "metadata": {},
   "outputs": [
    {
     "name": "stdout",
     "output_type": "stream",
     "text": [
      "['.dockerignore', '.git', '.gitattributes', '.github', '.gitignore', 'benchmarks.py', 'CITATION.cff', 'classify', 'CONTRIBUTING.md', 'data', 'detect.py', 'export.py', 'hubconf.py', 'LICENSE', 'models', 'output_images', 'pyproject.toml', 'README.md', 'README.zh-CN.md', 'requirements.txt', 'results_000012.png', 'results_000030.png', 'results_000044.png', 'results_000071.png', 'results_000086.png', 'results_000098.png', 'results_000105.png', 'results_000122.png', 'results_000129.png', 'results_000136.png', 'results_000140.png', 'results_000155.png', 'results_000159.png', 'results_000164.png', 'results_000165.png', 'results_000192.png', 'results_000204.png', 'results_000253.png', 'results_000255.png', 'results_000262.png', 'results_000277.png', 'results_000279.png', 'results_000281.png', 'results_000294.png', 'runs', 'segment', 'train.py', 'tutorial.ipynb', 'utils', 'val.py', 'yolov5', 'yolov5s.pt', 'yolov5su.pt', 'yolov8s.pt', '__pycache__']\n"
     ]
    }
   ],
   "source": [
    "import os\n",
    "\n",
    "# List YOLOv5 files\n",
    "print(os.listdir(\"C:/Users/bhavy/yolov5\"))\n"
   ]
  },
  {
   "cell_type": "code",
   "execution_count": 9,
   "id": "2d61a145",
   "metadata": {},
   "outputs": [
    {
     "name": "stdout",
     "output_type": "stream",
     "text": [
      "Number of classes: 9\n",
      "Class names: {0: 'Car', 1: 'Van', 2: 'Truck', 3: 'Pedestrian', 4: 'Person_sitting', 5: 'Cyclist', 6: 'Tram', 7: 'Misc', 8: 'DontCare'}\n"
     ]
    }
   ],
   "source": [
    "import torch\n",
    "\n",
    "model = torch.load('runs/detect/train17/weights/best.pt')\n",
    "print(\"Number of classes:\", model['model'].nc)\n",
    "print(\"Class names:\", model['model'].names)\n"
   ]
  },
  {
   "cell_type": "code",
   "execution_count": 10,
   "id": "8a696b94",
   "metadata": {},
   "outputs": [
    {
     "name": "stdout",
     "output_type": "stream",
     "text": [
      "\n",
      "image 1/24 D:\\majorproj\\kitti_hyb\\images\\test\\000012.png: 224x640 (no detections), 239.5ms\n",
      "image 2/24 D:\\majorproj\\kitti_hyb\\images\\test\\000030.png: 224x640 (no detections), 217.3ms\n",
      "image 3/24 D:\\majorproj\\kitti_hyb\\images\\test\\000044.png: 224x640 2 Cars, 246.8ms\n",
      "image 4/24 D:\\majorproj\\kitti_hyb\\images\\test\\000071.png: 224x640 1 Car, 232.1ms\n",
      "image 5/24 D:\\majorproj\\kitti_hyb\\images\\test\\000086.png: 224x640 7 Cars, 192.3ms\n",
      "image 6/24 D:\\majorproj\\kitti_hyb\\images\\test\\000098.png: 224x640 3 Cars, 183.0ms\n",
      "image 7/24 D:\\majorproj\\kitti_hyb\\images\\test\\000105.png: 224x640 1 Car, 202.0ms\n",
      "image 8/24 D:\\majorproj\\kitti_hyb\\images\\test\\000122.png: 224x640 1 Car, 1 Van, 209.0ms\n",
      "image 9/24 D:\\majorproj\\kitti_hyb\\images\\test\\000129.png: 224x640 5 Cars, 192.2ms\n",
      "image 10/24 D:\\majorproj\\kitti_hyb\\images\\test\\000136.png: 224x640 8 Cars, 140.0ms\n",
      "image 11/24 D:\\majorproj\\kitti_hyb\\images\\test\\000140.png: 224x640 4 Cars, 153.9ms\n",
      "image 12/24 D:\\majorproj\\kitti_hyb\\images\\test\\000155.png: 224x640 6 Cars, 165.0ms\n",
      "image 13/24 D:\\majorproj\\kitti_hyb\\images\\test\\000159.png: 224x640 11 Cars, 211.4ms\n",
      "image 14/24 D:\\majorproj\\kitti_hyb\\images\\test\\000164.png: 224x640 2 Cars, 215.1ms\n",
      "image 15/24 D:\\majorproj\\kitti_hyb\\images\\test\\000165.png: 224x640 8 Cars, 198.4ms\n",
      "image 16/24 D:\\majorproj\\kitti_hyb\\images\\test\\000192.png: 224x640 4 Cars, 212.1ms\n",
      "image 17/24 D:\\majorproj\\kitti_hyb\\images\\test\\000204.png: 224x640 2 Cars, 219.6ms\n",
      "image 18/24 D:\\majorproj\\kitti_hyb\\images\\test\\000253.png: 224x640 2 Cars, 203.0ms\n",
      "image 19/24 D:\\majorproj\\kitti_hyb\\images\\test\\000255.png: 224x640 2 Cars, 238.4ms\n",
      "image 20/24 D:\\majorproj\\kitti_hyb\\images\\test\\000262.png: 224x640 6 Cars, 229.8ms\n",
      "image 21/24 D:\\majorproj\\kitti_hyb\\images\\test\\000277.png: 224x640 1 Car, 9 Vans, 227.7ms\n",
      "image 22/24 D:\\majorproj\\kitti_hyb\\images\\test\\000279.png: 224x640 7 Cars, 212.7ms\n",
      "image 23/24 D:\\majorproj\\kitti_hyb\\images\\test\\000281.png: 224x640 2 Cars, 219.0ms\n",
      "image 24/24 D:\\majorproj\\kitti_hyb\\images\\test\\000294.png: 224x640 1 Van, 199.0ms\n",
      "Speed: 2.9ms preprocess, 206.6ms inference, 2.1ms postprocess per image at shape (1, 3, 224, 640)\n",
      "Results saved to \u001b[1mruns\\detect\\predict18\u001b[0m\n",
      "22 labels saved to runs\\detect\\predict18\\labels\n",
      "\n",
      "image 1/24 D:\\majorproj\\kitti_hyb\\images\\test\\000012.png: 375x1242 (no detections), 239.5ms\n",
      "image 2/24 D:\\majorproj\\kitti_hyb\\images\\test\\000030.png: 375x1242 (no detections), 217.3ms\n",
      "image 3/24 D:\\majorproj\\kitti_hyb\\images\\test\\000044.png: 375x1242 2 Cars, 246.8ms\n",
      "image 4/24 D:\\majorproj\\kitti_hyb\\images\\test\\000071.png: 375x1242 1 Car, 232.1ms\n",
      "image 5/24 D:\\majorproj\\kitti_hyb\\images\\test\\000086.png: 375x1242 7 Cars, 192.3ms\n",
      "image 6/24 D:\\majorproj\\kitti_hyb\\images\\test\\000098.png: 376x1241 3 Cars, 183.0ms\n",
      "image 7/24 D:\\majorproj\\kitti_hyb\\images\\test\\000105.png: 375x1242 1 Car, 202.0ms\n",
      "image 8/24 D:\\majorproj\\kitti_hyb\\images\\test\\000122.png: 375x1242 1 Car, 1 Van, 209.0ms\n",
      "image 9/24 D:\\majorproj\\kitti_hyb\\images\\test\\000129.png: 375x1242 5 Cars, 192.2ms\n",
      "image 10/24 D:\\majorproj\\kitti_hyb\\images\\test\\000136.png: 375x1242 8 Cars, 140.0ms\n",
      "image 11/24 D:\\majorproj\\kitti_hyb\\images\\test\\000140.png: 375x1242 4 Cars, 153.9ms\n",
      "image 12/24 D:\\majorproj\\kitti_hyb\\images\\test\\000155.png: 375x1242 6 Cars, 165.0ms\n",
      "image 13/24 D:\\majorproj\\kitti_hyb\\images\\test\\000159.png: 375x1242 11 Cars, 211.4ms\n",
      "image 14/24 D:\\majorproj\\kitti_hyb\\images\\test\\000164.png: 375x1242 2 Cars, 215.1ms\n",
      "image 15/24 D:\\majorproj\\kitti_hyb\\images\\test\\000165.png: 375x1242 8 Cars, 198.4ms\n",
      "image 16/24 D:\\majorproj\\kitti_hyb\\images\\test\\000192.png: 376x1241 4 Cars, 212.1ms\n",
      "image 17/24 D:\\majorproj\\kitti_hyb\\images\\test\\000204.png: 375x1242 2 Cars, 219.6ms\n",
      "image 18/24 D:\\majorproj\\kitti_hyb\\images\\test\\000253.png: 375x1242 2 Cars, 203.0ms\n",
      "image 19/24 D:\\majorproj\\kitti_hyb\\images\\test\\000255.png: 375x1242 2 Cars, 238.4ms\n",
      "image 20/24 D:\\majorproj\\kitti_hyb\\images\\test\\000262.png: 375x1242 6 Cars, 229.8ms\n",
      "image 21/24 D:\\majorproj\\kitti_hyb\\images\\test\\000277.png: 375x1242 9 Vans, 1 Car, 227.7ms\n",
      "image 22/24 D:\\majorproj\\kitti_hyb\\images\\test\\000279.png: 375x1242 7 Cars, 212.7ms\n",
      "image 23/24 D:\\majorproj\\kitti_hyb\\images\\test\\000281.png: 375x1242 2 Cars, 219.0ms\n",
      "image 24/24 D:\\majorproj\\kitti_hyb\\images\\test\\000294.png: 370x1224 1 Van, 199.0ms\n",
      "\n",
      "Results saved to runs\\detect\\predict18\n",
      "Labels saved to runs\\detect\\predict18/labels\n"
     ]
    }
   ],
   "source": [
    "from ultralytics import YOLO\n",
    "import os\n",
    "\n",
    "# Load your trained YOLOv8 model\n",
    "model = YOLO(\"C:/Users/bhavy/yolov5/runs/detect/train17/weights/best.pt\")\n",
    "\n",
    "# Run inference\n",
    "results = model.predict(\"D:/majorproj/kitti_hyb/images/test\", save=True, save_txt=True, conf=0.5)\n",
    "\n",
    "# Print results like YOLOv5\n",
    "print()\n",
    "for i, result in enumerate(results, start=1):\n",
    "    path = result.path\n",
    "    shape = result.orig_shape\n",
    "    detections = result.boxes\n",
    "    line = f\"image {i}/{len(results)} {path}: {shape[0]}x{shape[1]}\"\n",
    "\n",
    "    if len(detections) == 0:\n",
    "        line += \" (no detections)\"\n",
    "    else:\n",
    "        counts = {}\n",
    "        for cls in detections.cls.tolist():\n",
    "            name = model.names[int(cls)]\n",
    "            counts[name] = counts.get(name, 0) + 1\n",
    "        line += \" \" + \", \".join([f\"{v} {k}\" + (\"s\" if v > 1 else \"\") for k, v in counts.items()])\n",
    "\n",
    "    line += f\", {result.speed['inference']:.1f}ms\"\n",
    "    print(line)\n",
    "\n",
    "# Print where results are saved\n",
    "print(f\"\\nResults saved to {model.predictor.save_dir}\")\n",
    "print(f\"Labels saved to {model.predictor.save_dir}/labels\")\n"
   ]
  },
  {
   "cell_type": "code",
   "execution_count": 11,
   "id": "d58d6706",
   "metadata": {},
   "outputs": [
    {
     "name": "stdout",
     "output_type": "stream",
     "text": [
      "\n",
      "✅ Safe merging completed! Output saved to: runs/detect/hybrid_kitti1/labels\n"
     ]
    }
   ],
   "source": [
    "import os\n",
    "import numpy as np\n",
    "\n",
    "# Define paths\n",
    "yolov5_results = \"runs/detect/predict14/labels\"\n",
    "yolov8_results = \"runs/detect/predict12/labels\"\n",
    "merged_results = \"runs/detect/hybrid_kitti1/labels\"\n",
    "\n",
    "# Create directory\n",
    "os.makedirs(merged_results, exist_ok=True)\n",
    "\n",
    "for file in os.listdir(yolov5_results):\n",
    "    yolov5_path = os.path.join(yolov5_results, file)\n",
    "    yolov8_path = os.path.join(yolov8_results, file)\n",
    "\n",
    "    # Load YOLOv5 data\n",
    "    yolov5_data = np.loadtxt(yolov5_path, ndmin=2) if os.path.exists(yolov5_path) else np.empty((0, 6))\n",
    "    \n",
    "    # If YOLOv5 has 5 columns, pad with dummy confidence\n",
    "    if yolov5_data.shape[1] == 5:\n",
    "        yolov5_data = np.hstack((yolov5_data, np.ones((yolov5_data.shape[0], 1))))\n",
    "\n",
    "    # Load YOLOv8 data\n",
    "    yolov8_data = np.loadtxt(yolov8_path, ndmin=2) if os.path.exists(yolov8_path) else np.empty((0, 6))\n",
    "\n",
    "    # If YOLOv8 has 5 columns, pad with dummy confidence\n",
    "    if yolov8_data.shape[1] == 5:\n",
    "        yolov8_data = np.hstack((yolov8_data, np.ones((yolov8_data.shape[0], 1))))\n",
    "\n",
    "    # Final merge\n",
    "    merged_data = np.vstack((yolov5_data, yolov8_data))\n",
    "\n",
    "    # Save\n",
    "    np.savetxt(os.path.join(merged_results, file), merged_data, fmt=\"%.6f\")\n",
    "\n",
    "print(\"\\n✅ Safe merging completed! Output saved to:\", merged_results)\n"
   ]
  },
  {
   "cell_type": "code",
   "execution_count": 12,
   "id": "ccb826d6",
   "metadata": {},
   "outputs": [],
   "source": [
    "#testing dataset metrics"
   ]
  },
  {
   "cell_type": "code",
   "execution_count": 13,
   "id": "f59d2a3d",
   "metadata": {},
   "outputs": [
    {
     "name": "stdout",
     "output_type": "stream",
     "text": [
      "✅ Precision: 0.4157\n",
      "✅ Recall:    0.8043\n",
      "✅ F1 Score:  0.5481\n"
     ]
    }
   ],
   "source": [
    "import os\n",
    "import glob\n",
    "import numpy as np\n",
    "from sklearn.metrics import average_precision_score\n",
    "\n",
    "# Define paths\n",
    "ground_truth_path = r\"D:\\majorproj\\kitti_hyb\\labels\\test\"\n",
    "predicted_path = r\"runs\\detect\\hybrid_kitti1\\labels\"\n",
    "\n",
    "\n",
    "TP, FP, FN = 0, 0, 0\n",
    "IoU_thresholds = np.linspace(0.5, 0.95, 10)\n",
    "\n",
    "y_true_all = []\n",
    "y_score_all = []\n",
    "\n",
    "def compute_iou(box1, box2):\n",
    "    x1, y1, w1, h1 = box1[1:5]\n",
    "    x2, y2, w2, h2 = box2[1:5]\n",
    "\n",
    "    box1 = [x1 - w1/2, y1 - h1/2, x1 + w1/2, y1 + h1/2]\n",
    "    box2 = [x2 - w2/2, y2 - h2/2, x2 + w2/2, y2 + h2/2]\n",
    "\n",
    "    xi1, yi1 = max(box1[0], box2[0]), max(box1[1], box2[1])\n",
    "    xi2, yi2 = min(box1[2], box2[2]), min(box1[3], box2[3])\n",
    "\n",
    "    inter_area = max(0, xi2 - xi1) * max(0, yi2 - yi1)\n",
    "    union_area = (box1[2]-box1[0]) * (box1[3]-box1[1]) + (box2[2]-box2[0]) * (box2[3]-box2[1]) - inter_area\n",
    "\n",
    "    return inter_area / union_area if union_area else 0\n",
    "\n",
    "for gt_file in glob.glob(f\"{ground_truth_path}/*.txt\"):\n",
    "    file_name = os.path.basename(gt_file)\n",
    "    gt_boxes = np.loadtxt(gt_file)\n",
    "    pred_boxes_path = f\"{predicted_path}/{file_name}\"\n",
    "\n",
    "    if gt_boxes.ndim == 1:\n",
    "        gt_boxes = gt_boxes.reshape(1, -1)\n",
    "\n",
    "    if not os.path.exists(pred_boxes_path):\n",
    "        FN += len(gt_boxes)\n",
    "        y_true_all.extend([1] * len(gt_boxes))\n",
    "        y_score_all.extend([0] * len(gt_boxes))\n",
    "        continue\n",
    "\n",
    "    pred_boxes = np.loadtxt(pred_boxes_path)\n",
    "    if pred_boxes.ndim == 1:\n",
    "        pred_boxes = pred_boxes.reshape(1, -1)\n",
    "\n",
    "    # Filter low confidence predictions\n",
    "    pred_boxes = pred_boxes[pred_boxes[:, -1] >= 0.25]\n",
    "    matched = []\n",
    "\n",
    "    for gt_box in gt_boxes:\n",
    "        best_iou, best_idx = 0, -1\n",
    "        for i, pred_box in enumerate(pred_boxes):\n",
    "            if i in matched:\n",
    "                continue\n",
    "            if int(gt_box[0]) != int(pred_box[0]):\n",
    "                continue\n",
    "            iou = compute_iou(gt_box, pred_box)\n",
    "            if iou > best_iou:\n",
    "                best_iou = iou\n",
    "                best_idx = i\n",
    "\n",
    "        if best_iou >= 0.5:\n",
    "            TP += 1\n",
    "            matched.append(best_idx)\n",
    "            y_true_all.append(1)\n",
    "            y_score_all.append(pred_boxes[best_idx][-1])\n",
    "        else:\n",
    "            FN += 1\n",
    "            y_true_all.append(1)\n",
    "            y_score_all.append(0)\n",
    "\n",
    "    unmatched_indices = [i for i in range(len(pred_boxes)) if i not in matched]\n",
    "    FP += len(unmatched_indices)\n",
    "    y_true_all.extend([0] * len(unmatched_indices))\n",
    "    if unmatched_indices:\n",
    "        y_score_all.extend(pred_boxes[unmatched_indices, -1])\n",
    "\n",
    "# Metrics\n",
    "precision = TP / (TP + FP) if (TP + FP) else 0\n",
    "recall = TP / (TP + FN) if (TP + FN) else 0\n",
    "f1_score = 2 * (precision * recall) / (precision + recall) if (precision + recall) else 0\n",
    "mAP_50 = average_precision_score(y_true_all, y_score_all) if y_true_all else 0\n",
    "mAP_50_95 = np.mean([average_precision_score(y_true_all, y_score_all) for _ in IoU_thresholds]) if y_true_all else 0\n",
    "\n",
    "print(f\"✅ Precision: {precision:.4f}\")\n",
    "print(f\"✅ Recall:    {recall:.4f}\")\n",
    "print(f\"✅ F1 Score:  {f1_score:.4f}\")\n",
    "\n",
    "\n"
   ]
  },
  {
   "cell_type": "code",
   "execution_count": 14,
   "id": "ddf09a81",
   "metadata": {},
   "outputs": [
    {
     "name": "stdout",
     "output_type": "stream",
     "text": [
      "\n",
      "✅ Evaluation Completed!\n",
      "📌 mAP@0.50     : 0.3344\n",
      "📌 mAP@0.50:0.95: 0.1912\n"
     ]
    }
   ],
   "source": [
    "import os\n",
    "import glob\n",
    "# Define paths\n",
    "ground_truth_path = r\"D:\\majorproj\\kitti_hyb\\labels\\test\"\n",
    "predicted_path = r\"runs\\detect\\hybrid_kitti1\\labels\"\n",
    "# Function to compute IoU\n",
    "def compute_iou(box1, box2):\n",
    "    x1, y1, w1, h1 = box1[1:5]\n",
    "    x2, y2, w2, h2 = box2[1:5]\n",
    "\n",
    "    box1 = [x1 - w1/2, y1 - h1/2, x1 + w1/2, y1 + h1/2]\n",
    "    box2 = [x2 - w2/2, y2 - h2/2, x2 + w2/2, y2 + h2/2]\n",
    "\n",
    "    xi1, yi1 = max(box1[0], box2[0]), max(box1[1], box2[1])\n",
    "    xi2, yi2 = min(box1[2], box2[2]), min(box1[3], box2[3])\n",
    "    inter_area = max(0, xi2 - xi1) * max(0, yi2 - yi1)\n",
    "\n",
    "    box1_area = w1 * h1\n",
    "    box2_area = w2 * h2\n",
    "    union_area = box1_area + box2_area - inter_area\n",
    "\n",
    "    return inter_area / union_area if union_area else 0\n",
    "\n",
    "# Initialize\n",
    "AP_50 = []\n",
    "AP_50_95 = []\n",
    "IoU_thresholds = np.arange(0.5, 1.0, 0.05)\n",
    "\n",
    "# Loop over IoU thresholds\n",
    "for iou_thresh in IoU_thresholds:\n",
    "    TP_iou, FP_iou, FN_iou = 0, 0, 0\n",
    "\n",
    "    for gt_file in glob.glob(f\"{ground_truth_path}/*.txt\"):\n",
    "        file_name = os.path.basename(gt_file)\n",
    "        gt_boxes = np.loadtxt(gt_file, ndmin=2)\n",
    "\n",
    "        pred_file = os.path.join(predicted_path, file_name)\n",
    "        if not os.path.exists(pred_file):\n",
    "            #print(f\"[⚠️ Warning] Missing prediction: {file_name}\")\n",
    "            FN_iou += len(gt_boxes)\n",
    "            continue\n",
    "\n",
    "        pred_boxes = np.loadtxt(pred_file, ndmin=2)\n",
    "        matched = []\n",
    "\n",
    "        for gt_box in gt_boxes:\n",
    "            best_iou, best_pred_idx = 0, -1\n",
    "            for i, pred_box in enumerate(pred_boxes):\n",
    "                if i in matched or gt_box[0] != pred_box[0]:\n",
    "                    continue\n",
    "                iou = compute_iou(gt_box, pred_box)\n",
    "                if iou > best_iou:\n",
    "                    best_iou, best_pred_idx = iou, i\n",
    "            if best_iou >= iou_thresh:\n",
    "                TP_iou += 1\n",
    "                matched.append(best_pred_idx)\n",
    "            else:\n",
    "                FN_iou += 1\n",
    "\n",
    "        FP_iou += len(pred_boxes) - len(matched)\n",
    "\n",
    "    # Compute metrics\n",
    "    precision_iou = TP_iou / (TP_iou + FP_iou) if (TP_iou + FP_iou) else 0\n",
    "    recall_iou = TP_iou / (TP_iou + FN_iou) if (TP_iou + FN_iou) else 0\n",
    "    ap_iou = precision_iou * recall_iou if TP_iou else 0  # Simplified AP\n",
    "\n",
    "    if iou_thresh == 0.5:\n",
    "        AP_50.append(ap_iou)\n",
    "    AP_50_95.append(ap_iou)\n",
    "\n",
    "# Final mAP results\n",
    "mAP_50 = np.mean(AP_50)\n",
    "mAP_50_95 = np.mean(AP_50_95)\n",
    "\n",
    "# Print results\n",
    "print(\"\\n✅ Evaluation Completed!\")\n",
    "print(f\"📌 mAP@0.50     : {mAP_50:.4f}\")\n",
    "print(f\"📌 mAP@0.50:0.95: {mAP_50_95:.4f}\")\n"
   ]
  },
  {
   "cell_type": "code",
   "execution_count": 15,
   "id": "b4f1add1",
   "metadata": {
    "scrolled": true
   },
   "outputs": [
    {
     "name": "stdout",
     "output_type": "stream",
     "text": [
      "Requirement already satisfied: opencv-python in c:\\users\\bhavy\\anaconda32\\lib\\site-packages (4.9.0.80)\n",
      "Requirement already satisfied: torch in c:\\users\\bhavy\\anaconda32\\lib\\site-packages (2.2.2)\n",
      "Requirement already satisfied: torchvision in c:\\users\\bhavy\\anaconda32\\lib\\site-packages (0.17.2)\n",
      "Requirement already satisfied: timm in c:\\users\\bhavy\\anaconda32\\lib\\site-packages (1.0.15)\n",
      "Requirement already satisfied: numpy>=1.21.2 in c:\\users\\bhavy\\anaconda32\\lib\\site-packages (from opencv-python) (1.26.4)\n",
      "Requirement already satisfied: filelock in c:\\users\\bhavy\\anaconda32\\lib\\site-packages (from torch) (3.9.0)\n",
      "Requirement already satisfied: typing-extensions>=4.8.0 in c:\\users\\bhavy\\anaconda32\\lib\\site-packages (from torch) (4.12.2)\n",
      "Requirement already satisfied: sympy in c:\\users\\bhavy\\anaconda32\\lib\\site-packages (from torch) (1.11.1)\n",
      "Requirement already satisfied: networkx in c:\\users\\bhavy\\anaconda32\\lib\\site-packages (from torch) (3.1)\n",
      "Requirement already satisfied: jinja2 in c:\\users\\bhavy\\anaconda32\\lib\\site-packages (from torch) (3.1.2)\n",
      "Requirement already satisfied: fsspec in c:\\users\\bhavy\\anaconda32\\lib\\site-packages (from torch) (2023.4.0)\n",
      "Requirement already satisfied: pillow!=8.3.*,>=5.3.0 in c:\\users\\bhavy\\anaconda32\\lib\\site-packages (from torchvision) (11.1.0)\n",
      "Requirement already satisfied: pyyaml in c:\\users\\bhavy\\anaconda32\\lib\\site-packages (from timm) (6.0)\n",
      "Requirement already satisfied: huggingface_hub in c:\\users\\bhavy\\anaconda32\\lib\\site-packages (from timm) (0.15.1)\n",
      "Requirement already satisfied: safetensors in c:\\users\\bhavy\\anaconda32\\lib\\site-packages (from timm) (0.3.2)\n",
      "Requirement already satisfied: requests in c:\\users\\bhavy\\anaconda32\\lib\\site-packages (from huggingface_hub->timm) (2.32.3)\n",
      "Requirement already satisfied: tqdm>=4.42.1 in c:\\users\\bhavy\\anaconda32\\lib\\site-packages (from huggingface_hub->timm) (4.67.1)\n",
      "Requirement already satisfied: packaging>=20.9 in c:\\users\\bhavy\\anaconda32\\lib\\site-packages (from huggingface_hub->timm) (23.1)\n",
      "Requirement already satisfied: MarkupSafe>=2.0 in c:\\users\\bhavy\\anaconda32\\lib\\site-packages (from jinja2->torch) (2.1.1)\n",
      "Requirement already satisfied: mpmath>=0.19 in c:\\users\\bhavy\\anaconda32\\lib\\site-packages (from sympy->torch) (1.3.0)\n",
      "Requirement already satisfied: colorama in c:\\users\\bhavy\\anaconda32\\lib\\site-packages (from tqdm>=4.42.1->huggingface_hub->timm) (0.4.6)\n",
      "Requirement already satisfied: charset-normalizer<4,>=2 in c:\\users\\bhavy\\anaconda32\\lib\\site-packages (from requests->huggingface_hub->timm) (2.0.4)\n",
      "Requirement already satisfied: idna<4,>=2.5 in c:\\users\\bhavy\\anaconda32\\lib\\site-packages (from requests->huggingface_hub->timm) (3.7)\n",
      "Requirement already satisfied: urllib3<3,>=1.21.1 in c:\\users\\bhavy\\anaconda32\\lib\\site-packages (from requests->huggingface_hub->timm) (1.26.16)\n",
      "Requirement already satisfied: certifi>=2017.4.17 in c:\\users\\bhavy\\anaconda32\\lib\\site-packages (from requests->huggingface_hub->timm) (2024.2.2)\n",
      "Note: you may need to restart the kernel to use updated packages.\n"
     ]
    },
    {
     "name": "stderr",
     "output_type": "stream",
     "text": [
      "WARNING: Ignoring invalid distribution ~ip (C:\\Users\\bhavy\\AppData\\Roaming\\Python\\Python311\\site-packages)\n",
      "WARNING: Ignoring invalid distribution ~ip (C:\\Users\\bhavy\\AppData\\Roaming\\Python\\Python311\\site-packages)\n",
      "WARNING: Ignoring invalid distribution ~ip (C:\\Users\\bhavy\\AppData\\Roaming\\Python\\Python311\\site-packages)\n",
      "WARNING: Ignoring invalid distribution ~ip (C:\\Users\\bhavy\\AppData\\Roaming\\Python\\Python311\\site-packages)\n",
      "WARNING: Ignoring invalid distribution ~ip (C:\\Users\\bhavy\\AppData\\Roaming\\Python\\Python311\\site-packages)\n"
     ]
    }
   ],
   "source": [
    "pip install opencv-python torch torchvision timm\n"
   ]
  },
  {
   "cell_type": "code",
   "execution_count": 16,
   "id": "cd87d3e3",
   "metadata": {},
   "outputs": [
    {
     "name": "stderr",
     "output_type": "stream",
     "text": [
      "Using cache found in C:\\Users\\bhavy/.cache\\torch\\hub\\intel-isl_MiDaS_master\n"
     ]
    },
    {
     "name": "stdout",
     "output_type": "stream",
     "text": [
      "Loading weights:  None\n"
     ]
    },
    {
     "name": "stderr",
     "output_type": "stream",
     "text": [
      "Using cache found in C:\\Users\\bhavy/.cache\\torch\\hub\\rwightman_gen-efficientnet-pytorch_master\n"
     ]
    }
   ],
   "source": [
    "import torch\n",
    "import cv2\n",
    "import numpy as np\n",
    "from torchvision.transforms import Compose, Resize, ToTensor\n",
    "from PIL import Image\n",
    "import matplotlib.pyplot as plt\n",
    "import glob\n",
    "import os\n",
    "\n",
    "# ✅ Load MiDaS model and transforms\n",
    "midas = torch.hub.load(\"intel-isl/MiDaS\", \"MiDaS_small\")\n",
    "midas.eval()\n",
    "device = torch.device(\"cuda\" if torch.cuda.is_available() else \"cpu\")\n",
    "midas.to(device)\n",
    "\n",
    "# ✅ Transformation for MiDaS\n",
    "transform = Compose([\n",
    "    Resize((384, 384)),\n",
    "    ToTensor()\n",
    "])\n",
    "\n",
    "# ✅ Paths\n",
    "image_folder = r\"D:\\majorproj\\kitti_hyb\\images\\test\"\n",
    "label_folder = r\"runs\\detect\\hybrid_kitti1\\labels\"\n",
    "output_folder = r\"C:\\Users\\bhavy\\yolov5\\runs\\detect\\hybrid_kitti1\\distancess\"\n",
    "os.makedirs(output_folder, exist_ok=True)\n",
    "\n",
    "# ✅ Scaling factor for visualization (not real-world distance)\n",
    "SCALING_FACTOR = 10\n",
    "\n",
    "# ✅ Loop through images\n",
    "for image_path in glob.glob(f\"{image_folder}/*.jpg\"):\n",
    "    file_name = os.path.basename(image_path).replace(\".jpg\", \".txt\")\n",
    "    label_path = os.path.join(label_folder, file_name)\n",
    "\n",
    "    # ✅ Load image\n",
    "    image_pil = Image.open(image_path).convert(\"RGB\")\n",
    "    image_cv = cv2.imread(image_path)\n",
    "\n",
    "    # ✅ Depth estimation input\n",
    "    input_tensor = transform(image_pil).unsqueeze(0).to(device)\n",
    "\n",
    "    # ✅ Predict depth\n",
    "    with torch.no_grad():\n",
    "        prediction = midas(input_tensor)\n",
    "\n",
    "    depth_map = prediction.squeeze().cpu().numpy()\n",
    "    depth_map = cv2.resize(depth_map, (image_cv.shape[1], image_cv.shape[0]))\n",
    "\n",
    "    # ✅ Debug depth map stats\n",
    "    print(f\"✅ Depth map stats for {os.path.basename(image_path)}: min={depth_map.min():.4f}, max={depth_map.max():.4f}\")\n",
    "    if abs(depth_map.max() - depth_map.min()) < 1e-3:\n",
    "        print(\"❌ Depth map is nearly flat. Skipping image.\")\n",
    "        continue\n",
    "\n",
    "    # ✅ Normalize depth map\n",
    "    depth_min, depth_max = depth_map.min(), depth_map.max()\n",
    "    depth_vis = (depth_map - depth_min) / (depth_max - depth_min)  # for visualization\n",
    "    depth_map = depth_vis * SCALING_FACTOR  # scale for estimation\n",
    "\n",
    "    # ✅ Check label existence\n",
    "    if not os.path.exists(label_path):\n",
    "        print(f\"⚠️ No label found for: {file_name}, skipping...\")\n",
    "        continue\n",
    "\n",
    "    # ✅ Load YOLO labels\n",
    "    yolo_results = np.loadtxt(label_path)\n",
    "    if yolo_results.ndim == 1:\n",
    "        yolo_results = yolo_results.reshape(1, -1)\n",
    "\n",
    "    for detection in yolo_results:\n",
    "        if len(detection) == 6:\n",
    "            class_id, x, y, w, h, conf = detection  # With confidence\n",
    "        elif len(detection) == 5:\n",
    "            class_id, x, y, w, h = detection        # No confidence\n",
    "        else:\n",
    "            print(f\"❌ Invalid label format in: {file_name}, skipping object.\")\n",
    "            continue\n",
    "\n",
    "        # Convert YOLO to pixel coordinates\n",
    "        x_min = int((x - w / 2) * image_cv.shape[1])\n",
    "        y_min = int((y - h / 2) * image_cv.shape[0])\n",
    "        x_max = int((x + w / 2) * image_cv.shape[1])\n",
    "        y_max = int((y + h / 2) * image_cv.shape[0])\n",
    "\n",
    "        # Clip to image\n",
    "        x_min, y_min = max(0, x_min), max(0, y_min)\n",
    "        x_max, y_max = min(image_cv.shape[1] - 1, x_max), min(image_cv.shape[0] - 1, y_max)\n",
    "\n",
    "        # ✅ Compute depth from depth map\n",
    "        if y_max > y_min and x_max > x_min:\n",
    "            box_depth = depth_map[y_min:y_max, x_min:x_max]\n",
    "            object_depth = np.median(box_depth)\n",
    "            print(f\"📌 Object {int(class_id)} → Box: ({x_min},{y_min})-({x_max},{y_max}) | Depth: {object_depth:.2f}m\")\n",
    "        else:\n",
    "            object_depth = 0\n",
    "            print(\"❌ Invalid box dimensions\")\n",
    "\n",
    "        # ✅ Draw and annotate\n",
    "        cv2.rectangle(image_cv, (x_min, y_min), (x_max, y_max), (0, 255, 0), 2)\n",
    "        cv2.putText(image_cv, f\"Dist: {object_depth:.2f}m\", (x_min, y_min - 10),\n",
    "                    cv2.FONT_HERSHEY_SIMPLEX, 0.6, (0, 255, 0), 2)\n",
    "\n",
    "    # ✅ Save annotated image\n",
    "    output_path = os.path.join(output_folder, os.path.basename(image_path))\n",
    "    cv2.imwrite(output_path, image_cv)\n",
    "\n",
    "    # ✅ Show result and depth map\n",
    "    plt.figure(figsize=(12, 5))\n",
    "    plt.subplot(1, 2, 1)\n",
    "    plt.imshow(cv2.cvtColor(image_cv, cv2.COLOR_BGR2RGB))\n",
    "    plt.title(\"Detection + Estimated Distance\")\n",
    "    plt.axis(\"off\")\n",
    "\n",
    "    plt.subplot(1, 2, 2)\n",
    "    plt.imshow(depth_vis, cmap=\"inferno\")\n",
    "    plt.colorbar()\n",
    "    plt.title(\"Depth Map\")\n",
    "    plt.axis(\"off\")\n",
    "    plt.show()\n"
   ]
  },
  {
   "cell_type": "code",
   "execution_count": 17,
   "id": "08a63ee3",
   "metadata": {},
   "outputs": [],
   "source": [
    "#testing data distances "
   ]
  },
  {
   "cell_type": "code",
   "execution_count": 18,
   "id": "409ca2d9",
   "metadata": {},
   "outputs": [
    {
     "name": "stderr",
     "output_type": "stream",
     "text": [
      "Using cache found in C:\\Users\\bhavy/.cache\\torch\\hub\\intel-isl_MiDaS_master\n",
      "Using cache found in C:\\Users\\bhavy/.cache\\torch\\hub\\intel-isl_MiDaS_master\n"
     ]
    },
    {
     "name": "stdout",
     "output_type": "stream",
     "text": [
      "Processed and saved: C:\\Users\\bhavy\\yolov5\\runs\\detect\\hybrid_kitti1\\distancess\\000012.png\n",
      "Processed and saved: C:\\Users\\bhavy\\yolov5\\runs\\detect\\hybrid_kitti1\\distancess\\000030.png\n",
      "Processed and saved: C:\\Users\\bhavy\\yolov5\\runs\\detect\\hybrid_kitti1\\distancess\\000044.png\n",
      "Processed and saved: C:\\Users\\bhavy\\yolov5\\runs\\detect\\hybrid_kitti1\\distancess\\000071.png\n",
      "Processed and saved: C:\\Users\\bhavy\\yolov5\\runs\\detect\\hybrid_kitti1\\distancess\\000086.png\n",
      "Processed and saved: C:\\Users\\bhavy\\yolov5\\runs\\detect\\hybrid_kitti1\\distancess\\000098.png\n",
      "Processed and saved: C:\\Users\\bhavy\\yolov5\\runs\\detect\\hybrid_kitti1\\distancess\\000105.png\n",
      "Processed and saved: C:\\Users\\bhavy\\yolov5\\runs\\detect\\hybrid_kitti1\\distancess\\000122.png\n",
      "Processed and saved: C:\\Users\\bhavy\\yolov5\\runs\\detect\\hybrid_kitti1\\distancess\\000129.png\n",
      "Processed and saved: C:\\Users\\bhavy\\yolov5\\runs\\detect\\hybrid_kitti1\\distancess\\000136.png\n",
      "Processed and saved: C:\\Users\\bhavy\\yolov5\\runs\\detect\\hybrid_kitti1\\distancess\\000140.png\n",
      "Processed and saved: C:\\Users\\bhavy\\yolov5\\runs\\detect\\hybrid_kitti1\\distancess\\000155.png\n",
      "Processed and saved: C:\\Users\\bhavy\\yolov5\\runs\\detect\\hybrid_kitti1\\distancess\\000159.png\n",
      "Processed and saved: C:\\Users\\bhavy\\yolov5\\runs\\detect\\hybrid_kitti1\\distancess\\000164.png\n",
      "Processed and saved: C:\\Users\\bhavy\\yolov5\\runs\\detect\\hybrid_kitti1\\distancess\\000165.png\n",
      "Processed and saved: C:\\Users\\bhavy\\yolov5\\runs\\detect\\hybrid_kitti1\\distancess\\000192.png\n",
      "Processed and saved: C:\\Users\\bhavy\\yolov5\\runs\\detect\\hybrid_kitti1\\distancess\\000204.png\n",
      "Processed and saved: C:\\Users\\bhavy\\yolov5\\runs\\detect\\hybrid_kitti1\\distancess\\000253.png\n",
      "Processed and saved: C:\\Users\\bhavy\\yolov5\\runs\\detect\\hybrid_kitti1\\distancess\\000255.png\n",
      "Processed and saved: C:\\Users\\bhavy\\yolov5\\runs\\detect\\hybrid_kitti1\\distancess\\000262.png\n",
      "Processed and saved: C:\\Users\\bhavy\\yolov5\\runs\\detect\\hybrid_kitti1\\distancess\\000277.png\n",
      "Processed and saved: C:\\Users\\bhavy\\yolov5\\runs\\detect\\hybrid_kitti1\\distancess\\000279.png\n",
      "Processed and saved: C:\\Users\\bhavy\\yolov5\\runs\\detect\\hybrid_kitti1\\distancess\\000281.png\n",
      "Processed and saved: C:\\Users\\bhavy\\yolov5\\runs\\detect\\hybrid_kitti1\\distancess\\000294.png\n"
     ]
    }
   ],
   "source": [
    "import cv2\n",
    "import os\n",
    "# ✅ Paths\n",
    "image_folder = r\"D:\\majorproj\\kitti_hyb\\images\\test\"\n",
    "label_folder = r\"runs\\detect\\hybrid_kitti1\\labels\"\n",
    "output_folder = r\"C:\\Users\\bhavy\\yolov5\\runs\\detect\\hybrid_kitti1\\distancess\"\n",
    "\n",
    "import torch\n",
    "import cv2\n",
    "import numpy as np\n",
    "import os\n",
    "\n",
    "# Load MiDaS depth estimation model\n",
    "midas = torch.hub.load(\"intel-isl/MiDaS\", \"DPT_Large\")  # 'DPT_Large' for better accuracy\n",
    "midas.eval()\n",
    "device = torch.device(\"cuda\" if torch.cuda.is_available() else \"cpu\")\n",
    "midas.to(device)\n",
    "\n",
    "# Load MiDaS transforms\n",
    "transforms = torch.hub.load(\"intel-isl/MiDaS\", \"transforms\")\n",
    "transform = transforms.dpt_transform\n",
    "\n",
    "def estimate_depth(image):\n",
    "    \"\"\"Estimate depth using MiDaS.\"\"\"\n",
    "    img = cv2.cvtColor(image, cv2.COLOR_BGR2RGB)\n",
    "    img = transform(img).to(device)\n",
    "    \n",
    "    with torch.no_grad():\n",
    "        prediction = midas(img)\n",
    "        depth_map = prediction.squeeze().cpu().numpy()\n",
    "    \n",
    "    # Normalize depth values\n",
    "    depth_map = (depth_map - depth_map.min()) / (depth_map.max() - depth_map.min())\n",
    "    return depth_map\n",
    "\n",
    "def estimate_distance(bbox, depth_map):\n",
    "    \"\"\"Estimate real-world distance using depth estimation model.\"\"\"\n",
    "    x1, y1, x2, y2 = bbox\n",
    "    bbox_depth = depth_map[y1:y2, x1:x2]\n",
    "    avg_depth = np.mean(bbox_depth)\n",
    "    estimated_distance = avg_depth * 80  # Scaling factor (adjust as needed)\n",
    "    return round(estimated_distance, 2)\n",
    "\n",
    "def read_yolo_labels(label_path, image_width, image_height):\n",
    "    boxes = []\n",
    "    with open(label_path, \"r\") as file:\n",
    "        for line in file.readlines():\n",
    "            parts = line.strip().split()\n",
    "            \n",
    "            # Ensure we have at least 5 values (class, x_center, y_center, width, height)\n",
    "            if len(parts) < 5:\n",
    "                print(f\"⚠️ Skipping invalid label format in {label_path}: {line.strip()}\")\n",
    "                continue\n",
    "\n",
    "            # Convert first 5 values, ignore extra ones (e.g., confidence scores)\n",
    "            try:\n",
    "                class_id = int(float(parts[0]))  # Ensure class ID is an integer\n",
    "                x_center, y_center, width, height = map(float, parts[1:5])\n",
    "            except ValueError:\n",
    "                print(f\"⚠️ Error parsing values in {label_path}: {line.strip()}\")\n",
    "                continue\n",
    "\n",
    "            # Convert YOLO format to pixel coordinates\n",
    "            x1 = int((x_center - width / 2) * image_width)\n",
    "            y1 = int((y_center - height / 2) * image_height)\n",
    "            x2 = int((x_center + width / 2) * image_width)\n",
    "            y2 = int((y_center + height / 2) * image_height)\n",
    "\n",
    "            boxes.append({\"class_id\": class_id, \"bbox\": (x1, y1, x2, y2)})\n",
    "\n",
    "    return boxes\n",
    "\n",
    "\n",
    "import cv2\n",
    "import numpy as np\n",
    "import os\n",
    "\n",
    "def draw_bounding_boxes(image, detections, distances):\n",
    "    for det, distance in zip(detections, distances):\n",
    "        x1, y1, x2, y2 = det[\"bbox\"]\n",
    "\n",
    "        # Skip objects with NaN distances\n",
    "        if np.isnan(distance):\n",
    "            continue  \n",
    "\n",
    "        label = f\"Dist: {distance:.2f}m\"\n",
    "        color = (0, 255, 0)  # Green\n",
    "        thickness = 2\n",
    "\n",
    "        # Draw bounding box\n",
    "        cv2.rectangle(image, (x1, y1), (x2, y2), color, thickness)\n",
    "\n",
    "        # Draw text above the bounding box\n",
    "        font_scale = 0.7\n",
    "        font_thickness = 2\n",
    "        text_size = cv2.getTextSize(label, cv2.FONT_HERSHEY_SIMPLEX, font_scale, font_thickness)[0]\n",
    "        text_x, text_y = x1, max(y1 - 10, 10)\n",
    "        cv2.rectangle(image, (text_x, text_y - text_size[1] - 5), (text_x + text_size[0] + 5, text_y), color, -1)\n",
    "        cv2.putText(image, label, (text_x, text_y - 2), cv2.FONT_HERSHEY_SIMPLEX, font_scale, (0, 0, 0), font_thickness)\n",
    "\n",
    "    return image\n",
    "\n",
    "def process_images(image_folder, label_folder, output_folder):\n",
    "    os.makedirs(output_folder, exist_ok=True)\n",
    "\n",
    "    for image_file in os.listdir(image_folder):\n",
    "        if not image_file.endswith((\".jpg\", \".png\")):\n",
    "            continue\n",
    "\n",
    "        image_path = os.path.join(image_folder, image_file)\n",
    "        label_path = os.path.join(label_folder, os.path.splitext(image_file)[0] + \".txt\")\n",
    "\n",
    "        image = cv2.imread(image_path)\n",
    "        if image is None:\n",
    "            continue\n",
    "\n",
    "        image_height, image_width, _ = image.shape\n",
    "        depth_map = estimate_depth(image)  # Ensure this function returns a valid depth map\n",
    "\n",
    "        if os.path.exists(label_path):\n",
    "            detections = read_yolo_labels(label_path, image_width, image_height)\n",
    "            distances = []\n",
    "\n",
    "            for det in detections:\n",
    "                x1, y1, x2, y2 = det[\"bbox\"]\n",
    "                depth_crop = depth_map[y1:y2, x1:x2]\n",
    "                \n",
    "                # Compute average depth, handle NaNs\n",
    "                avg_depth = np.nanmean(depth_crop)\n",
    "                distances.append(avg_depth)\n",
    "\n",
    "            # Draw only valid bounding boxes\n",
    "            image = draw_bounding_boxes(image, detections, distances)\n",
    "\n",
    "        output_path = os.path.join(output_folder, image_file)\n",
    "        cv2.imwrite(output_path, image)\n",
    "        print(f\"Processed and saved: {output_path}\")\n",
    "\n",
    "\n",
    "\n",
    "\n",
    "# Run the processing pipeline\n",
    "process_images(image_folder, label_folder, output_folder)\n"
   ]
  },
  {
   "cell_type": "code",
   "execution_count": 19,
   "id": "ca907198",
   "metadata": {},
   "outputs": [
    {
     "name": "stderr",
     "output_type": "stream",
     "text": [
      "Using cache found in C:\\Users\\bhavy/.cache\\torch\\hub\\intel-isl_MiDaS_master\n",
      "Using cache found in C:\\Users\\bhavy/.cache\\torch\\hub\\intel-isl_MiDaS_master\n"
     ]
    },
    {
     "name": "stdout",
     "output_type": "stream",
     "text": [
      "Processed and saved: C:\\Users\\bhavy\\yolov5\\runs\\detect\\hybrid_kitti1\\distancess_val\\000001.png\n",
      "Processed and saved: C:\\Users\\bhavy\\yolov5\\runs\\detect\\hybrid_kitti1\\distancess_val\\000004.png\n",
      "Processed and saved: C:\\Users\\bhavy\\yolov5\\runs\\detect\\hybrid_kitti1\\distancess_val\\000020.png\n",
      "Processed and saved: C:\\Users\\bhavy\\yolov5\\runs\\detect\\hybrid_kitti1\\distancess_val\\000021.png\n",
      "Processed and saved: C:\\Users\\bhavy\\yolov5\\runs\\detect\\hybrid_kitti1\\distancess_val\\000024.png\n",
      "Processed and saved: C:\\Users\\bhavy\\yolov5\\runs\\detect\\hybrid_kitti1\\distancess_val\\000029.png\n",
      "Processed and saved: C:\\Users\\bhavy\\yolov5\\runs\\detect\\hybrid_kitti1\\distancess_val\\000032.png\n",
      "Processed and saved: C:\\Users\\bhavy\\yolov5\\runs\\detect\\hybrid_kitti1\\distancess_val\\000046.png\n",
      "Processed and saved: C:\\Users\\bhavy\\yolov5\\runs\\detect\\hybrid_kitti1\\distancess_val\\000047.png\n",
      "Processed and saved: C:\\Users\\bhavy\\yolov5\\runs\\detect\\hybrid_kitti1\\distancess_val\\000062.png\n",
      "Processed and saved: C:\\Users\\bhavy\\yolov5\\runs\\detect\\hybrid_kitti1\\distancess_val\\000067.png\n",
      "Processed and saved: C:\\Users\\bhavy\\yolov5\\runs\\detect\\hybrid_kitti1\\distancess_val\\000072.png\n",
      "Processed and saved: C:\\Users\\bhavy\\yolov5\\runs\\detect\\hybrid_kitti1\\distancess_val\\000078.png\n",
      "Processed and saved: C:\\Users\\bhavy\\yolov5\\runs\\detect\\hybrid_kitti1\\distancess_val\\000081.png\n",
      "Processed and saved: C:\\Users\\bhavy\\yolov5\\runs\\detect\\hybrid_kitti1\\distancess_val\\000083.png\n",
      "Processed and saved: C:\\Users\\bhavy\\yolov5\\runs\\detect\\hybrid_kitti1\\distancess_val\\000109.png\n",
      "Processed and saved: C:\\Users\\bhavy\\yolov5\\runs\\detect\\hybrid_kitti1\\distancess_val\\000110.png\n",
      "Processed and saved: C:\\Users\\bhavy\\yolov5\\runs\\detect\\hybrid_kitti1\\distancess_val\\000113.png\n",
      "Processed and saved: C:\\Users\\bhavy\\yolov5\\runs\\detect\\hybrid_kitti1\\distancess_val\\000114.png\n",
      "Processed and saved: C:\\Users\\bhavy\\yolov5\\runs\\detect\\hybrid_kitti1\\distancess_val\\000115.png\n",
      "Processed and saved: C:\\Users\\bhavy\\yolov5\\runs\\detect\\hybrid_kitti1\\distancess_val\\000120.png\n",
      "Processed and saved: C:\\Users\\bhavy\\yolov5\\runs\\detect\\hybrid_kitti1\\distancess_val\\000135.png\n",
      "Processed and saved: C:\\Users\\bhavy\\yolov5\\runs\\detect\\hybrid_kitti1\\distancess_val\\000144.png\n",
      "Processed and saved: C:\\Users\\bhavy\\yolov5\\runs\\detect\\hybrid_kitti1\\distancess_val\\000146.png\n",
      "Processed and saved: C:\\Users\\bhavy\\yolov5\\runs\\detect\\hybrid_kitti1\\distancess_val\\000153.png\n",
      "Processed and saved: C:\\Users\\bhavy\\yolov5\\runs\\detect\\hybrid_kitti1\\distancess_val\\000161.png\n",
      "Processed and saved: C:\\Users\\bhavy\\yolov5\\runs\\detect\\hybrid_kitti1\\distancess_val\\000171.png\n",
      "Processed and saved: C:\\Users\\bhavy\\yolov5\\runs\\detect\\hybrid_kitti1\\distancess_val\\000174.png\n",
      "Processed and saved: C:\\Users\\bhavy\\yolov5\\runs\\detect\\hybrid_kitti1\\distancess_val\\000180.png\n",
      "Processed and saved: C:\\Users\\bhavy\\yolov5\\runs\\detect\\hybrid_kitti1\\distancess_val\\000181.png\n",
      "Processed and saved: C:\\Users\\bhavy\\yolov5\\runs\\detect\\hybrid_kitti1\\distancess_val\\000182.png\n",
      "Processed and saved: C:\\Users\\bhavy\\yolov5\\runs\\detect\\hybrid_kitti1\\distancess_val\\000184.png\n",
      "Processed and saved: C:\\Users\\bhavy\\yolov5\\runs\\detect\\hybrid_kitti1\\distancess_val\\000187.png\n",
      "Processed and saved: C:\\Users\\bhavy\\yolov5\\runs\\detect\\hybrid_kitti1\\distancess_val\\000200.png\n",
      "Processed and saved: C:\\Users\\bhavy\\yolov5\\runs\\detect\\hybrid_kitti1\\distancess_val\\000202.png\n",
      "Processed and saved: C:\\Users\\bhavy\\yolov5\\runs\\detect\\hybrid_kitti1\\distancess_val\\000206.png\n",
      "Processed and saved: C:\\Users\\bhavy\\yolov5\\runs\\detect\\hybrid_kitti1\\distancess_val\\000210.png\n",
      "Processed and saved: C:\\Users\\bhavy\\yolov5\\runs\\detect\\hybrid_kitti1\\distancess_val\\000220.png\n",
      "Processed and saved: C:\\Users\\bhavy\\yolov5\\runs\\detect\\hybrid_kitti1\\distancess_val\\000226.png\n",
      "Processed and saved: C:\\Users\\bhavy\\yolov5\\runs\\detect\\hybrid_kitti1\\distancess_val\\000235.png\n",
      "Processed and saved: C:\\Users\\bhavy\\yolov5\\runs\\detect\\hybrid_kitti1\\distancess_val\\000242.png\n",
      "Processed and saved: C:\\Users\\bhavy\\yolov5\\runs\\detect\\hybrid_kitti1\\distancess_val\\000249.png\n",
      "Processed and saved: C:\\Users\\bhavy\\yolov5\\runs\\detect\\hybrid_kitti1\\distancess_val\\000264.png\n",
      "Processed and saved: C:\\Users\\bhavy\\yolov5\\runs\\detect\\hybrid_kitti1\\distancess_val\\000269.png\n",
      "Processed and saved: C:\\Users\\bhavy\\yolov5\\runs\\detect\\hybrid_kitti1\\distancess_val\\000284.png\n",
      "Processed and saved: C:\\Users\\bhavy\\yolov5\\runs\\detect\\hybrid_kitti1\\distancess_val\\000293.png\n"
     ]
    }
   ],
   "source": [
    "import cv2\n",
    "import os\n",
    "\n",
    "\n",
    "import torch\n",
    "import cv2\n",
    "import numpy as np\n",
    "import os\n",
    "\n",
    "# Load MiDaS depth estimation model\n",
    "midas = torch.hub.load(\"intel-isl/MiDaS\", \"DPT_Large\")  # 'DPT_Large' for better accuracy\n",
    "midas.eval()\n",
    "device = torch.device(\"cuda\" if torch.cuda.is_available() else \"cpu\")\n",
    "midas.to(device)\n",
    "\n",
    "# Load MiDaS transforms\n",
    "transforms = torch.hub.load(\"intel-isl/MiDaS\", \"transforms\")\n",
    "transform = transforms.dpt_transform\n",
    "\n",
    "def estimate_depth(image):\n",
    "    \"\"\"Estimate depth using MiDaS.\"\"\"\n",
    "    img = cv2.cvtColor(image, cv2.COLOR_BGR2RGB)\n",
    "    img = transform(img).to(device)\n",
    "    \n",
    "    with torch.no_grad():\n",
    "        prediction = midas(img)\n",
    "        depth_map = prediction.squeeze().cpu().numpy()\n",
    "    \n",
    "    # Normalize depth values\n",
    "    depth_map = (depth_map - depth_map.min()) / (depth_map.max() - depth_map.min())\n",
    "    return depth_map\n",
    "\n",
    "def estimate_distance(bbox, depth_map):\n",
    "    \"\"\"Estimate real-world distance using depth estimation model.\"\"\"\n",
    "    x1, y1, x2, y2 = bbox\n",
    "    bbox_depth = depth_map[y1:y2, x1:x2]\n",
    "    avg_depth = np.mean(bbox_depth)\n",
    "    estimated_distance = avg_depth * 80  # Scaling factor (adjust as needed)\n",
    "    return round(estimated_distance, 2)\n",
    "\n",
    "def read_yolo_labels(label_path, image_width, image_height):\n",
    "    boxes = []\n",
    "    with open(label_path, \"r\") as file:\n",
    "        for line in file.readlines():\n",
    "            parts = line.strip().split()\n",
    "            \n",
    "            # Ensure we have at least 5 values (class, x_center, y_center, width, height)\n",
    "            if len(parts) < 5:\n",
    "                print(f\"⚠️ Skipping invalid label format in {label_path}: {line.strip()}\")\n",
    "                continue\n",
    "\n",
    "            # Convert first 5 values, ignore extra ones (e.g., confidence scores)\n",
    "            try:\n",
    "                class_id = int(float(parts[0]))  # Ensure class ID is an integer\n",
    "                x_center, y_center, width, height = map(float, parts[1:5])\n",
    "            except ValueError:\n",
    "                print(f\"⚠️ Error parsing values in {label_path}: {line.strip()}\")\n",
    "                continue\n",
    "\n",
    "            # Convert YOLO format to pixel coordinates\n",
    "            x1 = int((x_center - width / 2) * image_width)\n",
    "            y1 = int((y_center - height / 2) * image_height)\n",
    "            x2 = int((x_center + width / 2) * image_width)\n",
    "            y2 = int((y_center + height / 2) * image_height)\n",
    "\n",
    "            boxes.append({\"class_id\": class_id, \"bbox\": (x1, y1, x2, y2)})\n",
    "\n",
    "    return boxes\n",
    "\n",
    "\n",
    "import cv2\n",
    "import numpy as np\n",
    "import os\n",
    "\n",
    "def draw_bounding_boxes(image, detections, distances):\n",
    "    for det, distance in zip(detections, distances):\n",
    "        x1, y1, x2, y2 = det[\"bbox\"]\n",
    "\n",
    "        # Skip objects with NaN distances\n",
    "        if np.isnan(distance):\n",
    "            continue  \n",
    "\n",
    "        label = f\"Dist: {distance:.2f}m\"\n",
    "        color = (0, 255, 0)  # Green\n",
    "        thickness = 2\n",
    "\n",
    "        # Draw bounding box\n",
    "        cv2.rectangle(image, (x1, y1), (x2, y2), color, thickness)\n",
    "\n",
    "        # Draw text above the bounding box\n",
    "        font_scale = 0.7\n",
    "        font_thickness = 2\n",
    "        text_size = cv2.getTextSize(label, cv2.FONT_HERSHEY_SIMPLEX, font_scale, font_thickness)[0]\n",
    "        text_x, text_y = x1, max(y1 - 10, 10)\n",
    "        cv2.rectangle(image, (text_x, text_y - text_size[1] - 5), (text_x + text_size[0] + 5, text_y), color, -1)\n",
    "        cv2.putText(image, label, (text_x, text_y - 2), cv2.FONT_HERSHEY_SIMPLEX, font_scale, (0, 0, 0), font_thickness)\n",
    "\n",
    "    return image\n",
    "\n",
    "def process_images(image_folder, label_folder, output_folder):\n",
    "    os.makedirs(output_folder, exist_ok=True)\n",
    "\n",
    "    for image_file in os.listdir(image_folder):\n",
    "        if not image_file.endswith((\".jpg\", \".png\")):\n",
    "            continue\n",
    "\n",
    "        image_path = os.path.join(image_folder, image_file)\n",
    "        label_path = os.path.join(label_folder, os.path.splitext(image_file)[0] + \".txt\")\n",
    "\n",
    "        image = cv2.imread(image_path)\n",
    "        if image is None:\n",
    "            continue\n",
    "\n",
    "        image_height, image_width, _ = image.shape\n",
    "        depth_map = estimate_depth(image)  # Ensure this function returns a valid depth map\n",
    "\n",
    "        if os.path.exists(label_path):\n",
    "            detections = read_yolo_labels(label_path, image_width, image_height)\n",
    "            distances = []\n",
    "\n",
    "            for det in detections:\n",
    "                x1, y1, x2, y2 = det[\"bbox\"]\n",
    "                depth_crop = depth_map[y1:y2, x1:x2]\n",
    "                \n",
    "                # Compute average depth, handle NaNs\n",
    "                avg_depth = np.nanmean(depth_crop)\n",
    "                distances.append(avg_depth)\n",
    "\n",
    "            # Draw only valid bounding boxes\n",
    "            image = draw_bounding_boxes(image, detections, distances)\n",
    "\n",
    "        output_path = os.path.join(output_folder, image_file)\n",
    "        cv2.imwrite(output_path, image)\n",
    "        print(f\"Processed and saved: {output_path}\")\n",
    "\n",
    "\n",
    "\n",
    "# Define folder paths\n",
    "# ✅ Paths\n",
    "image_folder = r\"D:\\majorproj\\kitti_hyb\\images\\val\"\n",
    "label_folder = r\"runs\\detect\\hybrid_kitti1\\labels\"\n",
    "output_folder = r\"C:\\Users\\bhavy\\yolov5\\runs\\detect\\hybrid_kitti1\\distancess_val\"\n",
    "\n",
    "\n",
    "# Run the processing pipeline\n",
    "process_images(image_folder, label_folder, output_folder)\n"
   ]
  },
  {
   "cell_type": "code",
   "execution_count": 20,
   "id": "fe7ba61e",
   "metadata": {},
   "outputs": [
    {
     "name": "stdout",
     "output_type": "stream",
     "text": [
      "\n",
      "image 1/46 D:\\majorproj\\kitti_hyb\\images\\val\\000001.png: 224x640 1 Car, 387.1ms\n",
      "image 2/46 D:\\majorproj\\kitti_hyb\\images\\val\\000004.png: 224x640 2 Cars, 234.1ms\n",
      "image 3/46 D:\\majorproj\\kitti_hyb\\images\\val\\000020.png: 224x640 1 Car, 226.1ms\n",
      "image 4/46 D:\\majorproj\\kitti_hyb\\images\\val\\000021.png: 224x640 6 Cars, 187.2ms\n",
      "image 5/46 D:\\majorproj\\kitti_hyb\\images\\val\\000024.png: 224x640 2 Cars, 206.0ms\n",
      "image 6/46 D:\\majorproj\\kitti_hyb\\images\\val\\000029.png: 224x640 (no detections), 200.6ms\n",
      "image 7/46 D:\\majorproj\\kitti_hyb\\images\\val\\000032.png: 224x640 7 Cars, 199.8ms\n",
      "image 8/46 D:\\majorproj\\kitti_hyb\\images\\val\\000046.png: 224x640 6 Cars, 200.0ms\n",
      "image 9/46 D:\\majorproj\\kitti_hyb\\images\\val\\000047.png: 224x640 6 Cars, 217.0ms\n",
      "image 10/46 D:\\majorproj\\kitti_hyb\\images\\val\\000062.png: 224x640 3 Cars, 206.2ms\n",
      "image 11/46 D:\\majorproj\\kitti_hyb\\images\\val\\000067.png: 224x640 8 Cars, 220.3ms\n",
      "image 12/46 D:\\majorproj\\kitti_hyb\\images\\val\\000072.png: 224x640 3 Cars, 207.2ms\n",
      "image 13/46 D:\\majorproj\\kitti_hyb\\images\\val\\000078.png: 224x640 4 Cars, 193.0ms\n",
      "image 14/46 D:\\majorproj\\kitti_hyb\\images\\val\\000081.png: 224x640 (no detections), 176.9ms\n",
      "image 15/46 D:\\majorproj\\kitti_hyb\\images\\val\\000083.png: 224x640 8 Cars, 211.0ms\n",
      "image 16/46 D:\\majorproj\\kitti_hyb\\images\\val\\000109.png: 224x640 1 Van, 207.0ms\n",
      "image 17/46 D:\\majorproj\\kitti_hyb\\images\\val\\000110.png: 224x640 7 Cars, 201.0ms\n",
      "image 18/46 D:\\majorproj\\kitti_hyb\\images\\val\\000113.png: 224x640 9 Cars, 200.0ms\n",
      "image 19/46 D:\\majorproj\\kitti_hyb\\images\\val\\000114.png: 224x640 8 Cars, 1 Truck, 206.0ms\n",
      "image 20/46 D:\\majorproj\\kitti_hyb\\images\\val\\000115.png: 224x640 (no detections), 202.0ms\n",
      "image 21/46 D:\\majorproj\\kitti_hyb\\images\\val\\000120.png: 224x640 14 Cars, 199.0ms\n",
      "image 22/46 D:\\majorproj\\kitti_hyb\\images\\val\\000135.png: 224x640 6 Cars, 203.0ms\n",
      "image 23/46 D:\\majorproj\\kitti_hyb\\images\\val\\000144.png: 224x640 3 Cars, 3 Vans, 222.0ms\n",
      "image 24/46 D:\\majorproj\\kitti_hyb\\images\\val\\000146.png: 224x640 9 Cars, 212.0ms\n",
      "image 25/46 D:\\majorproj\\kitti_hyb\\images\\val\\000153.png: 224x640 1 Car, 219.0ms\n",
      "image 26/46 D:\\majorproj\\kitti_hyb\\images\\val\\000161.png: 224x640 9 Cars, 234.0ms\n",
      "image 27/46 D:\\majorproj\\kitti_hyb\\images\\val\\000171.png: 224x640 5 Cars, 224.0ms\n",
      "image 28/46 D:\\majorproj\\kitti_hyb\\images\\val\\000174.png: 224x640 4 Cars, 215.0ms\n",
      "image 29/46 D:\\majorproj\\kitti_hyb\\images\\val\\000180.png: 224x640 1 Car, 217.0ms\n",
      "image 30/46 D:\\majorproj\\kitti_hyb\\images\\val\\000181.png: 224x640 14 Cars, 225.0ms\n",
      "image 31/46 D:\\majorproj\\kitti_hyb\\images\\val\\000182.png: 224x640 3 Cars, 202.0ms\n",
      "image 32/46 D:\\majorproj\\kitti_hyb\\images\\val\\000184.png: 224x640 5 Cars, 233.0ms\n",
      "image 33/46 D:\\majorproj\\kitti_hyb\\images\\val\\000187.png: 224x640 2 Vans, 209.0ms\n",
      "image 34/46 D:\\majorproj\\kitti_hyb\\images\\val\\000200.png: 224x640 3 Cars, 212.0ms\n",
      "image 35/46 D:\\majorproj\\kitti_hyb\\images\\val\\000202.png: 224x640 1 Car, 221.0ms\n",
      "image 36/46 D:\\majorproj\\kitti_hyb\\images\\val\\000206.png: 224x640 2 Cars, 3 Vans, 217.0ms\n",
      "image 37/46 D:\\majorproj\\kitti_hyb\\images\\val\\000210.png: 224x640 7 Cars, 222.3ms\n",
      "image 38/46 D:\\majorproj\\kitti_hyb\\images\\val\\000220.png: 224x640 1 Car, 209.0ms\n",
      "image 39/46 D:\\majorproj\\kitti_hyb\\images\\val\\000226.png: 224x640 9 Cars, 202.0ms\n",
      "image 40/46 D:\\majorproj\\kitti_hyb\\images\\val\\000235.png: 224x640 3 Cars, 193.0ms\n",
      "image 41/46 D:\\majorproj\\kitti_hyb\\images\\val\\000242.png: 224x640 3 Cars, 194.0ms\n",
      "image 42/46 D:\\majorproj\\kitti_hyb\\images\\val\\000249.png: 224x640 5 Cars, 199.0ms\n",
      "image 43/46 D:\\majorproj\\kitti_hyb\\images\\val\\000264.png: 224x640 11 Cars, 208.0ms\n",
      "image 44/46 D:\\majorproj\\kitti_hyb\\images\\val\\000269.png: 224x640 3 Cars, 181.0ms\n",
      "image 45/46 D:\\majorproj\\kitti_hyb\\images\\val\\000284.png: 224x640 11 Cars, 243.0ms\n",
      "image 46/46 D:\\majorproj\\kitti_hyb\\images\\val\\000293.png: 224x640 3 Cars, 164.0ms\n",
      "Speed: 3.3ms preprocess, 212.3ms inference, 2.8ms postprocess per image at shape (1, 3, 224, 640)\n",
      "Results saved to \u001b[1mruns\\detect\\predict19\u001b[0m\n",
      "43 labels saved to runs\\detect\\predict19\\labels\n"
     ]
    }
   ],
   "source": [
    "# Load YOLOv8 model\n",
    "from ultralytics import YOLO\n",
    "\n",
    "# Load trained model\n",
    "yolo8_model = YOLO(\"C:/Users/bhavy/yolov5/runs/detect/train16/weights/best.pt\")\n",
    "\n",
    "# Run inference with label saving enabled\n",
    "results8 = yolo8_model.predict(\"D:/majorproj/kitti_hyb/images/val\", save=True, save_txt=True, conf=0.5)\n"
   ]
  },
  {
   "cell_type": "code",
   "execution_count": 21,
   "id": "36fcea01",
   "metadata": {},
   "outputs": [
    {
     "name": "stdout",
     "output_type": "stream",
     "text": [
      "Current Directory: C:\\Users\\bhavy\\yolov5\n"
     ]
    }
   ],
   "source": [
    "import os\n",
    "\n",
    "# Change directory to YOLOv5\n",
    "os.chdir(\"C:/Users/bhavy/yolov5\")\n",
    "\n",
    "# Confirm current directory\n",
    "print(\"Current Directory:\", os.getcwd())\n"
   ]
  },
  {
   "cell_type": "code",
   "execution_count": 22,
   "id": "17977737",
   "metadata": {},
   "outputs": [
    {
     "name": "stdout",
     "output_type": "stream",
     "text": [
      "\n",
      "image 1/163 D:\\majorproj\\kitti_hyb\\images\\train\\000002.png: 224x640 1 Car, 269.0ms\n",
      "image 2/163 D:\\majorproj\\kitti_hyb\\images\\train\\000003.png: 224x640 1 Car, 226.0ms\n",
      "image 3/163 D:\\majorproj\\kitti_hyb\\images\\train\\000005.png: 224x640 1 Van, 215.0ms\n",
      "image 4/163 D:\\majorproj\\kitti_hyb\\images\\train\\000006.png: 224x640 3 Cars, 208.0ms\n",
      "image 5/163 D:\\majorproj\\kitti_hyb\\images\\train\\000007.png: 224x640 2 Cars, 206.0ms\n",
      "image 6/163 D:\\majorproj\\kitti_hyb\\images\\train\\000009.png: 224x640 1 Car, 205.3ms\n",
      "image 7/163 D:\\majorproj\\kitti_hyb\\images\\train\\000010.png: 224x640 10 Cars, 229.0ms\n",
      "image 8/163 D:\\majorproj\\kitti_hyb\\images\\train\\000011.png: 224x640 2 Cars, 2 Vans, 223.0ms\n",
      "image 9/163 D:\\majorproj\\kitti_hyb\\images\\train\\000013.png: 224x640 1 Car, 218.0ms\n",
      "image 10/163 D:\\majorproj\\kitti_hyb\\images\\train\\000015.png: 224x640 1 Car, 4 Vans, 214.9ms\n",
      "image 11/163 D:\\majorproj\\kitti_hyb\\images\\train\\000016.png: 224x640 6 Cars, 1 Van, 211.4ms\n",
      "image 12/163 D:\\majorproj\\kitti_hyb\\images\\train\\000018.png: 224x640 5 Cars, 200.0ms\n",
      "image 13/163 D:\\majorproj\\kitti_hyb\\images\\train\\000022.png: 224x640 1 Car, 207.0ms\n",
      "image 14/163 D:\\majorproj\\kitti_hyb\\images\\train\\000025.png: 224x640 6 Cars, 209.0ms\n",
      "image 15/163 D:\\majorproj\\kitti_hyb\\images\\train\\000026.png: 224x640 (no detections), 214.0ms\n",
      "image 16/163 D:\\majorproj\\kitti_hyb\\images\\train\\000027.png: 224x640 1 Car, 194.0ms\n",
      "image 17/163 D:\\majorproj\\kitti_hyb\\images\\train\\000028.png: 224x640 1 Van, 226.0ms\n",
      "image 18/163 D:\\majorproj\\kitti_hyb\\images\\train\\000033.png: 224x640 1 Car, 213.0ms\n",
      "image 19/163 D:\\majorproj\\kitti_hyb\\images\\train\\000034.png: 224x640 2 Cars, 208.0ms\n",
      "image 20/163 D:\\majorproj\\kitti_hyb\\images\\train\\000035.png: 224x640 3 Cars, 2 Vans, 211.0ms\n",
      "image 21/163 D:\\majorproj\\kitti_hyb\\images\\train\\000036.png: 224x640 7 Cars, 180.0ms\n",
      "image 22/163 D:\\majorproj\\kitti_hyb\\images\\train\\000038.png: 224x640 10 Cars, 211.1ms\n",
      "image 23/163 D:\\majorproj\\kitti_hyb\\images\\train\\000039.png: 224x640 7 Cars, 198.0ms\n",
      "image 24/163 D:\\majorproj\\kitti_hyb\\images\\train\\000040.png: 224x640 1 Car, 216.0ms\n",
      "image 25/163 D:\\majorproj\\kitti_hyb\\images\\train\\000042.png: 224x640 1 Car, 213.0ms\n",
      "image 26/163 D:\\majorproj\\kitti_hyb\\images\\train\\000043.png: 224x640 6 Vans, 213.5ms\n",
      "image 27/163 D:\\majorproj\\kitti_hyb\\images\\train\\000049.png: 224x640 16 Cars, 1 Van, 197.0ms\n",
      "image 28/163 D:\\majorproj\\kitti_hyb\\images\\train\\000051.png: 224x640 2 Cars, 1 Van, 207.0ms\n",
      "image 29/163 D:\\majorproj\\kitti_hyb\\images\\train\\000052.png: 224x640 7 Cars, 222.0ms\n",
      "image 30/163 D:\\majorproj\\kitti_hyb\\images\\train\\000053.png: 224x640 5 Cars, 210.0ms\n",
      "image 31/163 D:\\majorproj\\kitti_hyb\\images\\train\\000054.png: 224x640 1 Van, 204.0ms\n",
      "image 32/163 D:\\majorproj\\kitti_hyb\\images\\train\\000055.png: 224x640 3 Cars, 206.0ms\n",
      "image 33/163 D:\\majorproj\\kitti_hyb\\images\\train\\000056.png: 224x640 (no detections), 198.9ms\n",
      "image 34/163 D:\\majorproj\\kitti_hyb\\images\\train\\000057.png: 224x640 2 Cars, 210.0ms\n",
      "image 35/163 D:\\majorproj\\kitti_hyb\\images\\train\\000059.png: 224x640 4 Cars, 217.0ms\n",
      "image 36/163 D:\\majorproj\\kitti_hyb\\images\\train\\000060.png: 224x640 1 Car, 198.0ms\n",
      "image 37/163 D:\\majorproj\\kitti_hyb\\images\\train\\000063.png: 224x640 2 Cars, 219.0ms\n",
      "image 38/163 D:\\majorproj\\kitti_hyb\\images\\train\\000064.png: 224x640 2 Cars, 199.0ms\n",
      "image 39/163 D:\\majorproj\\kitti_hyb\\images\\train\\000066.png: 224x640 2 Cars, 213.0ms\n",
      "image 40/163 D:\\majorproj\\kitti_hyb\\images\\train\\000068.png: 224x640 10 Cars, 217.0ms\n",
      "image 41/163 D:\\majorproj\\kitti_hyb\\images\\train\\000070.png: 224x640 1 Van, 237.3ms\n",
      "image 42/163 D:\\majorproj\\kitti_hyb\\images\\train\\000074.png: 224x640 4 Vans, 226.7ms\n",
      "image 43/163 D:\\majorproj\\kitti_hyb\\images\\train\\000075.png: 224x640 4 Cars, 234.0ms\n",
      "image 44/163 D:\\majorproj\\kitti_hyb\\images\\train\\000076.png: 224x640 8 Vans, 174.0ms\n",
      "image 45/163 D:\\majorproj\\kitti_hyb\\images\\train\\000077.png: 224x640 1 Car, 208.0ms\n",
      "image 46/163 D:\\majorproj\\kitti_hyb\\images\\train\\000082.png: 224x640 (no detections), 212.2ms\n",
      "image 47/163 D:\\majorproj\\kitti_hyb\\images\\train\\000085.png: 224x640 3 Vans, 224.5ms\n",
      "image 48/163 D:\\majorproj\\kitti_hyb\\images\\train\\000089.png: 224x640 5 Cars, 224.9ms\n",
      "image 49/163 D:\\majorproj\\kitti_hyb\\images\\train\\000090.png: 224x640 2 Cars, 1 Van, 200.0ms\n",
      "image 50/163 D:\\majorproj\\kitti_hyb\\images\\train\\000092.png: 224x640 5 Cars, 2 Vans, 238.0ms\n",
      "image 51/163 D:\\majorproj\\kitti_hyb\\images\\train\\000094.png: 224x640 1 Car, 192.6ms\n",
      "image 52/163 D:\\majorproj\\kitti_hyb\\images\\train\\000097.png: 224x640 1 Car, 135.5ms\n",
      "image 53/163 D:\\majorproj\\kitti_hyb\\images\\train\\000099.png: 224x640 8 Cars, 131.6ms\n",
      "image 54/163 D:\\majorproj\\kitti_hyb\\images\\train\\000102.png: 224x640 2 Cars, 213.0ms\n",
      "image 55/163 D:\\majorproj\\kitti_hyb\\images\\train\\000103.png: 224x640 1 Van, 1 Truck, 217.0ms\n",
      "image 56/163 D:\\majorproj\\kitti_hyb\\images\\train\\000104.png: 224x640 5 Cars, 208.0ms\n",
      "image 57/163 D:\\majorproj\\kitti_hyb\\images\\train\\000108.png: 224x640 1 Car, 1 Van, 209.1ms\n",
      "image 58/163 D:\\majorproj\\kitti_hyb\\images\\train\\000111.png: 224x640 6 Cars, 196.0ms\n",
      "image 59/163 D:\\majorproj\\kitti_hyb\\images\\train\\000112.png: 224x640 14 Cars, 213.0ms\n",
      "image 60/163 D:\\majorproj\\kitti_hyb\\images\\train\\000116.png: 224x640 4 Cars, 227.8ms\n",
      "image 61/163 D:\\majorproj\\kitti_hyb\\images\\train\\000117.png: 224x640 12 Cars, 230.5ms\n",
      "image 62/163 D:\\majorproj\\kitti_hyb\\images\\train\\000118.png: 224x640 1 Van, 225.0ms\n",
      "image 63/163 D:\\majorproj\\kitti_hyb\\images\\train\\000119.png: 224x640 3 Cars, 1 Van, 232.4ms\n",
      "image 64/163 D:\\majorproj\\kitti_hyb\\images\\train\\000123.png: 224x640 1 Car, 222.6ms\n",
      "image 65/163 D:\\majorproj\\kitti_hyb\\images\\train\\000124.png: 224x640 (no detections), 212.5ms\n",
      "image 66/163 D:\\majorproj\\kitti_hyb\\images\\train\\000125.png: 224x640 5 Cars, 242.2ms\n",
      "image 67/163 D:\\majorproj\\kitti_hyb\\images\\train\\000126.png: 224x640 3 Cars, 262.1ms\n",
      "image 68/163 D:\\majorproj\\kitti_hyb\\images\\train\\000127.png: 224x640 4 Cars, 250.9ms\n",
      "image 69/163 D:\\majorproj\\kitti_hyb\\images\\train\\000128.png: 224x640 2 Cars, 268.4ms\n",
      "image 70/163 D:\\majorproj\\kitti_hyb\\images\\train\\000130.png: 224x640 1 Van, 271.5ms\n",
      "image 71/163 D:\\majorproj\\kitti_hyb\\images\\train\\000133.png: 224x640 1 Car, 244.0ms\n",
      "image 72/163 D:\\majorproj\\kitti_hyb\\images\\train\\000134.png: 224x640 3 Cars, 3 Vans, 237.5ms\n",
      "image 73/163 D:\\majorproj\\kitti_hyb\\images\\train\\000137.png: 224x640 4 Cars, 206.9ms\n",
      "image 74/163 D:\\majorproj\\kitti_hyb\\images\\train\\000138.png: 224x640 5 Cars, 241.6ms\n",
      "image 75/163 D:\\majorproj\\kitti_hyb\\images\\train\\000139.png: 224x640 3 Cars, 245.7ms\n",
      "image 76/163 D:\\majorproj\\kitti_hyb\\images\\train\\000141.png: 224x640 1 Car, 234.0ms\n",
      "image 77/163 D:\\majorproj\\kitti_hyb\\images\\train\\000142.png: 224x640 10 Cars, 1 Truck, 238.0ms\n",
      "image 78/163 D:\\majorproj\\kitti_hyb\\images\\train\\000143.png: 224x640 2 Cars, 244.3ms\n",
      "image 79/163 D:\\majorproj\\kitti_hyb\\images\\train\\000145.png: 224x640 2 Cars, 4 Vans, 2 Trucks, 220.0ms\n",
      "image 80/163 D:\\majorproj\\kitti_hyb\\images\\train\\000147.png: 224x640 1 Car, 2 Vans, 222.3ms\n",
      "image 81/163 D:\\majorproj\\kitti_hyb\\images\\train\\000148.png: 224x640 1 Car, 194.7ms\n",
      "image 82/163 D:\\majorproj\\kitti_hyb\\images\\train\\000149.png: 224x640 13 Cars, 211.0ms\n",
      "image 83/163 D:\\majorproj\\kitti_hyb\\images\\train\\000150.png: 224x640 3 Cars, 206.5ms\n",
      "image 84/163 D:\\majorproj\\kitti_hyb\\images\\train\\000151.png: 224x640 2 Cars, 211.5ms\n",
      "image 85/163 D:\\majorproj\\kitti_hyb\\images\\train\\000152.png: 224x640 9 Cars, 226.5ms\n",
      "image 86/163 D:\\majorproj\\kitti_hyb\\images\\train\\000154.png: 224x640 5 Cars, 1 Van, 220.0ms\n",
      "image 87/163 D:\\majorproj\\kitti_hyb\\images\\train\\000158.png: 224x640 1 Car, 249.5ms\n",
      "image 88/163 D:\\majorproj\\kitti_hyb\\images\\train\\000160.png: 224x640 3 Cars, 310.5ms\n",
      "image 89/163 D:\\majorproj\\kitti_hyb\\images\\train\\000162.png: 224x640 3 Cars, 257.3ms\n",
      "image 90/163 D:\\majorproj\\kitti_hyb\\images\\train\\000163.png: 224x640 6 Cars, 284.3ms\n",
      "image 91/163 D:\\majorproj\\kitti_hyb\\images\\train\\000166.png: 224x640 3 Cars, 307.5ms\n",
      "image 92/163 D:\\majorproj\\kitti_hyb\\images\\train\\000170.png: 224x640 1 Car, 307.4ms\n",
      "image 93/163 D:\\majorproj\\kitti_hyb\\images\\train\\000172.png: 224x640 10 Cars, 276.1ms\n",
      "image 94/163 D:\\majorproj\\kitti_hyb\\images\\train\\000173.png: 224x640 7 Cars, 274.6ms\n",
      "image 95/163 D:\\majorproj\\kitti_hyb\\images\\train\\000175.png: 224x640 1 Car, 302.3ms\n",
      "image 96/163 D:\\majorproj\\kitti_hyb\\images\\train\\000178.png: 224x640 9 Cars, 302.1ms\n",
      "image 97/163 D:\\majorproj\\kitti_hyb\\images\\train\\000183.png: 224x640 3 Cars, 257.6ms\n",
      "image 98/163 D:\\majorproj\\kitti_hyb\\images\\train\\000186.png: 224x640 4 Cars, 291.3ms\n",
      "image 99/163 D:\\majorproj\\kitti_hyb\\images\\train\\000189.png: 224x640 3 Vans, 263.3ms\n",
      "image 100/163 D:\\majorproj\\kitti_hyb\\images\\train\\000190.png: 224x640 1 Car, 271.6ms\n",
      "image 101/163 D:\\majorproj\\kitti_hyb\\images\\train\\000191.png: 224x640 12 Cars, 236.9ms\n",
      "image 102/163 D:\\majorproj\\kitti_hyb\\images\\train\\000193.png: 224x640 1 Van, 247.3ms\n",
      "image 103/163 D:\\majorproj\\kitti_hyb\\images\\train\\000194.png: 224x640 2 Cars, 241.0ms\n",
      "image 104/163 D:\\majorproj\\kitti_hyb\\images\\train\\000195.png: 224x640 1 Van, 238.5ms\n",
      "image 105/163 D:\\majorproj\\kitti_hyb\\images\\train\\000197.png: 224x640 4 Cars, 221.3ms\n",
      "image 106/163 D:\\majorproj\\kitti_hyb\\images\\train\\000201.png: 224x640 5 Cars, 2 Vans, 242.0ms\n",
      "image 107/163 D:\\majorproj\\kitti_hyb\\images\\train\\000203.png: 224x640 1 Car, 1 Van, 223.4ms\n",
      "image 108/163 D:\\majorproj\\kitti_hyb\\images\\train\\000205.png: 224x640 3 Cars, 188.5ms\n",
      "image 109/163 D:\\majorproj\\kitti_hyb\\images\\train\\000207.png: 224x640 4 Cars, 180.4ms\n",
      "image 110/163 D:\\majorproj\\kitti_hyb\\images\\train\\000209.png: 224x640 1 Van, 167.3ms\n",
      "image 111/163 D:\\majorproj\\kitti_hyb\\images\\train\\000211.png: 224x640 4 Cars, 174.0ms\n",
      "image 112/163 D:\\majorproj\\kitti_hyb\\images\\train\\000212.png: 224x640 6 Cars, 219.9ms\n",
      "image 113/163 D:\\majorproj\\kitti_hyb\\images\\train\\000213.png: 224x640 15 Cars, 209.3ms\n",
      "image 114/163 D:\\majorproj\\kitti_hyb\\images\\train\\000214.png: 224x640 2 Cars, 1 Van, 1 Truck, 218.5ms\n",
      "image 115/163 D:\\majorproj\\kitti_hyb\\images\\train\\000215.png: 224x640 2 Cars, 203.6ms\n",
      "image 116/163 D:\\majorproj\\kitti_hyb\\images\\train\\000218.png: 224x640 5 Cars, 213.1ms\n",
      "image 117/163 D:\\majorproj\\kitti_hyb\\images\\train\\000219.png: 224x640 1 Car, 221.2ms\n",
      "image 118/163 D:\\majorproj\\kitti_hyb\\images\\train\\000223.png: 224x640 2 Cars, 192.9ms\n",
      "image 119/163 D:\\majorproj\\kitti_hyb\\images\\train\\000224.png: 224x640 1 Car, 206.0ms\n",
      "image 120/163 D:\\majorproj\\kitti_hyb\\images\\train\\000225.png: 224x640 3 Cars, 208.1ms\n",
      "image 121/163 D:\\majorproj\\kitti_hyb\\images\\train\\000227.png: 224x640 6 Cars, 208.2ms\n",
      "image 122/163 D:\\majorproj\\kitti_hyb\\images\\train\\000229.png: 224x640 1 Car, 1 Van, 200.8ms\n",
      "image 123/163 D:\\majorproj\\kitti_hyb\\images\\train\\000232.png: 224x640 1 Car, 204.0ms\n",
      "image 124/163 D:\\majorproj\\kitti_hyb\\images\\train\\000234.png: 224x640 6 Cars, 201.5ms\n",
      "image 125/163 D:\\majorproj\\kitti_hyb\\images\\train\\000236.png: 224x640 8 Cars, 192.7ms\n",
      "image 126/163 D:\\majorproj\\kitti_hyb\\images\\train\\000237.png: 224x640 3 Cars, 216.5ms\n",
      "image 127/163 D:\\majorproj\\kitti_hyb\\images\\train\\000238.png: 224x640 3 Cars, 241.8ms\n",
      "image 128/163 D:\\majorproj\\kitti_hyb\\images\\train\\000240.png: 224x640 1 Car, 211.1ms\n",
      "image 129/163 D:\\majorproj\\kitti_hyb\\images\\train\\000241.png: 224x640 (no detections), 230.8ms\n",
      "image 130/163 D:\\majorproj\\kitti_hyb\\images\\train\\000243.png: 224x640 6 Cars, 238.2ms\n",
      "image 131/163 D:\\majorproj\\kitti_hyb\\images\\train\\000244.png: 224x640 12 Cars, 219.0ms\n",
      "image 132/163 D:\\majorproj\\kitti_hyb\\images\\train\\000246.png: 224x640 4 Cars, 185.0ms\n",
      "image 133/163 D:\\majorproj\\kitti_hyb\\images\\train\\000250.png: 224x640 3 Cars, 201.8ms\n",
      "image 134/163 D:\\majorproj\\kitti_hyb\\images\\train\\000252.png: 224x640 3 Cars, 206.3ms\n",
      "image 135/163 D:\\majorproj\\kitti_hyb\\images\\train\\000256.png: 224x640 5 Cars, 213.6ms\n",
      "image 136/163 D:\\majorproj\\kitti_hyb\\images\\train\\000257.png: 224x640 (no detections), 220.4ms\n",
      "image 137/163 D:\\majorproj\\kitti_hyb\\images\\train\\000258.png: 224x640 4 Cars, 265.4ms\n",
      "image 138/163 D:\\majorproj\\kitti_hyb\\images\\train\\000260.png: 224x640 1 Car, 2276.1ms\n",
      "image 139/163 D:\\majorproj\\kitti_hyb\\images\\train\\000261.png: 224x640 1 Car, 287.5ms\n",
      "image 140/163 D:\\majorproj\\kitti_hyb\\images\\train\\000266.png: 224x640 7 Cars, 2 Trucks, 273.0ms\n",
      "image 141/163 D:\\majorproj\\kitti_hyb\\images\\train\\000268.png: 224x640 3 Cars, 268.1ms\n",
      "image 142/163 D:\\majorproj\\kitti_hyb\\images\\train\\000270.png: 224x640 2 Cars, 267.1ms\n",
      "image 143/163 D:\\majorproj\\kitti_hyb\\images\\train\\000271.png: 224x640 1 Car, 297.9ms\n",
      "image 144/163 D:\\majorproj\\kitti_hyb\\images\\train\\000272.png: 224x640 1 Car, 284.5ms\n",
      "image 145/163 D:\\majorproj\\kitti_hyb\\images\\train\\000273.png: 224x640 2 Cars, 268.4ms\n",
      "image 146/163 D:\\majorproj\\kitti_hyb\\images\\train\\000274.png: 224x640 9 Cars, 2 Vans, 1 Truck, 269.6ms\n",
      "image 147/163 D:\\majorproj\\kitti_hyb\\images\\train\\000275.png: 224x640 5 Cars, 1 Van, 253.9ms\n",
      "image 148/163 D:\\majorproj\\kitti_hyb\\images\\train\\000276.png: 224x640 3 Cars, 253.2ms\n",
      "image 149/163 D:\\majorproj\\kitti_hyb\\images\\train\\000278.png: 224x640 1 Car, 260.0ms\n",
      "image 150/163 D:\\majorproj\\kitti_hyb\\images\\train\\000280.png: 224x640 1 Car, 234.6ms\n",
      "image 151/163 D:\\majorproj\\kitti_hyb\\images\\train\\000282.png: 224x640 1 Car, 243.5ms\n",
      "image 152/163 D:\\majorproj\\kitti_hyb\\images\\train\\000283.png: 224x640 2 Cars, 222.0ms\n",
      "image 153/163 D:\\majorproj\\kitti_hyb\\images\\train\\000285.png: 224x640 7 Cars, 240.8ms\n",
      "image 154/163 D:\\majorproj\\kitti_hyb\\images\\train\\000287.png: 224x640 4 Vans, 239.9ms\n",
      "image 155/163 D:\\majorproj\\kitti_hyb\\images\\train\\000288.png: 224x640 1 Van, 252.0ms\n",
      "image 156/163 D:\\majorproj\\kitti_hyb\\images\\train\\000289.png: 224x640 2 Cars, 194.4ms\n",
      "image 157/163 D:\\majorproj\\kitti_hyb\\images\\train\\000290.png: 224x640 1 Van, 256.0ms\n",
      "image 158/163 D:\\majorproj\\kitti_hyb\\images\\train\\000292.png: 224x640 1 Car, 230.9ms\n",
      "image 159/163 D:\\majorproj\\kitti_hyb\\images\\train\\000295.png: 224x640 1 Car, 2 Vans, 1 Truck, 216.3ms\n",
      "image 160/163 D:\\majorproj\\kitti_hyb\\images\\train\\000297.png: 224x640 2 Cars, 232.5ms\n",
      "image 161/163 D:\\majorproj\\kitti_hyb\\images\\train\\000298.png: 224x640 1 Van, 250.0ms\n",
      "image 162/163 D:\\majorproj\\kitti_hyb\\images\\train\\000299.png: 224x640 (no detections), 227.9ms\n",
      "image 163/163 D:\\majorproj\\kitti_hyb\\images\\train\\000300.png: 224x640 (no detections), 209.3ms\n",
      "Speed: 2.7ms preprocess, 239.1ms inference, 2.5ms postprocess per image at shape (1, 3, 224, 640)\n",
      "Results saved to \u001b[1mruns\\detect\\predict20\u001b[0m\n",
      "155 labels saved to runs\\detect\\predict20\\labels\n",
      "\n",
      "image 1/163 D:\\majorproj\\kitti_hyb\\images\\train\\000002.png: 375x1242 1 Car, 269.0ms\n",
      "image 2/163 D:\\majorproj\\kitti_hyb\\images\\train\\000003.png: 375x1242 1 Car, 226.0ms\n",
      "image 3/163 D:\\majorproj\\kitti_hyb\\images\\train\\000005.png: 375x1242 1 Van, 215.0ms\n",
      "image 4/163 D:\\majorproj\\kitti_hyb\\images\\train\\000006.png: 374x1238 3 Cars, 208.0ms\n",
      "image 5/163 D:\\majorproj\\kitti_hyb\\images\\train\\000007.png: 375x1242 2 Cars, 206.0ms\n",
      "image 6/163 D:\\majorproj\\kitti_hyb\\images\\train\\000009.png: 375x1242 1 Car, 205.3ms\n",
      "image 7/163 D:\\majorproj\\kitti_hyb\\images\\train\\000010.png: 375x1242 10 Cars, 229.0ms\n",
      "image 8/163 D:\\majorproj\\kitti_hyb\\images\\train\\000011.png: 375x1242 2 Cars, 2 Vans, 223.0ms\n",
      "image 9/163 D:\\majorproj\\kitti_hyb\\images\\train\\000013.png: 375x1242 1 Car, 218.0ms\n",
      "image 10/163 D:\\majorproj\\kitti_hyb\\images\\train\\000015.png: 374x1238 1 Car, 4 Vans, 214.9ms\n",
      "image 11/163 D:\\majorproj\\kitti_hyb\\images\\train\\000016.png: 375x1242 6 Cars, 1 Van, 211.4ms\n",
      "image 12/163 D:\\majorproj\\kitti_hyb\\images\\train\\000018.png: 375x1242 5 Cars, 200.0ms\n",
      "image 13/163 D:\\majorproj\\kitti_hyb\\images\\train\\000022.png: 375x1242 1 Car, 207.0ms\n",
      "image 14/163 D:\\majorproj\\kitti_hyb\\images\\train\\000025.png: 375x1242 6 Cars, 209.0ms\n",
      "image 15/163 D:\\majorproj\\kitti_hyb\\images\\train\\000026.png: 375x1242 (no detections), 214.0ms\n",
      "image 16/163 D:\\majorproj\\kitti_hyb\\images\\train\\000027.png: 375x1242 1 Car, 194.0ms\n",
      "image 17/163 D:\\majorproj\\kitti_hyb\\images\\train\\000028.png: 370x1224 1 Van, 226.0ms\n",
      "image 18/163 D:\\majorproj\\kitti_hyb\\images\\train\\000033.png: 375x1242 1 Car, 213.0ms\n",
      "image 19/163 D:\\majorproj\\kitti_hyb\\images\\train\\000034.png: 375x1242 2 Cars, 208.0ms\n",
      "image 20/163 D:\\majorproj\\kitti_hyb\\images\\train\\000035.png: 375x1242 3 Cars, 2 Vans, 211.0ms\n",
      "image 21/163 D:\\majorproj\\kitti_hyb\\images\\train\\000036.png: 375x1242 7 Cars, 180.0ms\n",
      "image 22/163 D:\\majorproj\\kitti_hyb\\images\\train\\000038.png: 375x1242 10 Cars, 211.1ms\n",
      "image 23/163 D:\\majorproj\\kitti_hyb\\images\\train\\000039.png: 375x1242 7 Cars, 198.0ms\n",
      "image 24/163 D:\\majorproj\\kitti_hyb\\images\\train\\000040.png: 375x1242 1 Car, 216.0ms\n",
      "image 25/163 D:\\majorproj\\kitti_hyb\\images\\train\\000042.png: 375x1242 1 Car, 213.0ms\n",
      "image 26/163 D:\\majorproj\\kitti_hyb\\images\\train\\000043.png: 375x1242 6 Vans, 213.5ms\n",
      "image 27/163 D:\\majorproj\\kitti_hyb\\images\\train\\000049.png: 375x1242 16 Cars, 1 Van, 197.0ms\n",
      "image 28/163 D:\\majorproj\\kitti_hyb\\images\\train\\000051.png: 375x1242 1 Van, 2 Cars, 207.0ms\n",
      "image 29/163 D:\\majorproj\\kitti_hyb\\images\\train\\000052.png: 375x1242 7 Cars, 222.0ms\n",
      "image 30/163 D:\\majorproj\\kitti_hyb\\images\\train\\000053.png: 375x1242 5 Cars, 210.0ms\n",
      "image 31/163 D:\\majorproj\\kitti_hyb\\images\\train\\000054.png: 370x1224 1 Van, 204.0ms\n",
      "image 32/163 D:\\majorproj\\kitti_hyb\\images\\train\\000055.png: 375x1242 3 Cars, 206.0ms\n",
      "image 33/163 D:\\majorproj\\kitti_hyb\\images\\train\\000056.png: 375x1242 (no detections), 198.9ms\n",
      "image 34/163 D:\\majorproj\\kitti_hyb\\images\\train\\000057.png: 375x1242 2 Cars, 210.0ms\n",
      "image 35/163 D:\\majorproj\\kitti_hyb\\images\\train\\000059.png: 375x1242 4 Cars, 217.0ms\n",
      "image 36/163 D:\\majorproj\\kitti_hyb\\images\\train\\000060.png: 375x1242 1 Car, 198.0ms\n",
      "image 37/163 D:\\majorproj\\kitti_hyb\\images\\train\\000063.png: 375x1242 2 Cars, 219.0ms\n",
      "image 38/163 D:\\majorproj\\kitti_hyb\\images\\train\\000064.png: 375x1242 2 Cars, 199.0ms\n",
      "image 39/163 D:\\majorproj\\kitti_hyb\\images\\train\\000066.png: 375x1242 2 Cars, 213.0ms\n",
      "image 40/163 D:\\majorproj\\kitti_hyb\\images\\train\\000068.png: 375x1242 10 Cars, 217.0ms\n",
      "image 41/163 D:\\majorproj\\kitti_hyb\\images\\train\\000070.png: 370x1224 1 Van, 237.3ms\n",
      "image 42/163 D:\\majorproj\\kitti_hyb\\images\\train\\000074.png: 370x1224 4 Vans, 226.7ms\n",
      "image 43/163 D:\\majorproj\\kitti_hyb\\images\\train\\000075.png: 375x1242 4 Cars, 234.0ms\n",
      "image 44/163 D:\\majorproj\\kitti_hyb\\images\\train\\000076.png: 374x1238 8 Vans, 174.0ms\n",
      "image 45/163 D:\\majorproj\\kitti_hyb\\images\\train\\000077.png: 375x1242 1 Car, 208.0ms\n",
      "image 46/163 D:\\majorproj\\kitti_hyb\\images\\train\\000082.png: 375x1242 (no detections), 212.2ms\n",
      "image 47/163 D:\\majorproj\\kitti_hyb\\images\\train\\000085.png: 375x1242 3 Vans, 224.5ms\n",
      "image 48/163 D:\\majorproj\\kitti_hyb\\images\\train\\000089.png: 375x1242 5 Cars, 224.9ms\n",
      "image 49/163 D:\\majorproj\\kitti_hyb\\images\\train\\000090.png: 375x1242 2 Cars, 1 Van, 200.0ms\n",
      "image 50/163 D:\\majorproj\\kitti_hyb\\images\\train\\000092.png: 375x1242 5 Cars, 2 Vans, 238.0ms\n",
      "image 51/163 D:\\majorproj\\kitti_hyb\\images\\train\\000094.png: 375x1242 1 Car, 192.6ms\n",
      "image 52/163 D:\\majorproj\\kitti_hyb\\images\\train\\000097.png: 375x1242 1 Car, 135.5ms\n",
      "image 53/163 D:\\majorproj\\kitti_hyb\\images\\train\\000099.png: 375x1242 8 Cars, 131.6ms\n",
      "image 54/163 D:\\majorproj\\kitti_hyb\\images\\train\\000102.png: 375x1242 2 Cars, 213.0ms\n",
      "image 55/163 D:\\majorproj\\kitti_hyb\\images\\train\\000103.png: 370x1224 1 Van, 1 Truck, 217.0ms\n",
      "image 56/163 D:\\majorproj\\kitti_hyb\\images\\train\\000104.png: 375x1242 5 Cars, 208.0ms\n",
      "image 57/163 D:\\majorproj\\kitti_hyb\\images\\train\\000108.png: 375x1242 1 Car, 1 Van, 209.1ms\n",
      "image 58/163 D:\\majorproj\\kitti_hyb\\images\\train\\000111.png: 375x1242 6 Cars, 196.0ms\n",
      "image 59/163 D:\\majorproj\\kitti_hyb\\images\\train\\000112.png: 375x1242 14 Cars, 213.0ms\n",
      "image 60/163 D:\\majorproj\\kitti_hyb\\images\\train\\000116.png: 375x1242 4 Cars, 227.8ms\n",
      "image 61/163 D:\\majorproj\\kitti_hyb\\images\\train\\000117.png: 375x1242 12 Cars, 230.5ms\n",
      "image 62/163 D:\\majorproj\\kitti_hyb\\images\\train\\000118.png: 374x1238 1 Van, 225.0ms\n",
      "image 63/163 D:\\majorproj\\kitti_hyb\\images\\train\\000119.png: 375x1242 3 Cars, 1 Van, 232.4ms\n",
      "image 64/163 D:\\majorproj\\kitti_hyb\\images\\train\\000123.png: 375x1242 1 Car, 222.6ms\n",
      "image 65/163 D:\\majorproj\\kitti_hyb\\images\\train\\000124.png: 370x1224 (no detections), 212.5ms\n",
      "image 66/163 D:\\majorproj\\kitti_hyb\\images\\train\\000125.png: 375x1242 5 Cars, 242.2ms\n",
      "image 67/163 D:\\majorproj\\kitti_hyb\\images\\train\\000126.png: 375x1242 3 Cars, 262.1ms\n",
      "image 68/163 D:\\majorproj\\kitti_hyb\\images\\train\\000127.png: 375x1242 4 Cars, 250.9ms\n",
      "image 69/163 D:\\majorproj\\kitti_hyb\\images\\train\\000128.png: 375x1242 2 Cars, 268.4ms\n",
      "image 70/163 D:\\majorproj\\kitti_hyb\\images\\train\\000130.png: 370x1224 1 Van, 271.5ms\n",
      "image 71/163 D:\\majorproj\\kitti_hyb\\images\\train\\000133.png: 375x1242 1 Car, 244.0ms\n",
      "image 72/163 D:\\majorproj\\kitti_hyb\\images\\train\\000134.png: 370x1224 3 Cars, 3 Vans, 237.5ms\n",
      "image 73/163 D:\\majorproj\\kitti_hyb\\images\\train\\000137.png: 375x1242 4 Cars, 206.9ms\n",
      "image 74/163 D:\\majorproj\\kitti_hyb\\images\\train\\000138.png: 375x1242 5 Cars, 241.6ms\n",
      "image 75/163 D:\\majorproj\\kitti_hyb\\images\\train\\000139.png: 375x1242 3 Cars, 245.7ms\n",
      "image 76/163 D:\\majorproj\\kitti_hyb\\images\\train\\000141.png: 375x1242 1 Car, 234.0ms\n",
      "image 77/163 D:\\majorproj\\kitti_hyb\\images\\train\\000142.png: 375x1242 10 Cars, 1 Truck, 238.0ms\n",
      "image 78/163 D:\\majorproj\\kitti_hyb\\images\\train\\000143.png: 375x1242 2 Cars, 244.3ms\n",
      "image 79/163 D:\\majorproj\\kitti_hyb\\images\\train\\000145.png: 370x1224 2 Trucks, 4 Vans, 2 Cars, 220.0ms\n",
      "image 80/163 D:\\majorproj\\kitti_hyb\\images\\train\\000147.png: 374x1238 2 Vans, 1 Car, 222.3ms\n",
      "image 81/163 D:\\majorproj\\kitti_hyb\\images\\train\\000148.png: 375x1242 1 Car, 194.7ms\n",
      "image 82/163 D:\\majorproj\\kitti_hyb\\images\\train\\000149.png: 375x1242 13 Cars, 211.0ms\n",
      "image 83/163 D:\\majorproj\\kitti_hyb\\images\\train\\000150.png: 375x1242 3 Cars, 206.5ms\n",
      "image 84/163 D:\\majorproj\\kitti_hyb\\images\\train\\000151.png: 370x1224 2 Cars, 211.5ms\n",
      "image 85/163 D:\\majorproj\\kitti_hyb\\images\\train\\000152.png: 375x1242 9 Cars, 226.5ms\n",
      "image 86/163 D:\\majorproj\\kitti_hyb\\images\\train\\000154.png: 375x1242 5 Cars, 1 Van, 220.0ms\n",
      "image 87/163 D:\\majorproj\\kitti_hyb\\images\\train\\000158.png: 375x1242 1 Car, 249.5ms\n",
      "image 88/163 D:\\majorproj\\kitti_hyb\\images\\train\\000160.png: 375x1242 3 Cars, 310.5ms\n",
      "image 89/163 D:\\majorproj\\kitti_hyb\\images\\train\\000162.png: 375x1242 3 Cars, 257.3ms\n",
      "image 90/163 D:\\majorproj\\kitti_hyb\\images\\train\\000163.png: 375x1242 6 Cars, 284.3ms\n",
      "image 91/163 D:\\majorproj\\kitti_hyb\\images\\train\\000166.png: 375x1242 3 Cars, 307.5ms\n",
      "image 92/163 D:\\majorproj\\kitti_hyb\\images\\train\\000170.png: 376x1241 1 Car, 307.4ms\n",
      "image 93/163 D:\\majorproj\\kitti_hyb\\images\\train\\000172.png: 375x1242 10 Cars, 276.1ms\n",
      "image 94/163 D:\\majorproj\\kitti_hyb\\images\\train\\000173.png: 375x1242 7 Cars, 274.6ms\n",
      "image 95/163 D:\\majorproj\\kitti_hyb\\images\\train\\000175.png: 375x1242 1 Car, 302.3ms\n",
      "image 96/163 D:\\majorproj\\kitti_hyb\\images\\train\\000178.png: 375x1242 9 Cars, 302.1ms\n",
      "image 97/163 D:\\majorproj\\kitti_hyb\\images\\train\\000183.png: 375x1242 3 Cars, 257.6ms\n",
      "image 98/163 D:\\majorproj\\kitti_hyb\\images\\train\\000186.png: 375x1242 4 Cars, 291.3ms\n",
      "image 99/163 D:\\majorproj\\kitti_hyb\\images\\train\\000189.png: 370x1224 3 Vans, 263.3ms\n",
      "image 100/163 D:\\majorproj\\kitti_hyb\\images\\train\\000190.png: 374x1238 1 Car, 271.6ms\n",
      "image 101/163 D:\\majorproj\\kitti_hyb\\images\\train\\000191.png: 376x1241 12 Cars, 236.9ms\n",
      "image 102/163 D:\\majorproj\\kitti_hyb\\images\\train\\000193.png: 370x1224 1 Van, 247.3ms\n",
      "image 103/163 D:\\majorproj\\kitti_hyb\\images\\train\\000194.png: 375x1242 2 Cars, 241.0ms\n",
      "image 104/163 D:\\majorproj\\kitti_hyb\\images\\train\\000195.png: 375x1242 1 Van, 238.5ms\n",
      "image 105/163 D:\\majorproj\\kitti_hyb\\images\\train\\000197.png: 375x1242 4 Cars, 221.3ms\n",
      "image 106/163 D:\\majorproj\\kitti_hyb\\images\\train\\000201.png: 375x1242 5 Cars, 2 Vans, 242.0ms\n",
      "image 107/163 D:\\majorproj\\kitti_hyb\\images\\train\\000203.png: 375x1242 1 Van, 1 Car, 223.4ms\n",
      "image 108/163 D:\\majorproj\\kitti_hyb\\images\\train\\000205.png: 375x1242 3 Cars, 188.5ms\n",
      "image 109/163 D:\\majorproj\\kitti_hyb\\images\\train\\000207.png: 375x1242 4 Cars, 180.4ms\n",
      "image 110/163 D:\\majorproj\\kitti_hyb\\images\\train\\000209.png: 370x1224 1 Van, 167.3ms\n",
      "image 111/163 D:\\majorproj\\kitti_hyb\\images\\train\\000211.png: 375x1242 4 Cars, 174.0ms\n",
      "image 112/163 D:\\majorproj\\kitti_hyb\\images\\train\\000212.png: 375x1242 6 Cars, 219.9ms\n",
      "image 113/163 D:\\majorproj\\kitti_hyb\\images\\train\\000213.png: 375x1242 15 Cars, 209.3ms\n",
      "image 114/163 D:\\majorproj\\kitti_hyb\\images\\train\\000214.png: 375x1242 2 Cars, 1 Truck, 1 Van, 218.5ms\n",
      "image 115/163 D:\\majorproj\\kitti_hyb\\images\\train\\000215.png: 375x1242 2 Cars, 203.6ms\n",
      "image 116/163 D:\\majorproj\\kitti_hyb\\images\\train\\000218.png: 375x1242 5 Cars, 213.1ms\n",
      "image 117/163 D:\\majorproj\\kitti_hyb\\images\\train\\000219.png: 375x1242 1 Car, 221.2ms\n",
      "image 118/163 D:\\majorproj\\kitti_hyb\\images\\train\\000223.png: 375x1242 2 Cars, 192.9ms\n",
      "image 119/163 D:\\majorproj\\kitti_hyb\\images\\train\\000224.png: 375x1242 1 Car, 206.0ms\n",
      "image 120/163 D:\\majorproj\\kitti_hyb\\images\\train\\000225.png: 375x1242 3 Cars, 208.1ms\n",
      "image 121/163 D:\\majorproj\\kitti_hyb\\images\\train\\000227.png: 375x1242 6 Cars, 208.2ms\n",
      "image 122/163 D:\\majorproj\\kitti_hyb\\images\\train\\000229.png: 375x1242 1 Car, 1 Van, 200.8ms\n",
      "image 123/163 D:\\majorproj\\kitti_hyb\\images\\train\\000232.png: 375x1242 1 Car, 204.0ms\n",
      "image 124/163 D:\\majorproj\\kitti_hyb\\images\\train\\000234.png: 375x1242 6 Cars, 201.5ms\n",
      "image 125/163 D:\\majorproj\\kitti_hyb\\images\\train\\000236.png: 376x1241 8 Cars, 192.7ms\n",
      "image 126/163 D:\\majorproj\\kitti_hyb\\images\\train\\000237.png: 375x1242 3 Cars, 216.5ms\n",
      "image 127/163 D:\\majorproj\\kitti_hyb\\images\\train\\000238.png: 375x1242 3 Cars, 241.8ms\n",
      "image 128/163 D:\\majorproj\\kitti_hyb\\images\\train\\000240.png: 375x1242 1 Car, 211.1ms\n",
      "image 129/163 D:\\majorproj\\kitti_hyb\\images\\train\\000241.png: 375x1242 (no detections), 230.8ms\n",
      "image 130/163 D:\\majorproj\\kitti_hyb\\images\\train\\000243.png: 375x1242 6 Cars, 238.2ms\n",
      "image 131/163 D:\\majorproj\\kitti_hyb\\images\\train\\000244.png: 375x1242 12 Cars, 219.0ms\n",
      "image 132/163 D:\\majorproj\\kitti_hyb\\images\\train\\000246.png: 376x1241 4 Cars, 185.0ms\n",
      "image 133/163 D:\\majorproj\\kitti_hyb\\images\\train\\000250.png: 375x1242 3 Cars, 201.8ms\n",
      "image 134/163 D:\\majorproj\\kitti_hyb\\images\\train\\000252.png: 375x1242 3 Cars, 206.3ms\n",
      "image 135/163 D:\\majorproj\\kitti_hyb\\images\\train\\000256.png: 375x1242 5 Cars, 213.6ms\n",
      "image 136/163 D:\\majorproj\\kitti_hyb\\images\\train\\000257.png: 375x1242 (no detections), 220.4ms\n",
      "image 137/163 D:\\majorproj\\kitti_hyb\\images\\train\\000258.png: 375x1242 4 Cars, 265.4ms\n",
      "image 138/163 D:\\majorproj\\kitti_hyb\\images\\train\\000260.png: 375x1242 1 Car, 2276.1ms\n",
      "image 139/163 D:\\majorproj\\kitti_hyb\\images\\train\\000261.png: 375x1242 1 Car, 287.5ms\n",
      "image 140/163 D:\\majorproj\\kitti_hyb\\images\\train\\000266.png: 375x1242 7 Cars, 2 Trucks, 273.0ms\n",
      "image 141/163 D:\\majorproj\\kitti_hyb\\images\\train\\000268.png: 375x1242 3 Cars, 268.1ms\n",
      "image 142/163 D:\\majorproj\\kitti_hyb\\images\\train\\000270.png: 375x1242 2 Cars, 267.1ms\n",
      "image 143/163 D:\\majorproj\\kitti_hyb\\images\\train\\000271.png: 375x1242 1 Car, 297.9ms\n",
      "image 144/163 D:\\majorproj\\kitti_hyb\\images\\train\\000272.png: 375x1242 1 Car, 284.5ms\n",
      "image 145/163 D:\\majorproj\\kitti_hyb\\images\\train\\000273.png: 375x1242 2 Cars, 268.4ms\n",
      "image 146/163 D:\\majorproj\\kitti_hyb\\images\\train\\000274.png: 375x1242 9 Cars, 2 Vans, 1 Truck, 269.6ms\n",
      "image 147/163 D:\\majorproj\\kitti_hyb\\images\\train\\000275.png: 375x1242 5 Cars, 1 Van, 253.9ms\n",
      "image 148/163 D:\\majorproj\\kitti_hyb\\images\\train\\000276.png: 375x1242 3 Cars, 253.2ms\n",
      "image 149/163 D:\\majorproj\\kitti_hyb\\images\\train\\000278.png: 375x1242 1 Car, 260.0ms\n",
      "image 150/163 D:\\majorproj\\kitti_hyb\\images\\train\\000280.png: 375x1242 1 Car, 234.6ms\n",
      "image 151/163 D:\\majorproj\\kitti_hyb\\images\\train\\000282.png: 375x1242 1 Car, 243.5ms\n",
      "image 152/163 D:\\majorproj\\kitti_hyb\\images\\train\\000283.png: 375x1242 2 Cars, 222.0ms\n",
      "image 153/163 D:\\majorproj\\kitti_hyb\\images\\train\\000285.png: 375x1242 7 Cars, 240.8ms\n",
      "image 154/163 D:\\majorproj\\kitti_hyb\\images\\train\\000287.png: 375x1242 4 Vans, 239.9ms\n",
      "image 155/163 D:\\majorproj\\kitti_hyb\\images\\train\\000288.png: 370x1224 1 Van, 252.0ms\n",
      "image 156/163 D:\\majorproj\\kitti_hyb\\images\\train\\000289.png: 376x1241 2 Cars, 194.4ms\n",
      "image 157/163 D:\\majorproj\\kitti_hyb\\images\\train\\000290.png: 370x1224 1 Van, 256.0ms\n",
      "image 158/163 D:\\majorproj\\kitti_hyb\\images\\train\\000292.png: 375x1242 1 Car, 230.9ms\n",
      "image 159/163 D:\\majorproj\\kitti_hyb\\images\\train\\000295.png: 375x1242 1 Car, 1 Truck, 2 Vans, 216.3ms\n",
      "image 160/163 D:\\majorproj\\kitti_hyb\\images\\train\\000297.png: 375x1242 2 Cars, 232.5ms\n",
      "image 161/163 D:\\majorproj\\kitti_hyb\\images\\train\\000298.png: 370x1224 1 Van, 250.0ms\n",
      "image 162/163 D:\\majorproj\\kitti_hyb\\images\\train\\000299.png: 375x1242 (no detections), 227.9ms\n",
      "image 163/163 D:\\majorproj\\kitti_hyb\\images\\train\\000300.png: 375x1242 (no detections), 209.3ms\n",
      "\n",
      "Results saved to runs\\detect\\predict20\n",
      "Labels saved to runs\\detect\\predict20/labels\n"
     ]
    }
   ],
   "source": [
    "from ultralytics import YOLO\n",
    "import os\n",
    "\n",
    "# Load your trained YOLOv8 model\n",
    "model = YOLO(\"C:/Users/bhavy/yolov5/runs/detect/train17/weights/best.pt\")\n",
    "\n",
    "# Run inference\n",
    "results = model.predict(\"D:/majorproj/kitti_hyb/images/train\", save=True, save_txt=True, conf=0.5)\n",
    "\n",
    "# Print results like YOLOv5\n",
    "print()\n",
    "for i, result in enumerate(results, start=1):\n",
    "    path = result.path\n",
    "    shape = result.orig_shape\n",
    "    detections = result.boxes\n",
    "    line = f\"image {i}/{len(results)} {path}: {shape[0]}x{shape[1]}\"\n",
    "\n",
    "    if len(detections) == 0:\n",
    "        line += \" (no detections)\"\n",
    "    else:\n",
    "        counts = {}\n",
    "        for cls in detections.cls.tolist():\n",
    "            name = model.names[int(cls)]\n",
    "            counts[name] = counts.get(name, 0) + 1\n",
    "        line += \" \" + \", \".join([f\"{v} {k}\" + (\"s\" if v > 1 else \"\") for k, v in counts.items()])\n",
    "\n",
    "    line += f\", {result.speed['inference']:.1f}ms\"\n",
    "    print(line)\n",
    "\n",
    "# Print where results are saved\n",
    "print(f\"\\nResults saved to {model.predictor.save_dir}\")\n",
    "print(f\"Labels saved to {model.predictor.save_dir}/labels\")\n"
   ]
  },
  {
   "cell_type": "code",
   "execution_count": 23,
   "id": "b2bc609b",
   "metadata": {},
   "outputs": [
    {
     "name": "stdout",
     "output_type": "stream",
     "text": [
      "\n",
      "✅ Safe merging completed! Output saved to: runs/detect/hybrid_train/labels\n"
     ]
    }
   ],
   "source": [
    "import os\n",
    "import numpy as np\n",
    "\n",
    "# Define paths\n",
    "yolov5_results = \"runs/detect/predict16/labels\"\n",
    "yolov8_results = \"runs/detect/predict15/labels\"\n",
    "merged_results = \"runs/detect/hybrid_train/labels\"\n",
    "import os\n",
    "import numpy as np\n",
    "\n",
    "# Create directory\n",
    "os.makedirs(merged_results, exist_ok=True)\n",
    "\n",
    "for file in os.listdir(yolov5_results):\n",
    "    yolov5_path = os.path.join(yolov5_results, file)\n",
    "    yolov8_path = os.path.join(yolov8_results, file)\n",
    "\n",
    "    # Load YOLOv5 data\n",
    "    yolov5_data = np.loadtxt(yolov5_path, ndmin=2) if os.path.exists(yolov5_path) else np.empty((0, 6))\n",
    "    \n",
    "    # If YOLOv5 has 5 columns, pad with dummy confidence\n",
    "    if yolov5_data.shape[1] == 5:\n",
    "        yolov5_data = np.hstack((yolov5_data, np.ones((yolov5_data.shape[0], 1))))\n",
    "\n",
    "    # Load YOLOv8 data\n",
    "    yolov8_data = np.loadtxt(yolov8_path, ndmin=2) if os.path.exists(yolov8_path) else np.empty((0, 6))\n",
    "\n",
    "    # If YOLOv8 has 5 columns, pad with dummy confidence\n",
    "    if yolov8_data.shape[1] == 5:\n",
    "        yolov8_data = np.hstack((yolov8_data, np.ones((yolov8_data.shape[0], 1))))\n",
    "\n",
    "    # Final merge\n",
    "    merged_data = np.vstack((yolov5_data, yolov8_data))\n",
    "\n",
    "    # Save\n",
    "    np.savetxt(os.path.join(merged_results, file), merged_data, fmt=\"%.6f\")\n",
    "\n",
    "print(\"\\n✅ Safe merging completed! Output saved to:\", merged_results)\n"
   ]
  },
  {
   "cell_type": "code",
   "execution_count": 24,
   "id": "9283af8a",
   "metadata": {},
   "outputs": [
    {
     "name": "stdout",
     "output_type": "stream",
     "text": [
      "✅ Precision: 0.7500\n",
      "✅ Recall:    0.6595\n",
      "✅ F1 Score:  0.7018\n"
     ]
    }
   ],
   "source": [
    "import os\n",
    "import glob\n",
    "import numpy as np\n",
    "from sklearn.metrics import average_precision_score\n",
    "\n",
    "# Define paths\n",
    "ground_truth_path = r\"D:\\majorproj\\kitti_hyb\\labels\\train\"\n",
    "predicted_path = r\"runs\\detect\\hybrid_train\\labels\"\n",
    "\n",
    "\n",
    "TP, FP, FN = 0, 0, 0\n",
    "IoU_thresholds = np.linspace(0.5, 0.95, 10)\n",
    "\n",
    "y_true_all = []\n",
    "y_score_all = []\n",
    "\n",
    "def compute_iou(box1, box2):\n",
    "    x1, y1, w1, h1 = box1[1:5]\n",
    "    x2, y2, w2, h2 = box2[1:5]\n",
    "\n",
    "    box1 = [x1 - w1/2, y1 - h1/2, x1 + w1/2, y1 + h1/2]\n",
    "    box2 = [x2 - w2/2, y2 - h2/2, x2 + w2/2, y2 + h2/2]\n",
    "\n",
    "    xi1, yi1 = max(box1[0], box2[0]), max(box1[1], box2[1])\n",
    "    xi2, yi2 = min(box1[2], box2[2]), min(box1[3], box2[3])\n",
    "\n",
    "    inter_area = max(0, xi2 - xi1) * max(0, yi2 - yi1)\n",
    "    union_area = (box1[2]-box1[0]) * (box1[3]-box1[1]) + (box2[2]-box2[0]) * (box2[3]-box2[1]) - inter_area\n",
    "\n",
    "    return inter_area / union_area if union_area else 0\n",
    "\n",
    "for gt_file in glob.glob(f\"{ground_truth_path}/*.txt\"):\n",
    "    file_name = os.path.basename(gt_file)\n",
    "    gt_boxes = np.loadtxt(gt_file)\n",
    "    pred_boxes_path = f\"{predicted_path}/{file_name}\"\n",
    "\n",
    "    if gt_boxes.ndim == 1:\n",
    "        gt_boxes = gt_boxes.reshape(1, -1)\n",
    "\n",
    "    if not os.path.exists(pred_boxes_path):\n",
    "        FN += len(gt_boxes)\n",
    "        y_true_all.extend([1] * len(gt_boxes))\n",
    "        y_score_all.extend([0] * len(gt_boxes))\n",
    "        continue\n",
    "\n",
    "    pred_boxes = np.loadtxt(pred_boxes_path)\n",
    "    if pred_boxes.ndim == 1:\n",
    "        pred_boxes = pred_boxes.reshape(1, -1)\n",
    "\n",
    "    # Filter low confidence predictions\n",
    "    pred_boxes = pred_boxes[pred_boxes[:, -1] >= 0.25]\n",
    "    matched = []\n",
    "\n",
    "    for gt_box in gt_boxes:\n",
    "        best_iou, best_idx = 0, -1\n",
    "        for i, pred_box in enumerate(pred_boxes):\n",
    "            if i in matched:\n",
    "                continue\n",
    "            if int(gt_box[0]) != int(pred_box[0]):\n",
    "                continue\n",
    "            iou = compute_iou(gt_box, pred_box)\n",
    "            if iou > best_iou:\n",
    "                best_iou = iou\n",
    "                best_idx = i\n",
    "\n",
    "        if best_iou >= 0.5:\n",
    "            TP += 1\n",
    "            matched.append(best_idx)\n",
    "            y_true_all.append(1)\n",
    "            y_score_all.append(pred_boxes[best_idx][-1])\n",
    "        else:\n",
    "            FN += 1\n",
    "            y_true_all.append(1)\n",
    "            y_score_all.append(0)\n",
    "\n",
    "    unmatched_indices = [i for i in range(len(pred_boxes)) if i not in matched]\n",
    "    FP += len(unmatched_indices)\n",
    "    y_true_all.extend([0] * len(unmatched_indices))\n",
    "    if unmatched_indices:\n",
    "        y_score_all.extend(pred_boxes[unmatched_indices, -1])\n",
    "\n",
    "# Metrics\n",
    "precision = TP / (TP + FP) if (TP + FP) else 0\n",
    "recall = TP / (TP + FN) if (TP + FN) else 0\n",
    "f1_score = 2 * (precision * recall) / (precision + recall) if (precision + recall) else 0\n",
    "mAP_50 = average_precision_score(y_true_all, y_score_all) if y_true_all else 0\n",
    "mAP_50_95 = np.mean([average_precision_score(y_true_all, y_score_all) for _ in IoU_thresholds]) if y_true_all else 0\n",
    "\n",
    "print(f\"✅ Precision: {precision:.4f}\")\n",
    "print(f\"✅ Recall:    {recall:.4f}\")\n",
    "print(f\"✅ F1 Score:  {f1_score:.4f}\")\n",
    "\n",
    "\n"
   ]
  },
  {
   "cell_type": "code",
   "execution_count": 25,
   "id": "6b9bc612",
   "metadata": {},
   "outputs": [
    {
     "name": "stdout",
     "output_type": "stream",
     "text": [
      "mAP@50: 0.5033\n",
      "mAP@50-95: 0.2947\n"
     ]
    }
   ],
   "source": [
    "import os\n",
    "import glob\n",
    "import numpy as np\n",
    "from sklearn.metrics import average_precision_score\n",
    "# Define paths\n",
    "ground_truth_path = r\"D:\\majorproj\\kitti_hyb\\labels\\train\"\n",
    "predicted_path = r\"runs\\detect\\hybrid_train\\labels\"\n",
    "\n",
    "\n",
    "\n",
    "# Initialize lists to store AP values\n",
    "AP_50 = []\n",
    "AP_50_95 = []\n",
    "\n",
    "IoU_thresholds = np.arange(0.5, 1.0, 0.05)  # 0.5 to 0.95 with step 0.05\n",
    "\n",
    "# Function to compute IoU\n",
    "def compute_iou(box1, box2):\n",
    "    x1, y1, w1, h1 = box1[1:5]\n",
    "    x2, y2, w2, h2 = box2[1:5]\n",
    "\n",
    "    box1 = [x1 - w1/2, y1 - h1/2, x1 + w1/2, y1 + h1/2]\n",
    "    box2 = [x2 - w2/2, y2 - h2/2, x2 + w2/2, y2 + h2/2]\n",
    "\n",
    "    xi1, yi1 = max(box1[0], box2[0]), max(box1[1], box2[1])\n",
    "    xi2, yi2 = min(box1[2], box2[2]), min(box1[3], box2[3])\n",
    "    inter_area = max(0, xi2 - xi1) * max(0, yi2 - yi1)\n",
    "\n",
    "    box1_area = w1 * h1\n",
    "    box2_area = w2 * h2\n",
    "    union_area = box1_area + box2_area - inter_area\n",
    "\n",
    "    return inter_area / union_area if union_area else 0\n",
    "\n",
    "# Loop over different IoU thresholds\n",
    "for iou_thresh in IoU_thresholds:\n",
    "    TP_iou, FP_iou, FN_iou = 0, 0, 0\n",
    "\n",
    "    for gt_file in glob.glob(f\"{ground_truth_path}/*.txt\"):\n",
    "        file_name = os.path.basename(gt_file)\n",
    "        pred_file = f\"{predicted_path}/{file_name}\"\n",
    "\n",
    "        # Check if prediction file exists\n",
    "        if not os.path.exists(pred_file):\n",
    "            #print(f\"Warning: Prediction file {file_name} not found, skipping.\")\n",
    "            continue  # Skip to the next file\n",
    "\n",
    "        # Load ground truth and prediction boxes\n",
    "        gt_boxes = np.loadtxt(gt_file, ndmin=2)  # Ensure 2D array even if empty\n",
    "        pred_boxes = np.loadtxt(pred_file, ndmin=2) if os.path.getsize(pred_file) > 0 else np.empty((0, 5))\n",
    "\n",
    "        matched = []\n",
    "        for gt_box in gt_boxes:\n",
    "            best_iou, best_pred_idx = 0, -1\n",
    "            for i, pred_box in enumerate(pred_boxes):\n",
    "                if i in matched or gt_box[0] != pred_box[0]:  # Class should match\n",
    "                    continue\n",
    "                iou = compute_iou(gt_box, pred_box)\n",
    "                if iou > best_iou:\n",
    "                    best_iou, best_pred_idx = iou, i\n",
    "            if best_iou >= iou_thresh:\n",
    "                TP_iou += 1\n",
    "                matched.append(best_pred_idx)\n",
    "            else:\n",
    "                FN_iou += 1\n",
    "\n",
    "        FP_iou += len(pred_boxes) - len(matched)\n",
    "\n",
    "    # Compute precision, recall, AP\n",
    "    precision_iou = TP_iou / (TP_iou + FP_iou) if (TP_iou + FP_iou) else 0\n",
    "    recall_iou = TP_iou / (TP_iou + FN_iou) if (TP_iou + FN_iou) else 0\n",
    "    ap_iou = precision_iou * recall_iou if TP_iou else 0  # Approximate AP\n",
    "\n",
    "    if iou_thresh == 0.5:\n",
    "        AP_50.append(ap_iou)  # Store AP at IoU=0.5\n",
    "    AP_50_95.append(ap_iou)  # Store AP for all IoU values\n",
    "\n",
    "# Compute final mAP scores\n",
    "mAP_50 = np.mean(AP_50)\n",
    "mAP_50_95 = np.mean(AP_50_95)\n",
    "\n",
    "print(f\"mAP@50: {mAP_50:.4f}\")\n",
    "print(f\"mAP@50-95: {mAP_50_95:.4f}\")\n"
   ]
  },
  {
   "cell_type": "code",
   "execution_count": null,
   "id": "e0cad33d",
   "metadata": {},
   "outputs": [],
   "source": []
  }
 ],
 "metadata": {
  "kernelspec": {
   "display_name": "Python 3 (ipykernel)",
   "language": "python",
   "name": "python3"
  },
  "language_info": {
   "codemirror_mode": {
    "name": "ipython",
    "version": 3
   },
   "file_extension": ".py",
   "mimetype": "text/x-python",
   "name": "python",
   "nbconvert_exporter": "python",
   "pygments_lexer": "ipython3",
   "version": "3.11.5"
  }
 },
 "nbformat": 4,
 "nbformat_minor": 5
}
