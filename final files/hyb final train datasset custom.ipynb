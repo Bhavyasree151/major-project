{
 "cells": [
  {
   "cell_type": "code",
   "execution_count": 1,
   "id": "26d6c88f",
   "metadata": {},
   "outputs": [
    {
     "name": "stdout",
     "output_type": "stream",
     "text": [
      "Requirement already satisfied: ultralytics in c:\\users\\bhavy\\anaconda32\\lib\\site-packages (8.3.73)\n",
      "Requirement already satisfied: numpy<=2.1.1,>=1.23.0 in c:\\users\\bhavy\\anaconda32\\lib\\site-packages (from ultralytics) (1.26.4)\n",
      "Requirement already satisfied: matplotlib>=3.3.0 in c:\\users\\bhavy\\anaconda32\\lib\\site-packages (from ultralytics) (3.7.2)\n",
      "Requirement already satisfied: opencv-python>=4.6.0 in c:\\users\\bhavy\\anaconda32\\lib\\site-packages (from ultralytics) (4.9.0.80)\n",
      "Requirement already satisfied: pillow>=7.1.2 in c:\\users\\bhavy\\anaconda32\\lib\\site-packages (from ultralytics) (11.1.0)\n",
      "Requirement already satisfied: pyyaml>=5.3.1 in c:\\users\\bhavy\\anaconda32\\lib\\site-packages (from ultralytics) (6.0)\n",
      "Requirement already satisfied: requests>=2.23.0 in c:\\users\\bhavy\\anaconda32\\lib\\site-packages (from ultralytics) (2.32.3)\n",
      "Requirement already satisfied: scipy>=1.4.1 in c:\\users\\bhavy\\anaconda32\\lib\\site-packages (from ultralytics) (1.11.1)\n",
      "Requirement already satisfied: torch>=1.8.0 in c:\\users\\bhavy\\anaconda32\\lib\\site-packages (from ultralytics) (2.2.2)\n",
      "Requirement already satisfied: torchvision>=0.9.0 in c:\\users\\bhavy\\anaconda32\\lib\\site-packages (from ultralytics) (0.17.2)\n",
      "Requirement already satisfied: tqdm>=4.64.0 in c:\\users\\bhavy\\anaconda32\\lib\\site-packages (from ultralytics) (4.67.1)\n",
      "Requirement already satisfied: psutil in c:\\users\\bhavy\\anaconda32\\lib\\site-packages (from ultralytics) (5.9.0)\n",
      "Requirement already satisfied: py-cpuinfo in c:\\users\\bhavy\\anaconda32\\lib\\site-packages (from ultralytics) (8.0.0)\n",
      "Requirement already satisfied: pandas>=1.1.4 in c:\\users\\bhavy\\anaconda32\\lib\\site-packages (from ultralytics) (2.0.3)\n",
      "Requirement already satisfied: seaborn>=0.11.0 in c:\\users\\bhavy\\anaconda32\\lib\\site-packages (from ultralytics) (0.12.2)\n",
      "Requirement already satisfied: ultralytics-thop>=2.0.0 in c:\\users\\bhavy\\anaconda32\\lib\\site-packages (from ultralytics) (2.0.14)\n",
      "Requirement already satisfied: contourpy>=1.0.1 in c:\\users\\bhavy\\anaconda32\\lib\\site-packages (from matplotlib>=3.3.0->ultralytics) (1.0.5)\n",
      "Requirement already satisfied: cycler>=0.10 in c:\\users\\bhavy\\anaconda32\\lib\\site-packages (from matplotlib>=3.3.0->ultralytics) (0.11.0)\n",
      "Requirement already satisfied: fonttools>=4.22.0 in c:\\users\\bhavy\\anaconda32\\lib\\site-packages (from matplotlib>=3.3.0->ultralytics) (4.25.0)\n",
      "Requirement already satisfied: kiwisolver>=1.0.1 in c:\\users\\bhavy\\anaconda32\\lib\\site-packages (from matplotlib>=3.3.0->ultralytics) (1.4.4)\n",
      "Requirement already satisfied: packaging>=20.0 in c:\\users\\bhavy\\anaconda32\\lib\\site-packages (from matplotlib>=3.3.0->ultralytics) (23.1)\n",
      "Requirement already satisfied: pyparsing<3.1,>=2.3.1 in c:\\users\\bhavy\\anaconda32\\lib\\site-packages (from matplotlib>=3.3.0->ultralytics) (3.0.9)\n",
      "Requirement already satisfied: python-dateutil>=2.7 in c:\\users\\bhavy\\anaconda32\\lib\\site-packages (from matplotlib>=3.3.0->ultralytics) (2.8.2)\n",
      "Requirement already satisfied: pytz>=2020.1 in c:\\users\\bhavy\\anaconda32\\lib\\site-packages (from pandas>=1.1.4->ultralytics) (2023.3.post1)\n",
      "Requirement already satisfied: tzdata>=2022.1 in c:\\users\\bhavy\\anaconda32\\lib\\site-packages (from pandas>=1.1.4->ultralytics) (2023.3)\n",
      "Requirement already satisfied: charset-normalizer<4,>=2 in c:\\users\\bhavy\\anaconda32\\lib\\site-packages (from requests>=2.23.0->ultralytics) (2.0.4)\n",
      "Requirement already satisfied: idna<4,>=2.5 in c:\\users\\bhavy\\anaconda32\\lib\\site-packages (from requests>=2.23.0->ultralytics) (3.7)\n",
      "Requirement already satisfied: urllib3<3,>=1.21.1 in c:\\users\\bhavy\\anaconda32\\lib\\site-packages (from requests>=2.23.0->ultralytics) (1.26.16)\n",
      "Requirement already satisfied: certifi>=2017.4.17 in c:\\users\\bhavy\\anaconda32\\lib\\site-packages (from requests>=2.23.0->ultralytics) (2024.2.2)\n",
      "Requirement already satisfied: filelock in c:\\users\\bhavy\\anaconda32\\lib\\site-packages (from torch>=1.8.0->ultralytics) (3.9.0)\n",
      "Requirement already satisfied: typing-extensions>=4.8.0 in c:\\users\\bhavy\\anaconda32\\lib\\site-packages (from torch>=1.8.0->ultralytics) (4.12.2)\n",
      "Requirement already satisfied: sympy in c:\\users\\bhavy\\anaconda32\\lib\\site-packages (from torch>=1.8.0->ultralytics) (1.11.1)\n",
      "Requirement already satisfied: networkx in c:\\users\\bhavy\\anaconda32\\lib\\site-packages (from torch>=1.8.0->ultralytics) (3.1)\n",
      "Requirement already satisfied: jinja2 in c:\\users\\bhavy\\anaconda32\\lib\\site-packages (from torch>=1.8.0->ultralytics) (3.1.2)\n",
      "Requirement already satisfied: fsspec in c:\\users\\bhavy\\anaconda32\\lib\\site-packages (from torch>=1.8.0->ultralytics) (2023.4.0)\n",
      "Requirement already satisfied: colorama in c:\\users\\bhavy\\anaconda32\\lib\\site-packages (from tqdm>=4.64.0->ultralytics) (0.4.6)\n",
      "Requirement already satisfied: six>=1.5 in c:\\users\\bhavy\\anaconda32\\lib\\site-packages (from python-dateutil>=2.7->matplotlib>=3.3.0->ultralytics) (1.16.0)\n",
      "Requirement already satisfied: MarkupSafe>=2.0 in c:\\users\\bhavy\\anaconda32\\lib\\site-packages (from jinja2->torch>=1.8.0->ultralytics) (2.1.1)\n",
      "Requirement already satisfied: mpmath>=0.19 in c:\\users\\bhavy\\anaconda32\\lib\\site-packages (from sympy->torch>=1.8.0->ultralytics) (1.3.0)\n"
     ]
    },
    {
     "name": "stderr",
     "output_type": "stream",
     "text": [
      "WARNING: Ignoring invalid distribution ~ip (C:\\Users\\bhavy\\AppData\\Roaming\\Python\\Python311\\site-packages)\n",
      "WARNING: Ignoring invalid distribution ~ip (C:\\Users\\bhavy\\AppData\\Roaming\\Python\\Python311\\site-packages)\n",
      "WARNING: Ignoring invalid distribution ~ip (C:\\Users\\bhavy\\AppData\\Roaming\\Python\\Python311\\site-packages)\n",
      "WARNING: Ignoring invalid distribution ~ip (C:\\Users\\bhavy\\AppData\\Roaming\\Python\\Python311\\site-packages)\n",
      "WARNING: Ignoring invalid distribution ~ip (C:\\Users\\bhavy\\AppData\\Roaming\\Python\\Python311\\site-packages)\n"
     ]
    },
    {
     "name": "stdout",
     "output_type": "stream",
     "text": [
      "Looking in indexes: https://download.pytorch.org/whl/cu118\n",
      "Requirement already satisfied: torch in c:\\users\\bhavy\\anaconda32\\lib\\site-packages (2.2.2)\n",
      "Requirement already satisfied: torchvision in c:\\users\\bhavy\\anaconda32\\lib\\site-packages (0.17.2)\n",
      "Requirement already satisfied: torchaudio in c:\\users\\bhavy\\anaconda32\\lib\\site-packages (2.2.2)\n",
      "Requirement already satisfied: filelock in c:\\users\\bhavy\\anaconda32\\lib\\site-packages (from torch) (3.9.0)\n",
      "Requirement already satisfied: typing-extensions>=4.8.0 in c:\\users\\bhavy\\anaconda32\\lib\\site-packages (from torch) (4.12.2)\n",
      "Requirement already satisfied: sympy in c:\\users\\bhavy\\anaconda32\\lib\\site-packages (from torch) (1.11.1)\n",
      "Requirement already satisfied: networkx in c:\\users\\bhavy\\anaconda32\\lib\\site-packages (from torch) (3.1)\n",
      "Requirement already satisfied: jinja2 in c:\\users\\bhavy\\anaconda32\\lib\\site-packages (from torch) (3.1.2)\n",
      "Requirement already satisfied: fsspec in c:\\users\\bhavy\\anaconda32\\lib\\site-packages (from torch) (2023.4.0)\n",
      "Requirement already satisfied: numpy in c:\\users\\bhavy\\anaconda32\\lib\\site-packages (from torchvision) (1.26.4)\n",
      "Requirement already satisfied: pillow!=8.3.*,>=5.3.0 in c:\\users\\bhavy\\anaconda32\\lib\\site-packages (from torchvision) (11.1.0)\n",
      "Requirement already satisfied: MarkupSafe>=2.0 in c:\\users\\bhavy\\anaconda32\\lib\\site-packages (from jinja2->torch) (2.1.1)\n",
      "Requirement already satisfied: mpmath>=0.19 in c:\\users\\bhavy\\anaconda32\\lib\\site-packages (from sympy->torch) (1.3.0)\n"
     ]
    },
    {
     "name": "stderr",
     "output_type": "stream",
     "text": [
      "WARNING: Ignoring invalid distribution ~ip (C:\\Users\\bhavy\\AppData\\Roaming\\Python\\Python311\\site-packages)\n",
      "WARNING: Ignoring invalid distribution ~ip (C:\\Users\\bhavy\\AppData\\Roaming\\Python\\Python311\\site-packages)\n",
      "WARNING: Ignoring invalid distribution ~ip (C:\\Users\\bhavy\\AppData\\Roaming\\Python\\Python311\\site-packages)\n",
      "WARNING: Ignoring invalid distribution ~ip (C:\\Users\\bhavy\\AppData\\Roaming\\Python\\Python311\\site-packages)\n",
      "WARNING: Ignoring invalid distribution ~ip (C:\\Users\\bhavy\\AppData\\Roaming\\Python\\Python311\\site-packages)\n",
      "WARNING: Ignoring invalid distribution ~ip (C:\\Users\\bhavy\\AppData\\Roaming\\Python\\Python311\\site-packages)\n",
      "WARNING: Ignoring invalid distribution ~ip (C:\\Users\\bhavy\\AppData\\Roaming\\Python\\Python311\\site-packages)\n",
      "WARNING: Ignoring invalid distribution ~ip (C:\\Users\\bhavy\\AppData\\Roaming\\Python\\Python311\\site-packages)\n",
      "WARNING: Ignoring invalid distribution ~ip (C:\\Users\\bhavy\\AppData\\Roaming\\Python\\Python311\\site-packages)\n",
      "WARNING: Ignoring invalid distribution ~ip (C:\\Users\\bhavy\\AppData\\Roaming\\Python\\Python311\\site-packages)\n"
     ]
    },
    {
     "name": "stdout",
     "output_type": "stream",
     "text": [
      "Requirement already satisfied: opencv-python in c:\\users\\bhavy\\anaconda32\\lib\\site-packages (4.9.0.80)\n",
      "Requirement already satisfied: numpy in c:\\users\\bhavy\\anaconda32\\lib\\site-packages (1.26.4)\n",
      "Requirement already satisfied: monodepth2 in c:\\users\\bhavy\\anaconda32\\lib\\site-packages (1.0.0)\n"
     ]
    }
   ],
   "source": [
    "!pip install ultralytics\n",
    "!pip install torch torchvision torchaudio --index-url https://download.pytorch.org/whl/cu118\n",
    "!pip install opencv-python numpy monodepth2\n"
   ]
  },
  {
   "cell_type": "code",
   "execution_count": 2,
   "id": "95273996",
   "metadata": {},
   "outputs": [
    {
     "name": "stdout",
     "output_type": "stream",
     "text": [
      "C:\\Users\\bhavy\\yolov5\n"
     ]
    },
    {
     "name": "stderr",
     "output_type": "stream",
     "text": [
      "fatal: destination path 'yolov5' already exists and is not an empty directory.\n"
     ]
    },
    {
     "name": "stdout",
     "output_type": "stream",
     "text": [
      "Requirement already satisfied: gitpython>=3.1.30 in c:\\users\\bhavy\\anaconda32\\lib\\site-packages (from -r requirements.txt (line 5)) (3.1.44)\n",
      "Requirement already satisfied: matplotlib>=3.3 in c:\\users\\bhavy\\anaconda32\\lib\\site-packages (from -r requirements.txt (line 6)) (3.7.2)\n",
      "Requirement already satisfied: numpy>=1.23.5 in c:\\users\\bhavy\\anaconda32\\lib\\site-packages (from -r requirements.txt (line 7)) (1.26.4)\n",
      "Requirement already satisfied: opencv-python>=4.1.1 in c:\\users\\bhavy\\anaconda32\\lib\\site-packages (from -r requirements.txt (line 8)) (4.9.0.80)\n",
      "Requirement already satisfied: pillow>=10.3.0 in c:\\users\\bhavy\\anaconda32\\lib\\site-packages (from -r requirements.txt (line 9)) (11.1.0)\n",
      "Requirement already satisfied: psutil in c:\\users\\bhavy\\anaconda32\\lib\\site-packages (from -r requirements.txt (line 10)) (5.9.0)\n",
      "Requirement already satisfied: PyYAML>=5.3.1 in c:\\users\\bhavy\\anaconda32\\lib\\site-packages (from -r requirements.txt (line 11)) (6.0)\n",
      "Requirement already satisfied: requests>=2.32.2 in c:\\users\\bhavy\\anaconda32\\lib\\site-packages (from -r requirements.txt (line 12)) (2.32.3)\n",
      "Requirement already satisfied: scipy>=1.4.1 in c:\\users\\bhavy\\anaconda32\\lib\\site-packages (from -r requirements.txt (line 13)) (1.11.1)\n",
      "Requirement already satisfied: thop>=0.1.1 in c:\\users\\bhavy\\anaconda32\\lib\\site-packages (from -r requirements.txt (line 14)) (0.1.1.post2209072238)\n",
      "Requirement already satisfied: torch>=1.8.0 in c:\\users\\bhavy\\anaconda32\\lib\\site-packages (from -r requirements.txt (line 15)) (2.2.2)\n",
      "Requirement already satisfied: torchvision>=0.9.0 in c:\\users\\bhavy\\anaconda32\\lib\\site-packages (from -r requirements.txt (line 16)) (0.17.2)\n",
      "Requirement already satisfied: tqdm>=4.66.3 in c:\\users\\bhavy\\anaconda32\\lib\\site-packages (from -r requirements.txt (line 17)) (4.67.1)\n",
      "Requirement already satisfied: ultralytics>=8.2.34 in c:\\users\\bhavy\\anaconda32\\lib\\site-packages (from -r requirements.txt (line 18)) (8.3.73)\n",
      "Requirement already satisfied: pandas>=1.1.4 in c:\\users\\bhavy\\anaconda32\\lib\\site-packages (from -r requirements.txt (line 27)) (2.0.3)\n",
      "Requirement already satisfied: seaborn>=0.11.0 in c:\\users\\bhavy\\anaconda32\\lib\\site-packages (from -r requirements.txt (line 28)) (0.12.2)\n",
      "Requirement already satisfied: setuptools>=70.0.0 in c:\\users\\bhavy\\anaconda32\\lib\\site-packages (from -r requirements.txt (line 42)) (75.8.0)\n",
      "Requirement already satisfied: gitdb<5,>=4.0.1 in c:\\users\\bhavy\\anaconda32\\lib\\site-packages (from gitpython>=3.1.30->-r requirements.txt (line 5)) (4.0.12)\n",
      "Requirement already satisfied: contourpy>=1.0.1 in c:\\users\\bhavy\\anaconda32\\lib\\site-packages (from matplotlib>=3.3->-r requirements.txt (line 6)) (1.0.5)\n",
      "Requirement already satisfied: cycler>=0.10 in c:\\users\\bhavy\\anaconda32\\lib\\site-packages (from matplotlib>=3.3->-r requirements.txt (line 6)) (0.11.0)\n",
      "Requirement already satisfied: fonttools>=4.22.0 in c:\\users\\bhavy\\anaconda32\\lib\\site-packages (from matplotlib>=3.3->-r requirements.txt (line 6)) (4.25.0)\n",
      "Requirement already satisfied: kiwisolver>=1.0.1 in c:\\users\\bhavy\\anaconda32\\lib\\site-packages (from matplotlib>=3.3->-r requirements.txt (line 6)) (1.4.4)\n",
      "Requirement already satisfied: packaging>=20.0 in c:\\users\\bhavy\\anaconda32\\lib\\site-packages (from matplotlib>=3.3->-r requirements.txt (line 6)) (23.1)\n",
      "Requirement already satisfied: pyparsing<3.1,>=2.3.1 in c:\\users\\bhavy\\anaconda32\\lib\\site-packages (from matplotlib>=3.3->-r requirements.txt (line 6)) (3.0.9)\n",
      "Requirement already satisfied: python-dateutil>=2.7 in c:\\users\\bhavy\\anaconda32\\lib\\site-packages (from matplotlib>=3.3->-r requirements.txt (line 6)) (2.8.2)\n",
      "Requirement already satisfied: charset-normalizer<4,>=2 in c:\\users\\bhavy\\anaconda32\\lib\\site-packages (from requests>=2.32.2->-r requirements.txt (line 12)) (2.0.4)\n",
      "Requirement already satisfied: idna<4,>=2.5 in c:\\users\\bhavy\\anaconda32\\lib\\site-packages (from requests>=2.32.2->-r requirements.txt (line 12)) (3.7)\n",
      "Requirement already satisfied: urllib3<3,>=1.21.1 in c:\\users\\bhavy\\anaconda32\\lib\\site-packages (from requests>=2.32.2->-r requirements.txt (line 12)) (1.26.16)\n",
      "Requirement already satisfied: certifi>=2017.4.17 in c:\\users\\bhavy\\anaconda32\\lib\\site-packages (from requests>=2.32.2->-r requirements.txt (line 12)) (2024.2.2)\n",
      "Requirement already satisfied: filelock in c:\\users\\bhavy\\anaconda32\\lib\\site-packages (from torch>=1.8.0->-r requirements.txt (line 15)) (3.9.0)\n",
      "Requirement already satisfied: typing-extensions>=4.8.0 in c:\\users\\bhavy\\anaconda32\\lib\\site-packages (from torch>=1.8.0->-r requirements.txt (line 15)) (4.12.2)\n",
      "Requirement already satisfied: sympy in c:\\users\\bhavy\\anaconda32\\lib\\site-packages (from torch>=1.8.0->-r requirements.txt (line 15)) (1.11.1)\n",
      "Requirement already satisfied: networkx in c:\\users\\bhavy\\anaconda32\\lib\\site-packages (from torch>=1.8.0->-r requirements.txt (line 15)) (3.1)\n",
      "Requirement already satisfied: jinja2 in c:\\users\\bhavy\\anaconda32\\lib\\site-packages (from torch>=1.8.0->-r requirements.txt (line 15)) (3.1.2)\n",
      "Requirement already satisfied: fsspec in c:\\users\\bhavy\\anaconda32\\lib\\site-packages (from torch>=1.8.0->-r requirements.txt (line 15)) (2023.4.0)\n",
      "Requirement already satisfied: colorama in c:\\users\\bhavy\\anaconda32\\lib\\site-packages (from tqdm>=4.66.3->-r requirements.txt (line 17)) (0.4.6)\n",
      "Requirement already satisfied: py-cpuinfo in c:\\users\\bhavy\\anaconda32\\lib\\site-packages (from ultralytics>=8.2.34->-r requirements.txt (line 18)) (8.0.0)\n",
      "Requirement already satisfied: ultralytics-thop>=2.0.0 in c:\\users\\bhavy\\anaconda32\\lib\\site-packages (from ultralytics>=8.2.34->-r requirements.txt (line 18)) (2.0.14)\n",
      "Requirement already satisfied: pytz>=2020.1 in c:\\users\\bhavy\\anaconda32\\lib\\site-packages (from pandas>=1.1.4->-r requirements.txt (line 27)) (2023.3.post1)\n",
      "Requirement already satisfied: tzdata>=2022.1 in c:\\users\\bhavy\\anaconda32\\lib\\site-packages (from pandas>=1.1.4->-r requirements.txt (line 27)) (2023.3)\n",
      "Requirement already satisfied: smmap<6,>=3.0.1 in c:\\users\\bhavy\\anaconda32\\lib\\site-packages (from gitdb<5,>=4.0.1->gitpython>=3.1.30->-r requirements.txt (line 5)) (5.0.2)\n",
      "Requirement already satisfied: six>=1.5 in c:\\users\\bhavy\\anaconda32\\lib\\site-packages (from python-dateutil>=2.7->matplotlib>=3.3->-r requirements.txt (line 6)) (1.16.0)\n",
      "Requirement already satisfied: MarkupSafe>=2.0 in c:\\users\\bhavy\\anaconda32\\lib\\site-packages (from jinja2->torch>=1.8.0->-r requirements.txt (line 15)) (2.1.1)\n",
      "Requirement already satisfied: mpmath>=0.19 in c:\\users\\bhavy\\anaconda32\\lib\\site-packages (from sympy->torch>=1.8.0->-r requirements.txt (line 15)) (1.3.0)\n"
     ]
    },
    {
     "name": "stderr",
     "output_type": "stream",
     "text": [
      "WARNING: Ignoring invalid distribution ~ip (C:\\Users\\bhavy\\AppData\\Roaming\\Python\\Python311\\site-packages)\n",
      "WARNING: Ignoring invalid distribution ~ip (C:\\Users\\bhavy\\AppData\\Roaming\\Python\\Python311\\site-packages)\n",
      "WARNING: Ignoring invalid distribution ~ip (C:\\Users\\bhavy\\AppData\\Roaming\\Python\\Python311\\site-packages)\n",
      "WARNING: Ignoring invalid distribution ~ip (C:\\Users\\bhavy\\AppData\\Roaming\\Python\\Python311\\site-packages)\n",
      "WARNING: Ignoring invalid distribution ~ip (C:\\Users\\bhavy\\AppData\\Roaming\\Python\\Python311\\site-packages)\n"
     ]
    }
   ],
   "source": [
    "# Clone YOLOv5 repository\n",
    "!git clone https://github.com/ultralytics/yolov5.git\n",
    "\n",
    "# Change directory to yolov5\n",
    "%cd yolov5\n",
    "\n",
    "# Install dependencies\n",
    "!pip install -r requirements.txt\n"
   ]
  },
  {
   "cell_type": "code",
   "execution_count": 3,
   "id": "05ea5ea7",
   "metadata": {},
   "outputs": [
    {
     "name": "stdout",
     "output_type": "stream",
     "text": [
      "New https://pypi.org/project/ultralytics/8.3.111 available  Update with 'pip install -U ultralytics'\n",
      "Ultralytics 8.3.73  Python-3.11.5 torch-2.2.2 CPU (12th Gen Intel Core(TM) i5-1240P)\n",
      "\u001b[34m\u001b[1mengine\\trainer: \u001b[0mtask=detect, mode=train, model=yolov8s.pt, data=C:/Users/bhavy/Downloads/yolov8/data.yaml, epochs=50, time=None, patience=100, batch=16, imgsz=640, save=True, save_period=-1, cache=False, device=None, workers=4, project=None, name=train25, exist_ok=False, pretrained=True, optimizer=auto, verbose=True, seed=0, deterministic=True, single_cls=False, rect=False, cos_lr=False, close_mosaic=10, resume=False, amp=True, fraction=1.0, profile=False, freeze=None, multi_scale=False, overlap_mask=True, mask_ratio=4, dropout=0.0, val=True, split=val, save_json=False, save_hybrid=False, conf=None, iou=0.7, max_det=300, half=False, dnn=False, plots=True, source=None, vid_stride=1, stream_buffer=False, visualize=False, augment=False, agnostic_nms=False, classes=None, retina_masks=False, embed=None, show=False, save_frames=False, save_txt=False, save_conf=False, save_crop=False, show_labels=True, show_conf=True, show_boxes=True, line_width=None, format=torchscript, keras=False, optimize=False, int8=False, dynamic=False, simplify=True, opset=None, workspace=None, nms=False, lr0=0.01, lrf=0.01, momentum=0.937, weight_decay=0.0005, warmup_epochs=3.0, warmup_momentum=0.8, warmup_bias_lr=0.1, box=7.5, cls=0.5, dfl=1.5, pose=12.0, kobj=1.0, nbs=64, hsv_h=0.015, hsv_s=0.7, hsv_v=0.4, degrees=0.0, translate=0.1, scale=0.5, shear=0.0, perspective=0.0, flipud=0.0, fliplr=0.5, bgr=0.0, mosaic=1.0, mixup=0.0, copy_paste=0.0, copy_paste_mode=flip, auto_augment=randaugment, erasing=0.4, crop_fraction=1.0, cfg=None, tracker=botsort.yaml, save_dir=runs\\detect\\train25\n",
      "WARNING:tensorflow:From C:\\Users\\bhavy\\anaconda32\\Lib\\site-packages\\keras\\src\\losses.py:2976: The name tf.losses.sparse_softmax_cross_entropy is deprecated. Please use tf.compat.v1.losses.sparse_softmax_cross_entropy instead.\n",
      "\n",
      "Overriding model.yaml nc=80 with nc=7\n",
      "\n",
      "                   from  n    params  module                                       arguments                     \n",
      "  0                  -1  1       928  ultralytics.nn.modules.conv.Conv             [3, 32, 3, 2]                 \n",
      "  1                  -1  1     18560  ultralytics.nn.modules.conv.Conv             [32, 64, 3, 2]                \n",
      "  2                  -1  1     29056  ultralytics.nn.modules.block.C2f             [64, 64, 1, True]             \n",
      "  3                  -1  1     73984  ultralytics.nn.modules.conv.Conv             [64, 128, 3, 2]               \n",
      "  4                  -1  2    197632  ultralytics.nn.modules.block.C2f             [128, 128, 2, True]           \n",
      "  5                  -1  1    295424  ultralytics.nn.modules.conv.Conv             [128, 256, 3, 2]              \n",
      "  6                  -1  2    788480  ultralytics.nn.modules.block.C2f             [256, 256, 2, True]           \n",
      "  7                  -1  1   1180672  ultralytics.nn.modules.conv.Conv             [256, 512, 3, 2]              \n",
      "  8                  -1  1   1838080  ultralytics.nn.modules.block.C2f             [512, 512, 1, True]           \n",
      "  9                  -1  1    656896  ultralytics.nn.modules.block.SPPF            [512, 512, 5]                 \n",
      " 10                  -1  1         0  torch.nn.modules.upsampling.Upsample         [None, 2, 'nearest']          \n",
      " 11             [-1, 6]  1         0  ultralytics.nn.modules.conv.Concat           [1]                           \n",
      " 12                  -1  1    591360  ultralytics.nn.modules.block.C2f             [768, 256, 1]                 \n",
      " 13                  -1  1         0  torch.nn.modules.upsampling.Upsample         [None, 2, 'nearest']          \n",
      " 14             [-1, 4]  1         0  ultralytics.nn.modules.conv.Concat           [1]                           \n",
      " 15                  -1  1    148224  ultralytics.nn.modules.block.C2f             [384, 128, 1]                 \n",
      " 16                  -1  1    147712  ultralytics.nn.modules.conv.Conv             [128, 128, 3, 2]              \n",
      " 17            [-1, 12]  1         0  ultralytics.nn.modules.conv.Concat           [1]                           \n",
      " 18                  -1  1    493056  ultralytics.nn.modules.block.C2f             [384, 256, 1]                 \n",
      " 19                  -1  1    590336  ultralytics.nn.modules.conv.Conv             [256, 256, 3, 2]              \n",
      " 20             [-1, 9]  1         0  ultralytics.nn.modules.conv.Concat           [1]                           \n",
      " 21                  -1  1   1969152  ultralytics.nn.modules.block.C2f             [768, 512, 1]                 \n",
      " 22        [15, 18, 21]  1   2118757  ultralytics.nn.modules.head.Detect           [7, [128, 256, 512]]          \n",
      "Model summary: 225 layers, 11,138,309 parameters, 11,138,293 gradients, 28.7 GFLOPs\n",
      "\n",
      "Transferred 349/355 items from pretrained weights\n",
      "\u001b[34m\u001b[1mTensorBoard: \u001b[0mStart with 'tensorboard --logdir runs\\detect\\train25', view at http://localhost:6006/\n",
      "Freezing layer 'model.22.dfl.conv.weight'\n"
     ]
    },
    {
     "name": "stderr",
     "output_type": "stream",
     "text": [
      "\u001b[34m\u001b[1mtrain: \u001b[0mScanning C:\\Users\\bhavy\\Downloads\\yolov8\\train\\labels.cache... 208 images, 0 backgrounds, 0 corrupt: 100%|██████\u001b[0m\n"
     ]
    },
    {
     "name": "stdout",
     "output_type": "stream",
     "text": [
      "\u001b[34m\u001b[1malbumentations: \u001b[0mBlur(p=0.01, blur_limit=(3, 7)), MedianBlur(p=0.01, blur_limit=(3, 7)), ToGray(p=0.01, num_output_channels=3, method='weighted_average'), CLAHE(p=0.01, clip_limit=(1.0, 4.0), tile_grid_size=(8, 8))\n"
     ]
    },
    {
     "name": "stderr",
     "output_type": "stream",
     "text": [
      "C:\\Users\\bhavy\\anaconda32\\Lib\\site-packages\\albumentations\\__init__.py:28: UserWarning: A new version of Albumentations is available: '2.0.5' (you have '2.0.3'). Upgrade using: pip install -U albumentations. To disable automatic update checks, set the environment variable NO_ALBUMENTATIONS_UPDATE to 1.\n",
      "  check_for_updates()\n",
      "\u001b[34m\u001b[1mval: \u001b[0mScanning C:\\Users\\bhavy\\Downloads\\yolov8\\valid\\labels.cache... 20 images, 0 backgrounds, 0 corrupt: 100%|█████████\u001b[0m\n"
     ]
    },
    {
     "name": "stdout",
     "output_type": "stream",
     "text": [
      "Plotting labels to runs\\detect\\train25\\labels.jpg... \n",
      "\u001b[34m\u001b[1moptimizer:\u001b[0m 'optimizer=auto' found, ignoring 'lr0=0.01' and 'momentum=0.937' and determining best 'optimizer', 'lr0' and 'momentum' automatically... \n",
      "\u001b[34m\u001b[1moptimizer:\u001b[0m AdamW(lr=0.000909, momentum=0.9) with parameter groups 57 weight(decay=0.0), 64 weight(decay=0.0005), 63 bias(decay=0.0)\n",
      "\u001b[34m\u001b[1mTensorBoard: \u001b[0mmodel graph visualization added \n",
      "Image sizes 640 train, 640 val\n",
      "Using 0 dataloader workers\n",
      "Logging results to \u001b[1mruns\\detect\\train25\u001b[0m\n",
      "Starting training for 50 epochs...\n",
      "\n",
      "      Epoch    GPU_mem   box_loss   cls_loss   dfl_loss  Instances       Size\n"
     ]
    },
    {
     "name": "stderr",
     "output_type": "stream",
     "text": [
      "       1/50         0G      1.806      3.437      1.432        185        640: 100%|██████████| 13/13 [03:01<00:00, 13.\n",
      "                 Class     Images  Instances      Box(P          R      mAP50  mAP50-95):   0%|          | 0/1 [00:00<?"
     ]
    },
    {
     "name": "stdout",
     "output_type": "stream",
     "text": [
      "WARNING  NMS time limit 3.000s exceeded\n"
     ]
    },
    {
     "name": "stderr",
     "output_type": "stream",
     "text": [
      "                 Class     Images  Instances      Box(P          R      mAP50  mAP50-95): 100%|██████████| 1/1 [00:11<0"
     ]
    },
    {
     "name": "stdout",
     "output_type": "stream",
     "text": [
      "                   all         20        149      0.367      0.219      0.179      0.121\n"
     ]
    },
    {
     "name": "stderr",
     "output_type": "stream",
     "text": [
      "\n"
     ]
    },
    {
     "name": "stdout",
     "output_type": "stream",
     "text": [
      "\n",
      "      Epoch    GPU_mem   box_loss   cls_loss   dfl_loss  Instances       Size\n"
     ]
    },
    {
     "name": "stderr",
     "output_type": "stream",
     "text": [
      "       2/50         0G      1.697      1.865      1.296        120        640: 100%|██████████| 13/13 [02:44<00:00, 12.\n",
      "                 Class     Images  Instances      Box(P          R      mAP50  mAP50-95): 100%|██████████| 1/1 [00:08<0"
     ]
    },
    {
     "name": "stdout",
     "output_type": "stream",
     "text": [
      "                   all         20        149      0.422      0.396      0.307      0.204\n"
     ]
    },
    {
     "name": "stderr",
     "output_type": "stream",
     "text": [
      "\n"
     ]
    },
    {
     "name": "stdout",
     "output_type": "stream",
     "text": [
      "\n",
      "      Epoch    GPU_mem   box_loss   cls_loss   dfl_loss  Instances       Size\n"
     ]
    },
    {
     "name": "stderr",
     "output_type": "stream",
     "text": [
      "       3/50         0G      1.672      1.683      1.296        161        640: 100%|██████████| 13/13 [02:41<00:00, 12.\n",
      "                 Class     Images  Instances      Box(P          R      mAP50  mAP50-95): 100%|██████████| 1/1 [00:06<0"
     ]
    },
    {
     "name": "stdout",
     "output_type": "stream",
     "text": [
      "                   all         20        149      0.615      0.246      0.317       0.19\n"
     ]
    },
    {
     "name": "stderr",
     "output_type": "stream",
     "text": [
      "\n"
     ]
    },
    {
     "name": "stdout",
     "output_type": "stream",
     "text": [
      "\n",
      "      Epoch    GPU_mem   box_loss   cls_loss   dfl_loss  Instances       Size\n"
     ]
    },
    {
     "name": "stderr",
     "output_type": "stream",
     "text": [
      "       4/50         0G      1.616      1.505      1.276        140        640: 100%|██████████| 13/13 [02:40<00:00, 12.\n",
      "                 Class     Images  Instances      Box(P          R      mAP50  mAP50-95): 100%|██████████| 1/1 [00:06<0"
     ]
    },
    {
     "name": "stdout",
     "output_type": "stream",
     "text": [
      "                   all         20        149      0.575      0.324      0.331      0.212\n"
     ]
    },
    {
     "name": "stderr",
     "output_type": "stream",
     "text": [
      "\n"
     ]
    },
    {
     "name": "stdout",
     "output_type": "stream",
     "text": [
      "\n",
      "      Epoch    GPU_mem   box_loss   cls_loss   dfl_loss  Instances       Size\n"
     ]
    },
    {
     "name": "stderr",
     "output_type": "stream",
     "text": [
      "       5/50         0G      1.536      1.406      1.268        145        640: 100%|██████████| 13/13 [02:41<00:00, 12.\n",
      "                 Class     Images  Instances      Box(P          R      mAP50  mAP50-95): 100%|██████████| 1/1 [00:06<0"
     ]
    },
    {
     "name": "stdout",
     "output_type": "stream",
     "text": [
      "                   all         20        149      0.419       0.28      0.292      0.168\n"
     ]
    },
    {
     "name": "stderr",
     "output_type": "stream",
     "text": [
      "\n"
     ]
    },
    {
     "name": "stdout",
     "output_type": "stream",
     "text": [
      "\n",
      "      Epoch    GPU_mem   box_loss   cls_loss   dfl_loss  Instances       Size\n"
     ]
    },
    {
     "name": "stderr",
     "output_type": "stream",
     "text": [
      "       6/50         0G       1.61      1.359      1.277        134        640: 100%|██████████| 13/13 [02:38<00:00, 12.\n",
      "                 Class     Images  Instances      Box(P          R      mAP50  mAP50-95): 100%|██████████| 1/1 [00:06<0"
     ]
    },
    {
     "name": "stdout",
     "output_type": "stream",
     "text": [
      "                   all         20        149      0.547      0.361      0.402       0.25\n"
     ]
    },
    {
     "name": "stderr",
     "output_type": "stream",
     "text": [
      "\n"
     ]
    },
    {
     "name": "stdout",
     "output_type": "stream",
     "text": [
      "\n",
      "      Epoch    GPU_mem   box_loss   cls_loss   dfl_loss  Instances       Size\n"
     ]
    },
    {
     "name": "stderr",
     "output_type": "stream",
     "text": [
      "       7/50         0G      1.638      1.381      1.274        162        640: 100%|██████████| 13/13 [02:50<00:00, 13.\n",
      "                 Class     Images  Instances      Box(P          R      mAP50  mAP50-95): 100%|██████████| 1/1 [00:06<0"
     ]
    },
    {
     "name": "stdout",
     "output_type": "stream",
     "text": [
      "                   all         20        149      0.458      0.236      0.266      0.151\n"
     ]
    },
    {
     "name": "stderr",
     "output_type": "stream",
     "text": [
      "\n"
     ]
    },
    {
     "name": "stdout",
     "output_type": "stream",
     "text": [
      "\n",
      "      Epoch    GPU_mem   box_loss   cls_loss   dfl_loss  Instances       Size\n"
     ]
    },
    {
     "name": "stderr",
     "output_type": "stream",
     "text": [
      "       8/50         0G      1.618      1.383      1.272        135        640: 100%|██████████| 13/13 [02:44<00:00, 12.\n",
      "                 Class     Images  Instances      Box(P          R      mAP50  mAP50-95): 100%|██████████| 1/1 [00:06<0"
     ]
    },
    {
     "name": "stdout",
     "output_type": "stream",
     "text": [
      "                   all         20        149      0.167      0.309      0.205      0.112\n"
     ]
    },
    {
     "name": "stderr",
     "output_type": "stream",
     "text": [
      "\n"
     ]
    },
    {
     "name": "stdout",
     "output_type": "stream",
     "text": [
      "\n",
      "      Epoch    GPU_mem   box_loss   cls_loss   dfl_loss  Instances       Size\n"
     ]
    },
    {
     "name": "stderr",
     "output_type": "stream",
     "text": [
      "       9/50         0G      1.539       1.29      1.258        145        640: 100%|██████████| 13/13 [02:44<00:00, 12.\n",
      "                 Class     Images  Instances      Box(P          R      mAP50  mAP50-95): 100%|██████████| 1/1 [00:06<0"
     ]
    },
    {
     "name": "stdout",
     "output_type": "stream",
     "text": [
      "                   all         20        149      0.361      0.221       0.31      0.155\n"
     ]
    },
    {
     "name": "stderr",
     "output_type": "stream",
     "text": [
      "\n"
     ]
    },
    {
     "name": "stdout",
     "output_type": "stream",
     "text": [
      "\n",
      "      Epoch    GPU_mem   box_loss   cls_loss   dfl_loss  Instances       Size\n"
     ]
    },
    {
     "name": "stderr",
     "output_type": "stream",
     "text": [
      "      10/50         0G      1.534       1.21      1.246        117        640: 100%|██████████| 13/13 [02:42<00:00, 12.\n",
      "                 Class     Images  Instances      Box(P          R      mAP50  mAP50-95): 100%|██████████| 1/1 [00:05<0"
     ]
    },
    {
     "name": "stdout",
     "output_type": "stream",
     "text": [
      "                   all         20        149      0.597      0.211      0.277       0.18\n"
     ]
    },
    {
     "name": "stderr",
     "output_type": "stream",
     "text": [
      "\n"
     ]
    },
    {
     "name": "stdout",
     "output_type": "stream",
     "text": [
      "\n",
      "      Epoch    GPU_mem   box_loss   cls_loss   dfl_loss  Instances       Size\n"
     ]
    },
    {
     "name": "stderr",
     "output_type": "stream",
     "text": [
      "      11/50         0G      1.513      1.176      1.231        109        640: 100%|██████████| 13/13 [02:27<00:00, 11.\n",
      "                 Class     Images  Instances      Box(P          R      mAP50  mAP50-95): 100%|██████████| 1/1 [00:04<0"
     ]
    },
    {
     "name": "stdout",
     "output_type": "stream",
     "text": [
      "                   all         20        149      0.625      0.257      0.322      0.212\n"
     ]
    },
    {
     "name": "stderr",
     "output_type": "stream",
     "text": [
      "\n"
     ]
    },
    {
     "name": "stdout",
     "output_type": "stream",
     "text": [
      "\n",
      "      Epoch    GPU_mem   box_loss   cls_loss   dfl_loss  Instances       Size\n"
     ]
    },
    {
     "name": "stderr",
     "output_type": "stream",
     "text": [
      "      12/50         0G      1.436      1.076      1.199        183        640: 100%|██████████| 13/13 [02:13<00:00, 10.\n",
      "                 Class     Images  Instances      Box(P          R      mAP50  mAP50-95): 100%|██████████| 1/1 [00:05<0"
     ]
    },
    {
     "name": "stdout",
     "output_type": "stream",
     "text": [
      "                   all         20        149      0.699       0.23      0.325      0.193\n"
     ]
    },
    {
     "name": "stderr",
     "output_type": "stream",
     "text": [
      "\n"
     ]
    },
    {
     "name": "stdout",
     "output_type": "stream",
     "text": [
      "\n",
      "      Epoch    GPU_mem   box_loss   cls_loss   dfl_loss  Instances       Size\n"
     ]
    },
    {
     "name": "stderr",
     "output_type": "stream",
     "text": [
      "      13/50         0G      1.448      1.043      1.203        117        640: 100%|██████████| 13/13 [02:22<00:00, 10.\n",
      "                 Class     Images  Instances      Box(P          R      mAP50  mAP50-95): 100%|██████████| 1/1 [00:05<0"
     ]
    },
    {
     "name": "stdout",
     "output_type": "stream",
     "text": [
      "                   all         20        149       0.39      0.396      0.413      0.272\n"
     ]
    },
    {
     "name": "stderr",
     "output_type": "stream",
     "text": [
      "\n"
     ]
    },
    {
     "name": "stdout",
     "output_type": "stream",
     "text": [
      "\n",
      "      Epoch    GPU_mem   box_loss   cls_loss   dfl_loss  Instances       Size\n"
     ]
    },
    {
     "name": "stderr",
     "output_type": "stream",
     "text": [
      "      14/50         0G      1.423      1.038      1.181        121        640: 100%|██████████| 13/13 [02:26<00:00, 11.\n",
      "                 Class     Images  Instances      Box(P          R      mAP50  mAP50-95): 100%|██████████| 1/1 [00:05<0"
     ]
    },
    {
     "name": "stdout",
     "output_type": "stream",
     "text": [
      "                   all         20        149      0.438      0.387      0.416      0.294\n"
     ]
    },
    {
     "name": "stderr",
     "output_type": "stream",
     "text": [
      "\n"
     ]
    },
    {
     "name": "stdout",
     "output_type": "stream",
     "text": [
      "\n",
      "      Epoch    GPU_mem   box_loss   cls_loss   dfl_loss  Instances       Size\n"
     ]
    },
    {
     "name": "stderr",
     "output_type": "stream",
     "text": [
      "      15/50         0G      1.438      1.034      1.164        141        640: 100%|██████████| 13/13 [02:30<00:00, 11.\n",
      "                 Class     Images  Instances      Box(P          R      mAP50  mAP50-95): 100%|██████████| 1/1 [00:05<0"
     ]
    },
    {
     "name": "stdout",
     "output_type": "stream",
     "text": [
      "                   all         20        149      0.623      0.242      0.396       0.24\n"
     ]
    },
    {
     "name": "stderr",
     "output_type": "stream",
     "text": [
      "\n"
     ]
    },
    {
     "name": "stdout",
     "output_type": "stream",
     "text": [
      "\n",
      "      Epoch    GPU_mem   box_loss   cls_loss   dfl_loss  Instances       Size\n"
     ]
    },
    {
     "name": "stderr",
     "output_type": "stream",
     "text": [
      "      16/50         0G      1.383     0.9986      1.164        148        640: 100%|██████████| 13/13 [02:30<00:00, 11.\n",
      "                 Class     Images  Instances      Box(P          R      mAP50  mAP50-95): 100%|██████████| 1/1 [00:05<0"
     ]
    },
    {
     "name": "stdout",
     "output_type": "stream",
     "text": [
      "                   all         20        149      0.609      0.258       0.29      0.163\n"
     ]
    },
    {
     "name": "stderr",
     "output_type": "stream",
     "text": [
      "\n"
     ]
    },
    {
     "name": "stdout",
     "output_type": "stream",
     "text": [
      "\n",
      "      Epoch    GPU_mem   box_loss   cls_loss   dfl_loss  Instances       Size\n"
     ]
    },
    {
     "name": "stderr",
     "output_type": "stream",
     "text": [
      "      17/50         0G      1.383     0.9897      1.158        176        640: 100%|██████████| 13/13 [02:30<00:00, 11.\n",
      "                 Class     Images  Instances      Box(P          R      mAP50  mAP50-95): 100%|██████████| 1/1 [00:05<0"
     ]
    },
    {
     "name": "stdout",
     "output_type": "stream",
     "text": [
      "                   all         20        149      0.415      0.259      0.257      0.166\n"
     ]
    },
    {
     "name": "stderr",
     "output_type": "stream",
     "text": [
      "\n"
     ]
    },
    {
     "name": "stdout",
     "output_type": "stream",
     "text": [
      "\n",
      "      Epoch    GPU_mem   box_loss   cls_loss   dfl_loss  Instances       Size\n"
     ]
    },
    {
     "name": "stderr",
     "output_type": "stream",
     "text": [
      "      18/50         0G       1.35      0.961      1.152        140        640: 100%|██████████| 13/13 [02:30<00:00, 11.\n",
      "                 Class     Images  Instances      Box(P          R      mAP50  mAP50-95): 100%|██████████| 1/1 [00:05<0"
     ]
    },
    {
     "name": "stdout",
     "output_type": "stream",
     "text": [
      "                   all         20        149      0.684      0.255       0.31      0.196\n"
     ]
    },
    {
     "name": "stderr",
     "output_type": "stream",
     "text": [
      "\n"
     ]
    },
    {
     "name": "stdout",
     "output_type": "stream",
     "text": [
      "\n",
      "      Epoch    GPU_mem   box_loss   cls_loss   dfl_loss  Instances       Size\n"
     ]
    },
    {
     "name": "stderr",
     "output_type": "stream",
     "text": [
      "      19/50         0G      1.315     0.9248      1.129         86        640: 100%|██████████| 13/13 [02:32<00:00, 11.\n",
      "                 Class     Images  Instances      Box(P          R      mAP50  mAP50-95): 100%|██████████| 1/1 [00:05<0"
     ]
    },
    {
     "name": "stdout",
     "output_type": "stream",
     "text": [
      "                   all         20        149      0.595      0.369       0.35       0.22\n"
     ]
    },
    {
     "name": "stderr",
     "output_type": "stream",
     "text": [
      "\n"
     ]
    },
    {
     "name": "stdout",
     "output_type": "stream",
     "text": [
      "\n",
      "      Epoch    GPU_mem   box_loss   cls_loss   dfl_loss  Instances       Size\n"
     ]
    },
    {
     "name": "stderr",
     "output_type": "stream",
     "text": [
      "      20/50         0G      1.308     0.9191      1.143        171        640: 100%|██████████| 13/13 [02:31<00:00, 11.\n",
      "                 Class     Images  Instances      Box(P          R      mAP50  mAP50-95): 100%|██████████| 1/1 [00:05<0"
     ]
    },
    {
     "name": "stdout",
     "output_type": "stream",
     "text": [
      "                   all         20        149      0.593      0.313      0.358      0.222\n"
     ]
    },
    {
     "name": "stderr",
     "output_type": "stream",
     "text": [
      "\n"
     ]
    },
    {
     "name": "stdout",
     "output_type": "stream",
     "text": [
      "\n",
      "      Epoch    GPU_mem   box_loss   cls_loss   dfl_loss  Instances       Size\n"
     ]
    },
    {
     "name": "stderr",
     "output_type": "stream",
     "text": [
      "      21/50         0G      1.322     0.9075      1.135        208        640: 100%|██████████| 13/13 [02:32<00:00, 11.\n",
      "                 Class     Images  Instances      Box(P          R      mAP50  mAP50-95): 100%|██████████| 1/1 [00:05<0"
     ]
    },
    {
     "name": "stdout",
     "output_type": "stream",
     "text": [
      "                   all         20        149      0.562       0.33      0.377      0.247\n"
     ]
    },
    {
     "name": "stderr",
     "output_type": "stream",
     "text": [
      "\n"
     ]
    },
    {
     "name": "stdout",
     "output_type": "stream",
     "text": [
      "\n",
      "      Epoch    GPU_mem   box_loss   cls_loss   dfl_loss  Instances       Size\n"
     ]
    },
    {
     "name": "stderr",
     "output_type": "stream",
     "text": [
      "      22/50         0G      1.279     0.8896      1.129        109        640: 100%|██████████| 13/13 [02:31<00:00, 11.\n",
      "                 Class     Images  Instances      Box(P          R      mAP50  mAP50-95): 100%|██████████| 1/1 [00:05<0"
     ]
    },
    {
     "name": "stdout",
     "output_type": "stream",
     "text": [
      "                   all         20        149      0.506       0.36      0.485      0.342\n"
     ]
    },
    {
     "name": "stderr",
     "output_type": "stream",
     "text": [
      "\n"
     ]
    },
    {
     "name": "stdout",
     "output_type": "stream",
     "text": [
      "\n",
      "      Epoch    GPU_mem   box_loss   cls_loss   dfl_loss  Instances       Size\n"
     ]
    },
    {
     "name": "stderr",
     "output_type": "stream",
     "text": [
      "      23/50         0G      1.313     0.8991      1.124        166        640: 100%|██████████| 13/13 [02:32<00:00, 11.\n",
      "                 Class     Images  Instances      Box(P          R      mAP50  mAP50-95): 100%|██████████| 1/1 [00:05<0"
     ]
    },
    {
     "name": "stdout",
     "output_type": "stream",
     "text": [
      "                   all         20        149      0.589      0.336      0.498      0.357\n"
     ]
    },
    {
     "name": "stderr",
     "output_type": "stream",
     "text": [
      "\n"
     ]
    },
    {
     "name": "stdout",
     "output_type": "stream",
     "text": [
      "\n",
      "      Epoch    GPU_mem   box_loss   cls_loss   dfl_loss  Instances       Size\n"
     ]
    },
    {
     "name": "stderr",
     "output_type": "stream",
     "text": [
      "      24/50         0G      1.323     0.9051      1.138        160        640: 100%|██████████| 13/13 [02:31<00:00, 11.\n",
      "                 Class     Images  Instances      Box(P          R      mAP50  mAP50-95): 100%|██████████| 1/1 [00:05<0"
     ]
    },
    {
     "name": "stdout",
     "output_type": "stream",
     "text": [
      "                   all         20        149      0.672      0.348      0.493      0.331\n"
     ]
    },
    {
     "name": "stderr",
     "output_type": "stream",
     "text": [
      "\n"
     ]
    },
    {
     "name": "stdout",
     "output_type": "stream",
     "text": [
      "\n",
      "      Epoch    GPU_mem   box_loss   cls_loss   dfl_loss  Instances       Size\n"
     ]
    },
    {
     "name": "stderr",
     "output_type": "stream",
     "text": [
      "      25/50         0G      1.306     0.8783      1.107        167        640: 100%|██████████| 13/13 [02:30<00:00, 11.\n",
      "                 Class     Images  Instances      Box(P          R      mAP50  mAP50-95): 100%|██████████| 1/1 [00:05<0"
     ]
    },
    {
     "name": "stdout",
     "output_type": "stream",
     "text": [
      "                   all         20        149      0.332      0.505      0.458      0.282\n"
     ]
    },
    {
     "name": "stderr",
     "output_type": "stream",
     "text": [
      "\n"
     ]
    },
    {
     "name": "stdout",
     "output_type": "stream",
     "text": [
      "\n",
      "      Epoch    GPU_mem   box_loss   cls_loss   dfl_loss  Instances       Size\n"
     ]
    },
    {
     "name": "stderr",
     "output_type": "stream",
     "text": [
      "      26/50         0G      1.282      0.858      1.114        155        640: 100%|██████████| 13/13 [02:32<00:00, 11.\n",
      "                 Class     Images  Instances      Box(P          R      mAP50  mAP50-95): 100%|██████████| 1/1 [00:06<0"
     ]
    },
    {
     "name": "stdout",
     "output_type": "stream",
     "text": [
      "                   all         20        149      0.656      0.466      0.473      0.329\n"
     ]
    },
    {
     "name": "stderr",
     "output_type": "stream",
     "text": [
      "\n"
     ]
    },
    {
     "name": "stdout",
     "output_type": "stream",
     "text": [
      "\n",
      "      Epoch    GPU_mem   box_loss   cls_loss   dfl_loss  Instances       Size\n"
     ]
    },
    {
     "name": "stderr",
     "output_type": "stream",
     "text": [
      "      27/50         0G      1.266     0.8458       1.09        116        640: 100%|██████████| 13/13 [02:48<00:00, 13.\n",
      "                 Class     Images  Instances      Box(P          R      mAP50  mAP50-95): 100%|██████████| 1/1 [00:06<0"
     ]
    },
    {
     "name": "stdout",
     "output_type": "stream",
     "text": [
      "                   all         20        149      0.661      0.494      0.461      0.335\n"
     ]
    },
    {
     "name": "stderr",
     "output_type": "stream",
     "text": [
      "\n"
     ]
    },
    {
     "name": "stdout",
     "output_type": "stream",
     "text": [
      "\n",
      "      Epoch    GPU_mem   box_loss   cls_loss   dfl_loss  Instances       Size\n"
     ]
    },
    {
     "name": "stderr",
     "output_type": "stream",
     "text": [
      "      28/50         0G      1.229     0.8445      1.096        117        640: 100%|██████████| 13/13 [02:50<00:00, 13.\n",
      "                 Class     Images  Instances      Box(P          R      mAP50  mAP50-95): 100%|██████████| 1/1 [00:06<0"
     ]
    },
    {
     "name": "stdout",
     "output_type": "stream",
     "text": [
      "                   all         20        149      0.547      0.471      0.455      0.336\n"
     ]
    },
    {
     "name": "stderr",
     "output_type": "stream",
     "text": [
      "\n"
     ]
    },
    {
     "name": "stdout",
     "output_type": "stream",
     "text": [
      "\n",
      "      Epoch    GPU_mem   box_loss   cls_loss   dfl_loss  Instances       Size\n"
     ]
    },
    {
     "name": "stderr",
     "output_type": "stream",
     "text": [
      "      29/50         0G      1.178     0.8087      1.068        162        640: 100%|██████████| 13/13 [02:48<00:00, 12.\n",
      "                 Class     Images  Instances      Box(P          R      mAP50  mAP50-95): 100%|██████████| 1/1 [00:06<0"
     ]
    },
    {
     "name": "stdout",
     "output_type": "stream",
     "text": [
      "                   all         20        149      0.391      0.498      0.462      0.303\n"
     ]
    },
    {
     "name": "stderr",
     "output_type": "stream",
     "text": [
      "\n"
     ]
    },
    {
     "name": "stdout",
     "output_type": "stream",
     "text": [
      "\n",
      "      Epoch    GPU_mem   box_loss   cls_loss   dfl_loss  Instances       Size\n"
     ]
    },
    {
     "name": "stderr",
     "output_type": "stream",
     "text": [
      "      30/50         0G       1.21     0.7932      1.086        128        640: 100%|██████████| 13/13 [02:39<00:00, 12.\n",
      "                 Class     Images  Instances      Box(P          R      mAP50  mAP50-95): 100%|██████████| 1/1 [00:05<0"
     ]
    },
    {
     "name": "stdout",
     "output_type": "stream",
     "text": [
      "                   all         20        149        0.4      0.526      0.483      0.344\n"
     ]
    },
    {
     "name": "stderr",
     "output_type": "stream",
     "text": [
      "\n"
     ]
    },
    {
     "name": "stdout",
     "output_type": "stream",
     "text": [
      "\n",
      "      Epoch    GPU_mem   box_loss   cls_loss   dfl_loss  Instances       Size\n"
     ]
    },
    {
     "name": "stderr",
     "output_type": "stream",
     "text": [
      "      31/50         0G      1.174     0.7742      1.059        115        640: 100%|██████████| 13/13 [02:45<00:00, 12.\n",
      "                 Class     Images  Instances      Box(P          R      mAP50  mAP50-95): 100%|██████████| 1/1 [00:05<0"
     ]
    },
    {
     "name": "stdout",
     "output_type": "stream",
     "text": [
      "                   all         20        149      0.452      0.468      0.467       0.34\n"
     ]
    },
    {
     "name": "stderr",
     "output_type": "stream",
     "text": [
      "\n"
     ]
    },
    {
     "name": "stdout",
     "output_type": "stream",
     "text": [
      "\n",
      "      Epoch    GPU_mem   box_loss   cls_loss   dfl_loss  Instances       Size\n"
     ]
    },
    {
     "name": "stderr",
     "output_type": "stream",
     "text": [
      "      32/50         0G      1.203      0.784      1.058        184        640: 100%|██████████| 13/13 [02:38<00:00, 12.\n",
      "                 Class     Images  Instances      Box(P          R      mAP50  mAP50-95): 100%|██████████| 1/1 [00:05<0"
     ]
    },
    {
     "name": "stdout",
     "output_type": "stream",
     "text": [
      "                   all         20        149      0.656      0.291      0.397      0.275\n"
     ]
    },
    {
     "name": "stderr",
     "output_type": "stream",
     "text": [
      "\n"
     ]
    },
    {
     "name": "stdout",
     "output_type": "stream",
     "text": [
      "\n",
      "      Epoch    GPU_mem   box_loss   cls_loss   dfl_loss  Instances       Size\n"
     ]
    },
    {
     "name": "stderr",
     "output_type": "stream",
     "text": [
      "      33/50         0G      1.161     0.7559      1.066        104        640: 100%|██████████| 13/13 [02:43<00:00, 12.\n",
      "                 Class     Images  Instances      Box(P          R      mAP50  mAP50-95): 100%|██████████| 1/1 [00:06<0"
     ]
    },
    {
     "name": "stdout",
     "output_type": "stream",
     "text": [
      "                   all         20        149       0.49      0.339      0.365      0.251\n"
     ]
    },
    {
     "name": "stderr",
     "output_type": "stream",
     "text": [
      "\n"
     ]
    },
    {
     "name": "stdout",
     "output_type": "stream",
     "text": [
      "\n",
      "      Epoch    GPU_mem   box_loss   cls_loss   dfl_loss  Instances       Size\n"
     ]
    },
    {
     "name": "stderr",
     "output_type": "stream",
     "text": [
      "      34/50         0G      1.141     0.7478      1.057        143        640: 100%|██████████| 13/13 [02:48<00:00, 12.\n",
      "                 Class     Images  Instances      Box(P          R      mAP50  mAP50-95): 100%|██████████| 1/1 [00:06<0"
     ]
    },
    {
     "name": "stdout",
     "output_type": "stream",
     "text": [
      "                   all         20        149      0.505      0.322      0.362      0.247\n"
     ]
    },
    {
     "name": "stderr",
     "output_type": "stream",
     "text": [
      "\n"
     ]
    },
    {
     "name": "stdout",
     "output_type": "stream",
     "text": [
      "\n",
      "      Epoch    GPU_mem   box_loss   cls_loss   dfl_loss  Instances       Size\n"
     ]
    },
    {
     "name": "stderr",
     "output_type": "stream",
     "text": [
      "      35/50         0G      1.113     0.7464      1.038        124        640: 100%|██████████| 13/13 [02:28<00:00, 11.\n",
      "                 Class     Images  Instances      Box(P          R      mAP50  mAP50-95): 100%|██████████| 1/1 [00:04<0"
     ]
    },
    {
     "name": "stdout",
     "output_type": "stream",
     "text": [
      "                   all         20        149      0.515      0.284      0.454      0.317\n"
     ]
    },
    {
     "name": "stderr",
     "output_type": "stream",
     "text": [
      "\n"
     ]
    },
    {
     "name": "stdout",
     "output_type": "stream",
     "text": [
      "\n",
      "      Epoch    GPU_mem   box_loss   cls_loss   dfl_loss  Instances       Size\n"
     ]
    },
    {
     "name": "stderr",
     "output_type": "stream",
     "text": [
      "      36/50         0G      1.136      0.737      1.037        185        640: 100%|██████████| 13/13 [02:11<00:00, 10.\n",
      "                 Class     Images  Instances      Box(P          R      mAP50  mAP50-95): 100%|██████████| 1/1 [00:04<0"
     ]
    },
    {
     "name": "stdout",
     "output_type": "stream",
     "text": [
      "                   all         20        149      0.443      0.334      0.471      0.351\n"
     ]
    },
    {
     "name": "stderr",
     "output_type": "stream",
     "text": [
      "\n"
     ]
    },
    {
     "name": "stdout",
     "output_type": "stream",
     "text": [
      "\n",
      "      Epoch    GPU_mem   box_loss   cls_loss   dfl_loss  Instances       Size\n"
     ]
    },
    {
     "name": "stderr",
     "output_type": "stream",
     "text": [
      "      37/50         0G       1.14     0.7246      1.046         91        640: 100%|██████████| 13/13 [02:18<00:00, 10.\n",
      "                 Class     Images  Instances      Box(P          R      mAP50  mAP50-95): 100%|██████████| 1/1 [00:05<0"
     ]
    },
    {
     "name": "stdout",
     "output_type": "stream",
     "text": [
      "                   all         20        149      0.466      0.433      0.459       0.35\n"
     ]
    },
    {
     "name": "stderr",
     "output_type": "stream",
     "text": [
      "\n"
     ]
    },
    {
     "name": "stdout",
     "output_type": "stream",
     "text": [
      "\n",
      "      Epoch    GPU_mem   box_loss   cls_loss   dfl_loss  Instances       Size\n"
     ]
    },
    {
     "name": "stderr",
     "output_type": "stream",
     "text": [
      "      38/50         0G      1.143     0.7194      1.059        152        640: 100%|██████████| 13/13 [02:19<00:00, 10.\n",
      "                 Class     Images  Instances      Box(P          R      mAP50  mAP50-95): 100%|██████████| 1/1 [00:05<0"
     ]
    },
    {
     "name": "stdout",
     "output_type": "stream",
     "text": [
      "                   all         20        149      0.652       0.43      0.477      0.363\n"
     ]
    },
    {
     "name": "stderr",
     "output_type": "stream",
     "text": [
      "\n"
     ]
    },
    {
     "name": "stdout",
     "output_type": "stream",
     "text": [
      "\n",
      "      Epoch    GPU_mem   box_loss   cls_loss   dfl_loss  Instances       Size\n"
     ]
    },
    {
     "name": "stderr",
     "output_type": "stream",
     "text": [
      "      39/50         0G      1.121     0.7095      1.033        134        640: 100%|██████████| 13/13 [02:21<00:00, 10.\n",
      "                 Class     Images  Instances      Box(P          R      mAP50  mAP50-95): 100%|██████████| 1/1 [00:05<0"
     ]
    },
    {
     "name": "stdout",
     "output_type": "stream",
     "text": [
      "                   all         20        149      0.647      0.435      0.484      0.353\n"
     ]
    },
    {
     "name": "stderr",
     "output_type": "stream",
     "text": [
      "\n"
     ]
    },
    {
     "name": "stdout",
     "output_type": "stream",
     "text": [
      "\n",
      "      Epoch    GPU_mem   box_loss   cls_loss   dfl_loss  Instances       Size\n"
     ]
    },
    {
     "name": "stderr",
     "output_type": "stream",
     "text": [
      "      40/50         0G      1.113     0.6999       1.04        127        640: 100%|██████████| 13/13 [02:17<00:00, 10.\n",
      "                 Class     Images  Instances      Box(P          R      mAP50  mAP50-95): 100%|██████████| 1/1 [00:05<0"
     ]
    },
    {
     "name": "stdout",
     "output_type": "stream",
     "text": [
      "                   all         20        149      0.668      0.438      0.482      0.367\n"
     ]
    },
    {
     "name": "stderr",
     "output_type": "stream",
     "text": [
      "\n"
     ]
    },
    {
     "name": "stdout",
     "output_type": "stream",
     "text": [
      "Closing dataloader mosaic\n",
      "\u001b[34m\u001b[1malbumentations: \u001b[0mBlur(p=0.01, blur_limit=(3, 7)), MedianBlur(p=0.01, blur_limit=(3, 7)), ToGray(p=0.01, num_output_channels=3, method='weighted_average'), CLAHE(p=0.01, clip_limit=(1.0, 4.0), tile_grid_size=(8, 8))\n",
      "\n",
      "      Epoch    GPU_mem   box_loss   cls_loss   dfl_loss  Instances       Size\n"
     ]
    },
    {
     "name": "stderr",
     "output_type": "stream",
     "text": [
      "      41/50         0G      1.054     0.6626      1.015         86        640: 100%|██████████| 13/13 [02:15<00:00, 10.\n",
      "                 Class     Images  Instances      Box(P          R      mAP50  mAP50-95): 100%|██████████| 1/1 [00:05<0"
     ]
    },
    {
     "name": "stdout",
     "output_type": "stream",
     "text": [
      "                   all         20        149      0.678      0.418        0.5      0.367\n"
     ]
    },
    {
     "name": "stderr",
     "output_type": "stream",
     "text": [
      "\n"
     ]
    },
    {
     "name": "stdout",
     "output_type": "stream",
     "text": [
      "\n",
      "      Epoch    GPU_mem   box_loss   cls_loss   dfl_loss  Instances       Size\n"
     ]
    },
    {
     "name": "stderr",
     "output_type": "stream",
     "text": [
      "      42/50         0G       1.01     0.6362     0.9976         98        640: 100%|██████████| 13/13 [02:26<00:00, 11.\n",
      "                 Class     Images  Instances      Box(P          R      mAP50  mAP50-95): 100%|██████████| 1/1 [00:06<0"
     ]
    },
    {
     "name": "stdout",
     "output_type": "stream",
     "text": [
      "                   all         20        149      0.577      0.499      0.497       0.36\n"
     ]
    },
    {
     "name": "stderr",
     "output_type": "stream",
     "text": [
      "\n"
     ]
    },
    {
     "name": "stdout",
     "output_type": "stream",
     "text": [
      "\n",
      "      Epoch    GPU_mem   box_loss   cls_loss   dfl_loss  Instances       Size\n"
     ]
    },
    {
     "name": "stderr",
     "output_type": "stream",
     "text": [
      "      43/50         0G      1.015     0.6171     0.9957         94        640: 100%|██████████| 13/13 [02:48<00:00, 12.\n",
      "                 Class     Images  Instances      Box(P          R      mAP50  mAP50-95): 100%|██████████| 1/1 [00:06<0"
     ]
    },
    {
     "name": "stdout",
     "output_type": "stream",
     "text": [
      "                   all         20        149      0.587      0.513      0.498      0.377\n"
     ]
    },
    {
     "name": "stderr",
     "output_type": "stream",
     "text": [
      "\n"
     ]
    },
    {
     "name": "stdout",
     "output_type": "stream",
     "text": [
      "\n",
      "      Epoch    GPU_mem   box_loss   cls_loss   dfl_loss  Instances       Size\n"
     ]
    },
    {
     "name": "stderr",
     "output_type": "stream",
     "text": [
      "      44/50         0G     0.9861      0.607     0.9857         87        640: 100%|██████████| 13/13 [02:45<00:00, 12.\n",
      "                 Class     Images  Instances      Box(P          R      mAP50  mAP50-95): 100%|██████████| 1/1 [00:06<0"
     ]
    },
    {
     "name": "stdout",
     "output_type": "stream",
     "text": [
      "                   all         20        149      0.629       0.49      0.495      0.372\n"
     ]
    },
    {
     "name": "stderr",
     "output_type": "stream",
     "text": [
      "\n"
     ]
    },
    {
     "name": "stdout",
     "output_type": "stream",
     "text": [
      "\n",
      "      Epoch    GPU_mem   box_loss   cls_loss   dfl_loss  Instances       Size\n"
     ]
    },
    {
     "name": "stderr",
     "output_type": "stream",
     "text": [
      "      45/50         0G      1.005     0.6044          1         87        640: 100%|██████████| 13/13 [02:43<00:00, 12.\n",
      "                 Class     Images  Instances      Box(P          R      mAP50  mAP50-95): 100%|██████████| 1/1 [00:06<0"
     ]
    },
    {
     "name": "stdout",
     "output_type": "stream",
     "text": [
      "                   all         20        149       0.62      0.498      0.496      0.373\n"
     ]
    },
    {
     "name": "stderr",
     "output_type": "stream",
     "text": [
      "\n"
     ]
    },
    {
     "name": "stdout",
     "output_type": "stream",
     "text": [
      "\n",
      "      Epoch    GPU_mem   box_loss   cls_loss   dfl_loss  Instances       Size\n"
     ]
    },
    {
     "name": "stderr",
     "output_type": "stream",
     "text": [
      "      46/50         0G      0.973     0.5813     0.9788        113        640: 100%|██████████| 13/13 [61:40:02<00:00, \n",
      "                 Class     Images  Instances      Box(P          R      mAP50  mAP50-95): 100%|██████████| 1/1 [00:05<0"
     ]
    },
    {
     "name": "stdout",
     "output_type": "stream",
     "text": [
      "                   all         20        149      0.665      0.464      0.497      0.377\n"
     ]
    },
    {
     "name": "stderr",
     "output_type": "stream",
     "text": [
      "\n"
     ]
    },
    {
     "name": "stdout",
     "output_type": "stream",
     "text": [
      "\n",
      "      Epoch    GPU_mem   box_loss   cls_loss   dfl_loss  Instances       Size\n"
     ]
    },
    {
     "name": "stderr",
     "output_type": "stream",
     "text": [
      "      47/50         0G     0.9674     0.5902     0.9764        100        640: 100%|██████████| 13/13 [02:16<00:00, 10.\n",
      "                 Class     Images  Instances      Box(P          R      mAP50  mAP50-95): 100%|██████████| 1/1 [00:05<0"
     ]
    },
    {
     "name": "stdout",
     "output_type": "stream",
     "text": [
      "                   all         20        149      0.701      0.415      0.488      0.358\n"
     ]
    },
    {
     "name": "stderr",
     "output_type": "stream",
     "text": [
      "\n"
     ]
    },
    {
     "name": "stdout",
     "output_type": "stream",
     "text": [
      "\n",
      "      Epoch    GPU_mem   box_loss   cls_loss   dfl_loss  Instances       Size\n"
     ]
    },
    {
     "name": "stderr",
     "output_type": "stream",
     "text": [
      "      48/50         0G     0.9549     0.5786      0.978         79        640: 100%|██████████| 13/13 [02:30<00:00, 11.\n",
      "                 Class     Images  Instances      Box(P          R      mAP50  mAP50-95): 100%|██████████| 1/1 [00:05<0"
     ]
    },
    {
     "name": "stdout",
     "output_type": "stream",
     "text": [
      "                   all         20        149      0.712      0.415      0.486       0.35\n"
     ]
    },
    {
     "name": "stderr",
     "output_type": "stream",
     "text": [
      "\n"
     ]
    },
    {
     "name": "stdout",
     "output_type": "stream",
     "text": [
      "\n",
      "      Epoch    GPU_mem   box_loss   cls_loss   dfl_loss  Instances       Size\n"
     ]
    },
    {
     "name": "stderr",
     "output_type": "stream",
     "text": [
      "      49/50         0G     0.9464     0.5641     0.9714         84        640: 100%|██████████| 13/13 [02:31<00:00, 11.\n",
      "                 Class     Images  Instances      Box(P          R      mAP50  mAP50-95): 100%|██████████| 1/1 [00:05<0"
     ]
    },
    {
     "name": "stdout",
     "output_type": "stream",
     "text": [
      "                   all         20        149      0.708      0.417      0.487      0.355\n"
     ]
    },
    {
     "name": "stderr",
     "output_type": "stream",
     "text": [
      "\n"
     ]
    },
    {
     "name": "stdout",
     "output_type": "stream",
     "text": [
      "\n",
      "      Epoch    GPU_mem   box_loss   cls_loss   dfl_loss  Instances       Size\n"
     ]
    },
    {
     "name": "stderr",
     "output_type": "stream",
     "text": [
      "      50/50         0G     0.9263      0.549     0.9666         85        640: 100%|██████████| 13/13 [02:38<00:00, 12.\n",
      "                 Class     Images  Instances      Box(P          R      mAP50  mAP50-95): 100%|██████████| 1/1 [00:05<0"
     ]
    },
    {
     "name": "stdout",
     "output_type": "stream",
     "text": [
      "                   all         20        149       0.72      0.425      0.487      0.358\n"
     ]
    },
    {
     "name": "stderr",
     "output_type": "stream",
     "text": [
      "\n"
     ]
    },
    {
     "name": "stdout",
     "output_type": "stream",
     "text": [
      "\n",
      "50 epochs completed in 63.866 hours.\n",
      "Optimizer stripped from runs\\detect\\train25\\weights\\last.pt, 22.5MB\n",
      "Optimizer stripped from runs\\detect\\train25\\weights\\best.pt, 22.5MB\n",
      "\n",
      "Validating runs\\detect\\train25\\weights\\best.pt...\n",
      "Ultralytics 8.3.73  Python-3.11.5 torch-2.2.2 CPU (12th Gen Intel Core(TM) i5-1240P)\n",
      "Model summary (fused): 168 layers, 11,128,293 parameters, 0 gradients, 28.5 GFLOPs\n"
     ]
    },
    {
     "name": "stderr",
     "output_type": "stream",
     "text": [
      "                 Class     Images  Instances      Box(P          R      mAP50  mAP50-95): 100%|██████████| 1/1 [00:05<0\n"
     ]
    },
    {
     "name": "stdout",
     "output_type": "stream",
     "text": [
      "                   all         20        149      0.585      0.513      0.499      0.377\n",
      "                  auto          7          7      0.359      0.429       0.46      0.395\n",
      "                  bike         11         16      0.494       0.75      0.601      0.405\n",
      "                   bus          1          1      0.864          1      0.995      0.895\n",
      "                   car          8         12      0.881      0.618      0.654      0.486\n",
      "                 cycle          1          1          0          0          0          0\n",
      "                person         20        110        0.5      0.791       0.78      0.458\n",
      "                 truck          2          2          1          0          0          0\n",
      "Speed: 2.4ms preprocess, 280.6ms inference, 0.0ms loss, 1.0ms postprocess per image\n",
      "Results saved to \u001b[1mruns\\detect\\train25\u001b[0m\n"
     ]
    },
    {
     "data": {
      "text/plain": [
       "ultralytics.utils.metrics.DetMetrics object with attributes:\n",
       "\n",
       "ap_class_index: array([0, 1, 2, 3, 4, 5, 6])\n",
       "box: ultralytics.utils.metrics.Metric object\n",
       "confusion_matrix: <ultralytics.utils.metrics.ConfusionMatrix object at 0x00000156597C5710>\n",
       "curves: ['Precision-Recall(B)', 'F1-Confidence(B)', 'Precision-Confidence(B)', 'Recall-Confidence(B)']\n",
       "curves_results: [[array([          0,    0.001001,    0.002002,    0.003003,    0.004004,    0.005005,    0.006006,    0.007007,    0.008008,    0.009009,     0.01001,    0.011011,    0.012012,    0.013013,    0.014014,    0.015015,    0.016016,    0.017017,    0.018018,    0.019019,     0.02002,    0.021021,    0.022022,    0.023023,\n",
       "          0.024024,    0.025025,    0.026026,    0.027027,    0.028028,    0.029029,     0.03003,    0.031031,    0.032032,    0.033033,    0.034034,    0.035035,    0.036036,    0.037037,    0.038038,    0.039039,     0.04004,    0.041041,    0.042042,    0.043043,    0.044044,    0.045045,    0.046046,    0.047047,\n",
       "          0.048048,    0.049049,     0.05005,    0.051051,    0.052052,    0.053053,    0.054054,    0.055055,    0.056056,    0.057057,    0.058058,    0.059059,     0.06006,    0.061061,    0.062062,    0.063063,    0.064064,    0.065065,    0.066066,    0.067067,    0.068068,    0.069069,     0.07007,    0.071071,\n",
       "          0.072072,    0.073073,    0.074074,    0.075075,    0.076076,    0.077077,    0.078078,    0.079079,     0.08008,    0.081081,    0.082082,    0.083083,    0.084084,    0.085085,    0.086086,    0.087087,    0.088088,    0.089089,     0.09009,    0.091091,    0.092092,    0.093093,    0.094094,    0.095095,\n",
       "          0.096096,    0.097097,    0.098098,    0.099099,      0.1001,      0.1011,      0.1021,      0.1031,      0.1041,     0.10511,     0.10611,     0.10711,     0.10811,     0.10911,     0.11011,     0.11111,     0.11211,     0.11311,     0.11411,     0.11512,     0.11612,     0.11712,     0.11812,     0.11912,\n",
       "           0.12012,     0.12112,     0.12212,     0.12312,     0.12412,     0.12513,     0.12613,     0.12713,     0.12813,     0.12913,     0.13013,     0.13113,     0.13213,     0.13313,     0.13413,     0.13514,     0.13614,     0.13714,     0.13814,     0.13914,     0.14014,     0.14114,     0.14214,     0.14314,\n",
       "           0.14414,     0.14515,     0.14615,     0.14715,     0.14815,     0.14915,     0.15015,     0.15115,     0.15215,     0.15315,     0.15415,     0.15516,     0.15616,     0.15716,     0.15816,     0.15916,     0.16016,     0.16116,     0.16216,     0.16316,     0.16416,     0.16517,     0.16617,     0.16717,\n",
       "           0.16817,     0.16917,     0.17017,     0.17117,     0.17217,     0.17317,     0.17417,     0.17518,     0.17618,     0.17718,     0.17818,     0.17918,     0.18018,     0.18118,     0.18218,     0.18318,     0.18418,     0.18519,     0.18619,     0.18719,     0.18819,     0.18919,     0.19019,     0.19119,\n",
       "           0.19219,     0.19319,     0.19419,      0.1952,      0.1962,      0.1972,      0.1982,      0.1992,      0.2002,      0.2012,      0.2022,      0.2032,      0.2042,     0.20521,     0.20621,     0.20721,     0.20821,     0.20921,     0.21021,     0.21121,     0.21221,     0.21321,     0.21421,     0.21522,\n",
       "           0.21622,     0.21722,     0.21822,     0.21922,     0.22022,     0.22122,     0.22222,     0.22322,     0.22422,     0.22523,     0.22623,     0.22723,     0.22823,     0.22923,     0.23023,     0.23123,     0.23223,     0.23323,     0.23423,     0.23524,     0.23624,     0.23724,     0.23824,     0.23924,\n",
       "           0.24024,     0.24124,     0.24224,     0.24324,     0.24424,     0.24525,     0.24625,     0.24725,     0.24825,     0.24925,     0.25025,     0.25125,     0.25225,     0.25325,     0.25425,     0.25526,     0.25626,     0.25726,     0.25826,     0.25926,     0.26026,     0.26126,     0.26226,     0.26326,\n",
       "           0.26426,     0.26527,     0.26627,     0.26727,     0.26827,     0.26927,     0.27027,     0.27127,     0.27227,     0.27327,     0.27427,     0.27528,     0.27628,     0.27728,     0.27828,     0.27928,     0.28028,     0.28128,     0.28228,     0.28328,     0.28428,     0.28529,     0.28629,     0.28729,\n",
       "           0.28829,     0.28929,     0.29029,     0.29129,     0.29229,     0.29329,     0.29429,      0.2953,      0.2963,      0.2973,      0.2983,      0.2993,      0.3003,      0.3013,      0.3023,      0.3033,      0.3043,     0.30531,     0.30631,     0.30731,     0.30831,     0.30931,     0.31031,     0.31131,\n",
       "           0.31231,     0.31331,     0.31431,     0.31532,     0.31632,     0.31732,     0.31832,     0.31932,     0.32032,     0.32132,     0.32232,     0.32332,     0.32432,     0.32533,     0.32633,     0.32733,     0.32833,     0.32933,     0.33033,     0.33133,     0.33233,     0.33333,     0.33433,     0.33534,\n",
       "           0.33634,     0.33734,     0.33834,     0.33934,     0.34034,     0.34134,     0.34234,     0.34334,     0.34434,     0.34535,     0.34635,     0.34735,     0.34835,     0.34935,     0.35035,     0.35135,     0.35235,     0.35335,     0.35435,     0.35536,     0.35636,     0.35736,     0.35836,     0.35936,\n",
       "           0.36036,     0.36136,     0.36236,     0.36336,     0.36436,     0.36537,     0.36637,     0.36737,     0.36837,     0.36937,     0.37037,     0.37137,     0.37237,     0.37337,     0.37437,     0.37538,     0.37638,     0.37738,     0.37838,     0.37938,     0.38038,     0.38138,     0.38238,     0.38338,\n",
       "           0.38438,     0.38539,     0.38639,     0.38739,     0.38839,     0.38939,     0.39039,     0.39139,     0.39239,     0.39339,     0.39439,      0.3954,      0.3964,      0.3974,      0.3984,      0.3994,      0.4004,      0.4014,      0.4024,      0.4034,      0.4044,     0.40541,     0.40641,     0.40741,\n",
       "           0.40841,     0.40941,     0.41041,     0.41141,     0.41241,     0.41341,     0.41441,     0.41542,     0.41642,     0.41742,     0.41842,     0.41942,     0.42042,     0.42142,     0.42242,     0.42342,     0.42442,     0.42543,     0.42643,     0.42743,     0.42843,     0.42943,     0.43043,     0.43143,\n",
       "           0.43243,     0.43343,     0.43443,     0.43544,     0.43644,     0.43744,     0.43844,     0.43944,     0.44044,     0.44144,     0.44244,     0.44344,     0.44444,     0.44545,     0.44645,     0.44745,     0.44845,     0.44945,     0.45045,     0.45145,     0.45245,     0.45345,     0.45445,     0.45546,\n",
       "           0.45646,     0.45746,     0.45846,     0.45946,     0.46046,     0.46146,     0.46246,     0.46346,     0.46446,     0.46547,     0.46647,     0.46747,     0.46847,     0.46947,     0.47047,     0.47147,     0.47247,     0.47347,     0.47447,     0.47548,     0.47648,     0.47748,     0.47848,     0.47948,\n",
       "           0.48048,     0.48148,     0.48248,     0.48348,     0.48448,     0.48549,     0.48649,     0.48749,     0.48849,     0.48949,     0.49049,     0.49149,     0.49249,     0.49349,     0.49449,      0.4955,      0.4965,      0.4975,      0.4985,      0.4995,      0.5005,      0.5015,      0.5025,      0.5035,\n",
       "            0.5045,     0.50551,     0.50651,     0.50751,     0.50851,     0.50951,     0.51051,     0.51151,     0.51251,     0.51351,     0.51451,     0.51552,     0.51652,     0.51752,     0.51852,     0.51952,     0.52052,     0.52152,     0.52252,     0.52352,     0.52452,     0.52553,     0.52653,     0.52753,\n",
       "           0.52853,     0.52953,     0.53053,     0.53153,     0.53253,     0.53353,     0.53453,     0.53554,     0.53654,     0.53754,     0.53854,     0.53954,     0.54054,     0.54154,     0.54254,     0.54354,     0.54454,     0.54555,     0.54655,     0.54755,     0.54855,     0.54955,     0.55055,     0.55155,\n",
       "           0.55255,     0.55355,     0.55455,     0.55556,     0.55656,     0.55756,     0.55856,     0.55956,     0.56056,     0.56156,     0.56256,     0.56356,     0.56456,     0.56557,     0.56657,     0.56757,     0.56857,     0.56957,     0.57057,     0.57157,     0.57257,     0.57357,     0.57457,     0.57558,\n",
       "           0.57658,     0.57758,     0.57858,     0.57958,     0.58058,     0.58158,     0.58258,     0.58358,     0.58458,     0.58559,     0.58659,     0.58759,     0.58859,     0.58959,     0.59059,     0.59159,     0.59259,     0.59359,     0.59459,      0.5956,      0.5966,      0.5976,      0.5986,      0.5996,\n",
       "            0.6006,      0.6016,      0.6026,      0.6036,      0.6046,     0.60561,     0.60661,     0.60761,     0.60861,     0.60961,     0.61061,     0.61161,     0.61261,     0.61361,     0.61461,     0.61562,     0.61662,     0.61762,     0.61862,     0.61962,     0.62062,     0.62162,     0.62262,     0.62362,\n",
       "           0.62462,     0.62563,     0.62663,     0.62763,     0.62863,     0.62963,     0.63063,     0.63163,     0.63263,     0.63363,     0.63463,     0.63564,     0.63664,     0.63764,     0.63864,     0.63964,     0.64064,     0.64164,     0.64264,     0.64364,     0.64464,     0.64565,     0.64665,     0.64765,\n",
       "           0.64865,     0.64965,     0.65065,     0.65165,     0.65265,     0.65365,     0.65465,     0.65566,     0.65666,     0.65766,     0.65866,     0.65966,     0.66066,     0.66166,     0.66266,     0.66366,     0.66466,     0.66567,     0.66667,     0.66767,     0.66867,     0.66967,     0.67067,     0.67167,\n",
       "           0.67267,     0.67367,     0.67467,     0.67568,     0.67668,     0.67768,     0.67868,     0.67968,     0.68068,     0.68168,     0.68268,     0.68368,     0.68468,     0.68569,     0.68669,     0.68769,     0.68869,     0.68969,     0.69069,     0.69169,     0.69269,     0.69369,     0.69469,      0.6957,\n",
       "            0.6967,      0.6977,      0.6987,      0.6997,      0.7007,      0.7017,      0.7027,      0.7037,      0.7047,     0.70571,     0.70671,     0.70771,     0.70871,     0.70971,     0.71071,     0.71171,     0.71271,     0.71371,     0.71471,     0.71572,     0.71672,     0.71772,     0.71872,     0.71972,\n",
       "           0.72072,     0.72172,     0.72272,     0.72372,     0.72472,     0.72573,     0.72673,     0.72773,     0.72873,     0.72973,     0.73073,     0.73173,     0.73273,     0.73373,     0.73473,     0.73574,     0.73674,     0.73774,     0.73874,     0.73974,     0.74074,     0.74174,     0.74274,     0.74374,\n",
       "           0.74474,     0.74575,     0.74675,     0.74775,     0.74875,     0.74975,     0.75075,     0.75175,     0.75275,     0.75375,     0.75475,     0.75576,     0.75676,     0.75776,     0.75876,     0.75976,     0.76076,     0.76176,     0.76276,     0.76376,     0.76476,     0.76577,     0.76677,     0.76777,\n",
       "           0.76877,     0.76977,     0.77077,     0.77177,     0.77277,     0.77377,     0.77477,     0.77578,     0.77678,     0.77778,     0.77878,     0.77978,     0.78078,     0.78178,     0.78278,     0.78378,     0.78478,     0.78579,     0.78679,     0.78779,     0.78879,     0.78979,     0.79079,     0.79179,\n",
       "           0.79279,     0.79379,     0.79479,      0.7958,      0.7968,      0.7978,      0.7988,      0.7998,      0.8008,      0.8018,      0.8028,      0.8038,      0.8048,     0.80581,     0.80681,     0.80781,     0.80881,     0.80981,     0.81081,     0.81181,     0.81281,     0.81381,     0.81481,     0.81582,\n",
       "           0.81682,     0.81782,     0.81882,     0.81982,     0.82082,     0.82182,     0.82282,     0.82382,     0.82482,     0.82583,     0.82683,     0.82783,     0.82883,     0.82983,     0.83083,     0.83183,     0.83283,     0.83383,     0.83483,     0.83584,     0.83684,     0.83784,     0.83884,     0.83984,\n",
       "           0.84084,     0.84184,     0.84284,     0.84384,     0.84484,     0.84585,     0.84685,     0.84785,     0.84885,     0.84985,     0.85085,     0.85185,     0.85285,     0.85385,     0.85485,     0.85586,     0.85686,     0.85786,     0.85886,     0.85986,     0.86086,     0.86186,     0.86286,     0.86386,\n",
       "           0.86486,     0.86587,     0.86687,     0.86787,     0.86887,     0.86987,     0.87087,     0.87187,     0.87287,     0.87387,     0.87487,     0.87588,     0.87688,     0.87788,     0.87888,     0.87988,     0.88088,     0.88188,     0.88288,     0.88388,     0.88488,     0.88589,     0.88689,     0.88789,\n",
       "           0.88889,     0.88989,     0.89089,     0.89189,     0.89289,     0.89389,     0.89489,      0.8959,      0.8969,      0.8979,      0.8989,      0.8999,      0.9009,      0.9019,      0.9029,      0.9039,      0.9049,     0.90591,     0.90691,     0.90791,     0.90891,     0.90991,     0.91091,     0.91191,\n",
       "           0.91291,     0.91391,     0.91491,     0.91592,     0.91692,     0.91792,     0.91892,     0.91992,     0.92092,     0.92192,     0.92292,     0.92392,     0.92492,     0.92593,     0.92693,     0.92793,     0.92893,     0.92993,     0.93093,     0.93193,     0.93293,     0.93393,     0.93493,     0.93594,\n",
       "           0.93694,     0.93794,     0.93894,     0.93994,     0.94094,     0.94194,     0.94294,     0.94394,     0.94494,     0.94595,     0.94695,     0.94795,     0.94895,     0.94995,     0.95095,     0.95195,     0.95295,     0.95395,     0.95495,     0.95596,     0.95696,     0.95796,     0.95896,     0.95996,\n",
       "           0.96096,     0.96196,     0.96296,     0.96396,     0.96496,     0.96597,     0.96697,     0.96797,     0.96897,     0.96997,     0.97097,     0.97197,     0.97297,     0.97397,     0.97497,     0.97598,     0.97698,     0.97798,     0.97898,     0.97998,     0.98098,     0.98198,     0.98298,     0.98398,\n",
       "           0.98498,     0.98599,     0.98699,     0.98799,     0.98899,     0.98999,     0.99099,     0.99199,     0.99299,     0.99399,     0.99499,       0.996,       0.997,       0.998,       0.999,           1]), array([[          1,           1,           1, ...,  0.00017967,  8.9833e-05,           0],\n",
       "       [          1,           1,           1, ...,  0.00098661,  0.00049331,           0],\n",
       "       [          1,           1,           1, ...,           1,           1,           0],\n",
       "       [          1,           1,           1, ...,   0.0006493,  0.00032465,           0],\n",
       "       [          1,           1,           1, ...,   0.0020239,    0.001012,           0],\n",
       "       [          0,           0,           0, ...,           0,           0,           0]]), 'Recall', 'Precision'], [array([          0,    0.001001,    0.002002,    0.003003,    0.004004,    0.005005,    0.006006,    0.007007,    0.008008,    0.009009,     0.01001,    0.011011,    0.012012,    0.013013,    0.014014,    0.015015,    0.016016,    0.017017,    0.018018,    0.019019,     0.02002,    0.021021,    0.022022,    0.023023,\n",
       "          0.024024,    0.025025,    0.026026,    0.027027,    0.028028,    0.029029,     0.03003,    0.031031,    0.032032,    0.033033,    0.034034,    0.035035,    0.036036,    0.037037,    0.038038,    0.039039,     0.04004,    0.041041,    0.042042,    0.043043,    0.044044,    0.045045,    0.046046,    0.047047,\n",
       "          0.048048,    0.049049,     0.05005,    0.051051,    0.052052,    0.053053,    0.054054,    0.055055,    0.056056,    0.057057,    0.058058,    0.059059,     0.06006,    0.061061,    0.062062,    0.063063,    0.064064,    0.065065,    0.066066,    0.067067,    0.068068,    0.069069,     0.07007,    0.071071,\n",
       "          0.072072,    0.073073,    0.074074,    0.075075,    0.076076,    0.077077,    0.078078,    0.079079,     0.08008,    0.081081,    0.082082,    0.083083,    0.084084,    0.085085,    0.086086,    0.087087,    0.088088,    0.089089,     0.09009,    0.091091,    0.092092,    0.093093,    0.094094,    0.095095,\n",
       "          0.096096,    0.097097,    0.098098,    0.099099,      0.1001,      0.1011,      0.1021,      0.1031,      0.1041,     0.10511,     0.10611,     0.10711,     0.10811,     0.10911,     0.11011,     0.11111,     0.11211,     0.11311,     0.11411,     0.11512,     0.11612,     0.11712,     0.11812,     0.11912,\n",
       "           0.12012,     0.12112,     0.12212,     0.12312,     0.12412,     0.12513,     0.12613,     0.12713,     0.12813,     0.12913,     0.13013,     0.13113,     0.13213,     0.13313,     0.13413,     0.13514,     0.13614,     0.13714,     0.13814,     0.13914,     0.14014,     0.14114,     0.14214,     0.14314,\n",
       "           0.14414,     0.14515,     0.14615,     0.14715,     0.14815,     0.14915,     0.15015,     0.15115,     0.15215,     0.15315,     0.15415,     0.15516,     0.15616,     0.15716,     0.15816,     0.15916,     0.16016,     0.16116,     0.16216,     0.16316,     0.16416,     0.16517,     0.16617,     0.16717,\n",
       "           0.16817,     0.16917,     0.17017,     0.17117,     0.17217,     0.17317,     0.17417,     0.17518,     0.17618,     0.17718,     0.17818,     0.17918,     0.18018,     0.18118,     0.18218,     0.18318,     0.18418,     0.18519,     0.18619,     0.18719,     0.18819,     0.18919,     0.19019,     0.19119,\n",
       "           0.19219,     0.19319,     0.19419,      0.1952,      0.1962,      0.1972,      0.1982,      0.1992,      0.2002,      0.2012,      0.2022,      0.2032,      0.2042,     0.20521,     0.20621,     0.20721,     0.20821,     0.20921,     0.21021,     0.21121,     0.21221,     0.21321,     0.21421,     0.21522,\n",
       "           0.21622,     0.21722,     0.21822,     0.21922,     0.22022,     0.22122,     0.22222,     0.22322,     0.22422,     0.22523,     0.22623,     0.22723,     0.22823,     0.22923,     0.23023,     0.23123,     0.23223,     0.23323,     0.23423,     0.23524,     0.23624,     0.23724,     0.23824,     0.23924,\n",
       "           0.24024,     0.24124,     0.24224,     0.24324,     0.24424,     0.24525,     0.24625,     0.24725,     0.24825,     0.24925,     0.25025,     0.25125,     0.25225,     0.25325,     0.25425,     0.25526,     0.25626,     0.25726,     0.25826,     0.25926,     0.26026,     0.26126,     0.26226,     0.26326,\n",
       "           0.26426,     0.26527,     0.26627,     0.26727,     0.26827,     0.26927,     0.27027,     0.27127,     0.27227,     0.27327,     0.27427,     0.27528,     0.27628,     0.27728,     0.27828,     0.27928,     0.28028,     0.28128,     0.28228,     0.28328,     0.28428,     0.28529,     0.28629,     0.28729,\n",
       "           0.28829,     0.28929,     0.29029,     0.29129,     0.29229,     0.29329,     0.29429,      0.2953,      0.2963,      0.2973,      0.2983,      0.2993,      0.3003,      0.3013,      0.3023,      0.3033,      0.3043,     0.30531,     0.30631,     0.30731,     0.30831,     0.30931,     0.31031,     0.31131,\n",
       "           0.31231,     0.31331,     0.31431,     0.31532,     0.31632,     0.31732,     0.31832,     0.31932,     0.32032,     0.32132,     0.32232,     0.32332,     0.32432,     0.32533,     0.32633,     0.32733,     0.32833,     0.32933,     0.33033,     0.33133,     0.33233,     0.33333,     0.33433,     0.33534,\n",
       "           0.33634,     0.33734,     0.33834,     0.33934,     0.34034,     0.34134,     0.34234,     0.34334,     0.34434,     0.34535,     0.34635,     0.34735,     0.34835,     0.34935,     0.35035,     0.35135,     0.35235,     0.35335,     0.35435,     0.35536,     0.35636,     0.35736,     0.35836,     0.35936,\n",
       "           0.36036,     0.36136,     0.36236,     0.36336,     0.36436,     0.36537,     0.36637,     0.36737,     0.36837,     0.36937,     0.37037,     0.37137,     0.37237,     0.37337,     0.37437,     0.37538,     0.37638,     0.37738,     0.37838,     0.37938,     0.38038,     0.38138,     0.38238,     0.38338,\n",
       "           0.38438,     0.38539,     0.38639,     0.38739,     0.38839,     0.38939,     0.39039,     0.39139,     0.39239,     0.39339,     0.39439,      0.3954,      0.3964,      0.3974,      0.3984,      0.3994,      0.4004,      0.4014,      0.4024,      0.4034,      0.4044,     0.40541,     0.40641,     0.40741,\n",
       "           0.40841,     0.40941,     0.41041,     0.41141,     0.41241,     0.41341,     0.41441,     0.41542,     0.41642,     0.41742,     0.41842,     0.41942,     0.42042,     0.42142,     0.42242,     0.42342,     0.42442,     0.42543,     0.42643,     0.42743,     0.42843,     0.42943,     0.43043,     0.43143,\n",
       "           0.43243,     0.43343,     0.43443,     0.43544,     0.43644,     0.43744,     0.43844,     0.43944,     0.44044,     0.44144,     0.44244,     0.44344,     0.44444,     0.44545,     0.44645,     0.44745,     0.44845,     0.44945,     0.45045,     0.45145,     0.45245,     0.45345,     0.45445,     0.45546,\n",
       "           0.45646,     0.45746,     0.45846,     0.45946,     0.46046,     0.46146,     0.46246,     0.46346,     0.46446,     0.46547,     0.46647,     0.46747,     0.46847,     0.46947,     0.47047,     0.47147,     0.47247,     0.47347,     0.47447,     0.47548,     0.47648,     0.47748,     0.47848,     0.47948,\n",
       "           0.48048,     0.48148,     0.48248,     0.48348,     0.48448,     0.48549,     0.48649,     0.48749,     0.48849,     0.48949,     0.49049,     0.49149,     0.49249,     0.49349,     0.49449,      0.4955,      0.4965,      0.4975,      0.4985,      0.4995,      0.5005,      0.5015,      0.5025,      0.5035,\n",
       "            0.5045,     0.50551,     0.50651,     0.50751,     0.50851,     0.50951,     0.51051,     0.51151,     0.51251,     0.51351,     0.51451,     0.51552,     0.51652,     0.51752,     0.51852,     0.51952,     0.52052,     0.52152,     0.52252,     0.52352,     0.52452,     0.52553,     0.52653,     0.52753,\n",
       "           0.52853,     0.52953,     0.53053,     0.53153,     0.53253,     0.53353,     0.53453,     0.53554,     0.53654,     0.53754,     0.53854,     0.53954,     0.54054,     0.54154,     0.54254,     0.54354,     0.54454,     0.54555,     0.54655,     0.54755,     0.54855,     0.54955,     0.55055,     0.55155,\n",
       "           0.55255,     0.55355,     0.55455,     0.55556,     0.55656,     0.55756,     0.55856,     0.55956,     0.56056,     0.56156,     0.56256,     0.56356,     0.56456,     0.56557,     0.56657,     0.56757,     0.56857,     0.56957,     0.57057,     0.57157,     0.57257,     0.57357,     0.57457,     0.57558,\n",
       "           0.57658,     0.57758,     0.57858,     0.57958,     0.58058,     0.58158,     0.58258,     0.58358,     0.58458,     0.58559,     0.58659,     0.58759,     0.58859,     0.58959,     0.59059,     0.59159,     0.59259,     0.59359,     0.59459,      0.5956,      0.5966,      0.5976,      0.5986,      0.5996,\n",
       "            0.6006,      0.6016,      0.6026,      0.6036,      0.6046,     0.60561,     0.60661,     0.60761,     0.60861,     0.60961,     0.61061,     0.61161,     0.61261,     0.61361,     0.61461,     0.61562,     0.61662,     0.61762,     0.61862,     0.61962,     0.62062,     0.62162,     0.62262,     0.62362,\n",
       "           0.62462,     0.62563,     0.62663,     0.62763,     0.62863,     0.62963,     0.63063,     0.63163,     0.63263,     0.63363,     0.63463,     0.63564,     0.63664,     0.63764,     0.63864,     0.63964,     0.64064,     0.64164,     0.64264,     0.64364,     0.64464,     0.64565,     0.64665,     0.64765,\n",
       "           0.64865,     0.64965,     0.65065,     0.65165,     0.65265,     0.65365,     0.65465,     0.65566,     0.65666,     0.65766,     0.65866,     0.65966,     0.66066,     0.66166,     0.66266,     0.66366,     0.66466,     0.66567,     0.66667,     0.66767,     0.66867,     0.66967,     0.67067,     0.67167,\n",
       "           0.67267,     0.67367,     0.67467,     0.67568,     0.67668,     0.67768,     0.67868,     0.67968,     0.68068,     0.68168,     0.68268,     0.68368,     0.68468,     0.68569,     0.68669,     0.68769,     0.68869,     0.68969,     0.69069,     0.69169,     0.69269,     0.69369,     0.69469,      0.6957,\n",
       "            0.6967,      0.6977,      0.6987,      0.6997,      0.7007,      0.7017,      0.7027,      0.7037,      0.7047,     0.70571,     0.70671,     0.70771,     0.70871,     0.70971,     0.71071,     0.71171,     0.71271,     0.71371,     0.71471,     0.71572,     0.71672,     0.71772,     0.71872,     0.71972,\n",
       "           0.72072,     0.72172,     0.72272,     0.72372,     0.72472,     0.72573,     0.72673,     0.72773,     0.72873,     0.72973,     0.73073,     0.73173,     0.73273,     0.73373,     0.73473,     0.73574,     0.73674,     0.73774,     0.73874,     0.73974,     0.74074,     0.74174,     0.74274,     0.74374,\n",
       "           0.74474,     0.74575,     0.74675,     0.74775,     0.74875,     0.74975,     0.75075,     0.75175,     0.75275,     0.75375,     0.75475,     0.75576,     0.75676,     0.75776,     0.75876,     0.75976,     0.76076,     0.76176,     0.76276,     0.76376,     0.76476,     0.76577,     0.76677,     0.76777,\n",
       "           0.76877,     0.76977,     0.77077,     0.77177,     0.77277,     0.77377,     0.77477,     0.77578,     0.77678,     0.77778,     0.77878,     0.77978,     0.78078,     0.78178,     0.78278,     0.78378,     0.78478,     0.78579,     0.78679,     0.78779,     0.78879,     0.78979,     0.79079,     0.79179,\n",
       "           0.79279,     0.79379,     0.79479,      0.7958,      0.7968,      0.7978,      0.7988,      0.7998,      0.8008,      0.8018,      0.8028,      0.8038,      0.8048,     0.80581,     0.80681,     0.80781,     0.80881,     0.80981,     0.81081,     0.81181,     0.81281,     0.81381,     0.81481,     0.81582,\n",
       "           0.81682,     0.81782,     0.81882,     0.81982,     0.82082,     0.82182,     0.82282,     0.82382,     0.82482,     0.82583,     0.82683,     0.82783,     0.82883,     0.82983,     0.83083,     0.83183,     0.83283,     0.83383,     0.83483,     0.83584,     0.83684,     0.83784,     0.83884,     0.83984,\n",
       "           0.84084,     0.84184,     0.84284,     0.84384,     0.84484,     0.84585,     0.84685,     0.84785,     0.84885,     0.84985,     0.85085,     0.85185,     0.85285,     0.85385,     0.85485,     0.85586,     0.85686,     0.85786,     0.85886,     0.85986,     0.86086,     0.86186,     0.86286,     0.86386,\n",
       "           0.86486,     0.86587,     0.86687,     0.86787,     0.86887,     0.86987,     0.87087,     0.87187,     0.87287,     0.87387,     0.87487,     0.87588,     0.87688,     0.87788,     0.87888,     0.87988,     0.88088,     0.88188,     0.88288,     0.88388,     0.88488,     0.88589,     0.88689,     0.88789,\n",
       "           0.88889,     0.88989,     0.89089,     0.89189,     0.89289,     0.89389,     0.89489,      0.8959,      0.8969,      0.8979,      0.8989,      0.8999,      0.9009,      0.9019,      0.9029,      0.9039,      0.9049,     0.90591,     0.90691,     0.90791,     0.90891,     0.90991,     0.91091,     0.91191,\n",
       "           0.91291,     0.91391,     0.91491,     0.91592,     0.91692,     0.91792,     0.91892,     0.91992,     0.92092,     0.92192,     0.92292,     0.92392,     0.92492,     0.92593,     0.92693,     0.92793,     0.92893,     0.92993,     0.93093,     0.93193,     0.93293,     0.93393,     0.93493,     0.93594,\n",
       "           0.93694,     0.93794,     0.93894,     0.93994,     0.94094,     0.94194,     0.94294,     0.94394,     0.94494,     0.94595,     0.94695,     0.94795,     0.94895,     0.94995,     0.95095,     0.95195,     0.95295,     0.95395,     0.95495,     0.95596,     0.95696,     0.95796,     0.95896,     0.95996,\n",
       "           0.96096,     0.96196,     0.96296,     0.96396,     0.96496,     0.96597,     0.96697,     0.96797,     0.96897,     0.96997,     0.97097,     0.97197,     0.97297,     0.97397,     0.97497,     0.97598,     0.97698,     0.97798,     0.97898,     0.97998,     0.98098,     0.98198,     0.98298,     0.98398,\n",
       "           0.98498,     0.98599,     0.98699,     0.98799,     0.98899,     0.98999,     0.99099,     0.99199,     0.99299,     0.99399,     0.99499,       0.996,       0.997,       0.998,       0.999,           1]), array([[   0.072072,    0.072072,      0.1144, ...,           0,           0,           0],\n",
       "       [   0.059642,    0.059642,    0.091481, ...,           0,           0,           0],\n",
       "       [    0.14286,     0.14286,     0.22115, ...,           0,           0,           0],\n",
       "       ...,\n",
       "       [          0,           0,           0, ...,           0,           0,           0],\n",
       "       [   0.087683,    0.087727,     0.12509, ...,           0,           0,           0],\n",
       "       [          0,           0,           0, ...,           0,           0,           0]]), 'Confidence', 'F1'], [array([          0,    0.001001,    0.002002,    0.003003,    0.004004,    0.005005,    0.006006,    0.007007,    0.008008,    0.009009,     0.01001,    0.011011,    0.012012,    0.013013,    0.014014,    0.015015,    0.016016,    0.017017,    0.018018,    0.019019,     0.02002,    0.021021,    0.022022,    0.023023,\n",
       "          0.024024,    0.025025,    0.026026,    0.027027,    0.028028,    0.029029,     0.03003,    0.031031,    0.032032,    0.033033,    0.034034,    0.035035,    0.036036,    0.037037,    0.038038,    0.039039,     0.04004,    0.041041,    0.042042,    0.043043,    0.044044,    0.045045,    0.046046,    0.047047,\n",
       "          0.048048,    0.049049,     0.05005,    0.051051,    0.052052,    0.053053,    0.054054,    0.055055,    0.056056,    0.057057,    0.058058,    0.059059,     0.06006,    0.061061,    0.062062,    0.063063,    0.064064,    0.065065,    0.066066,    0.067067,    0.068068,    0.069069,     0.07007,    0.071071,\n",
       "          0.072072,    0.073073,    0.074074,    0.075075,    0.076076,    0.077077,    0.078078,    0.079079,     0.08008,    0.081081,    0.082082,    0.083083,    0.084084,    0.085085,    0.086086,    0.087087,    0.088088,    0.089089,     0.09009,    0.091091,    0.092092,    0.093093,    0.094094,    0.095095,\n",
       "          0.096096,    0.097097,    0.098098,    0.099099,      0.1001,      0.1011,      0.1021,      0.1031,      0.1041,     0.10511,     0.10611,     0.10711,     0.10811,     0.10911,     0.11011,     0.11111,     0.11211,     0.11311,     0.11411,     0.11512,     0.11612,     0.11712,     0.11812,     0.11912,\n",
       "           0.12012,     0.12112,     0.12212,     0.12312,     0.12412,     0.12513,     0.12613,     0.12713,     0.12813,     0.12913,     0.13013,     0.13113,     0.13213,     0.13313,     0.13413,     0.13514,     0.13614,     0.13714,     0.13814,     0.13914,     0.14014,     0.14114,     0.14214,     0.14314,\n",
       "           0.14414,     0.14515,     0.14615,     0.14715,     0.14815,     0.14915,     0.15015,     0.15115,     0.15215,     0.15315,     0.15415,     0.15516,     0.15616,     0.15716,     0.15816,     0.15916,     0.16016,     0.16116,     0.16216,     0.16316,     0.16416,     0.16517,     0.16617,     0.16717,\n",
       "           0.16817,     0.16917,     0.17017,     0.17117,     0.17217,     0.17317,     0.17417,     0.17518,     0.17618,     0.17718,     0.17818,     0.17918,     0.18018,     0.18118,     0.18218,     0.18318,     0.18418,     0.18519,     0.18619,     0.18719,     0.18819,     0.18919,     0.19019,     0.19119,\n",
       "           0.19219,     0.19319,     0.19419,      0.1952,      0.1962,      0.1972,      0.1982,      0.1992,      0.2002,      0.2012,      0.2022,      0.2032,      0.2042,     0.20521,     0.20621,     0.20721,     0.20821,     0.20921,     0.21021,     0.21121,     0.21221,     0.21321,     0.21421,     0.21522,\n",
       "           0.21622,     0.21722,     0.21822,     0.21922,     0.22022,     0.22122,     0.22222,     0.22322,     0.22422,     0.22523,     0.22623,     0.22723,     0.22823,     0.22923,     0.23023,     0.23123,     0.23223,     0.23323,     0.23423,     0.23524,     0.23624,     0.23724,     0.23824,     0.23924,\n",
       "           0.24024,     0.24124,     0.24224,     0.24324,     0.24424,     0.24525,     0.24625,     0.24725,     0.24825,     0.24925,     0.25025,     0.25125,     0.25225,     0.25325,     0.25425,     0.25526,     0.25626,     0.25726,     0.25826,     0.25926,     0.26026,     0.26126,     0.26226,     0.26326,\n",
       "           0.26426,     0.26527,     0.26627,     0.26727,     0.26827,     0.26927,     0.27027,     0.27127,     0.27227,     0.27327,     0.27427,     0.27528,     0.27628,     0.27728,     0.27828,     0.27928,     0.28028,     0.28128,     0.28228,     0.28328,     0.28428,     0.28529,     0.28629,     0.28729,\n",
       "           0.28829,     0.28929,     0.29029,     0.29129,     0.29229,     0.29329,     0.29429,      0.2953,      0.2963,      0.2973,      0.2983,      0.2993,      0.3003,      0.3013,      0.3023,      0.3033,      0.3043,     0.30531,     0.30631,     0.30731,     0.30831,     0.30931,     0.31031,     0.31131,\n",
       "           0.31231,     0.31331,     0.31431,     0.31532,     0.31632,     0.31732,     0.31832,     0.31932,     0.32032,     0.32132,     0.32232,     0.32332,     0.32432,     0.32533,     0.32633,     0.32733,     0.32833,     0.32933,     0.33033,     0.33133,     0.33233,     0.33333,     0.33433,     0.33534,\n",
       "           0.33634,     0.33734,     0.33834,     0.33934,     0.34034,     0.34134,     0.34234,     0.34334,     0.34434,     0.34535,     0.34635,     0.34735,     0.34835,     0.34935,     0.35035,     0.35135,     0.35235,     0.35335,     0.35435,     0.35536,     0.35636,     0.35736,     0.35836,     0.35936,\n",
       "           0.36036,     0.36136,     0.36236,     0.36336,     0.36436,     0.36537,     0.36637,     0.36737,     0.36837,     0.36937,     0.37037,     0.37137,     0.37237,     0.37337,     0.37437,     0.37538,     0.37638,     0.37738,     0.37838,     0.37938,     0.38038,     0.38138,     0.38238,     0.38338,\n",
       "           0.38438,     0.38539,     0.38639,     0.38739,     0.38839,     0.38939,     0.39039,     0.39139,     0.39239,     0.39339,     0.39439,      0.3954,      0.3964,      0.3974,      0.3984,      0.3994,      0.4004,      0.4014,      0.4024,      0.4034,      0.4044,     0.40541,     0.40641,     0.40741,\n",
       "           0.40841,     0.40941,     0.41041,     0.41141,     0.41241,     0.41341,     0.41441,     0.41542,     0.41642,     0.41742,     0.41842,     0.41942,     0.42042,     0.42142,     0.42242,     0.42342,     0.42442,     0.42543,     0.42643,     0.42743,     0.42843,     0.42943,     0.43043,     0.43143,\n",
       "           0.43243,     0.43343,     0.43443,     0.43544,     0.43644,     0.43744,     0.43844,     0.43944,     0.44044,     0.44144,     0.44244,     0.44344,     0.44444,     0.44545,     0.44645,     0.44745,     0.44845,     0.44945,     0.45045,     0.45145,     0.45245,     0.45345,     0.45445,     0.45546,\n",
       "           0.45646,     0.45746,     0.45846,     0.45946,     0.46046,     0.46146,     0.46246,     0.46346,     0.46446,     0.46547,     0.46647,     0.46747,     0.46847,     0.46947,     0.47047,     0.47147,     0.47247,     0.47347,     0.47447,     0.47548,     0.47648,     0.47748,     0.47848,     0.47948,\n",
       "           0.48048,     0.48148,     0.48248,     0.48348,     0.48448,     0.48549,     0.48649,     0.48749,     0.48849,     0.48949,     0.49049,     0.49149,     0.49249,     0.49349,     0.49449,      0.4955,      0.4965,      0.4975,      0.4985,      0.4995,      0.5005,      0.5015,      0.5025,      0.5035,\n",
       "            0.5045,     0.50551,     0.50651,     0.50751,     0.50851,     0.50951,     0.51051,     0.51151,     0.51251,     0.51351,     0.51451,     0.51552,     0.51652,     0.51752,     0.51852,     0.51952,     0.52052,     0.52152,     0.52252,     0.52352,     0.52452,     0.52553,     0.52653,     0.52753,\n",
       "           0.52853,     0.52953,     0.53053,     0.53153,     0.53253,     0.53353,     0.53453,     0.53554,     0.53654,     0.53754,     0.53854,     0.53954,     0.54054,     0.54154,     0.54254,     0.54354,     0.54454,     0.54555,     0.54655,     0.54755,     0.54855,     0.54955,     0.55055,     0.55155,\n",
       "           0.55255,     0.55355,     0.55455,     0.55556,     0.55656,     0.55756,     0.55856,     0.55956,     0.56056,     0.56156,     0.56256,     0.56356,     0.56456,     0.56557,     0.56657,     0.56757,     0.56857,     0.56957,     0.57057,     0.57157,     0.57257,     0.57357,     0.57457,     0.57558,\n",
       "           0.57658,     0.57758,     0.57858,     0.57958,     0.58058,     0.58158,     0.58258,     0.58358,     0.58458,     0.58559,     0.58659,     0.58759,     0.58859,     0.58959,     0.59059,     0.59159,     0.59259,     0.59359,     0.59459,      0.5956,      0.5966,      0.5976,      0.5986,      0.5996,\n",
       "            0.6006,      0.6016,      0.6026,      0.6036,      0.6046,     0.60561,     0.60661,     0.60761,     0.60861,     0.60961,     0.61061,     0.61161,     0.61261,     0.61361,     0.61461,     0.61562,     0.61662,     0.61762,     0.61862,     0.61962,     0.62062,     0.62162,     0.62262,     0.62362,\n",
       "           0.62462,     0.62563,     0.62663,     0.62763,     0.62863,     0.62963,     0.63063,     0.63163,     0.63263,     0.63363,     0.63463,     0.63564,     0.63664,     0.63764,     0.63864,     0.63964,     0.64064,     0.64164,     0.64264,     0.64364,     0.64464,     0.64565,     0.64665,     0.64765,\n",
       "           0.64865,     0.64965,     0.65065,     0.65165,     0.65265,     0.65365,     0.65465,     0.65566,     0.65666,     0.65766,     0.65866,     0.65966,     0.66066,     0.66166,     0.66266,     0.66366,     0.66466,     0.66567,     0.66667,     0.66767,     0.66867,     0.66967,     0.67067,     0.67167,\n",
       "           0.67267,     0.67367,     0.67467,     0.67568,     0.67668,     0.67768,     0.67868,     0.67968,     0.68068,     0.68168,     0.68268,     0.68368,     0.68468,     0.68569,     0.68669,     0.68769,     0.68869,     0.68969,     0.69069,     0.69169,     0.69269,     0.69369,     0.69469,      0.6957,\n",
       "            0.6967,      0.6977,      0.6987,      0.6997,      0.7007,      0.7017,      0.7027,      0.7037,      0.7047,     0.70571,     0.70671,     0.70771,     0.70871,     0.70971,     0.71071,     0.71171,     0.71271,     0.71371,     0.71471,     0.71572,     0.71672,     0.71772,     0.71872,     0.71972,\n",
       "           0.72072,     0.72172,     0.72272,     0.72372,     0.72472,     0.72573,     0.72673,     0.72773,     0.72873,     0.72973,     0.73073,     0.73173,     0.73273,     0.73373,     0.73473,     0.73574,     0.73674,     0.73774,     0.73874,     0.73974,     0.74074,     0.74174,     0.74274,     0.74374,\n",
       "           0.74474,     0.74575,     0.74675,     0.74775,     0.74875,     0.74975,     0.75075,     0.75175,     0.75275,     0.75375,     0.75475,     0.75576,     0.75676,     0.75776,     0.75876,     0.75976,     0.76076,     0.76176,     0.76276,     0.76376,     0.76476,     0.76577,     0.76677,     0.76777,\n",
       "           0.76877,     0.76977,     0.77077,     0.77177,     0.77277,     0.77377,     0.77477,     0.77578,     0.77678,     0.77778,     0.77878,     0.77978,     0.78078,     0.78178,     0.78278,     0.78378,     0.78478,     0.78579,     0.78679,     0.78779,     0.78879,     0.78979,     0.79079,     0.79179,\n",
       "           0.79279,     0.79379,     0.79479,      0.7958,      0.7968,      0.7978,      0.7988,      0.7998,      0.8008,      0.8018,      0.8028,      0.8038,      0.8048,     0.80581,     0.80681,     0.80781,     0.80881,     0.80981,     0.81081,     0.81181,     0.81281,     0.81381,     0.81481,     0.81582,\n",
       "           0.81682,     0.81782,     0.81882,     0.81982,     0.82082,     0.82182,     0.82282,     0.82382,     0.82482,     0.82583,     0.82683,     0.82783,     0.82883,     0.82983,     0.83083,     0.83183,     0.83283,     0.83383,     0.83483,     0.83584,     0.83684,     0.83784,     0.83884,     0.83984,\n",
       "           0.84084,     0.84184,     0.84284,     0.84384,     0.84484,     0.84585,     0.84685,     0.84785,     0.84885,     0.84985,     0.85085,     0.85185,     0.85285,     0.85385,     0.85485,     0.85586,     0.85686,     0.85786,     0.85886,     0.85986,     0.86086,     0.86186,     0.86286,     0.86386,\n",
       "           0.86486,     0.86587,     0.86687,     0.86787,     0.86887,     0.86987,     0.87087,     0.87187,     0.87287,     0.87387,     0.87487,     0.87588,     0.87688,     0.87788,     0.87888,     0.87988,     0.88088,     0.88188,     0.88288,     0.88388,     0.88488,     0.88589,     0.88689,     0.88789,\n",
       "           0.88889,     0.88989,     0.89089,     0.89189,     0.89289,     0.89389,     0.89489,      0.8959,      0.8969,      0.8979,      0.8989,      0.8999,      0.9009,      0.9019,      0.9029,      0.9039,      0.9049,     0.90591,     0.90691,     0.90791,     0.90891,     0.90991,     0.91091,     0.91191,\n",
       "           0.91291,     0.91391,     0.91491,     0.91592,     0.91692,     0.91792,     0.91892,     0.91992,     0.92092,     0.92192,     0.92292,     0.92392,     0.92492,     0.92593,     0.92693,     0.92793,     0.92893,     0.92993,     0.93093,     0.93193,     0.93293,     0.93393,     0.93493,     0.93594,\n",
       "           0.93694,     0.93794,     0.93894,     0.93994,     0.94094,     0.94194,     0.94294,     0.94394,     0.94494,     0.94595,     0.94695,     0.94795,     0.94895,     0.94995,     0.95095,     0.95195,     0.95295,     0.95395,     0.95495,     0.95596,     0.95696,     0.95796,     0.95896,     0.95996,\n",
       "           0.96096,     0.96196,     0.96296,     0.96396,     0.96496,     0.96597,     0.96697,     0.96797,     0.96897,     0.96997,     0.97097,     0.97197,     0.97297,     0.97397,     0.97497,     0.97598,     0.97698,     0.97798,     0.97898,     0.97998,     0.98098,     0.98198,     0.98298,     0.98398,\n",
       "           0.98498,     0.98599,     0.98699,     0.98799,     0.98899,     0.98999,     0.99099,     0.99199,     0.99299,     0.99399,     0.99499,       0.996,       0.997,       0.998,       0.999,           1]), array([[   0.038462,    0.038462,     0.06356, ...,           1,           1,           1],\n",
       "       [   0.030801,    0.030801,    0.048263, ...,           1,           1,           1],\n",
       "       [   0.076923,    0.076923,     0.12432, ...,           1,           1,           1],\n",
       "       ...,\n",
       "       [          0,           0,           0, ...,           0,           0,           0],\n",
       "       [   0.045952,    0.045976,    0.066978, ...,           1,           1,           1],\n",
       "       [          0,           0,           0, ...,           1,           1,           1]]), 'Confidence', 'Precision'], [array([          0,    0.001001,    0.002002,    0.003003,    0.004004,    0.005005,    0.006006,    0.007007,    0.008008,    0.009009,     0.01001,    0.011011,    0.012012,    0.013013,    0.014014,    0.015015,    0.016016,    0.017017,    0.018018,    0.019019,     0.02002,    0.021021,    0.022022,    0.023023,\n",
       "          0.024024,    0.025025,    0.026026,    0.027027,    0.028028,    0.029029,     0.03003,    0.031031,    0.032032,    0.033033,    0.034034,    0.035035,    0.036036,    0.037037,    0.038038,    0.039039,     0.04004,    0.041041,    0.042042,    0.043043,    0.044044,    0.045045,    0.046046,    0.047047,\n",
       "          0.048048,    0.049049,     0.05005,    0.051051,    0.052052,    0.053053,    0.054054,    0.055055,    0.056056,    0.057057,    0.058058,    0.059059,     0.06006,    0.061061,    0.062062,    0.063063,    0.064064,    0.065065,    0.066066,    0.067067,    0.068068,    0.069069,     0.07007,    0.071071,\n",
       "          0.072072,    0.073073,    0.074074,    0.075075,    0.076076,    0.077077,    0.078078,    0.079079,     0.08008,    0.081081,    0.082082,    0.083083,    0.084084,    0.085085,    0.086086,    0.087087,    0.088088,    0.089089,     0.09009,    0.091091,    0.092092,    0.093093,    0.094094,    0.095095,\n",
       "          0.096096,    0.097097,    0.098098,    0.099099,      0.1001,      0.1011,      0.1021,      0.1031,      0.1041,     0.10511,     0.10611,     0.10711,     0.10811,     0.10911,     0.11011,     0.11111,     0.11211,     0.11311,     0.11411,     0.11512,     0.11612,     0.11712,     0.11812,     0.11912,\n",
       "           0.12012,     0.12112,     0.12212,     0.12312,     0.12412,     0.12513,     0.12613,     0.12713,     0.12813,     0.12913,     0.13013,     0.13113,     0.13213,     0.13313,     0.13413,     0.13514,     0.13614,     0.13714,     0.13814,     0.13914,     0.14014,     0.14114,     0.14214,     0.14314,\n",
       "           0.14414,     0.14515,     0.14615,     0.14715,     0.14815,     0.14915,     0.15015,     0.15115,     0.15215,     0.15315,     0.15415,     0.15516,     0.15616,     0.15716,     0.15816,     0.15916,     0.16016,     0.16116,     0.16216,     0.16316,     0.16416,     0.16517,     0.16617,     0.16717,\n",
       "           0.16817,     0.16917,     0.17017,     0.17117,     0.17217,     0.17317,     0.17417,     0.17518,     0.17618,     0.17718,     0.17818,     0.17918,     0.18018,     0.18118,     0.18218,     0.18318,     0.18418,     0.18519,     0.18619,     0.18719,     0.18819,     0.18919,     0.19019,     0.19119,\n",
       "           0.19219,     0.19319,     0.19419,      0.1952,      0.1962,      0.1972,      0.1982,      0.1992,      0.2002,      0.2012,      0.2022,      0.2032,      0.2042,     0.20521,     0.20621,     0.20721,     0.20821,     0.20921,     0.21021,     0.21121,     0.21221,     0.21321,     0.21421,     0.21522,\n",
       "           0.21622,     0.21722,     0.21822,     0.21922,     0.22022,     0.22122,     0.22222,     0.22322,     0.22422,     0.22523,     0.22623,     0.22723,     0.22823,     0.22923,     0.23023,     0.23123,     0.23223,     0.23323,     0.23423,     0.23524,     0.23624,     0.23724,     0.23824,     0.23924,\n",
       "           0.24024,     0.24124,     0.24224,     0.24324,     0.24424,     0.24525,     0.24625,     0.24725,     0.24825,     0.24925,     0.25025,     0.25125,     0.25225,     0.25325,     0.25425,     0.25526,     0.25626,     0.25726,     0.25826,     0.25926,     0.26026,     0.26126,     0.26226,     0.26326,\n",
       "           0.26426,     0.26527,     0.26627,     0.26727,     0.26827,     0.26927,     0.27027,     0.27127,     0.27227,     0.27327,     0.27427,     0.27528,     0.27628,     0.27728,     0.27828,     0.27928,     0.28028,     0.28128,     0.28228,     0.28328,     0.28428,     0.28529,     0.28629,     0.28729,\n",
       "           0.28829,     0.28929,     0.29029,     0.29129,     0.29229,     0.29329,     0.29429,      0.2953,      0.2963,      0.2973,      0.2983,      0.2993,      0.3003,      0.3013,      0.3023,      0.3033,      0.3043,     0.30531,     0.30631,     0.30731,     0.30831,     0.30931,     0.31031,     0.31131,\n",
       "           0.31231,     0.31331,     0.31431,     0.31532,     0.31632,     0.31732,     0.31832,     0.31932,     0.32032,     0.32132,     0.32232,     0.32332,     0.32432,     0.32533,     0.32633,     0.32733,     0.32833,     0.32933,     0.33033,     0.33133,     0.33233,     0.33333,     0.33433,     0.33534,\n",
       "           0.33634,     0.33734,     0.33834,     0.33934,     0.34034,     0.34134,     0.34234,     0.34334,     0.34434,     0.34535,     0.34635,     0.34735,     0.34835,     0.34935,     0.35035,     0.35135,     0.35235,     0.35335,     0.35435,     0.35536,     0.35636,     0.35736,     0.35836,     0.35936,\n",
       "           0.36036,     0.36136,     0.36236,     0.36336,     0.36436,     0.36537,     0.36637,     0.36737,     0.36837,     0.36937,     0.37037,     0.37137,     0.37237,     0.37337,     0.37437,     0.37538,     0.37638,     0.37738,     0.37838,     0.37938,     0.38038,     0.38138,     0.38238,     0.38338,\n",
       "           0.38438,     0.38539,     0.38639,     0.38739,     0.38839,     0.38939,     0.39039,     0.39139,     0.39239,     0.39339,     0.39439,      0.3954,      0.3964,      0.3974,      0.3984,      0.3994,      0.4004,      0.4014,      0.4024,      0.4034,      0.4044,     0.40541,     0.40641,     0.40741,\n",
       "           0.40841,     0.40941,     0.41041,     0.41141,     0.41241,     0.41341,     0.41441,     0.41542,     0.41642,     0.41742,     0.41842,     0.41942,     0.42042,     0.42142,     0.42242,     0.42342,     0.42442,     0.42543,     0.42643,     0.42743,     0.42843,     0.42943,     0.43043,     0.43143,\n",
       "           0.43243,     0.43343,     0.43443,     0.43544,     0.43644,     0.43744,     0.43844,     0.43944,     0.44044,     0.44144,     0.44244,     0.44344,     0.44444,     0.44545,     0.44645,     0.44745,     0.44845,     0.44945,     0.45045,     0.45145,     0.45245,     0.45345,     0.45445,     0.45546,\n",
       "           0.45646,     0.45746,     0.45846,     0.45946,     0.46046,     0.46146,     0.46246,     0.46346,     0.46446,     0.46547,     0.46647,     0.46747,     0.46847,     0.46947,     0.47047,     0.47147,     0.47247,     0.47347,     0.47447,     0.47548,     0.47648,     0.47748,     0.47848,     0.47948,\n",
       "           0.48048,     0.48148,     0.48248,     0.48348,     0.48448,     0.48549,     0.48649,     0.48749,     0.48849,     0.48949,     0.49049,     0.49149,     0.49249,     0.49349,     0.49449,      0.4955,      0.4965,      0.4975,      0.4985,      0.4995,      0.5005,      0.5015,      0.5025,      0.5035,\n",
       "            0.5045,     0.50551,     0.50651,     0.50751,     0.50851,     0.50951,     0.51051,     0.51151,     0.51251,     0.51351,     0.51451,     0.51552,     0.51652,     0.51752,     0.51852,     0.51952,     0.52052,     0.52152,     0.52252,     0.52352,     0.52452,     0.52553,     0.52653,     0.52753,\n",
       "           0.52853,     0.52953,     0.53053,     0.53153,     0.53253,     0.53353,     0.53453,     0.53554,     0.53654,     0.53754,     0.53854,     0.53954,     0.54054,     0.54154,     0.54254,     0.54354,     0.54454,     0.54555,     0.54655,     0.54755,     0.54855,     0.54955,     0.55055,     0.55155,\n",
       "           0.55255,     0.55355,     0.55455,     0.55556,     0.55656,     0.55756,     0.55856,     0.55956,     0.56056,     0.56156,     0.56256,     0.56356,     0.56456,     0.56557,     0.56657,     0.56757,     0.56857,     0.56957,     0.57057,     0.57157,     0.57257,     0.57357,     0.57457,     0.57558,\n",
       "           0.57658,     0.57758,     0.57858,     0.57958,     0.58058,     0.58158,     0.58258,     0.58358,     0.58458,     0.58559,     0.58659,     0.58759,     0.58859,     0.58959,     0.59059,     0.59159,     0.59259,     0.59359,     0.59459,      0.5956,      0.5966,      0.5976,      0.5986,      0.5996,\n",
       "            0.6006,      0.6016,      0.6026,      0.6036,      0.6046,     0.60561,     0.60661,     0.60761,     0.60861,     0.60961,     0.61061,     0.61161,     0.61261,     0.61361,     0.61461,     0.61562,     0.61662,     0.61762,     0.61862,     0.61962,     0.62062,     0.62162,     0.62262,     0.62362,\n",
       "           0.62462,     0.62563,     0.62663,     0.62763,     0.62863,     0.62963,     0.63063,     0.63163,     0.63263,     0.63363,     0.63463,     0.63564,     0.63664,     0.63764,     0.63864,     0.63964,     0.64064,     0.64164,     0.64264,     0.64364,     0.64464,     0.64565,     0.64665,     0.64765,\n",
       "           0.64865,     0.64965,     0.65065,     0.65165,     0.65265,     0.65365,     0.65465,     0.65566,     0.65666,     0.65766,     0.65866,     0.65966,     0.66066,     0.66166,     0.66266,     0.66366,     0.66466,     0.66567,     0.66667,     0.66767,     0.66867,     0.66967,     0.67067,     0.67167,\n",
       "           0.67267,     0.67367,     0.67467,     0.67568,     0.67668,     0.67768,     0.67868,     0.67968,     0.68068,     0.68168,     0.68268,     0.68368,     0.68468,     0.68569,     0.68669,     0.68769,     0.68869,     0.68969,     0.69069,     0.69169,     0.69269,     0.69369,     0.69469,      0.6957,\n",
       "            0.6967,      0.6977,      0.6987,      0.6997,      0.7007,      0.7017,      0.7027,      0.7037,      0.7047,     0.70571,     0.70671,     0.70771,     0.70871,     0.70971,     0.71071,     0.71171,     0.71271,     0.71371,     0.71471,     0.71572,     0.71672,     0.71772,     0.71872,     0.71972,\n",
       "           0.72072,     0.72172,     0.72272,     0.72372,     0.72472,     0.72573,     0.72673,     0.72773,     0.72873,     0.72973,     0.73073,     0.73173,     0.73273,     0.73373,     0.73473,     0.73574,     0.73674,     0.73774,     0.73874,     0.73974,     0.74074,     0.74174,     0.74274,     0.74374,\n",
       "           0.74474,     0.74575,     0.74675,     0.74775,     0.74875,     0.74975,     0.75075,     0.75175,     0.75275,     0.75375,     0.75475,     0.75576,     0.75676,     0.75776,     0.75876,     0.75976,     0.76076,     0.76176,     0.76276,     0.76376,     0.76476,     0.76577,     0.76677,     0.76777,\n",
       "           0.76877,     0.76977,     0.77077,     0.77177,     0.77277,     0.77377,     0.77477,     0.77578,     0.77678,     0.77778,     0.77878,     0.77978,     0.78078,     0.78178,     0.78278,     0.78378,     0.78478,     0.78579,     0.78679,     0.78779,     0.78879,     0.78979,     0.79079,     0.79179,\n",
       "           0.79279,     0.79379,     0.79479,      0.7958,      0.7968,      0.7978,      0.7988,      0.7998,      0.8008,      0.8018,      0.8028,      0.8038,      0.8048,     0.80581,     0.80681,     0.80781,     0.80881,     0.80981,     0.81081,     0.81181,     0.81281,     0.81381,     0.81481,     0.81582,\n",
       "           0.81682,     0.81782,     0.81882,     0.81982,     0.82082,     0.82182,     0.82282,     0.82382,     0.82482,     0.82583,     0.82683,     0.82783,     0.82883,     0.82983,     0.83083,     0.83183,     0.83283,     0.83383,     0.83483,     0.83584,     0.83684,     0.83784,     0.83884,     0.83984,\n",
       "           0.84084,     0.84184,     0.84284,     0.84384,     0.84484,     0.84585,     0.84685,     0.84785,     0.84885,     0.84985,     0.85085,     0.85185,     0.85285,     0.85385,     0.85485,     0.85586,     0.85686,     0.85786,     0.85886,     0.85986,     0.86086,     0.86186,     0.86286,     0.86386,\n",
       "           0.86486,     0.86587,     0.86687,     0.86787,     0.86887,     0.86987,     0.87087,     0.87187,     0.87287,     0.87387,     0.87487,     0.87588,     0.87688,     0.87788,     0.87888,     0.87988,     0.88088,     0.88188,     0.88288,     0.88388,     0.88488,     0.88589,     0.88689,     0.88789,\n",
       "           0.88889,     0.88989,     0.89089,     0.89189,     0.89289,     0.89389,     0.89489,      0.8959,      0.8969,      0.8979,      0.8989,      0.8999,      0.9009,      0.9019,      0.9029,      0.9039,      0.9049,     0.90591,     0.90691,     0.90791,     0.90891,     0.90991,     0.91091,     0.91191,\n",
       "           0.91291,     0.91391,     0.91491,     0.91592,     0.91692,     0.91792,     0.91892,     0.91992,     0.92092,     0.92192,     0.92292,     0.92392,     0.92492,     0.92593,     0.92693,     0.92793,     0.92893,     0.92993,     0.93093,     0.93193,     0.93293,     0.93393,     0.93493,     0.93594,\n",
       "           0.93694,     0.93794,     0.93894,     0.93994,     0.94094,     0.94194,     0.94294,     0.94394,     0.94494,     0.94595,     0.94695,     0.94795,     0.94895,     0.94995,     0.95095,     0.95195,     0.95295,     0.95395,     0.95495,     0.95596,     0.95696,     0.95796,     0.95896,     0.95996,\n",
       "           0.96096,     0.96196,     0.96296,     0.96396,     0.96496,     0.96597,     0.96697,     0.96797,     0.96897,     0.96997,     0.97097,     0.97197,     0.97297,     0.97397,     0.97497,     0.97598,     0.97698,     0.97798,     0.97898,     0.97998,     0.98098,     0.98198,     0.98298,     0.98398,\n",
       "           0.98498,     0.98599,     0.98699,     0.98799,     0.98899,     0.98999,     0.99099,     0.99199,     0.99299,     0.99399,     0.99499,       0.996,       0.997,       0.998,       0.999,           1]), array([[    0.57143,     0.57143,     0.57143, ...,           0,           0,           0],\n",
       "       [     0.9375,      0.9375,       0.875, ...,           0,           0,           0],\n",
       "       [          1,           1,           1, ...,           0,           0,           0],\n",
       "       ...,\n",
       "       [          0,           0,           0, ...,           0,           0,           0],\n",
       "       [    0.95455,     0.95455,     0.94545, ...,           0,           0,           0],\n",
       "       [          0,           0,           0, ...,           0,           0,           0]]), 'Confidence', 'Recall']]\n",
       "fitness: 0.38924896535365355\n",
       "keys: ['metrics/precision(B)', 'metrics/recall(B)', 'metrics/mAP50(B)', 'metrics/mAP50-95(B)']\n",
       "maps: array([    0.39488,     0.40452,      0.8955,     0.48636,           0,      0.4585,           0])\n",
       "names: {0: 'auto', 1: 'bike', 2: 'bus', 3: 'car', 4: 'cycle', 5: 'person', 6: 'truck'}\n",
       "plot: True\n",
       "results_dict: {'metrics/precision(B)': 0.5854016023304374, 'metrics/recall(B)': 0.5125243738618211, 'metrics/mAP50(B)': 0.4985227339665275, 'metrics/mAP50-95(B)': 0.37710743550777864, 'fitness': 0.38924896535365355}\n",
       "save_dir: WindowsPath('runs/detect/train25')\n",
       "speed: {'preprocess': 2.424311637878418, 'inference': 280.56206703186035, 'loss': 0.0, 'postprocess': 0.9925484657287598}\n",
       "task: 'detect'"
      ]
     },
     "execution_count": 3,
     "metadata": {},
     "output_type": "execute_result"
    }
   ],
   "source": [
    "from ultralytics import YOLO\n",
    "\n",
    "# Load YOLOv8 model\n",
    "model = YOLO(\"yolov8s.pt\")  # Use a pre-trained YOLOv8 model\n",
    "\n",
    "# Train YOLOv8 on the custom dataset\n",
    "model.train(\n",
    "    data=\"C:/Users/bhavy/Downloads/yolov8/data.yaml\",  # Path to dataset\n",
    "    epochs=50,  # Number of epochs\n",
    "    imgsz=640,  # Image size\n",
    "    batch=16,  # Batch size\n",
    "    workers=4  # Number of workers\n",
    ")\n"
   ]
  },
  {
   "cell_type": "code",
   "execution_count": 4,
   "id": "03a57470",
   "metadata": {},
   "outputs": [
    {
     "name": "stdout",
     "output_type": "stream",
     "text": [
      "PRO TIP  Replace 'model=yolov5s.pt' with new 'model=yolov5su.pt'.\n",
      "YOLOv5 'u' models are trained with https://github.com/ultralytics/ultralytics and feature improved performance vs standard YOLOv5 models trained with https://github.com/ultralytics/yolov5.\n",
      "\n",
      "New https://pypi.org/project/ultralytics/8.3.113 available  Update with 'pip install -U ultralytics'\n",
      "Ultralytics 8.3.73  Python-3.11.5 torch-2.2.2 CPU (12th Gen Intel Core(TM) i5-1240P)\n",
      "\u001b[34m\u001b[1mengine\\trainer: \u001b[0mtask=detect, mode=train, model=yolov5s.pt, data=C:/Users/bhavy/Downloads/yolov8/data.yaml, epochs=50, time=None, patience=100, batch=16, imgsz=640, save=True, save_period=-1, cache=False, device=None, workers=8, project=None, name=train26, exist_ok=False, pretrained=True, optimizer=auto, verbose=True, seed=0, deterministic=True, single_cls=False, rect=False, cos_lr=False, close_mosaic=10, resume=False, amp=True, fraction=1.0, profile=False, freeze=None, multi_scale=False, overlap_mask=True, mask_ratio=4, dropout=0.0, val=True, split=val, save_json=False, save_hybrid=False, conf=None, iou=0.7, max_det=300, half=False, dnn=False, plots=True, source=None, vid_stride=1, stream_buffer=False, visualize=False, augment=False, agnostic_nms=False, classes=None, retina_masks=False, embed=None, show=False, save_frames=False, save_txt=False, save_conf=False, save_crop=False, show_labels=True, show_conf=True, show_boxes=True, line_width=None, format=torchscript, keras=False, optimize=False, int8=False, dynamic=False, simplify=True, opset=None, workspace=None, nms=False, lr0=0.01, lrf=0.01, momentum=0.937, weight_decay=0.0005, warmup_epochs=3.0, warmup_momentum=0.8, warmup_bias_lr=0.1, box=7.5, cls=0.5, dfl=1.5, pose=12.0, kobj=1.0, nbs=64, hsv_h=0.015, hsv_s=0.7, hsv_v=0.4, degrees=0.0, translate=0.1, scale=0.5, shear=0.0, perspective=0.0, flipud=0.0, fliplr=0.5, bgr=0.0, mosaic=1.0, mixup=0.0, copy_paste=0.0, copy_paste_mode=flip, auto_augment=randaugment, erasing=0.4, crop_fraction=1.0, cfg=None, tracker=botsort.yaml, save_dir=runs\\detect\\train26\n",
      "Overriding model.yaml nc=80 with nc=7\n",
      "\n",
      "                   from  n    params  module                                       arguments                     \n",
      "  0                  -1  1      3520  ultralytics.nn.modules.conv.Conv             [3, 32, 6, 2, 2]              \n",
      "  1                  -1  1     18560  ultralytics.nn.modules.conv.Conv             [32, 64, 3, 2]                \n",
      "  2                  -1  1     18816  ultralytics.nn.modules.block.C3              [64, 64, 1]                   \n",
      "  3                  -1  1     73984  ultralytics.nn.modules.conv.Conv             [64, 128, 3, 2]               \n",
      "  4                  -1  2    115712  ultralytics.nn.modules.block.C3              [128, 128, 2]                 \n",
      "  5                  -1  1    295424  ultralytics.nn.modules.conv.Conv             [128, 256, 3, 2]              \n",
      "  6                  -1  3    625152  ultralytics.nn.modules.block.C3              [256, 256, 3]                 \n",
      "  7                  -1  1   1180672  ultralytics.nn.modules.conv.Conv             [256, 512, 3, 2]              \n",
      "  8                  -1  1   1182720  ultralytics.nn.modules.block.C3              [512, 512, 1]                 \n",
      "  9                  -1  1    656896  ultralytics.nn.modules.block.SPPF            [512, 512, 5]                 \n",
      " 10                  -1  1    131584  ultralytics.nn.modules.conv.Conv             [512, 256, 1, 1]              \n",
      " 11                  -1  1         0  torch.nn.modules.upsampling.Upsample         [None, 2, 'nearest']          \n",
      " 12             [-1, 6]  1         0  ultralytics.nn.modules.conv.Concat           [1]                           \n",
      " 13                  -1  1    361984  ultralytics.nn.modules.block.C3              [512, 256, 1, False]          \n",
      " 14                  -1  1     33024  ultralytics.nn.modules.conv.Conv             [256, 128, 1, 1]              \n",
      " 15                  -1  1         0  torch.nn.modules.upsampling.Upsample         [None, 2, 'nearest']          \n",
      " 16             [-1, 4]  1         0  ultralytics.nn.modules.conv.Concat           [1]                           \n",
      " 17                  -1  1     90880  ultralytics.nn.modules.block.C3              [256, 128, 1, False]          \n",
      " 18                  -1  1    147712  ultralytics.nn.modules.conv.Conv             [128, 128, 3, 2]              \n",
      " 19            [-1, 14]  1         0  ultralytics.nn.modules.conv.Concat           [1]                           \n",
      " 20                  -1  1    296448  ultralytics.nn.modules.block.C3              [256, 256, 1, False]          \n",
      " 21                  -1  1    590336  ultralytics.nn.modules.conv.Conv             [256, 256, 3, 2]              \n",
      " 22            [-1, 10]  1         0  ultralytics.nn.modules.conv.Concat           [1]                           \n",
      " 23                  -1  1   1182720  ultralytics.nn.modules.block.C3              [512, 512, 1, False]          \n",
      " 24        [17, 20, 23]  1   2118757  ultralytics.nn.modules.head.Detect           [7, [128, 256, 512]]          \n",
      "YOLOv5s summary: 262 layers, 9,124,901 parameters, 9,124,885 gradients, 24.1 GFLOPs\n",
      "\n",
      "Transferred 421/427 items from pretrained weights\n",
      "\u001b[34m\u001b[1mTensorBoard: \u001b[0mStart with 'tensorboard --logdir runs\\detect\\train26', view at http://localhost:6006/\n",
      "Freezing layer 'model.24.dfl.conv.weight'\n"
     ]
    },
    {
     "name": "stderr",
     "output_type": "stream",
     "text": [
      "\u001b[34m\u001b[1mtrain: \u001b[0mScanning C:\\Users\\bhavy\\Downloads\\yolov8\\train\\labels.cache... 208 images, 0 backgrounds, 0 corrupt: 100%|██████\u001b[0m"
     ]
    },
    {
     "name": "stdout",
     "output_type": "stream",
     "text": [
      "\u001b[34m\u001b[1malbumentations: \u001b[0mBlur(p=0.01, blur_limit=(3, 7)), MedianBlur(p=0.01, blur_limit=(3, 7)), ToGray(p=0.01, num_output_channels=3, method='weighted_average'), CLAHE(p=0.01, clip_limit=(1.0, 4.0), tile_grid_size=(8, 8))\n"
     ]
    },
    {
     "name": "stderr",
     "output_type": "stream",
     "text": [
      "\n",
      "\u001b[34m\u001b[1mval: \u001b[0mScanning C:\\Users\\bhavy\\Downloads\\yolov8\\valid\\labels.cache... 20 images, 0 backgrounds, 0 corrupt: 100%|█████████\u001b[0m\n"
     ]
    },
    {
     "name": "stdout",
     "output_type": "stream",
     "text": [
      "Plotting labels to runs\\detect\\train26\\labels.jpg... \n",
      "\u001b[34m\u001b[1moptimizer:\u001b[0m 'optimizer=auto' found, ignoring 'lr0=0.01' and 'momentum=0.937' and determining best 'optimizer', 'lr0' and 'momentum' automatically... \n",
      "\u001b[34m\u001b[1moptimizer:\u001b[0m AdamW(lr=0.000909, momentum=0.9) with parameter groups 69 weight(decay=0.0), 76 weight(decay=0.0005), 75 bias(decay=0.0)\n",
      "\u001b[34m\u001b[1mTensorBoard: \u001b[0mmodel graph visualization added \n",
      "Image sizes 640 train, 640 val\n",
      "Using 0 dataloader workers\n",
      "Logging results to \u001b[1mruns\\detect\\train26\u001b[0m\n",
      "Starting training for 50 epochs...\n",
      "\n",
      "      Epoch    GPU_mem   box_loss   cls_loss   dfl_loss  Instances       Size\n"
     ]
    },
    {
     "name": "stderr",
     "output_type": "stream",
     "text": [
      "       1/50         0G       1.88      3.186      1.453        185        640: 100%|██████████| 13/13 [02:20<00:00, 10.\n",
      "                 Class     Images  Instances      Box(P          R      mAP50  mAP50-95): 100%|██████████| 1/1 [00:06<0"
     ]
    },
    {
     "name": "stdout",
     "output_type": "stream",
     "text": [
      "                   all         20        149      0.757      0.237      0.237      0.138\n"
     ]
    },
    {
     "name": "stderr",
     "output_type": "stream",
     "text": [
      "\n"
     ]
    },
    {
     "name": "stdout",
     "output_type": "stream",
     "text": [
      "\n",
      "      Epoch    GPU_mem   box_loss   cls_loss   dfl_loss  Instances       Size\n"
     ]
    },
    {
     "name": "stderr",
     "output_type": "stream",
     "text": [
      "       2/50         0G      1.723      1.959      1.297        120        640: 100%|██████████| 13/13 [02:29<00:00, 11.\n",
      "                 Class     Images  Instances      Box(P          R      mAP50  mAP50-95): 100%|██████████| 1/1 [00:05<0"
     ]
    },
    {
     "name": "stdout",
     "output_type": "stream",
     "text": [
      "                   all         20        149      0.358      0.458      0.403      0.272\n"
     ]
    },
    {
     "name": "stderr",
     "output_type": "stream",
     "text": [
      "\n"
     ]
    },
    {
     "name": "stdout",
     "output_type": "stream",
     "text": [
      "\n",
      "      Epoch    GPU_mem   box_loss   cls_loss   dfl_loss  Instances       Size\n"
     ]
    },
    {
     "name": "stderr",
     "output_type": "stream",
     "text": [
      "       3/50         0G      1.726      1.733      1.326        161        640: 100%|██████████| 13/13 [02:14<00:00, 10.\n",
      "                 Class     Images  Instances      Box(P          R      mAP50  mAP50-95): 100%|██████████| 1/1 [00:05<0"
     ]
    },
    {
     "name": "stdout",
     "output_type": "stream",
     "text": [
      "                   all         20        149      0.445       0.43      0.437      0.275\n"
     ]
    },
    {
     "name": "stderr",
     "output_type": "stream",
     "text": [
      "\n"
     ]
    },
    {
     "name": "stdout",
     "output_type": "stream",
     "text": [
      "\n",
      "      Epoch    GPU_mem   box_loss   cls_loss   dfl_loss  Instances       Size\n"
     ]
    },
    {
     "name": "stderr",
     "output_type": "stream",
     "text": [
      "       4/50         0G      1.683      1.595       1.31        140        640: 100%|██████████| 13/13 [02:37<00:00, 12.\n",
      "                 Class     Images  Instances      Box(P          R      mAP50  mAP50-95): 100%|██████████| 1/1 [00:05<0"
     ]
    },
    {
     "name": "stdout",
     "output_type": "stream",
     "text": [
      "                   all         20        149       0.61      0.501      0.448      0.301\n"
     ]
    },
    {
     "name": "stderr",
     "output_type": "stream",
     "text": [
      "\n"
     ]
    },
    {
     "name": "stdout",
     "output_type": "stream",
     "text": [
      "\n",
      "      Epoch    GPU_mem   box_loss   cls_loss   dfl_loss  Instances       Size\n"
     ]
    },
    {
     "name": "stderr",
     "output_type": "stream",
     "text": [
      "       5/50         0G      1.619      1.505      1.286        145        640: 100%|██████████| 13/13 [02:48<00:00, 12.\n",
      "                 Class     Images  Instances      Box(P          R      mAP50  mAP50-95): 100%|██████████| 1/1 [00:05<0"
     ]
    },
    {
     "name": "stdout",
     "output_type": "stream",
     "text": [
      "                   all         20        149      0.386      0.427      0.338      0.221\n"
     ]
    },
    {
     "name": "stderr",
     "output_type": "stream",
     "text": [
      "\n"
     ]
    },
    {
     "name": "stdout",
     "output_type": "stream",
     "text": [
      "\n",
      "      Epoch    GPU_mem   box_loss   cls_loss   dfl_loss  Instances       Size\n"
     ]
    },
    {
     "name": "stderr",
     "output_type": "stream",
     "text": [
      "       6/50         0G      1.634      1.479      1.276        134        640: 100%|██████████| 13/13 [02:40<00:00, 12.\n",
      "                 Class     Images  Instances      Box(P          R      mAP50  mAP50-95): 100%|██████████| 1/1 [00:05<0"
     ]
    },
    {
     "name": "stdout",
     "output_type": "stream",
     "text": [
      "                   all         20        149      0.553      0.255      0.329      0.189\n"
     ]
    },
    {
     "name": "stderr",
     "output_type": "stream",
     "text": [
      "\n"
     ]
    },
    {
     "name": "stdout",
     "output_type": "stream",
     "text": [
      "\n",
      "      Epoch    GPU_mem   box_loss   cls_loss   dfl_loss  Instances       Size\n"
     ]
    },
    {
     "name": "stderr",
     "output_type": "stream",
     "text": [
      "       7/50         0G      1.673       1.46      1.283        162        640: 100%|██████████| 13/13 [02:10<00:00, 10.\n",
      "                 Class     Images  Instances      Box(P          R      mAP50  mAP50-95): 100%|██████████| 1/1 [00:04<0"
     ]
    },
    {
     "name": "stdout",
     "output_type": "stream",
     "text": [
      "                   all         20        149      0.319      0.264      0.319      0.182\n"
     ]
    },
    {
     "name": "stderr",
     "output_type": "stream",
     "text": [
      "\n"
     ]
    },
    {
     "name": "stdout",
     "output_type": "stream",
     "text": [
      "\n",
      "      Epoch    GPU_mem   box_loss   cls_loss   dfl_loss  Instances       Size\n"
     ]
    },
    {
     "name": "stderr",
     "output_type": "stream",
     "text": [
      "       8/50         0G      1.662      1.446      1.284        135        640: 100%|██████████| 13/13 [02:08<00:00,  9.\n",
      "                 Class     Images  Instances      Box(P          R      mAP50  mAP50-95): 100%|██████████| 1/1 [00:04<0"
     ]
    },
    {
     "name": "stdout",
     "output_type": "stream",
     "text": [
      "                   all         20        149      0.654      0.258      0.311      0.187\n"
     ]
    },
    {
     "name": "stderr",
     "output_type": "stream",
     "text": [
      "\n"
     ]
    },
    {
     "name": "stdout",
     "output_type": "stream",
     "text": [
      "\n",
      "      Epoch    GPU_mem   box_loss   cls_loss   dfl_loss  Instances       Size\n"
     ]
    },
    {
     "name": "stderr",
     "output_type": "stream",
     "text": [
      "       9/50         0G      1.598      1.378      1.259        145        640: 100%|██████████| 13/13 [02:08<00:00,  9.\n",
      "                 Class     Images  Instances      Box(P          R      mAP50  mAP50-95): 100%|██████████| 1/1 [00:04<0"
     ]
    },
    {
     "name": "stdout",
     "output_type": "stream",
     "text": [
      "                   all         20        149      0.549      0.332      0.417       0.28\n"
     ]
    },
    {
     "name": "stderr",
     "output_type": "stream",
     "text": [
      "\n"
     ]
    },
    {
     "name": "stdout",
     "output_type": "stream",
     "text": [
      "\n",
      "      Epoch    GPU_mem   box_loss   cls_loss   dfl_loss  Instances       Size\n"
     ]
    },
    {
     "name": "stderr",
     "output_type": "stream",
     "text": [
      "      10/50         0G      1.643      1.301      1.293        117        640: 100%|██████████| 13/13 [02:12<00:00, 10.\n",
      "                 Class     Images  Instances      Box(P          R      mAP50  mAP50-95): 100%|██████████| 1/1 [00:04<0"
     ]
    },
    {
     "name": "stdout",
     "output_type": "stream",
     "text": [
      "                   all         20        149      0.648      0.369      0.443       0.27\n"
     ]
    },
    {
     "name": "stderr",
     "output_type": "stream",
     "text": [
      "\n"
     ]
    },
    {
     "name": "stdout",
     "output_type": "stream",
     "text": [
      "\n",
      "      Epoch    GPU_mem   box_loss   cls_loss   dfl_loss  Instances       Size\n"
     ]
    },
    {
     "name": "stderr",
     "output_type": "stream",
     "text": [
      "      11/50         0G      1.607      1.297      1.278        109        640: 100%|██████████| 13/13 [02:07<00:00,  9.\n",
      "                 Class     Images  Instances      Box(P          R      mAP50  mAP50-95): 100%|██████████| 1/1 [00:04<0"
     ]
    },
    {
     "name": "stdout",
     "output_type": "stream",
     "text": [
      "                   all         20        149      0.378      0.433      0.453      0.302\n"
     ]
    },
    {
     "name": "stderr",
     "output_type": "stream",
     "text": [
      "\n"
     ]
    },
    {
     "name": "stdout",
     "output_type": "stream",
     "text": [
      "\n",
      "      Epoch    GPU_mem   box_loss   cls_loss   dfl_loss  Instances       Size\n"
     ]
    },
    {
     "name": "stderr",
     "output_type": "stream",
     "text": [
      "      12/50         0G      1.526      1.189      1.233        183        640: 100%|██████████| 13/13 [02:10<00:00, 10.\n",
      "                 Class     Images  Instances      Box(P          R      mAP50  mAP50-95): 100%|██████████| 1/1 [00:04<0"
     ]
    },
    {
     "name": "stdout",
     "output_type": "stream",
     "text": [
      "                   all         20        149      0.458      0.242      0.322        0.2\n"
     ]
    },
    {
     "name": "stderr",
     "output_type": "stream",
     "text": [
      "\n"
     ]
    },
    {
     "name": "stdout",
     "output_type": "stream",
     "text": [
      "\n",
      "      Epoch    GPU_mem   box_loss   cls_loss   dfl_loss  Instances       Size\n"
     ]
    },
    {
     "name": "stderr",
     "output_type": "stream",
     "text": [
      "      13/50         0G      1.519      1.192       1.25        117        640: 100%|██████████| 13/13 [02:07<00:00,  9.\n",
      "                 Class     Images  Instances      Box(P          R      mAP50  mAP50-95): 100%|██████████| 1/1 [00:04<0"
     ]
    },
    {
     "name": "stdout",
     "output_type": "stream",
     "text": [
      "                   all         20        149      0.351      0.501       0.45      0.231\n"
     ]
    },
    {
     "name": "stderr",
     "output_type": "stream",
     "text": [
      "\n"
     ]
    },
    {
     "name": "stdout",
     "output_type": "stream",
     "text": [
      "\n",
      "      Epoch    GPU_mem   box_loss   cls_loss   dfl_loss  Instances       Size\n"
     ]
    },
    {
     "name": "stderr",
     "output_type": "stream",
     "text": [
      "      14/50         0G      1.526      1.174      1.237        121        640: 100%|██████████| 13/13 [02:11<00:00, 10.\n",
      "                 Class     Images  Instances      Box(P          R      mAP50  mAP50-95): 100%|██████████| 1/1 [00:04<0"
     ]
    },
    {
     "name": "stdout",
     "output_type": "stream",
     "text": [
      "                   all         20        149      0.415       0.29      0.325      0.185\n"
     ]
    },
    {
     "name": "stderr",
     "output_type": "stream",
     "text": [
      "\n"
     ]
    },
    {
     "name": "stdout",
     "output_type": "stream",
     "text": [
      "\n",
      "      Epoch    GPU_mem   box_loss   cls_loss   dfl_loss  Instances       Size\n"
     ]
    },
    {
     "name": "stderr",
     "output_type": "stream",
     "text": [
      "      15/50         0G      1.547      1.156      1.206        141        640: 100%|██████████| 13/13 [02:11<00:00, 10.\n",
      "                 Class     Images  Instances      Box(P          R      mAP50  mAP50-95): 100%|██████████| 1/1 [00:04<0"
     ]
    },
    {
     "name": "stdout",
     "output_type": "stream",
     "text": [
      "                   all         20        149      0.776      0.218      0.345      0.202\n"
     ]
    },
    {
     "name": "stderr",
     "output_type": "stream",
     "text": [
      "\n"
     ]
    },
    {
     "name": "stdout",
     "output_type": "stream",
     "text": [
      "\n",
      "      Epoch    GPU_mem   box_loss   cls_loss   dfl_loss  Instances       Size\n"
     ]
    },
    {
     "name": "stderr",
     "output_type": "stream",
     "text": [
      "      16/50         0G      1.486      1.127      1.211        148        640: 100%|██████████| 13/13 [02:21<00:00, 10.\n",
      "                 Class     Images  Instances      Box(P          R      mAP50  mAP50-95): 100%|██████████| 1/1 [00:05<0"
     ]
    },
    {
     "name": "stdout",
     "output_type": "stream",
     "text": [
      "                   all         20        149      0.502      0.533      0.479      0.309\n"
     ]
    },
    {
     "name": "stderr",
     "output_type": "stream",
     "text": [
      "\n"
     ]
    },
    {
     "name": "stdout",
     "output_type": "stream",
     "text": [
      "\n",
      "      Epoch    GPU_mem   box_loss   cls_loss   dfl_loss  Instances       Size\n"
     ]
    },
    {
     "name": "stderr",
     "output_type": "stream",
     "text": [
      "      17/50         0G      1.517      1.108      1.216        176        640: 100%|██████████| 13/13 [02:33<00:00, 11.\n",
      "                 Class     Images  Instances      Box(P          R      mAP50  mAP50-95): 100%|██████████| 1/1 [00:05<0"
     ]
    },
    {
     "name": "stdout",
     "output_type": "stream",
     "text": [
      "                   all         20        149      0.303      0.468      0.373      0.236\n"
     ]
    },
    {
     "name": "stderr",
     "output_type": "stream",
     "text": [
      "\n"
     ]
    },
    {
     "name": "stdout",
     "output_type": "stream",
     "text": [
      "\n",
      "      Epoch    GPU_mem   box_loss   cls_loss   dfl_loss  Instances       Size\n"
     ]
    },
    {
     "name": "stderr",
     "output_type": "stream",
     "text": [
      "      18/50         0G      1.438      1.078      1.195        140        640: 100%|██████████| 13/13 [02:27<00:00, 11.\n",
      "                 Class     Images  Instances      Box(P          R      mAP50  mAP50-95): 100%|██████████| 1/1 [00:05<0"
     ]
    },
    {
     "name": "stdout",
     "output_type": "stream",
     "text": [
      "                   all         20        149      0.607      0.281      0.325      0.214\n"
     ]
    },
    {
     "name": "stderr",
     "output_type": "stream",
     "text": [
      "\n"
     ]
    },
    {
     "name": "stdout",
     "output_type": "stream",
     "text": [
      "\n",
      "      Epoch    GPU_mem   box_loss   cls_loss   dfl_loss  Instances       Size\n"
     ]
    },
    {
     "name": "stderr",
     "output_type": "stream",
     "text": [
      "      19/50         0G       1.43      1.066      1.177         86        640: 100%|██████████| 13/13 [02:28<00:00, 11.\n",
      "                 Class     Images  Instances      Box(P          R      mAP50  mAP50-95): 100%|██████████| 1/1 [00:05<0"
     ]
    },
    {
     "name": "stdout",
     "output_type": "stream",
     "text": [
      "                   all         20        149      0.549      0.315      0.283      0.168\n"
     ]
    },
    {
     "name": "stderr",
     "output_type": "stream",
     "text": [
      "\n"
     ]
    },
    {
     "name": "stdout",
     "output_type": "stream",
     "text": [
      "\n",
      "      Epoch    GPU_mem   box_loss   cls_loss   dfl_loss  Instances       Size\n"
     ]
    },
    {
     "name": "stderr",
     "output_type": "stream",
     "text": [
      "      20/50         0G      1.411      1.036      1.184        171        640: 100%|██████████| 13/13 [02:27<00:00, 11.\n",
      "                 Class     Images  Instances      Box(P          R      mAP50  mAP50-95): 100%|██████████| 1/1 [00:05<0"
     ]
    },
    {
     "name": "stdout",
     "output_type": "stream",
     "text": [
      "                   all         20        149      0.491      0.236      0.312      0.215\n"
     ]
    },
    {
     "name": "stderr",
     "output_type": "stream",
     "text": [
      "\n"
     ]
    },
    {
     "name": "stdout",
     "output_type": "stream",
     "text": [
      "\n",
      "      Epoch    GPU_mem   box_loss   cls_loss   dfl_loss  Instances       Size\n"
     ]
    },
    {
     "name": "stderr",
     "output_type": "stream",
     "text": [
      "      21/50         0G      1.382      1.004      1.166        208        640: 100%|██████████| 13/13 [02:28<00:00, 11.\n",
      "                 Class     Images  Instances      Box(P          R      mAP50  mAP50-95): 100%|██████████| 1/1 [00:05<0"
     ]
    },
    {
     "name": "stdout",
     "output_type": "stream",
     "text": [
      "                   all         20        149      0.637      0.236      0.296      0.162\n"
     ]
    },
    {
     "name": "stderr",
     "output_type": "stream",
     "text": [
      "\n"
     ]
    },
    {
     "name": "stdout",
     "output_type": "stream",
     "text": [
      "\n",
      "      Epoch    GPU_mem   box_loss   cls_loss   dfl_loss  Instances       Size\n"
     ]
    },
    {
     "name": "stderr",
     "output_type": "stream",
     "text": [
      "      22/50         0G      1.374     0.9809      1.167        109        640: 100%|██████████| 13/13 [02:36<00:00, 12.\n",
      "                 Class     Images  Instances      Box(P          R      mAP50  mAP50-95): 100%|██████████| 1/1 [00:05<0"
     ]
    },
    {
     "name": "stdout",
     "output_type": "stream",
     "text": [
      "                   all         20        149      0.687      0.223      0.301      0.166\n"
     ]
    },
    {
     "name": "stderr",
     "output_type": "stream",
     "text": [
      "\n"
     ]
    },
    {
     "name": "stdout",
     "output_type": "stream",
     "text": [
      "\n",
      "      Epoch    GPU_mem   box_loss   cls_loss   dfl_loss  Instances       Size\n"
     ]
    },
    {
     "name": "stderr",
     "output_type": "stream",
     "text": [
      "      23/50         0G      1.418     0.9787       1.17        166        640: 100%|██████████| 13/13 [02:29<00:00, 11.\n",
      "                 Class     Images  Instances      Box(P          R      mAP50  mAP50-95): 100%|██████████| 1/1 [00:05<0"
     ]
    },
    {
     "name": "stdout",
     "output_type": "stream",
     "text": [
      "                   all         20        149      0.525      0.326      0.356      0.218\n"
     ]
    },
    {
     "name": "stderr",
     "output_type": "stream",
     "text": [
      "\n"
     ]
    },
    {
     "name": "stdout",
     "output_type": "stream",
     "text": [
      "\n",
      "      Epoch    GPU_mem   box_loss   cls_loss   dfl_loss  Instances       Size\n"
     ]
    },
    {
     "name": "stderr",
     "output_type": "stream",
     "text": [
      "      24/50         0G      1.405     0.9724      1.158        160        640: 100%|██████████| 13/13 [02:33<00:00, 11.\n",
      "                 Class     Images  Instances      Box(P          R      mAP50  mAP50-95): 100%|██████████| 1/1 [00:06<0"
     ]
    },
    {
     "name": "stdout",
     "output_type": "stream",
     "text": [
      "                   all         20        149      0.646      0.249      0.321      0.197\n"
     ]
    },
    {
     "name": "stderr",
     "output_type": "stream",
     "text": [
      "\n"
     ]
    },
    {
     "name": "stdout",
     "output_type": "stream",
     "text": [
      "\n",
      "      Epoch    GPU_mem   box_loss   cls_loss   dfl_loss  Instances       Size\n"
     ]
    },
    {
     "name": "stderr",
     "output_type": "stream",
     "text": [
      "      25/50         0G      1.341     0.9412      1.133        167        640: 100%|██████████| 13/13 [02:41<00:00, 12.\n",
      "                 Class     Images  Instances      Box(P          R      mAP50  mAP50-95): 100%|██████████| 1/1 [00:06<0"
     ]
    },
    {
     "name": "stdout",
     "output_type": "stream",
     "text": [
      "                   all         20        149      0.319      0.455      0.362      0.223\n"
     ]
    },
    {
     "name": "stderr",
     "output_type": "stream",
     "text": [
      "\n"
     ]
    },
    {
     "name": "stdout",
     "output_type": "stream",
     "text": [
      "\n",
      "      Epoch    GPU_mem   box_loss   cls_loss   dfl_loss  Instances       Size\n"
     ]
    },
    {
     "name": "stderr",
     "output_type": "stream",
     "text": [
      "      26/50         0G      1.375      0.953       1.15        155        640: 100%|██████████| 13/13 [02:39<00:00, 12.\n",
      "                 Class     Images  Instances      Box(P          R      mAP50  mAP50-95): 100%|██████████| 1/1 [00:05<0"
     ]
    },
    {
     "name": "stdout",
     "output_type": "stream",
     "text": [
      "                   all         20        149      0.364      0.484      0.392      0.256\n"
     ]
    },
    {
     "name": "stderr",
     "output_type": "stream",
     "text": [
      "\n"
     ]
    },
    {
     "name": "stdout",
     "output_type": "stream",
     "text": [
      "\n",
      "      Epoch    GPU_mem   box_loss   cls_loss   dfl_loss  Instances       Size\n"
     ]
    },
    {
     "name": "stderr",
     "output_type": "stream",
     "text": [
      "      27/50         0G      1.319     0.9191      1.123        116        640: 100%|██████████| 13/13 [02:05<00:00,  9.\n",
      "                 Class     Images  Instances      Box(P          R      mAP50  mAP50-95): 100%|██████████| 1/1 [00:04<0"
     ]
    },
    {
     "name": "stdout",
     "output_type": "stream",
     "text": [
      "                   all         20        149      0.333      0.503      0.387      0.233\n"
     ]
    },
    {
     "name": "stderr",
     "output_type": "stream",
     "text": [
      "\n"
     ]
    },
    {
     "name": "stdout",
     "output_type": "stream",
     "text": [
      "\n",
      "      Epoch    GPU_mem   box_loss   cls_loss   dfl_loss  Instances       Size\n"
     ]
    },
    {
     "name": "stderr",
     "output_type": "stream",
     "text": [
      "      28/50         0G      1.319     0.9078      1.122        117        640: 100%|██████████| 13/13 [02:03<00:00,  9.\n",
      "                 Class     Images  Instances      Box(P          R      mAP50  mAP50-95): 100%|██████████| 1/1 [00:04<0"
     ]
    },
    {
     "name": "stdout",
     "output_type": "stream",
     "text": [
      "                   all         20        149       0.54      0.432      0.393      0.204\n"
     ]
    },
    {
     "name": "stderr",
     "output_type": "stream",
     "text": [
      "\n"
     ]
    },
    {
     "name": "stdout",
     "output_type": "stream",
     "text": [
      "\n",
      "      Epoch    GPU_mem   box_loss   cls_loss   dfl_loss  Instances       Size\n"
     ]
    },
    {
     "name": "stderr",
     "output_type": "stream",
     "text": [
      "      29/50         0G      1.303     0.8795      1.124        162        640: 100%|██████████| 13/13 [02:06<00:00,  9.\n",
      "                 Class     Images  Instances      Box(P          R      mAP50  mAP50-95): 100%|██████████| 1/1 [00:04<0"
     ]
    },
    {
     "name": "stdout",
     "output_type": "stream",
     "text": [
      "                   all         20        149      0.549       0.43      0.378      0.218\n"
     ]
    },
    {
     "name": "stderr",
     "output_type": "stream",
     "text": [
      "\n"
     ]
    },
    {
     "name": "stdout",
     "output_type": "stream",
     "text": [
      "\n",
      "      Epoch    GPU_mem   box_loss   cls_loss   dfl_loss  Instances       Size\n"
     ]
    },
    {
     "name": "stderr",
     "output_type": "stream",
     "text": [
      "      30/50         0G      1.331      0.898      1.131        128        640: 100%|██████████| 13/13 [02:10<00:00, 10.\n",
      "                 Class     Images  Instances      Box(P          R      mAP50  mAP50-95): 100%|██████████| 1/1 [00:05<0"
     ]
    },
    {
     "name": "stdout",
     "output_type": "stream",
     "text": [
      "                   all         20        149      0.495      0.421      0.378      0.216\n"
     ]
    },
    {
     "name": "stderr",
     "output_type": "stream",
     "text": [
      "\n"
     ]
    },
    {
     "name": "stdout",
     "output_type": "stream",
     "text": [
      "\n",
      "      Epoch    GPU_mem   box_loss   cls_loss   dfl_loss  Instances       Size\n"
     ]
    },
    {
     "name": "stderr",
     "output_type": "stream",
     "text": [
      "      31/50         0G      1.284      0.875      1.109        115        640: 100%|██████████| 13/13 [02:21<00:00, 10.\n",
      "                 Class     Images  Instances      Box(P          R      mAP50  mAP50-95): 100%|██████████| 1/1 [00:04<0"
     ]
    },
    {
     "name": "stdout",
     "output_type": "stream",
     "text": [
      "                   all         20        149      0.643      0.251       0.32      0.181\n"
     ]
    },
    {
     "name": "stderr",
     "output_type": "stream",
     "text": [
      "\n"
     ]
    },
    {
     "name": "stdout",
     "output_type": "stream",
     "text": [
      "\n",
      "      Epoch    GPU_mem   box_loss   cls_loss   dfl_loss  Instances       Size\n"
     ]
    },
    {
     "name": "stderr",
     "output_type": "stream",
     "text": [
      "      32/50         0G      1.299     0.8564      1.089        184        640: 100%|██████████| 13/13 [02:08<00:00,  9.\n",
      "                 Class     Images  Instances      Box(P          R      mAP50  mAP50-95): 100%|██████████| 1/1 [00:04<0"
     ]
    },
    {
     "name": "stdout",
     "output_type": "stream",
     "text": [
      "                   all         20        149      0.629      0.308      0.347      0.223\n"
     ]
    },
    {
     "name": "stderr",
     "output_type": "stream",
     "text": [
      "\n"
     ]
    },
    {
     "name": "stdout",
     "output_type": "stream",
     "text": [
      "\n",
      "      Epoch    GPU_mem   box_loss   cls_loss   dfl_loss  Instances       Size\n"
     ]
    },
    {
     "name": "stderr",
     "output_type": "stream",
     "text": [
      "      33/50         0G      1.238     0.8318       1.09        104        640: 100%|██████████| 13/13 [02:12<00:00, 10.\n",
      "                 Class     Images  Instances      Box(P          R      mAP50  mAP50-95): 100%|██████████| 1/1 [00:05<0"
     ]
    },
    {
     "name": "stdout",
     "output_type": "stream",
     "text": [
      "                   all         20        149      0.515       0.33      0.376      0.252\n"
     ]
    },
    {
     "name": "stderr",
     "output_type": "stream",
     "text": [
      "\n"
     ]
    },
    {
     "name": "stdout",
     "output_type": "stream",
     "text": [
      "\n",
      "      Epoch    GPU_mem   box_loss   cls_loss   dfl_loss  Instances       Size\n"
     ]
    },
    {
     "name": "stderr",
     "output_type": "stream",
     "text": [
      "      34/50         0G      1.218       0.83      1.087        143        640: 100%|██████████| 13/13 [02:16<00:00, 10.\n",
      "                 Class     Images  Instances      Box(P          R      mAP50  mAP50-95): 100%|██████████| 1/1 [00:04<0"
     ]
    },
    {
     "name": "stdout",
     "output_type": "stream",
     "text": [
      "                   all         20        149      0.553      0.305      0.389      0.262\n"
     ]
    },
    {
     "name": "stderr",
     "output_type": "stream",
     "text": [
      "\n"
     ]
    },
    {
     "name": "stdout",
     "output_type": "stream",
     "text": [
      "\n",
      "      Epoch    GPU_mem   box_loss   cls_loss   dfl_loss  Instances       Size\n"
     ]
    },
    {
     "name": "stderr",
     "output_type": "stream",
     "text": [
      "      35/50         0G      1.197     0.8017      1.077        124        640: 100%|██████████| 13/13 [02:16<00:00, 10.\n",
      "                 Class     Images  Instances      Box(P          R      mAP50  mAP50-95): 100%|██████████| 1/1 [00:04<0"
     ]
    },
    {
     "name": "stdout",
     "output_type": "stream",
     "text": [
      "                   all         20        149      0.523      0.319      0.401       0.27\n"
     ]
    },
    {
     "name": "stderr",
     "output_type": "stream",
     "text": [
      "\n"
     ]
    },
    {
     "name": "stdout",
     "output_type": "stream",
     "text": [
      "\n",
      "      Epoch    GPU_mem   box_loss   cls_loss   dfl_loss  Instances       Size\n"
     ]
    },
    {
     "name": "stderr",
     "output_type": "stream",
     "text": [
      "      36/50         0G      1.215      0.782      1.065        185        640: 100%|██████████| 13/13 [02:14<00:00, 10.\n",
      "                 Class     Images  Instances      Box(P          R      mAP50  mAP50-95): 100%|██████████| 1/1 [00:04<0"
     ]
    },
    {
     "name": "stdout",
     "output_type": "stream",
     "text": [
      "                   all         20        149      0.539      0.298      0.376      0.252\n"
     ]
    },
    {
     "name": "stderr",
     "output_type": "stream",
     "text": [
      "\n"
     ]
    },
    {
     "name": "stdout",
     "output_type": "stream",
     "text": [
      "\n",
      "      Epoch    GPU_mem   box_loss   cls_loss   dfl_loss  Instances       Size\n"
     ]
    },
    {
     "name": "stderr",
     "output_type": "stream",
     "text": [
      "      37/50         0G      1.208     0.7863      1.073         91        640: 100%|██████████| 13/13 [02:21<00:00, 10.\n",
      "                 Class     Images  Instances      Box(P          R      mAP50  mAP50-95): 100%|██████████| 1/1 [00:04<0"
     ]
    },
    {
     "name": "stdout",
     "output_type": "stream",
     "text": [
      "                   all         20        149      0.565      0.285      0.382       0.23\n"
     ]
    },
    {
     "name": "stderr",
     "output_type": "stream",
     "text": [
      "\n"
     ]
    },
    {
     "name": "stdout",
     "output_type": "stream",
     "text": [
      "\n",
      "      Epoch    GPU_mem   box_loss   cls_loss   dfl_loss  Instances       Size\n"
     ]
    },
    {
     "name": "stderr",
     "output_type": "stream",
     "text": [
      "      38/50         0G      1.188     0.7868      1.074        152        640: 100%|██████████| 13/13 [02:17<00:00, 10.\n",
      "                 Class     Images  Instances      Box(P          R      mAP50  mAP50-95): 100%|██████████| 1/1 [00:05<0"
     ]
    },
    {
     "name": "stdout",
     "output_type": "stream",
     "text": [
      "                   all         20        149      0.515      0.345      0.384      0.246\n"
     ]
    },
    {
     "name": "stderr",
     "output_type": "stream",
     "text": [
      "\n"
     ]
    },
    {
     "name": "stdout",
     "output_type": "stream",
     "text": [
      "\n",
      "      Epoch    GPU_mem   box_loss   cls_loss   dfl_loss  Instances       Size\n"
     ]
    },
    {
     "name": "stderr",
     "output_type": "stream",
     "text": [
      "      39/50         0G      1.178     0.7938      1.066        134        640: 100%|██████████| 13/13 [02:44<00:00, 12.\n",
      "                 Class     Images  Instances      Box(P          R      mAP50  mAP50-95): 100%|██████████| 1/1 [00:05<0"
     ]
    },
    {
     "name": "stdout",
     "output_type": "stream",
     "text": [
      "                   all         20        149      0.351      0.489      0.407       0.26\n"
     ]
    },
    {
     "name": "stderr",
     "output_type": "stream",
     "text": [
      "\n"
     ]
    },
    {
     "name": "stdout",
     "output_type": "stream",
     "text": [
      "\n",
      "      Epoch    GPU_mem   box_loss   cls_loss   dfl_loss  Instances       Size\n"
     ]
    },
    {
     "name": "stderr",
     "output_type": "stream",
     "text": [
      "      40/50         0G      1.198     0.7651      1.079        127        640: 100%|██████████| 13/13 [02:09<00:00,  9.\n",
      "                 Class     Images  Instances      Box(P          R      mAP50  mAP50-95): 100%|██████████| 1/1 [00:04<0"
     ]
    },
    {
     "name": "stdout",
     "output_type": "stream",
     "text": [
      "                   all         20        149      0.376       0.49      0.479      0.344\n"
     ]
    },
    {
     "name": "stderr",
     "output_type": "stream",
     "text": [
      "\n"
     ]
    },
    {
     "name": "stdout",
     "output_type": "stream",
     "text": [
      "Closing dataloader mosaic\n",
      "\u001b[34m\u001b[1malbumentations: \u001b[0mBlur(p=0.01, blur_limit=(3, 7)), MedianBlur(p=0.01, blur_limit=(3, 7)), ToGray(p=0.01, num_output_channels=3, method='weighted_average'), CLAHE(p=0.01, clip_limit=(1.0, 4.0), tile_grid_size=(8, 8))\n",
      "\n",
      "      Epoch    GPU_mem   box_loss   cls_loss   dfl_loss  Instances       Size\n"
     ]
    },
    {
     "name": "stderr",
     "output_type": "stream",
     "text": [
      "      41/50         0G      1.152      0.704      1.048         86        640: 100%|██████████| 13/13 [02:07<00:00,  9.\n",
      "                 Class     Images  Instances      Box(P          R      mAP50  mAP50-95): 100%|██████████| 1/1 [00:05<0"
     ]
    },
    {
     "name": "stdout",
     "output_type": "stream",
     "text": [
      "                   all         20        149      0.394      0.473      0.409      0.288\n"
     ]
    },
    {
     "name": "stderr",
     "output_type": "stream",
     "text": [
      "\n"
     ]
    },
    {
     "name": "stdout",
     "output_type": "stream",
     "text": [
      "\n",
      "      Epoch    GPU_mem   box_loss   cls_loss   dfl_loss  Instances       Size\n"
     ]
    },
    {
     "name": "stderr",
     "output_type": "stream",
     "text": [
      "      42/50         0G      1.102     0.6798      1.036         98        640: 100%|██████████| 13/13 [02:06<00:00,  9.\n",
      "                 Class     Images  Instances      Box(P          R      mAP50  mAP50-95): 100%|██████████| 1/1 [00:04<0"
     ]
    },
    {
     "name": "stdout",
     "output_type": "stream",
     "text": [
      "                   all         20        149      0.368      0.454      0.406      0.285\n"
     ]
    },
    {
     "name": "stderr",
     "output_type": "stream",
     "text": [
      "\n"
     ]
    },
    {
     "name": "stdout",
     "output_type": "stream",
     "text": [
      "\n",
      "      Epoch    GPU_mem   box_loss   cls_loss   dfl_loss  Instances       Size\n"
     ]
    },
    {
     "name": "stderr",
     "output_type": "stream",
     "text": [
      "      43/50         0G      1.096     0.6781      1.032         94        640: 100%|██████████| 13/13 [02:04<00:00,  9.\n",
      "                 Class     Images  Instances      Box(P          R      mAP50  mAP50-95): 100%|██████████| 1/1 [00:04<0"
     ]
    },
    {
     "name": "stdout",
     "output_type": "stream",
     "text": [
      "                   all         20        149      0.318      0.475      0.414      0.298\n"
     ]
    },
    {
     "name": "stderr",
     "output_type": "stream",
     "text": [
      "\n"
     ]
    },
    {
     "name": "stdout",
     "output_type": "stream",
     "text": [
      "\n",
      "      Epoch    GPU_mem   box_loss   cls_loss   dfl_loss  Instances       Size\n"
     ]
    },
    {
     "name": "stderr",
     "output_type": "stream",
     "text": [
      "      44/50         0G      1.075     0.6585      1.022         87        640: 100%|██████████| 13/13 [02:03<00:00,  9.\n",
      "                 Class     Images  Instances      Box(P          R      mAP50  mAP50-95): 100%|██████████| 1/1 [00:04<0"
     ]
    },
    {
     "name": "stdout",
     "output_type": "stream",
     "text": [
      "                   all         20        149      0.306      0.459      0.408      0.283\n"
     ]
    },
    {
     "name": "stderr",
     "output_type": "stream",
     "text": [
      "\n"
     ]
    },
    {
     "name": "stdout",
     "output_type": "stream",
     "text": [
      "\n",
      "      Epoch    GPU_mem   box_loss   cls_loss   dfl_loss  Instances       Size\n"
     ]
    },
    {
     "name": "stderr",
     "output_type": "stream",
     "text": [
      "      45/50         0G      1.089     0.6696      1.038         87        640: 100%|██████████| 13/13 [02:12<00:00, 10.\n",
      "                 Class     Images  Instances      Box(P          R      mAP50  mAP50-95): 100%|██████████| 1/1 [00:04<0"
     ]
    },
    {
     "name": "stdout",
     "output_type": "stream",
     "text": [
      "                   all         20        149      0.303      0.468       0.41      0.281\n"
     ]
    },
    {
     "name": "stderr",
     "output_type": "stream",
     "text": [
      "\n"
     ]
    },
    {
     "name": "stdout",
     "output_type": "stream",
     "text": [
      "\n",
      "      Epoch    GPU_mem   box_loss   cls_loss   dfl_loss  Instances       Size\n"
     ]
    },
    {
     "name": "stderr",
     "output_type": "stream",
     "text": [
      "      46/50         0G      1.068     0.6543      1.016        113        640: 100%|██████████| 13/13 [02:19<00:00, 10.\n",
      "                 Class     Images  Instances      Box(P          R      mAP50  mAP50-95): 100%|██████████| 1/1 [00:04<0"
     ]
    },
    {
     "name": "stdout",
     "output_type": "stream",
     "text": [
      "                   all         20        149      0.292      0.468      0.418      0.294\n"
     ]
    },
    {
     "name": "stderr",
     "output_type": "stream",
     "text": [
      "\n"
     ]
    },
    {
     "name": "stdout",
     "output_type": "stream",
     "text": [
      "\n",
      "      Epoch    GPU_mem   box_loss   cls_loss   dfl_loss  Instances       Size\n"
     ]
    },
    {
     "name": "stderr",
     "output_type": "stream",
     "text": [
      "      47/50         0G      1.079      0.661       1.02        100        640: 100%|██████████| 13/13 [02:10<00:00, 10.\n",
      "                 Class     Images  Instances      Box(P          R      mAP50  mAP50-95): 100%|██████████| 1/1 [00:04<0"
     ]
    },
    {
     "name": "stdout",
     "output_type": "stream",
     "text": [
      "                   all         20        149      0.292      0.487      0.418      0.292\n"
     ]
    },
    {
     "name": "stderr",
     "output_type": "stream",
     "text": [
      "\n"
     ]
    },
    {
     "name": "stdout",
     "output_type": "stream",
     "text": [
      "\n",
      "      Epoch    GPU_mem   box_loss   cls_loss   dfl_loss  Instances       Size\n"
     ]
    },
    {
     "name": "stderr",
     "output_type": "stream",
     "text": [
      "      48/50         0G       1.02     0.6401      1.007         79        640: 100%|██████████| 13/13 [02:09<00:00,  9.\n",
      "                 Class     Images  Instances      Box(P          R      mAP50  mAP50-95): 100%|██████████| 1/1 [00:04<0"
     ]
    },
    {
     "name": "stdout",
     "output_type": "stream",
     "text": [
      "                   all         20        149      0.323      0.503      0.408      0.278\n"
     ]
    },
    {
     "name": "stderr",
     "output_type": "stream",
     "text": [
      "\n"
     ]
    },
    {
     "name": "stdout",
     "output_type": "stream",
     "text": [
      "\n",
      "      Epoch    GPU_mem   box_loss   cls_loss   dfl_loss  Instances       Size\n"
     ]
    },
    {
     "name": "stderr",
     "output_type": "stream",
     "text": [
      "      49/50         0G      1.042     0.6268      1.013         84        640: 100%|██████████| 13/13 [02:16<00:00, 10.\n",
      "                 Class     Images  Instances      Box(P          R      mAP50  mAP50-95): 100%|██████████| 1/1 [00:05<0"
     ]
    },
    {
     "name": "stdout",
     "output_type": "stream",
     "text": [
      "                   all         20        149       0.33      0.499      0.411      0.282\n"
     ]
    },
    {
     "name": "stderr",
     "output_type": "stream",
     "text": [
      "\n"
     ]
    },
    {
     "name": "stdout",
     "output_type": "stream",
     "text": [
      "\n",
      "      Epoch    GPU_mem   box_loss   cls_loss   dfl_loss  Instances       Size\n"
     ]
    },
    {
     "name": "stderr",
     "output_type": "stream",
     "text": [
      "      50/50         0G      1.019     0.6154      1.004         85        640: 100%|██████████| 13/13 [02:07<00:00,  9.\n",
      "                 Class     Images  Instances      Box(P          R      mAP50  mAP50-95): 100%|██████████| 1/1 [00:04<0"
     ]
    },
    {
     "name": "stdout",
     "output_type": "stream",
     "text": [
      "                   all         20        149      0.324       0.49      0.409      0.281\n"
     ]
    },
    {
     "name": "stderr",
     "output_type": "stream",
     "text": [
      "\n"
     ]
    },
    {
     "name": "stdout",
     "output_type": "stream",
     "text": [
      "\n",
      "50 epochs completed in 2.012 hours.\n",
      "Optimizer stripped from runs\\detect\\train26\\weights\\last.pt, 18.5MB\n",
      "Optimizer stripped from runs\\detect\\train26\\weights\\best.pt, 18.5MB\n",
      "\n",
      "Validating runs\\detect\\train26\\weights\\best.pt...\n",
      "Ultralytics 8.3.73  Python-3.11.5 torch-2.2.2 CPU (12th Gen Intel Core(TM) i5-1240P)\n",
      "YOLOv5s summary (fused): 193 layers, 9,114,245 parameters, 0 gradients, 23.8 GFLOPs\n"
     ]
    },
    {
     "name": "stderr",
     "output_type": "stream",
     "text": [
      "                 Class     Images  Instances      Box(P          R      mAP50  mAP50-95): 100%|██████████| 1/1 [00:03<0\n"
     ]
    },
    {
     "name": "stdout",
     "output_type": "stream",
     "text": [
      "                   all         20        149      0.373       0.49      0.479      0.344\n",
      "                  auto          7          7      0.411      0.429      0.398       0.33\n",
      "                  bike         11         16      0.439      0.562      0.531      0.327\n",
      "                   bus          1          1      0.497          1      0.995      0.796\n",
      "                   car          8         12      0.781      0.667      0.688      0.512\n",
      "                 cycle          1          1          0          0          0          0\n",
      "                person         20        110      0.484      0.773      0.737       0.44\n",
      "                 truck          2          2          0          0          0          0\n",
      "Speed: 2.0ms preprocess, 171.5ms inference, 0.0ms loss, 0.7ms postprocess per image\n",
      "Results saved to \u001b[1mruns\\detect\\train26\u001b[0m\n"
     ]
    },
    {
     "data": {
      "text/plain": [
       "ultralytics.utils.metrics.DetMetrics object with attributes:\n",
       "\n",
       "ap_class_index: array([0, 1, 2, 3, 4, 5, 6])\n",
       "box: ultralytics.utils.metrics.Metric object\n",
       "confusion_matrix: <ultralytics.utils.metrics.ConfusionMatrix object at 0x000001564F5B6390>\n",
       "curves: ['Precision-Recall(B)', 'F1-Confidence(B)', 'Precision-Confidence(B)', 'Recall-Confidence(B)']\n",
       "curves_results: [[array([          0,    0.001001,    0.002002,    0.003003,    0.004004,    0.005005,    0.006006,    0.007007,    0.008008,    0.009009,     0.01001,    0.011011,    0.012012,    0.013013,    0.014014,    0.015015,    0.016016,    0.017017,    0.018018,    0.019019,     0.02002,    0.021021,    0.022022,    0.023023,\n",
       "          0.024024,    0.025025,    0.026026,    0.027027,    0.028028,    0.029029,     0.03003,    0.031031,    0.032032,    0.033033,    0.034034,    0.035035,    0.036036,    0.037037,    0.038038,    0.039039,     0.04004,    0.041041,    0.042042,    0.043043,    0.044044,    0.045045,    0.046046,    0.047047,\n",
       "          0.048048,    0.049049,     0.05005,    0.051051,    0.052052,    0.053053,    0.054054,    0.055055,    0.056056,    0.057057,    0.058058,    0.059059,     0.06006,    0.061061,    0.062062,    0.063063,    0.064064,    0.065065,    0.066066,    0.067067,    0.068068,    0.069069,     0.07007,    0.071071,\n",
       "          0.072072,    0.073073,    0.074074,    0.075075,    0.076076,    0.077077,    0.078078,    0.079079,     0.08008,    0.081081,    0.082082,    0.083083,    0.084084,    0.085085,    0.086086,    0.087087,    0.088088,    0.089089,     0.09009,    0.091091,    0.092092,    0.093093,    0.094094,    0.095095,\n",
       "          0.096096,    0.097097,    0.098098,    0.099099,      0.1001,      0.1011,      0.1021,      0.1031,      0.1041,     0.10511,     0.10611,     0.10711,     0.10811,     0.10911,     0.11011,     0.11111,     0.11211,     0.11311,     0.11411,     0.11512,     0.11612,     0.11712,     0.11812,     0.11912,\n",
       "           0.12012,     0.12112,     0.12212,     0.12312,     0.12412,     0.12513,     0.12613,     0.12713,     0.12813,     0.12913,     0.13013,     0.13113,     0.13213,     0.13313,     0.13413,     0.13514,     0.13614,     0.13714,     0.13814,     0.13914,     0.14014,     0.14114,     0.14214,     0.14314,\n",
       "           0.14414,     0.14515,     0.14615,     0.14715,     0.14815,     0.14915,     0.15015,     0.15115,     0.15215,     0.15315,     0.15415,     0.15516,     0.15616,     0.15716,     0.15816,     0.15916,     0.16016,     0.16116,     0.16216,     0.16316,     0.16416,     0.16517,     0.16617,     0.16717,\n",
       "           0.16817,     0.16917,     0.17017,     0.17117,     0.17217,     0.17317,     0.17417,     0.17518,     0.17618,     0.17718,     0.17818,     0.17918,     0.18018,     0.18118,     0.18218,     0.18318,     0.18418,     0.18519,     0.18619,     0.18719,     0.18819,     0.18919,     0.19019,     0.19119,\n",
       "           0.19219,     0.19319,     0.19419,      0.1952,      0.1962,      0.1972,      0.1982,      0.1992,      0.2002,      0.2012,      0.2022,      0.2032,      0.2042,     0.20521,     0.20621,     0.20721,     0.20821,     0.20921,     0.21021,     0.21121,     0.21221,     0.21321,     0.21421,     0.21522,\n",
       "           0.21622,     0.21722,     0.21822,     0.21922,     0.22022,     0.22122,     0.22222,     0.22322,     0.22422,     0.22523,     0.22623,     0.22723,     0.22823,     0.22923,     0.23023,     0.23123,     0.23223,     0.23323,     0.23423,     0.23524,     0.23624,     0.23724,     0.23824,     0.23924,\n",
       "           0.24024,     0.24124,     0.24224,     0.24324,     0.24424,     0.24525,     0.24625,     0.24725,     0.24825,     0.24925,     0.25025,     0.25125,     0.25225,     0.25325,     0.25425,     0.25526,     0.25626,     0.25726,     0.25826,     0.25926,     0.26026,     0.26126,     0.26226,     0.26326,\n",
       "           0.26426,     0.26527,     0.26627,     0.26727,     0.26827,     0.26927,     0.27027,     0.27127,     0.27227,     0.27327,     0.27427,     0.27528,     0.27628,     0.27728,     0.27828,     0.27928,     0.28028,     0.28128,     0.28228,     0.28328,     0.28428,     0.28529,     0.28629,     0.28729,\n",
       "           0.28829,     0.28929,     0.29029,     0.29129,     0.29229,     0.29329,     0.29429,      0.2953,      0.2963,      0.2973,      0.2983,      0.2993,      0.3003,      0.3013,      0.3023,      0.3033,      0.3043,     0.30531,     0.30631,     0.30731,     0.30831,     0.30931,     0.31031,     0.31131,\n",
       "           0.31231,     0.31331,     0.31431,     0.31532,     0.31632,     0.31732,     0.31832,     0.31932,     0.32032,     0.32132,     0.32232,     0.32332,     0.32432,     0.32533,     0.32633,     0.32733,     0.32833,     0.32933,     0.33033,     0.33133,     0.33233,     0.33333,     0.33433,     0.33534,\n",
       "           0.33634,     0.33734,     0.33834,     0.33934,     0.34034,     0.34134,     0.34234,     0.34334,     0.34434,     0.34535,     0.34635,     0.34735,     0.34835,     0.34935,     0.35035,     0.35135,     0.35235,     0.35335,     0.35435,     0.35536,     0.35636,     0.35736,     0.35836,     0.35936,\n",
       "           0.36036,     0.36136,     0.36236,     0.36336,     0.36436,     0.36537,     0.36637,     0.36737,     0.36837,     0.36937,     0.37037,     0.37137,     0.37237,     0.37337,     0.37437,     0.37538,     0.37638,     0.37738,     0.37838,     0.37938,     0.38038,     0.38138,     0.38238,     0.38338,\n",
       "           0.38438,     0.38539,     0.38639,     0.38739,     0.38839,     0.38939,     0.39039,     0.39139,     0.39239,     0.39339,     0.39439,      0.3954,      0.3964,      0.3974,      0.3984,      0.3994,      0.4004,      0.4014,      0.4024,      0.4034,      0.4044,     0.40541,     0.40641,     0.40741,\n",
       "           0.40841,     0.40941,     0.41041,     0.41141,     0.41241,     0.41341,     0.41441,     0.41542,     0.41642,     0.41742,     0.41842,     0.41942,     0.42042,     0.42142,     0.42242,     0.42342,     0.42442,     0.42543,     0.42643,     0.42743,     0.42843,     0.42943,     0.43043,     0.43143,\n",
       "           0.43243,     0.43343,     0.43443,     0.43544,     0.43644,     0.43744,     0.43844,     0.43944,     0.44044,     0.44144,     0.44244,     0.44344,     0.44444,     0.44545,     0.44645,     0.44745,     0.44845,     0.44945,     0.45045,     0.45145,     0.45245,     0.45345,     0.45445,     0.45546,\n",
       "           0.45646,     0.45746,     0.45846,     0.45946,     0.46046,     0.46146,     0.46246,     0.46346,     0.46446,     0.46547,     0.46647,     0.46747,     0.46847,     0.46947,     0.47047,     0.47147,     0.47247,     0.47347,     0.47447,     0.47548,     0.47648,     0.47748,     0.47848,     0.47948,\n",
       "           0.48048,     0.48148,     0.48248,     0.48348,     0.48448,     0.48549,     0.48649,     0.48749,     0.48849,     0.48949,     0.49049,     0.49149,     0.49249,     0.49349,     0.49449,      0.4955,      0.4965,      0.4975,      0.4985,      0.4995,      0.5005,      0.5015,      0.5025,      0.5035,\n",
       "            0.5045,     0.50551,     0.50651,     0.50751,     0.50851,     0.50951,     0.51051,     0.51151,     0.51251,     0.51351,     0.51451,     0.51552,     0.51652,     0.51752,     0.51852,     0.51952,     0.52052,     0.52152,     0.52252,     0.52352,     0.52452,     0.52553,     0.52653,     0.52753,\n",
       "           0.52853,     0.52953,     0.53053,     0.53153,     0.53253,     0.53353,     0.53453,     0.53554,     0.53654,     0.53754,     0.53854,     0.53954,     0.54054,     0.54154,     0.54254,     0.54354,     0.54454,     0.54555,     0.54655,     0.54755,     0.54855,     0.54955,     0.55055,     0.55155,\n",
       "           0.55255,     0.55355,     0.55455,     0.55556,     0.55656,     0.55756,     0.55856,     0.55956,     0.56056,     0.56156,     0.56256,     0.56356,     0.56456,     0.56557,     0.56657,     0.56757,     0.56857,     0.56957,     0.57057,     0.57157,     0.57257,     0.57357,     0.57457,     0.57558,\n",
       "           0.57658,     0.57758,     0.57858,     0.57958,     0.58058,     0.58158,     0.58258,     0.58358,     0.58458,     0.58559,     0.58659,     0.58759,     0.58859,     0.58959,     0.59059,     0.59159,     0.59259,     0.59359,     0.59459,      0.5956,      0.5966,      0.5976,      0.5986,      0.5996,\n",
       "            0.6006,      0.6016,      0.6026,      0.6036,      0.6046,     0.60561,     0.60661,     0.60761,     0.60861,     0.60961,     0.61061,     0.61161,     0.61261,     0.61361,     0.61461,     0.61562,     0.61662,     0.61762,     0.61862,     0.61962,     0.62062,     0.62162,     0.62262,     0.62362,\n",
       "           0.62462,     0.62563,     0.62663,     0.62763,     0.62863,     0.62963,     0.63063,     0.63163,     0.63263,     0.63363,     0.63463,     0.63564,     0.63664,     0.63764,     0.63864,     0.63964,     0.64064,     0.64164,     0.64264,     0.64364,     0.64464,     0.64565,     0.64665,     0.64765,\n",
       "           0.64865,     0.64965,     0.65065,     0.65165,     0.65265,     0.65365,     0.65465,     0.65566,     0.65666,     0.65766,     0.65866,     0.65966,     0.66066,     0.66166,     0.66266,     0.66366,     0.66466,     0.66567,     0.66667,     0.66767,     0.66867,     0.66967,     0.67067,     0.67167,\n",
       "           0.67267,     0.67367,     0.67467,     0.67568,     0.67668,     0.67768,     0.67868,     0.67968,     0.68068,     0.68168,     0.68268,     0.68368,     0.68468,     0.68569,     0.68669,     0.68769,     0.68869,     0.68969,     0.69069,     0.69169,     0.69269,     0.69369,     0.69469,      0.6957,\n",
       "            0.6967,      0.6977,      0.6987,      0.6997,      0.7007,      0.7017,      0.7027,      0.7037,      0.7047,     0.70571,     0.70671,     0.70771,     0.70871,     0.70971,     0.71071,     0.71171,     0.71271,     0.71371,     0.71471,     0.71572,     0.71672,     0.71772,     0.71872,     0.71972,\n",
       "           0.72072,     0.72172,     0.72272,     0.72372,     0.72472,     0.72573,     0.72673,     0.72773,     0.72873,     0.72973,     0.73073,     0.73173,     0.73273,     0.73373,     0.73473,     0.73574,     0.73674,     0.73774,     0.73874,     0.73974,     0.74074,     0.74174,     0.74274,     0.74374,\n",
       "           0.74474,     0.74575,     0.74675,     0.74775,     0.74875,     0.74975,     0.75075,     0.75175,     0.75275,     0.75375,     0.75475,     0.75576,     0.75676,     0.75776,     0.75876,     0.75976,     0.76076,     0.76176,     0.76276,     0.76376,     0.76476,     0.76577,     0.76677,     0.76777,\n",
       "           0.76877,     0.76977,     0.77077,     0.77177,     0.77277,     0.77377,     0.77477,     0.77578,     0.77678,     0.77778,     0.77878,     0.77978,     0.78078,     0.78178,     0.78278,     0.78378,     0.78478,     0.78579,     0.78679,     0.78779,     0.78879,     0.78979,     0.79079,     0.79179,\n",
       "           0.79279,     0.79379,     0.79479,      0.7958,      0.7968,      0.7978,      0.7988,      0.7998,      0.8008,      0.8018,      0.8028,      0.8038,      0.8048,     0.80581,     0.80681,     0.80781,     0.80881,     0.80981,     0.81081,     0.81181,     0.81281,     0.81381,     0.81481,     0.81582,\n",
       "           0.81682,     0.81782,     0.81882,     0.81982,     0.82082,     0.82182,     0.82282,     0.82382,     0.82482,     0.82583,     0.82683,     0.82783,     0.82883,     0.82983,     0.83083,     0.83183,     0.83283,     0.83383,     0.83483,     0.83584,     0.83684,     0.83784,     0.83884,     0.83984,\n",
       "           0.84084,     0.84184,     0.84284,     0.84384,     0.84484,     0.84585,     0.84685,     0.84785,     0.84885,     0.84985,     0.85085,     0.85185,     0.85285,     0.85385,     0.85485,     0.85586,     0.85686,     0.85786,     0.85886,     0.85986,     0.86086,     0.86186,     0.86286,     0.86386,\n",
       "           0.86486,     0.86587,     0.86687,     0.86787,     0.86887,     0.86987,     0.87087,     0.87187,     0.87287,     0.87387,     0.87487,     0.87588,     0.87688,     0.87788,     0.87888,     0.87988,     0.88088,     0.88188,     0.88288,     0.88388,     0.88488,     0.88589,     0.88689,     0.88789,\n",
       "           0.88889,     0.88989,     0.89089,     0.89189,     0.89289,     0.89389,     0.89489,      0.8959,      0.8969,      0.8979,      0.8989,      0.8999,      0.9009,      0.9019,      0.9029,      0.9039,      0.9049,     0.90591,     0.90691,     0.90791,     0.90891,     0.90991,     0.91091,     0.91191,\n",
       "           0.91291,     0.91391,     0.91491,     0.91592,     0.91692,     0.91792,     0.91892,     0.91992,     0.92092,     0.92192,     0.92292,     0.92392,     0.92492,     0.92593,     0.92693,     0.92793,     0.92893,     0.92993,     0.93093,     0.93193,     0.93293,     0.93393,     0.93493,     0.93594,\n",
       "           0.93694,     0.93794,     0.93894,     0.93994,     0.94094,     0.94194,     0.94294,     0.94394,     0.94494,     0.94595,     0.94695,     0.94795,     0.94895,     0.94995,     0.95095,     0.95195,     0.95295,     0.95395,     0.95495,     0.95596,     0.95696,     0.95796,     0.95896,     0.95996,\n",
       "           0.96096,     0.96196,     0.96296,     0.96396,     0.96496,     0.96597,     0.96697,     0.96797,     0.96897,     0.96997,     0.97097,     0.97197,     0.97297,     0.97397,     0.97497,     0.97598,     0.97698,     0.97798,     0.97898,     0.97998,     0.98098,     0.98198,     0.98298,     0.98398,\n",
       "           0.98498,     0.98599,     0.98699,     0.98799,     0.98899,     0.98999,     0.99099,     0.99199,     0.99299,     0.99399,     0.99499,       0.996,       0.997,       0.998,       0.999,           1]), array([[          1,           1,           1, ...,  0.00035035,  0.00017518,           0],\n",
       "       [          1,           1,           1, ...,   0.0023438,   0.0011719,           0],\n",
       "       [          1,           1,           1, ...,           1,           1,           0],\n",
       "       [          1,           1,           1, ...,  0.00075075,  0.00037538,           0],\n",
       "       [          1,           1,           1, ...,   0.0021869,   0.0010934,           0],\n",
       "       [          0,           0,           0, ...,           0,           0,           0]]), 'Recall', 'Precision'], [array([          0,    0.001001,    0.002002,    0.003003,    0.004004,    0.005005,    0.006006,    0.007007,    0.008008,    0.009009,     0.01001,    0.011011,    0.012012,    0.013013,    0.014014,    0.015015,    0.016016,    0.017017,    0.018018,    0.019019,     0.02002,    0.021021,    0.022022,    0.023023,\n",
       "          0.024024,    0.025025,    0.026026,    0.027027,    0.028028,    0.029029,     0.03003,    0.031031,    0.032032,    0.033033,    0.034034,    0.035035,    0.036036,    0.037037,    0.038038,    0.039039,     0.04004,    0.041041,    0.042042,    0.043043,    0.044044,    0.045045,    0.046046,    0.047047,\n",
       "          0.048048,    0.049049,     0.05005,    0.051051,    0.052052,    0.053053,    0.054054,    0.055055,    0.056056,    0.057057,    0.058058,    0.059059,     0.06006,    0.061061,    0.062062,    0.063063,    0.064064,    0.065065,    0.066066,    0.067067,    0.068068,    0.069069,     0.07007,    0.071071,\n",
       "          0.072072,    0.073073,    0.074074,    0.075075,    0.076076,    0.077077,    0.078078,    0.079079,     0.08008,    0.081081,    0.082082,    0.083083,    0.084084,    0.085085,    0.086086,    0.087087,    0.088088,    0.089089,     0.09009,    0.091091,    0.092092,    0.093093,    0.094094,    0.095095,\n",
       "          0.096096,    0.097097,    0.098098,    0.099099,      0.1001,      0.1011,      0.1021,      0.1031,      0.1041,     0.10511,     0.10611,     0.10711,     0.10811,     0.10911,     0.11011,     0.11111,     0.11211,     0.11311,     0.11411,     0.11512,     0.11612,     0.11712,     0.11812,     0.11912,\n",
       "           0.12012,     0.12112,     0.12212,     0.12312,     0.12412,     0.12513,     0.12613,     0.12713,     0.12813,     0.12913,     0.13013,     0.13113,     0.13213,     0.13313,     0.13413,     0.13514,     0.13614,     0.13714,     0.13814,     0.13914,     0.14014,     0.14114,     0.14214,     0.14314,\n",
       "           0.14414,     0.14515,     0.14615,     0.14715,     0.14815,     0.14915,     0.15015,     0.15115,     0.15215,     0.15315,     0.15415,     0.15516,     0.15616,     0.15716,     0.15816,     0.15916,     0.16016,     0.16116,     0.16216,     0.16316,     0.16416,     0.16517,     0.16617,     0.16717,\n",
       "           0.16817,     0.16917,     0.17017,     0.17117,     0.17217,     0.17317,     0.17417,     0.17518,     0.17618,     0.17718,     0.17818,     0.17918,     0.18018,     0.18118,     0.18218,     0.18318,     0.18418,     0.18519,     0.18619,     0.18719,     0.18819,     0.18919,     0.19019,     0.19119,\n",
       "           0.19219,     0.19319,     0.19419,      0.1952,      0.1962,      0.1972,      0.1982,      0.1992,      0.2002,      0.2012,      0.2022,      0.2032,      0.2042,     0.20521,     0.20621,     0.20721,     0.20821,     0.20921,     0.21021,     0.21121,     0.21221,     0.21321,     0.21421,     0.21522,\n",
       "           0.21622,     0.21722,     0.21822,     0.21922,     0.22022,     0.22122,     0.22222,     0.22322,     0.22422,     0.22523,     0.22623,     0.22723,     0.22823,     0.22923,     0.23023,     0.23123,     0.23223,     0.23323,     0.23423,     0.23524,     0.23624,     0.23724,     0.23824,     0.23924,\n",
       "           0.24024,     0.24124,     0.24224,     0.24324,     0.24424,     0.24525,     0.24625,     0.24725,     0.24825,     0.24925,     0.25025,     0.25125,     0.25225,     0.25325,     0.25425,     0.25526,     0.25626,     0.25726,     0.25826,     0.25926,     0.26026,     0.26126,     0.26226,     0.26326,\n",
       "           0.26426,     0.26527,     0.26627,     0.26727,     0.26827,     0.26927,     0.27027,     0.27127,     0.27227,     0.27327,     0.27427,     0.27528,     0.27628,     0.27728,     0.27828,     0.27928,     0.28028,     0.28128,     0.28228,     0.28328,     0.28428,     0.28529,     0.28629,     0.28729,\n",
       "           0.28829,     0.28929,     0.29029,     0.29129,     0.29229,     0.29329,     0.29429,      0.2953,      0.2963,      0.2973,      0.2983,      0.2993,      0.3003,      0.3013,      0.3023,      0.3033,      0.3043,     0.30531,     0.30631,     0.30731,     0.30831,     0.30931,     0.31031,     0.31131,\n",
       "           0.31231,     0.31331,     0.31431,     0.31532,     0.31632,     0.31732,     0.31832,     0.31932,     0.32032,     0.32132,     0.32232,     0.32332,     0.32432,     0.32533,     0.32633,     0.32733,     0.32833,     0.32933,     0.33033,     0.33133,     0.33233,     0.33333,     0.33433,     0.33534,\n",
       "           0.33634,     0.33734,     0.33834,     0.33934,     0.34034,     0.34134,     0.34234,     0.34334,     0.34434,     0.34535,     0.34635,     0.34735,     0.34835,     0.34935,     0.35035,     0.35135,     0.35235,     0.35335,     0.35435,     0.35536,     0.35636,     0.35736,     0.35836,     0.35936,\n",
       "           0.36036,     0.36136,     0.36236,     0.36336,     0.36436,     0.36537,     0.36637,     0.36737,     0.36837,     0.36937,     0.37037,     0.37137,     0.37237,     0.37337,     0.37437,     0.37538,     0.37638,     0.37738,     0.37838,     0.37938,     0.38038,     0.38138,     0.38238,     0.38338,\n",
       "           0.38438,     0.38539,     0.38639,     0.38739,     0.38839,     0.38939,     0.39039,     0.39139,     0.39239,     0.39339,     0.39439,      0.3954,      0.3964,      0.3974,      0.3984,      0.3994,      0.4004,      0.4014,      0.4024,      0.4034,      0.4044,     0.40541,     0.40641,     0.40741,\n",
       "           0.40841,     0.40941,     0.41041,     0.41141,     0.41241,     0.41341,     0.41441,     0.41542,     0.41642,     0.41742,     0.41842,     0.41942,     0.42042,     0.42142,     0.42242,     0.42342,     0.42442,     0.42543,     0.42643,     0.42743,     0.42843,     0.42943,     0.43043,     0.43143,\n",
       "           0.43243,     0.43343,     0.43443,     0.43544,     0.43644,     0.43744,     0.43844,     0.43944,     0.44044,     0.44144,     0.44244,     0.44344,     0.44444,     0.44545,     0.44645,     0.44745,     0.44845,     0.44945,     0.45045,     0.45145,     0.45245,     0.45345,     0.45445,     0.45546,\n",
       "           0.45646,     0.45746,     0.45846,     0.45946,     0.46046,     0.46146,     0.46246,     0.46346,     0.46446,     0.46547,     0.46647,     0.46747,     0.46847,     0.46947,     0.47047,     0.47147,     0.47247,     0.47347,     0.47447,     0.47548,     0.47648,     0.47748,     0.47848,     0.47948,\n",
       "           0.48048,     0.48148,     0.48248,     0.48348,     0.48448,     0.48549,     0.48649,     0.48749,     0.48849,     0.48949,     0.49049,     0.49149,     0.49249,     0.49349,     0.49449,      0.4955,      0.4965,      0.4975,      0.4985,      0.4995,      0.5005,      0.5015,      0.5025,      0.5035,\n",
       "            0.5045,     0.50551,     0.50651,     0.50751,     0.50851,     0.50951,     0.51051,     0.51151,     0.51251,     0.51351,     0.51451,     0.51552,     0.51652,     0.51752,     0.51852,     0.51952,     0.52052,     0.52152,     0.52252,     0.52352,     0.52452,     0.52553,     0.52653,     0.52753,\n",
       "           0.52853,     0.52953,     0.53053,     0.53153,     0.53253,     0.53353,     0.53453,     0.53554,     0.53654,     0.53754,     0.53854,     0.53954,     0.54054,     0.54154,     0.54254,     0.54354,     0.54454,     0.54555,     0.54655,     0.54755,     0.54855,     0.54955,     0.55055,     0.55155,\n",
       "           0.55255,     0.55355,     0.55455,     0.55556,     0.55656,     0.55756,     0.55856,     0.55956,     0.56056,     0.56156,     0.56256,     0.56356,     0.56456,     0.56557,     0.56657,     0.56757,     0.56857,     0.56957,     0.57057,     0.57157,     0.57257,     0.57357,     0.57457,     0.57558,\n",
       "           0.57658,     0.57758,     0.57858,     0.57958,     0.58058,     0.58158,     0.58258,     0.58358,     0.58458,     0.58559,     0.58659,     0.58759,     0.58859,     0.58959,     0.59059,     0.59159,     0.59259,     0.59359,     0.59459,      0.5956,      0.5966,      0.5976,      0.5986,      0.5996,\n",
       "            0.6006,      0.6016,      0.6026,      0.6036,      0.6046,     0.60561,     0.60661,     0.60761,     0.60861,     0.60961,     0.61061,     0.61161,     0.61261,     0.61361,     0.61461,     0.61562,     0.61662,     0.61762,     0.61862,     0.61962,     0.62062,     0.62162,     0.62262,     0.62362,\n",
       "           0.62462,     0.62563,     0.62663,     0.62763,     0.62863,     0.62963,     0.63063,     0.63163,     0.63263,     0.63363,     0.63463,     0.63564,     0.63664,     0.63764,     0.63864,     0.63964,     0.64064,     0.64164,     0.64264,     0.64364,     0.64464,     0.64565,     0.64665,     0.64765,\n",
       "           0.64865,     0.64965,     0.65065,     0.65165,     0.65265,     0.65365,     0.65465,     0.65566,     0.65666,     0.65766,     0.65866,     0.65966,     0.66066,     0.66166,     0.66266,     0.66366,     0.66466,     0.66567,     0.66667,     0.66767,     0.66867,     0.66967,     0.67067,     0.67167,\n",
       "           0.67267,     0.67367,     0.67467,     0.67568,     0.67668,     0.67768,     0.67868,     0.67968,     0.68068,     0.68168,     0.68268,     0.68368,     0.68468,     0.68569,     0.68669,     0.68769,     0.68869,     0.68969,     0.69069,     0.69169,     0.69269,     0.69369,     0.69469,      0.6957,\n",
       "            0.6967,      0.6977,      0.6987,      0.6997,      0.7007,      0.7017,      0.7027,      0.7037,      0.7047,     0.70571,     0.70671,     0.70771,     0.70871,     0.70971,     0.71071,     0.71171,     0.71271,     0.71371,     0.71471,     0.71572,     0.71672,     0.71772,     0.71872,     0.71972,\n",
       "           0.72072,     0.72172,     0.72272,     0.72372,     0.72472,     0.72573,     0.72673,     0.72773,     0.72873,     0.72973,     0.73073,     0.73173,     0.73273,     0.73373,     0.73473,     0.73574,     0.73674,     0.73774,     0.73874,     0.73974,     0.74074,     0.74174,     0.74274,     0.74374,\n",
       "           0.74474,     0.74575,     0.74675,     0.74775,     0.74875,     0.74975,     0.75075,     0.75175,     0.75275,     0.75375,     0.75475,     0.75576,     0.75676,     0.75776,     0.75876,     0.75976,     0.76076,     0.76176,     0.76276,     0.76376,     0.76476,     0.76577,     0.76677,     0.76777,\n",
       "           0.76877,     0.76977,     0.77077,     0.77177,     0.77277,     0.77377,     0.77477,     0.77578,     0.77678,     0.77778,     0.77878,     0.77978,     0.78078,     0.78178,     0.78278,     0.78378,     0.78478,     0.78579,     0.78679,     0.78779,     0.78879,     0.78979,     0.79079,     0.79179,\n",
       "           0.79279,     0.79379,     0.79479,      0.7958,      0.7968,      0.7978,      0.7988,      0.7998,      0.8008,      0.8018,      0.8028,      0.8038,      0.8048,     0.80581,     0.80681,     0.80781,     0.80881,     0.80981,     0.81081,     0.81181,     0.81281,     0.81381,     0.81481,     0.81582,\n",
       "           0.81682,     0.81782,     0.81882,     0.81982,     0.82082,     0.82182,     0.82282,     0.82382,     0.82482,     0.82583,     0.82683,     0.82783,     0.82883,     0.82983,     0.83083,     0.83183,     0.83283,     0.83383,     0.83483,     0.83584,     0.83684,     0.83784,     0.83884,     0.83984,\n",
       "           0.84084,     0.84184,     0.84284,     0.84384,     0.84484,     0.84585,     0.84685,     0.84785,     0.84885,     0.84985,     0.85085,     0.85185,     0.85285,     0.85385,     0.85485,     0.85586,     0.85686,     0.85786,     0.85886,     0.85986,     0.86086,     0.86186,     0.86286,     0.86386,\n",
       "           0.86486,     0.86587,     0.86687,     0.86787,     0.86887,     0.86987,     0.87087,     0.87187,     0.87287,     0.87387,     0.87487,     0.87588,     0.87688,     0.87788,     0.87888,     0.87988,     0.88088,     0.88188,     0.88288,     0.88388,     0.88488,     0.88589,     0.88689,     0.88789,\n",
       "           0.88889,     0.88989,     0.89089,     0.89189,     0.89289,     0.89389,     0.89489,      0.8959,      0.8969,      0.8979,      0.8989,      0.8999,      0.9009,      0.9019,      0.9029,      0.9039,      0.9049,     0.90591,     0.90691,     0.90791,     0.90891,     0.90991,     0.91091,     0.91191,\n",
       "           0.91291,     0.91391,     0.91491,     0.91592,     0.91692,     0.91792,     0.91892,     0.91992,     0.92092,     0.92192,     0.92292,     0.92392,     0.92492,     0.92593,     0.92693,     0.92793,     0.92893,     0.92993,     0.93093,     0.93193,     0.93293,     0.93393,     0.93493,     0.93594,\n",
       "           0.93694,     0.93794,     0.93894,     0.93994,     0.94094,     0.94194,     0.94294,     0.94394,     0.94494,     0.94595,     0.94695,     0.94795,     0.94895,     0.94995,     0.95095,     0.95195,     0.95295,     0.95395,     0.95495,     0.95596,     0.95696,     0.95796,     0.95896,     0.95996,\n",
       "           0.96096,     0.96196,     0.96296,     0.96396,     0.96496,     0.96597,     0.96697,     0.96797,     0.96897,     0.96997,     0.97097,     0.97197,     0.97297,     0.97397,     0.97497,     0.97598,     0.97698,     0.97798,     0.97898,     0.97998,     0.98098,     0.98198,     0.98298,     0.98398,\n",
       "           0.98498,     0.98599,     0.98699,     0.98799,     0.98899,     0.98999,     0.99099,     0.99199,     0.99299,     0.99399,     0.99499,       0.996,       0.997,       0.998,       0.999,           1]), array([[   0.093458,    0.093458,     0.15592, ...,           0,           0,           0],\n",
       "       [    0.13575,     0.13575,     0.18074, ...,           0,           0,           0],\n",
       "       [    0.13333,     0.13333,     0.19894, ...,           0,           0,           0],\n",
       "       ...,\n",
       "       [          0,           0,           0, ...,           0,           0,           0],\n",
       "       [    0.17905,     0.17911,     0.22953, ...,           0,           0,           0],\n",
       "       [          0,           0,           0, ...,           0,           0,           0]]), 'Confidence', 'F1'], [array([          0,    0.001001,    0.002002,    0.003003,    0.004004,    0.005005,    0.006006,    0.007007,    0.008008,    0.009009,     0.01001,    0.011011,    0.012012,    0.013013,    0.014014,    0.015015,    0.016016,    0.017017,    0.018018,    0.019019,     0.02002,    0.021021,    0.022022,    0.023023,\n",
       "          0.024024,    0.025025,    0.026026,    0.027027,    0.028028,    0.029029,     0.03003,    0.031031,    0.032032,    0.033033,    0.034034,    0.035035,    0.036036,    0.037037,    0.038038,    0.039039,     0.04004,    0.041041,    0.042042,    0.043043,    0.044044,    0.045045,    0.046046,    0.047047,\n",
       "          0.048048,    0.049049,     0.05005,    0.051051,    0.052052,    0.053053,    0.054054,    0.055055,    0.056056,    0.057057,    0.058058,    0.059059,     0.06006,    0.061061,    0.062062,    0.063063,    0.064064,    0.065065,    0.066066,    0.067067,    0.068068,    0.069069,     0.07007,    0.071071,\n",
       "          0.072072,    0.073073,    0.074074,    0.075075,    0.076076,    0.077077,    0.078078,    0.079079,     0.08008,    0.081081,    0.082082,    0.083083,    0.084084,    0.085085,    0.086086,    0.087087,    0.088088,    0.089089,     0.09009,    0.091091,    0.092092,    0.093093,    0.094094,    0.095095,\n",
       "          0.096096,    0.097097,    0.098098,    0.099099,      0.1001,      0.1011,      0.1021,      0.1031,      0.1041,     0.10511,     0.10611,     0.10711,     0.10811,     0.10911,     0.11011,     0.11111,     0.11211,     0.11311,     0.11411,     0.11512,     0.11612,     0.11712,     0.11812,     0.11912,\n",
       "           0.12012,     0.12112,     0.12212,     0.12312,     0.12412,     0.12513,     0.12613,     0.12713,     0.12813,     0.12913,     0.13013,     0.13113,     0.13213,     0.13313,     0.13413,     0.13514,     0.13614,     0.13714,     0.13814,     0.13914,     0.14014,     0.14114,     0.14214,     0.14314,\n",
       "           0.14414,     0.14515,     0.14615,     0.14715,     0.14815,     0.14915,     0.15015,     0.15115,     0.15215,     0.15315,     0.15415,     0.15516,     0.15616,     0.15716,     0.15816,     0.15916,     0.16016,     0.16116,     0.16216,     0.16316,     0.16416,     0.16517,     0.16617,     0.16717,\n",
       "           0.16817,     0.16917,     0.17017,     0.17117,     0.17217,     0.17317,     0.17417,     0.17518,     0.17618,     0.17718,     0.17818,     0.17918,     0.18018,     0.18118,     0.18218,     0.18318,     0.18418,     0.18519,     0.18619,     0.18719,     0.18819,     0.18919,     0.19019,     0.19119,\n",
       "           0.19219,     0.19319,     0.19419,      0.1952,      0.1962,      0.1972,      0.1982,      0.1992,      0.2002,      0.2012,      0.2022,      0.2032,      0.2042,     0.20521,     0.20621,     0.20721,     0.20821,     0.20921,     0.21021,     0.21121,     0.21221,     0.21321,     0.21421,     0.21522,\n",
       "           0.21622,     0.21722,     0.21822,     0.21922,     0.22022,     0.22122,     0.22222,     0.22322,     0.22422,     0.22523,     0.22623,     0.22723,     0.22823,     0.22923,     0.23023,     0.23123,     0.23223,     0.23323,     0.23423,     0.23524,     0.23624,     0.23724,     0.23824,     0.23924,\n",
       "           0.24024,     0.24124,     0.24224,     0.24324,     0.24424,     0.24525,     0.24625,     0.24725,     0.24825,     0.24925,     0.25025,     0.25125,     0.25225,     0.25325,     0.25425,     0.25526,     0.25626,     0.25726,     0.25826,     0.25926,     0.26026,     0.26126,     0.26226,     0.26326,\n",
       "           0.26426,     0.26527,     0.26627,     0.26727,     0.26827,     0.26927,     0.27027,     0.27127,     0.27227,     0.27327,     0.27427,     0.27528,     0.27628,     0.27728,     0.27828,     0.27928,     0.28028,     0.28128,     0.28228,     0.28328,     0.28428,     0.28529,     0.28629,     0.28729,\n",
       "           0.28829,     0.28929,     0.29029,     0.29129,     0.29229,     0.29329,     0.29429,      0.2953,      0.2963,      0.2973,      0.2983,      0.2993,      0.3003,      0.3013,      0.3023,      0.3033,      0.3043,     0.30531,     0.30631,     0.30731,     0.30831,     0.30931,     0.31031,     0.31131,\n",
       "           0.31231,     0.31331,     0.31431,     0.31532,     0.31632,     0.31732,     0.31832,     0.31932,     0.32032,     0.32132,     0.32232,     0.32332,     0.32432,     0.32533,     0.32633,     0.32733,     0.32833,     0.32933,     0.33033,     0.33133,     0.33233,     0.33333,     0.33433,     0.33534,\n",
       "           0.33634,     0.33734,     0.33834,     0.33934,     0.34034,     0.34134,     0.34234,     0.34334,     0.34434,     0.34535,     0.34635,     0.34735,     0.34835,     0.34935,     0.35035,     0.35135,     0.35235,     0.35335,     0.35435,     0.35536,     0.35636,     0.35736,     0.35836,     0.35936,\n",
       "           0.36036,     0.36136,     0.36236,     0.36336,     0.36436,     0.36537,     0.36637,     0.36737,     0.36837,     0.36937,     0.37037,     0.37137,     0.37237,     0.37337,     0.37437,     0.37538,     0.37638,     0.37738,     0.37838,     0.37938,     0.38038,     0.38138,     0.38238,     0.38338,\n",
       "           0.38438,     0.38539,     0.38639,     0.38739,     0.38839,     0.38939,     0.39039,     0.39139,     0.39239,     0.39339,     0.39439,      0.3954,      0.3964,      0.3974,      0.3984,      0.3994,      0.4004,      0.4014,      0.4024,      0.4034,      0.4044,     0.40541,     0.40641,     0.40741,\n",
       "           0.40841,     0.40941,     0.41041,     0.41141,     0.41241,     0.41341,     0.41441,     0.41542,     0.41642,     0.41742,     0.41842,     0.41942,     0.42042,     0.42142,     0.42242,     0.42342,     0.42442,     0.42543,     0.42643,     0.42743,     0.42843,     0.42943,     0.43043,     0.43143,\n",
       "           0.43243,     0.43343,     0.43443,     0.43544,     0.43644,     0.43744,     0.43844,     0.43944,     0.44044,     0.44144,     0.44244,     0.44344,     0.44444,     0.44545,     0.44645,     0.44745,     0.44845,     0.44945,     0.45045,     0.45145,     0.45245,     0.45345,     0.45445,     0.45546,\n",
       "           0.45646,     0.45746,     0.45846,     0.45946,     0.46046,     0.46146,     0.46246,     0.46346,     0.46446,     0.46547,     0.46647,     0.46747,     0.46847,     0.46947,     0.47047,     0.47147,     0.47247,     0.47347,     0.47447,     0.47548,     0.47648,     0.47748,     0.47848,     0.47948,\n",
       "           0.48048,     0.48148,     0.48248,     0.48348,     0.48448,     0.48549,     0.48649,     0.48749,     0.48849,     0.48949,     0.49049,     0.49149,     0.49249,     0.49349,     0.49449,      0.4955,      0.4965,      0.4975,      0.4985,      0.4995,      0.5005,      0.5015,      0.5025,      0.5035,\n",
       "            0.5045,     0.50551,     0.50651,     0.50751,     0.50851,     0.50951,     0.51051,     0.51151,     0.51251,     0.51351,     0.51451,     0.51552,     0.51652,     0.51752,     0.51852,     0.51952,     0.52052,     0.52152,     0.52252,     0.52352,     0.52452,     0.52553,     0.52653,     0.52753,\n",
       "           0.52853,     0.52953,     0.53053,     0.53153,     0.53253,     0.53353,     0.53453,     0.53554,     0.53654,     0.53754,     0.53854,     0.53954,     0.54054,     0.54154,     0.54254,     0.54354,     0.54454,     0.54555,     0.54655,     0.54755,     0.54855,     0.54955,     0.55055,     0.55155,\n",
       "           0.55255,     0.55355,     0.55455,     0.55556,     0.55656,     0.55756,     0.55856,     0.55956,     0.56056,     0.56156,     0.56256,     0.56356,     0.56456,     0.56557,     0.56657,     0.56757,     0.56857,     0.56957,     0.57057,     0.57157,     0.57257,     0.57357,     0.57457,     0.57558,\n",
       "           0.57658,     0.57758,     0.57858,     0.57958,     0.58058,     0.58158,     0.58258,     0.58358,     0.58458,     0.58559,     0.58659,     0.58759,     0.58859,     0.58959,     0.59059,     0.59159,     0.59259,     0.59359,     0.59459,      0.5956,      0.5966,      0.5976,      0.5986,      0.5996,\n",
       "            0.6006,      0.6016,      0.6026,      0.6036,      0.6046,     0.60561,     0.60661,     0.60761,     0.60861,     0.60961,     0.61061,     0.61161,     0.61261,     0.61361,     0.61461,     0.61562,     0.61662,     0.61762,     0.61862,     0.61962,     0.62062,     0.62162,     0.62262,     0.62362,\n",
       "           0.62462,     0.62563,     0.62663,     0.62763,     0.62863,     0.62963,     0.63063,     0.63163,     0.63263,     0.63363,     0.63463,     0.63564,     0.63664,     0.63764,     0.63864,     0.63964,     0.64064,     0.64164,     0.64264,     0.64364,     0.64464,     0.64565,     0.64665,     0.64765,\n",
       "           0.64865,     0.64965,     0.65065,     0.65165,     0.65265,     0.65365,     0.65465,     0.65566,     0.65666,     0.65766,     0.65866,     0.65966,     0.66066,     0.66166,     0.66266,     0.66366,     0.66466,     0.66567,     0.66667,     0.66767,     0.66867,     0.66967,     0.67067,     0.67167,\n",
       "           0.67267,     0.67367,     0.67467,     0.67568,     0.67668,     0.67768,     0.67868,     0.67968,     0.68068,     0.68168,     0.68268,     0.68368,     0.68468,     0.68569,     0.68669,     0.68769,     0.68869,     0.68969,     0.69069,     0.69169,     0.69269,     0.69369,     0.69469,      0.6957,\n",
       "            0.6967,      0.6977,      0.6987,      0.6997,      0.7007,      0.7017,      0.7027,      0.7037,      0.7047,     0.70571,     0.70671,     0.70771,     0.70871,     0.70971,     0.71071,     0.71171,     0.71271,     0.71371,     0.71471,     0.71572,     0.71672,     0.71772,     0.71872,     0.71972,\n",
       "           0.72072,     0.72172,     0.72272,     0.72372,     0.72472,     0.72573,     0.72673,     0.72773,     0.72873,     0.72973,     0.73073,     0.73173,     0.73273,     0.73373,     0.73473,     0.73574,     0.73674,     0.73774,     0.73874,     0.73974,     0.74074,     0.74174,     0.74274,     0.74374,\n",
       "           0.74474,     0.74575,     0.74675,     0.74775,     0.74875,     0.74975,     0.75075,     0.75175,     0.75275,     0.75375,     0.75475,     0.75576,     0.75676,     0.75776,     0.75876,     0.75976,     0.76076,     0.76176,     0.76276,     0.76376,     0.76476,     0.76577,     0.76677,     0.76777,\n",
       "           0.76877,     0.76977,     0.77077,     0.77177,     0.77277,     0.77377,     0.77477,     0.77578,     0.77678,     0.77778,     0.77878,     0.77978,     0.78078,     0.78178,     0.78278,     0.78378,     0.78478,     0.78579,     0.78679,     0.78779,     0.78879,     0.78979,     0.79079,     0.79179,\n",
       "           0.79279,     0.79379,     0.79479,      0.7958,      0.7968,      0.7978,      0.7988,      0.7998,      0.8008,      0.8018,      0.8028,      0.8038,      0.8048,     0.80581,     0.80681,     0.80781,     0.80881,     0.80981,     0.81081,     0.81181,     0.81281,     0.81381,     0.81481,     0.81582,\n",
       "           0.81682,     0.81782,     0.81882,     0.81982,     0.82082,     0.82182,     0.82282,     0.82382,     0.82482,     0.82583,     0.82683,     0.82783,     0.82883,     0.82983,     0.83083,     0.83183,     0.83283,     0.83383,     0.83483,     0.83584,     0.83684,     0.83784,     0.83884,     0.83984,\n",
       "           0.84084,     0.84184,     0.84284,     0.84384,     0.84484,     0.84585,     0.84685,     0.84785,     0.84885,     0.84985,     0.85085,     0.85185,     0.85285,     0.85385,     0.85485,     0.85586,     0.85686,     0.85786,     0.85886,     0.85986,     0.86086,     0.86186,     0.86286,     0.86386,\n",
       "           0.86486,     0.86587,     0.86687,     0.86787,     0.86887,     0.86987,     0.87087,     0.87187,     0.87287,     0.87387,     0.87487,     0.87588,     0.87688,     0.87788,     0.87888,     0.87988,     0.88088,     0.88188,     0.88288,     0.88388,     0.88488,     0.88589,     0.88689,     0.88789,\n",
       "           0.88889,     0.88989,     0.89089,     0.89189,     0.89289,     0.89389,     0.89489,      0.8959,      0.8969,      0.8979,      0.8989,      0.8999,      0.9009,      0.9019,      0.9029,      0.9039,      0.9049,     0.90591,     0.90691,     0.90791,     0.90891,     0.90991,     0.91091,     0.91191,\n",
       "           0.91291,     0.91391,     0.91491,     0.91592,     0.91692,     0.91792,     0.91892,     0.91992,     0.92092,     0.92192,     0.92292,     0.92392,     0.92492,     0.92593,     0.92693,     0.92793,     0.92893,     0.92993,     0.93093,     0.93193,     0.93293,     0.93393,     0.93493,     0.93594,\n",
       "           0.93694,     0.93794,     0.93894,     0.93994,     0.94094,     0.94194,     0.94294,     0.94394,     0.94494,     0.94595,     0.94695,     0.94795,     0.94895,     0.94995,     0.95095,     0.95195,     0.95295,     0.95395,     0.95495,     0.95596,     0.95696,     0.95796,     0.95896,     0.95996,\n",
       "           0.96096,     0.96196,     0.96296,     0.96396,     0.96496,     0.96597,     0.96697,     0.96797,     0.96897,     0.96997,     0.97097,     0.97197,     0.97297,     0.97397,     0.97497,     0.97598,     0.97698,     0.97798,     0.97898,     0.97998,     0.98098,     0.98198,     0.98298,     0.98398,\n",
       "           0.98498,     0.98599,     0.98699,     0.98799,     0.98899,     0.98999,     0.99099,     0.99199,     0.99299,     0.99399,     0.99499,       0.996,       0.997,       0.998,       0.999,           1]), array([[       0.05,        0.05,    0.087513, ...,           1,           1,           1],\n",
       "       [   0.073171,    0.073171,     0.10168, ...,           1,           1,           1],\n",
       "       [   0.071429,    0.071429,     0.11046, ...,           1,           1,           1],\n",
       "       ...,\n",
       "       [          0,           0,           0, ...,           0,           0,           0],\n",
       "       [   0.099305,    0.099339,     0.13154, ...,           1,           1,           1],\n",
       "       [          0,           0,           0, ...,           1,           1,           1]]), 'Confidence', 'Precision'], [array([          0,    0.001001,    0.002002,    0.003003,    0.004004,    0.005005,    0.006006,    0.007007,    0.008008,    0.009009,     0.01001,    0.011011,    0.012012,    0.013013,    0.014014,    0.015015,    0.016016,    0.017017,    0.018018,    0.019019,     0.02002,    0.021021,    0.022022,    0.023023,\n",
       "          0.024024,    0.025025,    0.026026,    0.027027,    0.028028,    0.029029,     0.03003,    0.031031,    0.032032,    0.033033,    0.034034,    0.035035,    0.036036,    0.037037,    0.038038,    0.039039,     0.04004,    0.041041,    0.042042,    0.043043,    0.044044,    0.045045,    0.046046,    0.047047,\n",
       "          0.048048,    0.049049,     0.05005,    0.051051,    0.052052,    0.053053,    0.054054,    0.055055,    0.056056,    0.057057,    0.058058,    0.059059,     0.06006,    0.061061,    0.062062,    0.063063,    0.064064,    0.065065,    0.066066,    0.067067,    0.068068,    0.069069,     0.07007,    0.071071,\n",
       "          0.072072,    0.073073,    0.074074,    0.075075,    0.076076,    0.077077,    0.078078,    0.079079,     0.08008,    0.081081,    0.082082,    0.083083,    0.084084,    0.085085,    0.086086,    0.087087,    0.088088,    0.089089,     0.09009,    0.091091,    0.092092,    0.093093,    0.094094,    0.095095,\n",
       "          0.096096,    0.097097,    0.098098,    0.099099,      0.1001,      0.1011,      0.1021,      0.1031,      0.1041,     0.10511,     0.10611,     0.10711,     0.10811,     0.10911,     0.11011,     0.11111,     0.11211,     0.11311,     0.11411,     0.11512,     0.11612,     0.11712,     0.11812,     0.11912,\n",
       "           0.12012,     0.12112,     0.12212,     0.12312,     0.12412,     0.12513,     0.12613,     0.12713,     0.12813,     0.12913,     0.13013,     0.13113,     0.13213,     0.13313,     0.13413,     0.13514,     0.13614,     0.13714,     0.13814,     0.13914,     0.14014,     0.14114,     0.14214,     0.14314,\n",
       "           0.14414,     0.14515,     0.14615,     0.14715,     0.14815,     0.14915,     0.15015,     0.15115,     0.15215,     0.15315,     0.15415,     0.15516,     0.15616,     0.15716,     0.15816,     0.15916,     0.16016,     0.16116,     0.16216,     0.16316,     0.16416,     0.16517,     0.16617,     0.16717,\n",
       "           0.16817,     0.16917,     0.17017,     0.17117,     0.17217,     0.17317,     0.17417,     0.17518,     0.17618,     0.17718,     0.17818,     0.17918,     0.18018,     0.18118,     0.18218,     0.18318,     0.18418,     0.18519,     0.18619,     0.18719,     0.18819,     0.18919,     0.19019,     0.19119,\n",
       "           0.19219,     0.19319,     0.19419,      0.1952,      0.1962,      0.1972,      0.1982,      0.1992,      0.2002,      0.2012,      0.2022,      0.2032,      0.2042,     0.20521,     0.20621,     0.20721,     0.20821,     0.20921,     0.21021,     0.21121,     0.21221,     0.21321,     0.21421,     0.21522,\n",
       "           0.21622,     0.21722,     0.21822,     0.21922,     0.22022,     0.22122,     0.22222,     0.22322,     0.22422,     0.22523,     0.22623,     0.22723,     0.22823,     0.22923,     0.23023,     0.23123,     0.23223,     0.23323,     0.23423,     0.23524,     0.23624,     0.23724,     0.23824,     0.23924,\n",
       "           0.24024,     0.24124,     0.24224,     0.24324,     0.24424,     0.24525,     0.24625,     0.24725,     0.24825,     0.24925,     0.25025,     0.25125,     0.25225,     0.25325,     0.25425,     0.25526,     0.25626,     0.25726,     0.25826,     0.25926,     0.26026,     0.26126,     0.26226,     0.26326,\n",
       "           0.26426,     0.26527,     0.26627,     0.26727,     0.26827,     0.26927,     0.27027,     0.27127,     0.27227,     0.27327,     0.27427,     0.27528,     0.27628,     0.27728,     0.27828,     0.27928,     0.28028,     0.28128,     0.28228,     0.28328,     0.28428,     0.28529,     0.28629,     0.28729,\n",
       "           0.28829,     0.28929,     0.29029,     0.29129,     0.29229,     0.29329,     0.29429,      0.2953,      0.2963,      0.2973,      0.2983,      0.2993,      0.3003,      0.3013,      0.3023,      0.3033,      0.3043,     0.30531,     0.30631,     0.30731,     0.30831,     0.30931,     0.31031,     0.31131,\n",
       "           0.31231,     0.31331,     0.31431,     0.31532,     0.31632,     0.31732,     0.31832,     0.31932,     0.32032,     0.32132,     0.32232,     0.32332,     0.32432,     0.32533,     0.32633,     0.32733,     0.32833,     0.32933,     0.33033,     0.33133,     0.33233,     0.33333,     0.33433,     0.33534,\n",
       "           0.33634,     0.33734,     0.33834,     0.33934,     0.34034,     0.34134,     0.34234,     0.34334,     0.34434,     0.34535,     0.34635,     0.34735,     0.34835,     0.34935,     0.35035,     0.35135,     0.35235,     0.35335,     0.35435,     0.35536,     0.35636,     0.35736,     0.35836,     0.35936,\n",
       "           0.36036,     0.36136,     0.36236,     0.36336,     0.36436,     0.36537,     0.36637,     0.36737,     0.36837,     0.36937,     0.37037,     0.37137,     0.37237,     0.37337,     0.37437,     0.37538,     0.37638,     0.37738,     0.37838,     0.37938,     0.38038,     0.38138,     0.38238,     0.38338,\n",
       "           0.38438,     0.38539,     0.38639,     0.38739,     0.38839,     0.38939,     0.39039,     0.39139,     0.39239,     0.39339,     0.39439,      0.3954,      0.3964,      0.3974,      0.3984,      0.3994,      0.4004,      0.4014,      0.4024,      0.4034,      0.4044,     0.40541,     0.40641,     0.40741,\n",
       "           0.40841,     0.40941,     0.41041,     0.41141,     0.41241,     0.41341,     0.41441,     0.41542,     0.41642,     0.41742,     0.41842,     0.41942,     0.42042,     0.42142,     0.42242,     0.42342,     0.42442,     0.42543,     0.42643,     0.42743,     0.42843,     0.42943,     0.43043,     0.43143,\n",
       "           0.43243,     0.43343,     0.43443,     0.43544,     0.43644,     0.43744,     0.43844,     0.43944,     0.44044,     0.44144,     0.44244,     0.44344,     0.44444,     0.44545,     0.44645,     0.44745,     0.44845,     0.44945,     0.45045,     0.45145,     0.45245,     0.45345,     0.45445,     0.45546,\n",
       "           0.45646,     0.45746,     0.45846,     0.45946,     0.46046,     0.46146,     0.46246,     0.46346,     0.46446,     0.46547,     0.46647,     0.46747,     0.46847,     0.46947,     0.47047,     0.47147,     0.47247,     0.47347,     0.47447,     0.47548,     0.47648,     0.47748,     0.47848,     0.47948,\n",
       "           0.48048,     0.48148,     0.48248,     0.48348,     0.48448,     0.48549,     0.48649,     0.48749,     0.48849,     0.48949,     0.49049,     0.49149,     0.49249,     0.49349,     0.49449,      0.4955,      0.4965,      0.4975,      0.4985,      0.4995,      0.5005,      0.5015,      0.5025,      0.5035,\n",
       "            0.5045,     0.50551,     0.50651,     0.50751,     0.50851,     0.50951,     0.51051,     0.51151,     0.51251,     0.51351,     0.51451,     0.51552,     0.51652,     0.51752,     0.51852,     0.51952,     0.52052,     0.52152,     0.52252,     0.52352,     0.52452,     0.52553,     0.52653,     0.52753,\n",
       "           0.52853,     0.52953,     0.53053,     0.53153,     0.53253,     0.53353,     0.53453,     0.53554,     0.53654,     0.53754,     0.53854,     0.53954,     0.54054,     0.54154,     0.54254,     0.54354,     0.54454,     0.54555,     0.54655,     0.54755,     0.54855,     0.54955,     0.55055,     0.55155,\n",
       "           0.55255,     0.55355,     0.55455,     0.55556,     0.55656,     0.55756,     0.55856,     0.55956,     0.56056,     0.56156,     0.56256,     0.56356,     0.56456,     0.56557,     0.56657,     0.56757,     0.56857,     0.56957,     0.57057,     0.57157,     0.57257,     0.57357,     0.57457,     0.57558,\n",
       "           0.57658,     0.57758,     0.57858,     0.57958,     0.58058,     0.58158,     0.58258,     0.58358,     0.58458,     0.58559,     0.58659,     0.58759,     0.58859,     0.58959,     0.59059,     0.59159,     0.59259,     0.59359,     0.59459,      0.5956,      0.5966,      0.5976,      0.5986,      0.5996,\n",
       "            0.6006,      0.6016,      0.6026,      0.6036,      0.6046,     0.60561,     0.60661,     0.60761,     0.60861,     0.60961,     0.61061,     0.61161,     0.61261,     0.61361,     0.61461,     0.61562,     0.61662,     0.61762,     0.61862,     0.61962,     0.62062,     0.62162,     0.62262,     0.62362,\n",
       "           0.62462,     0.62563,     0.62663,     0.62763,     0.62863,     0.62963,     0.63063,     0.63163,     0.63263,     0.63363,     0.63463,     0.63564,     0.63664,     0.63764,     0.63864,     0.63964,     0.64064,     0.64164,     0.64264,     0.64364,     0.64464,     0.64565,     0.64665,     0.64765,\n",
       "           0.64865,     0.64965,     0.65065,     0.65165,     0.65265,     0.65365,     0.65465,     0.65566,     0.65666,     0.65766,     0.65866,     0.65966,     0.66066,     0.66166,     0.66266,     0.66366,     0.66466,     0.66567,     0.66667,     0.66767,     0.66867,     0.66967,     0.67067,     0.67167,\n",
       "           0.67267,     0.67367,     0.67467,     0.67568,     0.67668,     0.67768,     0.67868,     0.67968,     0.68068,     0.68168,     0.68268,     0.68368,     0.68468,     0.68569,     0.68669,     0.68769,     0.68869,     0.68969,     0.69069,     0.69169,     0.69269,     0.69369,     0.69469,      0.6957,\n",
       "            0.6967,      0.6977,      0.6987,      0.6997,      0.7007,      0.7017,      0.7027,      0.7037,      0.7047,     0.70571,     0.70671,     0.70771,     0.70871,     0.70971,     0.71071,     0.71171,     0.71271,     0.71371,     0.71471,     0.71572,     0.71672,     0.71772,     0.71872,     0.71972,\n",
       "           0.72072,     0.72172,     0.72272,     0.72372,     0.72472,     0.72573,     0.72673,     0.72773,     0.72873,     0.72973,     0.73073,     0.73173,     0.73273,     0.73373,     0.73473,     0.73574,     0.73674,     0.73774,     0.73874,     0.73974,     0.74074,     0.74174,     0.74274,     0.74374,\n",
       "           0.74474,     0.74575,     0.74675,     0.74775,     0.74875,     0.74975,     0.75075,     0.75175,     0.75275,     0.75375,     0.75475,     0.75576,     0.75676,     0.75776,     0.75876,     0.75976,     0.76076,     0.76176,     0.76276,     0.76376,     0.76476,     0.76577,     0.76677,     0.76777,\n",
       "           0.76877,     0.76977,     0.77077,     0.77177,     0.77277,     0.77377,     0.77477,     0.77578,     0.77678,     0.77778,     0.77878,     0.77978,     0.78078,     0.78178,     0.78278,     0.78378,     0.78478,     0.78579,     0.78679,     0.78779,     0.78879,     0.78979,     0.79079,     0.79179,\n",
       "           0.79279,     0.79379,     0.79479,      0.7958,      0.7968,      0.7978,      0.7988,      0.7998,      0.8008,      0.8018,      0.8028,      0.8038,      0.8048,     0.80581,     0.80681,     0.80781,     0.80881,     0.80981,     0.81081,     0.81181,     0.81281,     0.81381,     0.81481,     0.81582,\n",
       "           0.81682,     0.81782,     0.81882,     0.81982,     0.82082,     0.82182,     0.82282,     0.82382,     0.82482,     0.82583,     0.82683,     0.82783,     0.82883,     0.82983,     0.83083,     0.83183,     0.83283,     0.83383,     0.83483,     0.83584,     0.83684,     0.83784,     0.83884,     0.83984,\n",
       "           0.84084,     0.84184,     0.84284,     0.84384,     0.84484,     0.84585,     0.84685,     0.84785,     0.84885,     0.84985,     0.85085,     0.85185,     0.85285,     0.85385,     0.85485,     0.85586,     0.85686,     0.85786,     0.85886,     0.85986,     0.86086,     0.86186,     0.86286,     0.86386,\n",
       "           0.86486,     0.86587,     0.86687,     0.86787,     0.86887,     0.86987,     0.87087,     0.87187,     0.87287,     0.87387,     0.87487,     0.87588,     0.87688,     0.87788,     0.87888,     0.87988,     0.88088,     0.88188,     0.88288,     0.88388,     0.88488,     0.88589,     0.88689,     0.88789,\n",
       "           0.88889,     0.88989,     0.89089,     0.89189,     0.89289,     0.89389,     0.89489,      0.8959,      0.8969,      0.8979,      0.8989,      0.8999,      0.9009,      0.9019,      0.9029,      0.9039,      0.9049,     0.90591,     0.90691,     0.90791,     0.90891,     0.90991,     0.91091,     0.91191,\n",
       "           0.91291,     0.91391,     0.91491,     0.91592,     0.91692,     0.91792,     0.91892,     0.91992,     0.92092,     0.92192,     0.92292,     0.92392,     0.92492,     0.92593,     0.92693,     0.92793,     0.92893,     0.92993,     0.93093,     0.93193,     0.93293,     0.93393,     0.93493,     0.93594,\n",
       "           0.93694,     0.93794,     0.93894,     0.93994,     0.94094,     0.94194,     0.94294,     0.94394,     0.94494,     0.94595,     0.94695,     0.94795,     0.94895,     0.94995,     0.95095,     0.95195,     0.95295,     0.95395,     0.95495,     0.95596,     0.95696,     0.95796,     0.95896,     0.95996,\n",
       "           0.96096,     0.96196,     0.96296,     0.96396,     0.96496,     0.96597,     0.96697,     0.96797,     0.96897,     0.96997,     0.97097,     0.97197,     0.97297,     0.97397,     0.97497,     0.97598,     0.97698,     0.97798,     0.97898,     0.97998,     0.98098,     0.98198,     0.98298,     0.98398,\n",
       "           0.98498,     0.98599,     0.98699,     0.98799,     0.98899,     0.98999,     0.99099,     0.99199,     0.99299,     0.99399,     0.99499,       0.996,       0.997,       0.998,       0.999,           1]), array([[    0.71429,     0.71429,     0.71429, ...,           0,           0,           0],\n",
       "       [     0.9375,      0.9375,      0.8125, ...,           0,           0,           0],\n",
       "       [          1,           1,           1, ...,           0,           0,           0],\n",
       "       ...,\n",
       "       [          0,           0,           0, ...,           0,           0,           0],\n",
       "       [    0.90909,     0.90909,         0.9, ...,           0,           0,           0],\n",
       "       [          0,           0,           0, ...,           0,           0,           0]]), 'Confidence', 'Recall']]\n",
       "fitness: 0.35707639367226796\n",
       "keys: ['metrics/precision(B)', 'metrics/recall(B)', 'metrics/mAP50(B)', 'metrics/mAP50-95(B)']\n",
       "maps: array([     0.3298,     0.32687,       0.796,     0.51212,           0,     0.44025,           0])\n",
       "names: {0: 'auto', 1: 'bike', 2: 'bus', 3: 'car', 4: 'cycle', 5: 'person', 6: 'truck'}\n",
       "plot: True\n",
       "results_dict: {'metrics/precision(B)': 0.3730153010228655, 'metrics/recall(B)': 0.49006648113790974, 'metrics/mAP50(B)': 0.4785648004254175, 'metrics/mAP50-95(B)': 0.34357768181080683, 'fitness': 0.35707639367226796}\n",
       "save_dir: WindowsPath('runs/detect/train26')\n",
       "speed: {'preprocess': 2.006053924560547, 'inference': 171.51893377304077, 'loss': 0.0, 'postprocess': 0.6525278091430664}\n",
       "task: 'detect'"
      ]
     },
     "execution_count": 4,
     "metadata": {},
     "output_type": "execute_result"
    }
   ],
   "source": [
    "from ultralytics import YOLO\n",
    "\n",
    "# Load YOLOv5 model (you can use yolov5n.pt, yolov5s.pt, yolov5m.pt, etc.)\n",
    "model = YOLO(\"yolov5s.pt\")  # 's' is small, change to 'm' or 'l' for bigger models\n",
    "\n",
    "# Train YOLOv5 model\n",
    "model.train(data=\"C:/Users/bhavy/Downloads/yolov8/data.yaml\", epochs=50, imgsz=640, batch=16)\n"
   ]
  },
  {
   "cell_type": "code",
   "execution_count": 5,
   "id": "c91407b4",
   "metadata": {},
   "outputs": [
    {
     "name": "stdout",
     "output_type": "stream",
     "text": [
      "\n",
      "image 1/10 C:\\Users\\bhavy\\Downloads\\yolov8\\test\\images\\PXL_20250104_110226399_jpg.rf.6011c7a27d5b5c6512611e363e5d9911.jpg: 640x640 7 bikes, 1 car, 17 persons, 345.6ms\n",
      "image 2/10 C:\\Users\\bhavy\\Downloads\\yolov8\\test\\images\\PXL_20250104_110513819_jpg.rf.fdf405763a779d4861699678e39fef3d.jpg: 640x640 4 bikes, 28 persons, 270.6ms\n",
      "image 3/10 C:\\Users\\bhavy\\Downloads\\yolov8\\test\\images\\PXL_20250104_110519227_jpg.rf.5de98f346bd7a0dbca5d564bfe6b4f89.jpg: 640x640 8 bikes, 42 persons, 245.8ms\n",
      "image 4/10 C:\\Users\\bhavy\\Downloads\\yolov8\\test\\images\\PXL_20250104_110622635_jpg.rf.82ebe6bc61e959625cc50c5cffc560bb.jpg: 640x640 4 bikes, 25 persons, 279.4ms\n",
      "image 5/10 C:\\Users\\bhavy\\Downloads\\yolov8\\test\\images\\PXL_20250104_110937617_jpg.rf.487740be98c2e3183cd37e168db01466.jpg: 640x640 2 bikes, 2 persons, 1 truck, 268.5ms\n",
      "image 6/10 C:\\Users\\bhavy\\Downloads\\yolov8\\test\\images\\PXL_20250104_111020914_jpg.rf.d2e52a7a9cc4cb7a1b9eace2ea87e773.jpg: 640x640 11 bikes, 27 persons, 268.4ms\n",
      "image 7/10 C:\\Users\\bhavy\\Downloads\\yolov8\\test\\images\\PXL_20250104_111542390_jpg.rf.4a672851994bcffd50a5d252f1a70b35.jpg: 640x640 4 bikes, 14 persons, 252.0ms\n",
      "image 8/10 C:\\Users\\bhavy\\Downloads\\yolov8\\test\\images\\PXL_20250104_111900131_jpg.rf.e9e205ce0a65ff768c987c01988b00f7.jpg: 640x640 1 auto, 3 cars, 3 persons, 276.3ms\n",
      "image 9/10 C:\\Users\\bhavy\\Downloads\\yolov8\\test\\images\\PXL_20250104_112042095_jpg.rf.2bb665f7c1df2ac994e74dd8a0f01cac.jpg: 640x640 4 bikes, 1 car, 23 persons, 215.2ms\n",
      "image 10/10 C:\\Users\\bhavy\\Downloads\\yolov8\\test\\images\\PXL_20250104_112055017_jpg.rf.baf4d0f8fe63fa066d26e8635e6ae6bc.jpg: 640x640 2 bikes, 1 car, 21 persons, 247.8ms\n",
      "Speed: 3.3ms preprocess, 267.0ms inference, 1.9ms postprocess per image at shape (1, 3, 640, 640)\n",
      "Results saved to \u001b[1mruns\\detect\\predict21\u001b[0m\n",
      "10 labels saved to runs\\detect\\predict21\\labels\n"
     ]
    }
   ],
   "source": [
    "# Load YOLOv8 model\n",
    "from ultralytics import YOLO\n",
    "\n",
    "# Load trained model\n",
    "yolo8_model = YOLO(\"runs/detect/train3/weights/best.pt\")\n",
    "\n",
    "# Run inference with label saving enabled\n",
    "results8 = yolo8_model.predict(\"C:/Users/bhavy/Downloads/yolov8/test/images\", save=True, save_txt=True, conf=0.5)\n"
   ]
  },
  {
   "cell_type": "code",
   "execution_count": 6,
   "id": "f11f98a7",
   "metadata": {},
   "outputs": [
    {
     "name": "stdout",
     "output_type": "stream",
     "text": [
      "Current Directory: C:\\Users\\bhavy\\yolov5\n"
     ]
    }
   ],
   "source": [
    "import os\n",
    "\n",
    "# Change directory to YOLOv5\n",
    "os.chdir(\"C:/Users/bhavy/yolov5\")\n",
    "\n",
    "# Confirm current directory\n",
    "print(\"Current Directory:\", os.getcwd())\n"
   ]
  },
  {
   "cell_type": "code",
   "execution_count": 7,
   "id": "986a7d34",
   "metadata": {},
   "outputs": [
    {
     "name": "stdout",
     "output_type": "stream",
     "text": [
      "['.dockerignore', '.git', '.gitattributes', '.github', '.gitignore', 'benchmarks.py', 'CITATION.cff', 'classify', 'CONTRIBUTING.md', 'data', 'detect.py', 'export.py', 'hubconf.py', 'LICENSE', 'models', 'output_images', 'pyproject.toml', 'README.md', 'README.zh-CN.md', 'requirements.txt', 'results_000012.png', 'results_000030.png', 'results_000044.png', 'results_000071.png', 'results_000086.png', 'results_000098.png', 'results_000105.png', 'results_000122.png', 'results_000129.png', 'results_000136.png', 'results_000140.png', 'results_000155.png', 'results_000159.png', 'results_000164.png', 'results_000165.png', 'results_000192.png', 'results_000204.png', 'results_000253.png', 'results_000255.png', 'results_000262.png', 'results_000277.png', 'results_000279.png', 'results_000281.png', 'results_000294.png', 'runs', 'segment', 'train.py', 'tutorial.ipynb', 'utils', 'val.py', 'yolov5', 'yolov5s.pt', 'yolov5su.pt', 'yolov8s.pt', '__pycache__']\n"
     ]
    }
   ],
   "source": [
    "import os\n",
    "\n",
    "# List YOLOv5 files\n",
    "print(os.listdir(\"C:/Users/bhavy/yolov5\"))\n"
   ]
  },
  {
   "cell_type": "code",
   "execution_count": 8,
   "id": "8a696b94",
   "metadata": {},
   "outputs": [
    {
     "name": "stdout",
     "output_type": "stream",
     "text": [
      "Predicted class id: 5\n",
      "Available class names: {0: 'auto', 1: 'bike', 2: 'bus', 3: 'car', 4: 'cycle', 5: 'person', 6: 'truck'}\n",
      "Predicted class id: 5\n",
      "Available class names: {0: 'auto', 1: 'bike', 2: 'bus', 3: 'car', 4: 'cycle', 5: 'person', 6: 'truck'}\n",
      "Predicted class id: 5\n",
      "Available class names: {0: 'auto', 1: 'bike', 2: 'bus', 3: 'car', 4: 'cycle', 5: 'person', 6: 'truck'}\n",
      "Predicted class id: 5\n",
      "Available class names: {0: 'auto', 1: 'bike', 2: 'bus', 3: 'car', 4: 'cycle', 5: 'person', 6: 'truck'}\n",
      "Predicted class id: 5\n",
      "Available class names: {0: 'auto', 1: 'bike', 2: 'bus', 3: 'car', 4: 'cycle', 5: 'person', 6: 'truck'}\n",
      "Predicted class id: 5\n",
      "Available class names: {0: 'auto', 1: 'bike', 2: 'bus', 3: 'car', 4: 'cycle', 5: 'person', 6: 'truck'}\n",
      "Predicted class id: 5\n",
      "Available class names: {0: 'auto', 1: 'bike', 2: 'bus', 3: 'car', 4: 'cycle', 5: 'person', 6: 'truck'}\n",
      "Predicted class id: 5\n",
      "Available class names: {0: 'auto', 1: 'bike', 2: 'bus', 3: 'car', 4: 'cycle', 5: 'person', 6: 'truck'}\n",
      "Predicted class id: 5\n",
      "Available class names: {0: 'auto', 1: 'bike', 2: 'bus', 3: 'car', 4: 'cycle', 5: 'person', 6: 'truck'}\n",
      "Predicted class id: 5\n",
      "Available class names: {0: 'auto', 1: 'bike', 2: 'bus', 3: 'car', 4: 'cycle', 5: 'person', 6: 'truck'}\n"
     ]
    },
    {
     "name": "stderr",
     "output_type": "stream",
     "text": [
      "\u001b[34m\u001b[1mdetect: \u001b[0mweights=['runs/train/exp2/weights/best.pt'], source=C:/Users/bhavy/Downloads/yolov8/test/images, data=data\\coco128.yaml, imgsz=[640, 640], conf_thres=0.5, iou_thres=0.45, max_det=1000, device=, view_img=False, save_txt=True, save_format=0, save_csv=False, save_conf=True, save_crop=False, nosave=False, classes=None, agnostic_nms=False, augment=False, visualize=False, update=False, project=runs\\detect, name=exp, exist_ok=False, line_thickness=3, hide_labels=False, hide_conf=False, half=False, dnn=False, vid_stride=1\n",
      "YOLOv5  v7.0-398-g5cdad892 Python-3.11.5 torch-2.2.2 CPU\n",
      "\n",
      "Fusing layers... \n",
      "Model summary: 157 layers, 7029004 parameters, 0 gradients, 15.8 GFLOPs\n",
      "image 1/10 C:\\Users\\bhavy\\Downloads\\yolov8\\test\\images\\PXL_20250104_110226399_jpg.rf.6011c7a27d5b5c6512611e363e5d9911.jpg: 640x640 4 persons, 286.9ms\n",
      "image 2/10 C:\\Users\\bhavy\\Downloads\\yolov8\\test\\images\\PXL_20250104_110513819_jpg.rf.fdf405763a779d4861699678e39fef3d.jpg: 640x640 4 persons, 270.0ms\n",
      "image 3/10 C:\\Users\\bhavy\\Downloads\\yolov8\\test\\images\\PXL_20250104_110519227_jpg.rf.5de98f346bd7a0dbca5d564bfe6b4f89.jpg: 640x640 4 persons, 258.9ms\n",
      "image 4/10 C:\\Users\\bhavy\\Downloads\\yolov8\\test\\images\\PXL_20250104_110622635_jpg.rf.82ebe6bc61e959625cc50c5cffc560bb.jpg: 640x640 4 persons, 266.2ms\n",
      "image 5/10 C:\\Users\\bhavy\\Downloads\\yolov8\\test\\images\\PXL_20250104_110937617_jpg.rf.487740be98c2e3183cd37e168db01466.jpg: 640x640 1 person, 263.2ms\n",
      "image 6/10 C:\\Users\\bhavy\\Downloads\\yolov8\\test\\images\\PXL_20250104_111020914_jpg.rf.d2e52a7a9cc4cb7a1b9eace2ea87e773.jpg: 640x640 2 persons, 265.0ms\n",
      "image 7/10 C:\\Users\\bhavy\\Downloads\\yolov8\\test\\images\\PXL_20250104_111542390_jpg.rf.4a672851994bcffd50a5d252f1a70b35.jpg: 640x640 2 persons, 287.3ms\n",
      "image 8/10 C:\\Users\\bhavy\\Downloads\\yolov8\\test\\images\\PXL_20250104_111900131_jpg.rf.e9e205ce0a65ff768c987c01988b00f7.jpg: 640x640 1 person, 259.6ms\n",
      "image 9/10 C:\\Users\\bhavy\\Downloads\\yolov8\\test\\images\\PXL_20250104_112042095_jpg.rf.2bb665f7c1df2ac994e74dd8a0f01cac.jpg: 640x640 5 persons, 266.8ms\n",
      "image 10/10 C:\\Users\\bhavy\\Downloads\\yolov8\\test\\images\\PXL_20250104_112055017_jpg.rf.baf4d0f8fe63fa066d26e8635e6ae6bc.jpg: 640x640 2 persons, 315.3ms\n",
      "Speed: 1.5ms pre-process, 273.9ms inference, 0.8ms NMS per image at shape (1, 3, 640, 640)\n",
      "Results saved to \u001b[1mruns\\detect\\exp9\u001b[0m\n",
      "10 labels saved to runs\\detect\\exp9\\labels\n"
     ]
    }
   ],
   "source": [
    "!python detect.py --weights runs/train/exp2/weights/best.pt --img 640 --conf 0.5 --source \"C:/Users/bhavy/Downloads/yolov8/test/images\" --save-txt --save-conf\n"
   ]
  },
  {
   "cell_type": "code",
   "execution_count": 9,
   "id": "d58d6706",
   "metadata": {},
   "outputs": [
    {
     "name": "stdout",
     "output_type": "stream",
     "text": [
      "Merging completed! Merged results saved in: runs/detect/hybrid/labels\n"
     ]
    }
   ],
   "source": [
    "import os\n",
    "import numpy as np\n",
    "\n",
    "# Define paths\n",
    "yolov5_results = \"runs/detect/exp4/labels\"\n",
    "yolov8_results = \"runs/detect/predict3/labels\"\n",
    "merged_results = \"runs/detect/hybrid/labels\"\n",
    "\n",
    "# Create a directory for merged results\n",
    "os.makedirs(merged_results, exist_ok=True)\n",
    "\n",
    "# Merge detections\n",
    "for file in os.listdir(yolov5_results):\n",
    "    yolov5_path = os.path.join(yolov5_results, file)\n",
    "    yolov8_path = os.path.join(yolov8_results, file)\n",
    "\n",
    "    # Load YOLOv5 data (6 columns)\n",
    "    yolov5_data = np.loadtxt(yolov5_path) if os.path.exists(yolov5_path) else np.array([])\n",
    "    \n",
    "    # Load YOLOv8 data (5 columns) and add a confidence column\n",
    "    if os.path.exists(yolov8_path):\n",
    "        yolov8_data = np.loadtxt(yolov8_path)\n",
    "        if yolov8_data.ndim == 1:  # If single detection, reshape\n",
    "            yolov8_data = yolov8_data.reshape(1, -1)\n",
    "        yolov8_data = np.hstack((yolov8_data, np.ones((yolov8_data.shape[0], 1))))  # Add confidence=1.0\n",
    "    else:\n",
    "        yolov8_data = np.array([])\n",
    "\n",
    "    # Convert to 2D arrays if single detection\n",
    "    if yolov5_data.ndim == 1:\n",
    "        yolov5_data = yolov5_data.reshape(1, -1)\n",
    "\n",
    "    # Merge results\n",
    "    if yolov5_data.size and yolov8_data.size:\n",
    "        merged_data = np.vstack((yolov5_data, yolov8_data))\n",
    "    elif yolov5_data.size:\n",
    "        merged_data = yolov5_data\n",
    "    else:\n",
    "        merged_data = yolov8_data\n",
    "\n",
    "    # Save merged results\n",
    "    np.savetxt(os.path.join(merged_results, file), merged_data, fmt=\"%.6f\")\n",
    "\n",
    "print(\"Merging completed! Merged results saved in:\", merged_results)\n"
   ]
  },
  {
   "cell_type": "code",
   "execution_count": 10,
   "id": "f59d2a3d",
   "metadata": {},
   "outputs": [
    {
     "name": "stdout",
     "output_type": "stream",
     "text": [
      "✅ Precision: 0.2000\n",
      "✅ Recall:    0.7703\n",
      "✅ F1 Score:  0.3175\n"
     ]
    }
   ],
   "source": [
    "import os\n",
    "import glob\n",
    "import numpy as np\n",
    "from sklearn.metrics import average_precision_score\n",
    "\n",
    "ground_truth_path = \"C:/Users/bhavy/Downloads/yolov8/test/labels\"\n",
    "predicted_path = \"runs/detect/hybrid/labels\"\n",
    "\n",
    "TP, FP, FN = 0, 0, 0\n",
    "IoU_thresholds = np.linspace(0.5, 0.95, 10)\n",
    "\n",
    "y_true_all = []\n",
    "y_score_all = []\n",
    "\n",
    "def compute_iou(box1, box2):\n",
    "    x1, y1, w1, h1 = box1[1:5]\n",
    "    x2, y2, w2, h2 = box2[1:5]\n",
    "\n",
    "    box1 = [x1 - w1/2, y1 - h1/2, x1 + w1/2, y1 + h1/2]\n",
    "    box2 = [x2 - w2/2, y2 - h2/2, x2 + w2/2, y2 + h2/2]\n",
    "\n",
    "    xi1, yi1 = max(box1[0], box2[0]), max(box1[1], box2[1])\n",
    "    xi2, yi2 = min(box1[2], box2[2]), min(box1[3], box2[3])\n",
    "\n",
    "    inter_area = max(0, xi2 - xi1) * max(0, yi2 - yi1)\n",
    "    union_area = (box1[2]-box1[0]) * (box1[3]-box1[1]) + (box2[2]-box2[0]) * (box2[3]-box2[1]) - inter_area\n",
    "\n",
    "    return inter_area / union_area if union_area else 0\n",
    "\n",
    "for gt_file in glob.glob(f\"{ground_truth_path}/*.txt\"):\n",
    "    file_name = os.path.basename(gt_file)\n",
    "    gt_boxes = np.loadtxt(gt_file)\n",
    "    pred_boxes_path = f\"{predicted_path}/{file_name}\"\n",
    "\n",
    "    if gt_boxes.ndim == 1:\n",
    "        gt_boxes = gt_boxes.reshape(1, -1)\n",
    "\n",
    "    if not os.path.exists(pred_boxes_path):\n",
    "        FN += len(gt_boxes)\n",
    "        y_true_all.extend([1] * len(gt_boxes))\n",
    "        y_score_all.extend([0] * len(gt_boxes))\n",
    "        continue\n",
    "\n",
    "    pred_boxes = np.loadtxt(pred_boxes_path)\n",
    "    if pred_boxes.ndim == 1:\n",
    "        pred_boxes = pred_boxes.reshape(1, -1)\n",
    "\n",
    "    # Filter low confidence predictions\n",
    "    pred_boxes = pred_boxes[pred_boxes[:, -1] >= 0.25]\n",
    "    matched = []\n",
    "\n",
    "    for gt_box in gt_boxes:\n",
    "        best_iou, best_idx = 0, -1\n",
    "        for i, pred_box in enumerate(pred_boxes):\n",
    "            if i in matched:\n",
    "                continue\n",
    "            if int(gt_box[0]) != int(pred_box[0]):\n",
    "                continue\n",
    "            iou = compute_iou(gt_box, pred_box)\n",
    "            if iou > best_iou:\n",
    "                best_iou = iou\n",
    "                best_idx = i\n",
    "\n",
    "        if best_iou >= 0.5:\n",
    "            TP += 1\n",
    "            matched.append(best_idx)\n",
    "            y_true_all.append(1)\n",
    "            y_score_all.append(pred_boxes[best_idx][-1])\n",
    "        else:\n",
    "            FN += 1\n",
    "            y_true_all.append(1)\n",
    "            y_score_all.append(0)\n",
    "\n",
    "    unmatched_indices = [i for i in range(len(pred_boxes)) if i not in matched]\n",
    "    FP += len(unmatched_indices)\n",
    "    y_true_all.extend([0] * len(unmatched_indices))\n",
    "    if unmatched_indices:\n",
    "        y_score_all.extend(pred_boxes[unmatched_indices, -1])\n",
    "\n",
    "# Metrics\n",
    "precision = TP / (TP + FP) if (TP + FP) else 0\n",
    "recall = TP / (TP + FN) if (TP + FN) else 0\n",
    "f1_score = 2 * (precision * recall) / (precision + recall) if (precision + recall) else 0\n",
    "mAP_50 = average_precision_score(y_true_all, y_score_all) if y_true_all else 0\n",
    "mAP_50_95 = np.mean([average_precision_score(y_true_all, y_score_all) for _ in IoU_thresholds]) if y_true_all else 0\n",
    "\n",
    "print(f\"✅ Precision: {precision:.4f}\")\n",
    "print(f\"✅ Recall:    {recall:.4f}\")\n",
    "print(f\"✅ F1 Score:  {f1_score:.4f}\")\n",
    "\n"
   ]
  },
  {
   "cell_type": "code",
   "execution_count": 11,
   "id": "ddf09a81",
   "metadata": {},
   "outputs": [
    {
     "name": "stdout",
     "output_type": "stream",
     "text": [
      "mAP@50: 0.1541\n",
      "mAP@50-95: 0.0810\n"
     ]
    }
   ],
   "source": [
    "import glob\n",
    "import numpy as np\n",
    "from sklearn.metrics import average_precision_score\n",
    "\n",
    "# Define paths\n",
    "ground_truth_path = \"C:/Users/bhavy/Downloads/yolov8/test/labels\"\n",
    "predicted_path = \"runs/detect/hybrid/labels\"\n",
    "\n",
    "# Initialize lists to store AP values\n",
    "AP_50 = []\n",
    "AP_50_95 = []\n",
    "\n",
    "IoU_thresholds = np.arange(0.5, 1.0, 0.05)  # 0.5 to 0.95 with step 0.05\n",
    "\n",
    "# Function to compute IoU\n",
    "def compute_iou(box1, box2):\n",
    "    x1, y1, w1, h1 = box1[1:5]\n",
    "    x2, y2, w2, h2 = box2[1:5]\n",
    "\n",
    "    box1 = [x1 - w1/2, y1 - h1/2, x1 + w1/2, y1 + h1/2]\n",
    "    box2 = [x2 - w2/2, y2 - h2/2, x2 + w2/2, y2 + h2/2]\n",
    "\n",
    "    xi1, yi1 = max(box1[0], box2[0]), max(box1[1], box2[1])\n",
    "    xi2, yi2 = min(box1[2], box2[2]), min(box1[3], box2[3])\n",
    "    inter_area = max(0, xi2 - xi1) * max(0, yi2 - yi1)\n",
    "\n",
    "    box1_area = w1 * h1\n",
    "    box2_area = w2 * h2\n",
    "    union_area = box1_area + box2_area - inter_area\n",
    "\n",
    "    return inter_area / union_area if union_area else 0\n",
    "\n",
    "# Loop over different IoU thresholds\n",
    "for iou_thresh in IoU_thresholds:\n",
    "    TP_iou, FP_iou, FN_iou = 0, 0, 0\n",
    "    \n",
    "    for gt_file in glob.glob(f\"{ground_truth_path}/*.txt\"):\n",
    "        file_name = os.path.basename(gt_file)\n",
    "        gt_boxes = np.loadtxt(gt_file)\n",
    "        pred_boxes = np.loadtxt(f\"{predicted_path}/{file_name}\")\n",
    "\n",
    "        matched = []\n",
    "        for gt_box in gt_boxes:\n",
    "            best_iou, best_pred_idx = 0, -1\n",
    "            for i, pred_box in enumerate(pred_boxes):\n",
    "                if i in matched or gt_box[0] != pred_box[0]:  # Class should match\n",
    "                    continue\n",
    "                iou = compute_iou(gt_box, pred_box)\n",
    "                if iou > best_iou:\n",
    "                    best_iou, best_pred_idx = iou, i\n",
    "            if best_iou >= iou_thresh:\n",
    "                TP_iou += 1\n",
    "                matched.append(best_pred_idx)\n",
    "            else:\n",
    "                FN_iou += 1\n",
    "\n",
    "        FP_iou += len(pred_boxes) - len(matched)\n",
    "\n",
    "    # Compute precision, recall, AP\n",
    "    precision_iou = TP_iou / (TP_iou + FP_iou) if (TP_iou + FP_iou) else 0\n",
    "    recall_iou = TP_iou / (TP_iou + FN_iou) if (TP_iou + FN_iou) else 0\n",
    "    ap_iou = precision_iou * recall_iou if TP_iou else 0  # Approximate AP\n",
    "\n",
    "    if iou_thresh == 0.5:\n",
    "        AP_50.append(ap_iou)  # Store AP at IoU=0.5\n",
    "    AP_50_95.append(ap_iou)  # Store AP for all IoU values\n",
    "\n",
    "# Compute final mAP scores\n",
    "mAP_50 = np.mean(AP_50)\n",
    "mAP_50_95 = np.mean(AP_50_95)\n",
    "\n",
    "print(f\"mAP@50: {mAP_50:.4f}\")\n",
    "print(f\"mAP@50-95: {mAP_50_95:.4f}\")\n"
   ]
  },
  {
   "cell_type": "code",
   "execution_count": 12,
   "id": "b4f1add1",
   "metadata": {
    "scrolled": true
   },
   "outputs": [
    {
     "name": "stdout",
     "output_type": "stream",
     "text": [
      "Requirement already satisfied: opencv-python in c:\\users\\bhavy\\anaconda32\\lib\\site-packages (4.9.0.80)\n",
      "Requirement already satisfied: torch in c:\\users\\bhavy\\anaconda32\\lib\\site-packages (2.2.2)\n",
      "Requirement already satisfied: torchvision in c:\\users\\bhavy\\anaconda32\\lib\\site-packages (0.17.2)\n",
      "Requirement already satisfied: timm in c:\\users\\bhavy\\anaconda32\\lib\\site-packages (1.0.15)\n",
      "Requirement already satisfied: numpy>=1.21.2 in c:\\users\\bhavy\\anaconda32\\lib\\site-packages (from opencv-python) (1.26.4)\n",
      "Requirement already satisfied: filelock in c:\\users\\bhavy\\anaconda32\\lib\\site-packages (from torch) (3.9.0)\n",
      "Requirement already satisfied: typing-extensions>=4.8.0 in c:\\users\\bhavy\\anaconda32\\lib\\site-packages (from torch) (4.12.2)\n",
      "Requirement already satisfied: sympy in c:\\users\\bhavy\\anaconda32\\lib\\site-packages (from torch) (1.11.1)\n",
      "Requirement already satisfied: networkx in c:\\users\\bhavy\\anaconda32\\lib\\site-packages (from torch) (3.1)\n",
      "Requirement already satisfied: jinja2 in c:\\users\\bhavy\\anaconda32\\lib\\site-packages (from torch) (3.1.2)\n",
      "Requirement already satisfied: fsspec in c:\\users\\bhavy\\anaconda32\\lib\\site-packages (from torch) (2023.4.0)\n",
      "Requirement already satisfied: pillow!=8.3.*,>=5.3.0 in c:\\users\\bhavy\\anaconda32\\lib\\site-packages (from torchvision) (11.1.0)\n",
      "Requirement already satisfied: pyyaml in c:\\users\\bhavy\\anaconda32\\lib\\site-packages (from timm) (6.0)\n",
      "Requirement already satisfied: huggingface_hub in c:\\users\\bhavy\\anaconda32\\lib\\site-packages (from timm) (0.15.1)\n",
      "Requirement already satisfied: safetensors in c:\\users\\bhavy\\anaconda32\\lib\\site-packages (from timm) (0.3.2)\n",
      "Requirement already satisfied: requests in c:\\users\\bhavy\\anaconda32\\lib\\site-packages (from huggingface_hub->timm) (2.32.3)\n",
      "Requirement already satisfied: tqdm>=4.42.1 in c:\\users\\bhavy\\anaconda32\\lib\\site-packages (from huggingface_hub->timm) (4.67.1)\n",
      "Requirement already satisfied: packaging>=20.9 in c:\\users\\bhavy\\anaconda32\\lib\\site-packages (from huggingface_hub->timm) (23.1)\n",
      "Requirement already satisfied: MarkupSafe>=2.0 in c:\\users\\bhavy\\anaconda32\\lib\\site-packages (from jinja2->torch) (2.1.1)\n",
      "Requirement already satisfied: mpmath>=0.19 in c:\\users\\bhavy\\anaconda32\\lib\\site-packages (from sympy->torch) (1.3.0)\n",
      "Requirement already satisfied: colorama in c:\\users\\bhavy\\anaconda32\\lib\\site-packages (from tqdm>=4.42.1->huggingface_hub->timm) (0.4.6)\n",
      "Requirement already satisfied: charset-normalizer<4,>=2 in c:\\users\\bhavy\\anaconda32\\lib\\site-packages (from requests->huggingface_hub->timm) (2.0.4)\n",
      "Requirement already satisfied: idna<4,>=2.5 in c:\\users\\bhavy\\anaconda32\\lib\\site-packages (from requests->huggingface_hub->timm) (3.7)\n",
      "Requirement already satisfied: urllib3<3,>=1.21.1 in c:\\users\\bhavy\\anaconda32\\lib\\site-packages (from requests->huggingface_hub->timm) (1.26.16)\n",
      "Requirement already satisfied: certifi>=2017.4.17 in c:\\users\\bhavy\\anaconda32\\lib\\site-packages (from requests->huggingface_hub->timm) (2024.2.2)\n",
      "Note: you may need to restart the kernel to use updated packages.\n"
     ]
    },
    {
     "name": "stderr",
     "output_type": "stream",
     "text": [
      "WARNING: Ignoring invalid distribution ~ip (C:\\Users\\bhavy\\AppData\\Roaming\\Python\\Python311\\site-packages)\n",
      "WARNING: Ignoring invalid distribution ~ip (C:\\Users\\bhavy\\AppData\\Roaming\\Python\\Python311\\site-packages)\n",
      "WARNING: Ignoring invalid distribution ~ip (C:\\Users\\bhavy\\AppData\\Roaming\\Python\\Python311\\site-packages)\n",
      "WARNING: Ignoring invalid distribution ~ip (C:\\Users\\bhavy\\AppData\\Roaming\\Python\\Python311\\site-packages)\n",
      "WARNING: Ignoring invalid distribution ~ip (C:\\Users\\bhavy\\AppData\\Roaming\\Python\\Python311\\site-packages)\n"
     ]
    }
   ],
   "source": [
    "pip install opencv-python torch torchvision timm\n"
   ]
  },
  {
   "cell_type": "code",
   "execution_count": 13,
   "id": "cd87d3e3",
   "metadata": {},
   "outputs": [
    {
     "name": "stderr",
     "output_type": "stream",
     "text": [
      "Using cache found in C:\\Users\\bhavy/.cache\\torch\\hub\\intel-isl_MiDaS_master\n"
     ]
    },
    {
     "name": "stdout",
     "output_type": "stream",
     "text": [
      "Loading weights:  None\n"
     ]
    },
    {
     "name": "stderr",
     "output_type": "stream",
     "text": [
      "Using cache found in C:\\Users\\bhavy/.cache\\torch\\hub\\rwightman_gen-efficientnet-pytorch_master\n"
     ]
    },
    {
     "name": "stdout",
     "output_type": "stream",
     "text": [
      "📌 Object 5 at (263,382) - (287,470) | Estimated Distance: 2.58 meters\n",
      "📌 Object 5 at (276,372) - (304,468) | Estimated Distance: 2.58 meters\n",
      "📌 Object 5 at (116,400) - (148,444) | Estimated Distance: 1.37 meters\n",
      "📌 Object 5 at (247,398) - (316,449) | Estimated Distance: 2.51 meters\n",
      "📌 Object 3 at (38,397) - (113,502) | Estimated Distance: 3.29 meters\n",
      "📌 Object 1 at (571,353) - (628,417) | Estimated Distance: 3.22 meters\n",
      "📌 Object 5 at (124,395) - (139,445) | Estimated Distance: 1.32 meters\n",
      "📌 Object 5 at (281,384) - (296,457) | Estimated Distance: 2.59 meters\n",
      "📌 Object 5 at (495,354) - (509,400) | Estimated Distance: 3.06 meters\n",
      "📌 Object 1 at (180,390) - (194,430) | Estimated Distance: 1.13 meters\n",
      "📌 Object 5 at (485,358) - (498,399) | Estimated Distance: 3.07 meters\n",
      "📌 Object 1 at (264,383) - (283,465) | Estimated Distance: 2.56 meters\n",
      "📌 Object 5 at (287,369) - (299,399) | Estimated Distance: 1.81 meters\n",
      "📌 Object 5 at (404,341) - (416,403) | Estimated Distance: 2.81 meters\n",
      "📌 Object 5 at (264,384) - (281,463) | Estimated Distance: 2.55 meters\n",
      "📌 Object 5 at (477,358) - (497,402) | Estimated Distance: 3.08 meters\n",
      "📌 Object 5 at (262,374) - (279,454) | Estimated Distance: 2.36 meters\n",
      "📌 Object 1 at (181,397) - (193,430) | Estimated Distance: 1.19 meters\n",
      "📌 Object 1 at (458,368) - (500,409) | Estimated Distance: 3.15 meters\n",
      "📌 Object 5 at (404,341) - (416,384) | Estimated Distance: 2.80 meters\n",
      "📌 Object 5 at (505,359) - (520,403) | Estimated Distance: 3.05 meters\n",
      "📌 Object 5 at (421,349) - (431,384) | Estimated Distance: 2.81 meters\n",
      "📌 Object 5 at (126,393) - (139,437) | Estimated Distance: 1.25 meters\n",
      "📌 Object 5 at (388,356) - (397,372) | Estimated Distance: 2.77 meters\n",
      "📌 Object 1 at (0,411) - (29,609) | Estimated Distance: 5.56 meters\n",
      "📌 Object 5 at (107,401) - (118,437) | Estimated Distance: 1.55 meters\n",
      "📌 Object 5 at (419,351) - (431,399) | Estimated Distance: 2.81 meters\n",
      "📌 Object 1 at (459,360) - (520,409) | Estimated Distance: 3.10 meters\n",
      "📌 Object 5 at (132,395) - (142,426) | Estimated Distance: 1.17 meters\n"
     ]
    },
    {
     "data": {
      "text/plain": [
       "<Figure size 1200x600 with 3 Axes>"
      ]
     },
     "metadata": {},
     "output_type": "display_data"
    },
    {
     "name": "stdout",
     "output_type": "stream",
     "text": [
      "📌 Object 5 at (264,379) - (304,633) | Estimated Distance: 8.58 meters\n",
      "📌 Object 5 at (195,404) - (279,630) | Estimated Distance: 8.72 meters\n",
      "📌 Object 5 at (255,401) - (340,639) | Estimated Distance: 8.46 meters\n",
      "📌 Object 5 at (434,424) - (505,584) | Estimated Distance: 6.03 meters\n",
      "📌 Object 1 at (536,461) - (607,538) | Estimated Distance: 5.39 meters\n",
      "📌 Object 5 at (448,435) - (487,577) | Estimated Distance: 6.77 meters\n",
      "📌 Object 5 at (201,414) - (269,639) | Estimated Distance: 8.88 meters\n",
      "📌 Object 5 at (535,432) - (575,526) | Estimated Distance: 5.26 meters\n",
      "📌 Object 5 at (529,430) - (557,526) | Estimated Distance: 5.23 meters\n",
      "📌 Object 1 at (210,519) - (287,639) | Estimated Distance: 9.16 meters\n",
      "📌 Object 5 at (549,438) - (580,524) | Estimated Distance: 5.29 meters\n",
      "📌 Object 5 at (593,443) - (607,496) | Estimated Distance: 5.04 meters\n",
      "📌 Object 5 at (422,347) - (455,422) | Estimated Distance: 4.82 meters\n",
      "📌 Object 5 at (533,431) - (565,528) | Estimated Distance: 5.26 meters\n",
      "📌 Object 5 at (576,423) - (596,490) | Estimated Distance: 5.03 meters\n",
      "📌 Object 5 at (451,453) - (479,576) | Estimated Distance: 6.90 meters\n",
      "📌 Object 5 at (471,466) - (490,559) | Estimated Distance: 6.81 meters\n",
      "📌 Object 5 at (551,439) - (573,527) | Estimated Distance: 5.30 meters\n",
      "📌 Object 5 at (270,412) - (302,556) | Estimated Distance: 8.48 meters\n",
      "📌 Object 5 at (573,448) - (586,483) | Estimated Distance: 5.16 meters\n",
      "📌 Object 1 at (282,506) - (336,620) | Estimated Distance: 8.59 meters\n",
      "📌 Object 5 at (274,407) - (324,615) | Estimated Distance: 8.43 meters\n",
      "📌 Object 5 at (213,428) - (245,525) | Estimated Distance: 8.35 meters\n",
      "📌 Object 5 at (564,447) - (582,525) | Estimated Distance: 5.32 meters\n",
      "📌 Object 5 at (566,447) - (580,482) | Estimated Distance: 5.17 meters\n",
      "📌 Object 5 at (263,456) - (275,527) | Estimated Distance: 8.62 meters\n",
      "📌 Object 5 at (570,435) - (585,482) | Estimated Distance: 5.10 meters\n",
      "📌 Object 1 at (321,495) - (361,590) | Estimated Distance: 7.54 meters\n",
      "📌 Object 5 at (263,448) - (276,505) | Estimated Distance: 8.51 meters\n",
      "📌 Object 5 at (459,516) - (498,577) | Estimated Distance: 7.06 meters\n",
      "📌 Object 5 at (477,464) - (492,525) | Estimated Distance: 5.67 meters\n",
      "📌 Object 5 at (575,453) - (586,484) | Estimated Distance: 5.19 meters\n",
      "📌 Object 5 at (444,456) - (462,523) | Estimated Distance: 5.67 meters\n",
      "📌 Object 5 at (471,464) - (489,535) | Estimated Distance: 6.70 meters\n",
      "📌 Object 5 at (12,576) - (48,639) | Estimated Distance: 8.17 meters\n",
      "📌 Object 5 at (552,440) - (570,482) | Estimated Distance: 5.17 meters\n"
     ]
    },
    {
     "data": {
      "text/plain": [
       "<Figure size 1200x600 with 3 Axes>"
      ]
     },
     "metadata": {},
     "output_type": "display_data"
    },
    {
     "name": "stdout",
     "output_type": "stream",
     "text": [
      "📌 Object 5 at (0,388) - (57,463) | Estimated Distance: 2.11 meters\n",
      "📌 Object 5 at (225,362) - (299,522) | Estimated Distance: 4.08 meters\n",
      "📌 Object 5 at (307,373) - (373,507) | Estimated Distance: 3.59 meters\n",
      "📌 Object 5 at (15,373) - (85,499) | Estimated Distance: 2.58 meters\n",
      "📌 Object 5 at (30,369) - (70,498) | Estimated Distance: 3.02 meters\n",
      "📌 Object 1 at (34,431) - (69,515) | Estimated Distance: 3.41 meters\n",
      "📌 Object 5 at (280,381) - (300,466) | Estimated Distance: 3.08 meters\n",
      "📌 Object 5 at (12,376) - (33,472) | Estimated Distance: 1.71 meters\n",
      "📌 Object 5 at (242,380) - (289,503) | Estimated Distance: 4.95 meters\n",
      "📌 Object 5 at (283,397) - (298,465) | Estimated Distance: 3.12 meters\n",
      "📌 Object 5 at (205,382) - (225,467) | Estimated Distance: 3.27 meters\n",
      "📌 Object 1 at (175,410) - (212,517) | Estimated Distance: 3.63 meters\n",
      "📌 Object 5 at (321,379) - (355,514) | Estimated Distance: 4.24 meters\n",
      "📌 Object 5 at (575,422) - (587,457) | Estimated Distance: 5.43 meters\n",
      "📌 Object 1 at (464,465) - (500,553) | Estimated Distance: 5.45 meters\n",
      "📌 Object 1 at (375,449) - (407,508) | Estimated Distance: 4.09 meters\n",
      "📌 Object 5 at (159,381) - (176,441) | Estimated Distance: 1.94 meters\n",
      "📌 Object 1 at (242,416) - (284,542) | Estimated Distance: 5.30 meters\n",
      "📌 Object 5 at (27,394) - (44,478) | Estimated Distance: 2.46 meters\n",
      "📌 Object 5 at (161,381) - (176,427) | Estimated Distance: 1.89 meters\n",
      "📌 Object 5 at (166,381) - (176,425) | Estimated Distance: 1.93 meters\n",
      "📌 Object 5 at (241,375) - (260,434) | Estimated Distance: 3.32 meters\n",
      "📌 Object 1 at (12,419) - (34,485) | Estimated Distance: 2.32 meters\n",
      "📌 Object 5 at (270,411) - (289,511) | Estimated Distance: 5.18 meters\n",
      "📌 Object 5 at (61,385) - (73,432) | Estimated Distance: 1.38 meters\n",
      "📌 Object 5 at (247,380) - (286,470) | Estimated Distance: 4.95 meters\n",
      "📌 Object 5 at (206,382) - (225,439) | Estimated Distance: 3.13 meters\n",
      "📌 Object 5 at (241,377) - (263,453) | Estimated Distance: 4.09 meters\n",
      "📌 Object 5 at (29,399) - (43,467) | Estimated Distance: 2.40 meters\n",
      "📌 Object 5 at (301,418) - (320,466) | Estimated Distance: 3.02 meters\n",
      "📌 Object 5 at (171,370) - (214,486) | Estimated Distance: 3.09 meters\n",
      "📌 Object 5 at (270,384) - (282,412) | Estimated Distance: 4.03 meters\n",
      "📌 Object 5 at (279,382) - (297,456) | Estimated Distance: 3.09 meters\n",
      "📌 Object 1 at (39,436) - (64,514) | Estimated Distance: 3.46 meters\n",
      "📌 Object 5 at (22,385) - (43,481) | Estimated Distance: 2.22 meters\n",
      "📌 Object 5 at (575,422) - (592,458) | Estimated Distance: 5.44 meters\n",
      "📌 Object 5 at (158,382) - (169,422) | Estimated Distance: 1.75 meters\n",
      "📌 Object 5 at (120,392) - (157,456) | Estimated Distance: 1.87 meters\n",
      "📌 Object 5 at (586,427) - (598,447) | Estimated Distance: 5.47 meters\n",
      "📌 Object 5 at (158,381) - (172,427) | Estimated Distance: 1.81 meters\n",
      "📌 Object 5 at (538,486) - (559,556) | Estimated Distance: 5.70 meters\n",
      "📌 Object 5 at (293,390) - (302,460) | Estimated Distance: 2.99 meters\n",
      "📌 Object 5 at (257,382) - (286,462) | Estimated Distance: 4.93 meters\n",
      "📌 Object 5 at (279,385) - (292,438) | Estimated Distance: 3.09 meters\n",
      "📌 Object 5 at (160,381) - (180,447) | Estimated Distance: 2.05 meters\n",
      "📌 Object 1 at (116,397) - (157,458) | Estimated Distance: 1.91 meters\n",
      "📌 Object 5 at (162,375) - (205,451) | Estimated Distance: 2.48 meters\n",
      "📌 Object 5 at (233,388) - (244,430) | Estimated Distance: 3.24 meters\n",
      "📌 Object 5 at (308,391) - (327,478) | Estimated Distance: 3.00 meters\n",
      "📌 Object 5 at (290,386) - (302,456) | Estimated Distance: 3.00 meters\n",
      "📌 Object 5 at (266,386) - (285,445) | Estimated Distance: 4.82 meters\n",
      "📌 Object 5 at (295,416) - (310,466) | Estimated Distance: 3.02 meters\n",
      "📌 Object 5 at (130,387) - (155,451) | Estimated Distance: 1.82 meters\n",
      "📌 Object 5 at (220,382) - (233,434) | Estimated Distance: 3.15 meters\n"
     ]
    },
    {
     "data": {
      "text/plain": [
       "<Figure size 1200x600 with 3 Axes>"
      ]
     },
     "metadata": {},
     "output_type": "display_data"
    },
    {
     "name": "stdout",
     "output_type": "stream",
     "text": [
      "📌 Object 5 at (440,298) - (495,590) | Estimated Distance: 6.59 meters\n",
      "📌 Object 5 at (137,359) - (213,480) | Estimated Distance: 2.27 meters\n",
      "📌 Object 5 at (350,342) - (426,565) | Estimated Distance: 6.30 meters\n",
      "📌 Object 5 at (305,365) - (375,543) | Estimated Distance: 5.43 meters\n",
      "📌 Object 5 at (362,357) - (412,570) | Estimated Distance: 6.89 meters\n",
      "📌 Object 5 at (443,334) - (489,571) | Estimated Distance: 6.89 meters\n",
      "📌 Object 5 at (338,381) - (363,524) | Estimated Distance: 5.73 meters\n",
      "📌 Object 5 at (328,385) - (357,543) | Estimated Distance: 5.84 meters\n",
      "📌 Object 5 at (157,369) - (193,477) | Estimated Distance: 2.69 meters\n",
      "📌 Object 5 at (247,366) - (269,465) | Estimated Distance: 2.99 meters\n",
      "📌 Object 5 at (322,385) - (344,506) | Estimated Distance: 5.64 meters\n",
      "📌 Object 5 at (348,388) - (364,449) | Estimated Distance: 5.14 meters\n",
      "📌 Object 5 at (339,373) - (358,532) | Estimated Distance: 5.81 meters\n",
      "📌 Object 1 at (162,413) - (196,498) | Estimated Distance: 3.33 meters\n",
      "📌 Object 5 at (322,386) - (341,480) | Estimated Distance: 5.59 meters\n",
      "📌 Object 5 at (335,384) - (356,508) | Estimated Distance: 5.82 meters\n",
      "📌 Object 5 at (344,381) - (366,506) | Estimated Distance: 5.44 meters\n",
      "📌 Object 5 at (332,372) - (364,455) | Estimated Distance: 5.52 meters\n",
      "📌 Object 1 at (405,434) - (459,546) | Estimated Distance: 6.21 meters\n",
      "📌 Object 1 at (482,418) - (551,537) | Estimated Distance: 5.02 meters\n",
      "📌 Object 5 at (325,386) - (353,502) | Estimated Distance: 5.76 meters\n",
      "📌 Object 1 at (362,461) - (388,564) | Estimated Distance: 6.82 meters\n",
      "📌 Object 5 at (347,377) - (377,517) | Estimated Distance: 5.45 meters\n",
      "📌 Object 5 at (360,372) - (385,501) | Estimated Distance: 5.55 meters\n",
      "📌 Object 5 at (351,391) - (366,452) | Estimated Distance: 5.02 meters\n",
      "📌 Object 5 at (239,367) - (268,491) | Estimated Distance: 3.01 meters\n",
      "📌 Object 5 at (366,377) - (382,513) | Estimated Distance: 6.51 meters\n",
      "📌 Object 5 at (184,377) - (196,476) | Estimated Distance: 2.55 meters\n",
      "📌 Object 5 at (323,387) - (353,533) | Estimated Distance: 5.79 meters\n",
      "📌 Object 5 at (152,382) - (181,468) | Estimated Distance: 2.65 meters\n",
      "📌 Object 5 at (246,372) - (265,451) | Estimated Distance: 2.97 meters\n",
      "📌 Object 5 at (362,384) - (389,483) | Estimated Distance: 6.93 meters\n",
      "📌 Object 5 at (415,341) - (490,571) | Estimated Distance: 6.38 meters\n"
     ]
    },
    {
     "data": {
      "text/plain": [
       "<Figure size 1200x600 with 3 Axes>"
      ]
     },
     "metadata": {},
     "output_type": "display_data"
    },
    {
     "name": "stdout",
     "output_type": "stream",
     "text": [
      "📌 Object 5 at (449,450) - (506,530) | Estimated Distance: 1.83 meters\n",
      "📌 Object 5 at (460,440) - (484,545) | Estimated Distance: 1.89 meters\n",
      "📌 Object 1 at (289,473) - (377,639) | Estimated Distance: 4.68 meters\n",
      "📌 Object 5 at (500,449) - (522,526) | Estimated Distance: 1.47 meters\n",
      "📌 Object 1 at (265,486) - (368,639) | Estimated Distance: 4.92 meters\n",
      "📌 Object 6 at (563,402) - (639,559) | Estimated Distance: 1.61 meters\n"
     ]
    },
    {
     "data": {
      "text/plain": [
       "<Figure size 1200x600 with 3 Axes>"
      ]
     },
     "metadata": {},
     "output_type": "display_data"
    },
    {
     "name": "stdout",
     "output_type": "stream",
     "text": [
      "📌 Object 5 at (305,354) - (339,470) | Estimated Distance: 3.79 meters\n",
      "📌 Object 5 at (230,386) - (284,430) | Estimated Distance: 2.53 meters\n",
      "📌 Object 5 at (297,371) - (313,449) | Estimated Distance: 3.35 meters\n",
      "📌 Object 1 at (244,398) - (266,455) | Estimated Distance: 2.83 meters\n",
      "📌 Object 5 at (243,374) - (269,445) | Estimated Distance: 2.63 meters\n",
      "📌 Object 5 at (231,370) - (243,408) | Estimated Distance: 1.84 meters\n",
      "📌 Object 5 at (291,373) - (303,443) | Estimated Distance: 3.11 meters\n",
      "📌 Object 1 at (310,406) - (334,477) | Estimated Distance: 3.85 meters\n",
      "📌 Object 5 at (308,360) - (334,465) | Estimated Distance: 3.78 meters\n",
      "📌 Object 1 at (360,412) - (421,500) | Estimated Distance: 4.50 meters\n",
      "📌 Object 1 at (334,404) - (359,466) | Estimated Distance: 4.10 meters\n",
      "📌 Object 1 at (306,406) - (328,475) | Estimated Distance: 3.79 meters\n",
      "📌 Object 5 at (247,375) - (268,432) | Estimated Distance: 2.58 meters\n",
      "📌 Object 5 at (244,375) - (262,430) | Estimated Distance: 2.54 meters\n",
      "📌 Object 1 at (289,394) - (303,444) | Estimated Distance: 3.19 meters\n",
      "📌 Object 1 at (416,420) - (456,524) | Estimated Distance: 4.75 meters\n",
      "📌 Object 5 at (294,372) - (311,445) | Estimated Distance: 3.27 meters\n",
      "📌 Object 5 at (26,375) - (35,409) | Estimated Distance: 1.61 meters\n",
      "📌 Object 1 at (242,393) - (260,455) | Estimated Distance: 2.79 meters\n",
      "📌 Object 1 at (440,433) - (470,526) | Estimated Distance: 4.83 meters\n",
      "📌 Object 5 at (289,379) - (302,442) | Estimated Distance: 3.09 meters\n",
      "📌 Object 5 at (25,357) - (36,411) | Estimated Distance: 1.57 meters\n",
      "📌 Object 5 at (26,358) - (40,406) | Estimated Distance: 1.56 meters\n",
      "📌 Object 5 at (293,373) - (304,430) | Estimated Distance: 3.09 meters\n",
      "📌 Object 5 at (15,373) - (26,410) | Estimated Distance: 1.61 meters\n",
      "📌 Object 5 at (124,364) - (134,407) | Estimated Distance: 1.64 meters\n",
      "📌 Object 5 at (466,383) - (489,485) | Estimated Distance: 4.56 meters\n",
      "📌 Object 5 at (47,362) - (57,404) | Estimated Distance: 1.57 meters\n",
      "📌 Object 5 at (306,367) - (323,456) | Estimated Distance: 3.67 meters\n",
      "📌 Object 5 at (30,372) - (39,408) | Estimated Distance: 1.59 meters\n",
      "📌 Object 5 at (253,376) - (269,434) | Estimated Distance: 2.59 meters\n",
      "📌 Object 5 at (250,382) - (269,444) | Estimated Distance: 2.71 meters\n",
      "📌 Object 5 at (241,378) - (251,429) | Estimated Distance: 2.39 meters\n",
      "📌 Object 5 at (281,367) - (289,396) | Estimated Distance: 2.18 meters\n",
      "📌 Object 5 at (287,390) - (300,441) | Estimated Distance: 3.07 meters\n",
      "📌 Object 5 at (260,380) - (269,406) | Estimated Distance: 2.40 meters\n",
      "📌 Object 1 at (299,392) - (314,459) | Estimated Distance: 3.50 meters\n",
      "📌 Object 1 at (408,419) - (454,512) | Estimated Distance: 4.71 meters\n",
      "📌 Object 5 at (321,362) - (337,464) | Estimated Distance: 3.88 meters\n",
      "📌 Object 5 at (454,380) - (478,462) | Estimated Distance: 4.60 meters\n"
     ]
    },
    {
     "data": {
      "text/plain": [
       "<Figure size 1200x600 with 3 Axes>"
      ]
     },
     "metadata": {},
     "output_type": "display_data"
    },
    {
     "name": "stdout",
     "output_type": "stream",
     "text": [
      "📌 Object 5 at (155,392) - (181,479) | Estimated Distance: 1.25 meters\n",
      "📌 Object 5 at (503,346) - (639,625) | Estimated Distance: 6.65 meters\n",
      "📌 Object 5 at (552,355) - (618,583) | Estimated Distance: 6.76 meters\n",
      "📌 Object 5 at (158,401) - (179,467) | Estimated Distance: 1.21 meters\n",
      "📌 Object 5 at (251,400) - (266,458) | Estimated Distance: 1.49 meters\n",
      "📌 Object 1 at (524,401) - (639,603) | Estimated Distance: 7.37 meters\n",
      "📌 Object 5 at (321,389) - (341,463) | Estimated Distance: 2.45 meters\n",
      "📌 Object 1 at (162,430) - (182,476) | Estimated Distance: 1.89 meters\n",
      "📌 Object 1 at (253,420) - (267,461) | Estimated Distance: 1.72 meters\n",
      "📌 Object 5 at (321,393) - (333,457) | Estimated Distance: 2.39 meters\n",
      "📌 Object 5 at (137,411) - (149,448) | Estimated Distance: 1.31 meters\n",
      "📌 Object 5 at (326,416) - (338,464) | Estimated Distance: 2.60 meters\n",
      "📌 Object 5 at (311,391) - (325,453) | Estimated Distance: 2.15 meters\n",
      "📌 Object 5 at (159,401) - (176,456) | Estimated Distance: 1.08 meters\n",
      "📌 Object 1 at (162,425) - (191,476) | Estimated Distance: 1.79 meters\n",
      "📌 Object 5 at (274,407) - (283,440) | Estimated Distance: 1.53 meters\n",
      "📌 Object 5 at (324,392) - (338,458) | Estimated Distance: 2.48 meters\n",
      "📌 Object 5 at (171,392) - (193,450) | Estimated Distance: 0.83 meters\n",
      "📌 Object 5 at (224,405) - (234,441) | Estimated Distance: 0.98 meters\n",
      "📌 Object 5 at (575,396) - (638,590) | Estimated Distance: 7.54 meters\n"
     ]
    },
    {
     "data": {
      "text/plain": [
       "<Figure size 1200x600 with 3 Axes>"
      ]
     },
     "metadata": {},
     "output_type": "display_data"
    },
    {
     "name": "stdout",
     "output_type": "stream",
     "text": [
      "📌 Object 5 at (409,406) - (466,473) | Estimated Distance: 3.24 meters\n",
      "📌 Object 3 at (616,366) - (639,424) | Estimated Distance: 1.67 meters\n",
      "📌 Object 5 at (422,396) - (442,495) | Estimated Distance: 3.29 meters\n",
      "📌 Object 5 at (424,406) - (446,491) | Estimated Distance: 3.28 meters\n",
      "📌 Object 0 at (575,362) - (605,414) | Estimated Distance: 1.35 meters\n",
      "📌 Object 3 at (606,368) - (625,395) | Estimated Distance: 1.49 meters\n",
      "📌 Object 5 at (384,414) - (399,493) | Estimated Distance: 3.67 meters\n",
      "📌 Object 3 at (575,362) - (605,413) | Estimated Distance: 1.35 meters\n"
     ]
    },
    {
     "data": {
      "text/plain": [
       "<Figure size 1200x600 with 3 Axes>"
      ]
     },
     "metadata": {},
     "output_type": "display_data"
    },
    {
     "name": "stdout",
     "output_type": "stream",
     "text": [
      "📌 Object 5 at (510,398) - (553,457) | Estimated Distance: 1.61 meters\n",
      "📌 Object 5 at (399,428) - (459,551) | Estimated Distance: 3.64 meters\n",
      "📌 Object 5 at (571,379) - (637,504) | Estimated Distance: 1.69 meters\n",
      "📌 Object 5 at (426,419) - (489,556) | Estimated Distance: 3.38 meters\n",
      "📌 Object 5 at (209,393) - (293,622) | Estimated Distance: 5.07 meters\n",
      "📌 Object 1 at (167,484) - (326,639) | Estimated Distance: 5.94 meters\n",
      "📌 Object 1 at (72,441) - (134,568) | Estimated Distance: 3.42 meters\n",
      "📌 Object 5 at (524,400) - (538,458) | Estimated Distance: 1.65 meters\n",
      "📌 Object 5 at (508,401) - (521,462) | Estimated Distance: 1.81 meters\n",
      "📌 Object 5 at (584,381) - (628,495) | Estimated Distance: 1.64 meters\n",
      "📌 Object 1 at (588,431) - (632,507) | Estimated Distance: 2.22 meters\n",
      "📌 Object 5 at (223,407) - (286,605) | Estimated Distance: 5.06 meters\n",
      "📌 Object 5 at (419,423) - (444,558) | Estimated Distance: 3.65 meters\n",
      "📌 Object 5 at (521,400) - (529,458) | Estimated Distance: 1.72 meters\n",
      "📌 Object 5 at (436,423) - (455,512) | Estimated Distance: 3.28 meters\n",
      "📌 Object 5 at (630,395) - (639,496) | Estimated Distance: 1.92 meters\n",
      "📌 Object 5 at (448,422) - (473,544) | Estimated Distance: 3.21 meters\n",
      "📌 Object 5 at (503,400) - (513,463) | Estimated Distance: 1.85 meters\n",
      "📌 Object 5 at (504,400) - (518,463) | Estimated Distance: 1.83 meters\n",
      "📌 Object 5 at (521,400) - (535,461) | Estimated Distance: 1.70 meters\n",
      "📌 Object 3 at (556,382) - (595,442) | Estimated Distance: 1.05 meters\n",
      "📌 Object 5 at (479,397) - (498,476) | Estimated Distance: 2.17 meters\n",
      "📌 Object 5 at (494,398) - (508,463) | Estimated Distance: 1.92 meters\n",
      "📌 Object 5 at (626,394) - (639,492) | Estimated Distance: 1.86 meters\n",
      "📌 Object 5 at (483,393) - (496,448) | Estimated Distance: 1.97 meters\n",
      "📌 Object 5 at (69,151) - (83,195) | Estimated Distance: 2.09 meters\n",
      "📌 Object 5 at (433,418) - (454,528) | Estimated Distance: 3.39 meters\n",
      "📌 Object 1 at (0,444) - (129,564) | Estimated Distance: 3.21 meters\n",
      "📌 Object 5 at (613,395) - (636,495) | Estimated Distance: 1.85 meters\n",
      "📌 Object 5 at (493,393) - (505,462) | Estimated Distance: 1.93 meters\n",
      "📌 Object 5 at (500,400) - (520,464) | Estimated Distance: 1.85 meters\n",
      "📌 Object 5 at (584,386) - (612,484) | Estimated Distance: 1.50 meters\n",
      "📌 Object 5 at (465,446) - (499,504) | Estimated Distance: 2.85 meters\n"
     ]
    },
    {
     "data": {
      "text/plain": [
       "<Figure size 1200x600 with 3 Axes>"
      ]
     },
     "metadata": {},
     "output_type": "display_data"
    },
    {
     "name": "stdout",
     "output_type": "stream",
     "text": [
      "📌 Object 5 at (426,355) - (501,509) | Estimated Distance: 2.98 meters\n",
      "📌 Object 5 at (401,349) - (466,515) | Estimated Distance: 2.95 meters\n",
      "📌 Object 5 at (529,355) - (554,437) | Estimated Distance: 1.49 meters\n",
      "📌 Object 1 at (300,393) - (362,478) | Estimated Distance: 2.06 meters\n",
      "📌 Object 5 at (445,352) - (484,505) | Estimated Distance: 3.05 meters\n",
      "📌 Object 5 at (416,348) - (451,518) | Estimated Distance: 3.01 meters\n",
      "📌 Object 5 at (507,359) - (526,399) | Estimated Distance: 1.01 meters\n",
      "📌 Object 5 at (509,368) - (529,400) | Estimated Distance: 1.17 meters\n",
      "📌 Object 5 at (445,429) - (464,506) | Estimated Distance: 3.23 meters\n",
      "📌 Object 5 at (301,404) - (327,477) | Estimated Distance: 2.18 meters\n",
      "📌 Object 5 at (403,362) - (425,467) | Estimated Distance: 2.36 meters\n",
      "📌 Object 5 at (513,357) - (539,407) | Estimated Distance: 1.15 meters\n",
      "📌 Object 5 at (526,363) - (542,425) | Estimated Distance: 1.39 meters\n",
      "📌 Object 5 at (548,365) - (567,434) | Estimated Distance: 1.93 meters\n",
      "📌 Object 5 at (547,364) - (558,433) | Estimated Distance: 1.70 meters\n",
      "📌 Object 5 at (530,360) - (547,428) | Estimated Distance: 1.41 meters\n",
      "📌 Object 5 at (536,359) - (553,431) | Estimated Distance: 1.49 meters\n",
      "📌 Object 5 at (438,353) - (460,504) | Estimated Distance: 3.14 meters\n",
      "📌 Object 5 at (518,352) - (536,401) | Estimated Distance: 1.01 meters\n",
      "📌 Object 5 at (405,357) - (422,454) | Estimated Distance: 2.31 meters\n",
      "📌 Object 5 at (308,403) - (327,468) | Estimated Distance: 2.13 meters\n",
      "📌 Object 5 at (315,396) - (337,461) | Estimated Distance: 2.03 meters\n",
      "📌 Object 5 at (508,340) - (533,400) | Estimated Distance: 0.86 meters\n",
      "📌 Object 1 at (443,430) - (462,492) | Estimated Distance: 3.23 meters\n",
      "📌 Object 3 at (465,354) - (543,465) | Estimated Distance: 2.07 meters\n",
      "📌 Object 5 at (439,365) - (459,478) | Estimated Distance: 3.12 meters\n"
     ]
    },
    {
     "data": {
      "text/plain": [
       "<Figure size 1200x600 with 3 Axes>"
      ]
     },
     "metadata": {},
     "output_type": "display_data"
    }
   ],
   "source": [
    "import torch\n",
    "import cv2\n",
    "import numpy as np\n",
    "from torchvision import transforms\n",
    "from PIL import Image\n",
    "import matplotlib.pyplot as plt\n",
    "import glob\n",
    "import os\n",
    "\n",
    "# ✅ Load MiDaS model\n",
    "midas = torch.hub.load(\"intel-isl/MiDaS\", \"MiDaS_small\")\n",
    "midas.eval()\n",
    "\n",
    "# ✅ Define paths\n",
    "image_folder = \"C:/Users/bhavy/Downloads/yolov8/test/images\"\n",
    "label_folder = \"C:/Users/bhavy/yolov5/runs/detect/hybrid/labels\"\n",
    "output_folder = \"C:/Users/bhavy/yolov5/runs/detect/hybrid/distance_results\"\n",
    "os.makedirs(output_folder, exist_ok=True)\n",
    "\n",
    "# ✅ Transformation for MiDaS\n",
    "transform = transforms.Compose([\n",
    "    transforms.Resize((384, 384)),\n",
    "    transforms.ToTensor()\n",
    "])\n",
    "\n",
    "# ✅ SCALING FACTOR (adjust as needed)\n",
    "SCALING_FACTOR = 10  # Change this for realistic distances\n",
    "\n",
    "# ✅ Process all images\n",
    "for image_path in glob.glob(f\"{image_folder}/*.jpg\"):\n",
    "    file_name = os.path.basename(image_path).replace(\".jpg\", \".txt\")\n",
    "    label_path = os.path.join(label_folder, file_name)\n",
    "\n",
    "    # ✅ Load image\n",
    "    image_pil = Image.open(image_path).convert(\"RGB\")\n",
    "    image_cv = cv2.imread(image_path)\n",
    "\n",
    "    # ✅ Transform image for MiDaS\n",
    "    image_input = transform(image_pil).unsqueeze(0)\n",
    "\n",
    "    # ✅ Perform depth estimation\n",
    "    with torch.no_grad():\n",
    "        depth_map = midas(image_input)\n",
    "\n",
    "    # ✅ Convert depth map to numpy and resize\n",
    "    depth_map = depth_map.squeeze().cpu().numpy()\n",
    "    depth_map = cv2.resize(depth_map, (image_cv.shape[1], image_cv.shape[0]))\n",
    "\n",
    "    # ✅ Normalize depth map for visualization\n",
    "    depth_min, depth_max = depth_map.min(), depth_map.max()\n",
    "    depth_map_vis = (depth_map - depth_min) / (depth_max - depth_min)\n",
    "\n",
    "    # ✅ Normalize depth values for realistic distance estimation\n",
    "    depth_map = (depth_map - depth_min) / (depth_max - depth_min) * SCALING_FACTOR\n",
    "\n",
    "    # ✅ Check if labels exist\n",
    "    if not os.path.exists(label_path):\n",
    "        print(f\"⚠️ No labels found for: {file_name}, skipping...\")\n",
    "        continue\n",
    "\n",
    "    # ✅ Load YOLO detections\n",
    "    yolo_results = np.loadtxt(label_path)\n",
    "    if yolo_results.ndim == 1:\n",
    "        yolo_results = yolo_results.reshape(1, -1)\n",
    "\n",
    "    # ✅ Overlay detections on image\n",
    "    for detection in yolo_results:\n",
    "        class_id, x, y, w, h, conf = detection  # YOLO format\n",
    "\n",
    "        # Convert YOLO format to absolute pixel coordinates\n",
    "        x_min = int((x - w/2) * image_cv.shape[1])\n",
    "        y_min = int((y - h/2) * image_cv.shape[0])\n",
    "        x_max = int((x + w/2) * image_cv.shape[1])\n",
    "        y_max = int((y + h/2) * image_cv.shape[0])\n",
    "\n",
    "        # Ensure bounding box is within image boundaries\n",
    "        x_min, y_min = max(0, x_min), max(0, y_min)\n",
    "        x_max, y_max = min(image_cv.shape[1] - 1, x_max), min(image_cv.shape[0] - 1, y_max)\n",
    "\n",
    "        # ✅ Compute depth inside the bounding box (use median for stability)\n",
    "        if y_max > y_min and x_max > x_min:\n",
    "            object_depth = np.median(depth_map[y_min:y_max, x_min:x_max])  # Using median\n",
    "        else:\n",
    "            object_depth = 0  # Invalid bounding box case\n",
    "\n",
    "        print(f\"📌 Object {int(class_id)} at ({x_min},{y_min}) - ({x_max},{y_max}) | Estimated Distance: {object_depth:.2f} meters\")\n",
    "\n",
    "        # ✅ Draw bounding box and depth label\n",
    "        cv2.rectangle(image_cv, (x_min, y_min), (x_max, y_max), (0, 255, 0), 2)\n",
    "        cv2.putText(image_cv, f\"Dist: {object_depth:.2f}m\",\n",
    "                    (x_min, y_min - 10), cv2.FONT_HERSHEY_SIMPLEX, 0.6, (0, 255, 0), 2)\n",
    "\n",
    "    # ✅ Save output image with depth annotations\n",
    "    output_path = os.path.join(output_folder, os.path.basename(image_path))\n",
    "    cv2.imwrite(output_path, image_cv)\n",
    "\n",
    "    # ✅ Display results\n",
    "    plt.figure(figsize=(12, 6))\n",
    "    \n",
    "    # Image with Bounding Boxes and Depth\n",
    "    plt.subplot(1, 2, 1)\n",
    "    plt.imshow(cv2.cvtColor(image_cv, cv2.COLOR_BGR2RGB))\n",
    "    plt.title(\"Object Detection with Estimated Distance\")\n",
    "    plt.axis(\"off\")\n",
    "\n",
    "    # Depth Estimation Map\n",
    "    plt.subplot(1, 2, 2)\n",
    "    plt.imshow(depth_map_vis, cmap=\"inferno\")\n",
    "    plt.colorbar()\n",
    "    plt.title(\"Depth Estimation Map\")\n",
    "    plt.axis(\"off\")\n",
    "\n",
    "    plt.show()\n"
   ]
  },
  {
   "cell_type": "code",
   "execution_count": 14,
   "id": "409ca2d9",
   "metadata": {},
   "outputs": [
    {
     "name": "stderr",
     "output_type": "stream",
     "text": [
      "Using cache found in C:\\Users\\bhavy/.cache\\torch\\hub\\intel-isl_MiDaS_master\n",
      "Using cache found in C:\\Users\\bhavy/.cache\\torch\\hub\\intel-isl_MiDaS_master\n",
      "C:\\Users\\bhavy\\AppData\\Local\\Temp\\ipykernel_6216\\927778059.py:126: RuntimeWarning: Mean of empty slice\n",
      "  avg_depth = np.nanmean(depth_crop)\n"
     ]
    },
    {
     "name": "stdout",
     "output_type": "stream",
     "text": [
      "Processed and saved: C:/Users/bhavy/yolov5/runs/detect/hybrid/distance_results\\PXL_20250104_110226399_jpg.rf.6011c7a27d5b5c6512611e363e5d9911.jpg\n",
      "Processed and saved: C:/Users/bhavy/yolov5/runs/detect/hybrid/distance_results\\PXL_20250104_110513819_jpg.rf.fdf405763a779d4861699678e39fef3d.jpg\n",
      "Processed and saved: C:/Users/bhavy/yolov5/runs/detect/hybrid/distance_results\\PXL_20250104_110519227_jpg.rf.5de98f346bd7a0dbca5d564bfe6b4f89.jpg\n",
      "Processed and saved: C:/Users/bhavy/yolov5/runs/detect/hybrid/distance_results\\PXL_20250104_110622635_jpg.rf.82ebe6bc61e959625cc50c5cffc560bb.jpg\n",
      "Processed and saved: C:/Users/bhavy/yolov5/runs/detect/hybrid/distance_results\\PXL_20250104_110937617_jpg.rf.487740be98c2e3183cd37e168db01466.jpg\n",
      "Processed and saved: C:/Users/bhavy/yolov5/runs/detect/hybrid/distance_results\\PXL_20250104_111020914_jpg.rf.d2e52a7a9cc4cb7a1b9eace2ea87e773.jpg\n",
      "Processed and saved: C:/Users/bhavy/yolov5/runs/detect/hybrid/distance_results\\PXL_20250104_111542390_jpg.rf.4a672851994bcffd50a5d252f1a70b35.jpg\n",
      "Processed and saved: C:/Users/bhavy/yolov5/runs/detect/hybrid/distance_results\\PXL_20250104_111900131_jpg.rf.e9e205ce0a65ff768c987c01988b00f7.jpg\n",
      "Processed and saved: C:/Users/bhavy/yolov5/runs/detect/hybrid/distance_results\\PXL_20250104_112042095_jpg.rf.2bb665f7c1df2ac994e74dd8a0f01cac.jpg\n",
      "Processed and saved: C:/Users/bhavy/yolov5/runs/detect/hybrid/distance_results\\PXL_20250104_112055017_jpg.rf.baf4d0f8fe63fa066d26e8635e6ae6bc.jpg\n"
     ]
    }
   ],
   "source": [
    "import cv2\n",
    "import os\n",
    "\n",
    "\n",
    "import torch\n",
    "import cv2\n",
    "import numpy as np\n",
    "import os\n",
    "\n",
    "# Load MiDaS depth estimation model\n",
    "midas = torch.hub.load(\"intel-isl/MiDaS\", \"DPT_Large\")  # 'DPT_Large' for better accuracy\n",
    "midas.eval()\n",
    "device = torch.device(\"cuda\" if torch.cuda.is_available() else \"cpu\")\n",
    "midas.to(device)\n",
    "\n",
    "# Load MiDaS transforms\n",
    "transforms = torch.hub.load(\"intel-isl/MiDaS\", \"transforms\")\n",
    "transform = transforms.dpt_transform\n",
    "\n",
    "def estimate_depth(image):\n",
    "    \"\"\"Estimate depth using MiDaS.\"\"\"\n",
    "    img = cv2.cvtColor(image, cv2.COLOR_BGR2RGB)\n",
    "    img = transform(img).to(device)\n",
    "    \n",
    "    with torch.no_grad():\n",
    "        prediction = midas(img)\n",
    "        depth_map = prediction.squeeze().cpu().numpy()\n",
    "    \n",
    "    # Normalize depth values\n",
    "    depth_map = (depth_map - depth_map.min()) / (depth_map.max() - depth_map.min())\n",
    "    return depth_map\n",
    "\n",
    "def estimate_distance(bbox, depth_map):\n",
    "    \"\"\"Estimate real-world distance using depth estimation model.\"\"\"\n",
    "    x1, y1, x2, y2 = bbox\n",
    "    bbox_depth = depth_map[y1:y2, x1:x2]\n",
    "    avg_depth = np.mean(bbox_depth)\n",
    "    estimated_distance = avg_depth * 80  # Scaling factor (adjust as needed)\n",
    "    return round(estimated_distance, 2)\n",
    "\n",
    "def read_yolo_labels(label_path, image_width, image_height):\n",
    "    boxes = []\n",
    "    with open(label_path, \"r\") as file:\n",
    "        for line in file.readlines():\n",
    "            parts = line.strip().split()\n",
    "            \n",
    "            # Ensure we have at least 5 values (class, x_center, y_center, width, height)\n",
    "            if len(parts) < 5:\n",
    "                print(f\"⚠️ Skipping invalid label format in {label_path}: {line.strip()}\")\n",
    "                continue\n",
    "\n",
    "            # Convert first 5 values, ignore extra ones (e.g., confidence scores)\n",
    "            try:\n",
    "                class_id = int(float(parts[0]))  # Ensure class ID is an integer\n",
    "                x_center, y_center, width, height = map(float, parts[1:5])\n",
    "            except ValueError:\n",
    "                print(f\"⚠️ Error parsing values in {label_path}: {line.strip()}\")\n",
    "                continue\n",
    "\n",
    "            # Convert YOLO format to pixel coordinates\n",
    "            x1 = int((x_center - width / 2) * image_width)\n",
    "            y1 = int((y_center - height / 2) * image_height)\n",
    "            x2 = int((x_center + width / 2) * image_width)\n",
    "            y2 = int((y_center + height / 2) * image_height)\n",
    "\n",
    "            boxes.append({\"class_id\": class_id, \"bbox\": (x1, y1, x2, y2)})\n",
    "\n",
    "    return boxes\n",
    "\n",
    "\n",
    "import cv2\n",
    "import numpy as np\n",
    "import os\n",
    "\n",
    "def draw_bounding_boxes(image, detections, distances):\n",
    "    for det, distance in zip(detections, distances):\n",
    "        x1, y1, x2, y2 = det[\"bbox\"]\n",
    "\n",
    "        # Skip objects with NaN distances\n",
    "        if np.isnan(distance):\n",
    "            continue  \n",
    "\n",
    "        label = f\"Dist: {distance:.2f}m\"\n",
    "        color = (0, 255, 0)  # Green\n",
    "        thickness = 2\n",
    "\n",
    "        # Draw bounding box\n",
    "        cv2.rectangle(image, (x1, y1), (x2, y2), color, thickness)\n",
    "\n",
    "        # Draw text above the bounding box\n",
    "        font_scale = 0.7\n",
    "        font_thickness = 2\n",
    "        text_size = cv2.getTextSize(label, cv2.FONT_HERSHEY_SIMPLEX, font_scale, font_thickness)[0]\n",
    "        text_x, text_y = x1, max(y1 - 10, 10)\n",
    "        cv2.rectangle(image, (text_x, text_y - text_size[1] - 5), (text_x + text_size[0] + 5, text_y), color, -1)\n",
    "        cv2.putText(image, label, (text_x, text_y - 2), cv2.FONT_HERSHEY_SIMPLEX, font_scale, (0, 0, 0), font_thickness)\n",
    "\n",
    "    return image\n",
    "\n",
    "def process_images(image_folder, label_folder, output_folder):\n",
    "    os.makedirs(output_folder, exist_ok=True)\n",
    "\n",
    "    for image_file in os.listdir(image_folder):\n",
    "        if not image_file.endswith((\".jpg\", \".png\")):\n",
    "            continue\n",
    "\n",
    "        image_path = os.path.join(image_folder, image_file)\n",
    "        label_path = os.path.join(label_folder, os.path.splitext(image_file)[0] + \".txt\")\n",
    "\n",
    "        image = cv2.imread(image_path)\n",
    "        if image is None:\n",
    "            continue\n",
    "\n",
    "        image_height, image_width, _ = image.shape\n",
    "        depth_map = estimate_depth(image)  # Ensure this function returns a valid depth map\n",
    "\n",
    "        if os.path.exists(label_path):\n",
    "            detections = read_yolo_labels(label_path, image_width, image_height)\n",
    "            distances = []\n",
    "\n",
    "            for det in detections:\n",
    "                x1, y1, x2, y2 = det[\"bbox\"]\n",
    "                depth_crop = depth_map[y1:y2, x1:x2]\n",
    "                \n",
    "                # Compute average depth, handle NaNs\n",
    "                avg_depth = np.nanmean(depth_crop)\n",
    "                distances.append(avg_depth)\n",
    "\n",
    "            # Draw only valid bounding boxes\n",
    "            image = draw_bounding_boxes(image, detections, distances)\n",
    "\n",
    "        output_path = os.path.join(output_folder, image_file)\n",
    "        cv2.imwrite(output_path, image)\n",
    "        print(f\"Processed and saved: {output_path}\")\n",
    "\n",
    "\n",
    "\n",
    "# Define folder paths\n",
    "image_folder = \"C:/Users/bhavy/Downloads/yolov8/test/images\"\n",
    "label_folder = \"C:/Users/bhavy/yolov5/runs/detect/hybrid/labels\"\n",
    "output_folder = \"C:/Users/bhavy/yolov5/runs/detect/hybrid/distance_results\"\n",
    "\n",
    "\n",
    "# Run the processing pipeline\n",
    "process_images(image_folder, label_folder, output_folder)\n"
   ]
  },
  {
   "cell_type": "code",
   "execution_count": 15,
   "id": "ca907198",
   "metadata": {},
   "outputs": [
    {
     "name": "stderr",
     "output_type": "stream",
     "text": [
      "Using cache found in C:\\Users\\bhavy/.cache\\torch\\hub\\intel-isl_MiDaS_master\n",
      "Using cache found in C:\\Users\\bhavy/.cache\\torch\\hub\\intel-isl_MiDaS_master\n",
      "C:\\Users\\bhavy\\AppData\\Local\\Temp\\ipykernel_6216\\3452835025.py:126: RuntimeWarning: Mean of empty slice\n",
      "  avg_depth = np.nanmean(depth_crop)\n"
     ]
    },
    {
     "name": "stdout",
     "output_type": "stream",
     "text": [
      "Processed and saved: C:/Users/bhavy/yolov5/runs/detect/hybrid/distance_results1\\data_10_png.rf.b184695ad0ca1f2375eb95f185b5681f.jpg\n",
      "Processed and saved: C:/Users/bhavy/yolov5/runs/detect/hybrid/distance_results1\\PXL_20250104_110009582_jpg.rf.7d0c8515b4dbaa33da577d8010cc3255.jpg\n",
      "Processed and saved: C:/Users/bhavy/yolov5/runs/detect/hybrid/distance_results1\\PXL_20250104_110016593_jpg.rf.3569176cf477076028a18fa3b3f4b07b.jpg\n",
      "Processed and saved: C:/Users/bhavy/yolov5/runs/detect/hybrid/distance_results1\\PXL_20250104_110124789_jpg.rf.e771b9cf2a3e4d3c9df6fd54668090fb.jpg\n",
      "Processed and saved: C:/Users/bhavy/yolov5/runs/detect/hybrid/distance_results1\\PXL_20250104_110254710_jpg.rf.a996c58de6067dbdaa921a608f9cb7e5.jpg\n",
      "Processed and saved: C:/Users/bhavy/yolov5/runs/detect/hybrid/distance_results1\\PXL_20250104_110327517_jpg.rf.e3f1e3c643ca0a04230f960eb35e1098.jpg\n",
      "Processed and saved: C:/Users/bhavy/yolov5/runs/detect/hybrid/distance_results1\\PXL_20250104_110340366_jpg.rf.89f80130174d107843e70a9e0f0d5c7b.jpg\n",
      "Processed and saved: C:/Users/bhavy/yolov5/runs/detect/hybrid/distance_results1\\PXL_20250104_110425879_jpg.rf.006530e5d4c76c0d2f2768c851be1aa8.jpg\n",
      "Processed and saved: C:/Users/bhavy/yolov5/runs/detect/hybrid/distance_results1\\PXL_20250104_111013575_jpg.rf.343a06a5a3d56e5b81bf6e4f51da57ed.jpg\n",
      "Processed and saved: C:/Users/bhavy/yolov5/runs/detect/hybrid/distance_results1\\PXL_20250104_111158873-1-_jpg.rf.b19134609a652f14cdf01cc35b434c34.jpg\n",
      "Processed and saved: C:/Users/bhavy/yolov5/runs/detect/hybrid/distance_results1\\PXL_20250104_111313461_jpg.rf.006c1daf77bfe2fc98aea08118be7145.jpg\n",
      "Processed and saved: C:/Users/bhavy/yolov5/runs/detect/hybrid/distance_results1\\PXL_20250104_111529094_jpg.rf.d5e112ba440e3ed7dbd5aacd391250dd.jpg\n",
      "Processed and saved: C:/Users/bhavy/yolov5/runs/detect/hybrid/distance_results1\\PXL_20250104_111658329_jpg.rf.735d3e028c0a86cd65a994e54565bd12.jpg\n",
      "Processed and saved: C:/Users/bhavy/yolov5/runs/detect/hybrid/distance_results1\\PXL_20250104_112501544_jpg.rf.778557b4adaa382cbdb24f4e8df7d9ac.jpg\n",
      "Processed and saved: C:/Users/bhavy/yolov5/runs/detect/hybrid/distance_results1\\PXL_20250104_112612208_jpg.rf.84595617fbdc97e7e584e032afc93cd7.jpg\n",
      "Processed and saved: C:/Users/bhavy/yolov5/runs/detect/hybrid/distance_results1\\PXL_20250104_112631835_jpg.rf.d0feddc1d30a88cccd1cf714e7ea47ba.jpg\n",
      "Processed and saved: C:/Users/bhavy/yolov5/runs/detect/hybrid/distance_results1\\PXL_20250104_112706798_jpg.rf.5f673e6f999a861bc51b154a13b4433f.jpg\n",
      "Processed and saved: C:/Users/bhavy/yolov5/runs/detect/hybrid/distance_results1\\PXL_20250104_112711748_jpg.rf.0b352603e5ee37b94541b168c601eae8.jpg\n",
      "Processed and saved: C:/Users/bhavy/yolov5/runs/detect/hybrid/distance_results1\\PXL_20250104_112928076_jpg.rf.acbb7e3fe89c0f716a3e06d7564b58e3.jpg\n",
      "Processed and saved: C:/Users/bhavy/yolov5/runs/detect/hybrid/distance_results1\\serhat-beyazkaya-6OmkdtxJzYE-unsplash_jpg.rf.2e35419ab5bedf6655059d0e1e4aafd7.jpg\n"
     ]
    }
   ],
   "source": [
    "import cv2\n",
    "import os\n",
    "\n",
    "\n",
    "import torch\n",
    "import cv2\n",
    "import numpy as np\n",
    "import os\n",
    "\n",
    "# Load MiDaS depth estimation model\n",
    "midas = torch.hub.load(\"intel-isl/MiDaS\", \"DPT_Large\")  # 'DPT_Large' for better accuracy\n",
    "midas.eval()\n",
    "device = torch.device(\"cuda\" if torch.cuda.is_available() else \"cpu\")\n",
    "midas.to(device)\n",
    "\n",
    "# Load MiDaS transforms\n",
    "transforms = torch.hub.load(\"intel-isl/MiDaS\", \"transforms\")\n",
    "transform = transforms.dpt_transform\n",
    "\n",
    "def estimate_depth(image):\n",
    "    \"\"\"Estimate depth using MiDaS.\"\"\"\n",
    "    img = cv2.cvtColor(image, cv2.COLOR_BGR2RGB)\n",
    "    img = transform(img).to(device)\n",
    "    \n",
    "    with torch.no_grad():\n",
    "        prediction = midas(img)\n",
    "        depth_map = prediction.squeeze().cpu().numpy()\n",
    "    \n",
    "    # Normalize depth values\n",
    "    depth_map = (depth_map - depth_map.min()) / (depth_map.max() - depth_map.min())\n",
    "    return depth_map\n",
    "\n",
    "def estimate_distance(bbox, depth_map):\n",
    "    \"\"\"Estimate real-world distance using depth estimation model.\"\"\"\n",
    "    x1, y1, x2, y2 = bbox\n",
    "    bbox_depth = depth_map[y1:y2, x1:x2]\n",
    "    avg_depth = np.mean(bbox_depth)\n",
    "    estimated_distance = avg_depth * 80  # Scaling factor (adjust as needed)\n",
    "    return round(estimated_distance, 2)\n",
    "\n",
    "def read_yolo_labels(label_path, image_width, image_height):\n",
    "    boxes = []\n",
    "    with open(label_path, \"r\") as file:\n",
    "        for line in file.readlines():\n",
    "            parts = line.strip().split()\n",
    "            \n",
    "            # Ensure we have at least 5 values (class, x_center, y_center, width, height)\n",
    "            if len(parts) < 5:\n",
    "                print(f\"⚠️ Skipping invalid label format in {label_path}: {line.strip()}\")\n",
    "                continue\n",
    "\n",
    "            # Convert first 5 values, ignore extra ones (e.g., confidence scores)\n",
    "            try:\n",
    "                class_id = int(float(parts[0]))  # Ensure class ID is an integer\n",
    "                x_center, y_center, width, height = map(float, parts[1:5])\n",
    "            except ValueError:\n",
    "                print(f\"⚠️ Error parsing values in {label_path}: {line.strip()}\")\n",
    "                continue\n",
    "\n",
    "            # Convert YOLO format to pixel coordinates\n",
    "            x1 = int((x_center - width / 2) * image_width)\n",
    "            y1 = int((y_center - height / 2) * image_height)\n",
    "            x2 = int((x_center + width / 2) * image_width)\n",
    "            y2 = int((y_center + height / 2) * image_height)\n",
    "\n",
    "            boxes.append({\"class_id\": class_id, \"bbox\": (x1, y1, x2, y2)})\n",
    "\n",
    "    return boxes\n",
    "\n",
    "\n",
    "import cv2\n",
    "import numpy as np\n",
    "import os\n",
    "\n",
    "def draw_bounding_boxes(image, detections, distances):\n",
    "    for det, distance in zip(detections, distances):\n",
    "        x1, y1, x2, y2 = det[\"bbox\"]\n",
    "\n",
    "        # Skip objects with NaN distances\n",
    "        if np.isnan(distance):\n",
    "            continue  \n",
    "\n",
    "        label = f\"Dist: {distance:.2f}m\"\n",
    "        color = (0, 255, 0)  # Green\n",
    "        thickness = 2\n",
    "\n",
    "        # Draw bounding box\n",
    "        cv2.rectangle(image, (x1, y1), (x2, y2), color, thickness)\n",
    "\n",
    "        # Draw text above the bounding box\n",
    "        font_scale = 0.7\n",
    "        font_thickness = 2\n",
    "        text_size = cv2.getTextSize(label, cv2.FONT_HERSHEY_SIMPLEX, font_scale, font_thickness)[0]\n",
    "        text_x, text_y = x1, max(y1 - 10, 10)\n",
    "        cv2.rectangle(image, (text_x, text_y - text_size[1] - 5), (text_x + text_size[0] + 5, text_y), color, -1)\n",
    "        cv2.putText(image, label, (text_x, text_y - 2), cv2.FONT_HERSHEY_SIMPLEX, font_scale, (0, 0, 0), font_thickness)\n",
    "\n",
    "    return image\n",
    "\n",
    "def process_images(image_folder, label_folder, output_folder):\n",
    "    os.makedirs(output_folder, exist_ok=True)\n",
    "\n",
    "    for image_file in os.listdir(image_folder):\n",
    "        if not image_file.endswith((\".jpg\", \".png\")):\n",
    "            continue\n",
    "\n",
    "        image_path = os.path.join(image_folder, image_file)\n",
    "        label_path = os.path.join(label_folder, os.path.splitext(image_file)[0] + \".txt\")\n",
    "\n",
    "        image = cv2.imread(image_path)\n",
    "        if image is None:\n",
    "            continue\n",
    "\n",
    "        image_height, image_width, _ = image.shape\n",
    "        depth_map = estimate_depth(image)  # Ensure this function returns a valid depth map\n",
    "\n",
    "        if os.path.exists(label_path):\n",
    "            detections = read_yolo_labels(label_path, image_width, image_height)\n",
    "            distances = []\n",
    "\n",
    "            for det in detections:\n",
    "                x1, y1, x2, y2 = det[\"bbox\"]\n",
    "                depth_crop = depth_map[y1:y2, x1:x2]\n",
    "                \n",
    "                # Compute average depth, handle NaNs\n",
    "                avg_depth = np.nanmean(depth_crop)\n",
    "                distances.append(avg_depth)\n",
    "\n",
    "            # Draw only valid bounding boxes\n",
    "            image = draw_bounding_boxes(image, detections, distances)\n",
    "\n",
    "        output_path = os.path.join(output_folder, image_file)\n",
    "        cv2.imwrite(output_path, image)\n",
    "        print(f\"Processed and saved: {output_path}\")\n",
    "\n",
    "\n",
    "\n",
    "# Define folder paths\n",
    "image_folder = \"C:/Users/bhavy/Downloads/yolov8/valid/images\"\n",
    "label_folder = \"C:/Users/bhavy/Downloads/yolov8/valid/labels\"\n",
    "output_folder = \"C:/Users/bhavy/yolov5/runs/detect/hybrid/distance_results1\"\n",
    "\n",
    "\n",
    "# Run the processing pipeline\n",
    "process_images(image_folder, label_folder, output_folder)\n"
   ]
  },
  {
   "cell_type": "code",
   "execution_count": 16,
   "id": "fe7ba61e",
   "metadata": {},
   "outputs": [
    {
     "name": "stdout",
     "output_type": "stream",
     "text": [
      "\n",
      "image 1/208 C:\\Users\\bhavy\\Downloads\\yolov8\\train\\images\\PXL_20250104_104232312_jpg.rf.1b96e41311eb5098b7ad952fd83195fd.jpg: 640x640 3 bikes, 4 persons, 1 truck, 264.1ms\n",
      "image 2/208 C:\\Users\\bhavy\\Downloads\\yolov8\\train\\images\\PXL_20250104_104232312_jpg.rf.7bf6d7392d26c783e0da9af76c39820d.jpg: 640x640 4 bikes, 1 person, 269.0ms\n",
      "image 3/208 C:\\Users\\bhavy\\Downloads\\yolov8\\train\\images\\PXL_20250104_104232312_jpg.rf.d3659b827489f44ac8483b8d4af17da1.jpg: 640x640 3 bikes, 2 persons, 1 truck, 249.6ms\n",
      "image 4/208 C:\\Users\\bhavy\\Downloads\\yolov8\\train\\images\\PXL_20250104_105836115_jpg.rf.142403a17a8f81df00375e51d6a35e8a.jpg: 640x640 1 auto, 13 bikes, 1 car, 48 persons, 234.4ms\n",
      "image 5/208 C:\\Users\\bhavy\\Downloads\\yolov8\\train\\images\\PXL_20250104_105836115_jpg.rf.21378a1dbe96090746f45bca17dfebb3.jpg: 640x640 1 auto, 10 bikes, 52 persons, 261.0ms\n",
      "image 6/208 C:\\Users\\bhavy\\Downloads\\yolov8\\train\\images\\PXL_20250104_105836115_jpg.rf.c82dfef65f84edb729b975b637e5f381.jpg: 640x640 1 auto, 11 bikes, 57 persons, 217.2ms\n",
      "image 7/208 C:\\Users\\bhavy\\Downloads\\yolov8\\train\\images\\PXL_20250104_110151241_jpg.rf.107fb84c477a64f824d898fc12d0839c.jpg: 640x640 1 bike, 11 persons, 223.3ms\n",
      "image 8/208 C:\\Users\\bhavy\\Downloads\\yolov8\\train\\images\\PXL_20250104_110151241_jpg.rf.7aac468fde68f567546b9296c6f1fdef.jpg: 640x640 21 persons, 226.8ms\n",
      "image 9/208 C:\\Users\\bhavy\\Downloads\\yolov8\\train\\images\\PXL_20250104_110151241_jpg.rf.8af6ae2bbbaa9104b80118c503692e7a.jpg: 640x640 1 bike, 9 persons, 214.5ms\n",
      "image 10/208 C:\\Users\\bhavy\\Downloads\\yolov8\\train\\images\\PXL_20250104_110210656_jpg.rf.07fbc91ebae316f6389f59ce2a89a6bf.jpg: 640x640 6 persons, 1 truck, 217.5ms\n",
      "image 11/208 C:\\Users\\bhavy\\Downloads\\yolov8\\train\\images\\PXL_20250104_110210656_jpg.rf.2f5f420dc0f2d4f50f3ebbecff0fa8f2.jpg: 640x640 9 persons, 1 truck, 238.3ms\n",
      "image 12/208 C:\\Users\\bhavy\\Downloads\\yolov8\\train\\images\\PXL_20250104_110210656_jpg.rf.c1867cbd3c76ed63cc319da49320354a.jpg: 640x640 7 persons, 1 truck, 225.9ms\n",
      "image 13/208 C:\\Users\\bhavy\\Downloads\\yolov8\\train\\images\\PXL_20250104_110233767_jpg.rf.2ac165f609c03c56c6c450b54c366a00.jpg: 640x640 10 bikes, 15 persons, 231.1ms\n",
      "image 14/208 C:\\Users\\bhavy\\Downloads\\yolov8\\train\\images\\PXL_20250104_110233767_jpg.rf.3d18cf5cbedd78c69e0a8db0287749ff.jpg: 640x640 8 bikes, 17 persons, 225.9ms\n",
      "image 15/208 C:\\Users\\bhavy\\Downloads\\yolov8\\train\\images\\PXL_20250104_110233767_jpg.rf.934f30b80fcf755d9f627da5dfb663ce.jpg: 640x640 2 bikes, 15 persons, 213.2ms\n",
      "image 16/208 C:\\Users\\bhavy\\Downloads\\yolov8\\train\\images\\PXL_20250104_110255752_jpg.rf.ee3efde83e70134bafdb62fa0629136b.jpg: 640x640 2 bikes, 6 persons, 225.5ms\n",
      "image 17/208 C:\\Users\\bhavy\\Downloads\\yolov8\\train\\images\\PXL_20250104_110255752_jpg.rf.eeee14e00ce68ec892e71ef8b159ecc8.jpg: 640x640 1 bike, 9 persons, 250.9ms\n",
      "image 18/208 C:\\Users\\bhavy\\Downloads\\yolov8\\train\\images\\PXL_20250104_110255752_jpg.rf.fe711559bbcb0181a860a67525370ba1.jpg: 640x640 6 bikes, 12 persons, 254.1ms\n",
      "image 19/208 C:\\Users\\bhavy\\Downloads\\yolov8\\train\\images\\PXL_20250104_110314628_jpg.rf.a0b93b80a2d721e03d20e0e77cc67039.jpg: 640x640 2 persons, 251.3ms\n",
      "image 20/208 C:\\Users\\bhavy\\Downloads\\yolov8\\train\\images\\PXL_20250104_110314628_jpg.rf.e353410ffb83b0ab9b795f93b3d355f0.jpg: 640x640 3 persons, 230.6ms\n",
      "image 21/208 C:\\Users\\bhavy\\Downloads\\yolov8\\train\\images\\PXL_20250104_110314628_jpg.rf.ece4b4c60baa8f214aa95a7b83dbeb41.jpg: 640x640 (no detections), 227.8ms\n",
      "image 22/208 C:\\Users\\bhavy\\Downloads\\yolov8\\train\\images\\PXL_20250104_110447215_jpg.rf.2634f8118ba96cab19bc66a2865963ac.jpg: 640x640 7 bikes, 40 persons, 236.1ms\n",
      "image 23/208 C:\\Users\\bhavy\\Downloads\\yolov8\\train\\images\\PXL_20250104_110447215_jpg.rf.a693d7396e9441ce5d1654e9f6b012ce.jpg: 640x640 4 bikes, 33 persons, 235.5ms\n",
      "image 24/208 C:\\Users\\bhavy\\Downloads\\yolov8\\train\\images\\PXL_20250104_110447215_jpg.rf.f82d79fd9a2452869cde452860e5c418.jpg: 640x640 5 bikes, 45 persons, 242.6ms\n",
      "image 25/208 C:\\Users\\bhavy\\Downloads\\yolov8\\train\\images\\PXL_20250104_110526029_jpg.rf.3b1a854ebb478c95c81b069fe5713050.jpg: 640x640 42 persons, 215.5ms\n",
      "image 26/208 C:\\Users\\bhavy\\Downloads\\yolov8\\train\\images\\PXL_20250104_110526029_jpg.rf.7888efc15e858cf73cf9a2d232bfe128.jpg: 640x640 69 persons, 223.2ms\n",
      "image 27/208 C:\\Users\\bhavy\\Downloads\\yolov8\\train\\images\\PXL_20250104_110526029_jpg.rf.c8c6ff291a9438f490b3f59cb4853885.jpg: 640x640 40 persons, 257.3ms\n",
      "image 28/208 C:\\Users\\bhavy\\Downloads\\yolov8\\train\\images\\PXL_20250104_110603015_jpg.rf.225c37c11829c30de00933050a19a94c.jpg: 640x640 3 bikes, 39 persons, 1 truck, 263.5ms\n",
      "image 29/208 C:\\Users\\bhavy\\Downloads\\yolov8\\train\\images\\PXL_20250104_110603015_jpg.rf.5cf9d4a5336c98bde095e3bd96124348.jpg: 640x640 2 bikes, 32 persons, 1 truck, 255.5ms\n",
      "image 30/208 C:\\Users\\bhavy\\Downloads\\yolov8\\train\\images\\PXL_20250104_110603015_jpg.rf.8da65c64f6b2078b9ffcf616443bbd77.jpg: 640x640 4 bikes, 36 persons, 1 truck, 222.2ms\n",
      "image 31/208 C:\\Users\\bhavy\\Downloads\\yolov8\\train\\images\\PXL_20250104_110620839_jpg.rf.908d8e643552b9c53dff183d7dc5a7f0.jpg: 640x640 7 bikes, 22 persons, 226.5ms\n",
      "image 32/208 C:\\Users\\bhavy\\Downloads\\yolov8\\train\\images\\PXL_20250104_110620839_jpg.rf.e5b06d36e163d6bcd2039d85a9594fc2.jpg: 640x640 9 bikes, 16 persons, 240.2ms\n",
      "image 33/208 C:\\Users\\bhavy\\Downloads\\yolov8\\train\\images\\PXL_20250104_110620839_jpg.rf.e6702018e2dbdbb80ad35f6d1a5b3145.jpg: 640x640 5 bikes, 19 persons, 246.8ms\n",
      "image 34/208 C:\\Users\\bhavy\\Downloads\\yolov8\\train\\images\\PXL_20250104_110639010_jpg.rf.134fad0a91503414d331649c8d303b75.jpg: 640x640 10 persons, 226.5ms\n",
      "image 35/208 C:\\Users\\bhavy\\Downloads\\yolov8\\train\\images\\PXL_20250104_110639010_jpg.rf.9fd98cfeddbb5894c29865acef74bef7.jpg: 640x640 12 persons, 218.9ms\n",
      "image 36/208 C:\\Users\\bhavy\\Downloads\\yolov8\\train\\images\\PXL_20250104_110639010_jpg.rf.e93a047f01e049ec1b7b278a66852335.jpg: 640x640 9 persons, 240.4ms\n",
      "image 37/208 C:\\Users\\bhavy\\Downloads\\yolov8\\train\\images\\PXL_20250104_110659876_jpg.rf.4187a250e3424c91ed3e71eaac29d68f.jpg: 640x640 1 car, 250.6ms\n",
      "image 38/208 C:\\Users\\bhavy\\Downloads\\yolov8\\train\\images\\PXL_20250104_110659876_jpg.rf.7508cb7ee4790c469df2d7ea9dec6edf.jpg: 640x640 1 car, 2 persons, 255.7ms\n",
      "image 39/208 C:\\Users\\bhavy\\Downloads\\yolov8\\train\\images\\PXL_20250104_110659876_jpg.rf.c7e8ee7fc066afb13a40dad6bd7fcf98.jpg: 640x640 1 person, 256.1ms\n",
      "image 40/208 C:\\Users\\bhavy\\Downloads\\yolov8\\train\\images\\PXL_20250104_110709833_jpg.rf.06a79adcd716a7f8e4480206f56e9b61.jpg: 640x640 5 bikes, 23 persons, 237.1ms\n",
      "image 41/208 C:\\Users\\bhavy\\Downloads\\yolov8\\train\\images\\PXL_20250104_110709833_jpg.rf.839b25df34c6084d525059c79325d218.jpg: 640x640 6 bikes, 17 persons, 270.8ms\n",
      "image 42/208 C:\\Users\\bhavy\\Downloads\\yolov8\\train\\images\\PXL_20250104_110709833_jpg.rf.ee933a100160a116943e8c153a24ee88.jpg: 640x640 4 bikes, 14 persons, 289.5ms\n",
      "image 43/208 C:\\Users\\bhavy\\Downloads\\yolov8\\train\\images\\PXL_20250104_110734033_jpg.rf.4a66dccc864060df00e6b4186f977ce7.jpg: 640x640 10 bikes, 28 persons, 228.1ms\n",
      "image 44/208 C:\\Users\\bhavy\\Downloads\\yolov8\\train\\images\\PXL_20250104_110734033_jpg.rf.684664faa86db85b991fed614067fbf6.jpg: 640x640 9 bikes, 24 persons, 226.8ms\n",
      "image 45/208 C:\\Users\\bhavy\\Downloads\\yolov8\\train\\images\\PXL_20250104_110734033_jpg.rf.ed2ef5ef080e3dc9b36dfc2043f7a753.jpg: 640x640 11 bikes, 33 persons, 247.9ms\n",
      "image 46/208 C:\\Users\\bhavy\\Downloads\\yolov8\\train\\images\\PXL_20250104_110808816_jpg.rf.02df45959e86696758bdd532e0edda4a.jpg: 640x640 3 bikes, 6 persons, 265.5ms\n",
      "image 47/208 C:\\Users\\bhavy\\Downloads\\yolov8\\train\\images\\PXL_20250104_110808816_jpg.rf.03a4a90d7631edbff0f59668df4d3d79.jpg: 640x640 2 bikes, 8 persons, 234.3ms\n",
      "image 48/208 C:\\Users\\bhavy\\Downloads\\yolov8\\train\\images\\PXL_20250104_110808816_jpg.rf.ca382edae8c67d8cece2083228beccf2.jpg: 640x640 3 bikes, 13 persons, 231.3ms\n",
      "image 49/208 C:\\Users\\bhavy\\Downloads\\yolov8\\train\\images\\PXL_20250104_110822969_jpg.rf.8b903a7ec69e06c42f3780db5f527430.jpg: 640x640 5 bikes, 35 persons, 1 truck, 245.0ms\n",
      "image 50/208 C:\\Users\\bhavy\\Downloads\\yolov8\\train\\images\\PXL_20250104_110822969_jpg.rf.91f22ddb275c5149a9c80740259eab28.jpg: 640x640 7 bikes, 43 persons, 1 truck, 226.2ms\n",
      "image 51/208 C:\\Users\\bhavy\\Downloads\\yolov8\\train\\images\\PXL_20250104_110822969_jpg.rf.f208eefc09262974e15b0696fd950378.jpg: 640x640 5 bikes, 31 persons, 1 truck, 237.5ms\n",
      "image 52/208 C:\\Users\\bhavy\\Downloads\\yolov8\\train\\images\\PXL_20250104_110842813_jpg.rf.0829858ddc6ed56c7caf2eb31d48559e.jpg: 640x640 2 bikes, 29 persons, 294.3ms\n",
      "image 53/208 C:\\Users\\bhavy\\Downloads\\yolov8\\train\\images\\PXL_20250104_110842813_jpg.rf.373a60516160db69d029efac2cad7fbc.jpg: 640x640 2 bikes, 26 persons, 272.7ms\n",
      "image 54/208 C:\\Users\\bhavy\\Downloads\\yolov8\\train\\images\\PXL_20250104_110842813_jpg.rf.ed09d641fe2d9546e68c7ed626006ff9.jpg: 640x640 2 bikes, 24 persons, 257.6ms\n",
      "image 55/208 C:\\Users\\bhavy\\Downloads\\yolov8\\train\\images\\PXL_20250104_110850137_jpg.rf.31dbead2f78f5d77ece1db7f853359b4.jpg: 640x640 6 bikes, 33 persons, 284.0ms\n",
      "image 56/208 C:\\Users\\bhavy\\Downloads\\yolov8\\train\\images\\PXL_20250104_110850137_jpg.rf.d07e5f8ea1b7f626afe965b7b660fbde.jpg: 640x640 3 bikes, 39 persons, 252.5ms\n",
      "image 57/208 C:\\Users\\bhavy\\Downloads\\yolov8\\train\\images\\PXL_20250104_110850137_jpg.rf.e9a414c241e4fdcd96c4a0b1bd2e54f0.jpg: 640x640 7 bikes, 30 persons, 240.0ms\n",
      "image 58/208 C:\\Users\\bhavy\\Downloads\\yolov8\\train\\images\\PXL_20250104_110902032_jpg.rf.114b939c5e933507955e9984708ad0ee.jpg: 640x640 1 auto, 4 bikes, 17 persons, 248.5ms\n",
      "image 59/208 C:\\Users\\bhavy\\Downloads\\yolov8\\train\\images\\PXL_20250104_110902032_jpg.rf.b2a76205df9f2d5a5e4477cd55fd73e2.jpg: 640x640 1 auto, 4 bikes, 6 persons, 231.6ms\n",
      "image 60/208 C:\\Users\\bhavy\\Downloads\\yolov8\\train\\images\\PXL_20250104_110902032_jpg.rf.dcf6a5a1605405401a2bfe7f64cf3525.jpg: 640x640 5 bikes, 9 persons, 1 truck, 245.6ms\n",
      "image 61/208 C:\\Users\\bhavy\\Downloads\\yolov8\\train\\images\\PXL_20250104_110931928_jpg.rf.1a94336027334aad903c7c69e0da1833.jpg: 640x640 12 bikes, 17 persons, 239.7ms\n",
      "image 62/208 C:\\Users\\bhavy\\Downloads\\yolov8\\train\\images\\PXL_20250104_110931928_jpg.rf.5e2785c72fcd5903903f3675b1c46ba4.jpg: 640x640 11 bikes, 24 persons, 244.0ms\n",
      "image 63/208 C:\\Users\\bhavy\\Downloads\\yolov8\\train\\images\\PXL_20250104_110931928_jpg.rf.f50f12ad5002873b79916bc02d94535b.jpg: 640x640 13 bikes, 29 persons, 240.3ms\n",
      "image 64/208 C:\\Users\\bhavy\\Downloads\\yolov8\\train\\images\\PXL_20250104_110949174_jpg.rf.34020cb985ab3d24c8bbe5d389bc685a.jpg: 640x640 1 auto, 8 bikes, 19 persons, 237.6ms\n",
      "image 65/208 C:\\Users\\bhavy\\Downloads\\yolov8\\train\\images\\PXL_20250104_110949174_jpg.rf.401c9ccb0d46d42196d798315008669a.jpg: 640x640 1 auto, 4 bikes, 25 persons, 228.4ms\n",
      "image 66/208 C:\\Users\\bhavy\\Downloads\\yolov8\\train\\images\\PXL_20250104_110949174_jpg.rf.ebe88703c27c5d7c27c2f74eefd57adc.jpg: 640x640 1 auto, 3 bikes, 25 persons, 244.3ms\n",
      "image 67/208 C:\\Users\\bhavy\\Downloads\\yolov8\\train\\images\\PXL_20250104_111026367_jpg.rf.4a69a015442a69f3b84f5a9550b6bc49.jpg: 640x640 2 bikes, 27 persons, 264.7ms\n",
      "image 68/208 C:\\Users\\bhavy\\Downloads\\yolov8\\train\\images\\PXL_20250104_111026367_jpg.rf.503ca69bed75ec462836d9419778c9f2.jpg: 640x640 28 persons, 259.2ms\n",
      "image 69/208 C:\\Users\\bhavy\\Downloads\\yolov8\\train\\images\\PXL_20250104_111026367_jpg.rf.91ae9098caca3aac837137fd5a5b8399.jpg: 640x640 1 bike, 30 persons, 281.8ms\n",
      "image 70/208 C:\\Users\\bhavy\\Downloads\\yolov8\\train\\images\\PXL_20250104_111039386_jpg.rf.216a1c060205e77fed7ad2ff6629e269.jpg: 640x640 2 bikes, 8 persons, 264.0ms\n",
      "image 71/208 C:\\Users\\bhavy\\Downloads\\yolov8\\train\\images\\PXL_20250104_111039386_jpg.rf.4eddccc78ae8b22585b91f74be448c22.jpg: 640x640 17 persons, 263.5ms\n",
      "image 72/208 C:\\Users\\bhavy\\Downloads\\yolov8\\train\\images\\PXL_20250104_111039386_jpg.rf.a831a567cf1dec3d7b45638f2a274dcf.jpg: 640x640 13 persons, 290.7ms\n",
      "image 73/208 C:\\Users\\bhavy\\Downloads\\yolov8\\train\\images\\PXL_20250104_111059011_jpg.rf.5334d4a8fb492e58c41bf049b83f2211.jpg: 640x640 5 bikes, 3 persons, 268.4ms\n",
      "image 74/208 C:\\Users\\bhavy\\Downloads\\yolov8\\train\\images\\PXL_20250104_111059011_jpg.rf.cf8a749d8366639425182e3461f6cd36.jpg: 640x640 4 bikes, 6 persons, 291.5ms\n",
      "image 75/208 C:\\Users\\bhavy\\Downloads\\yolov8\\train\\images\\PXL_20250104_111059011_jpg.rf.ddd683966a153f23d597e054e3481c7e.jpg: 640x640 5 bikes, 7 persons, 295.2ms\n",
      "image 76/208 C:\\Users\\bhavy\\Downloads\\yolov8\\train\\images\\PXL_20250104_111116507_jpg.rf.0a482512251d5ae13a987ed8e71eb282.jpg: 640x640 5 bikes, 7 persons, 289.8ms\n",
      "image 77/208 C:\\Users\\bhavy\\Downloads\\yolov8\\train\\images\\PXL_20250104_111116507_jpg.rf.4a31e421b57028f3b60603639b3fe310.jpg: 640x640 1 bike, 8 persons, 231.1ms\n",
      "image 78/208 C:\\Users\\bhavy\\Downloads\\yolov8\\train\\images\\PXL_20250104_111116507_jpg.rf.e9bde4c2ace52959eb1a2f30a9b527c3.jpg: 640x640 3 bikes, 14 persons, 252.5ms\n",
      "image 79/208 C:\\Users\\bhavy\\Downloads\\yolov8\\train\\images\\PXL_20250104_111126627_jpg.rf.3b2136e51a78e265211f676ec1502374.jpg: 640x640 6 bikes, 19 persons, 1 truck, 259.0ms\n",
      "image 80/208 C:\\Users\\bhavy\\Downloads\\yolov8\\train\\images\\PXL_20250104_111126627_jpg.rf.436ac4af8d6eb76e9ff9243f8308ca58.jpg: 640x640 4 bikes, 17 persons, 302.8ms\n",
      "image 81/208 C:\\Users\\bhavy\\Downloads\\yolov8\\train\\images\\PXL_20250104_111126627_jpg.rf.6fdf4942da2c6ab478578b988cccfe4b.jpg: 640x640 2 bikes, 12 persons, 295.8ms\n",
      "image 82/208 C:\\Users\\bhavy\\Downloads\\yolov8\\train\\images\\PXL_20250104_111157856_jpg.rf.0382819ea064f88d1f862dc26b680443.jpg: 640x640 2 cars, 15 persons, 299.7ms\n",
      "image 83/208 C:\\Users\\bhavy\\Downloads\\yolov8\\train\\images\\PXL_20250104_111157856_jpg.rf.1fa68da3affe5ffeb36790f3256a0213.jpg: 640x640 2 cars, 10 persons, 292.5ms\n",
      "image 84/208 C:\\Users\\bhavy\\Downloads\\yolov8\\train\\images\\PXL_20250104_111157856_jpg.rf.fdfe3af2df21f2a4b4dbbcae1b0ac51a.jpg: 640x640 4 cars, 6 persons, 298.6ms\n",
      "image 85/208 C:\\Users\\bhavy\\Downloads\\yolov8\\train\\images\\PXL_20250104_111330589_jpg.rf.5e6fc72864984911006c6febcc2647c1.jpg: 640x640 1 bike, 1 car, 30 persons, 301.3ms\n",
      "image 86/208 C:\\Users\\bhavy\\Downloads\\yolov8\\train\\images\\PXL_20250104_111330589_jpg.rf.c2c92ff91bfb7d3a54a3620c05ba5875.jpg: 640x640 1 auto, 2 bikes, 1 car, 29 persons, 309.2ms\n",
      "image 87/208 C:\\Users\\bhavy\\Downloads\\yolov8\\train\\images\\PXL_20250104_111330589_jpg.rf.cc076d9527482d9b7fdafe7a84495875.jpg: 640x640 2 bikes, 1 car, 27 persons, 270.5ms\n",
      "image 88/208 C:\\Users\\bhavy\\Downloads\\yolov8\\train\\images\\PXL_20250104_111348005_jpg.rf.645e7d1fc37f4715ba07a5d858202777.jpg: 640x640 2 autos, 8 bikes, 17 persons, 292.8ms\n",
      "image 89/208 C:\\Users\\bhavy\\Downloads\\yolov8\\train\\images\\PXL_20250104_111348005_jpg.rf.db51cda4037d6d807d5e21f655ada994.jpg: 640x640 1 auto, 6 bikes, 8 persons, 312.6ms\n",
      "image 90/208 C:\\Users\\bhavy\\Downloads\\yolov8\\train\\images\\PXL_20250104_111348005_jpg.rf.ed3b4eebf36faf247f88d3ed30bfe4da.jpg: 640x640 2 autos, 8 bikes, 16 persons, 273.0ms\n",
      "image 91/208 C:\\Users\\bhavy\\Downloads\\yolov8\\train\\images\\PXL_20250104_111350086_jpg.rf.839336fb64ab86b49daf94fced454177.jpg: 640x640 1 auto, 2 bikes, 34 persons, 276.9ms\n",
      "image 92/208 C:\\Users\\bhavy\\Downloads\\yolov8\\train\\images\\PXL_20250104_111350086_jpg.rf.8deb7c681a4d3edcb4a5e7dcbfa450ba.jpg: 640x640 1 auto, 2 bikes, 25 persons, 288.9ms\n",
      "image 93/208 C:\\Users\\bhavy\\Downloads\\yolov8\\train\\images\\PXL_20250104_111350086_jpg.rf.c3730a031d196800cfa4a78bd82b55a5.jpg: 640x640 1 auto, 3 bikes, 17 persons, 260.4ms\n",
      "image 94/208 C:\\Users\\bhavy\\Downloads\\yolov8\\train\\images\\PXL_20250104_111350795_jpg.rf.31b9c0d2dc714f85b8d71b07cc0676ed.jpg: 640x640 2 bikes, 19 persons, 222.4ms\n",
      "image 95/208 C:\\Users\\bhavy\\Downloads\\yolov8\\train\\images\\PXL_20250104_111350795_jpg.rf.60d06e30838be7302dcf802f63acbee0.jpg: 640x640 1 auto, 6 bikes, 17 persons, 217.8ms\n",
      "image 96/208 C:\\Users\\bhavy\\Downloads\\yolov8\\train\\images\\PXL_20250104_111350795_jpg.rf.9965e69385a49610997ede84f11d1afe.jpg: 640x640 1 auto, 2 bikes, 18 persons, 219.6ms\n",
      "image 97/208 C:\\Users\\bhavy\\Downloads\\yolov8\\train\\images\\PXL_20250104_111358746_jpg.rf.4ddff3c7adbbe92f201563b35d22fb54.jpg: 640x640 5 bikes, 19 persons, 1 truck, 224.1ms\n",
      "image 98/208 C:\\Users\\bhavy\\Downloads\\yolov8\\train\\images\\PXL_20250104_111358746_jpg.rf.b04f6904267a5fa74cf9c835b73d0414.jpg: 640x640 4 bikes, 14 persons, 1 truck, 231.1ms\n",
      "image 99/208 C:\\Users\\bhavy\\Downloads\\yolov8\\train\\images\\PXL_20250104_111358746_jpg.rf.b1bb21a2b853bd846d1f273f2a45cd4a.jpg: 640x640 6 bikes, 25 persons, 243.9ms\n",
      "image 100/208 C:\\Users\\bhavy\\Downloads\\yolov8\\train\\images\\PXL_20250104_111518081_jpg.rf.43798e1aff533b3ab1e3c9c6dccb75ee.jpg: 640x640 2 bikes, 26 persons, 252.1ms\n",
      "image 101/208 C:\\Users\\bhavy\\Downloads\\yolov8\\train\\images\\PXL_20250104_111518081_jpg.rf.a7ddb8e4e57dde0b2b1d4ee57b0ce681.jpg: 640x640 3 bikes, 22 persons, 235.2ms\n",
      "image 102/208 C:\\Users\\bhavy\\Downloads\\yolov8\\train\\images\\PXL_20250104_111518081_jpg.rf.ac29b7f324444b18adfb689e67eee340.jpg: 640x640 6 bikes, 25 persons, 238.7ms\n",
      "image 103/208 C:\\Users\\bhavy\\Downloads\\yolov8\\train\\images\\PXL_20250104_111632297_jpg.rf.6f2fe87cbf6d5cc080b8909ed635963e.jpg: 640x640 5 bikes, 1 car, 22 persons, 254.0ms\n",
      "image 104/208 C:\\Users\\bhavy\\Downloads\\yolov8\\train\\images\\PXL_20250104_111632297_jpg.rf.7f8fa1ff2da8d2a1a6c26b32dd305aa2.jpg: 640x640 9 bikes, 1 car, 23 persons, 247.3ms\n",
      "image 105/208 C:\\Users\\bhavy\\Downloads\\yolov8\\train\\images\\PXL_20250104_111632297_jpg.rf.9574dbf2c164d7de2a32ab5fb179ddd9.jpg: 640x640 4 bikes, 1 car, 18 persons, 252.4ms\n",
      "image 106/208 C:\\Users\\bhavy\\Downloads\\yolov8\\train\\images\\PXL_20250104_111633068_jpg.rf.047cf9e4540e86a43d315d8a12ad236d.jpg: 640x640 4 bikes, 1 car, 19 persons, 236.9ms\n",
      "image 107/208 C:\\Users\\bhavy\\Downloads\\yolov8\\train\\images\\PXL_20250104_111633068_jpg.rf.0ac90158411fea3921086c83f932a895.jpg: 640x640 7 bikes, 2 cars, 12 persons, 261.7ms\n",
      "image 108/208 C:\\Users\\bhavy\\Downloads\\yolov8\\train\\images\\PXL_20250104_111633068_jpg.rf.5f278e20df0056b498b0535954f2f3f1.jpg: 640x640 7 bikes, 1 car, 17 persons, 240.1ms\n",
      "image 109/208 C:\\Users\\bhavy\\Downloads\\yolov8\\train\\images\\PXL_20250104_111642741_jpg.rf.0b8271d09c6cc7b957ec620da1225fe2.jpg: 640x640 2 autos, 2 bikes, 1 car, 18 persons, 228.2ms\n",
      "image 110/208 C:\\Users\\bhavy\\Downloads\\yolov8\\train\\images\\PXL_20250104_111642741_jpg.rf.0c3736f413cfe5b1a0e4052b5a1b9c71.jpg: 640x640 2 autos, 4 bikes, 1 car, 13 persons, 1 truck, 231.7ms\n",
      "image 111/208 C:\\Users\\bhavy\\Downloads\\yolov8\\train\\images\\PXL_20250104_111642741_jpg.rf.517fb058a5ef42d7fb8bc5e963639937.jpg: 640x640 2 autos, 3 bikes, 21 persons, 233.4ms\n",
      "image 112/208 C:\\Users\\bhavy\\Downloads\\yolov8\\train\\images\\PXL_20250104_111732190_jpg.rf.26e4a2b42bd9f50e05947402715f44b4.jpg: 640x640 1 bike, 28 persons, 247.1ms\n",
      "image 113/208 C:\\Users\\bhavy\\Downloads\\yolov8\\train\\images\\PXL_20250104_111732190_jpg.rf.4b6f204f29d4ae9997339eeff55ae09d.jpg: 640x640 1 bike, 27 persons, 231.0ms\n",
      "image 114/208 C:\\Users\\bhavy\\Downloads\\yolov8\\train\\images\\PXL_20250104_111732190_jpg.rf.902819000b76c816d99a280ce9848195.jpg: 640x640 35 persons, 242.8ms\n",
      "image 115/208 C:\\Users\\bhavy\\Downloads\\yolov8\\train\\images\\PXL_20250104_111737197_jpg.rf.61be1738af89e2f936729fdd1d4a5fe5.jpg: 640x640 3 bikes, 16 persons, 250.8ms\n",
      "image 116/208 C:\\Users\\bhavy\\Downloads\\yolov8\\train\\images\\PXL_20250104_111737197_jpg.rf.88faf956a7f76f377703c22efb5078fc.jpg: 640x640 6 bikes, 5 persons, 260.2ms\n",
      "image 117/208 C:\\Users\\bhavy\\Downloads\\yolov8\\train\\images\\PXL_20250104_111737197_jpg.rf.e40bbdf820ba0189a10a152974c2f789.jpg: 640x640 7 bikes, 33 persons, 247.0ms\n",
      "image 118/208 C:\\Users\\bhavy\\Downloads\\yolov8\\train\\images\\PXL_20250104_111853966_jpg.rf.285d48351feb0e8c574c0eb00b2a449c.jpg: 640x640 1 bike, 1 car, 4 persons, 2 trucks, 244.1ms\n",
      "image 119/208 C:\\Users\\bhavy\\Downloads\\yolov8\\train\\images\\PXL_20250104_111853966_jpg.rf.79616f94beb19ee55a9ed568ecacf09d.jpg: 640x640 1 auto, 1 bike, 1 car, 1 person, 1 truck, 241.9ms\n",
      "image 120/208 C:\\Users\\bhavy\\Downloads\\yolov8\\train\\images\\PXL_20250104_111853966_jpg.rf.b9c42d05fae2aed1ec7acd214a87c84a.jpg: 640x640 2 bikes, 1 car, 4 persons, 1 truck, 222.1ms\n",
      "image 121/208 C:\\Users\\bhavy\\Downloads\\yolov8\\train\\images\\PXL_20250104_111933208_jpg.rf.5a7601117ab31c922fa4e43b53086024.jpg: 640x640 5 bikes, 2 cars, 17 persons, 213.0ms\n",
      "image 122/208 C:\\Users\\bhavy\\Downloads\\yolov8\\train\\images\\PXL_20250104_111933208_jpg.rf.7f26e1af7c19ff94bddd27a8efb050c0.jpg: 640x640 1 auto, 3 bikes, 1 car, 25 persons, 226.9ms\n",
      "image 123/208 C:\\Users\\bhavy\\Downloads\\yolov8\\train\\images\\PXL_20250104_111933208_jpg.rf.de04169cdcf3dc7dd8e36f69fcc7d7ce.jpg: 640x640 1 auto, 5 bikes, 2 cars, 23 persons, 1 truck, 227.6ms\n",
      "image 124/208 C:\\Users\\bhavy\\Downloads\\yolov8\\train\\images\\PXL_20250104_112000406_jpg.rf.25f7d53f1cac8053960e9dc857956ac7.jpg: 640x640 2 autos, 2 bikes, 2 cars, 9 persons, 241.4ms\n",
      "image 125/208 C:\\Users\\bhavy\\Downloads\\yolov8\\train\\images\\PXL_20250104_112000406_jpg.rf.9b692d81879abc19a4b8abb0f2380813.jpg: 640x640 2 autos, 2 bikes, 2 cars, 13 persons, 247.9ms\n",
      "image 126/208 C:\\Users\\bhavy\\Downloads\\yolov8\\train\\images\\PXL_20250104_112000406_jpg.rf.a5a9067fdb2148f5c2ac648fdbc9b764.jpg: 640x640 2 autos, 2 cars, 14 persons, 232.4ms\n",
      "image 127/208 C:\\Users\\bhavy\\Downloads\\yolov8\\train\\images\\PXL_20250104_112052543_jpg.rf.a24bb1b475d018d6f4d163b266466f6f.jpg: 640x640 1 bike, 39 persons, 261.2ms\n",
      "image 128/208 C:\\Users\\bhavy\\Downloads\\yolov8\\train\\images\\PXL_20250104_112052543_jpg.rf.b503c511450f7663f1748ba2371a690f.jpg: 640x640 1 bike, 32 persons, 231.0ms\n",
      "image 129/208 C:\\Users\\bhavy\\Downloads\\yolov8\\train\\images\\PXL_20250104_112052543_jpg.rf.b6afaf503d2a75c8eb52aaa2cfc804e5.jpg: 640x640 1 bike, 19 persons, 262.4ms\n",
      "image 130/208 C:\\Users\\bhavy\\Downloads\\yolov8\\train\\images\\PXL_20250104_112057406_jpg.rf.10b90fc0956a20ecf54ed6b4fd00c3f3.jpg: 640x640 1 auto, 4 bikes, 15 persons, 1 truck, 253.2ms\n",
      "image 131/208 C:\\Users\\bhavy\\Downloads\\yolov8\\train\\images\\PXL_20250104_112057406_jpg.rf.656f4ff1116f327ea0c7395fdc773f6f.jpg: 640x640 5 bikes, 1 car, 16 persons, 2 trucks, 256.6ms\n",
      "image 132/208 C:\\Users\\bhavy\\Downloads\\yolov8\\train\\images\\PXL_20250104_112057406_jpg.rf.b97b3c4d0597c06620421a715533f050.jpg: 640x640 1 auto, 4 bikes, 16 persons, 1 truck, 228.6ms\n",
      "image 133/208 C:\\Users\\bhavy\\Downloads\\yolov8\\train\\images\\PXL_20250104_112110828_jpg.rf.42b925916ffbd9da1c77f31b1eece157.jpg: 640x640 2 bikes, 29 persons, 256.7ms\n",
      "image 134/208 C:\\Users\\bhavy\\Downloads\\yolov8\\train\\images\\PXL_20250104_112110828_jpg.rf.7add1bfedf529bf322673fdc84d7d3f5.jpg: 640x640 31 persons, 220.0ms\n",
      "image 135/208 C:\\Users\\bhavy\\Downloads\\yolov8\\train\\images\\PXL_20250104_112110828_jpg.rf.918e9a56b995c20c75b48fb9682c8e3a.jpg: 640x640 2 bikes, 19 persons, 256.2ms\n",
      "image 136/208 C:\\Users\\bhavy\\Downloads\\yolov8\\train\\images\\PXL_20250104_112212937_jpg.rf.2c0065055abb05f6633a881d2465b6c2.jpg: 640x640 1 car, 6 persons, 1 truck, 236.1ms\n",
      "image 137/208 C:\\Users\\bhavy\\Downloads\\yolov8\\train\\images\\PXL_20250104_112212937_jpg.rf.9d3d8714d199627375a3bf6ceb05270d.jpg: 640x640 1 bike, 7 persons, 1 truck, 249.4ms\n",
      "image 138/208 C:\\Users\\bhavy\\Downloads\\yolov8\\train\\images\\PXL_20250104_112212937_jpg.rf.f9dffd45e91e9d89b19db23d6bd5fe53.jpg: 640x640 2 bikes, 6 persons, 1 truck, 245.3ms\n",
      "image 139/208 C:\\Users\\bhavy\\Downloads\\yolov8\\train\\images\\PXL_20250104_112236659_jpg.rf.205b6b8533b45aec4026e18f3df1b7e6.jpg: 640x640 4 bikes, 16 persons, 234.2ms\n",
      "image 140/208 C:\\Users\\bhavy\\Downloads\\yolov8\\train\\images\\PXL_20250104_112236659_jpg.rf.3cd3e5d8633136384ee921c47003e2e4.jpg: 640x640 9 bikes, 1 car, 17 persons, 252.6ms\n",
      "image 141/208 C:\\Users\\bhavy\\Downloads\\yolov8\\train\\images\\PXL_20250104_112236659_jpg.rf.58b6ab53620e952e2bbd51229f95777d.jpg: 640x640 7 bikes, 13 persons, 257.6ms\n",
      "image 142/208 C:\\Users\\bhavy\\Downloads\\yolov8\\train\\images\\PXL_20250104_112333028_jpg.rf.761b3400b3ea188ef6e6362d9606391d.jpg: 640x640 2 bikes, 26 persons, 243.4ms\n",
      "image 143/208 C:\\Users\\bhavy\\Downloads\\yolov8\\train\\images\\PXL_20250104_112333028_jpg.rf.825aeb87aa5071fffc61bcad906b31c8.jpg: 640x640 1 bike, 22 persons, 247.1ms\n",
      "image 144/208 C:\\Users\\bhavy\\Downloads\\yolov8\\train\\images\\PXL_20250104_112333028_jpg.rf.a66cb6a0ab9f39b2d0aaa2ced3850ace.jpg: 640x640 2 bikes, 24 persons, 231.6ms\n",
      "image 145/208 C:\\Users\\bhavy\\Downloads\\yolov8\\train\\images\\PXL_20250104_112356524_jpg.rf.b2e7116785faa42975d402c916ba3bd1.jpg: 640x640 9 bikes, 10 persons, 227.8ms\n",
      "image 146/208 C:\\Users\\bhavy\\Downloads\\yolov8\\train\\images\\PXL_20250104_112356524_jpg.rf.d119468a8e0f02ae26b7ac893e3663f9.jpg: 640x640 1 auto, 8 bikes, 10 persons, 232.7ms\n",
      "image 147/208 C:\\Users\\bhavy\\Downloads\\yolov8\\train\\images\\PXL_20250104_112356524_jpg.rf.f01b3b72cc33f3f8d8d824bcf1fd8308.jpg: 640x640 1 auto, 5 bikes, 18 persons, 226.4ms\n",
      "image 148/208 C:\\Users\\bhavy\\Downloads\\yolov8\\train\\images\\PXL_20250104_112423004_jpg.rf.4feb08d9f183e54b1cb15820e74de571.jpg: 640x640 9 bikes, 24 persons, 229.8ms\n",
      "image 149/208 C:\\Users\\bhavy\\Downloads\\yolov8\\train\\images\\PXL_20250104_112423004_jpg.rf.82e0e09a344434453a219b8062fb8f18.jpg: 640x640 10 bikes, 15 persons, 226.7ms\n",
      "image 150/208 C:\\Users\\bhavy\\Downloads\\yolov8\\train\\images\\PXL_20250104_112423004_jpg.rf.9134870dd9e98daba70da1d37e1b571d.jpg: 640x640 14 bikes, 20 persons, 235.2ms\n",
      "image 151/208 C:\\Users\\bhavy\\Downloads\\yolov8\\train\\images\\PXL_20250104_112427087_jpg.rf.0770c651bbb065f576bee15972355e7c.jpg: 640x640 8 bikes, 26 persons, 247.7ms\n",
      "image 152/208 C:\\Users\\bhavy\\Downloads\\yolov8\\train\\images\\PXL_20250104_112427087_jpg.rf.0db56d389053c12c2a3cfa818670e223.jpg: 640x640 7 bikes, 26 persons, 237.9ms\n",
      "image 153/208 C:\\Users\\bhavy\\Downloads\\yolov8\\train\\images\\PXL_20250104_112427087_jpg.rf.9ce998d512ed30134f20cbb56e8f6f3f.jpg: 640x640 6 bikes, 21 persons, 238.2ms\n",
      "image 154/208 C:\\Users\\bhavy\\Downloads\\yolov8\\train\\images\\PXL_20250104_112541070_jpg.rf.998218e9b5b4abc46d7784664e2e5c7e.jpg: 640x640 4 bikes, 3 persons, 242.9ms\n",
      "image 155/208 C:\\Users\\bhavy\\Downloads\\yolov8\\train\\images\\PXL_20250104_112541070_jpg.rf.def11e793e60037effbf24a55a76fc18.jpg: 640x640 5 bikes, 7 persons, 248.3ms\n",
      "image 156/208 C:\\Users\\bhavy\\Downloads\\yolov8\\train\\images\\PXL_20250104_112541070_jpg.rf.f2daf8ff08fb1198dea94773d9c896f2.jpg: 640x640 4 bikes, 3 persons, 250.2ms\n",
      "image 157/208 C:\\Users\\bhavy\\Downloads\\yolov8\\train\\images\\PXL_20250104_112545914_jpg.rf.26737d18f63afb30e9639e2fdb890400.jpg: 640x640 15 bikes, 18 persons, 259.8ms\n",
      "image 158/208 C:\\Users\\bhavy\\Downloads\\yolov8\\train\\images\\PXL_20250104_112545914_jpg.rf.34eee3c0fcb2a085a80688d07c464693.jpg: 640x640 1 auto, 17 bikes, 19 persons, 248.1ms\n",
      "image 159/208 C:\\Users\\bhavy\\Downloads\\yolov8\\train\\images\\PXL_20250104_112545914_jpg.rf.b4262e62f5faca411ff03e6b5221add3.jpg: 640x640 17 bikes, 25 persons, 230.1ms\n",
      "image 160/208 C:\\Users\\bhavy\\Downloads\\yolov8\\train\\images\\PXL_20250104_112600164_jpg.rf.120fe7422b1d640fd01bd06a7b82d85d.jpg: 640x640 5 bikes, 22 persons, 239.8ms\n",
      "image 161/208 C:\\Users\\bhavy\\Downloads\\yolov8\\train\\images\\PXL_20250104_112600164_jpg.rf.46a930d952eb794a4753769a4aca674a.jpg: 640x640 1 auto, 13 bikes, 22 persons, 251.7ms\n",
      "image 162/208 C:\\Users\\bhavy\\Downloads\\yolov8\\train\\images\\PXL_20250104_112600164_jpg.rf.c0755b1d631fda6e85ba2caf4ff568d8.jpg: 640x640 1 auto, 6 bikes, 27 persons, 250.2ms\n",
      "image 163/208 C:\\Users\\bhavy\\Downloads\\yolov8\\train\\images\\PXL_20250104_112604860_jpg.rf.1ff6806b288a8ae410d6f6b6e102a135.jpg: 640x640 3 bikes, 25 persons, 239.4ms\n",
      "image 164/208 C:\\Users\\bhavy\\Downloads\\yolov8\\train\\images\\PXL_20250104_112604860_jpg.rf.313b76a93dea9b3997dd9fb9bf1073b7.jpg: 640x640 3 bikes, 28 persons, 232.9ms\n",
      "image 165/208 C:\\Users\\bhavy\\Downloads\\yolov8\\train\\images\\PXL_20250104_112604860_jpg.rf.78f9776f0c23abcfc33760fc0439c588.jpg: 640x640 3 bikes, 35 persons, 239.5ms\n",
      "image 166/208 C:\\Users\\bhavy\\Downloads\\yolov8\\train\\images\\PXL_20250104_112624074_jpg.rf.0c0954d02537983e3d17271a27addef4.jpg: 640x640 1 auto, 2 bikes, 19 persons, 1 truck, 238.7ms\n",
      "image 167/208 C:\\Users\\bhavy\\Downloads\\yolov8\\train\\images\\PXL_20250104_112624074_jpg.rf.3719667f6174db81d903930cc45c3aeb.jpg: 640x640 1 auto, 4 bikes, 10 persons, 248.5ms\n",
      "image 168/208 C:\\Users\\bhavy\\Downloads\\yolov8\\train\\images\\PXL_20250104_112624074_jpg.rf.878946ebf3e0ef8e2540a8b319bea9eb.jpg: 640x640 4 bikes, 13 persons, 2 trucks, 240.2ms\n",
      "image 169/208 C:\\Users\\bhavy\\Downloads\\yolov8\\train\\images\\PXL_20250104_112637451_jpg.rf.8d0fa19c9d10b805089c488473873fc4.jpg: 640x640 2 bikes, 2 cars, 9 persons, 1 truck, 222.5ms\n",
      "image 170/208 C:\\Users\\bhavy\\Downloads\\yolov8\\train\\images\\PXL_20250104_112637451_jpg.rf.b79c468e2ce77e063cebe46f91a954bd.jpg: 640x640 1 auto, 3 bikes, 14 persons, 247.2ms\n",
      "image 171/208 C:\\Users\\bhavy\\Downloads\\yolov8\\train\\images\\PXL_20250104_112637451_jpg.rf.ec69e49bcfa2b22eb1ad7c56f8f4e509.jpg: 640x640 2 bikes, 14 persons, 1 truck, 260.3ms\n",
      "image 172/208 C:\\Users\\bhavy\\Downloads\\yolov8\\train\\images\\PXL_20250104_112713993_jpg.rf.833c6577454c53e72f65e80d1150ec41.jpg: 640x640 21 persons, 1 truck, 242.5ms\n",
      "image 173/208 C:\\Users\\bhavy\\Downloads\\yolov8\\train\\images\\PXL_20250104_112713993_jpg.rf.bc60e222be7ba6ad0fa19e5ae3c8e805.jpg: 640x640 35 persons, 1 truck, 262.0ms\n",
      "image 174/208 C:\\Users\\bhavy\\Downloads\\yolov8\\train\\images\\PXL_20250104_112713993_jpg.rf.c4775c28e310eff8aadfd505fece633b.jpg: 640x640 31 persons, 1 truck, 231.3ms\n",
      "image 175/208 C:\\Users\\bhavy\\Downloads\\yolov8\\train\\images\\PXL_20250104_112748359_jpg.rf.80c6c80d0e1b2107334dc68e4b2cb502.jpg: 640x640 1 person, 230.5ms\n",
      "image 176/208 C:\\Users\\bhavy\\Downloads\\yolov8\\train\\images\\PXL_20250104_112748359_jpg.rf.b51ad2a7b866362e407f5fac9de289a1.jpg: 640x640 1 bike, 2 persons, 231.1ms\n",
      "image 177/208 C:\\Users\\bhavy\\Downloads\\yolov8\\train\\images\\PXL_20250104_112748359_jpg.rf.df06deb1ca5d8aa064358242e938677e.jpg: 640x640 2 persons, 239.6ms\n",
      "image 178/208 C:\\Users\\bhavy\\Downloads\\yolov8\\train\\images\\PXL_20250104_112812159_jpg.rf.19ba72796d767975d3c6bdab376c0d0c.jpg: 640x640 10 persons, 236.4ms\n",
      "image 179/208 C:\\Users\\bhavy\\Downloads\\yolov8\\train\\images\\PXL_20250104_112812159_jpg.rf.9bc6536ef577af455a98d7b575b01b6a.jpg: 640x640 9 persons, 224.8ms\n",
      "image 180/208 C:\\Users\\bhavy\\Downloads\\yolov8\\train\\images\\PXL_20250104_112812159_jpg.rf.a446391c9b4705350bcaa1f88235feac.jpg: 640x640 21 persons, 257.0ms\n",
      "image 181/208 C:\\Users\\bhavy\\Downloads\\yolov8\\train\\images\\PXL_20250104_112936094_jpg.rf.5fe6abccd224bbd193a33c12c90704a0.jpg: 640x640 13 bikes, 37 persons, 251.2ms\n",
      "image 182/208 C:\\Users\\bhavy\\Downloads\\yolov8\\train\\images\\PXL_20250104_112936094_jpg.rf.63af1ece851dcb3670a55673fe959e97.jpg: 640x640 9 bikes, 22 persons, 1 truck, 265.6ms\n",
      "image 183/208 C:\\Users\\bhavy\\Downloads\\yolov8\\train\\images\\PXL_20250104_112936094_jpg.rf.fc12591df151d9ad761310b89d45f39a.jpg: 640x640 11 bikes, 29 persons, 235.8ms\n",
      "image 184/208 C:\\Users\\bhavy\\Downloads\\yolov8\\train\\images\\PXL_20250104_112944516_jpg.rf.15ef7e701502201a2d2b495703b48a50.jpg: 640x640 1 auto, 10 bikes, 1 car, 27 persons, 232.1ms\n",
      "image 185/208 C:\\Users\\bhavy\\Downloads\\yolov8\\train\\images\\PXL_20250104_112944516_jpg.rf.91820568824f92952f9fd99380ac906a.jpg: 640x640 1 auto, 4 bikes, 1 car, 23 persons, 249.1ms\n",
      "image 186/208 C:\\Users\\bhavy\\Downloads\\yolov8\\train\\images\\PXL_20250104_112944516_jpg.rf.ac4a9e77b97f42cd789cb8ba00c9c014.jpg: 640x640 1 auto, 7 bikes, 1 car, 12 persons, 245.9ms\n",
      "image 187/208 C:\\Users\\bhavy\\Downloads\\yolov8\\train\\images\\PXL_20250104_113010775_jpg.rf.4fb89b51dbef3360caf6de426d1cc146.jpg: 640x640 4 bikes, 36 persons, 229.0ms\n",
      "image 188/208 C:\\Users\\bhavy\\Downloads\\yolov8\\train\\images\\PXL_20250104_113010775_jpg.rf.e0c9e0863921a38c82dd1f58dec38246.jpg: 640x640 9 bikes, 30 persons, 252.8ms\n",
      "image 189/208 C:\\Users\\bhavy\\Downloads\\yolov8\\train\\images\\PXL_20250104_113010775_jpg.rf.ea9019b49dda88ee1b488b6d11e73b59.jpg: 640x640 4 bikes, 27 persons, 235.8ms\n",
      "image 190/208 C:\\Users\\bhavy\\Downloads\\yolov8\\train\\images\\PXL_20250104_113039517_jpg.rf.19b18a1bc015885a86a373cc1a7f7e42.jpg: 640x640 8 bikes, 56 persons, 237.9ms\n",
      "image 191/208 C:\\Users\\bhavy\\Downloads\\yolov8\\train\\images\\PXL_20250104_113039517_jpg.rf.1a4275672b9e2d3d398a8776399a7e26.jpg: 640x640 9 bikes, 50 persons, 257.6ms\n",
      "image 192/208 C:\\Users\\bhavy\\Downloads\\yolov8\\train\\images\\PXL_20250104_113039517_jpg.rf.ad2d4d986f2871a2e264d868e9e81e39.jpg: 640x640 14 bikes, 44 persons, 252.6ms\n",
      "image 193/208 C:\\Users\\bhavy\\Downloads\\yolov8\\train\\images\\dan-carlson-oTQVwECws8o-unsplash_jpg.rf.08d5c8012ff5a11e0cc2ebd8c364f0b6.jpg: 640x640 2 cars, 2 persons, 235.3ms\n",
      "image 194/208 C:\\Users\\bhavy\\Downloads\\yolov8\\train\\images\\data_1_jpg.rf.03abe96a9d5398c1ecb802d218dd9609.jpg: 640x640 20 persons, 230.9ms\n",
      "image 195/208 C:\\Users\\bhavy\\Downloads\\yolov8\\train\\images\\data_1_jpg.rf.bf1870739aa388baa703a27b93f2b407.jpg: 640x640 26 persons, 257.5ms\n",
      "image 196/208 C:\\Users\\bhavy\\Downloads\\yolov8\\train\\images\\data_1_jpg.rf.c8e637d10155502ff957852f8935d7f9.jpg: 640x640 19 persons, 244.8ms\n",
      "image 197/208 C:\\Users\\bhavy\\Downloads\\yolov8\\train\\images\\detect-1-_jpg.rf.cdb828b5556da2c104e64d4760b4d8b1.jpg: 640x640 1 bike, 1 car, 43 persons, 3 trucks, 253.5ms\n",
      "image 198/208 C:\\Users\\bhavy\\Downloads\\yolov8\\train\\images\\detect-1-_jpg.rf.dfef149ed215a2926a1c67bb0a655319.jpg: 640x640 1 bike, 36 persons, 3 trucks, 255.0ms\n",
      "image 199/208 C:\\Users\\bhavy\\Downloads\\yolov8\\train\\images\\detect-1-_jpg.rf.e20540f20ae0eb96c0af2955513338fa.jpg: 640x640 1 bike, 33 persons, 3 trucks, 247.7ms\n",
      "image 200/208 C:\\Users\\bhavy\\Downloads\\yolov8\\train\\images\\manh-nghiem-iVo_-81hNVA-unsplash_jpg.rf.01bec171897beef14a82999b81065645.jpg: 640x640 3 persons, 1 truck, 223.0ms\n",
      "image 201/208 C:\\Users\\bhavy\\Downloads\\yolov8\\train\\images\\manh-nghiem-iVo_-81hNVA-unsplash_jpg.rf.392853fa30303992549e4d7e0fc6049e.jpg: 640x640 1 person, 211.4ms\n",
      "image 202/208 C:\\Users\\bhavy\\Downloads\\yolov8\\train\\images\\manh-nghiem-iVo_-81hNVA-unsplash_jpg.rf.587748ffcbdbed49ac191a4795d9f689.jpg: 640x640 1 person, 211.6ms\n",
      "image 203/208 C:\\Users\\bhavy\\Downloads\\yolov8\\train\\images\\michael-daniels-yHh07IGJAJM-unsplash_jpg.rf.748f1bf9ed034ae26d728f9b9cec32c1.jpg: 640x640 4 cars, 49 persons, 1 truck, 213.3ms\n",
      "image 204/208 C:\\Users\\bhavy\\Downloads\\yolov8\\train\\images\\michael-daniels-yHh07IGJAJM-unsplash_jpg.rf.b3806dcc28dfab61ef2ba0320bd8a2cf.jpg: 640x640 4 cars, 53 persons, 1 truck, 254.8ms\n",
      "image 205/208 C:\\Users\\bhavy\\Downloads\\yolov8\\train\\images\\michael-daniels-yHh07IGJAJM-unsplash_jpg.rf.e6e196568c4a5a8fb0d7aaab34bc00fb.jpg: 640x640 4 cars, 71 persons, 1 truck, 263.9ms\n",
      "image 206/208 C:\\Users\\bhavy\\Downloads\\yolov8\\train\\images\\redd-francisco-u6aR3_lnXyY-unsplash_jpg.rf.20439a742219f3065b97419003a23fde.jpg: 640x640 9 persons, 243.2ms\n",
      "image 207/208 C:\\Users\\bhavy\\Downloads\\yolov8\\train\\images\\redd-francisco-u6aR3_lnXyY-unsplash_jpg.rf.56f3a744dc75977d2c4826f84bd16337.jpg: 640x640 6 persons, 237.2ms\n",
      "image 208/208 C:\\Users\\bhavy\\Downloads\\yolov8\\train\\images\\redd-francisco-u6aR3_lnXyY-unsplash_jpg.rf.72b56ea5ddb049185b570d5da6685f7f.jpg: 640x640 5 persons, 243.8ms\n",
      "Speed: 2.9ms preprocess, 246.4ms inference, 1.3ms postprocess per image at shape (1, 3, 640, 640)\n",
      "Results saved to \u001b[1mruns\\detect\\predict22\u001b[0m\n",
      "207 labels saved to runs\\detect\\predict22\\labels\n"
     ]
    }
   ],
   "source": [
    "# Load YOLOv8 model\n",
    "from ultralytics import YOLO\n",
    "\n",
    "# Load trained model\n",
    "yolo8_model = YOLO(\"runs/detect/train3/weights/best.pt\")\n",
    "\n",
    "# Run inference with label saving enabled\n",
    "results8 = yolo8_model.predict(\"C:/Users/bhavy/Downloads/yolov8/train/images\", save=True, save_txt=True, conf=0.5)\n"
   ]
  },
  {
   "cell_type": "code",
   "execution_count": 17,
   "id": "36fcea01",
   "metadata": {},
   "outputs": [
    {
     "name": "stdout",
     "output_type": "stream",
     "text": [
      "Current Directory: C:\\Users\\bhavy\\yolov5\n"
     ]
    }
   ],
   "source": [
    "import os\n",
    "\n",
    "# Change directory to YOLOv5\n",
    "os.chdir(\"C:/Users/bhavy/yolov5\")\n",
    "\n",
    "# Confirm current directory\n",
    "print(\"Current Directory:\", os.getcwd())\n"
   ]
  },
  {
   "cell_type": "code",
   "execution_count": 18,
   "id": "17977737",
   "metadata": {},
   "outputs": [
    {
     "name": "stdout",
     "output_type": "stream",
     "text": [
      "Predicted class id: 5\n",
      "Available class names: {0: 'auto', 1: 'bike', 2: 'bus', 3: 'car', 4: 'cycle', 5: 'person', 6: 'truck'}\n",
      "Predicted class id: 5\n",
      "Available class names: {0: 'auto', 1: 'bike', 2: 'bus', 3: 'car', 4: 'cycle', 5: 'person', 6: 'truck'}\n",
      "Predicted class id: 5\n",
      "Available class names: {0: 'auto', 1: 'bike', 2: 'bus', 3: 'car', 4: 'cycle', 5: 'person', 6: 'truck'}\n",
      "Predicted class id: 5\n",
      "Available class names: {0: 'auto', 1: 'bike', 2: 'bus', 3: 'car', 4: 'cycle', 5: 'person', 6: 'truck'}\n",
      "Predicted class id: 5\n",
      "Available class names: {0: 'auto', 1: 'bike', 2: 'bus', 3: 'car', 4: 'cycle', 5: 'person', 6: 'truck'}\n",
      "Predicted class id: 5\n",
      "Available class names: {0: 'auto', 1: 'bike', 2: 'bus', 3: 'car', 4: 'cycle', 5: 'person', 6: 'truck'}\n",
      "Predicted class id: 5\n",
      "Available class names: {0: 'auto', 1: 'bike', 2: 'bus', 3: 'car', 4: 'cycle', 5: 'person', 6: 'truck'}\n",
      "Predicted class id: 5\n",
      "Available class names: {0: 'auto', 1: 'bike', 2: 'bus', 3: 'car', 4: 'cycle', 5: 'person', 6: 'truck'}\n",
      "Predicted class id: 5\n",
      "Available class names: {0: 'auto', 1: 'bike', 2: 'bus', 3: 'car', 4: 'cycle', 5: 'person', 6: 'truck'}\n",
      "Predicted class id: 5\n",
      "Available class names: {0: 'auto', 1: 'bike', 2: 'bus', 3: 'car', 4: 'cycle', 5: 'person', 6: 'truck'}\n",
      "Predicted class id: 5\n",
      "Available class names: {0: 'auto', 1: 'bike', 2: 'bus', 3: 'car', 4: 'cycle', 5: 'person', 6: 'truck'}\n",
      "Predicted class id: 5\n",
      "Available class names: {0: 'auto', 1: 'bike', 2: 'bus', 3: 'car', 4: 'cycle', 5: 'person', 6: 'truck'}\n",
      "Predicted class id: 5\n",
      "Available class names: {0: 'auto', 1: 'bike', 2: 'bus', 3: 'car', 4: 'cycle', 5: 'person', 6: 'truck'}\n",
      "Predicted class id: 5\n",
      "Available class names: {0: 'auto', 1: 'bike', 2: 'bus', 3: 'car', 4: 'cycle', 5: 'person', 6: 'truck'}\n",
      "Predicted class id: 5\n",
      "Available class names: {0: 'auto', 1: 'bike', 2: 'bus', 3: 'car', 4: 'cycle', 5: 'person', 6: 'truck'}\n",
      "Predicted class id: 5\n",
      "Available class names: {0: 'auto', 1: 'bike', 2: 'bus', 3: 'car', 4: 'cycle', 5: 'person', 6: 'truck'}\n",
      "Predicted class id: 5\n",
      "Available class names: {0: 'auto', 1: 'bike', 2: 'bus', 3: 'car', 4: 'cycle', 5: 'person', 6: 'truck'}\n",
      "Predicted class id: 5\n",
      "Available class names: {0: 'auto', 1: 'bike', 2: 'bus', 3: 'car', 4: 'cycle', 5: 'person', 6: 'truck'}\n",
      "Predicted class id: 5\n",
      "Available class names: {0: 'auto', 1: 'bike', 2: 'bus', 3: 'car', 4: 'cycle', 5: 'person', 6: 'truck'}\n",
      "Predicted class id: 5\n",
      "Available class names: {0: 'auto', 1: 'bike', 2: 'bus', 3: 'car', 4: 'cycle', 5: 'person', 6: 'truck'}\n",
      "Predicted class id: 5\n",
      "Available class names: {0: 'auto', 1: 'bike', 2: 'bus', 3: 'car', 4: 'cycle', 5: 'person', 6: 'truck'}\n",
      "Predicted class id: 5\n",
      "Available class names: {0: 'auto', 1: 'bike', 2: 'bus', 3: 'car', 4: 'cycle', 5: 'person', 6: 'truck'}\n",
      "Predicted class id: 5\n",
      "Available class names: {0: 'auto', 1: 'bike', 2: 'bus', 3: 'car', 4: 'cycle', 5: 'person', 6: 'truck'}\n",
      "Predicted class id: 5\n",
      "Available class names: {0: 'auto', 1: 'bike', 2: 'bus', 3: 'car', 4: 'cycle', 5: 'person', 6: 'truck'}\n",
      "Predicted class id: 5\n",
      "Available class names: {0: 'auto', 1: 'bike', 2: 'bus', 3: 'car', 4: 'cycle', 5: 'person', 6: 'truck'}\n",
      "Predicted class id: 5\n",
      "Available class names: {0: 'auto', 1: 'bike', 2: 'bus', 3: 'car', 4: 'cycle', 5: 'person', 6: 'truck'}\n",
      "Predicted class id: 5\n",
      "Available class names: {0: 'auto', 1: 'bike', 2: 'bus', 3: 'car', 4: 'cycle', 5: 'person', 6: 'truck'}\n",
      "Predicted class id: 5\n",
      "Available class names: {0: 'auto', 1: 'bike', 2: 'bus', 3: 'car', 4: 'cycle', 5: 'person', 6: 'truck'}\n",
      "Predicted class id: 5\n",
      "Available class names: {0: 'auto', 1: 'bike', 2: 'bus', 3: 'car', 4: 'cycle', 5: 'person', 6: 'truck'}\n",
      "Predicted class id: 5\n",
      "Available class names: {0: 'auto', 1: 'bike', 2: 'bus', 3: 'car', 4: 'cycle', 5: 'person', 6: 'truck'}\n",
      "Predicted class id: 5\n",
      "Available class names: {0: 'auto', 1: 'bike', 2: 'bus', 3: 'car', 4: 'cycle', 5: 'person', 6: 'truck'}\n",
      "Predicted class id: 5\n",
      "Available class names: {0: 'auto', 1: 'bike', 2: 'bus', 3: 'car', 4: 'cycle', 5: 'person', 6: 'truck'}\n",
      "Predicted class id: 5\n",
      "Available class names: {0: 'auto', 1: 'bike', 2: 'bus', 3: 'car', 4: 'cycle', 5: 'person', 6: 'truck'}\n",
      "Predicted class id: 5\n",
      "Available class names: {0: 'auto', 1: 'bike', 2: 'bus', 3: 'car', 4: 'cycle', 5: 'person', 6: 'truck'}\n",
      "Predicted class id: 5\n",
      "Available class names: {0: 'auto', 1: 'bike', 2: 'bus', 3: 'car', 4: 'cycle', 5: 'person', 6: 'truck'}\n",
      "Predicted class id: 5\n",
      "Available class names: {0: 'auto', 1: 'bike', 2: 'bus', 3: 'car', 4: 'cycle', 5: 'person', 6: 'truck'}\n",
      "Predicted class id: 5\n",
      "Available class names: {0: 'auto', 1: 'bike', 2: 'bus', 3: 'car', 4: 'cycle', 5: 'person', 6: 'truck'}\n",
      "Predicted class id: 5\n",
      "Available class names: {0: 'auto', 1: 'bike', 2: 'bus', 3: 'car', 4: 'cycle', 5: 'person', 6: 'truck'}\n",
      "Predicted class id: 5\n",
      "Available class names: {0: 'auto', 1: 'bike', 2: 'bus', 3: 'car', 4: 'cycle', 5: 'person', 6: 'truck'}\n",
      "Predicted class id: 5\n",
      "Available class names: {0: 'auto', 1: 'bike', 2: 'bus', 3: 'car', 4: 'cycle', 5: 'person', 6: 'truck'}\n",
      "Predicted class id: 5\n",
      "Available class names: {0: 'auto', 1: 'bike', 2: 'bus', 3: 'car', 4: 'cycle', 5: 'person', 6: 'truck'}\n",
      "Predicted class id: 5\n",
      "Available class names: {0: 'auto', 1: 'bike', 2: 'bus', 3: 'car', 4: 'cycle', 5: 'person', 6: 'truck'}\n",
      "Predicted class id: 5\n",
      "Available class names: {0: 'auto', 1: 'bike', 2: 'bus', 3: 'car', 4: 'cycle', 5: 'person', 6: 'truck'}\n",
      "Predicted class id: 5\n",
      "Available class names: {0: 'auto', 1: 'bike', 2: 'bus', 3: 'car', 4: 'cycle', 5: 'person', 6: 'truck'}\n",
      "Predicted class id: 5\n",
      "Available class names: {0: 'auto', 1: 'bike', 2: 'bus', 3: 'car', 4: 'cycle', 5: 'person', 6: 'truck'}\n",
      "Predicted class id: 5\n",
      "Available class names: {0: 'auto', 1: 'bike', 2: 'bus', 3: 'car', 4: 'cycle', 5: 'person', 6: 'truck'}\n",
      "Predicted class id: 5\n",
      "Available class names: {0: 'auto', 1: 'bike', 2: 'bus', 3: 'car', 4: 'cycle', 5: 'person', 6: 'truck'}\n",
      "Predicted class id: 5\n",
      "Available class names: {0: 'auto', 1: 'bike', 2: 'bus', 3: 'car', 4: 'cycle', 5: 'person', 6: 'truck'}\n",
      "Predicted class id: 5\n",
      "Available class names: {0: 'auto', 1: 'bike', 2: 'bus', 3: 'car', 4: 'cycle', 5: 'person', 6: 'truck'}\n",
      "Predicted class id: 5\n",
      "Available class names: {0: 'auto', 1: 'bike', 2: 'bus', 3: 'car', 4: 'cycle', 5: 'person', 6: 'truck'}\n",
      "Predicted class id: 5\n",
      "Available class names: {0: 'auto', 1: 'bike', 2: 'bus', 3: 'car', 4: 'cycle', 5: 'person', 6: 'truck'}\n",
      "Predicted class id: 5\n",
      "Available class names: {0: 'auto', 1: 'bike', 2: 'bus', 3: 'car', 4: 'cycle', 5: 'person', 6: 'truck'}\n",
      "Predicted class id: 5\n",
      "Available class names: {0: 'auto', 1: 'bike', 2: 'bus', 3: 'car', 4: 'cycle', 5: 'person', 6: 'truck'}\n",
      "Predicted class id: 5\n",
      "Available class names: {0: 'auto', 1: 'bike', 2: 'bus', 3: 'car', 4: 'cycle', 5: 'person', 6: 'truck'}\n",
      "Predicted class id: 5\n",
      "Available class names: {0: 'auto', 1: 'bike', 2: 'bus', 3: 'car', 4: 'cycle', 5: 'person', 6: 'truck'}\n",
      "Predicted class id: 5\n",
      "Available class names: {0: 'auto', 1: 'bike', 2: 'bus', 3: 'car', 4: 'cycle', 5: 'person', 6: 'truck'}\n",
      "Predicted class id: 5\n",
      "Available class names: {0: 'auto', 1: 'bike', 2: 'bus', 3: 'car', 4: 'cycle', 5: 'person', 6: 'truck'}\n",
      "Predicted class id: 5\n",
      "Available class names: {0: 'auto', 1: 'bike', 2: 'bus', 3: 'car', 4: 'cycle', 5: 'person', 6: 'truck'}\n",
      "Predicted class id: 5\n",
      "Available class names: {0: 'auto', 1: 'bike', 2: 'bus', 3: 'car', 4: 'cycle', 5: 'person', 6: 'truck'}\n",
      "Predicted class id: 5\n",
      "Available class names: {0: 'auto', 1: 'bike', 2: 'bus', 3: 'car', 4: 'cycle', 5: 'person', 6: 'truck'}\n",
      "Predicted class id: 5\n",
      "Available class names: {0: 'auto', 1: 'bike', 2: 'bus', 3: 'car', 4: 'cycle', 5: 'person', 6: 'truck'}\n",
      "Predicted class id: 5\n",
      "Available class names: {0: 'auto', 1: 'bike', 2: 'bus', 3: 'car', 4: 'cycle', 5: 'person', 6: 'truck'}\n",
      "Predicted class id: 5\n",
      "Available class names: {0: 'auto', 1: 'bike', 2: 'bus', 3: 'car', 4: 'cycle', 5: 'person', 6: 'truck'}\n",
      "Predicted class id: 5\n",
      "Available class names: {0: 'auto', 1: 'bike', 2: 'bus', 3: 'car', 4: 'cycle', 5: 'person', 6: 'truck'}\n",
      "Predicted class id: 5\n",
      "Available class names: {0: 'auto', 1: 'bike', 2: 'bus', 3: 'car', 4: 'cycle', 5: 'person', 6: 'truck'}\n",
      "Predicted class id: 5\n",
      "Available class names: {0: 'auto', 1: 'bike', 2: 'bus', 3: 'car', 4: 'cycle', 5: 'person', 6: 'truck'}\n",
      "Predicted class id: 5\n",
      "Available class names: {0: 'auto', 1: 'bike', 2: 'bus', 3: 'car', 4: 'cycle', 5: 'person', 6: 'truck'}\n",
      "Predicted class id: 5\n",
      "Available class names: {0: 'auto', 1: 'bike', 2: 'bus', 3: 'car', 4: 'cycle', 5: 'person', 6: 'truck'}\n",
      "Predicted class id: 5\n",
      "Available class names: {0: 'auto', 1: 'bike', 2: 'bus', 3: 'car', 4: 'cycle', 5: 'person', 6: 'truck'}\n",
      "Predicted class id: 5\n",
      "Available class names: {0: 'auto', 1: 'bike', 2: 'bus', 3: 'car', 4: 'cycle', 5: 'person', 6: 'truck'}\n",
      "Predicted class id: 5\n",
      "Available class names: {0: 'auto', 1: 'bike', 2: 'bus', 3: 'car', 4: 'cycle', 5: 'person', 6: 'truck'}\n",
      "Predicted class id: 5\n",
      "Available class names: {0: 'auto', 1: 'bike', 2: 'bus', 3: 'car', 4: 'cycle', 5: 'person', 6: 'truck'}\n",
      "Predicted class id: 5\n",
      "Available class names: {0: 'auto', 1: 'bike', 2: 'bus', 3: 'car', 4: 'cycle', 5: 'person', 6: 'truck'}\n",
      "Predicted class id: 5\n",
      "Available class names: {0: 'auto', 1: 'bike', 2: 'bus', 3: 'car', 4: 'cycle', 5: 'person', 6: 'truck'}\n",
      "Predicted class id: 5\n",
      "Available class names: {0: 'auto', 1: 'bike', 2: 'bus', 3: 'car', 4: 'cycle', 5: 'person', 6: 'truck'}\n",
      "Predicted class id: 5\n",
      "Available class names: {0: 'auto', 1: 'bike', 2: 'bus', 3: 'car', 4: 'cycle', 5: 'person', 6: 'truck'}\n",
      "Predicted class id: 5\n",
      "Available class names: {0: 'auto', 1: 'bike', 2: 'bus', 3: 'car', 4: 'cycle', 5: 'person', 6: 'truck'}\n",
      "Predicted class id: 5\n",
      "Available class names: {0: 'auto', 1: 'bike', 2: 'bus', 3: 'car', 4: 'cycle', 5: 'person', 6: 'truck'}\n",
      "Predicted class id: 5\n",
      "Available class names: {0: 'auto', 1: 'bike', 2: 'bus', 3: 'car', 4: 'cycle', 5: 'person', 6: 'truck'}\n",
      "Predicted class id: 5\n",
      "Available class names: {0: 'auto', 1: 'bike', 2: 'bus', 3: 'car', 4: 'cycle', 5: 'person', 6: 'truck'}\n",
      "Predicted class id: 5\n",
      "Available class names: {0: 'auto', 1: 'bike', 2: 'bus', 3: 'car', 4: 'cycle', 5: 'person', 6: 'truck'}\n",
      "Predicted class id: 5\n",
      "Available class names: {0: 'auto', 1: 'bike', 2: 'bus', 3: 'car', 4: 'cycle', 5: 'person', 6: 'truck'}\n",
      "Predicted class id: 5\n",
      "Available class names: {0: 'auto', 1: 'bike', 2: 'bus', 3: 'car', 4: 'cycle', 5: 'person', 6: 'truck'}\n",
      "Predicted class id: 5\n",
      "Available class names: {0: 'auto', 1: 'bike', 2: 'bus', 3: 'car', 4: 'cycle', 5: 'person', 6: 'truck'}\n",
      "Predicted class id: 5\n",
      "Available class names: {0: 'auto', 1: 'bike', 2: 'bus', 3: 'car', 4: 'cycle', 5: 'person', 6: 'truck'}\n",
      "Predicted class id: 5\n",
      "Available class names: {0: 'auto', 1: 'bike', 2: 'bus', 3: 'car', 4: 'cycle', 5: 'person', 6: 'truck'}\n",
      "Predicted class id: 5\n",
      "Available class names: {0: 'auto', 1: 'bike', 2: 'bus', 3: 'car', 4: 'cycle', 5: 'person', 6: 'truck'}\n",
      "Predicted class id: 5\n",
      "Available class names: {0: 'auto', 1: 'bike', 2: 'bus', 3: 'car', 4: 'cycle', 5: 'person', 6: 'truck'}\n",
      "Predicted class id: 5\n",
      "Available class names: {0: 'auto', 1: 'bike', 2: 'bus', 3: 'car', 4: 'cycle', 5: 'person', 6: 'truck'}\n",
      "Predicted class id: 5\n",
      "Available class names: {0: 'auto', 1: 'bike', 2: 'bus', 3: 'car', 4: 'cycle', 5: 'person', 6: 'truck'}\n",
      "Predicted class id: 5\n",
      "Available class names: {0: 'auto', 1: 'bike', 2: 'bus', 3: 'car', 4: 'cycle', 5: 'person', 6: 'truck'}\n",
      "Predicted class id: 5\n",
      "Available class names: {0: 'auto', 1: 'bike', 2: 'bus', 3: 'car', 4: 'cycle', 5: 'person', 6: 'truck'}\n",
      "Predicted class id: 5\n",
      "Available class names: {0: 'auto', 1: 'bike', 2: 'bus', 3: 'car', 4: 'cycle', 5: 'person', 6: 'truck'}\n",
      "Predicted class id: 5\n",
      "Available class names: {0: 'auto', 1: 'bike', 2: 'bus', 3: 'car', 4: 'cycle', 5: 'person', 6: 'truck'}\n",
      "Predicted class id: 5\n",
      "Available class names: {0: 'auto', 1: 'bike', 2: 'bus', 3: 'car', 4: 'cycle', 5: 'person', 6: 'truck'}\n",
      "Predicted class id: 5\n",
      "Available class names: {0: 'auto', 1: 'bike', 2: 'bus', 3: 'car', 4: 'cycle', 5: 'person', 6: 'truck'}\n",
      "Predicted class id: 5\n",
      "Available class names: {0: 'auto', 1: 'bike', 2: 'bus', 3: 'car', 4: 'cycle', 5: 'person', 6: 'truck'}\n",
      "Predicted class id: 5\n",
      "Available class names: {0: 'auto', 1: 'bike', 2: 'bus', 3: 'car', 4: 'cycle', 5: 'person', 6: 'truck'}\n",
      "Predicted class id: 5\n",
      "Available class names: {0: 'auto', 1: 'bike', 2: 'bus', 3: 'car', 4: 'cycle', 5: 'person', 6: 'truck'}\n",
      "Predicted class id: 5\n",
      "Available class names: {0: 'auto', 1: 'bike', 2: 'bus', 3: 'car', 4: 'cycle', 5: 'person', 6: 'truck'}\n",
      "Predicted class id: 5\n",
      "Available class names: {0: 'auto', 1: 'bike', 2: 'bus', 3: 'car', 4: 'cycle', 5: 'person', 6: 'truck'}\n",
      "Predicted class id: 5\n",
      "Available class names: {0: 'auto', 1: 'bike', 2: 'bus', 3: 'car', 4: 'cycle', 5: 'person', 6: 'truck'}\n",
      "Predicted class id: 5\n",
      "Available class names: {0: 'auto', 1: 'bike', 2: 'bus', 3: 'car', 4: 'cycle', 5: 'person', 6: 'truck'}\n",
      "Predicted class id: 5\n",
      "Available class names: {0: 'auto', 1: 'bike', 2: 'bus', 3: 'car', 4: 'cycle', 5: 'person', 6: 'truck'}\n",
      "Predicted class id: 5\n",
      "Available class names: {0: 'auto', 1: 'bike', 2: 'bus', 3: 'car', 4: 'cycle', 5: 'person', 6: 'truck'}\n",
      "Predicted class id: 5\n",
      "Available class names: {0: 'auto', 1: 'bike', 2: 'bus', 3: 'car', 4: 'cycle', 5: 'person', 6: 'truck'}\n",
      "Predicted class id: 5\n",
      "Available class names: {0: 'auto', 1: 'bike', 2: 'bus', 3: 'car', 4: 'cycle', 5: 'person', 6: 'truck'}\n",
      "Predicted class id: 5\n",
      "Available class names: {0: 'auto', 1: 'bike', 2: 'bus', 3: 'car', 4: 'cycle', 5: 'person', 6: 'truck'}\n",
      "Predicted class id: 5\n",
      "Available class names: {0: 'auto', 1: 'bike', 2: 'bus', 3: 'car', 4: 'cycle', 5: 'person', 6: 'truck'}\n",
      "Predicted class id: 5\n",
      "Available class names: {0: 'auto', 1: 'bike', 2: 'bus', 3: 'car', 4: 'cycle', 5: 'person', 6: 'truck'}\n",
      "Predicted class id: 5\n",
      "Available class names: {0: 'auto', 1: 'bike', 2: 'bus', 3: 'car', 4: 'cycle', 5: 'person', 6: 'truck'}\n",
      "Predicted class id: 5\n",
      "Available class names: {0: 'auto', 1: 'bike', 2: 'bus', 3: 'car', 4: 'cycle', 5: 'person', 6: 'truck'}\n",
      "Predicted class id: 5\n",
      "Available class names: {0: 'auto', 1: 'bike', 2: 'bus', 3: 'car', 4: 'cycle', 5: 'person', 6: 'truck'}\n",
      "Predicted class id: 5\n",
      "Available class names: {0: 'auto', 1: 'bike', 2: 'bus', 3: 'car', 4: 'cycle', 5: 'person', 6: 'truck'}\n",
      "Predicted class id: 5\n",
      "Available class names: {0: 'auto', 1: 'bike', 2: 'bus', 3: 'car', 4: 'cycle', 5: 'person', 6: 'truck'}\n",
      "Predicted class id: 5\n",
      "Available class names: {0: 'auto', 1: 'bike', 2: 'bus', 3: 'car', 4: 'cycle', 5: 'person', 6: 'truck'}\n",
      "Predicted class id: 5\n",
      "Available class names: {0: 'auto', 1: 'bike', 2: 'bus', 3: 'car', 4: 'cycle', 5: 'person', 6: 'truck'}\n",
      "Predicted class id: 5\n",
      "Available class names: {0: 'auto', 1: 'bike', 2: 'bus', 3: 'car', 4: 'cycle', 5: 'person', 6: 'truck'}\n",
      "Predicted class id: 5\n",
      "Available class names: {0: 'auto', 1: 'bike', 2: 'bus', 3: 'car', 4: 'cycle', 5: 'person', 6: 'truck'}\n",
      "Predicted class id: 5\n",
      "Available class names: {0: 'auto', 1: 'bike', 2: 'bus', 3: 'car', 4: 'cycle', 5: 'person', 6: 'truck'}\n",
      "Predicted class id: 5\n",
      "Available class names: {0: 'auto', 1: 'bike', 2: 'bus', 3: 'car', 4: 'cycle', 5: 'person', 6: 'truck'}\n",
      "Predicted class id: 5\n",
      "Available class names: {0: 'auto', 1: 'bike', 2: 'bus', 3: 'car', 4: 'cycle', 5: 'person', 6: 'truck'}\n",
      "Predicted class id: 5\n",
      "Available class names: {0: 'auto', 1: 'bike', 2: 'bus', 3: 'car', 4: 'cycle', 5: 'person', 6: 'truck'}\n",
      "Predicted class id: 5\n",
      "Available class names: {0: 'auto', 1: 'bike', 2: 'bus', 3: 'car', 4: 'cycle', 5: 'person', 6: 'truck'}\n",
      "Predicted class id: 5\n",
      "Available class names: {0: 'auto', 1: 'bike', 2: 'bus', 3: 'car', 4: 'cycle', 5: 'person', 6: 'truck'}\n",
      "Predicted class id: 5\n",
      "Available class names: {0: 'auto', 1: 'bike', 2: 'bus', 3: 'car', 4: 'cycle', 5: 'person', 6: 'truck'}\n",
      "Predicted class id: 5\n",
      "Available class names: {0: 'auto', 1: 'bike', 2: 'bus', 3: 'car', 4: 'cycle', 5: 'person', 6: 'truck'}\n",
      "Predicted class id: 5\n",
      "Available class names: {0: 'auto', 1: 'bike', 2: 'bus', 3: 'car', 4: 'cycle', 5: 'person', 6: 'truck'}\n",
      "Predicted class id: 5\n",
      "Available class names: {0: 'auto', 1: 'bike', 2: 'bus', 3: 'car', 4: 'cycle', 5: 'person', 6: 'truck'}\n",
      "Predicted class id: 5\n",
      "Available class names: {0: 'auto', 1: 'bike', 2: 'bus', 3: 'car', 4: 'cycle', 5: 'person', 6: 'truck'}\n",
      "Predicted class id: 5\n",
      "Available class names: {0: 'auto', 1: 'bike', 2: 'bus', 3: 'car', 4: 'cycle', 5: 'person', 6: 'truck'}\n",
      "Predicted class id: 5\n",
      "Available class names: {0: 'auto', 1: 'bike', 2: 'bus', 3: 'car', 4: 'cycle', 5: 'person', 6: 'truck'}\n",
      "Predicted class id: 5\n",
      "Available class names: {0: 'auto', 1: 'bike', 2: 'bus', 3: 'car', 4: 'cycle', 5: 'person', 6: 'truck'}\n",
      "Predicted class id: 5\n",
      "Available class names: {0: 'auto', 1: 'bike', 2: 'bus', 3: 'car', 4: 'cycle', 5: 'person', 6: 'truck'}\n",
      "Predicted class id: 5\n",
      "Available class names: {0: 'auto', 1: 'bike', 2: 'bus', 3: 'car', 4: 'cycle', 5: 'person', 6: 'truck'}\n",
      "Predicted class id: 5\n",
      "Available class names: {0: 'auto', 1: 'bike', 2: 'bus', 3: 'car', 4: 'cycle', 5: 'person', 6: 'truck'}\n",
      "Predicted class id: 5\n",
      "Available class names: {0: 'auto', 1: 'bike', 2: 'bus', 3: 'car', 4: 'cycle', 5: 'person', 6: 'truck'}\n",
      "Predicted class id: 5\n",
      "Available class names: {0: 'auto', 1: 'bike', 2: 'bus', 3: 'car', 4: 'cycle', 5: 'person', 6: 'truck'}\n",
      "Predicted class id: 5\n",
      "Available class names: {0: 'auto', 1: 'bike', 2: 'bus', 3: 'car', 4: 'cycle', 5: 'person', 6: 'truck'}\n",
      "Predicted class id: 5\n",
      "Available class names: {0: 'auto', 1: 'bike', 2: 'bus', 3: 'car', 4: 'cycle', 5: 'person', 6: 'truck'}\n",
      "Predicted class id: 5\n",
      "Available class names: {0: 'auto', 1: 'bike', 2: 'bus', 3: 'car', 4: 'cycle', 5: 'person', 6: 'truck'}\n",
      "Predicted class id: 5\n",
      "Available class names: {0: 'auto', 1: 'bike', 2: 'bus', 3: 'car', 4: 'cycle', 5: 'person', 6: 'truck'}\n",
      "Predicted class id: 5\n",
      "Available class names: {0: 'auto', 1: 'bike', 2: 'bus', 3: 'car', 4: 'cycle', 5: 'person', 6: 'truck'}\n",
      "Predicted class id: 5\n",
      "Available class names: {0: 'auto', 1: 'bike', 2: 'bus', 3: 'car', 4: 'cycle', 5: 'person', 6: 'truck'}\n",
      "Predicted class id: 5\n",
      "Available class names: {0: 'auto', 1: 'bike', 2: 'bus', 3: 'car', 4: 'cycle', 5: 'person', 6: 'truck'}\n",
      "Predicted class id: 5\n",
      "Available class names: {0: 'auto', 1: 'bike', 2: 'bus', 3: 'car', 4: 'cycle', 5: 'person', 6: 'truck'}\n",
      "Predicted class id: 5\n",
      "Available class names: {0: 'auto', 1: 'bike', 2: 'bus', 3: 'car', 4: 'cycle', 5: 'person', 6: 'truck'}\n",
      "Predicted class id: 5\n",
      "Available class names: {0: 'auto', 1: 'bike', 2: 'bus', 3: 'car', 4: 'cycle', 5: 'person', 6: 'truck'}\n",
      "Predicted class id: 5\n",
      "Available class names: {0: 'auto', 1: 'bike', 2: 'bus', 3: 'car', 4: 'cycle', 5: 'person', 6: 'truck'}\n",
      "Predicted class id: 5\n",
      "Available class names: {0: 'auto', 1: 'bike', 2: 'bus', 3: 'car', 4: 'cycle', 5: 'person', 6: 'truck'}\n",
      "Predicted class id: 5\n",
      "Available class names: {0: 'auto', 1: 'bike', 2: 'bus', 3: 'car', 4: 'cycle', 5: 'person', 6: 'truck'}\n",
      "Predicted class id: 5\n",
      "Available class names: {0: 'auto', 1: 'bike', 2: 'bus', 3: 'car', 4: 'cycle', 5: 'person', 6: 'truck'}\n",
      "Predicted class id: 5\n",
      "Available class names: {0: 'auto', 1: 'bike', 2: 'bus', 3: 'car', 4: 'cycle', 5: 'person', 6: 'truck'}\n",
      "Predicted class id: 5\n",
      "Available class names: {0: 'auto', 1: 'bike', 2: 'bus', 3: 'car', 4: 'cycle', 5: 'person', 6: 'truck'}\n",
      "Predicted class id: 5\n",
      "Available class names: {0: 'auto', 1: 'bike', 2: 'bus', 3: 'car', 4: 'cycle', 5: 'person', 6: 'truck'}\n",
      "Predicted class id: 5\n",
      "Available class names: {0: 'auto', 1: 'bike', 2: 'bus', 3: 'car', 4: 'cycle', 5: 'person', 6: 'truck'}\n",
      "Predicted class id: 5\n",
      "Available class names: {0: 'auto', 1: 'bike', 2: 'bus', 3: 'car', 4: 'cycle', 5: 'person', 6: 'truck'}\n",
      "Predicted class id: 5\n",
      "Available class names: {0: 'auto', 1: 'bike', 2: 'bus', 3: 'car', 4: 'cycle', 5: 'person', 6: 'truck'}\n",
      "Predicted class id: 5\n",
      "Available class names: {0: 'auto', 1: 'bike', 2: 'bus', 3: 'car', 4: 'cycle', 5: 'person', 6: 'truck'}\n",
      "Predicted class id: 5\n",
      "Available class names: {0: 'auto', 1: 'bike', 2: 'bus', 3: 'car', 4: 'cycle', 5: 'person', 6: 'truck'}\n",
      "Predicted class id: 5\n",
      "Available class names: {0: 'auto', 1: 'bike', 2: 'bus', 3: 'car', 4: 'cycle', 5: 'person', 6: 'truck'}\n",
      "Predicted class id: 5\n",
      "Available class names: {0: 'auto', 1: 'bike', 2: 'bus', 3: 'car', 4: 'cycle', 5: 'person', 6: 'truck'}\n",
      "Predicted class id: 5\n",
      "Available class names: {0: 'auto', 1: 'bike', 2: 'bus', 3: 'car', 4: 'cycle', 5: 'person', 6: 'truck'}\n",
      "Predicted class id: 5\n",
      "Available class names: {0: 'auto', 1: 'bike', 2: 'bus', 3: 'car', 4: 'cycle', 5: 'person', 6: 'truck'}\n",
      "Predicted class id: 5\n",
      "Available class names: {0: 'auto', 1: 'bike', 2: 'bus', 3: 'car', 4: 'cycle', 5: 'person', 6: 'truck'}\n",
      "Predicted class id: 5\n",
      "Available class names: {0: 'auto', 1: 'bike', 2: 'bus', 3: 'car', 4: 'cycle', 5: 'person', 6: 'truck'}\n",
      "Predicted class id: 5\n",
      "Available class names: {0: 'auto', 1: 'bike', 2: 'bus', 3: 'car', 4: 'cycle', 5: 'person', 6: 'truck'}\n",
      "Predicted class id: 5\n",
      "Available class names: {0: 'auto', 1: 'bike', 2: 'bus', 3: 'car', 4: 'cycle', 5: 'person', 6: 'truck'}\n",
      "Predicted class id: 5\n",
      "Available class names: {0: 'auto', 1: 'bike', 2: 'bus', 3: 'car', 4: 'cycle', 5: 'person', 6: 'truck'}\n",
      "Predicted class id: 5\n",
      "Available class names: {0: 'auto', 1: 'bike', 2: 'bus', 3: 'car', 4: 'cycle', 5: 'person', 6: 'truck'}\n",
      "Predicted class id: 5\n",
      "Available class names: {0: 'auto', 1: 'bike', 2: 'bus', 3: 'car', 4: 'cycle', 5: 'person', 6: 'truck'}\n"
     ]
    },
    {
     "name": "stderr",
     "output_type": "stream",
     "text": [
      "\u001b[34m\u001b[1mdetect: \u001b[0mweights=['runs/train/exp2/weights/best.pt'], source=C:/Users/bhavy/Downloads/yolov8/train/images, data=data\\coco128.yaml, imgsz=[640, 640], conf_thres=0.5, iou_thres=0.45, max_det=1000, device=, view_img=False, save_txt=True, save_format=0, save_csv=False, save_conf=True, save_crop=False, nosave=False, classes=None, agnostic_nms=False, augment=False, visualize=False, update=False, project=runs\\detect, name=exp, exist_ok=False, line_thickness=3, hide_labels=False, hide_conf=False, half=False, dnn=False, vid_stride=1\n",
      "YOLOv5  v7.0-398-g5cdad892 Python-3.11.5 torch-2.2.2 CPU\n",
      "\n",
      "Fusing layers... \n",
      "Model summary: 157 layers, 7029004 parameters, 0 gradients, 15.8 GFLOPs\n",
      "image 1/208 C:\\Users\\bhavy\\Downloads\\yolov8\\train\\images\\PXL_20250104_104232312_jpg.rf.1b96e41311eb5098b7ad952fd83195fd.jpg: 640x640 (no detections), 353.4ms\n",
      "image 2/208 C:\\Users\\bhavy\\Downloads\\yolov8\\train\\images\\PXL_20250104_104232312_jpg.rf.7bf6d7392d26c783e0da9af76c39820d.jpg: 640x640 (no detections), 339.1ms\n",
      "image 3/208 C:\\Users\\bhavy\\Downloads\\yolov8\\train\\images\\PXL_20250104_104232312_jpg.rf.d3659b827489f44ac8483b8d4af17da1.jpg: 640x640 1 person, 328.6ms\n",
      "image 4/208 C:\\Users\\bhavy\\Downloads\\yolov8\\train\\images\\PXL_20250104_105836115_jpg.rf.142403a17a8f81df00375e51d6a35e8a.jpg: 640x640 3 persons, 308.0ms\n",
      "image 5/208 C:\\Users\\bhavy\\Downloads\\yolov8\\train\\images\\PXL_20250104_105836115_jpg.rf.21378a1dbe96090746f45bca17dfebb3.jpg: 640x640 2 persons, 357.2ms\n",
      "image 6/208 C:\\Users\\bhavy\\Downloads\\yolov8\\train\\images\\PXL_20250104_105836115_jpg.rf.c82dfef65f84edb729b975b637e5f381.jpg: 640x640 3 persons, 349.7ms\n",
      "image 7/208 C:\\Users\\bhavy\\Downloads\\yolov8\\train\\images\\PXL_20250104_110151241_jpg.rf.107fb84c477a64f824d898fc12d0839c.jpg: 640x640 2 persons, 304.3ms\n",
      "image 8/208 C:\\Users\\bhavy\\Downloads\\yolov8\\train\\images\\PXL_20250104_110151241_jpg.rf.7aac468fde68f567546b9296c6f1fdef.jpg: 640x640 1 person, 295.5ms\n",
      "image 9/208 C:\\Users\\bhavy\\Downloads\\yolov8\\train\\images\\PXL_20250104_110151241_jpg.rf.8af6ae2bbbaa9104b80118c503692e7a.jpg: 640x640 2 persons, 318.6ms\n",
      "image 10/208 C:\\Users\\bhavy\\Downloads\\yolov8\\train\\images\\PXL_20250104_110210656_jpg.rf.07fbc91ebae316f6389f59ce2a89a6bf.jpg: 640x640 1 person, 323.3ms\n",
      "image 11/208 C:\\Users\\bhavy\\Downloads\\yolov8\\train\\images\\PXL_20250104_110210656_jpg.rf.2f5f420dc0f2d4f50f3ebbecff0fa8f2.jpg: 640x640 2 persons, 329.8ms\n",
      "image 12/208 C:\\Users\\bhavy\\Downloads\\yolov8\\train\\images\\PXL_20250104_110210656_jpg.rf.c1867cbd3c76ed63cc319da49320354a.jpg: 640x640 1 person, 320.9ms\n",
      "image 13/208 C:\\Users\\bhavy\\Downloads\\yolov8\\train\\images\\PXL_20250104_110233767_jpg.rf.2ac165f609c03c56c6c450b54c366a00.jpg: 640x640 2 persons, 312.5ms\n",
      "image 14/208 C:\\Users\\bhavy\\Downloads\\yolov8\\train\\images\\PXL_20250104_110233767_jpg.rf.3d18cf5cbedd78c69e0a8db0287749ff.jpg: 640x640 1 person, 313.2ms\n",
      "image 15/208 C:\\Users\\bhavy\\Downloads\\yolov8\\train\\images\\PXL_20250104_110233767_jpg.rf.934f30b80fcf755d9f627da5dfb663ce.jpg: 640x640 1 person, 326.0ms\n",
      "image 16/208 C:\\Users\\bhavy\\Downloads\\yolov8\\train\\images\\PXL_20250104_110255752_jpg.rf.ee3efde83e70134bafdb62fa0629136b.jpg: 640x640 1 person, 320.1ms\n",
      "image 17/208 C:\\Users\\bhavy\\Downloads\\yolov8\\train\\images\\PXL_20250104_110255752_jpg.rf.eeee14e00ce68ec892e71ef8b159ecc8.jpg: 640x640 (no detections), 318.8ms\n",
      "image 18/208 C:\\Users\\bhavy\\Downloads\\yolov8\\train\\images\\PXL_20250104_110255752_jpg.rf.fe711559bbcb0181a860a67525370ba1.jpg: 640x640 1 person, 325.2ms\n",
      "image 19/208 C:\\Users\\bhavy\\Downloads\\yolov8\\train\\images\\PXL_20250104_110314628_jpg.rf.a0b93b80a2d721e03d20e0e77cc67039.jpg: 640x640 1 person, 318.7ms\n",
      "image 20/208 C:\\Users\\bhavy\\Downloads\\yolov8\\train\\images\\PXL_20250104_110314628_jpg.rf.e353410ffb83b0ab9b795f93b3d355f0.jpg: 640x640 1 person, 315.3ms\n",
      "image 21/208 C:\\Users\\bhavy\\Downloads\\yolov8\\train\\images\\PXL_20250104_110314628_jpg.rf.ece4b4c60baa8f214aa95a7b83dbeb41.jpg: 640x640 1 person, 323.9ms\n",
      "image 22/208 C:\\Users\\bhavy\\Downloads\\yolov8\\train\\images\\PXL_20250104_110447215_jpg.rf.2634f8118ba96cab19bc66a2865963ac.jpg: 640x640 3 persons, 324.1ms\n",
      "image 23/208 C:\\Users\\bhavy\\Downloads\\yolov8\\train\\images\\PXL_20250104_110447215_jpg.rf.a693d7396e9441ce5d1654e9f6b012ce.jpg: 640x640 3 persons, 322.8ms\n",
      "image 24/208 C:\\Users\\bhavy\\Downloads\\yolov8\\train\\images\\PXL_20250104_110447215_jpg.rf.f82d79fd9a2452869cde452860e5c418.jpg: 640x640 4 persons, 320.9ms\n",
      "image 25/208 C:\\Users\\bhavy\\Downloads\\yolov8\\train\\images\\PXL_20250104_110526029_jpg.rf.3b1a854ebb478c95c81b069fe5713050.jpg: 640x640 1 person, 303.7ms\n",
      "image 26/208 C:\\Users\\bhavy\\Downloads\\yolov8\\train\\images\\PXL_20250104_110526029_jpg.rf.7888efc15e858cf73cf9a2d232bfe128.jpg: 640x640 2 persons, 318.5ms\n",
      "image 27/208 C:\\Users\\bhavy\\Downloads\\yolov8\\train\\images\\PXL_20250104_110526029_jpg.rf.c8c6ff291a9438f490b3f59cb4853885.jpg: 640x640 2 persons, 328.3ms\n",
      "image 28/208 C:\\Users\\bhavy\\Downloads\\yolov8\\train\\images\\PXL_20250104_110603015_jpg.rf.225c37c11829c30de00933050a19a94c.jpg: 640x640 3 persons, 302.2ms\n",
      "image 29/208 C:\\Users\\bhavy\\Downloads\\yolov8\\train\\images\\PXL_20250104_110603015_jpg.rf.5cf9d4a5336c98bde095e3bd96124348.jpg: 640x640 3 persons, 314.4ms\n",
      "image 30/208 C:\\Users\\bhavy\\Downloads\\yolov8\\train\\images\\PXL_20250104_110603015_jpg.rf.8da65c64f6b2078b9ffcf616443bbd77.jpg: 640x640 5 persons, 363.6ms\n",
      "image 31/208 C:\\Users\\bhavy\\Downloads\\yolov8\\train\\images\\PXL_20250104_110620839_jpg.rf.908d8e643552b9c53dff183d7dc5a7f0.jpg: 640x640 2 persons, 377.1ms\n",
      "image 32/208 C:\\Users\\bhavy\\Downloads\\yolov8\\train\\images\\PXL_20250104_110620839_jpg.rf.e5b06d36e163d6bcd2039d85a9594fc2.jpg: 640x640 3 persons, 337.0ms\n",
      "image 33/208 C:\\Users\\bhavy\\Downloads\\yolov8\\train\\images\\PXL_20250104_110620839_jpg.rf.e6702018e2dbdbb80ad35f6d1a5b3145.jpg: 640x640 3 persons, 338.4ms\n",
      "image 34/208 C:\\Users\\bhavy\\Downloads\\yolov8\\train\\images\\PXL_20250104_110639010_jpg.rf.134fad0a91503414d331649c8d303b75.jpg: 640x640 1 person, 336.5ms\n",
      "image 35/208 C:\\Users\\bhavy\\Downloads\\yolov8\\train\\images\\PXL_20250104_110639010_jpg.rf.9fd98cfeddbb5894c29865acef74bef7.jpg: 640x640 (no detections), 313.5ms\n",
      "image 36/208 C:\\Users\\bhavy\\Downloads\\yolov8\\train\\images\\PXL_20250104_110639010_jpg.rf.e93a047f01e049ec1b7b278a66852335.jpg: 640x640 (no detections), 321.3ms\n",
      "image 37/208 C:\\Users\\bhavy\\Downloads\\yolov8\\train\\images\\PXL_20250104_110659876_jpg.rf.4187a250e3424c91ed3e71eaac29d68f.jpg: 640x640 1 person, 319.7ms\n",
      "image 38/208 C:\\Users\\bhavy\\Downloads\\yolov8\\train\\images\\PXL_20250104_110659876_jpg.rf.7508cb7ee4790c469df2d7ea9dec6edf.jpg: 640x640 2 persons, 306.9ms\n",
      "image 39/208 C:\\Users\\bhavy\\Downloads\\yolov8\\train\\images\\PXL_20250104_110659876_jpg.rf.c7e8ee7fc066afb13a40dad6bd7fcf98.jpg: 640x640 1 person, 323.3ms\n",
      "image 40/208 C:\\Users\\bhavy\\Downloads\\yolov8\\train\\images\\PXL_20250104_110709833_jpg.rf.06a79adcd716a7f8e4480206f56e9b61.jpg: 640x640 (no detections), 321.4ms\n",
      "image 41/208 C:\\Users\\bhavy\\Downloads\\yolov8\\train\\images\\PXL_20250104_110709833_jpg.rf.839b25df34c6084d525059c79325d218.jpg: 640x640 (no detections), 310.4ms\n",
      "image 42/208 C:\\Users\\bhavy\\Downloads\\yolov8\\train\\images\\PXL_20250104_110709833_jpg.rf.ee933a100160a116943e8c153a24ee88.jpg: 640x640 (no detections), 321.3ms\n",
      "image 43/208 C:\\Users\\bhavy\\Downloads\\yolov8\\train\\images\\PXL_20250104_110734033_jpg.rf.4a66dccc864060df00e6b4186f977ce7.jpg: 640x640 2 persons, 315.1ms\n",
      "image 44/208 C:\\Users\\bhavy\\Downloads\\yolov8\\train\\images\\PXL_20250104_110734033_jpg.rf.684664faa86db85b991fed614067fbf6.jpg: 640x640 2 persons, 317.1ms\n",
      "image 45/208 C:\\Users\\bhavy\\Downloads\\yolov8\\train\\images\\PXL_20250104_110734033_jpg.rf.ed2ef5ef080e3dc9b36dfc2043f7a753.jpg: 640x640 3 persons, 312.0ms\n",
      "image 46/208 C:\\Users\\bhavy\\Downloads\\yolov8\\train\\images\\PXL_20250104_110808816_jpg.rf.02df45959e86696758bdd532e0edda4a.jpg: 640x640 2 persons, 323.9ms\n",
      "image 47/208 C:\\Users\\bhavy\\Downloads\\yolov8\\train\\images\\PXL_20250104_110808816_jpg.rf.03a4a90d7631edbff0f59668df4d3d79.jpg: 640x640 (no detections), 320.0ms\n",
      "image 48/208 C:\\Users\\bhavy\\Downloads\\yolov8\\train\\images\\PXL_20250104_110808816_jpg.rf.ca382edae8c67d8cece2083228beccf2.jpg: 640x640 (no detections), 313.1ms\n",
      "image 49/208 C:\\Users\\bhavy\\Downloads\\yolov8\\train\\images\\PXL_20250104_110822969_jpg.rf.8b903a7ec69e06c42f3780db5f527430.jpg: 640x640 6 persons, 314.4ms\n",
      "image 50/208 C:\\Users\\bhavy\\Downloads\\yolov8\\train\\images\\PXL_20250104_110822969_jpg.rf.91f22ddb275c5149a9c80740259eab28.jpg: 640x640 4 persons, 330.2ms\n",
      "image 51/208 C:\\Users\\bhavy\\Downloads\\yolov8\\train\\images\\PXL_20250104_110822969_jpg.rf.f208eefc09262974e15b0696fd950378.jpg: 640x640 3 persons, 320.2ms\n",
      "image 52/208 C:\\Users\\bhavy\\Downloads\\yolov8\\train\\images\\PXL_20250104_110842813_jpg.rf.0829858ddc6ed56c7caf2eb31d48559e.jpg: 640x640 2 persons, 311.4ms\n",
      "image 53/208 C:\\Users\\bhavy\\Downloads\\yolov8\\train\\images\\PXL_20250104_110842813_jpg.rf.373a60516160db69d029efac2cad7fbc.jpg: 640x640 1 person, 315.8ms\n",
      "image 54/208 C:\\Users\\bhavy\\Downloads\\yolov8\\train\\images\\PXL_20250104_110842813_jpg.rf.ed09d641fe2d9546e68c7ed626006ff9.jpg: 640x640 2 persons, 322.3ms\n",
      "image 55/208 C:\\Users\\bhavy\\Downloads\\yolov8\\train\\images\\PXL_20250104_110850137_jpg.rf.31dbead2f78f5d77ece1db7f853359b4.jpg: 640x640 2 persons, 314.6ms\n",
      "image 56/208 C:\\Users\\bhavy\\Downloads\\yolov8\\train\\images\\PXL_20250104_110850137_jpg.rf.d07e5f8ea1b7f626afe965b7b660fbde.jpg: 640x640 4 persons, 315.6ms\n",
      "image 57/208 C:\\Users\\bhavy\\Downloads\\yolov8\\train\\images\\PXL_20250104_110850137_jpg.rf.e9a414c241e4fdcd96c4a0b1bd2e54f0.jpg: 640x640 6 persons, 304.3ms\n",
      "image 58/208 C:\\Users\\bhavy\\Downloads\\yolov8\\train\\images\\PXL_20250104_110902032_jpg.rf.114b939c5e933507955e9984708ad0ee.jpg: 640x640 1 person, 337.1ms\n",
      "image 59/208 C:\\Users\\bhavy\\Downloads\\yolov8\\train\\images\\PXL_20250104_110902032_jpg.rf.b2a76205df9f2d5a5e4477cd55fd73e2.jpg: 640x640 2 persons, 315.5ms\n",
      "image 60/208 C:\\Users\\bhavy\\Downloads\\yolov8\\train\\images\\PXL_20250104_110902032_jpg.rf.dcf6a5a1605405401a2bfe7f64cf3525.jpg: 640x640 1 person, 322.7ms\n",
      "image 61/208 C:\\Users\\bhavy\\Downloads\\yolov8\\train\\images\\PXL_20250104_110931928_jpg.rf.1a94336027334aad903c7c69e0da1833.jpg: 640x640 2 persons, 321.9ms\n",
      "image 62/208 C:\\Users\\bhavy\\Downloads\\yolov8\\train\\images\\PXL_20250104_110931928_jpg.rf.5e2785c72fcd5903903f3675b1c46ba4.jpg: 640x640 1 person, 322.2ms\n",
      "image 63/208 C:\\Users\\bhavy\\Downloads\\yolov8\\train\\images\\PXL_20250104_110931928_jpg.rf.f50f12ad5002873b79916bc02d94535b.jpg: 640x640 2 persons, 314.1ms\n",
      "image 64/208 C:\\Users\\bhavy\\Downloads\\yolov8\\train\\images\\PXL_20250104_110949174_jpg.rf.34020cb985ab3d24c8bbe5d389bc685a.jpg: 640x640 (no detections), 308.7ms\n",
      "image 65/208 C:\\Users\\bhavy\\Downloads\\yolov8\\train\\images\\PXL_20250104_110949174_jpg.rf.401c9ccb0d46d42196d798315008669a.jpg: 640x640 (no detections), 316.8ms\n",
      "image 66/208 C:\\Users\\bhavy\\Downloads\\yolov8\\train\\images\\PXL_20250104_110949174_jpg.rf.ebe88703c27c5d7c27c2f74eefd57adc.jpg: 640x640 (no detections), 322.8ms\n",
      "image 67/208 C:\\Users\\bhavy\\Downloads\\yolov8\\train\\images\\PXL_20250104_111026367_jpg.rf.4a69a015442a69f3b84f5a9550b6bc49.jpg: 640x640 4 persons, 310.5ms\n",
      "image 68/208 C:\\Users\\bhavy\\Downloads\\yolov8\\train\\images\\PXL_20250104_111026367_jpg.rf.503ca69bed75ec462836d9419778c9f2.jpg: 640x640 3 persons, 308.2ms\n",
      "image 69/208 C:\\Users\\bhavy\\Downloads\\yolov8\\train\\images\\PXL_20250104_111026367_jpg.rf.91ae9098caca3aac837137fd5a5b8399.jpg: 640x640 3 persons, 329.7ms\n",
      "image 70/208 C:\\Users\\bhavy\\Downloads\\yolov8\\train\\images\\PXL_20250104_111039386_jpg.rf.216a1c060205e77fed7ad2ff6629e269.jpg: 640x640 (no detections), 311.5ms\n",
      "image 71/208 C:\\Users\\bhavy\\Downloads\\yolov8\\train\\images\\PXL_20250104_111039386_jpg.rf.4eddccc78ae8b22585b91f74be448c22.jpg: 640x640 (no detections), 317.4ms\n",
      "image 72/208 C:\\Users\\bhavy\\Downloads\\yolov8\\train\\images\\PXL_20250104_111039386_jpg.rf.a831a567cf1dec3d7b45638f2a274dcf.jpg: 640x640 1 person, 318.2ms\n",
      "image 73/208 C:\\Users\\bhavy\\Downloads\\yolov8\\train\\images\\PXL_20250104_111059011_jpg.rf.5334d4a8fb492e58c41bf049b83f2211.jpg: 640x640 1 person, 314.2ms\n",
      "image 74/208 C:\\Users\\bhavy\\Downloads\\yolov8\\train\\images\\PXL_20250104_111059011_jpg.rf.cf8a749d8366639425182e3461f6cd36.jpg: 640x640 2 persons, 298.6ms\n",
      "image 75/208 C:\\Users\\bhavy\\Downloads\\yolov8\\train\\images\\PXL_20250104_111059011_jpg.rf.ddd683966a153f23d597e054e3481c7e.jpg: 640x640 2 persons, 308.6ms\n",
      "image 76/208 C:\\Users\\bhavy\\Downloads\\yolov8\\train\\images\\PXL_20250104_111116507_jpg.rf.0a482512251d5ae13a987ed8e71eb282.jpg: 640x640 2 persons, 292.3ms\n",
      "image 77/208 C:\\Users\\bhavy\\Downloads\\yolov8\\train\\images\\PXL_20250104_111116507_jpg.rf.4a31e421b57028f3b60603639b3fe310.jpg: 640x640 2 persons, 317.2ms\n",
      "image 78/208 C:\\Users\\bhavy\\Downloads\\yolov8\\train\\images\\PXL_20250104_111116507_jpg.rf.e9bde4c2ace52959eb1a2f30a9b527c3.jpg: 640x640 3 persons, 319.0ms\n",
      "image 79/208 C:\\Users\\bhavy\\Downloads\\yolov8\\train\\images\\PXL_20250104_111126627_jpg.rf.3b2136e51a78e265211f676ec1502374.jpg: 640x640 (no detections), 290.5ms\n",
      "image 80/208 C:\\Users\\bhavy\\Downloads\\yolov8\\train\\images\\PXL_20250104_111126627_jpg.rf.436ac4af8d6eb76e9ff9243f8308ca58.jpg: 640x640 2 persons, 293.0ms\n",
      "image 81/208 C:\\Users\\bhavy\\Downloads\\yolov8\\train\\images\\PXL_20250104_111126627_jpg.rf.6fdf4942da2c6ab478578b988cccfe4b.jpg: 640x640 (no detections), 315.4ms\n",
      "image 82/208 C:\\Users\\bhavy\\Downloads\\yolov8\\train\\images\\PXL_20250104_111157856_jpg.rf.0382819ea064f88d1f862dc26b680443.jpg: 640x640 (no detections), 305.0ms\n",
      "image 83/208 C:\\Users\\bhavy\\Downloads\\yolov8\\train\\images\\PXL_20250104_111157856_jpg.rf.1fa68da3affe5ffeb36790f3256a0213.jpg: 640x640 (no detections), 315.2ms\n",
      "image 84/208 C:\\Users\\bhavy\\Downloads\\yolov8\\train\\images\\PXL_20250104_111157856_jpg.rf.fdfe3af2df21f2a4b4dbbcae1b0ac51a.jpg: 640x640 (no detections), 311.0ms\n",
      "image 85/208 C:\\Users\\bhavy\\Downloads\\yolov8\\train\\images\\PXL_20250104_111330589_jpg.rf.5e6fc72864984911006c6febcc2647c1.jpg: 640x640 4 persons, 311.8ms\n",
      "image 86/208 C:\\Users\\bhavy\\Downloads\\yolov8\\train\\images\\PXL_20250104_111330589_jpg.rf.c2c92ff91bfb7d3a54a3620c05ba5875.jpg: 640x640 3 persons, 311.3ms\n",
      "image 87/208 C:\\Users\\bhavy\\Downloads\\yolov8\\train\\images\\PXL_20250104_111330589_jpg.rf.cc076d9527482d9b7fdafe7a84495875.jpg: 640x640 4 persons, 307.9ms\n",
      "image 88/208 C:\\Users\\bhavy\\Downloads\\yolov8\\train\\images\\PXL_20250104_111348005_jpg.rf.645e7d1fc37f4715ba07a5d858202777.jpg: 640x640 (no detections), 304.7ms\n",
      "image 89/208 C:\\Users\\bhavy\\Downloads\\yolov8\\train\\images\\PXL_20250104_111348005_jpg.rf.db51cda4037d6d807d5e21f655ada994.jpg: 640x640 1 person, 301.3ms\n",
      "image 90/208 C:\\Users\\bhavy\\Downloads\\yolov8\\train\\images\\PXL_20250104_111348005_jpg.rf.ed3b4eebf36faf247f88d3ed30bfe4da.jpg: 640x640 (no detections), 308.9ms\n",
      "image 91/208 C:\\Users\\bhavy\\Downloads\\yolov8\\train\\images\\PXL_20250104_111350086_jpg.rf.839336fb64ab86b49daf94fced454177.jpg: 640x640 3 persons, 309.2ms\n",
      "image 92/208 C:\\Users\\bhavy\\Downloads\\yolov8\\train\\images\\PXL_20250104_111350086_jpg.rf.8deb7c681a4d3edcb4a5e7dcbfa450ba.jpg: 640x640 3 persons, 317.0ms\n",
      "image 93/208 C:\\Users\\bhavy\\Downloads\\yolov8\\train\\images\\PXL_20250104_111350086_jpg.rf.c3730a031d196800cfa4a78bd82b55a5.jpg: 640x640 3 persons, 312.3ms\n",
      "image 94/208 C:\\Users\\bhavy\\Downloads\\yolov8\\train\\images\\PXL_20250104_111350795_jpg.rf.31b9c0d2dc714f85b8d71b07cc0676ed.jpg: 640x640 5 persons, 313.0ms\n",
      "image 95/208 C:\\Users\\bhavy\\Downloads\\yolov8\\train\\images\\PXL_20250104_111350795_jpg.rf.60d06e30838be7302dcf802f63acbee0.jpg: 640x640 4 persons, 309.4ms\n",
      "image 96/208 C:\\Users\\bhavy\\Downloads\\yolov8\\train\\images\\PXL_20250104_111350795_jpg.rf.9965e69385a49610997ede84f11d1afe.jpg: 640x640 5 persons, 314.6ms\n",
      "image 97/208 C:\\Users\\bhavy\\Downloads\\yolov8\\train\\images\\PXL_20250104_111358746_jpg.rf.4ddff3c7adbbe92f201563b35d22fb54.jpg: 640x640 1 person, 304.8ms\n",
      "image 98/208 C:\\Users\\bhavy\\Downloads\\yolov8\\train\\images\\PXL_20250104_111358746_jpg.rf.b04f6904267a5fa74cf9c835b73d0414.jpg: 640x640 1 person, 332.2ms\n",
      "image 99/208 C:\\Users\\bhavy\\Downloads\\yolov8\\train\\images\\PXL_20250104_111358746_jpg.rf.b1bb21a2b853bd846d1f273f2a45cd4a.jpg: 640x640 1 person, 365.8ms\n",
      "image 100/208 C:\\Users\\bhavy\\Downloads\\yolov8\\train\\images\\PXL_20250104_111518081_jpg.rf.43798e1aff533b3ab1e3c9c6dccb75ee.jpg: 640x640 2 persons, 324.3ms\n",
      "image 101/208 C:\\Users\\bhavy\\Downloads\\yolov8\\train\\images\\PXL_20250104_111518081_jpg.rf.a7ddb8e4e57dde0b2b1d4ee57b0ce681.jpg: 640x640 2 persons, 305.6ms\n",
      "image 102/208 C:\\Users\\bhavy\\Downloads\\yolov8\\train\\images\\PXL_20250104_111518081_jpg.rf.ac29b7f324444b18adfb689e67eee340.jpg: 640x640 2 persons, 332.7ms\n",
      "image 103/208 C:\\Users\\bhavy\\Downloads\\yolov8\\train\\images\\PXL_20250104_111632297_jpg.rf.6f2fe87cbf6d5cc080b8909ed635963e.jpg: 640x640 2 persons, 330.3ms\n",
      "image 104/208 C:\\Users\\bhavy\\Downloads\\yolov8\\train\\images\\PXL_20250104_111632297_jpg.rf.7f8fa1ff2da8d2a1a6c26b32dd305aa2.jpg: 640x640 2 persons, 325.4ms\n",
      "image 105/208 C:\\Users\\bhavy\\Downloads\\yolov8\\train\\images\\PXL_20250104_111632297_jpg.rf.9574dbf2c164d7de2a32ab5fb179ddd9.jpg: 640x640 2 persons, 317.9ms\n",
      "image 106/208 C:\\Users\\bhavy\\Downloads\\yolov8\\train\\images\\PXL_20250104_111633068_jpg.rf.047cf9e4540e86a43d315d8a12ad236d.jpg: 640x640 1 person, 313.0ms\n",
      "image 107/208 C:\\Users\\bhavy\\Downloads\\yolov8\\train\\images\\PXL_20250104_111633068_jpg.rf.0ac90158411fea3921086c83f932a895.jpg: 640x640 1 person, 303.0ms\n",
      "image 108/208 C:\\Users\\bhavy\\Downloads\\yolov8\\train\\images\\PXL_20250104_111633068_jpg.rf.5f278e20df0056b498b0535954f2f3f1.jpg: 640x640 2 persons, 311.4ms\n",
      "image 109/208 C:\\Users\\bhavy\\Downloads\\yolov8\\train\\images\\PXL_20250104_111642741_jpg.rf.0b8271d09c6cc7b957ec620da1225fe2.jpg: 640x640 3 persons, 313.9ms\n",
      "image 110/208 C:\\Users\\bhavy\\Downloads\\yolov8\\train\\images\\PXL_20250104_111642741_jpg.rf.0c3736f413cfe5b1a0e4052b5a1b9c71.jpg: 640x640 3 persons, 331.2ms\n",
      "image 111/208 C:\\Users\\bhavy\\Downloads\\yolov8\\train\\images\\PXL_20250104_111642741_jpg.rf.517fb058a5ef42d7fb8bc5e963639937.jpg: 640x640 3 persons, 323.3ms\n",
      "image 112/208 C:\\Users\\bhavy\\Downloads\\yolov8\\train\\images\\PXL_20250104_111732190_jpg.rf.26e4a2b42bd9f50e05947402715f44b4.jpg: 640x640 1 person, 321.1ms\n",
      "image 113/208 C:\\Users\\bhavy\\Downloads\\yolov8\\train\\images\\PXL_20250104_111732190_jpg.rf.4b6f204f29d4ae9997339eeff55ae09d.jpg: 640x640 2 persons, 296.9ms\n",
      "image 114/208 C:\\Users\\bhavy\\Downloads\\yolov8\\train\\images\\PXL_20250104_111732190_jpg.rf.902819000b76c816d99a280ce9848195.jpg: 640x640 2 persons, 301.5ms\n",
      "image 115/208 C:\\Users\\bhavy\\Downloads\\yolov8\\train\\images\\PXL_20250104_111737197_jpg.rf.61be1738af89e2f936729fdd1d4a5fe5.jpg: 640x640 2 persons, 318.0ms\n",
      "image 116/208 C:\\Users\\bhavy\\Downloads\\yolov8\\train\\images\\PXL_20250104_111737197_jpg.rf.88faf956a7f76f377703c22efb5078fc.jpg: 640x640 3 persons, 314.3ms\n",
      "image 117/208 C:\\Users\\bhavy\\Downloads\\yolov8\\train\\images\\PXL_20250104_111737197_jpg.rf.e40bbdf820ba0189a10a152974c2f789.jpg: 640x640 2 persons, 307.8ms\n",
      "image 118/208 C:\\Users\\bhavy\\Downloads\\yolov8\\train\\images\\PXL_20250104_111853966_jpg.rf.285d48351feb0e8c574c0eb00b2a449c.jpg: 640x640 1 person, 337.2ms\n",
      "image 119/208 C:\\Users\\bhavy\\Downloads\\yolov8\\train\\images\\PXL_20250104_111853966_jpg.rf.79616f94beb19ee55a9ed568ecacf09d.jpg: 640x640 2 persons, 308.2ms\n",
      "image 120/208 C:\\Users\\bhavy\\Downloads\\yolov8\\train\\images\\PXL_20250104_111853966_jpg.rf.b9c42d05fae2aed1ec7acd214a87c84a.jpg: 640x640 2 persons, 305.4ms\n",
      "image 121/208 C:\\Users\\bhavy\\Downloads\\yolov8\\train\\images\\PXL_20250104_111933208_jpg.rf.5a7601117ab31c922fa4e43b53086024.jpg: 640x640 2 persons, 321.0ms\n",
      "image 122/208 C:\\Users\\bhavy\\Downloads\\yolov8\\train\\images\\PXL_20250104_111933208_jpg.rf.7f26e1af7c19ff94bddd27a8efb050c0.jpg: 640x640 2 persons, 333.7ms\n",
      "image 123/208 C:\\Users\\bhavy\\Downloads\\yolov8\\train\\images\\PXL_20250104_111933208_jpg.rf.de04169cdcf3dc7dd8e36f69fcc7d7ce.jpg: 640x640 2 persons, 320.9ms\n",
      "image 124/208 C:\\Users\\bhavy\\Downloads\\yolov8\\train\\images\\PXL_20250104_112000406_jpg.rf.25f7d53f1cac8053960e9dc857956ac7.jpg: 640x640 (no detections), 310.3ms\n",
      "image 125/208 C:\\Users\\bhavy\\Downloads\\yolov8\\train\\images\\PXL_20250104_112000406_jpg.rf.9b692d81879abc19a4b8abb0f2380813.jpg: 640x640 (no detections), 338.2ms\n",
      "image 126/208 C:\\Users\\bhavy\\Downloads\\yolov8\\train\\images\\PXL_20250104_112000406_jpg.rf.a5a9067fdb2148f5c2ac648fdbc9b764.jpg: 640x640 (no detections), 329.8ms\n",
      "image 127/208 C:\\Users\\bhavy\\Downloads\\yolov8\\train\\images\\PXL_20250104_112052543_jpg.rf.a24bb1b475d018d6f4d163b266466f6f.jpg: 640x640 4 persons, 317.4ms\n",
      "image 128/208 C:\\Users\\bhavy\\Downloads\\yolov8\\train\\images\\PXL_20250104_112052543_jpg.rf.b503c511450f7663f1748ba2371a690f.jpg: 640x640 4 persons, 313.5ms\n",
      "image 129/208 C:\\Users\\bhavy\\Downloads\\yolov8\\train\\images\\PXL_20250104_112052543_jpg.rf.b6afaf503d2a75c8eb52aaa2cfc804e5.jpg: 640x640 3 persons, 316.9ms\n",
      "image 130/208 C:\\Users\\bhavy\\Downloads\\yolov8\\train\\images\\PXL_20250104_112057406_jpg.rf.10b90fc0956a20ecf54ed6b4fd00c3f3.jpg: 640x640 2 persons, 313.4ms\n",
      "image 131/208 C:\\Users\\bhavy\\Downloads\\yolov8\\train\\images\\PXL_20250104_112057406_jpg.rf.656f4ff1116f327ea0c7395fdc773f6f.jpg: 640x640 2 persons, 327.9ms\n",
      "image 132/208 C:\\Users\\bhavy\\Downloads\\yolov8\\train\\images\\PXL_20250104_112057406_jpg.rf.b97b3c4d0597c06620421a715533f050.jpg: 640x640 2 persons, 322.4ms\n",
      "image 133/208 C:\\Users\\bhavy\\Downloads\\yolov8\\train\\images\\PXL_20250104_112110828_jpg.rf.42b925916ffbd9da1c77f31b1eece157.jpg: 640x640 1 person, 325.3ms\n",
      "image 134/208 C:\\Users\\bhavy\\Downloads\\yolov8\\train\\images\\PXL_20250104_112110828_jpg.rf.7add1bfedf529bf322673fdc84d7d3f5.jpg: 640x640 1 person, 316.9ms\n",
      "image 135/208 C:\\Users\\bhavy\\Downloads\\yolov8\\train\\images\\PXL_20250104_112110828_jpg.rf.918e9a56b995c20c75b48fb9682c8e3a.jpg: 640x640 2 persons, 302.0ms\n",
      "image 136/208 C:\\Users\\bhavy\\Downloads\\yolov8\\train\\images\\PXL_20250104_112212937_jpg.rf.2c0065055abb05f6633a881d2465b6c2.jpg: 640x640 (no detections), 315.8ms\n",
      "image 137/208 C:\\Users\\bhavy\\Downloads\\yolov8\\train\\images\\PXL_20250104_112212937_jpg.rf.9d3d8714d199627375a3bf6ceb05270d.jpg: 640x640 (no detections), 305.9ms\n",
      "image 138/208 C:\\Users\\bhavy\\Downloads\\yolov8\\train\\images\\PXL_20250104_112212937_jpg.rf.f9dffd45e91e9d89b19db23d6bd5fe53.jpg: 640x640 (no detections), 329.1ms\n",
      "image 139/208 C:\\Users\\bhavy\\Downloads\\yolov8\\train\\images\\PXL_20250104_112236659_jpg.rf.205b6b8533b45aec4026e18f3df1b7e6.jpg: 640x640 2 persons, 307.1ms\n",
      "image 140/208 C:\\Users\\bhavy\\Downloads\\yolov8\\train\\images\\PXL_20250104_112236659_jpg.rf.3cd3e5d8633136384ee921c47003e2e4.jpg: 640x640 2 persons, 324.3ms\n",
      "image 141/208 C:\\Users\\bhavy\\Downloads\\yolov8\\train\\images\\PXL_20250104_112236659_jpg.rf.58b6ab53620e952e2bbd51229f95777d.jpg: 640x640 2 persons, 327.2ms\n",
      "image 142/208 C:\\Users\\bhavy\\Downloads\\yolov8\\train\\images\\PXL_20250104_112333028_jpg.rf.761b3400b3ea188ef6e6362d9606391d.jpg: 640x640 3 persons, 307.8ms\n",
      "image 143/208 C:\\Users\\bhavy\\Downloads\\yolov8\\train\\images\\PXL_20250104_112333028_jpg.rf.825aeb87aa5071fffc61bcad906b31c8.jpg: 640x640 3 persons, 376.5ms\n",
      "image 144/208 C:\\Users\\bhavy\\Downloads\\yolov8\\train\\images\\PXL_20250104_112333028_jpg.rf.a66cb6a0ab9f39b2d0aaa2ced3850ace.jpg: 640x640 2 persons, 453.8ms\n",
      "image 145/208 C:\\Users\\bhavy\\Downloads\\yolov8\\train\\images\\PXL_20250104_112356524_jpg.rf.b2e7116785faa42975d402c916ba3bd1.jpg: 640x640 (no detections), 359.2ms\n",
      "image 146/208 C:\\Users\\bhavy\\Downloads\\yolov8\\train\\images\\PXL_20250104_112356524_jpg.rf.d119468a8e0f02ae26b7ac893e3663f9.jpg: 640x640 2 persons, 342.4ms\n",
      "image 147/208 C:\\Users\\bhavy\\Downloads\\yolov8\\train\\images\\PXL_20250104_112356524_jpg.rf.f01b3b72cc33f3f8d8d824bcf1fd8308.jpg: 640x640 (no detections), 360.6ms\n",
      "image 148/208 C:\\Users\\bhavy\\Downloads\\yolov8\\train\\images\\PXL_20250104_112423004_jpg.rf.4feb08d9f183e54b1cb15820e74de571.jpg: 640x640 2 persons, 330.2ms\n",
      "image 149/208 C:\\Users\\bhavy\\Downloads\\yolov8\\train\\images\\PXL_20250104_112423004_jpg.rf.82e0e09a344434453a219b8062fb8f18.jpg: 640x640 2 persons, 354.7ms\n",
      "image 150/208 C:\\Users\\bhavy\\Downloads\\yolov8\\train\\images\\PXL_20250104_112423004_jpg.rf.9134870dd9e98daba70da1d37e1b571d.jpg: 640x640 4 persons, 380.4ms\n",
      "image 151/208 C:\\Users\\bhavy\\Downloads\\yolov8\\train\\images\\PXL_20250104_112427087_jpg.rf.0770c651bbb065f576bee15972355e7c.jpg: 640x640 (no detections), 411.0ms\n",
      "image 152/208 C:\\Users\\bhavy\\Downloads\\yolov8\\train\\images\\PXL_20250104_112427087_jpg.rf.0db56d389053c12c2a3cfa818670e223.jpg: 640x640 2 persons, 335.5ms\n",
      "image 153/208 C:\\Users\\bhavy\\Downloads\\yolov8\\train\\images\\PXL_20250104_112427087_jpg.rf.9ce998d512ed30134f20cbb56e8f6f3f.jpg: 640x640 2 persons, 320.0ms\n",
      "image 154/208 C:\\Users\\bhavy\\Downloads\\yolov8\\train\\images\\PXL_20250104_112541070_jpg.rf.998218e9b5b4abc46d7784664e2e5c7e.jpg: 640x640 1 person, 305.0ms\n",
      "image 155/208 C:\\Users\\bhavy\\Downloads\\yolov8\\train\\images\\PXL_20250104_112541070_jpg.rf.def11e793e60037effbf24a55a76fc18.jpg: 640x640 1 person, 362.8ms\n",
      "image 156/208 C:\\Users\\bhavy\\Downloads\\yolov8\\train\\images\\PXL_20250104_112541070_jpg.rf.f2daf8ff08fb1198dea94773d9c896f2.jpg: 640x640 1 person, 426.7ms\n",
      "image 157/208 C:\\Users\\bhavy\\Downloads\\yolov8\\train\\images\\PXL_20250104_112545914_jpg.rf.26737d18f63afb30e9639e2fdb890400.jpg: 640x640 2 persons, 361.4ms\n",
      "image 158/208 C:\\Users\\bhavy\\Downloads\\yolov8\\train\\images\\PXL_20250104_112545914_jpg.rf.34eee3c0fcb2a085a80688d07c464693.jpg: 640x640 3 persons, 361.8ms\n",
      "image 159/208 C:\\Users\\bhavy\\Downloads\\yolov8\\train\\images\\PXL_20250104_112545914_jpg.rf.b4262e62f5faca411ff03e6b5221add3.jpg: 640x640 5 persons, 370.4ms\n",
      "image 160/208 C:\\Users\\bhavy\\Downloads\\yolov8\\train\\images\\PXL_20250104_112600164_jpg.rf.120fe7422b1d640fd01bd06a7b82d85d.jpg: 640x640 4 persons, 336.7ms\n",
      "image 161/208 C:\\Users\\bhavy\\Downloads\\yolov8\\train\\images\\PXL_20250104_112600164_jpg.rf.46a930d952eb794a4753769a4aca674a.jpg: 640x640 2 persons, 313.9ms\n",
      "image 162/208 C:\\Users\\bhavy\\Downloads\\yolov8\\train\\images\\PXL_20250104_112600164_jpg.rf.c0755b1d631fda6e85ba2caf4ff568d8.jpg: 640x640 5 persons, 320.0ms\n",
      "image 163/208 C:\\Users\\bhavy\\Downloads\\yolov8\\train\\images\\PXL_20250104_112604860_jpg.rf.1ff6806b288a8ae410d6f6b6e102a135.jpg: 640x640 5 persons, 312.7ms\n",
      "image 164/208 C:\\Users\\bhavy\\Downloads\\yolov8\\train\\images\\PXL_20250104_112604860_jpg.rf.313b76a93dea9b3997dd9fb9bf1073b7.jpg: 640x640 4 persons, 324.3ms\n",
      "image 165/208 C:\\Users\\bhavy\\Downloads\\yolov8\\train\\images\\PXL_20250104_112604860_jpg.rf.78f9776f0c23abcfc33760fc0439c588.jpg: 640x640 5 persons, 327.5ms\n",
      "image 166/208 C:\\Users\\bhavy\\Downloads\\yolov8\\train\\images\\PXL_20250104_112624074_jpg.rf.0c0954d02537983e3d17271a27addef4.jpg: 640x640 4 persons, 334.1ms\n",
      "image 167/208 C:\\Users\\bhavy\\Downloads\\yolov8\\train\\images\\PXL_20250104_112624074_jpg.rf.3719667f6174db81d903930cc45c3aeb.jpg: 640x640 5 persons, 327.0ms\n",
      "image 168/208 C:\\Users\\bhavy\\Downloads\\yolov8\\train\\images\\PXL_20250104_112624074_jpg.rf.878946ebf3e0ef8e2540a8b319bea9eb.jpg: 640x640 5 persons, 354.3ms\n",
      "image 169/208 C:\\Users\\bhavy\\Downloads\\yolov8\\train\\images\\PXL_20250104_112637451_jpg.rf.8d0fa19c9d10b805089c488473873fc4.jpg: 640x640 (no detections), 350.9ms\n",
      "image 170/208 C:\\Users\\bhavy\\Downloads\\yolov8\\train\\images\\PXL_20250104_112637451_jpg.rf.b79c468e2ce77e063cebe46f91a954bd.jpg: 640x640 (no detections), 383.3ms\n",
      "image 171/208 C:\\Users\\bhavy\\Downloads\\yolov8\\train\\images\\PXL_20250104_112637451_jpg.rf.ec69e49bcfa2b22eb1ad7c56f8f4e509.jpg: 640x640 1 person, 379.9ms\n",
      "image 172/208 C:\\Users\\bhavy\\Downloads\\yolov8\\train\\images\\PXL_20250104_112713993_jpg.rf.833c6577454c53e72f65e80d1150ec41.jpg: 640x640 2 persons, 327.2ms\n",
      "image 173/208 C:\\Users\\bhavy\\Downloads\\yolov8\\train\\images\\PXL_20250104_112713993_jpg.rf.bc60e222be7ba6ad0fa19e5ae3c8e805.jpg: 640x640 2 persons, 340.1ms\n",
      "image 174/208 C:\\Users\\bhavy\\Downloads\\yolov8\\train\\images\\PXL_20250104_112713993_jpg.rf.c4775c28e310eff8aadfd505fece633b.jpg: 640x640 2 persons, 321.9ms\n",
      "image 175/208 C:\\Users\\bhavy\\Downloads\\yolov8\\train\\images\\PXL_20250104_112748359_jpg.rf.80c6c80d0e1b2107334dc68e4b2cb502.jpg: 640x640 1 person, 388.0ms\n",
      "image 176/208 C:\\Users\\bhavy\\Downloads\\yolov8\\train\\images\\PXL_20250104_112748359_jpg.rf.b51ad2a7b866362e407f5fac9de289a1.jpg: 640x640 1 person, 327.7ms\n",
      "image 177/208 C:\\Users\\bhavy\\Downloads\\yolov8\\train\\images\\PXL_20250104_112748359_jpg.rf.df06deb1ca5d8aa064358242e938677e.jpg: 640x640 1 person, 322.3ms\n",
      "image 178/208 C:\\Users\\bhavy\\Downloads\\yolov8\\train\\images\\PXL_20250104_112812159_jpg.rf.19ba72796d767975d3c6bdab376c0d0c.jpg: 640x640 (no detections), 304.3ms\n",
      "image 179/208 C:\\Users\\bhavy\\Downloads\\yolov8\\train\\images\\PXL_20250104_112812159_jpg.rf.9bc6536ef577af455a98d7b575b01b6a.jpg: 640x640 (no detections), 330.6ms\n",
      "image 180/208 C:\\Users\\bhavy\\Downloads\\yolov8\\train\\images\\PXL_20250104_112812159_jpg.rf.a446391c9b4705350bcaa1f88235feac.jpg: 640x640 (no detections), 324.5ms\n",
      "image 181/208 C:\\Users\\bhavy\\Downloads\\yolov8\\train\\images\\PXL_20250104_112936094_jpg.rf.5fe6abccd224bbd193a33c12c90704a0.jpg: 640x640 3 persons, 325.1ms\n",
      "image 182/208 C:\\Users\\bhavy\\Downloads\\yolov8\\train\\images\\PXL_20250104_112936094_jpg.rf.63af1ece851dcb3670a55673fe959e97.jpg: 640x640 3 persons, 318.8ms\n",
      "image 183/208 C:\\Users\\bhavy\\Downloads\\yolov8\\train\\images\\PXL_20250104_112936094_jpg.rf.fc12591df151d9ad761310b89d45f39a.jpg: 640x640 4 persons, 329.8ms\n",
      "image 184/208 C:\\Users\\bhavy\\Downloads\\yolov8\\train\\images\\PXL_20250104_112944516_jpg.rf.15ef7e701502201a2d2b495703b48a50.jpg: 640x640 2 persons, 312.9ms\n",
      "image 185/208 C:\\Users\\bhavy\\Downloads\\yolov8\\train\\images\\PXL_20250104_112944516_jpg.rf.91820568824f92952f9fd99380ac906a.jpg: 640x640 3 persons, 306.7ms\n",
      "image 186/208 C:\\Users\\bhavy\\Downloads\\yolov8\\train\\images\\PXL_20250104_112944516_jpg.rf.ac4a9e77b97f42cd789cb8ba00c9c014.jpg: 640x640 2 persons, 306.6ms\n",
      "image 187/208 C:\\Users\\bhavy\\Downloads\\yolov8\\train\\images\\PXL_20250104_113010775_jpg.rf.4fb89b51dbef3360caf6de426d1cc146.jpg: 640x640 4 persons, 313.3ms\n",
      "image 188/208 C:\\Users\\bhavy\\Downloads\\yolov8\\train\\images\\PXL_20250104_113010775_jpg.rf.e0c9e0863921a38c82dd1f58dec38246.jpg: 640x640 5 persons, 310.8ms\n",
      "image 189/208 C:\\Users\\bhavy\\Downloads\\yolov8\\train\\images\\PXL_20250104_113010775_jpg.rf.ea9019b49dda88ee1b488b6d11e73b59.jpg: 640x640 5 persons, 352.9ms\n",
      "image 190/208 C:\\Users\\bhavy\\Downloads\\yolov8\\train\\images\\PXL_20250104_113039517_jpg.rf.19b18a1bc015885a86a373cc1a7f7e42.jpg: 640x640 3 persons, 347.5ms\n",
      "image 191/208 C:\\Users\\bhavy\\Downloads\\yolov8\\train\\images\\PXL_20250104_113039517_jpg.rf.1a4275672b9e2d3d398a8776399a7e26.jpg: 640x640 4 persons, 341.1ms\n",
      "image 192/208 C:\\Users\\bhavy\\Downloads\\yolov8\\train\\images\\PXL_20250104_113039517_jpg.rf.ad2d4d986f2871a2e264d868e9e81e39.jpg: 640x640 3 persons, 370.1ms\n",
      "image 193/208 C:\\Users\\bhavy\\Downloads\\yolov8\\train\\images\\dan-carlson-oTQVwECws8o-unsplash_jpg.rf.08d5c8012ff5a11e0cc2ebd8c364f0b6.jpg: 640x640 (no detections), 326.5ms\n",
      "image 194/208 C:\\Users\\bhavy\\Downloads\\yolov8\\train\\images\\data_1_jpg.rf.03abe96a9d5398c1ecb802d218dd9609.jpg: 640x640 3 persons, 329.9ms\n",
      "image 195/208 C:\\Users\\bhavy\\Downloads\\yolov8\\train\\images\\data_1_jpg.rf.bf1870739aa388baa703a27b93f2b407.jpg: 640x640 2 persons, 323.0ms\n",
      "image 196/208 C:\\Users\\bhavy\\Downloads\\yolov8\\train\\images\\data_1_jpg.rf.c8e637d10155502ff957852f8935d7f9.jpg: 640x640 2 persons, 315.0ms\n",
      "image 197/208 C:\\Users\\bhavy\\Downloads\\yolov8\\train\\images\\detect-1-_jpg.rf.cdb828b5556da2c104e64d4760b4d8b1.jpg: 640x640 4 persons, 339.2ms\n",
      "image 198/208 C:\\Users\\bhavy\\Downloads\\yolov8\\train\\images\\detect-1-_jpg.rf.dfef149ed215a2926a1c67bb0a655319.jpg: 640x640 4 persons, 331.0ms\n",
      "image 199/208 C:\\Users\\bhavy\\Downloads\\yolov8\\train\\images\\detect-1-_jpg.rf.e20540f20ae0eb96c0af2955513338fa.jpg: 640x640 4 persons, 330.1ms\n",
      "image 200/208 C:\\Users\\bhavy\\Downloads\\yolov8\\train\\images\\manh-nghiem-iVo_-81hNVA-unsplash_jpg.rf.01bec171897beef14a82999b81065645.jpg: 640x640 1 person, 332.1ms\n",
      "image 201/208 C:\\Users\\bhavy\\Downloads\\yolov8\\train\\images\\manh-nghiem-iVo_-81hNVA-unsplash_jpg.rf.392853fa30303992549e4d7e0fc6049e.jpg: 640x640 1 person, 306.1ms\n",
      "image 202/208 C:\\Users\\bhavy\\Downloads\\yolov8\\train\\images\\manh-nghiem-iVo_-81hNVA-unsplash_jpg.rf.587748ffcbdbed49ac191a4795d9f689.jpg: 640x640 1 person, 328.2ms\n",
      "image 203/208 C:\\Users\\bhavy\\Downloads\\yolov8\\train\\images\\michael-daniels-yHh07IGJAJM-unsplash_jpg.rf.748f1bf9ed034ae26d728f9b9cec32c1.jpg: 640x640 8 persons, 336.1ms\n",
      "image 204/208 C:\\Users\\bhavy\\Downloads\\yolov8\\train\\images\\michael-daniels-yHh07IGJAJM-unsplash_jpg.rf.b3806dcc28dfab61ef2ba0320bd8a2cf.jpg: 640x640 7 persons, 308.7ms\n",
      "image 205/208 C:\\Users\\bhavy\\Downloads\\yolov8\\train\\images\\michael-daniels-yHh07IGJAJM-unsplash_jpg.rf.e6e196568c4a5a8fb0d7aaab34bc00fb.jpg: 640x640 5 persons, 321.4ms\n",
      "image 206/208 C:\\Users\\bhavy\\Downloads\\yolov8\\train\\images\\redd-francisco-u6aR3_lnXyY-unsplash_jpg.rf.20439a742219f3065b97419003a23fde.jpg: 640x640 2 persons, 315.3ms\n",
      "image 207/208 C:\\Users\\bhavy\\Downloads\\yolov8\\train\\images\\redd-francisco-u6aR3_lnXyY-unsplash_jpg.rf.56f3a744dc75977d2c4826f84bd16337.jpg: 640x640 2 persons, 324.3ms\n",
      "image 208/208 C:\\Users\\bhavy\\Downloads\\yolov8\\train\\images\\redd-francisco-u6aR3_lnXyY-unsplash_jpg.rf.72b56ea5ddb049185b570d5da6685f7f.jpg: 640x640 1 person, 310.0ms\n",
      "Speed: 1.3ms pre-process, 325.0ms inference, 0.6ms NMS per image at shape (1, 3, 640, 640)\n",
      "Results saved to \u001b[1mruns\\detect\\exp10\u001b[0m\n",
      "171 labels saved to runs\\detect\\exp10\\labels\n"
     ]
    }
   ],
   "source": [
    "!python detect.py --weights runs/train/exp2/weights/best.pt --img 640 --conf 0.5 --source \"C:/Users/bhavy/Downloads/yolov8/train/images\" --save-txt --save-conf\n"
   ]
  },
  {
   "cell_type": "code",
   "execution_count": 19,
   "id": "b2bc609b",
   "metadata": {},
   "outputs": [
    {
     "name": "stdout",
     "output_type": "stream",
     "text": [
      "Merging completed! Merged results saved in: runs/detect/hybrid1/labels\n"
     ]
    }
   ],
   "source": [
    "import os\n",
    "import numpy as np\n",
    "\n",
    "# Define paths\n",
    "yolov5_results = \"runs/detect/exp5/labels\"\n",
    "yolov8_results = \"runs/detect/predict4/labels\"\n",
    "merged_results = \"runs/detect/hybrid1/labels\"\n",
    "\n",
    "# Create a directory for merged results\n",
    "os.makedirs(merged_results, exist_ok=True)\n",
    "\n",
    "# Merge detections\n",
    "for file in os.listdir(yolov5_results):\n",
    "    yolov5_path = os.path.join(yolov5_results, file)\n",
    "    yolov8_path = os.path.join(yolov8_results, file)\n",
    "\n",
    "    # Load YOLOv5 data (6 columns)\n",
    "    yolov5_data = np.loadtxt(yolov5_path) if os.path.exists(yolov5_path) else np.array([])\n",
    "    \n",
    "    # Load YOLOv8 data (5 columns) and add a confidence column\n",
    "    if os.path.exists(yolov8_path):\n",
    "        yolov8_data = np.loadtxt(yolov8_path)\n",
    "        if yolov8_data.ndim == 1:  # If single detection, reshape\n",
    "            yolov8_data = yolov8_data.reshape(1, -1)\n",
    "        yolov8_data = np.hstack((yolov8_data, np.ones((yolov8_data.shape[0], 1))))  # Add confidence=1.0\n",
    "    else:\n",
    "        yolov8_data = np.array([])\n",
    "\n",
    "    # Convert to 2D arrays if single detection\n",
    "    if yolov5_data.ndim == 1:\n",
    "        yolov5_data = yolov5_data.reshape(1, -1)\n",
    "\n",
    "    # Merge results\n",
    "    if yolov5_data.size and yolov8_data.size:\n",
    "        merged_data = np.vstack((yolov5_data, yolov8_data))\n",
    "    elif yolov5_data.size:\n",
    "        merged_data = yolov5_data\n",
    "    else:\n",
    "        merged_data = yolov8_data\n",
    "\n",
    "    # Save merged results\n",
    "    np.savetxt(os.path.join(merged_results, file), merged_data, fmt=\"%.6f\")\n",
    "\n",
    "print(\"Merging completed! Merged results saved in:\", merged_results)\n"
   ]
  },
  {
   "cell_type": "code",
   "execution_count": 20,
   "id": "9283af8a",
   "metadata": {},
   "outputs": [
    {
     "name": "stdout",
     "output_type": "stream",
     "text": [
      "Precision: 0.1747\n",
      "Recall: 0.6813\n",
      "F1 Score: 0.2781\n"
     ]
    }
   ],
   "source": [
    "import os\n",
    "import glob\n",
    "import numpy as np\n",
    "from sklearn.metrics import average_precision_score\n",
    "\n",
    "# Define paths\n",
    "ground_truth_path = \"C:/Users/bhavy/Downloads/yolov8/train/labels\"\n",
    "predicted_path = \"runs/detect/hybrid1/labels\"\n",
    "\n",
    "# Initialize metrics\n",
    "TP, FP, FN = 0, 0, 0\n",
    "IoU_thresholds = np.linspace(0.5, 0.95, 10)  # IoU thresholds for mAP@50-95\n",
    "AP_50 = []  # Store AP for IoU 0.5\n",
    "AP_all = []  # Store AP for IoU 0.5:0.95\n",
    "\n",
    "def compute_iou(box1, box2):\n",
    "    x1, y1, w1, h1 = box1[1:5]  # Extract x, y, width, height\n",
    "    x2, y2, w2, h2 = box2[1:5]\n",
    "\n",
    "    # Convert YOLO format to (x_min, y_min, x_max, y_max)\n",
    "    box1 = [x1 - w1/2, y1 - h1/2, x1 + w1/2, y1 + h1/2]\n",
    "    box2 = [x2 - w2/2, y2 - h2/2, x2 + w2/2, y2 + h2/2]\n",
    "\n",
    "    # Compute intersection coordinates\n",
    "    xi1, yi1 = max(box1[0], box2[0]), max(box1[1], box2[1])\n",
    "    xi2, yi2 = min(box1[2], box2[2]), min(box1[3], box2[3])\n",
    "\n",
    "    # Compute intersection area\n",
    "    inter_area = max(0, xi2 - xi1) * max(0, yi2 - yi1)\n",
    "\n",
    "    # Compute union area\n",
    "    box1_area = w1 * h1\n",
    "    box2_area = w2 * h2\n",
    "    union_area = box1_area + box2_area - inter_area\n",
    "\n",
    "    return inter_area / union_area if union_area else 0  # Return IoU\n",
    "\n",
    "# Store all ground truth and prediction scores for AP computation\n",
    "y_true_all = []\n",
    "y_score_all = []\n",
    "\n",
    "# Process each label file\n",
    "for gt_file in glob.glob(f\"{ground_truth_path}/*.txt\"):\n",
    "    file_name = os.path.basename(gt_file)\n",
    "    gt_boxes = np.loadtxt(gt_file)\n",
    "    pred_boxes_path = f\"{predicted_path}/{file_name}\"\n",
    "\n",
    "    if not os.path.exists(pred_boxes_path):\n",
    "        FN += len(gt_boxes)  # All ground truth objects are missed\n",
    "        y_true_all.extend([1] * len(gt_boxes))\n",
    "        y_score_all.extend([0] * len(gt_boxes))  # No predictions\n",
    "        continue\n",
    "\n",
    "    pred_boxes = np.loadtxt(pred_boxes_path)\n",
    "\n",
    "    # Ensure correct dimensions\n",
    "    if gt_boxes.ndim == 1:\n",
    "        gt_boxes = gt_boxes.reshape(1, -1)\n",
    "    if pred_boxes.ndim == 1:\n",
    "        pred_boxes = pred_boxes.reshape(1, -1)\n",
    "\n",
    "    matched = []\n",
    "    \n",
    "    for gt_box in gt_boxes:\n",
    "        best_iou, best_pred_idx = 0, -1\n",
    "        for i, pred_box in enumerate(pred_boxes):\n",
    "            if i in matched or gt_box[0] != pred_box[0]:  # Class should match\n",
    "                continue\n",
    "            iou = compute_iou(gt_box, pred_box)\n",
    "            if iou > best_iou:\n",
    "                best_iou, best_pred_idx = iou, i\n",
    "        \n",
    "        if best_iou >= 0.5:  # IoU 0.5 is standard for TP\n",
    "            TP += 1\n",
    "            matched.append(best_pred_idx)\n",
    "            y_true_all.append(1)\n",
    "            y_score_all.append(pred_boxes[best_pred_idx][-1])  # Use confidence score\n",
    "        else:\n",
    "            FN += 1\n",
    "            y_true_all.append(1)\n",
    "            y_score_all.append(0)\n",
    "\n",
    "    FP += len(pred_boxes) - len(matched)\n",
    "    y_true_all.extend([0] * (len(pred_boxes) - len(matched)))  # False positives\n",
    "    y_score_all.extend(pred_boxes[:, -1][~np.isin(np.arange(len(pred_boxes)), matched)])\n",
    "\n",
    "# Compute Precision, Recall, and F1-score\n",
    "precision = TP / (TP + FP) if (TP + FP) else 0\n",
    "recall = TP / (TP + FN) if (TP + FN) else 0\n",
    "f1_score = 2 * (precision * recall) / (precision + recall) if (precision + recall) else 0\n",
    "\n",
    "# Compute mAP@50 and mAP@50-95 using average precision\n",
    "mAP_50 = average_precision_score(y_true_all, y_score_all) if y_true_all else 0\n",
    "mAP_50_95 = np.mean([average_precision_score(y_true_all, y_score_all) for _ in IoU_thresholds]) if y_true_all else 0\n",
    "\n",
    "# Print results\n",
    "print(f\"Precision: {precision:.4f}\")\n",
    "print(f\"Recall: {recall:.4f}\")\n",
    "print(f\"F1 Score: {f1_score:.4f}\")\n",
    "\n"
   ]
  },
  {
   "cell_type": "code",
   "execution_count": 21,
   "id": "6b9bc612",
   "metadata": {},
   "outputs": [
    {
     "name": "stdout",
     "output_type": "stream",
     "text": [
      "Warning: Prediction file dan-carlson-oTQVwECws8o-unsplash_jpg.rf.08d5c8012ff5a11e0cc2ebd8c364f0b6.txt not found, skipping.\n",
      "Warning: Prediction file dan-carlson-oTQVwECws8o-unsplash_jpg.rf.2aaf5074a16c35262ac942e0176c077b.txt not found, skipping.\n",
      "Warning: Prediction file dan-carlson-oTQVwECws8o-unsplash_jpg.rf.5de7872439eaf9189ba27ba3af3eb9da.txt not found, skipping.\n",
      "Warning: Prediction file PXL_20250104_104232312_jpg.rf.1b96e41311eb5098b7ad952fd83195fd.txt not found, skipping.\n",
      "Warning: Prediction file PXL_20250104_104232312_jpg.rf.7bf6d7392d26c783e0da9af76c39820d.txt not found, skipping.\n",
      "Warning: Prediction file PXL_20250104_110255752_jpg.rf.eeee14e00ce68ec892e71ef8b159ecc8.txt not found, skipping.\n",
      "Warning: Prediction file PXL_20250104_110639010_jpg.rf.9fd98cfeddbb5894c29865acef74bef7.txt not found, skipping.\n",
      "Warning: Prediction file PXL_20250104_110639010_jpg.rf.e93a047f01e049ec1b7b278a66852335.txt not found, skipping.\n",
      "Warning: Prediction file PXL_20250104_110709833_jpg.rf.06a79adcd716a7f8e4480206f56e9b61.txt not found, skipping.\n",
      "Warning: Prediction file PXL_20250104_110709833_jpg.rf.839b25df34c6084d525059c79325d218.txt not found, skipping.\n",
      "Warning: Prediction file PXL_20250104_110709833_jpg.rf.ee933a100160a116943e8c153a24ee88.txt not found, skipping.\n",
      "Warning: Prediction file PXL_20250104_110808816_jpg.rf.03a4a90d7631edbff0f59668df4d3d79.txt not found, skipping.\n",
      "Warning: Prediction file PXL_20250104_110808816_jpg.rf.ca382edae8c67d8cece2083228beccf2.txt not found, skipping.\n",
      "Warning: Prediction file PXL_20250104_110949174_jpg.rf.34020cb985ab3d24c8bbe5d389bc685a.txt not found, skipping.\n",
      "Warning: Prediction file PXL_20250104_110949174_jpg.rf.401c9ccb0d46d42196d798315008669a.txt not found, skipping.\n",
      "Warning: Prediction file PXL_20250104_110949174_jpg.rf.ebe88703c27c5d7c27c2f74eefd57adc.txt not found, skipping.\n",
      "Warning: Prediction file PXL_20250104_111039386_jpg.rf.216a1c060205e77fed7ad2ff6629e269.txt not found, skipping.\n",
      "Warning: Prediction file PXL_20250104_111039386_jpg.rf.4eddccc78ae8b22585b91f74be448c22.txt not found, skipping.\n",
      "Warning: Prediction file PXL_20250104_111126627_jpg.rf.3b2136e51a78e265211f676ec1502374.txt not found, skipping.\n",
      "Warning: Prediction file PXL_20250104_111126627_jpg.rf.6fdf4942da2c6ab478578b988cccfe4b.txt not found, skipping.\n",
      "Warning: Prediction file PXL_20250104_111157856_jpg.rf.0382819ea064f88d1f862dc26b680443.txt not found, skipping.\n",
      "Warning: Prediction file PXL_20250104_111157856_jpg.rf.1fa68da3affe5ffeb36790f3256a0213.txt not found, skipping.\n",
      "Warning: Prediction file PXL_20250104_111157856_jpg.rf.fdfe3af2df21f2a4b4dbbcae1b0ac51a.txt not found, skipping.\n",
      "Warning: Prediction file PXL_20250104_111348005_jpg.rf.645e7d1fc37f4715ba07a5d858202777.txt not found, skipping.\n",
      "Warning: Prediction file PXL_20250104_111348005_jpg.rf.ed3b4eebf36faf247f88d3ed30bfe4da.txt not found, skipping.\n",
      "Warning: Prediction file PXL_20250104_112000406_jpg.rf.25f7d53f1cac8053960e9dc857956ac7.txt not found, skipping.\n",
      "Warning: Prediction file PXL_20250104_112000406_jpg.rf.9b692d81879abc19a4b8abb0f2380813.txt not found, skipping.\n",
      "Warning: Prediction file PXL_20250104_112000406_jpg.rf.a5a9067fdb2148f5c2ac648fdbc9b764.txt not found, skipping.\n",
      "Warning: Prediction file PXL_20250104_112212937_jpg.rf.2c0065055abb05f6633a881d2465b6c2.txt not found, skipping.\n",
      "Warning: Prediction file PXL_20250104_112212937_jpg.rf.9d3d8714d199627375a3bf6ceb05270d.txt not found, skipping.\n",
      "Warning: Prediction file PXL_20250104_112212937_jpg.rf.f9dffd45e91e9d89b19db23d6bd5fe53.txt not found, skipping.\n",
      "Warning: Prediction file PXL_20250104_112356524_jpg.rf.b2e7116785faa42975d402c916ba3bd1.txt not found, skipping.\n",
      "Warning: Prediction file PXL_20250104_112356524_jpg.rf.f01b3b72cc33f3f8d8d824bcf1fd8308.txt not found, skipping.\n",
      "Warning: Prediction file PXL_20250104_112427087_jpg.rf.0770c651bbb065f576bee15972355e7c.txt not found, skipping.\n",
      "Warning: Prediction file PXL_20250104_112637451_jpg.rf.8d0fa19c9d10b805089c488473873fc4.txt not found, skipping.\n",
      "Warning: Prediction file PXL_20250104_112637451_jpg.rf.b79c468e2ce77e063cebe46f91a954bd.txt not found, skipping.\n",
      "Warning: Prediction file PXL_20250104_112812159_jpg.rf.19ba72796d767975d3c6bdab376c0d0c.txt not found, skipping.\n",
      "Warning: Prediction file PXL_20250104_112812159_jpg.rf.9bc6536ef577af455a98d7b575b01b6a.txt not found, skipping.\n",
      "Warning: Prediction file PXL_20250104_112812159_jpg.rf.a446391c9b4705350bcaa1f88235feac.txt not found, skipping.\n",
      "Warning: Prediction file dan-carlson-oTQVwECws8o-unsplash_jpg.rf.08d5c8012ff5a11e0cc2ebd8c364f0b6.txt not found, skipping.\n",
      "Warning: Prediction file dan-carlson-oTQVwECws8o-unsplash_jpg.rf.2aaf5074a16c35262ac942e0176c077b.txt not found, skipping.\n",
      "Warning: Prediction file dan-carlson-oTQVwECws8o-unsplash_jpg.rf.5de7872439eaf9189ba27ba3af3eb9da.txt not found, skipping.\n",
      "Warning: Prediction file PXL_20250104_104232312_jpg.rf.1b96e41311eb5098b7ad952fd83195fd.txt not found, skipping.\n",
      "Warning: Prediction file PXL_20250104_104232312_jpg.rf.7bf6d7392d26c783e0da9af76c39820d.txt not found, skipping.\n",
      "Warning: Prediction file PXL_20250104_110255752_jpg.rf.eeee14e00ce68ec892e71ef8b159ecc8.txt not found, skipping.\n",
      "Warning: Prediction file PXL_20250104_110639010_jpg.rf.9fd98cfeddbb5894c29865acef74bef7.txt not found, skipping.\n",
      "Warning: Prediction file PXL_20250104_110639010_jpg.rf.e93a047f01e049ec1b7b278a66852335.txt not found, skipping.\n",
      "Warning: Prediction file PXL_20250104_110709833_jpg.rf.06a79adcd716a7f8e4480206f56e9b61.txt not found, skipping.\n",
      "Warning: Prediction file PXL_20250104_110709833_jpg.rf.839b25df34c6084d525059c79325d218.txt not found, skipping.\n",
      "Warning: Prediction file PXL_20250104_110709833_jpg.rf.ee933a100160a116943e8c153a24ee88.txt not found, skipping.\n",
      "Warning: Prediction file PXL_20250104_110808816_jpg.rf.03a4a90d7631edbff0f59668df4d3d79.txt not found, skipping.\n",
      "Warning: Prediction file PXL_20250104_110808816_jpg.rf.ca382edae8c67d8cece2083228beccf2.txt not found, skipping.\n",
      "Warning: Prediction file PXL_20250104_110949174_jpg.rf.34020cb985ab3d24c8bbe5d389bc685a.txt not found, skipping.\n",
      "Warning: Prediction file PXL_20250104_110949174_jpg.rf.401c9ccb0d46d42196d798315008669a.txt not found, skipping.\n",
      "Warning: Prediction file PXL_20250104_110949174_jpg.rf.ebe88703c27c5d7c27c2f74eefd57adc.txt not found, skipping.\n",
      "Warning: Prediction file PXL_20250104_111039386_jpg.rf.216a1c060205e77fed7ad2ff6629e269.txt not found, skipping.\n",
      "Warning: Prediction file PXL_20250104_111039386_jpg.rf.4eddccc78ae8b22585b91f74be448c22.txt not found, skipping.\n",
      "Warning: Prediction file PXL_20250104_111126627_jpg.rf.3b2136e51a78e265211f676ec1502374.txt not found, skipping.\n",
      "Warning: Prediction file PXL_20250104_111126627_jpg.rf.6fdf4942da2c6ab478578b988cccfe4b.txt not found, skipping.\n",
      "Warning: Prediction file PXL_20250104_111157856_jpg.rf.0382819ea064f88d1f862dc26b680443.txt not found, skipping.\n",
      "Warning: Prediction file PXL_20250104_111157856_jpg.rf.1fa68da3affe5ffeb36790f3256a0213.txt not found, skipping.\n",
      "Warning: Prediction file PXL_20250104_111157856_jpg.rf.fdfe3af2df21f2a4b4dbbcae1b0ac51a.txt not found, skipping.\n",
      "Warning: Prediction file PXL_20250104_111348005_jpg.rf.645e7d1fc37f4715ba07a5d858202777.txt not found, skipping.\n",
      "Warning: Prediction file PXL_20250104_111348005_jpg.rf.ed3b4eebf36faf247f88d3ed30bfe4da.txt not found, skipping.\n",
      "Warning: Prediction file PXL_20250104_112000406_jpg.rf.25f7d53f1cac8053960e9dc857956ac7.txt not found, skipping.\n",
      "Warning: Prediction file PXL_20250104_112000406_jpg.rf.9b692d81879abc19a4b8abb0f2380813.txt not found, skipping.\n",
      "Warning: Prediction file PXL_20250104_112000406_jpg.rf.a5a9067fdb2148f5c2ac648fdbc9b764.txt not found, skipping.\n",
      "Warning: Prediction file PXL_20250104_112212937_jpg.rf.2c0065055abb05f6633a881d2465b6c2.txt not found, skipping.\n",
      "Warning: Prediction file PXL_20250104_112212937_jpg.rf.9d3d8714d199627375a3bf6ceb05270d.txt not found, skipping.\n",
      "Warning: Prediction file PXL_20250104_112212937_jpg.rf.f9dffd45e91e9d89b19db23d6bd5fe53.txt not found, skipping.\n",
      "Warning: Prediction file PXL_20250104_112356524_jpg.rf.b2e7116785faa42975d402c916ba3bd1.txt not found, skipping.\n",
      "Warning: Prediction file PXL_20250104_112356524_jpg.rf.f01b3b72cc33f3f8d8d824bcf1fd8308.txt not found, skipping.\n",
      "Warning: Prediction file PXL_20250104_112427087_jpg.rf.0770c651bbb065f576bee15972355e7c.txt not found, skipping.\n",
      "Warning: Prediction file PXL_20250104_112637451_jpg.rf.8d0fa19c9d10b805089c488473873fc4.txt not found, skipping.\n",
      "Warning: Prediction file PXL_20250104_112637451_jpg.rf.b79c468e2ce77e063cebe46f91a954bd.txt not found, skipping.\n",
      "Warning: Prediction file PXL_20250104_112812159_jpg.rf.19ba72796d767975d3c6bdab376c0d0c.txt not found, skipping.\n",
      "Warning: Prediction file PXL_20250104_112812159_jpg.rf.9bc6536ef577af455a98d7b575b01b6a.txt not found, skipping.\n",
      "Warning: Prediction file PXL_20250104_112812159_jpg.rf.a446391c9b4705350bcaa1f88235feac.txt not found, skipping.\n",
      "Warning: Prediction file dan-carlson-oTQVwECws8o-unsplash_jpg.rf.08d5c8012ff5a11e0cc2ebd8c364f0b6.txt not found, skipping.\n",
      "Warning: Prediction file dan-carlson-oTQVwECws8o-unsplash_jpg.rf.2aaf5074a16c35262ac942e0176c077b.txt not found, skipping.\n",
      "Warning: Prediction file dan-carlson-oTQVwECws8o-unsplash_jpg.rf.5de7872439eaf9189ba27ba3af3eb9da.txt not found, skipping.\n",
      "Warning: Prediction file PXL_20250104_104232312_jpg.rf.1b96e41311eb5098b7ad952fd83195fd.txt not found, skipping.\n",
      "Warning: Prediction file PXL_20250104_104232312_jpg.rf.7bf6d7392d26c783e0da9af76c39820d.txt not found, skipping.\n",
      "Warning: Prediction file PXL_20250104_110255752_jpg.rf.eeee14e00ce68ec892e71ef8b159ecc8.txt not found, skipping.\n",
      "Warning: Prediction file PXL_20250104_110639010_jpg.rf.9fd98cfeddbb5894c29865acef74bef7.txt not found, skipping.\n",
      "Warning: Prediction file PXL_20250104_110639010_jpg.rf.e93a047f01e049ec1b7b278a66852335.txt not found, skipping.\n",
      "Warning: Prediction file PXL_20250104_110709833_jpg.rf.06a79adcd716a7f8e4480206f56e9b61.txt not found, skipping.\n",
      "Warning: Prediction file PXL_20250104_110709833_jpg.rf.839b25df34c6084d525059c79325d218.txt not found, skipping.\n",
      "Warning: Prediction file PXL_20250104_110709833_jpg.rf.ee933a100160a116943e8c153a24ee88.txt not found, skipping.\n",
      "Warning: Prediction file PXL_20250104_110808816_jpg.rf.03a4a90d7631edbff0f59668df4d3d79.txt not found, skipping.\n",
      "Warning: Prediction file PXL_20250104_110808816_jpg.rf.ca382edae8c67d8cece2083228beccf2.txt not found, skipping.\n",
      "Warning: Prediction file PXL_20250104_110949174_jpg.rf.34020cb985ab3d24c8bbe5d389bc685a.txt not found, skipping.\n",
      "Warning: Prediction file PXL_20250104_110949174_jpg.rf.401c9ccb0d46d42196d798315008669a.txt not found, skipping.\n",
      "Warning: Prediction file PXL_20250104_110949174_jpg.rf.ebe88703c27c5d7c27c2f74eefd57adc.txt not found, skipping.\n",
      "Warning: Prediction file PXL_20250104_111039386_jpg.rf.216a1c060205e77fed7ad2ff6629e269.txt not found, skipping.\n",
      "Warning: Prediction file PXL_20250104_111039386_jpg.rf.4eddccc78ae8b22585b91f74be448c22.txt not found, skipping.\n",
      "Warning: Prediction file PXL_20250104_111126627_jpg.rf.3b2136e51a78e265211f676ec1502374.txt not found, skipping.\n",
      "Warning: Prediction file PXL_20250104_111126627_jpg.rf.6fdf4942da2c6ab478578b988cccfe4b.txt not found, skipping.\n",
      "Warning: Prediction file PXL_20250104_111157856_jpg.rf.0382819ea064f88d1f862dc26b680443.txt not found, skipping.\n",
      "Warning: Prediction file PXL_20250104_111157856_jpg.rf.1fa68da3affe5ffeb36790f3256a0213.txt not found, skipping.\n",
      "Warning: Prediction file PXL_20250104_111157856_jpg.rf.fdfe3af2df21f2a4b4dbbcae1b0ac51a.txt not found, skipping.\n",
      "Warning: Prediction file PXL_20250104_111348005_jpg.rf.645e7d1fc37f4715ba07a5d858202777.txt not found, skipping.\n",
      "Warning: Prediction file PXL_20250104_111348005_jpg.rf.ed3b4eebf36faf247f88d3ed30bfe4da.txt not found, skipping.\n",
      "Warning: Prediction file PXL_20250104_112000406_jpg.rf.25f7d53f1cac8053960e9dc857956ac7.txt not found, skipping.\n",
      "Warning: Prediction file PXL_20250104_112000406_jpg.rf.9b692d81879abc19a4b8abb0f2380813.txt not found, skipping.\n",
      "Warning: Prediction file PXL_20250104_112000406_jpg.rf.a5a9067fdb2148f5c2ac648fdbc9b764.txt not found, skipping.\n",
      "Warning: Prediction file PXL_20250104_112212937_jpg.rf.2c0065055abb05f6633a881d2465b6c2.txt not found, skipping.\n",
      "Warning: Prediction file PXL_20250104_112212937_jpg.rf.9d3d8714d199627375a3bf6ceb05270d.txt not found, skipping.\n",
      "Warning: Prediction file PXL_20250104_112212937_jpg.rf.f9dffd45e91e9d89b19db23d6bd5fe53.txt not found, skipping.\n",
      "Warning: Prediction file PXL_20250104_112356524_jpg.rf.b2e7116785faa42975d402c916ba3bd1.txt not found, skipping.\n",
      "Warning: Prediction file PXL_20250104_112356524_jpg.rf.f01b3b72cc33f3f8d8d824bcf1fd8308.txt not found, skipping.\n",
      "Warning: Prediction file PXL_20250104_112427087_jpg.rf.0770c651bbb065f576bee15972355e7c.txt not found, skipping.\n",
      "Warning: Prediction file PXL_20250104_112637451_jpg.rf.8d0fa19c9d10b805089c488473873fc4.txt not found, skipping.\n",
      "Warning: Prediction file PXL_20250104_112637451_jpg.rf.b79c468e2ce77e063cebe46f91a954bd.txt not found, skipping.\n",
      "Warning: Prediction file PXL_20250104_112812159_jpg.rf.19ba72796d767975d3c6bdab376c0d0c.txt not found, skipping.\n",
      "Warning: Prediction file PXL_20250104_112812159_jpg.rf.9bc6536ef577af455a98d7b575b01b6a.txt not found, skipping.\n",
      "Warning: Prediction file PXL_20250104_112812159_jpg.rf.a446391c9b4705350bcaa1f88235feac.txt not found, skipping.\n",
      "Warning: Prediction file dan-carlson-oTQVwECws8o-unsplash_jpg.rf.08d5c8012ff5a11e0cc2ebd8c364f0b6.txt not found, skipping.\n",
      "Warning: Prediction file dan-carlson-oTQVwECws8o-unsplash_jpg.rf.2aaf5074a16c35262ac942e0176c077b.txt not found, skipping.\n",
      "Warning: Prediction file dan-carlson-oTQVwECws8o-unsplash_jpg.rf.5de7872439eaf9189ba27ba3af3eb9da.txt not found, skipping.\n",
      "Warning: Prediction file PXL_20250104_104232312_jpg.rf.1b96e41311eb5098b7ad952fd83195fd.txt not found, skipping.\n",
      "Warning: Prediction file PXL_20250104_104232312_jpg.rf.7bf6d7392d26c783e0da9af76c39820d.txt not found, skipping.\n",
      "Warning: Prediction file PXL_20250104_110255752_jpg.rf.eeee14e00ce68ec892e71ef8b159ecc8.txt not found, skipping.\n",
      "Warning: Prediction file PXL_20250104_110639010_jpg.rf.9fd98cfeddbb5894c29865acef74bef7.txt not found, skipping.\n",
      "Warning: Prediction file PXL_20250104_110639010_jpg.rf.e93a047f01e049ec1b7b278a66852335.txt not found, skipping.\n",
      "Warning: Prediction file PXL_20250104_110709833_jpg.rf.06a79adcd716a7f8e4480206f56e9b61.txt not found, skipping.\n",
      "Warning: Prediction file PXL_20250104_110709833_jpg.rf.839b25df34c6084d525059c79325d218.txt not found, skipping.\n",
      "Warning: Prediction file PXL_20250104_110709833_jpg.rf.ee933a100160a116943e8c153a24ee88.txt not found, skipping.\n",
      "Warning: Prediction file PXL_20250104_110808816_jpg.rf.03a4a90d7631edbff0f59668df4d3d79.txt not found, skipping.\n",
      "Warning: Prediction file PXL_20250104_110808816_jpg.rf.ca382edae8c67d8cece2083228beccf2.txt not found, skipping.\n",
      "Warning: Prediction file PXL_20250104_110949174_jpg.rf.34020cb985ab3d24c8bbe5d389bc685a.txt not found, skipping.\n",
      "Warning: Prediction file PXL_20250104_110949174_jpg.rf.401c9ccb0d46d42196d798315008669a.txt not found, skipping.\n",
      "Warning: Prediction file PXL_20250104_110949174_jpg.rf.ebe88703c27c5d7c27c2f74eefd57adc.txt not found, skipping.\n",
      "Warning: Prediction file PXL_20250104_111039386_jpg.rf.216a1c060205e77fed7ad2ff6629e269.txt not found, skipping.\n",
      "Warning: Prediction file PXL_20250104_111039386_jpg.rf.4eddccc78ae8b22585b91f74be448c22.txt not found, skipping.\n",
      "Warning: Prediction file PXL_20250104_111126627_jpg.rf.3b2136e51a78e265211f676ec1502374.txt not found, skipping.\n",
      "Warning: Prediction file PXL_20250104_111126627_jpg.rf.6fdf4942da2c6ab478578b988cccfe4b.txt not found, skipping.\n",
      "Warning: Prediction file PXL_20250104_111157856_jpg.rf.0382819ea064f88d1f862dc26b680443.txt not found, skipping.\n",
      "Warning: Prediction file PXL_20250104_111157856_jpg.rf.1fa68da3affe5ffeb36790f3256a0213.txt not found, skipping.\n",
      "Warning: Prediction file PXL_20250104_111157856_jpg.rf.fdfe3af2df21f2a4b4dbbcae1b0ac51a.txt not found, skipping.\n",
      "Warning: Prediction file PXL_20250104_111348005_jpg.rf.645e7d1fc37f4715ba07a5d858202777.txt not found, skipping.\n",
      "Warning: Prediction file PXL_20250104_111348005_jpg.rf.ed3b4eebf36faf247f88d3ed30bfe4da.txt not found, skipping.\n",
      "Warning: Prediction file PXL_20250104_112000406_jpg.rf.25f7d53f1cac8053960e9dc857956ac7.txt not found, skipping.\n",
      "Warning: Prediction file PXL_20250104_112000406_jpg.rf.9b692d81879abc19a4b8abb0f2380813.txt not found, skipping.\n",
      "Warning: Prediction file PXL_20250104_112000406_jpg.rf.a5a9067fdb2148f5c2ac648fdbc9b764.txt not found, skipping.\n",
      "Warning: Prediction file PXL_20250104_112212937_jpg.rf.2c0065055abb05f6633a881d2465b6c2.txt not found, skipping.\n",
      "Warning: Prediction file PXL_20250104_112212937_jpg.rf.9d3d8714d199627375a3bf6ceb05270d.txt not found, skipping.\n",
      "Warning: Prediction file PXL_20250104_112212937_jpg.rf.f9dffd45e91e9d89b19db23d6bd5fe53.txt not found, skipping.\n",
      "Warning: Prediction file PXL_20250104_112356524_jpg.rf.b2e7116785faa42975d402c916ba3bd1.txt not found, skipping.\n",
      "Warning: Prediction file PXL_20250104_112356524_jpg.rf.f01b3b72cc33f3f8d8d824bcf1fd8308.txt not found, skipping.\n",
      "Warning: Prediction file PXL_20250104_112427087_jpg.rf.0770c651bbb065f576bee15972355e7c.txt not found, skipping.\n",
      "Warning: Prediction file PXL_20250104_112637451_jpg.rf.8d0fa19c9d10b805089c488473873fc4.txt not found, skipping.\n",
      "Warning: Prediction file PXL_20250104_112637451_jpg.rf.b79c468e2ce77e063cebe46f91a954bd.txt not found, skipping.\n",
      "Warning: Prediction file PXL_20250104_112812159_jpg.rf.19ba72796d767975d3c6bdab376c0d0c.txt not found, skipping.\n",
      "Warning: Prediction file PXL_20250104_112812159_jpg.rf.9bc6536ef577af455a98d7b575b01b6a.txt not found, skipping.\n",
      "Warning: Prediction file PXL_20250104_112812159_jpg.rf.a446391c9b4705350bcaa1f88235feac.txt not found, skipping.\n",
      "Warning: Prediction file dan-carlson-oTQVwECws8o-unsplash_jpg.rf.08d5c8012ff5a11e0cc2ebd8c364f0b6.txt not found, skipping.\n",
      "Warning: Prediction file dan-carlson-oTQVwECws8o-unsplash_jpg.rf.2aaf5074a16c35262ac942e0176c077b.txt not found, skipping.\n",
      "Warning: Prediction file dan-carlson-oTQVwECws8o-unsplash_jpg.rf.5de7872439eaf9189ba27ba3af3eb9da.txt not found, skipping.\n",
      "Warning: Prediction file PXL_20250104_104232312_jpg.rf.1b96e41311eb5098b7ad952fd83195fd.txt not found, skipping.\n",
      "Warning: Prediction file PXL_20250104_104232312_jpg.rf.7bf6d7392d26c783e0da9af76c39820d.txt not found, skipping.\n",
      "Warning: Prediction file PXL_20250104_110255752_jpg.rf.eeee14e00ce68ec892e71ef8b159ecc8.txt not found, skipping.\n",
      "Warning: Prediction file PXL_20250104_110639010_jpg.rf.9fd98cfeddbb5894c29865acef74bef7.txt not found, skipping.\n",
      "Warning: Prediction file PXL_20250104_110639010_jpg.rf.e93a047f01e049ec1b7b278a66852335.txt not found, skipping.\n",
      "Warning: Prediction file PXL_20250104_110709833_jpg.rf.06a79adcd716a7f8e4480206f56e9b61.txt not found, skipping.\n",
      "Warning: Prediction file PXL_20250104_110709833_jpg.rf.839b25df34c6084d525059c79325d218.txt not found, skipping.\n",
      "Warning: Prediction file PXL_20250104_110709833_jpg.rf.ee933a100160a116943e8c153a24ee88.txt not found, skipping.\n",
      "Warning: Prediction file PXL_20250104_110808816_jpg.rf.03a4a90d7631edbff0f59668df4d3d79.txt not found, skipping.\n",
      "Warning: Prediction file PXL_20250104_110808816_jpg.rf.ca382edae8c67d8cece2083228beccf2.txt not found, skipping.\n",
      "Warning: Prediction file PXL_20250104_110949174_jpg.rf.34020cb985ab3d24c8bbe5d389bc685a.txt not found, skipping.\n",
      "Warning: Prediction file PXL_20250104_110949174_jpg.rf.401c9ccb0d46d42196d798315008669a.txt not found, skipping.\n",
      "Warning: Prediction file PXL_20250104_110949174_jpg.rf.ebe88703c27c5d7c27c2f74eefd57adc.txt not found, skipping.\n",
      "Warning: Prediction file PXL_20250104_111039386_jpg.rf.216a1c060205e77fed7ad2ff6629e269.txt not found, skipping.\n",
      "Warning: Prediction file PXL_20250104_111039386_jpg.rf.4eddccc78ae8b22585b91f74be448c22.txt not found, skipping.\n",
      "Warning: Prediction file PXL_20250104_111126627_jpg.rf.3b2136e51a78e265211f676ec1502374.txt not found, skipping.\n",
      "Warning: Prediction file PXL_20250104_111126627_jpg.rf.6fdf4942da2c6ab478578b988cccfe4b.txt not found, skipping.\n",
      "Warning: Prediction file PXL_20250104_111157856_jpg.rf.0382819ea064f88d1f862dc26b680443.txt not found, skipping.\n",
      "Warning: Prediction file PXL_20250104_111157856_jpg.rf.1fa68da3affe5ffeb36790f3256a0213.txt not found, skipping.\n",
      "Warning: Prediction file PXL_20250104_111157856_jpg.rf.fdfe3af2df21f2a4b4dbbcae1b0ac51a.txt not found, skipping.\n",
      "Warning: Prediction file PXL_20250104_111348005_jpg.rf.645e7d1fc37f4715ba07a5d858202777.txt not found, skipping.\n",
      "Warning: Prediction file PXL_20250104_111348005_jpg.rf.ed3b4eebf36faf247f88d3ed30bfe4da.txt not found, skipping.\n",
      "Warning: Prediction file PXL_20250104_112000406_jpg.rf.25f7d53f1cac8053960e9dc857956ac7.txt not found, skipping.\n",
      "Warning: Prediction file PXL_20250104_112000406_jpg.rf.9b692d81879abc19a4b8abb0f2380813.txt not found, skipping.\n",
      "Warning: Prediction file PXL_20250104_112000406_jpg.rf.a5a9067fdb2148f5c2ac648fdbc9b764.txt not found, skipping.\n",
      "Warning: Prediction file PXL_20250104_112212937_jpg.rf.2c0065055abb05f6633a881d2465b6c2.txt not found, skipping.\n",
      "Warning: Prediction file PXL_20250104_112212937_jpg.rf.9d3d8714d199627375a3bf6ceb05270d.txt not found, skipping.\n",
      "Warning: Prediction file PXL_20250104_112212937_jpg.rf.f9dffd45e91e9d89b19db23d6bd5fe53.txt not found, skipping.\n",
      "Warning: Prediction file PXL_20250104_112356524_jpg.rf.b2e7116785faa42975d402c916ba3bd1.txt not found, skipping.\n",
      "Warning: Prediction file PXL_20250104_112356524_jpg.rf.f01b3b72cc33f3f8d8d824bcf1fd8308.txt not found, skipping.\n",
      "Warning: Prediction file PXL_20250104_112427087_jpg.rf.0770c651bbb065f576bee15972355e7c.txt not found, skipping.\n",
      "Warning: Prediction file PXL_20250104_112637451_jpg.rf.8d0fa19c9d10b805089c488473873fc4.txt not found, skipping.\n",
      "Warning: Prediction file PXL_20250104_112637451_jpg.rf.b79c468e2ce77e063cebe46f91a954bd.txt not found, skipping.\n",
      "Warning: Prediction file PXL_20250104_112812159_jpg.rf.19ba72796d767975d3c6bdab376c0d0c.txt not found, skipping.\n",
      "Warning: Prediction file PXL_20250104_112812159_jpg.rf.9bc6536ef577af455a98d7b575b01b6a.txt not found, skipping.\n",
      "Warning: Prediction file PXL_20250104_112812159_jpg.rf.a446391c9b4705350bcaa1f88235feac.txt not found, skipping.\n",
      "Warning: Prediction file dan-carlson-oTQVwECws8o-unsplash_jpg.rf.08d5c8012ff5a11e0cc2ebd8c364f0b6.txt not found, skipping.\n",
      "Warning: Prediction file dan-carlson-oTQVwECws8o-unsplash_jpg.rf.2aaf5074a16c35262ac942e0176c077b.txt not found, skipping.\n",
      "Warning: Prediction file dan-carlson-oTQVwECws8o-unsplash_jpg.rf.5de7872439eaf9189ba27ba3af3eb9da.txt not found, skipping.\n",
      "Warning: Prediction file PXL_20250104_104232312_jpg.rf.1b96e41311eb5098b7ad952fd83195fd.txt not found, skipping.\n",
      "Warning: Prediction file PXL_20250104_104232312_jpg.rf.7bf6d7392d26c783e0da9af76c39820d.txt not found, skipping.\n",
      "Warning: Prediction file PXL_20250104_110255752_jpg.rf.eeee14e00ce68ec892e71ef8b159ecc8.txt not found, skipping.\n",
      "Warning: Prediction file PXL_20250104_110639010_jpg.rf.9fd98cfeddbb5894c29865acef74bef7.txt not found, skipping.\n",
      "Warning: Prediction file PXL_20250104_110639010_jpg.rf.e93a047f01e049ec1b7b278a66852335.txt not found, skipping.\n",
      "Warning: Prediction file PXL_20250104_110709833_jpg.rf.06a79adcd716a7f8e4480206f56e9b61.txt not found, skipping.\n",
      "Warning: Prediction file PXL_20250104_110709833_jpg.rf.839b25df34c6084d525059c79325d218.txt not found, skipping.\n",
      "Warning: Prediction file PXL_20250104_110709833_jpg.rf.ee933a100160a116943e8c153a24ee88.txt not found, skipping.\n",
      "Warning: Prediction file PXL_20250104_110808816_jpg.rf.03a4a90d7631edbff0f59668df4d3d79.txt not found, skipping.\n",
      "Warning: Prediction file PXL_20250104_110808816_jpg.rf.ca382edae8c67d8cece2083228beccf2.txt not found, skipping.\n",
      "Warning: Prediction file PXL_20250104_110949174_jpg.rf.34020cb985ab3d24c8bbe5d389bc685a.txt not found, skipping.\n",
      "Warning: Prediction file PXL_20250104_110949174_jpg.rf.401c9ccb0d46d42196d798315008669a.txt not found, skipping.\n",
      "Warning: Prediction file PXL_20250104_110949174_jpg.rf.ebe88703c27c5d7c27c2f74eefd57adc.txt not found, skipping.\n",
      "Warning: Prediction file PXL_20250104_111039386_jpg.rf.216a1c060205e77fed7ad2ff6629e269.txt not found, skipping.\n",
      "Warning: Prediction file PXL_20250104_111039386_jpg.rf.4eddccc78ae8b22585b91f74be448c22.txt not found, skipping.\n",
      "Warning: Prediction file PXL_20250104_111126627_jpg.rf.3b2136e51a78e265211f676ec1502374.txt not found, skipping.\n",
      "Warning: Prediction file PXL_20250104_111126627_jpg.rf.6fdf4942da2c6ab478578b988cccfe4b.txt not found, skipping.\n",
      "Warning: Prediction file PXL_20250104_111157856_jpg.rf.0382819ea064f88d1f862dc26b680443.txt not found, skipping.\n",
      "Warning: Prediction file PXL_20250104_111157856_jpg.rf.1fa68da3affe5ffeb36790f3256a0213.txt not found, skipping.\n",
      "Warning: Prediction file PXL_20250104_111157856_jpg.rf.fdfe3af2df21f2a4b4dbbcae1b0ac51a.txt not found, skipping.\n",
      "Warning: Prediction file PXL_20250104_111348005_jpg.rf.645e7d1fc37f4715ba07a5d858202777.txt not found, skipping.\n",
      "Warning: Prediction file PXL_20250104_111348005_jpg.rf.ed3b4eebf36faf247f88d3ed30bfe4da.txt not found, skipping.\n",
      "Warning: Prediction file PXL_20250104_112000406_jpg.rf.25f7d53f1cac8053960e9dc857956ac7.txt not found, skipping.\n",
      "Warning: Prediction file PXL_20250104_112000406_jpg.rf.9b692d81879abc19a4b8abb0f2380813.txt not found, skipping.\n",
      "Warning: Prediction file PXL_20250104_112000406_jpg.rf.a5a9067fdb2148f5c2ac648fdbc9b764.txt not found, skipping.\n",
      "Warning: Prediction file PXL_20250104_112212937_jpg.rf.2c0065055abb05f6633a881d2465b6c2.txt not found, skipping.\n",
      "Warning: Prediction file PXL_20250104_112212937_jpg.rf.9d3d8714d199627375a3bf6ceb05270d.txt not found, skipping.\n",
      "Warning: Prediction file PXL_20250104_112212937_jpg.rf.f9dffd45e91e9d89b19db23d6bd5fe53.txt not found, skipping.\n",
      "Warning: Prediction file PXL_20250104_112356524_jpg.rf.b2e7116785faa42975d402c916ba3bd1.txt not found, skipping.\n",
      "Warning: Prediction file PXL_20250104_112356524_jpg.rf.f01b3b72cc33f3f8d8d824bcf1fd8308.txt not found, skipping.\n",
      "Warning: Prediction file PXL_20250104_112427087_jpg.rf.0770c651bbb065f576bee15972355e7c.txt not found, skipping.\n",
      "Warning: Prediction file PXL_20250104_112637451_jpg.rf.8d0fa19c9d10b805089c488473873fc4.txt not found, skipping.\n",
      "Warning: Prediction file PXL_20250104_112637451_jpg.rf.b79c468e2ce77e063cebe46f91a954bd.txt not found, skipping.\n",
      "Warning: Prediction file PXL_20250104_112812159_jpg.rf.19ba72796d767975d3c6bdab376c0d0c.txt not found, skipping.\n",
      "Warning: Prediction file PXL_20250104_112812159_jpg.rf.9bc6536ef577af455a98d7b575b01b6a.txt not found, skipping.\n",
      "Warning: Prediction file PXL_20250104_112812159_jpg.rf.a446391c9b4705350bcaa1f88235feac.txt not found, skipping.\n",
      "Warning: Prediction file dan-carlson-oTQVwECws8o-unsplash_jpg.rf.08d5c8012ff5a11e0cc2ebd8c364f0b6.txt not found, skipping.\n",
      "Warning: Prediction file dan-carlson-oTQVwECws8o-unsplash_jpg.rf.2aaf5074a16c35262ac942e0176c077b.txt not found, skipping.\n",
      "Warning: Prediction file dan-carlson-oTQVwECws8o-unsplash_jpg.rf.5de7872439eaf9189ba27ba3af3eb9da.txt not found, skipping.\n",
      "Warning: Prediction file PXL_20250104_104232312_jpg.rf.1b96e41311eb5098b7ad952fd83195fd.txt not found, skipping.\n",
      "Warning: Prediction file PXL_20250104_104232312_jpg.rf.7bf6d7392d26c783e0da9af76c39820d.txt not found, skipping.\n",
      "Warning: Prediction file PXL_20250104_110255752_jpg.rf.eeee14e00ce68ec892e71ef8b159ecc8.txt not found, skipping.\n",
      "Warning: Prediction file PXL_20250104_110639010_jpg.rf.9fd98cfeddbb5894c29865acef74bef7.txt not found, skipping.\n",
      "Warning: Prediction file PXL_20250104_110639010_jpg.rf.e93a047f01e049ec1b7b278a66852335.txt not found, skipping.\n",
      "Warning: Prediction file PXL_20250104_110709833_jpg.rf.06a79adcd716a7f8e4480206f56e9b61.txt not found, skipping.\n",
      "Warning: Prediction file PXL_20250104_110709833_jpg.rf.839b25df34c6084d525059c79325d218.txt not found, skipping.\n",
      "Warning: Prediction file PXL_20250104_110709833_jpg.rf.ee933a100160a116943e8c153a24ee88.txt not found, skipping.\n",
      "Warning: Prediction file PXL_20250104_110808816_jpg.rf.03a4a90d7631edbff0f59668df4d3d79.txt not found, skipping.\n",
      "Warning: Prediction file PXL_20250104_110808816_jpg.rf.ca382edae8c67d8cece2083228beccf2.txt not found, skipping.\n",
      "Warning: Prediction file PXL_20250104_110949174_jpg.rf.34020cb985ab3d24c8bbe5d389bc685a.txt not found, skipping.\n",
      "Warning: Prediction file PXL_20250104_110949174_jpg.rf.401c9ccb0d46d42196d798315008669a.txt not found, skipping.\n",
      "Warning: Prediction file PXL_20250104_110949174_jpg.rf.ebe88703c27c5d7c27c2f74eefd57adc.txt not found, skipping.\n",
      "Warning: Prediction file PXL_20250104_111039386_jpg.rf.216a1c060205e77fed7ad2ff6629e269.txt not found, skipping.\n",
      "Warning: Prediction file PXL_20250104_111039386_jpg.rf.4eddccc78ae8b22585b91f74be448c22.txt not found, skipping.\n",
      "Warning: Prediction file PXL_20250104_111126627_jpg.rf.3b2136e51a78e265211f676ec1502374.txt not found, skipping.\n",
      "Warning: Prediction file PXL_20250104_111126627_jpg.rf.6fdf4942da2c6ab478578b988cccfe4b.txt not found, skipping.\n",
      "Warning: Prediction file PXL_20250104_111157856_jpg.rf.0382819ea064f88d1f862dc26b680443.txt not found, skipping.\n",
      "Warning: Prediction file PXL_20250104_111157856_jpg.rf.1fa68da3affe5ffeb36790f3256a0213.txt not found, skipping.\n",
      "Warning: Prediction file PXL_20250104_111157856_jpg.rf.fdfe3af2df21f2a4b4dbbcae1b0ac51a.txt not found, skipping.\n",
      "Warning: Prediction file PXL_20250104_111348005_jpg.rf.645e7d1fc37f4715ba07a5d858202777.txt not found, skipping.\n",
      "Warning: Prediction file PXL_20250104_111348005_jpg.rf.ed3b4eebf36faf247f88d3ed30bfe4da.txt not found, skipping.\n",
      "Warning: Prediction file PXL_20250104_112000406_jpg.rf.25f7d53f1cac8053960e9dc857956ac7.txt not found, skipping.\n",
      "Warning: Prediction file PXL_20250104_112000406_jpg.rf.9b692d81879abc19a4b8abb0f2380813.txt not found, skipping.\n",
      "Warning: Prediction file PXL_20250104_112000406_jpg.rf.a5a9067fdb2148f5c2ac648fdbc9b764.txt not found, skipping.\n",
      "Warning: Prediction file PXL_20250104_112212937_jpg.rf.2c0065055abb05f6633a881d2465b6c2.txt not found, skipping.\n",
      "Warning: Prediction file PXL_20250104_112212937_jpg.rf.9d3d8714d199627375a3bf6ceb05270d.txt not found, skipping.\n",
      "Warning: Prediction file PXL_20250104_112212937_jpg.rf.f9dffd45e91e9d89b19db23d6bd5fe53.txt not found, skipping.\n",
      "Warning: Prediction file PXL_20250104_112356524_jpg.rf.b2e7116785faa42975d402c916ba3bd1.txt not found, skipping.\n",
      "Warning: Prediction file PXL_20250104_112356524_jpg.rf.f01b3b72cc33f3f8d8d824bcf1fd8308.txt not found, skipping.\n",
      "Warning: Prediction file PXL_20250104_112427087_jpg.rf.0770c651bbb065f576bee15972355e7c.txt not found, skipping.\n",
      "Warning: Prediction file PXL_20250104_112637451_jpg.rf.8d0fa19c9d10b805089c488473873fc4.txt not found, skipping.\n",
      "Warning: Prediction file PXL_20250104_112637451_jpg.rf.b79c468e2ce77e063cebe46f91a954bd.txt not found, skipping.\n",
      "Warning: Prediction file PXL_20250104_112812159_jpg.rf.19ba72796d767975d3c6bdab376c0d0c.txt not found, skipping.\n",
      "Warning: Prediction file PXL_20250104_112812159_jpg.rf.9bc6536ef577af455a98d7b575b01b6a.txt not found, skipping.\n",
      "Warning: Prediction file PXL_20250104_112812159_jpg.rf.a446391c9b4705350bcaa1f88235feac.txt not found, skipping.\n",
      "Warning: Prediction file dan-carlson-oTQVwECws8o-unsplash_jpg.rf.08d5c8012ff5a11e0cc2ebd8c364f0b6.txt not found, skipping.\n",
      "Warning: Prediction file dan-carlson-oTQVwECws8o-unsplash_jpg.rf.2aaf5074a16c35262ac942e0176c077b.txt not found, skipping.\n",
      "Warning: Prediction file dan-carlson-oTQVwECws8o-unsplash_jpg.rf.5de7872439eaf9189ba27ba3af3eb9da.txt not found, skipping.\n",
      "Warning: Prediction file PXL_20250104_104232312_jpg.rf.1b96e41311eb5098b7ad952fd83195fd.txt not found, skipping.\n",
      "Warning: Prediction file PXL_20250104_104232312_jpg.rf.7bf6d7392d26c783e0da9af76c39820d.txt not found, skipping.\n",
      "Warning: Prediction file PXL_20250104_110255752_jpg.rf.eeee14e00ce68ec892e71ef8b159ecc8.txt not found, skipping.\n",
      "Warning: Prediction file PXL_20250104_110639010_jpg.rf.9fd98cfeddbb5894c29865acef74bef7.txt not found, skipping.\n",
      "Warning: Prediction file PXL_20250104_110639010_jpg.rf.e93a047f01e049ec1b7b278a66852335.txt not found, skipping.\n",
      "Warning: Prediction file PXL_20250104_110709833_jpg.rf.06a79adcd716a7f8e4480206f56e9b61.txt not found, skipping.\n",
      "Warning: Prediction file PXL_20250104_110709833_jpg.rf.839b25df34c6084d525059c79325d218.txt not found, skipping.\n",
      "Warning: Prediction file PXL_20250104_110709833_jpg.rf.ee933a100160a116943e8c153a24ee88.txt not found, skipping.\n",
      "Warning: Prediction file PXL_20250104_110808816_jpg.rf.03a4a90d7631edbff0f59668df4d3d79.txt not found, skipping.\n",
      "Warning: Prediction file PXL_20250104_110808816_jpg.rf.ca382edae8c67d8cece2083228beccf2.txt not found, skipping.\n",
      "Warning: Prediction file PXL_20250104_110949174_jpg.rf.34020cb985ab3d24c8bbe5d389bc685a.txt not found, skipping.\n",
      "Warning: Prediction file PXL_20250104_110949174_jpg.rf.401c9ccb0d46d42196d798315008669a.txt not found, skipping.\n",
      "Warning: Prediction file PXL_20250104_110949174_jpg.rf.ebe88703c27c5d7c27c2f74eefd57adc.txt not found, skipping.\n",
      "Warning: Prediction file PXL_20250104_111039386_jpg.rf.216a1c060205e77fed7ad2ff6629e269.txt not found, skipping.\n",
      "Warning: Prediction file PXL_20250104_111039386_jpg.rf.4eddccc78ae8b22585b91f74be448c22.txt not found, skipping.\n",
      "Warning: Prediction file PXL_20250104_111126627_jpg.rf.3b2136e51a78e265211f676ec1502374.txt not found, skipping.\n",
      "Warning: Prediction file PXL_20250104_111126627_jpg.rf.6fdf4942da2c6ab478578b988cccfe4b.txt not found, skipping.\n",
      "Warning: Prediction file PXL_20250104_111157856_jpg.rf.0382819ea064f88d1f862dc26b680443.txt not found, skipping.\n",
      "Warning: Prediction file PXL_20250104_111157856_jpg.rf.1fa68da3affe5ffeb36790f3256a0213.txt not found, skipping.\n",
      "Warning: Prediction file PXL_20250104_111157856_jpg.rf.fdfe3af2df21f2a4b4dbbcae1b0ac51a.txt not found, skipping.\n",
      "Warning: Prediction file PXL_20250104_111348005_jpg.rf.645e7d1fc37f4715ba07a5d858202777.txt not found, skipping.\n",
      "Warning: Prediction file PXL_20250104_111348005_jpg.rf.ed3b4eebf36faf247f88d3ed30bfe4da.txt not found, skipping.\n",
      "Warning: Prediction file PXL_20250104_112000406_jpg.rf.25f7d53f1cac8053960e9dc857956ac7.txt not found, skipping.\n",
      "Warning: Prediction file PXL_20250104_112000406_jpg.rf.9b692d81879abc19a4b8abb0f2380813.txt not found, skipping.\n",
      "Warning: Prediction file PXL_20250104_112000406_jpg.rf.a5a9067fdb2148f5c2ac648fdbc9b764.txt not found, skipping.\n",
      "Warning: Prediction file PXL_20250104_112212937_jpg.rf.2c0065055abb05f6633a881d2465b6c2.txt not found, skipping.\n",
      "Warning: Prediction file PXL_20250104_112212937_jpg.rf.9d3d8714d199627375a3bf6ceb05270d.txt not found, skipping.\n",
      "Warning: Prediction file PXL_20250104_112212937_jpg.rf.f9dffd45e91e9d89b19db23d6bd5fe53.txt not found, skipping.\n",
      "Warning: Prediction file PXL_20250104_112356524_jpg.rf.b2e7116785faa42975d402c916ba3bd1.txt not found, skipping.\n",
      "Warning: Prediction file PXL_20250104_112356524_jpg.rf.f01b3b72cc33f3f8d8d824bcf1fd8308.txt not found, skipping.\n",
      "Warning: Prediction file PXL_20250104_112427087_jpg.rf.0770c651bbb065f576bee15972355e7c.txt not found, skipping.\n",
      "Warning: Prediction file PXL_20250104_112637451_jpg.rf.8d0fa19c9d10b805089c488473873fc4.txt not found, skipping.\n",
      "Warning: Prediction file PXL_20250104_112637451_jpg.rf.b79c468e2ce77e063cebe46f91a954bd.txt not found, skipping.\n",
      "Warning: Prediction file PXL_20250104_112812159_jpg.rf.19ba72796d767975d3c6bdab376c0d0c.txt not found, skipping.\n",
      "Warning: Prediction file PXL_20250104_112812159_jpg.rf.9bc6536ef577af455a98d7b575b01b6a.txt not found, skipping.\n",
      "Warning: Prediction file PXL_20250104_112812159_jpg.rf.a446391c9b4705350bcaa1f88235feac.txt not found, skipping.\n",
      "Warning: Prediction file dan-carlson-oTQVwECws8o-unsplash_jpg.rf.08d5c8012ff5a11e0cc2ebd8c364f0b6.txt not found, skipping.\n",
      "Warning: Prediction file dan-carlson-oTQVwECws8o-unsplash_jpg.rf.2aaf5074a16c35262ac942e0176c077b.txt not found, skipping.\n",
      "Warning: Prediction file dan-carlson-oTQVwECws8o-unsplash_jpg.rf.5de7872439eaf9189ba27ba3af3eb9da.txt not found, skipping.\n",
      "Warning: Prediction file PXL_20250104_104232312_jpg.rf.1b96e41311eb5098b7ad952fd83195fd.txt not found, skipping.\n",
      "Warning: Prediction file PXL_20250104_104232312_jpg.rf.7bf6d7392d26c783e0da9af76c39820d.txt not found, skipping.\n",
      "Warning: Prediction file PXL_20250104_110255752_jpg.rf.eeee14e00ce68ec892e71ef8b159ecc8.txt not found, skipping.\n",
      "Warning: Prediction file PXL_20250104_110639010_jpg.rf.9fd98cfeddbb5894c29865acef74bef7.txt not found, skipping.\n",
      "Warning: Prediction file PXL_20250104_110639010_jpg.rf.e93a047f01e049ec1b7b278a66852335.txt not found, skipping.\n",
      "Warning: Prediction file PXL_20250104_110709833_jpg.rf.06a79adcd716a7f8e4480206f56e9b61.txt not found, skipping.\n",
      "Warning: Prediction file PXL_20250104_110709833_jpg.rf.839b25df34c6084d525059c79325d218.txt not found, skipping.\n",
      "Warning: Prediction file PXL_20250104_110709833_jpg.rf.ee933a100160a116943e8c153a24ee88.txt not found, skipping.\n",
      "Warning: Prediction file PXL_20250104_110808816_jpg.rf.03a4a90d7631edbff0f59668df4d3d79.txt not found, skipping.\n",
      "Warning: Prediction file PXL_20250104_110808816_jpg.rf.ca382edae8c67d8cece2083228beccf2.txt not found, skipping.\n",
      "Warning: Prediction file PXL_20250104_110949174_jpg.rf.34020cb985ab3d24c8bbe5d389bc685a.txt not found, skipping.\n",
      "Warning: Prediction file PXL_20250104_110949174_jpg.rf.401c9ccb0d46d42196d798315008669a.txt not found, skipping.\n",
      "Warning: Prediction file PXL_20250104_110949174_jpg.rf.ebe88703c27c5d7c27c2f74eefd57adc.txt not found, skipping.\n",
      "Warning: Prediction file PXL_20250104_111039386_jpg.rf.216a1c060205e77fed7ad2ff6629e269.txt not found, skipping.\n",
      "Warning: Prediction file PXL_20250104_111039386_jpg.rf.4eddccc78ae8b22585b91f74be448c22.txt not found, skipping.\n",
      "Warning: Prediction file PXL_20250104_111126627_jpg.rf.3b2136e51a78e265211f676ec1502374.txt not found, skipping.\n",
      "Warning: Prediction file PXL_20250104_111126627_jpg.rf.6fdf4942da2c6ab478578b988cccfe4b.txt not found, skipping.\n",
      "Warning: Prediction file PXL_20250104_111157856_jpg.rf.0382819ea064f88d1f862dc26b680443.txt not found, skipping.\n",
      "Warning: Prediction file PXL_20250104_111157856_jpg.rf.1fa68da3affe5ffeb36790f3256a0213.txt not found, skipping.\n",
      "Warning: Prediction file PXL_20250104_111157856_jpg.rf.fdfe3af2df21f2a4b4dbbcae1b0ac51a.txt not found, skipping.\n",
      "Warning: Prediction file PXL_20250104_111348005_jpg.rf.645e7d1fc37f4715ba07a5d858202777.txt not found, skipping.\n",
      "Warning: Prediction file PXL_20250104_111348005_jpg.rf.ed3b4eebf36faf247f88d3ed30bfe4da.txt not found, skipping.\n",
      "Warning: Prediction file PXL_20250104_112000406_jpg.rf.25f7d53f1cac8053960e9dc857956ac7.txt not found, skipping.\n",
      "Warning: Prediction file PXL_20250104_112000406_jpg.rf.9b692d81879abc19a4b8abb0f2380813.txt not found, skipping.\n",
      "Warning: Prediction file PXL_20250104_112000406_jpg.rf.a5a9067fdb2148f5c2ac648fdbc9b764.txt not found, skipping.\n",
      "Warning: Prediction file PXL_20250104_112212937_jpg.rf.2c0065055abb05f6633a881d2465b6c2.txt not found, skipping.\n",
      "Warning: Prediction file PXL_20250104_112212937_jpg.rf.9d3d8714d199627375a3bf6ceb05270d.txt not found, skipping.\n",
      "Warning: Prediction file PXL_20250104_112212937_jpg.rf.f9dffd45e91e9d89b19db23d6bd5fe53.txt not found, skipping.\n",
      "Warning: Prediction file PXL_20250104_112356524_jpg.rf.b2e7116785faa42975d402c916ba3bd1.txt not found, skipping.\n",
      "Warning: Prediction file PXL_20250104_112356524_jpg.rf.f01b3b72cc33f3f8d8d824bcf1fd8308.txt not found, skipping.\n",
      "Warning: Prediction file PXL_20250104_112427087_jpg.rf.0770c651bbb065f576bee15972355e7c.txt not found, skipping.\n",
      "Warning: Prediction file PXL_20250104_112637451_jpg.rf.8d0fa19c9d10b805089c488473873fc4.txt not found, skipping.\n",
      "Warning: Prediction file PXL_20250104_112637451_jpg.rf.b79c468e2ce77e063cebe46f91a954bd.txt not found, skipping.\n",
      "Warning: Prediction file PXL_20250104_112812159_jpg.rf.19ba72796d767975d3c6bdab376c0d0c.txt not found, skipping.\n",
      "Warning: Prediction file PXL_20250104_112812159_jpg.rf.9bc6536ef577af455a98d7b575b01b6a.txt not found, skipping.\n",
      "Warning: Prediction file PXL_20250104_112812159_jpg.rf.a446391c9b4705350bcaa1f88235feac.txt not found, skipping.\n",
      "Warning: Prediction file dan-carlson-oTQVwECws8o-unsplash_jpg.rf.08d5c8012ff5a11e0cc2ebd8c364f0b6.txt not found, skipping.\n",
      "Warning: Prediction file dan-carlson-oTQVwECws8o-unsplash_jpg.rf.2aaf5074a16c35262ac942e0176c077b.txt not found, skipping.\n",
      "Warning: Prediction file dan-carlson-oTQVwECws8o-unsplash_jpg.rf.5de7872439eaf9189ba27ba3af3eb9da.txt not found, skipping.\n",
      "Warning: Prediction file PXL_20250104_104232312_jpg.rf.1b96e41311eb5098b7ad952fd83195fd.txt not found, skipping.\n",
      "Warning: Prediction file PXL_20250104_104232312_jpg.rf.7bf6d7392d26c783e0da9af76c39820d.txt not found, skipping.\n",
      "Warning: Prediction file PXL_20250104_110255752_jpg.rf.eeee14e00ce68ec892e71ef8b159ecc8.txt not found, skipping.\n",
      "Warning: Prediction file PXL_20250104_110639010_jpg.rf.9fd98cfeddbb5894c29865acef74bef7.txt not found, skipping.\n",
      "Warning: Prediction file PXL_20250104_110639010_jpg.rf.e93a047f01e049ec1b7b278a66852335.txt not found, skipping.\n",
      "Warning: Prediction file PXL_20250104_110709833_jpg.rf.06a79adcd716a7f8e4480206f56e9b61.txt not found, skipping.\n",
      "Warning: Prediction file PXL_20250104_110709833_jpg.rf.839b25df34c6084d525059c79325d218.txt not found, skipping.\n",
      "Warning: Prediction file PXL_20250104_110709833_jpg.rf.ee933a100160a116943e8c153a24ee88.txt not found, skipping.\n",
      "Warning: Prediction file PXL_20250104_110808816_jpg.rf.03a4a90d7631edbff0f59668df4d3d79.txt not found, skipping.\n",
      "Warning: Prediction file PXL_20250104_110808816_jpg.rf.ca382edae8c67d8cece2083228beccf2.txt not found, skipping.\n",
      "Warning: Prediction file PXL_20250104_110949174_jpg.rf.34020cb985ab3d24c8bbe5d389bc685a.txt not found, skipping.\n",
      "Warning: Prediction file PXL_20250104_110949174_jpg.rf.401c9ccb0d46d42196d798315008669a.txt not found, skipping.\n",
      "Warning: Prediction file PXL_20250104_110949174_jpg.rf.ebe88703c27c5d7c27c2f74eefd57adc.txt not found, skipping.\n",
      "Warning: Prediction file PXL_20250104_111039386_jpg.rf.216a1c060205e77fed7ad2ff6629e269.txt not found, skipping.\n",
      "Warning: Prediction file PXL_20250104_111039386_jpg.rf.4eddccc78ae8b22585b91f74be448c22.txt not found, skipping.\n",
      "Warning: Prediction file PXL_20250104_111126627_jpg.rf.3b2136e51a78e265211f676ec1502374.txt not found, skipping.\n",
      "Warning: Prediction file PXL_20250104_111126627_jpg.rf.6fdf4942da2c6ab478578b988cccfe4b.txt not found, skipping.\n",
      "Warning: Prediction file PXL_20250104_111157856_jpg.rf.0382819ea064f88d1f862dc26b680443.txt not found, skipping.\n",
      "Warning: Prediction file PXL_20250104_111157856_jpg.rf.1fa68da3affe5ffeb36790f3256a0213.txt not found, skipping.\n",
      "Warning: Prediction file PXL_20250104_111157856_jpg.rf.fdfe3af2df21f2a4b4dbbcae1b0ac51a.txt not found, skipping.\n",
      "Warning: Prediction file PXL_20250104_111348005_jpg.rf.645e7d1fc37f4715ba07a5d858202777.txt not found, skipping.\n",
      "Warning: Prediction file PXL_20250104_111348005_jpg.rf.ed3b4eebf36faf247f88d3ed30bfe4da.txt not found, skipping.\n",
      "Warning: Prediction file PXL_20250104_112000406_jpg.rf.25f7d53f1cac8053960e9dc857956ac7.txt not found, skipping.\n",
      "Warning: Prediction file PXL_20250104_112000406_jpg.rf.9b692d81879abc19a4b8abb0f2380813.txt not found, skipping.\n",
      "Warning: Prediction file PXL_20250104_112000406_jpg.rf.a5a9067fdb2148f5c2ac648fdbc9b764.txt not found, skipping.\n",
      "Warning: Prediction file PXL_20250104_112212937_jpg.rf.2c0065055abb05f6633a881d2465b6c2.txt not found, skipping.\n",
      "Warning: Prediction file PXL_20250104_112212937_jpg.rf.9d3d8714d199627375a3bf6ceb05270d.txt not found, skipping.\n",
      "Warning: Prediction file PXL_20250104_112212937_jpg.rf.f9dffd45e91e9d89b19db23d6bd5fe53.txt not found, skipping.\n",
      "Warning: Prediction file PXL_20250104_112356524_jpg.rf.b2e7116785faa42975d402c916ba3bd1.txt not found, skipping.\n",
      "Warning: Prediction file PXL_20250104_112356524_jpg.rf.f01b3b72cc33f3f8d8d824bcf1fd8308.txt not found, skipping.\n",
      "Warning: Prediction file PXL_20250104_112427087_jpg.rf.0770c651bbb065f576bee15972355e7c.txt not found, skipping.\n",
      "Warning: Prediction file PXL_20250104_112637451_jpg.rf.8d0fa19c9d10b805089c488473873fc4.txt not found, skipping.\n",
      "Warning: Prediction file PXL_20250104_112637451_jpg.rf.b79c468e2ce77e063cebe46f91a954bd.txt not found, skipping.\n",
      "Warning: Prediction file PXL_20250104_112812159_jpg.rf.19ba72796d767975d3c6bdab376c0d0c.txt not found, skipping.\n",
      "Warning: Prediction file PXL_20250104_112812159_jpg.rf.9bc6536ef577af455a98d7b575b01b6a.txt not found, skipping.\n",
      "Warning: Prediction file PXL_20250104_112812159_jpg.rf.a446391c9b4705350bcaa1f88235feac.txt not found, skipping.\n",
      "mAP@50: 0.1382\n",
      "mAP@50-95: 0.0605\n"
     ]
    }
   ],
   "source": [
    "import os\n",
    "import glob\n",
    "import numpy as np\n",
    "from sklearn.metrics import average_precision_score\n",
    "\n",
    "# Define paths\n",
    "ground_truth_path = \"C:/Users/bhavy/Downloads/yolov8/train/labels\"\n",
    "predicted_path = \"runs/detect/hybrid1/labels\"\n",
    "\n",
    "# Initialize lists to store AP values\n",
    "AP_50 = []\n",
    "AP_50_95 = []\n",
    "\n",
    "IoU_thresholds = np.arange(0.5, 1.0, 0.05)  # 0.5 to 0.95 with step 0.05\n",
    "\n",
    "# Function to compute IoU\n",
    "def compute_iou(box1, box2):\n",
    "    x1, y1, w1, h1 = box1[1:5]\n",
    "    x2, y2, w2, h2 = box2[1:5]\n",
    "\n",
    "    box1 = [x1 - w1/2, y1 - h1/2, x1 + w1/2, y1 + h1/2]\n",
    "    box2 = [x2 - w2/2, y2 - h2/2, x2 + w2/2, y2 + h2/2]\n",
    "\n",
    "    xi1, yi1 = max(box1[0], box2[0]), max(box1[1], box2[1])\n",
    "    xi2, yi2 = min(box1[2], box2[2]), min(box1[3], box2[3])\n",
    "    inter_area = max(0, xi2 - xi1) * max(0, yi2 - yi1)\n",
    "\n",
    "    box1_area = w1 * h1\n",
    "    box2_area = w2 * h2\n",
    "    union_area = box1_area + box2_area - inter_area\n",
    "\n",
    "    return inter_area / union_area if union_area else 0\n",
    "\n",
    "# Loop over different IoU thresholds\n",
    "for iou_thresh in IoU_thresholds:\n",
    "    TP_iou, FP_iou, FN_iou = 0, 0, 0\n",
    "\n",
    "    for gt_file in glob.glob(f\"{ground_truth_path}/*.txt\"):\n",
    "        file_name = os.path.basename(gt_file)\n",
    "        pred_file = f\"{predicted_path}/{file_name}\"\n",
    "\n",
    "        # Check if prediction file exists\n",
    "        if not os.path.exists(pred_file):\n",
    "            print(f\"Warning: Prediction file {file_name} not found, skipping.\")\n",
    "            continue  # Skip to the next file\n",
    "\n",
    "        # Load ground truth and prediction boxes\n",
    "        gt_boxes = np.loadtxt(gt_file, ndmin=2)  # Ensure 2D array even if empty\n",
    "        pred_boxes = np.loadtxt(pred_file, ndmin=2) if os.path.getsize(pred_file) > 0 else np.empty((0, 5))\n",
    "\n",
    "        matched = []\n",
    "        for gt_box in gt_boxes:\n",
    "            best_iou, best_pred_idx = 0, -1\n",
    "            for i, pred_box in enumerate(pred_boxes):\n",
    "                if i in matched or gt_box[0] != pred_box[0]:  # Class should match\n",
    "                    continue\n",
    "                iou = compute_iou(gt_box, pred_box)\n",
    "                if iou > best_iou:\n",
    "                    best_iou, best_pred_idx = iou, i\n",
    "            if best_iou >= iou_thresh:\n",
    "                TP_iou += 1\n",
    "                matched.append(best_pred_idx)\n",
    "            else:\n",
    "                FN_iou += 1\n",
    "\n",
    "        FP_iou += len(pred_boxes) - len(matched)\n",
    "\n",
    "    # Compute precision, recall, AP\n",
    "    precision_iou = TP_iou / (TP_iou + FP_iou) if (TP_iou + FP_iou) else 0\n",
    "    recall_iou = TP_iou / (TP_iou + FN_iou) if (TP_iou + FN_iou) else 0\n",
    "    ap_iou = precision_iou * recall_iou if TP_iou else 0  # Approximate AP\n",
    "\n",
    "    if iou_thresh == 0.5:\n",
    "        AP_50.append(ap_iou)  # Store AP at IoU=0.5\n",
    "    AP_50_95.append(ap_iou)  # Store AP for all IoU values\n",
    "\n",
    "# Compute final mAP scores\n",
    "mAP_50 = np.mean(AP_50)\n",
    "mAP_50_95 = np.mean(AP_50_95)\n",
    "\n",
    "print(f\"mAP@50: {mAP_50:.4f}\")\n",
    "print(f\"mAP@50-95: {mAP_50_95:.4f}\")\n"
   ]
  },
  {
   "cell_type": "code",
   "execution_count": null,
   "id": "e0cad33d",
   "metadata": {},
   "outputs": [],
   "source": []
  }
 ],
 "metadata": {
  "kernelspec": {
   "display_name": "Python 3 (ipykernel)",
   "language": "python",
   "name": "python3"
  },
  "language_info": {
   "codemirror_mode": {
    "name": "ipython",
    "version": 3
   },
   "file_extension": ".py",
   "mimetype": "text/x-python",
   "name": "python",
   "nbconvert_exporter": "python",
   "pygments_lexer": "ipython3",
   "version": "3.11.5"
  }
 },
 "nbformat": 4,
 "nbformat_minor": 5
}
